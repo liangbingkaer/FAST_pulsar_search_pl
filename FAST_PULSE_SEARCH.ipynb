{
 "cells": [
  {
   "cell_type": "code",
   "execution_count": 1,
   "metadata": {},
   "outputs": [],
   "source": [
    "#!/usr/bin/env python3\n",
    "\"\"\"\n",
    "Created on 2025.3.1\n",
    "@author: Long Peng\n",
    "@web page: https://www.plxray.cn/\n",
    "qq:2107053791\n",
    "\n",
    "FAST射电脉冲搜寻主程序\n",
    "\"\"\"\n",
    "\n",
    "import os,sys\n",
    "import numpy as np\n",
    "from psr_fuc import *\n",
    "from multiprocessing import Pool, cpu_count\n",
    "from tqdm import tqdm\n",
    "import functools\n",
    "from datetime import datetime\n",
    "import ast\n",
    "import json\n",
    "\n",
    "try:\n",
    "    from presto import filterbank, infodata, parfile, psr_utils, psrfits, rfifind, sifting\n",
    "except:\n",
    "    print(\"\\n错误：无法加载 PRESTO 的 Python 模块！\")\n",
    "    print(\"请确保您的 PRESTO Python 模块已正确安装并可以正常使用。\\n\")\n",
    "    exit()\n",
    "\n",
    "import warnings\n",
    "from multiprocessing.pool import ThreadPool\n",
    "warnings.simplefilter('ignore', UserWarning)\n",
    "\n",
    "class colors:\n",
    "    HEADER = '\\033[95m'      # 亮紫色（Magenta），通常用于标题或重要提示\n",
    "    OKBLUE = '\\033[94m'      # 亮蓝色，用于正常信息或状态提示（运行各类程序）\n",
    "    OKCYAN = '\\033[96m'      # 亮青色（Cyan），用于正常信息或状态提示\n",
    "    OKGREEN = '\\033[92m'     # 亮绿色，通常用于表示成功或正常状态 （打印运行成功）\n",
    "    WARNING = '\\033[93m'     # 亮黄色，用于警告信息\n",
    "    ERROR = '\\033[91m'       # 亮红色，用于错误信息\n",
    "    BOLD = '\\033[1m'         # 加粗文本（不改变颜色），使文本更突出\n",
    "    ENDC = '\\033[0m'         # 重置文本格式（包括颜色和加粗等），恢复默认显示"
   ]
  },
  {
   "cell_type": "code",
   "execution_count": 2,
   "metadata": {},
   "outputs": [],
   "source": [
    "##读取星历表文件时有用\n",
    "class Pulsar(object):\n",
    "    def __init__(self, parfilename):\n",
    "        LIGHT_SPEED = 2.99792458e10  \n",
    "        pulsar_parfile = parfile.psr_par(parfilename)\n",
    "        self.parfilename = parfilename  \n",
    "        if hasattr(pulsar_parfile, 'PSR'):\n",
    "            self.psr_name = pulsar_parfile.PSR\n",
    "        elif hasattr(pulsar_parfile, 'PSRJ'):\n",
    "            self.psr_name = pulsar_parfile.PSRJ\n",
    "\n",
    "        self.PEPOCH = pulsar_parfile.PEPOCH\n",
    "        self.F0 = pulsar_parfile.F0\n",
    "        self.P0_s = 1. / self.F0\n",
    "        self.P0_ms = self.P0_s * 1000\n",
    "\n",
    "        if hasattr(pulsar_parfile, 'F1'):\n",
    "            self.F1 = pulsar_parfile.F1\n",
    "        else:\n",
    "            self.F1 = 0\n",
    "        if hasattr(pulsar_parfile, 'F2'):\n",
    "            self.F2 = pulsar_parfile.F2\n",
    "        else:\n",
    "            self.F2 = 0\n",
    "\n",
    "        self.is_binary = hasattr(pulsar_parfile, 'BINARY')\n",
    "\n",
    "        if self.is_binary:\n",
    "            self.pulsar_type = \"binary\"  # 标记为双星系统\n",
    "            self.binary_model = pulsar_parfile.BINARY  # 获取双星模型\n",
    "\n",
    "            # 1) 轨道周期\n",
    "            if hasattr(pulsar_parfile, 'PB'):\n",
    "                self.Pb_d = pulsar_parfile.PB  # 轨道周期（天）\n",
    "                self.Pb_s = self.Pb_d * 86400  # 轨道周期（秒）\n",
    "                self.Fb0 = 1. / self.Pb_s  # 轨道频率\n",
    "            elif hasattr(pulsar_parfile, 'FB0'):\n",
    "                self.Fb0 = pulsar_parfile.FB0  # 轨道频率\n",
    "                self.Pb_s = 1. / self.Fb0  # 轨道周期（秒）\n",
    "                self.Pb_d = self.Pb_s / 86400.  # 轨道周期（天）\n",
    "\n",
    "            # 2) 脉冲星轨道的投影半长轴\n",
    "            self.x_p_lts = pulsar_parfile.A1  # 单位：光秒\n",
    "            self.x_p_cm = pulsar_parfile.A1 * LIGHT_SPEED  # 单位：厘米\n",
    "\n",
    "            # 3) 轨道偏心率\n",
    "            if hasattr(pulsar_parfile, 'E'):\n",
    "                self.ecc = pulsar_parfile.E\n",
    "            elif hasattr(pulsar_parfile, 'ECC'):\n",
    "                self.ecc = pulsar_parfile.ECC\n",
    "            elif hasattr(pulsar_parfile, 'EPS1') and hasattr(pulsar_parfile, 'EPS2'):\n",
    "                self.eps1 = pulsar_parfile.EPS1\n",
    "                self.eps2 = pulsar_parfile.EPS2\n",
    "                self.ecc = np.sqrt(self.eps1**2 + self.eps2**2)\n",
    "            else:\n",
    "                self.ecc = 0\n",
    "\n",
    "            # 4) 近星点的经度\n",
    "            if hasattr(pulsar_parfile, 'OM'):\n",
    "                self.omega_p_deg = pulsar_parfile.OM  # 单位：度\n",
    "            else:\n",
    "                self.omega_p_deg = 0\n",
    "            self.omega_p_rad = self.omega_p_deg * np.pi / 180  # 单位：弧度\n",
    "\n",
    "            # 5) 近星点/升节点的过境时刻\n",
    "            if hasattr(pulsar_parfile, 'T0'):\n",
    "                self.T0 = pulsar_parfile.T0\n",
    "                self.Tasc = self.T0\n",
    "            elif hasattr(pulsar_parfile, 'TASC'):\n",
    "                self.Tasc = pulsar_parfile.TASC\n",
    "                self.T0 = self.Tasc\n",
    "\n",
    "            # 计算脉冲星在轨道上的最大视向速度\n",
    "            self.v_los_max = (2 * np.pi * self.x_p_cm / self.Pb_s)\n",
    "            # 计算多普勒因子\n",
    "            self.doppler_factor = self.v_los_max / LIGHT_SPEED\n",
    "\n",
    "        else:\n",
    "            # 如果脉冲星是孤立的\n",
    "            self.pulsar_type = \"isolated\"\n",
    "            self.v_los_max = 0\n",
    "            self.doppler_factor = 1e-4  # 考虑地球绕太阳运动引起的多普勒效应"
   ]
  },
  {
   "cell_type": "code",
   "execution_count": 3,
   "metadata": {},
   "outputs": [],
   "source": [
    "class Observation(object):\n",
    "    counter = 0  # 用于控制只打印第一个实例信息\n",
    "\n",
    "    def __init__(self, file_name, data_type=\"filterbank\"):\n",
    "        self.__class__.counter += 1\n",
    "        self.show_log = (self.__class__.counter == 1)\n",
    "\n",
    "        if self.show_log:\n",
    "            print_log(f\"\\n正在读取{file_name}文件的绝对路径、文件名和扩展名....\", color=colors.HEADER)\n",
    "        self.file_abspath = os.path.abspath(file_name)\n",
    "        self.file_nameonly = self.file_abspath.split(\"/\")[-1]\n",
    "        self.file_basename, self.file_extension = os.path.splitext(self.file_nameonly)\n",
    "        self.file_buffer_copy = \"\"\n",
    "\n",
    "        if data_type == \"filterbank\":\n",
    "            if self.show_log:\n",
    "                print_log(\"\\n正在读取filterbank文件....\", color=colors.HEADER)\n",
    "            try:\n",
    "                object_file = filterbank.FilterbankFile(self.file_abspath)\n",
    "                self.N_samples = object_file.nspec\n",
    "                self.t_samp_s = object_file.dt\n",
    "                self.T_obs_s = self.N_samples * self.t_samp_s\n",
    "                self.nbits = object_file.header['nbits']\n",
    "                self.nchan = object_file.nchan\n",
    "                self.chanbw_MHz = object_file.header['foff']\n",
    "                self.bw_MHz = self.nchan * self.chanbw_MHz\n",
    "                self.freq_central_MHz = object_file.header['fch1'] + object_file.header['foff'] * 0.5 * object_file.nchan\n",
    "                self.freq_high_MHz = np.amax(object_file.freqs)\n",
    "                self.freq_low_MHz = np.amin(object_file.freqs)\n",
    "                self.MJD_int = int(object_file.header['tstart'])\n",
    "                self.Tstart_MJD = object_file.header['tstart']\n",
    "                self.source_name = object_file.header['source_name'].strip()\n",
    "            except ValueError:\n",
    "                if self.show_log:\n",
    "                    print_log(\"警告：读取时出现值错误！尝试使用PRESTO的'readfile'获取必要信息...\", color=colors.WARNING), print()\n",
    "                try:\n",
    "                    self.N_samples = np.float64(readfile_with_str(f\"readfile {self.file_abspath}\", \"grep 'Spectra per file'\").split(\"=\")[-1].strip())\n",
    "                    self.t_samp_s = 1.0e-6 * float(readfile_with_str(f\"readfile {file_name}\", \"grep 'Sample time (us)'\").split(\"=\")[-1].strip())\n",
    "                    self.T_obs_s = self.N_samples * self.t_samp_s\n",
    "                    self.nbits = int(readfile_with_str(f\"readfile {file_name}\", \"grep 'bits per sample'\").split(\"=\")[-1].strip())\n",
    "                    self.nchan = int(readfile_with_str(f\"readfile {file_name}\", \"grep 'Number of channels'\").split(\"=\")[-1].strip())\n",
    "                    self.chanbw_MHz = np.float64(readfile_with_str(f\"readfile {file_name}\", \"grep 'Channel width (MHz)'\").split(\"=\")[-1].strip())\n",
    "                    self.bw_MHz = np.float64(readfile_with_str(f\"readfile {file_name}\", \"grep 'Total Bandwidth (MHz)'\").split(\"=\")[-1].strip())\n",
    "                    self.Tstart_MJD = np.float64(readfile_with_str(f\"readfile {file_name}\", \"grep 'MJD start time'\").split(\"=\")[-1].strip())\n",
    "                    self.freq_high_MHz = np.float64(readfile_with_str(f\"readfile {file_name}\", \"grep 'High channel (MHz)'\").split(\"=\")[-1].strip())\n",
    "                    self.freq_low_MHz = np.float64(readfile_with_str(f\"readfile {file_name}\", \"grep 'Low channel (MHz)'\").split(\"=\")[-1].strip())\n",
    "                    self.freq_central_MHz = (self.freq_high_MHz + self.freq_low_MHz) / 2.0\n",
    "                    if self.show_log:\n",
    "                        print_log('readfile读取信息成功', color=colors.OKGREEN)\n",
    "                        print_log(f\"N_samples: {self.N_samples}\")\n",
    "                        print_log(f\"t_samp_s: {self.t_samp_s}\")\n",
    "                        print_log(f\"T_obs_s: {self.T_obs_s}\", color=colors.BOLD)\n",
    "                        print_log(f\"nbits: {self.nbits}\")\n",
    "                        print_log(f\"nchan: {self.nchan}\")\n",
    "                        print_log(f\"chanbw_MHz: {self.chanbw_MHz}\")\n",
    "                        print_log(f\"bw_MHz: {self.bw_MHz}\", color=colors.BOLD)\n",
    "                        print_log(f\"Tstart_MJD: {self.Tstart_MJD}\")\n",
    "                        print_log(f\"freq_high_MHz: {self.freq_high_MHz}\")\n",
    "                        print_log(f\"freq_central_MHz: {self.freq_central_MHz}\")\n",
    "                        print_log(f\"freq_low_MHz: {self.freq_low_MHz}\")\n",
    "                except:\n",
    "                    if self.show_log:\n",
    "                        print_log(\"警告：'readfile'失败。尝试使用'header'获取必要信息...\", color=colors.WARNING)\n",
    "                    self.N_samples = np.abs(int(get_command_output(\"header %s -nsamples\" % (self.file_abspath)).split()[-1]))\n",
    "                    self.t_samp_s = np.float64(get_command_output(\"header %s -tsamp\" % (self.file_abspath)).split()[-1]) * 1.0e-6\n",
    "                    self.T_obs_s = np.float64(get_command_output(\"header %s -tobs\" % (self.file_abspath)).split()[-1])\n",
    "                    self.nbits = int(get_command_output(\"header %s -nbits\" % (self.file_abspath)).split()[-1])\n",
    "                    self.nchan = int(get_command_output(\"header %s -nchans\" % (self.file_abspath)).split()[-1])\n",
    "                    self.chanbw_MHz = np.fabs(np.float64(get_command_output(\"header %s -foff\" % (self.file_abspath)).split()[-1]))\n",
    "                    self.bw_MHz = self.chanbw_MHz * self.nchan\n",
    "                    self.backend = get_command_output(\"header %s -machine\" % (self.file_abspath)).split()[-1]\n",
    "                    self.Tstart_MJD = np.float64(get_command_output(\"header %s -tstart\" % (self.file_abspath)).split()[-1])\n",
    "                    self.freq_high_MHz = np.float64(get_command_output(\"header %s -fch1\" % (self.file_abspath)).split()[-1]) + 0.5 * self.chanbw_MHz\n",
    "                    self.freq_central_MHz = self.freq_high_MHz - 0.5 * self.bw_MHz\n",
    "                    self.freq_low_MHz = self.freq_high_MHz - self.bw_MHz\n",
    "                    if self.show_log:\n",
    "                        print_log(f\"N_samples: {self.N_samples}\")\n",
    "                        print_log(f\"t_samp_s: {self.t_samp_s} s\")\n",
    "                        print_log(f\"T_obs_s: {self.T_obs_s} s\", color=colors.BOLD)\n",
    "                        print_log(f\"nbits: {self.nbits} bits\")\n",
    "                        print_log(f\"nchan: {self.nchan} channels\")\n",
    "                        print_log(f\"chanbw_MHz: {self.chanbw_MHz} MHz\")\n",
    "                        print_log(f\"bw_MHz: {self.bw_MHz} MHz\", color=colors.BOLD)\n",
    "                        print_log(f\"backend: {self.backend}\")\n",
    "                        print_log(f\"Tstart_MJD: {self.Tstart_MJD}\")\n",
    "                        print_log(f\"freq_high_MHz: {self.freq_high_MHz} MHz\")\n",
    "                        print_log(f\"freq_central_MHz: {self.freq_central_MHz} MHz\")\n",
    "                        print_log(f\"freq_low_MHz: {self.freq_low_MHz} MHz\")\n",
    "\n",
    "        elif data_type == \"psrfits\":\n",
    "            if self.show_log:\n",
    "                print_log(\"\\n正在读取PSRFITS文件....\", color=colors.HEADER)\n",
    "            if psrfits.is_PSRFITS(file_name):\n",
    "                if self.show_log:\n",
    "                    print_log(\"文件'%s'被正确识别为PSRFITS格式\" % (file_name))\n",
    "                object_file = psrfits.PsrfitsFile(self.file_abspath)\n",
    "                self.bw_MHz = object_file.specinfo.BW\n",
    "                self.N_samples = object_file.specinfo.N\n",
    "                self.T_obs_s = object_file.specinfo.T\n",
    "                self.backend = object_file.specinfo.backend\n",
    "                self.nbits = object_file.specinfo.bits_per_sample\n",
    "                self.date_obs = object_file.specinfo.date_obs\n",
    "                self.dec_deg = object_file.specinfo.dec2000\n",
    "                self.dec_str = object_file.specinfo.dec_str\n",
    "                self.chanbw_MHz = object_file.specinfo.df\n",
    "                self.t_samp_s = object_file.specinfo.dt\n",
    "                self.freq_central_MHz = object_file.specinfo.fctr\n",
    "                self.receiver = object_file.specinfo.frontend\n",
    "                self.freq_high_MHz = object_file.specinfo.hi_freq\n",
    "                self.freq_low_MHz = object_file.specinfo.lo_freq\n",
    "                self.MJD_int = object_file.specinfo.mjd\n",
    "                self.MJD_sec = object_file.specinfo.secs\n",
    "                self.Tstart_MJD = self.MJD_int + np.float64(self.MJD_sec / 86400.)\n",
    "                self.nchan = object_file.specinfo.num_channels\n",
    "                self.observer = object_file.specinfo.observer\n",
    "                self.project = object_file.specinfo.project_id\n",
    "                self.ra_deg = object_file.specinfo.ra2000\n",
    "                self.ra_str = object_file.specinfo.ra_str\n",
    "                self.seconds_of_day = object_file.specinfo.secs\n",
    "                self.source_name = object_file.specinfo.source\n",
    "                self.telescope = object_file.specinfo.telescope\n"
   ]
  },
  {
   "cell_type": "code",
   "execution_count": 4,
   "metadata": {},
   "outputs": [],
   "source": [
    "class SurveyConfiguration(object):\n",
    "        def __init__(self, config_filename):\n",
    "                self.config_filename = config_filename\n",
    "                self.list_datafiles = []\n",
    "                self.list_survey_configuration_ordered_params = ['OBSNAME',\"SOURCE_NAME\",'SEARCH_LABEL', 'DATA_TYPE','IF_BARY','RA','DEC','POOL_NUM ', 'ROOT_WORKDIR', 'PRESTO', 'PRESTO_GPU','IF_DDPLAN', 'DM_MIN', 'DM_MAX','DM_STEP', 'DM_COHERENT_DEDISPERSION', 'N_SUBBANDS', 'PERIOD_TO_SEARCH_MIN', 'PERIOD_TO_SEARCH_MAX', 'LIST_SEGMENTS', 'RFIFIND_TIME', 'RFIFIND_CHANS_TO_ZAP', 'RFIFIND_TIME_INTERVALS_TO_ZAP', 'IGNORECHAN_LIST', 'ZAP_ISOLATED_PULSARS_FROM_FFTS', 'ZAP_ISOLATED_PULSARS_MAX_HARM', 'FLAG_ACCELERATION_SEARCH', 'ACCELSEARCH_LIST_ZMAX', 'ACCELSEARCH_NUMHARM', 'FLAG_JERK_SEARCH', 'JERKSEARCH_ZMAX', 'JERKSEARCH_WMAX', 'JERKSEARCH_NUMHARM', 'SIFTING_FLAG_REMOVE_DUPLICATES', 'SIFTING_FLAG_REMOVE_DM_PROBLEMS', 'SIFTING_FLAG_REMOVE_HARMONICS', 'SIFTING_MINIMUM_NUM_DMS', 'SIFTING_MINIMUM_DM', 'SIFTING_SIGMA_THRESHOLD', 'FLAG_FOLD_KNOWN_PULSARS', 'FLAG_FOLD_TIMESERIES', 'FLAG_FOLD_RAWDATA','FLAG_NUM', 'RFIFIND_FLAGS', 'PREPDATA_FLAGS', 'PREPSUBBAND_FLAGS', 'REALFFT_FLAGS', 'REDNOISE_FLAGS', 'ACCELSEARCH_FLAGS', 'ACCELSEARCH_GPU_FLAGS', 'ACCELSEARCH_JERK_FLAGS', 'PREPFOLD_FLAGS', 'FLAG_SINGLEPULSE_SEARCH', 'SINGLEPULSE_SEARCH_FLAGS', 'USE_CUDA', 'CUDA_IDS', 'NUM_SIMULTANEOUS_JERKSEARCHES', 'NUM_SIMULTANEOUS_PREPFOLDS', 'NUM_SIMULTANEOUS_PREPSUBBANDS', 'MAX_SIMULTANEOUS_DMS_PER_PREPSUBBAND', 'FAST_BUFFER_DIR', 'FLAG_KEEP_DATA_IN_BUFFER_DIR', 'FLAG_REMOVE_FFTFILES', 'FLAG_REMOVE_DATFILES_OF_SEGMENTS', 'STEP_RFIFIND', 'STEP_ZAPLIST', 'STEP_DEDISPERSE', 'STEP_REALFFT', 'STEP_PERIODICITY_SEARCH', 'STEP_SIFTING', 'STEP_FOLDING', 'STEP_SINGLEPULSE_SEARCH']\n",
    "                self.dict_survey_configuration = {}\n",
    "                config_file = open(config_filename, \"r\" )\n",
    "\n",
    "                for line in config_file:\n",
    "                    line = line.strip()  # 移除行首和行尾的空白字符\n",
    "                    if line and not line.startswith(\"#\"):  # 过滤空行和注释行\n",
    "                        line_content = line.split('#', 1)[0].strip()  # 移除行内注释\n",
    "                        parts = line_content.split(None, 1)  # 按空白字符分割键和值\n",
    "                        if len(parts) == 2:  # 如果分割后有两部分\n",
    "                            key, value = parts[0], parts[1].strip().strip('\"\\'')  # 提取键和值，并移除引号\n",
    "                        else:  # 如果只有键没有值\n",
    "                            key, value = parts[0], \"\"  # 值为空字符串\n",
    "                        self.dict_survey_configuration[key] = value  # 存储键值对\n",
    "                                #list_line = shlex.split(line)\n",
    "                                #self.dict_survey_configuration[list_line[0]] = list_line[1]  # Save parameter key and value in the dictionary \n",
    "                for key in list(self.dict_survey_configuration.keys()):\n",
    "                        if   key == \"OBSNAME\":                           self.obsname                          = self.dict_survey_configuration[key]\n",
    "                        elif key == \"SOURCE_NAME\":                       self.source_name                      = self.dict_survey_configuration[key]                     \n",
    "                        elif key == \"SEARCH_LABEL\":                      self.search_label                     = self.dict_survey_configuration[key]\n",
    "                        elif key == \"DATA_TYPE\":                         self.data_type                        = self.dict_survey_configuration[key]\n",
    "                        elif key == \"IF_BARY\":                           self.ifbary                           = int(self.dict_survey_configuration[key])\n",
    "                        elif key == \"RA\":                                self.ra                               = self.dict_survey_configuration[key]\n",
    "                        elif key == \"DEC\":                               self.dec                              = self.dict_survey_configuration[key]\n",
    "                        elif key == \"POOL_NUM\":                          self.pool_num                         = int(self.dict_survey_configuration[key])\n",
    "                        elif key == \"ROOT_WORKDIR\":                      self.root_workdir                     = self.dict_survey_configuration[key]\n",
    "                        elif key == \"PRESTO\":\n",
    "                                if check_presto_path(presto_path=self.dict_survey_configuration[key], key=key) == True:\n",
    "                                        self.presto_env                       = self.dict_survey_configuration[key]\n",
    "\n",
    "                        elif key == \"PRESTO_GPU\":\n",
    "                                if check_presto_path(presto_path=self.dict_survey_configuration[key], key=key) == True:\n",
    "                                        self.presto_gpu_env                   = self.dict_survey_configuration[key]\n",
    "\n",
    "                        elif key == \"IF_DDPLAN\":                            self.if_ddplan                             = int(self.dict_survey_configuration[key])\n",
    "                        elif key == \"DM_MIN\":                               self.dm_min                                = self.dict_survey_configuration[key]\n",
    "                        elif key == \"DM_MAX\":                               self.dm_max                                = self.dict_survey_configuration[key]\n",
    "                        elif key == \"DM_STEP\":                              self.dm_step                               = ast.literal_eval(self.dict_survey_configuration[key])\n",
    "\n",
    "                        elif key == \"DM_COHERENT_DEDISPERSION\":             self.dm_coherent_dedispersion              = self.dict_survey_configuration[key]\n",
    "                        elif key == \"N_SUBBANDS\":                           self.nsubbands                             = int(self.dict_survey_configuration[key])\n",
    "\n",
    "                        elif key == \"PERIOD_TO_SEARCH_MIN\":                 self.period_to_search_min                  = np.float64(self.dict_survey_configuration[key])\n",
    "                        elif key == \"PERIOD_TO_SEARCH_MAX\":                 self.period_to_search_max                  = np.float64(self.dict_survey_configuration[key])\n",
    "                        elif key == \"LIST_SEGMENTS\":                        self.list_segments                         = self.dict_survey_configuration[key].split(\",\")\n",
    "\n",
    "                        elif key == \"RFIFIND_TIME\":                         self.rfifind_time                          = self.dict_survey_configuration[key]\n",
    "                        elif key == \"RFIFIND_CHANS_TO_ZAP\":                 self.rfifind_chans_to_zap                  = self.dict_survey_configuration[key]\n",
    "                        elif key == \"RFIFIND_TIME_INTERVALS_TO_ZAP\":        self.rfifind_time_intervals_to_zap         = self.dict_survey_configuration[key]\n",
    "                        elif key == \"IGNORECHAN_LIST\":                      self.ignorechan_list                       = self.dict_survey_configuration[key]\n",
    "                        elif key == \"ZAP_ISOLATED_PULSARS_FROM_FFTS\":       self.zap_isolated_pulsars_from_ffts        = int(self.dict_survey_configuration[key])\n",
    "                        elif key == \"ZAP_ISOLATED_PULSARS_MAX_HARM\":        self.zap_isolated_pulsars_max_harm         = int(self.dict_survey_configuration[key])\n",
    "\t\t\t\n",
    "                        elif key == \"FLAG_ACCELERATION_SEARCH\":             self.flag_acceleration_search              = int(self.dict_survey_configuration[key])\n",
    "                        elif key == \"ACCELSEARCH_LIST_ZMAX\":                self.accelsearch_list_zmax                 = [int(x) for x in self.dict_survey_configuration[key].split(\",\")]\n",
    "                        elif key == \"ACCELSEARCH_NUMHARM\":                  self.accelsearch_numharm                   = int(self.dict_survey_configuration[key])\n",
    "\n",
    "                        elif key == \"FLAG_JERK_SEARCH\":                     self.flag_jerk_search                      = int(self.dict_survey_configuration[key])\n",
    "                        elif key == \"JERKSEARCH_ZMAX\":                      self.jerksearch_zmax                       = int(self.dict_survey_configuration[key])\n",
    "                        elif key == \"JERKSEARCH_WMAX\":                      self.jerksearch_wmax                       = int(self.dict_survey_configuration[key])\n",
    "                        elif key == \"JERKSEARCH_NUMHARM\":                   self.jerksearch_numharm                    = int(self.dict_survey_configuration[key])\n",
    "\n",
    "                        elif key == \"SIFTING_FLAG_REMOVE_DUPLICATES\":       self.sifting_flag_remove_duplicates        = int(self.dict_survey_configuration[key])\n",
    "                        elif key == \"SIFTING_FLAG_REMOVE_DM_PROBLEMS\":      self.sifting_flag_remove_dm_problems       = int(self.dict_survey_configuration[key])\n",
    "                        elif key == \"SIFTING_FLAG_REMOVE_HARMONICS\":        self.sifting_flag_remove_harmonics         = int(self.dict_survey_configuration[key])\n",
    "                        elif key == \"SIFTING_MINIMUM_NUM_DMS\":              self.sifting_minimum_num_DMs               = int(self.dict_survey_configuration[key])\n",
    "                        elif key == \"SIFTING_MINIMUM_DM\":                   self.sifting_minimum_DM                    = np.float64(self.dict_survey_configuration[key])\n",
    "                        elif key == \"SIFTING_SIGMA_THRESHOLD\":              self.sifting_sigma_threshold               = np.float64(self.dict_survey_configuration[key])\n",
    "\n",
    "                        elif key == \"FLAG_FOLD_KNOWN_PULSARS\":              self.flag_fold_known_pulsars               = int(self.dict_survey_configuration[key])\n",
    "                        elif key == \"FLAG_FOLD_TIMESERIES\":                 self.flag_fold_timeseries                  = int(self.dict_survey_configuration[key])\n",
    "                        elif key == \"FLAG_FOLD_RAWDATA\":                    self.flag_fold_rawdata                     = int(self.dict_survey_configuration[key])\n",
    "                        elif key == \"FLAG_NUM\":                             self.fold_num                     = int(self.dict_survey_configuration[key])\n",
    "\n",
    "                        elif key == \"RFIFIND_FLAGS\":                        self.rfifind_flags                         = self.dict_survey_configuration[key]\n",
    "                        elif key == \"PREPDATA_FLAGS\":                       self.prepdata_flags                        = self.dict_survey_configuration[key]\n",
    "                        elif key == \"PREPSUBBAND_FLAGS\":                    self.prepsubband_flags                     = self.dict_survey_configuration[key]\n",
    "                        elif key == \"REALFFT_FLAGS\":                        self.realfft_flags                         = self.dict_survey_configuration[key]\n",
    "                        elif key == \"REDNOISE_FLAGS\":                       self.rednoise_flags                        = self.dict_survey_configuration[key]\n",
    "                        elif key == \"ACCELSEARCH_FLAGS\":                    self.accelsearch_flags                     = self.dict_survey_configuration[key]\n",
    "                        elif key == \"ACCELSEARCH_GPU_FLAGS\":                self.accelsearch_gpu_flags                 = self.dict_survey_configuration[key]\n",
    "                        elif key == \"ACCELSEARCH_JERK_FLAGS\":               self.accelsearch_jerk_flags                = self.dict_survey_configuration[key]\n",
    "                        elif key == \"PREPFOLD_FLAGS\":                       self.prepfold_flags                        = self.dict_survey_configuration[key]\n",
    "\n",
    "                        elif key == \"FLAG_SINGLEPULSE_SEARCH\":              self.flag_singlepulse_search               = int(self.dict_survey_configuration[key])\n",
    "                        elif key == \"SINGLEPULSE_SEARCH_FLAGS\":             self.singlepulse_search_flags              = self.dict_survey_configuration[key]\n",
    "\n",
    "                        elif key == \"USE_CUDA\":                             self.flag_use_cuda                         = int(self.dict_survey_configuration[key])\n",
    "                        elif key == \"CUDA_IDS\":                             self.list_cuda_ids                         = [int(x) for x in self.dict_survey_configuration[key].split(\",\")]\n",
    "\n",
    "                        elif key == \"NUM_SIMULTANEOUS_JERKSEARCHES\":           self.num_simultaneous_jerksearches           = int(self.dict_survey_configuration[key])\n",
    "                        elif key == \"NUM_SIMULTANEOUS_PREPFOLDS\":              self.num_simultaneous_prepfolds              = int(self.dict_survey_configuration[key])\n",
    "                        elif key == \"NUM_SIMULTANEOUS_PREPSUBBANDS\":           self.num_simultaneous_prepsubbands           = int(self.dict_survey_configuration[key])\n",
    "                        elif key == \"NUM_SIMULTANEOUS_SINGLEPULSE_SEARCHES\":   self.num_simultaneous_singlepulse_searches   = int(self.dict_survey_configuration[key])\n",
    "                        elif key == \"MAX_SIMULTANEOUS_DMS_PER_PREPSUBBAND\":    self.max_simultaneous_dms_per_prepsubband    = int(self.dict_survey_configuration[key])\n",
    "\n",
    "                        elif key == \"FAST_BUFFER_DIR\":                      self.fast_buffer_dir                       = self.dict_survey_configuration[key]\n",
    "                        elif key == \"FLAG_KEEP_DATA_IN_BUFFER_DIR\":         self.flag_keep_data_in_buffer_dir          = int(self.dict_survey_configuration[key])\n",
    "                        elif key == \"FLAG_REMOVE_FFTFILES\":                 self.flag_remove_fftfiles                  = int(self.dict_survey_configuration[key])\n",
    "                        elif key == \"FLAG_REMOVE_DATFILES_OF_SEGMENTS\":     self.flag_remove_datfiles_of_segments      = int(self.dict_survey_configuration[key])\n",
    "\n",
    "                        elif key == \"STEP_RFIFIND\":                         self.flag_step_rfifind                     = int(self.dict_survey_configuration[key])\n",
    "                        elif key == \"STEP_ZAPLIST\":                         self.flag_step_zaplist                     = int(self.dict_survey_configuration[key])\n",
    "                        elif key == \"STEP_DEDISPERSE\":                      self.flag_step_dedisperse                  = int(self.dict_survey_configuration[key])\n",
    "                        elif key == \"STEP_REALFFT\":                         self.flag_step_realfft                     = int(self.dict_survey_configuration[key])\n",
    "                        elif key == \"STEP_PERIODICITY_SEARCH\":              self.flag_step_periodicity_search          = int(self.dict_survey_configuration[key])\n",
    "                        elif key == \"STEP_SIFTING\":                         self.flag_step_sifting                     = int(self.dict_survey_configuration[key])\n",
    "                        elif key == \"STEP_FOLDING\":                         self.flag_step_folding                     = int(self.dict_survey_configuration[key])\n",
    "                        elif key == \"STEP_SINGLEPULSE_SEARCH\":              self.flag_step_singlepulse_search          = int(self.dict_survey_configuration[key])\n",
    "\n",
    "                config_file.close()\n",
    "                self.log_filename = \"%s.log\" % (self.search_label)\n",
    "                self.list_0DM_datfiles = []\n",
    "                self.list_0DM_fftfiles = []\n",
    "                self.list_0DM_fftfiles_rednoise = []\n",
    "\n",
    "                if \"full\" in self.list_segments:\n",
    "                        self.list_segments_nofull        = copy.deepcopy(self.list_segments)\n",
    "                        self.list_segments_nofull.remove(\"full\")\n",
    "                        self.flag_search_full = 1\n",
    "                else:\n",
    "                        self.list_segments_nofull        = copy.deepcopy(self.list_segments)\n",
    "                        self.flag_search_full = 0\n",
    "\n",
    "\n",
    "                self.dict_chunks = {}      # {'filename': {'20m':   [0,1,2]}}\n",
    "                self.dict_search_structure = {}\n",
    "                if self.presto_gpu_env == \"\":\n",
    "                        self.presto_gpu_env = self.presto_env\n",
    "\n",
    "        def get_list_datafiles(self, list_datafiles_filename):\n",
    "                list_datafiles_file = open(list_datafiles_filename, \"r\" )\n",
    "                list_datafiles = [line.split()[0] for line in list_datafiles_file if not line.startswith(\"#\") ] #Skip commented line\n",
    "                list_datafiles_file.close()\n",
    "                print(\"get_list_datafiles:: list_datafiles = \", list_datafiles)\n",
    "\n",
    "                return list_datafiles\n",
    "\n",
    "        def print_configuration(self):\n",
    "                print_log(\"\\n ====================打印配置信息：  ====================== \\n\",color=colors.HEADER)\n",
    "                # 遍历有序参数列表并打印每个参数及其值（按需修改）\n",
    "                important_param_list = ['OBSNAME',\"SOURCE_NAME\",'POOL_NUM','IF_BARY','IF_DDPLAN','DM_MIN','DM_MAX','DM_STEP','PERIOD_TO_SEARCH_MIN','PERIOD_TO_SEARCH_MAX','LIST_SEGMENTS','ACCELSEARCH_LIST_ZMAX','FLAG_JERK_SEARCH','SIFTING_MINIMUM_NUM_DMS','FLAG_FOLD_TIMESERIES','PREPSUBBAND_FLAGS','PREPFOLD_FLAGS','FLAG_SINGLEPULSE_SEARCH']\n",
    "                for param in important_param_list:\n",
    "                        print(\"%-32s %s\" % (param, self.dict_survey_configuration[param]))\n",
    "                print()\n",
    "                time.sleep(2)"
   ]
  },
  {
   "cell_type": "markdown",
   "metadata": {},
   "source": [
    "### 数据需放在当前目录的RAW文件夹下"
   ]
  },
  {
   "cell_type": "code",
   "execution_count": 5,
   "metadata": {},
   "outputs": [
    {
     "name": "stdout",
     "output_type": "stream",
     "text": [
      "\n",
      "\n",
      "\n",
      "**************************************\u001b[95m程序开始\u001b[0m***********************************\n",
      "\n",
      "本次程序运行开始时间为：2025-06-13 14:58\n",
      "------------------------- FAST DATA REDUCTION PIPELINE -------------------------\n",
      "                               Author: Long Peng                                \n",
      "                      See web page: \u001b[92mhttps://www.plxray.cn/\u001b[0m                      \n",
      "                           Script created on Feb 2025                           \n",
      "  This program is adapted from: https://github.com/alex88ridolfi/PULSAR_MINER.  \n",
      "--------------------------------------------------------------------------------\n",
      "程序开始：当前路径/home/pl/work/python-workspance/FAST_pulsar_search_pl\n",
      "\n",
      "*fits\n",
      "\u001b[95m\n",
      "正在读取/home/pl/work/python-workspance/FAST_pulsar_search_pl/RAW/19C67_J1631+1252_swiftcalibration-M01_0010.fits文件的绝对路径、文件名和扩展名....\n",
      "\u001b[0m\u001b[95m\n",
      "正在读取PSRFITS文件....\n",
      "\u001b[0m文件'/home/pl/work/python-workspance/FAST_pulsar_search_pl/RAW/19C67_J1631+1252_swiftcalibration-M01_0010.fits'被正确识别为PSRFITS格式\n"
     ]
    }
   ],
   "source": [
    "print_program_message('start')\n",
    "t_start = time.time()\n",
    "\n",
    "config_filename = \"%s.cfg\" % (os.path.basename(os.getcwd()))\n",
    "config = SurveyConfiguration(config_filename)\n",
    "os.chdir('./RAW')\n",
    "\n",
    "#######确定重要的变量\n",
    "obsname = config.obsname       #决定搜寻的文件\n",
    "print(obsname)\n",
    "if obsname == \"\":\n",
    "    print_log(f'obsname为空，请在{config_filename}指定文件',color=colors.ERROR)\n",
    "    exit()\n",
    "elif obsname != \"\":\n",
    "    # 通过 glob 模块获取所有匹配的观测文件\n",
    "    config.list_datafiles = [os.path.basename(x) for x in glob.glob(obsname)]\n",
    "    if len(config.list_datafiles) == 0:\n",
    "        print_log(\"错误: 未找到观测文件！请确保文件名正确无误。\",color=colors.ERROR)\n",
    "        exit()\n",
    "    elif len(config.list_datafiles) >= 1:\n",
    "        # 如果找到一个或多个文件，检查每个文件是否存在以及文件大小是否为零\n",
    "        for f in config.list_datafiles:\n",
    "            if not os.path.exists(f):\n",
    "                print_log(f\"错误: 文件{f}不存在！可能是符号链接损坏。\" ,color=colors.ERROR)\n",
    "                exit()\n",
    "            elif os.path.getsize(f) == 0:\n",
    "                print_log(f\"错误:文件{f}的大小为 0！\" ,color=colors.ERROR)\n",
    "                exit()\n",
    "            config.folder_datafiles           = os.path.dirname(os.path.abspath(obsname)) \n",
    "\n",
    "config.list_datafiles_abspath = [os.path.join(config.folder_datafiles, x) for x in config.list_datafiles]  #每个文件的绝对路径\n",
    "config.list_Observations = [Observation(x, config.data_type) for x in config.list_datafiles_abspath]  #生成类属性\n",
    "config.file_common_birdies = os.path.join(config.root_workdir, \"common_birdies.txt\")\n",
    "time.sleep(1)\n"
   ]
  },
  {
   "cell_type": "code",
   "execution_count": 6,
   "metadata": {},
   "outputs": [],
   "source": [
    "##重要的变量\n",
    "obsname = config.obsname       #决定搜寻的文件\n",
    "if obsname == \"\":\n",
    "    print_log(f'obsname为空，请在{config_filename}指定文件',color=colors.ERROR)\n",
    "    exit()\n",
    "elif obsname != \"\":\n",
    "    # 获取所有匹配的观测文件\n",
    "    config.list_datafiles = [os.path.basename(x) for x in glob.glob(obsname)]\n",
    "    if len(config.list_datafiles) == 0:\n",
    "        print_log(\"错误: 未找到观测文件！请确保文件名正确无误。\",color=colors.ERROR)\n",
    "        exit()\n",
    "    elif len(config.list_datafiles) >= 1:\n",
    "        # 如果找到一个或多个文件，检查每个文件是否存在以及文件大小是否为零\n",
    "        for f in config.list_datafiles:\n",
    "            if not os.path.exists(f):\n",
    "                print_log(f\"错误: 文件{f}不存在！可能是符号链接损坏。\" ,color=colors.ERROR)\n",
    "                exit()\n",
    "            elif os.path.getsize(f) == 0:\n",
    "                print_log(f\"错误:文件{f}的大小为 0！\" ,color=colors.ERROR)\n",
    "                exit()\n",
    "            config.folder_datafiles           = os.path.dirname(os.path.abspath(obsname)) \n",
    "\n",
    "config.list_datafiles_abspath = [os.path.join(config.folder_datafiles, x) for x in config.list_datafiles]  #每个文件的绝对路径\n",
    "config.list_Observations = [Observation(x, config.data_type) for x in config.list_datafiles_abspath]  #生成类属性\n",
    "config.file_common_birdies = os.path.join(config.root_workdir, \"common_birdies.txt\")\n"
   ]
  },
  {
   "cell_type": "code",
   "execution_count": 7,
   "metadata": {},
   "outputs": [
    {
     "name": "stdout",
     "output_type": "stream",
     "text": [
      "\u001b[95m\n",
      " ====================打印配置信息：  ====================== \n",
      "\n",
      "\u001b[0mOBSNAME                          *fits\n",
      "SOURCE_NAME                      j1631\n",
      "POOL_NUM                         8\n",
      "IF_BARY                          1\n",
      "IF_DDPLAN                        0\n",
      "DM_MIN                           2.0\n",
      "DM_MAX                           500.0\n",
      "DM_STEP                          [(32,35,0.01)]\n",
      "PERIOD_TO_SEARCH_MIN             0.001\n",
      "PERIOD_TO_SEARCH_MAX             20.0\n",
      "LIST_SEGMENTS                    full\n",
      "ACCELSEARCH_LIST_ZMAX            0\n",
      "FLAG_JERK_SEARCH                 0\n",
      "SIFTING_MINIMUM_NUM_DMS          3\n",
      "FLAG_FOLD_TIMESERIES             1\n",
      "PREPSUBBAND_FLAGS                -ncpus 4\n",
      "PREPFOLD_FLAGS                   -ncpus 4   -n 64 -nosearch -nsub 64 \n",
      "FLAG_SINGLEPULSE_SEARCH          1\n",
      "\n",
      "\u001b[95m ====================注意： ====================== \n",
      "\n",
      "\u001b[0m源名为：\u001b[93mj1631\u001b[0m\n",
      "待理数据为：/home/pl/work/python-workspance/FAST_pulsar_search_pl/RAW/\u001b[93m*fits\u001b[0m\n",
      "对\u001b[93mdat\u001b[0m进行折叠: 计划一共折叠\u001b[93m100\u001b[0m张图 zmax:\u001b[93m[0]\u001b[0m\n",
      "进行质心修正\n",
      " 注意： ra = \u001b[93m16:31:43.2207\u001b[0m  dec = \u001b[93m+12:52:05.448\u001b[0m \n",
      "\n",
      "\u001b[1mmain:: SIFTING.sigma_threshold =  4.0\n",
      "\u001b[0m\u001b[95m\n",
      " ====================自定义去色散计划：  ====================== \n",
      "\n",
      "\u001b[0m[(32, 35, 0.01)]\n",
      "[{'loDM': 32, 'highDM': 35, 'dDM': 0.01, 'downsamp': 1, 'num_DMs': 299}]\n"
     ]
    }
   ],
   "source": [
    "#重要的变量\n",
    "config.print_configuration()\n",
    "\n",
    "workdir = config.root_workdir  #主工作目录\n",
    "data_path = workdir+'/RAW/'+obsname #数据绝对路径\n",
    "\n",
    "sourcename = config.source_name  #源名，同时所生产数据的唯一标签\n",
    "\n",
    "n_pool = config.pool_num  #多线程核数\n",
    "\n",
    "fold_num = config.fold_num\n",
    "os.chdir(workdir)\n",
    "\n",
    "print_log(' ====================注意： ====================== \\n',color=colors.HEADER)\n",
    "print_log('源名为：' + sourcename,masks=sourcename,color=colors.WARNING)\n",
    "print_log(f'待理数据为：{data_path}',masks=obsname,color=colors.WARNING)\n",
    "target_type = f'计划一共折叠{fold_num}张图'\n",
    "fits_or_dats = ''\n",
    "if config.flag_fold_timeseries == 1:\n",
    "    fits_or_dats += 'dat'\n",
    "if config.flag_fold_rawdata == 1:\n",
    "    fits_or_dats += 'fits' if fits_or_dats == '' else '_fits'\n",
    "print_log(f'对{fits_or_dats}进行折叠: {target_type} zmax:{config.accelsearch_list_zmax}',masks=[fits_or_dats,str(fold_num),config.accelsearch_list_zmax],color=colors.WARNING)\n",
    "if config.flag_jerk_search == 1:\n",
    "    fits_or_dats+= '__jerk'\n",
    "    print_log(f'进行jerks搜寻：zmax:{config.jerksearch_zmax} wmax:{config.jerksearch_wmax} 叠加谐波数：{config.jerksearch_numharm}')\n",
    "ifbary = config.ifbary\n",
    "if ifbary == 1:\n",
    "    fits_or_dats += '__bary'\n",
    "    ra = config.ra\n",
    "    dec = config.dec\n",
    "    print_log(f'进行质心修正\\n 注意： ra = {ra}  dec = {dec} \\n',masks=[ra,dec],color=colors.WARNING)\n",
    "\n",
    "#文件夹\n",
    "ifok_dir = os.path.join(workdir,'00_IFOK')\n",
    "#打印文件总信息\n",
    "\n",
    "sifting.sigma_threshold = config.sifting_sigma_threshold\n",
    "print_log(\"main:: SIFTING.sigma_threshold = \", sifting.sigma_threshold, color=colors.BOLD)\n",
    "\n",
    "LOG_dir = os.path.join(config.root_workdir, \"LOG\")\n",
    "makedir(LOG_dir)\n",
    "\n",
    "if config.if_ddplan == 1:\n",
    "    print_log(\"\\n ====================DDplan去色散计划：  ====================== \\n\",color=colors.HEADER)\n",
    "    list_DDplan_scheme = get_DDplan_scheme(config.list_Observations[0].file_abspath,\n",
    "                                            LOG_dir,\n",
    "                                            LOG_dir,\n",
    "                                            \"LOG_diskspace\",\n",
    "                                            config.dm_min,\n",
    "                                            config.dm_max,\n",
    "                                            config.dm_coherent_dedispersion,\n",
    "                                            config.max_simultaneous_dms_per_prepsubband,\n",
    "                                            config.list_Observations[0].freq_central_MHz,\n",
    "                                            config.list_Observations[0].bw_MHz,\n",
    "                                            config.list_Observations[0].nchan,\n",
    "                                            config.nsubbands,\n",
    "                                            config.list_Observations[0].t_samp_s)\n",
    "else:\n",
    "    print_log(\"\\n ====================自定义去色散计划：  ====================== \\n\",color=colors.HEADER)\n",
    "    list_DDplan_scheme = []\n",
    "    ddpl = config.dm_step\n",
    "    print(ddpl)\n",
    "    for ddpl_value in ddpl:\n",
    "        loodm, highdm, ddm = ddpl_value\n",
    "        ndms = int((highdm - loodm) // ddm)\n",
    "\n",
    "        scheme = {\n",
    "            'loDM': loodm,\n",
    "            'highDM': highdm,\n",
    "            'dDM': ddm,\n",
    "            'downsamp': 1,  \n",
    "            'num_DMs': ndms\n",
    "        }\n",
    "        list_DDplan_scheme.append(scheme)\n",
    "print_log(list_DDplan_scheme)\n",
    "time.sleep(2)\n"
   ]
  },
  {
   "cell_type": "code",
   "execution_count": 8,
   "metadata": {},
   "outputs": [
    {
     "name": "stdout",
     "output_type": "stream",
     "text": [
      "\u001b[93m未使用快速缓冲目录，处理速度可能受影响。\n",
      "\u001b[0m\u001b[92m /home/pl/work/python-workspance/FAST_pulsar_search_pl/RAW/*fits (25.0秒)\n",
      "\u001b[0m"
     ]
    }
   ],
   "source": [
    "# 初始化统计变量\n",
    "total_files = len(config.list_Observations)\n",
    "need_copy, skipped, no_space = [], [], []\n",
    "buffer_valid = False\n",
    "\n",
    "# 检查快速缓冲目录是否可用\n",
    "if config.fast_buffer_dir:\n",
    "    if os.path.exists(config.fast_buffer_dir):\n",
    "        buffer_free = shutil.disk_usage(config.fast_buffer_dir).free\n",
    "        buffer_valid = True\n",
    "    else:\n",
    "        print_log(f\"警告：快速缓冲目录 '{config.fast_buffer_dir}' 不存在！\", color=colors.WARNING)\n",
    "        config.fast_buffer_dir = \"\"\n",
    "\n",
    "# 分类统计文件\n",
    "if buffer_valid:\n",
    "    for obs in config.list_Observations:\n",
    "        dst_path = os.path.join(config.fast_buffer_dir, obs.file_nameonly)\n",
    "        if not os.path.exists(dst_path) or os.path.getsize(dst_path) != os.path.getsize(obs.file_abspath):\n",
    "            if os.path.getsize(obs.file_abspath) <= buffer_free:\n",
    "                need_copy.append(obs)\n",
    "                buffer_free -= os.path.getsize(obs.file_abspath)\n",
    "            else:\n",
    "                no_space.append(obs.file_nameonly)\n",
    "        else:\n",
    "            skipped.append(obs.file_nameonly)\n",
    "\n",
    "# 统一打印操作摘要\n",
    "if buffer_valid:\n",
    "    print_log(\"\\n==== 快速缓冲目录操作摘要 ====\", color=colors.OKGREEN)\n",
    "    print_log(f\"位置: {config.fast_buffer_dir}\", color=colors.OKGREEN)\n",
    "    if need_copy:\n",
    "        print_log(f\"\\n需复制 {len(need_copy)} 个文件（共 {total_files} 个）:\", color=colors.OKGREEN)\n",
    "        for obs in need_copy:\n",
    "            print(f\"  - {obs.file_nameonly}\")\n",
    "    if skipped:\n",
    "        print_log(f\"\\n已跳过 {len(skipped)} 个文件（已存在且大小匹配）:\", color=colors.OKGREEN)\n",
    "        for name in skipped:\n",
    "            print(f\"  - {name}\")\n",
    "    if no_space:\n",
    "        print_log(f\"\\n警告：{len(no_space)} 个文件因空间不足未复制！\", color=colors.WARNING)\n",
    "\n",
    "    # 批量复制文件\n",
    "    if need_copy:\n",
    "        print(\"\\n开始批量复制...\")\n",
    "        for obs in need_copy:\n",
    "            dst_path = shutil.copy(obs.file_abspath, config.fast_buffer_dir)\n",
    "            obs.file_abspath = dst_path  # 更新路径\n",
    "            print(f\"  已完成: {obs.file_nameonly}\")\n",
    "        print(\"所有文件复制完成！\")\n",
    "else:\n",
    "    print_log(\"未使用快速缓冲目录，处理速度可能受影响。\", color=colors.WARNING)\n",
    "\n",
    "data_len = 0\n",
    "for i, obs in enumerate(config.list_Observations):\n",
    "    data_len += obs.T_obs_s\n",
    "formatted_time = format_execution_time(obs.T_obs_s)\n",
    "print_log(f\" {data_path} ({formatted_time})\", color=colors.OKGREEN)\n",
    "\n",
    "\n",
    "time.sleep(1)"
   ]
  },
  {
   "cell_type": "code",
   "execution_count": 9,
   "metadata": {},
   "outputs": [
    {
     "name": "stdout",
     "output_type": "stream",
     "text": [
      "\n",
      "****************\u001b[95m检查磁盘空间\u001b[0m****************\n",
      "\n",
      "是否删除 .fft 文件？否  --> 每个 DM 试验将占用双倍空间\n",
      "全长度搜索：~\u001b[92m1.25\u001b[0m GB       (299 DM 试验 * 每次试验     4 MB)\n",
      "预期磁盘空间使用量：~\u001b[92m 1.38\u001b[0m GB\n",
      "可用磁盘空间：~\u001b[92m235.06\u001b[0m GB   --> 太好了！磁盘空间足够。\n"
     ]
    }
   ],
   "source": [
    "print_log(\"\\n****************检查磁盘空间****************\\n\",masks='检查磁盘空间',color=colors.HEADER)\n",
    "num_DMs = 0 \n",
    "for j in range(len(list_DDplan_scheme)):\n",
    "        num_DMs = num_DMs + list_DDplan_scheme[j]['num_DMs']\n",
    "        \n",
    "flag_enough_disk_space = False\n",
    "flag_enough_disk_space = check_if_enough_disk_space(config.root_workdir, num_DMs, data_len, config.list_Observations[0].t_samp_s, config.flag_remove_fftfiles)\n",
    "\n",
    "# 如果磁盘空间不足，打印错误信息并退出程序\n",
    "if flag_enough_disk_space == False:\n",
    "        print_log(f\"错误：磁盘空间不足！请释放空间或更改工作目录。\",color=colors.ERROR)\n",
    "        print(\"> 提示：为了最小化磁盘使用，请确保在配置文件中将 FLAG_REMOVE_FFTFILES 和 FLAG_REMOVE_DATFILES_OF_SEGMENTS 保留为默认值 1。\")\n",
    "        exit()\n",
    "time.sleep(1)"
   ]
  },
  {
   "cell_type": "code",
   "execution_count": 10,
   "metadata": {},
   "outputs": [
    {
     "name": "stdout",
     "output_type": "stream",
     "text": [
      "\u001b[95m正在读取 'J1631+1252.par' --> 已将 J1631+1252 添加到已知脉冲星列表（isolated）\n",
      "\u001b[0m"
     ]
    }
   ],
   "source": [
    "################################################################################\n",
    "#   IMPORT PARFILES OF KNOWN PULSARS\n",
    "################################################################################\n",
    "#psrcat -x -c \"name Jname RaJ DecJ p0 dm s1400 type binary survey\" > knownPSR1.dat\n",
    "dir_known_pulsars = os.path.join(config.root_workdir, \"known_pulsars\")\n",
    "\n",
    "\n",
    "list_known_pulsars = []\n",
    "if os.path.exists(dir_known_pulsars):\n",
    "    list_parfilenames = sorted(glob.glob(\"%s/*.par\" % dir_known_pulsars))\n",
    "    dict_freqs_to_zap = {}\n",
    "\n",
    "    for k in range(len(list_parfilenames)):\n",
    "        # 创建脉冲星对象并添加到已知脉冲星列表\n",
    "        current_pulsar = Pulsar(list_parfilenames[k])\n",
    "        list_known_pulsars.append(current_pulsar)\n",
    "\n",
    "        # 如果脉冲星不是双星系统，计算其频率并记录到字典中\n",
    "        if not current_pulsar.is_binary:\n",
    "            current_freq = psr_utils.calc_freq(config.list_Observations[0].Tstart_MJD, current_pulsar.PEPOCH, current_pulsar.F0, current_pulsar.F1, current_pulsar.F2)\n",
    "            dict_freqs_to_zap[current_pulsar.psr_name] = current_freq\n",
    "\n",
    "        # 打印已读取的脉冲星信息\n",
    "        print_log(\"正在读取 '%s' --> 已将 %s 添加到已知脉冲星列表（%s）\" % (os.path.basename(list_parfilenames[k]), current_pulsar.psr_name, current_pulsar.pulsar_type),color=colors.HEADER)\n",
    "\n",
    "        # 如果配置中要求从傅里叶频谱中消除孤立脉冲星的频率，打印警告信息\n",
    "        if config.zap_isolated_pulsars_from_ffts == 1:\n",
    "            print_log(\"\\n警告：我将消除孤立脉冲星的傅里叶频率（最多到 %d 阶谐波），具体如下\" % (config.zap_isolated_pulsars_max_harm),color=colors.WARNING)\n",
    "            for key in sorted(dict_freqs_to_zap.keys()):\n",
    "                print_log(\"%s  -->  在观测历元的质心频率: %.14f Hz\" % (key, dict_freqs_to_zap[key]))\n",
    "\n"
   ]
  },
  {
   "cell_type": "code",
   "execution_count": 11,
   "metadata": {},
   "outputs": [
    {
     "name": "stdout",
     "output_type": "stream",
     "text": [
      "\u001b[95m\n",
      " ====================STEP 1 - RFIFIND====================== \n",
      "\n",
      "\u001b[0mERROR: file /home/pl/work/python-workspance/FAST_pulsar_search_pl/01_RFIFIND/rfi0.1s_rfifind.bytemask not found!\n",
      "\n",
      "未找到掩模文件，正在使用配置文件 '\u001b[1mFAST_pulsar_search_pl.cfg\u001b[0m' 中的参数进行生成。\n",
      "\u001b[1m提示: 可使用 'tail -f /home/pl/work/python-workspance/FAST_pulsar_search_pl/LOG/LOG_01_rfifind_j1631.txt' 查看运行进度。\n",
      "\u001b[0m正在为观测源 j1631 创建 rfifind 掩模文件...\n",
      "\n",
      "rfifind  -o rfi0.1s -time 0.1   /home/pl/work/python-workspance/FAST_pulsar_search_pl/RAW/*fits\n",
      "程序运行路径为: /home/pl/work/python-workspance/FAST_pulsar_search_pl/01_RFIFIND\n",
      "日志文件为：/home/pl/work/python-workspance/FAST_pulsar_search_pl/LOG/LOG_01_rfifind_j1631.txt\n",
      "运行命令：\u001b[96mrfifind  -o rfi0.1s -time 0.1   /home/pl/work/python-workspance/FAST_pulsar_search_pl/RAW/*fits\u001b[0m\n",
      "\u001b[94m运行时间： 13.0秒\u001b[0m\n",
      "make_rfifind_mask:: 2025/06/13  14:58 | rfifind on \"19C67_J1631+1252_swiftcalibration-M01_0010.fits\" completed successfully!\n",
      "\n",
      "运行命令：\u001b[96mgrep -l 'problem with clipping' /home/pl/work/python-workspance/FAST_pulsar_search_pl/LOG/LOG_01_rfifind_j1631.txt\u001b[0m\n",
      "运行命令：\u001b[96mgrep -l ' inf ' /home/pl/work/python-workspance/FAST_pulsar_search_pl/LOG/LOG_01_rfifind_j1631.txt\u001b[0m\n",
      "正在检查被掩蔽的频带比例... \n",
      "RFIFIND：被掩蔽的频率通道比例：\u001b[92m1.76\u001b[0m%\n",
      "\n"
     ]
    }
   ],
   "source": [
    "print_log(\"\\n ====================STEP 1 - RFIFIND====================== \\n\",color=colors.HEADER)\n",
    "\n",
    "rfifind_masks_dir = os.path.join(config.root_workdir, \"01_RFIFIND\")\n",
    "makedir(rfifind_masks_dir)\n",
    "basename = 'rfi0.1s'\n",
    "mask_file_path = f\"{rfifind_masks_dir}/rfi0.1s_rfifind.mask\"\n",
    "\n",
    "time.sleep(0.2)\n",
    "def check_rfifind_outfiles(out_dir, basename):\n",
    "        for suffix in [\"bytemask\", \"inf\", \"mask\", \"ps\", \"rfi\", \"stats\"]:\n",
    "                file_to_check = \"%s/%s_rfifind.%s\" % (out_dir, basename, suffix)\n",
    "                if not os.path.exists(file_to_check):\n",
    "                        print(\"ERROR: file %s not found!\" % (file_to_check))\n",
    "                        return False\n",
    "                elif os.stat(file_to_check).st_size == 0:  # If the file has size 0 bytes\n",
    "                        print(\"ERROR: file %s has size 0!\" % (file_to_check))\n",
    "                        return False\n",
    "        return True\n",
    "flag_mask_present = check_rfifind_outfiles(rfifind_masks_dir, basename)\n",
    "\n",
    "# 情况 1：掩模不存在且不允许自动生成\n",
    "if not flag_mask_present and config.flag_step_rfifind == 0:\n",
    "    print_log(f\"\\n错误！掩模文件 '{mask_file_path}' 未找到，但 STEP_RFIFIND = 0！\", color=colors.ERROR)\n",
    "    print(\"请将配置中的 STEP_RFIFIND 设置为 1，或手动将掩模文件放入 '01_RFIFIND' 文件夹后重试。\\n\")\n",
    "    exit()\n",
    "\n",
    "# 情况 2：掩模不存在，但允许自动生成\n",
    "elif not flag_mask_present and config.flag_step_rfifind == 1:\n",
    "    LOG_basename = f\"01_rfifind_{sourcename}\"\n",
    "    log_abspath = f\"{LOG_dir}/LOG_{LOG_basename}.txt\"\n",
    "    \n",
    "    print_log(f\"\\n未找到掩模文件，正在使用配置文件 '{config_filename}' 中的参数进行生成。\", masks=config_filename, color=colors.BOLD)\n",
    "    print_log(f\"提示: 可使用 'tail -f {log_abspath}' 查看运行进度。\", color=colors.BOLD)\n",
    "    print_log(f\"正在为观测源 {sourcename} 创建 rfifind 掩模文件...\\n\")\n",
    "\n",
    "    sys.stdout.flush()\n",
    "    make_rfifind_mask(\n",
    "        config.list_Observations[i].file_abspath,\n",
    "        rfifind_masks_dir,\n",
    "        LOG_dir,\n",
    "        LOG_basename,\n",
    "        config.rfifind_time,\n",
    "        config.rfifind_time_intervals_to_zap,\n",
    "        config.rfifind_chans_to_zap,\n",
    "        config.rfifind_flags,\n",
    "        config.presto_env,\n",
    "        search_type=sourcename,\n",
    "        obsname=obsname,\n",
    "    )\n",
    "    ps2png(os.path.join(rfifind_masks_dir,'*ps'))\n",
    "\n",
    "# 情况 3 和 4：掩模已存在\n",
    "else:\n",
    "    print_log(f\"\\n掩模文件 '{mask_file_path}' 已存在，不会重新生成。\", color=colors.OKBLUE)\n",
    "    if config.flag_step_rfifind == 0:\n",
    "        print_log(\"警告：STEP_RFIFIND = 0，将跳过该步骤，默认当前掩模文件可用。\\n\", color=colors.WARNING)\n",
    "\n",
    "# 如果配置允许 rfifind，评估掩蔽频率通道比例\n",
    "if config.flag_step_rfifind == 1:\n",
    "    masked_info_file = os.path.join(rfifind_masks_dir,\"rfifind_mask_info.json\")\n",
    "    print(\"正在检查被掩蔽的频带比例...\", end=' ')\n",
    "    sys.stdout.flush()\n",
    "    \n",
    "    if os.path.exists(masked_info_file):\n",
    "        with open(masked_info_file, 'r') as f:\n",
    "            info = json.load(f)\n",
    "            fraction_masked_channels = info.get(\"fraction_masked_channels\", 0)\n",
    "        print(\"(已从缓存文件读取)\", end=' ')\n",
    "    else:\n",
    "        mask = rfifind.rfifind(mask_file_path)\n",
    "        fraction_masked_channels = len(mask.mask_zap_chans) / mask.nchan\n",
    "        with open(masked_info_file, 'w') as f:\n",
    "            json.dump({\"fraction_masked_channels\": fraction_masked_channels}, f)\n",
    "    mask_str = f\"{fraction_masked_channels * 100:.2f}\"\n",
    "    print_log(f\"\\nRFIFIND：被掩蔽的频率通道比例：{mask_str}%\\n\", masks=mask_str, color=colors.OKGREEN)\n",
    "\n",
    "    if 0.5 < fraction_masked_channels <= 0.95:\n",
    "        print_log(f\"!!! 警告：{mask_str}% 的频带被掩蔽，比例偏高 !!!\", color=colors.WARNING)\n",
    "        print(\"!!! 请考虑调整 RFIFIND 参数（如 RFIFIND_FREQSIG）以减少掩蔽。\")\n",
    "        time.sleep(1)\n",
    "    elif fraction_masked_channels > 0.95:\n",
    "        print_log(f\"!!! 错误：{mask_str}% 的频带被掩蔽，过高 !!!\", color=colors.ERROR)\n",
    "        print(\"!!! 请调整配置中的 RFIFIND 参数，使掩蔽比例低于 95%。\")\n",
    "        exit()\n",
    "\n",
    "# 如果存在 weights 文件，提取并记录被忽略通道\n",
    "weights_file = mask_file_path.replace(\".mask\", \".weights\")\n",
    "if os.path.exists(weights_file):\n",
    "    array_weights = np.loadtxt(weights_file, unpack=True, usecols=(0, 1,), skiprows=1)\n",
    "    ignored_indices = np.where(array_weights[1] == 0)[0]\n",
    "    config.ignorechan_list = \",\".join(map(str, ignored_indices))\n",
    "    config.nchan_ignored = len(ignored_indices)\n",
    "\n",
    "    total_chans = config.list_Observations[i].nchan\n",
    "    ignored_percent = 100 * config.nchan_ignored / total_chans\n",
    "    print(f\"\\n\\n已找到 WEIGHTS 文件 '{os.path.basename(weights_file)}'。\")\n",
    "    print(f\"共忽略了 {config.nchan_ignored} 个通道（共 {total_chans}，占 {ignored_percent:.2f}%）\")\n",
    "    print(f\"被忽略的通道索引： {config.ignorechan_list}\")\n",
    "\n",
    "time.sleep(1)"
   ]
  },
  {
   "cell_type": "code",
   "execution_count": 12,
   "metadata": {},
   "outputs": [
    {
     "name": "stdout",
     "output_type": "stream",
     "text": [
      "\u001b[95m\n",
      " ====================STEP 2 - BIRDIES AND ZAPLIST   ====================== \n",
      "\n",
      "\u001b[0mSTEP_ZAPLIST = 1\n",
      "\u001b[95m\n",
      " 02a) 使用掩模为*fits创建一个 0-DM 质心时间序列。 \n",
      "\n",
      "\u001b[0m程序运行路径为: /home/pl/work/python-workspance/FAST_pulsar_search_pl/02_BIRDIES\n",
      "日志文件为：/home/pl/work/python-workspance/FAST_pulsar_search_pl/LOG/02_BIRDIES/LOG_02a_prepdata_full.txt\n",
      "运行命令：\u001b[96mprepdata -o j1631_FAST_pulsar_search_pl_DM00.00 -mask /home/pl/work/python-workspance/FAST_pulsar_search_pl/01_RFIFIND/rfi0.1s_rfifind.mask -nobary  -dm 0 -downsamp 1 /home/pl/work/python-workspance/FAST_pulsar_search_pl/RAW/*fits\u001b[0m\n",
      "\u001b[94m运行时间： 3.0秒\u001b[0m\n",
      "2025/06/13  14:58 | prepdata 处理 'j1631_FAST_pulsar_search_pl' 成功！\n",
      "\u001b[95m\n",
      " 02b) 对所有文件进行傅里叶变换。 \n",
      "\n",
      "\u001b[0m程序运行路径为: /home/pl/work/python-workspance/FAST_pulsar_search_pl/02_BIRDIES\n",
      "日志文件为：/home/pl/work/python-workspance/FAST_pulsar_search_pl/LOG/02_BIRDIES/LOG_02b_realfft_full.txt\n",
      "运行命令：\u001b[96mrealfft  /home/pl/work/python-workspance/FAST_pulsar_search_pl/02_BIRDIES/j1631_FAST_pulsar_search_pl_DM00.00.dat\u001b[0m\n",
      "\u001b[94m运行时间： 0.0秒\u001b[0m\n",
      "\u001b[95m\n",
      " 02c) 去除红噪声。 \n",
      "\n",
      "\u001b[0m\u001b[93m检查/home/pl/work/python-workspance/FAST_pulsar_search_pl/02_BIRDIES/dereddened_ffts.txt不完整，将从头开始处理\n",
      "\u001b[0m程序运行路径为: /home/pl/work/python-workspance/FAST_pulsar_search_pl/02_BIRDIES\n",
      "日志文件为：/home/pl/work/python-workspance/FAST_pulsar_search_pl/LOG/02_BIRDIES/LOG_02c_rednoise_full.txt\n",
      "运行命令：\u001b[96mrednoise  /home/pl/work/python-workspance/FAST_pulsar_search_pl/02_BIRDIES/j1631_FAST_pulsar_search_pl_DM00.00.fft\u001b[0m\n",
      "\u001b[94m运行时间： 0.0秒\u001b[0m\n",
      "\u001b[95m\n",
      " 02d) 加速搜索和创建 zaplist。 \n",
      "\n",
      "\u001b[0m程序运行路径为: /home/pl/work/python-workspance/FAST_pulsar_search_pl/02_BIRDIES\n",
      "日志文件为：/home/pl/work/python-workspance/FAST_pulsar_search_pl/LOG/02_BIRDIES/LOG_02d_makezaplist_full.txt\n",
      "运行命令：\u001b[96maccelsearch  -zmax 0 -numharm 2 /home/pl/work/python-workspance/FAST_pulsar_search_pl/02_BIRDIES/j1631_FAST_pulsar_search_pl_DM00.00.fft\u001b[0m\n",
      "\u001b[94m运行时间： 0.0秒\u001b[0m\n",
      "傅里叶频宽： 0.038805107275644936\n",
      "正在生成鸟频文件...\n",
      "\n",
      "\u001b[93m警告：在0-DM时序中未发现更多鸟频：频带非常干净或掩模效果很好？\n",
      "\u001b[0m程序运行路径为: /home/pl/work/python-workspance/FAST_pulsar_search_pl/02_BIRDIES\n",
      "日志文件为：/home/pl/work/python-workspance/FAST_pulsar_search_pl/LOG/02_BIRDIES/LOG_02d_makezaplist_full.txt\n",
      "运行命令：\u001b[96mmakezaplist.py /home/pl/work/python-workspance/FAST_pulsar_search_pl/02_BIRDIES/j1631_FAST_pulsar_search_pl_DM00.00.birds\u001b[0m\n",
      "\u001b[94m运行时间： 0.0秒\u001b[0m\n"
     ]
    }
   ],
   "source": [
    "print_log(\"\\n ====================STEP 2 - BIRDIES AND ZAPLIST   ====================== \\n\",color=colors.HEADER)\n",
    "\n",
    "print(\"STEP_ZAPLIST = %s\" % (config.flag_step_zaplist))\n",
    "\n",
    "sourcename_mask = sourcename+'_'+config.search_label\n",
    "ifok_dir02 = os.path.join(ifok_dir,'02_BIRDIES')\n",
    "makedir(ifok_dir02)\n",
    "LOG_dir02 = os.path.join(LOG_dir,'02_BIRDIES')\n",
    "makedir(LOG_dir02)\n",
    "\n",
    "dir_birdies = os.path.join(workdir, \"02_BIRDIES\")\n",
    "if config.flag_step_zaplist == 1:\n",
    "        print_log(f\"\\n 02a) 使用掩模为{obsname}创建一个 0-DM 质心时间序列。 \\n\",color=colors.HEADER)\n",
    "        makedir(dir_birdies)\n",
    "\n",
    "        time.sleep(0.1)\n",
    "\n",
    "        sys.stdout.flush()\n",
    "        LOG_basename = \"02a_prepdata_full\" \n",
    "        log_path = os.path.join(LOG_dir02, f\"LOG_{LOG_basename}.txt\")\n",
    "        prepdata(data_path ,sourcename_mask,dir_birdies,ifok_dir02, log_path,0,0,config.ignorechan_list,mask_file_path,1,\"topocentric\",config.prepdata_flags,config.presto_env) #barycentric为不进行质心修正\n",
    "        sys.stdout.flush()\n",
    "                \n",
    "        print_log(\"\\n 02b) 对所有文件进行傅里叶变换。 \\n\",color=colors.HEADER)     \n",
    "        DM0_datfiles = f\"{dir_birdies}/{sourcename_mask}_DM00.00.dat\"    # 收集 02_BIRDIES_FOLDERS 中的 *.dat 文件\n",
    "        DM0_datfiles_path = os.path.join(dir_birdies,DM0_datfiles)\n",
    "        time.sleep(0.1)\n",
    "        LOG_basename = \"02b_realfft_full\" \n",
    "        log_path = os.path.join(LOG_dir02, f\"LOG_{LOG_basename}.txt\")\n",
    "        realfft(DM0_datfiles_path,sourcename_mask,dir_birdies,ifok_dir02,log_path,config.realfft_flags,config.presto_env)\n",
    "\n",
    "        print_log(\"\\n 02c) 去除红噪声。 \\n\",color=colors.HEADER)  \n",
    "        DM0_fftfiles = f\"{dir_birdies}/{sourcename_mask}_DM00.00.fft\"\n",
    "        DM0_fftfiles_path = os.path.join(dir_birdies,DM0_fftfiles)\n",
    "        time.sleep(0.1)\n",
    "        LOG_basename = \"02c_rednoise_full\" \n",
    "        log_path = os.path.join(LOG_dir02, f\"LOG_{LOG_basename}.txt\")\n",
    "        rednoise(DM0_fftfiles_path,sourcename_mask,dir_birdies,ifok_dir02,log_path,config.rednoise_flags,config.presto_env)\n",
    "\n",
    "        print_log(\"\\n 02d) 加速搜索和创建 zaplist。 \\n\",color=colors.HEADER)\n",
    "        DM0_fft_red_files = f\"{dir_birdies}/{sourcename_mask}_DM00.00.fft\"\n",
    "        DM0_fft_red_files_path = os.path.join(dir_birdies,DM0_fft_red_files)\n",
    "        time.sleep(0.1)\n",
    "        LOG_basename = \"02d_makezaplist_full\" \n",
    "        log_path = os.path.join(LOG_dir02, f\"LOG_{LOG_basename}.txt\")\n",
    "        zaplist_filename = make_zaplist(DM0_fft_red_files, sourcename_mask,dir_birdies,ifok_dir02,log_path,config.file_common_birdies,2,config.accelsearch_flags,config.presto_env)\n",
    "\n",
    "\n",
    "        if config.zap_isolated_pulsars_from_ffts == 1:\n",
    "                fourier_bin_size =  1./config.list_Observations[0].T_obs_s  # 计算傅里叶变换的频率分辨率\n",
    "                zaplist_file = open(zaplist_filename, 'a')  # 打开 zaplist 文件以追加内容\n",
    "\n",
    "                zaplist_file.write(\"########################################\\n\")\n",
    "                zaplist_file.write(\"#              已知脉冲星              #\\n\")\n",
    "                zaplist_file.write(\"########################################\\n\")\n",
    "                for psr in sorted(dict_freqs_to_zap.keys()):  # 遍历已知脉冲星的频率字典\n",
    "                        zaplist_file.write(\"# 脉冲星 %s \\n\" % (psr))\n",
    "                        for i_harm in range(1, config.zap_isolated_pulsars_max_harm+1):  # 添加谐波频率到 zaplist\n",
    "                                zaplist_file.write(\"B%21.14f   %19.17f\\n\" % (dict_freqs_to_zap[psr]*i_harm, fourier_bin_size*i_harm))\n",
    "                zaplist_file.close()  # 关闭文件\n"
   ]
  },
  {
   "cell_type": "code",
   "execution_count": 13,
   "metadata": {},
   "outputs": [
    {
     "name": "stdout",
     "output_type": "stream",
     "text": [
      "\u001b[95m\n",
      " ==========STEP 3 - DEDISPERSION, DE-REDDENING AND PERIODICITY SEARCH========== \n",
      "\n",
      "\u001b[0m3) 去色散、去红噪声和周期性搜索： \u001b[95m\n",
      " ====================自定义去色散计划：  ====================== \n",
      "\n",
      "\u001b[0m[(32, 35, 0.01)]\n",
      "3) 去色散：正在创建工作目录 '/home/pl/work/python-workspance/FAST_pulsar_search_pl/03_subbands'... 完成！\n",
      "未找到匹配文件: /home/pl/work/python-workspance/FAST_pulsar_search_pl/06_PNG/j1631_FAST_pulsar_search_pl_pl_dat__bary/*ps\n"
     ]
    }
   ],
   "source": [
    "#指定消色散方案并生成PNG文件夹\n",
    "if config.if_ddplan == 1:\n",
    "     \n",
    "    basename_dd_pl = 'dd'\n",
    "    log_dd_pl = '03_ddsubbands'\n",
    "else:   \n",
    "    basename_dd_pl = 'pl'\n",
    "    log_dd_pl = '03_subbands'\n",
    "\n",
    "basename_only = sourcename_mask+'_'+basename_dd_pl+'_'+fits_or_dats\n",
    "png_dir = os.path.join(workdir,'06_PNG',basename_only)\n",
    "makedir(png_dir)\n",
    "\n",
    "\n",
    "dir_dedispersion = os.path.join(config.root_workdir, log_dd_pl)  \n",
    "print_log(\"\\n ==========STEP 3 - DEDISPERSION, DE-REDDENING AND PERIODICITY SEARCH========== \\n\",color=colors.HEADER)\n",
    "\n",
    "LOG_basename = \"03_prepsubband_and_search_FFT_%s\" % (config.list_Observations[i].file_nameonly)\n",
    "print(\"3) 去色散、去红噪声和周期性搜索：\", end=' '); sys.stdout.flush()\n",
    "makedir(dir_dedispersion)  # 创建去色散目录\n",
    "\n",
    "\n",
    "if config.if_ddplan == 1:\n",
    "    print_log(\"\\n ====================DDplan去色散计划：  ====================== \\n\",color=colors.HEADER)\n",
    "    list_DDplan_scheme = get_DDplan_scheme(config.list_Observations[i].file_abspath,\n",
    "                                            png_dir,\n",
    "                                            LOG_dir,\n",
    "                                            LOG_basename,\n",
    "                                            config.dm_min,\n",
    "                                            config.dm_max,\n",
    "                                            config.dm_coherent_dedispersion,\n",
    "                                            config.max_simultaneous_dms_per_prepsubband,\n",
    "                                            config.list_Observations[i].freq_central_MHz,\n",
    "                                            config.list_Observations[i].bw_MHz,\n",
    "                                            config.list_Observations[i].nchan,\n",
    "                                            config.nsubbands,\n",
    "                                            config.list_Observations[i].t_samp_s)\n",
    "else:\n",
    "    print_log(\"\\n ====================自定义去色散计划：  ====================== \\n\",color=colors.HEADER)\n",
    "    list_DDplan_scheme = []\n",
    "    ddpl = config.dm_step\n",
    "    print(ddpl)\n",
    "    for ddpl_value in ddpl:\n",
    "        loodm, highdm, ddm = ddpl_value\n",
    "        ndms = int((highdm - loodm) // ddm)\n",
    "\n",
    "        scheme = {\n",
    "            'loDM': loodm,\n",
    "            'highDM': highdm,\n",
    "            'dDM': ddm,\n",
    "            'downsamp': 1,  \n",
    "            'num_DMs': ndms\n",
    "        }\n",
    "        list_DDplan_scheme.append(scheme)\n",
    "\n",
    "# 遍历每个方案并生成 dm_list\n",
    "all_dm_ranges_str = []\n",
    "for scheme in list_DDplan_scheme:\n",
    "    lowDM = scheme['loDM']\n",
    "    highDM = scheme['highDM']\n",
    "    dDM = scheme['dDM']\n",
    "    dm_range = np.arange(lowDM, highDM, dDM)\n",
    "    \n",
    "    dm_range_str = [f\"{dm:.2f}\" for dm in dm_range]\n",
    "    all_dm_ranges_str.extend(dm_range_str)\n",
    "dm_list = all_dm_ranges_str\n",
    "N_schemes = len(list_DDplan_scheme)\n",
    "\n",
    "print(\"3) 去色散：正在创建工作目录 '%s'...\" % (dir_dedispersion), end=' '); sys.stdout.flush()\n",
    "makedir(dir_dedispersion)\n",
    "print(\"完成！\"); sys.stdout.flush()\n",
    "\n",
    "ps2png(os.path.join(png_dir,'*ps'))"
   ]
  },
  {
   "cell_type": "code",
   "execution_count": 14,
   "metadata": {},
   "outputs": [
    {
     "name": "stdout",
     "output_type": "stream",
     "text": [
      "\u001b[95m\n",
      " ==========STEP 3 -1  PREPSUBBAND 消色散========= \n",
      "\n",
      "\u001b[0m非并行消色散\n",
      "----------------------------------------------------------------------\n",
      "prepsubband 将运行 1 次，使用以下 DM 范围：\n",
      "\n",
      "      低 DM       高 DM        dDM        下采样      DM 数量 \n",
      "    32.000     34.990       0.01          1        300 \n",
      "----------------------------------------------------------------------\n",
      "\u001b[93m使用 128 个子带进行去色散（原始通道数量：1024）\n",
      "\u001b[0m第\u001b[1m1/1\u001b[0m次去色散\n",
      "提示：使用 '\u001b[96mtail -f /home/pl/work/python-workspance/FAST_pulsar_search_pl/LOG/03_subbands/LOG_03_prepsubband_pl0.txt\u001b[0m' 查看 prepsubband 的进度\n",
      "程序运行路径为: /home/pl/work/python-workspance/FAST_pulsar_search_pl/03_subbands\n",
      "日志文件为：/home/pl/work/python-workspance/FAST_pulsar_search_pl/LOG/03_subbands/LOG_03_prepsubband_pl0.txt\n",
      "运行命令：\u001b[96mprepsubband -nobary -ncpus 4  -o j1631_FAST_pulsar_search_pl  -mask /home/pl/work/python-workspance/FAST_pulsar_search_pl/01_RFIFIND/rfi0.1s_rfifind.mask -lodm 32 -dmstep 0.01 -numdms 300 -downsamp 1 -nsub 128 /home/pl/work/python-workspance/FAST_pulsar_search_pl/RAW/*fits\u001b[0m\n",
      "\u001b[94m运行时间： 20.0秒\u001b[0m\n"
     ]
    }
   ],
   "source": [
    "print_log(\"\\n ==========STEP 3 -1  PREPSUBBAND 消色散========= \\n\",color=colors.HEADER)\n",
    "LOG_dir03 = os.path.join(LOG_dir,log_dd_pl)\n",
    "makedir(LOG_dir03)\n",
    "\n",
    "zapfile = \"%s/%s_DM00.00.zaplist\" % (dir_birdies, sourcename_mask)\n",
    "dict_flag_steps = {'flag_step_dedisperse': config.flag_step_dedisperse, 'flag_step_realfft': config.flag_step_realfft, 'flag_step_periodicity_search': config.flag_step_periodicity_search}\n",
    "\n",
    "cpu_count()\n",
    "ignorechan_list = config.ignorechan_list\n",
    "nchan = config.list_Observations[0].nchan\n",
    "subbands = config.nsubbands\n",
    "num_simultaneous_prepsubbands = config.num_simultaneous_prepsubbands\n",
    "other_flags_prepsubband = config.prepsubband_flags\n",
    "presto_env_prepsubband =  config.presto_env\n",
    "\n",
    "if N_schemes < num_simultaneous_prepsubbands:\n",
    "        print(f'非并行消色散')\n",
    "        dedisperse(data_path,basename_dd_pl,sourcename_mask, dir_dedispersion, LOG_dir03, ignorechan_list, mask_file_path, list_DDplan_scheme, nchan, subbands, other_flags_prepsubband, presto_env_prepsubband)\n",
    "\n",
    "else:   \n",
    "# if 1:\n",
    "        print_log(f'并行消色散:核数{num_simultaneous_prepsubbands}/{cpu_count()}',masks=str(num_simultaneous_prepsubbands),color=colors.HEADER)\n",
    "        prepsubbandcmd_all,ifok_all,log_all=dedisperse2cmd(data_path,basename_dd_pl,sourcename_mask, dir_dedispersion, LOG_dir03, ignorechan_list, mask_file_path, list_DDplan_scheme, nchan, subbands, other_flags_prepsubband, presto_env_prepsubband)\n",
    "        pool(num_simultaneous_prepsubbands,'prepsubband',prepsubbandcmd_all,ifok_all,log_all,work_dir = dir_dedispersion)\n",
    "        \n"
   ]
  },
  {
   "cell_type": "code",
   "execution_count": 15,
   "metadata": {},
   "outputs": [
    {
     "name": "stdout",
     "output_type": "stream",
     "text": [
      "\u001b[95m\n",
      " ==========STEP 3 -2  prepdata预质心修正 ========= \n",
      "\n",
      "\u001b[0m使用ra = 16:31:43.2207 ,dec = +12:52:05.448进行质心修正\n",
      "\u001b[95m\n",
      " ==================== 修改FAST的inf文件错误  ====================== \n",
      "\n",
      "\u001b[0m成功！\n",
      "\u001b[95m\n",
      " ==================== ra,dec修正完毕  ====================== \n",
      "\n",
      "\u001b[0m\u001b[92m\n",
      " ==================== 3 -3  prepdata质心修正  ====================== \n",
      "\n",
      "\u001b[0m并行质心修正:核数\u001b[95m8\u001b[0m/16\n"
     ]
    },
    {
     "name": "stderr",
     "output_type": "stream",
     "text": [
      "prepdata-bary-8核:   0%|          | 0/300 [00:00<?, ?cmd/s]"
     ]
    },
    {
     "name": "stdout",
     "output_type": "stream",
     "text": [
      "程序运行路径为: /home/pl/work/python-workspance/FAST_pulsar_search_pl/03_barydata\n",
      "日志文件为：/home/pl/work/python-workspance/FAST_pulsar_search_pl/LOG/03_barydata/BARY-32.00.txt\n",
      "程序运行路径为: /home/pl/work/python-workspance/FAST_pulsar_search_pl/03_barydata\n",
      "日志文件为：/home/pl/work/python-workspance/FAST_pulsar_search_pl/LOG/03_barydata/BARY-32.01.txt\n",
      "程序运行路径为: /home/pl/work/python-workspance/FAST_pulsar_search_pl/03_barydata\n",
      "程序运行路径为: /home/pl/work/python-workspance/FAST_pulsar_search_pl/03_barydata\n",
      "程序运行路径为: /home/pl/work/python-workspance/FAST_pulsar_search_pl/03_barydata\n",
      "程序运行路径为: /home/pl/work/python-workspance/FAST_pulsar_search_pl/03_barydata\n",
      "程序运行路径为: /home/pl/work/python-workspance/FAST_pulsar_search_pl/03_barydata\n",
      "日志文件为：/home/pl/work/python-workspance/FAST_pulsar_search_pl/LOG/03_barydata/BARY-32.03.txt\n",
      "程序运行路径为: /home/pl/work/python-workspance/FAST_pulsar_search_pl/03_barydata\n",
      "日志文件为：/home/pl/work/python-workspance/FAST_pulsar_search_pl/LOG/03_barydata/BARY-32.06.txt\n",
      "日志文件为：/home/pl/work/python-workspance/FAST_pulsar_search_pl/LOG/03_barydata/BARY-32.04.txt\n",
      "日志文件为：/home/pl/work/python-workspance/FAST_pulsar_search_pl/LOG/03_barydata/BARY-32.07.txt\n",
      "日志文件为：/home/pl/work/python-workspance/FAST_pulsar_search_pl/LOG/03_barydata/BARY-32.02.txt\n",
      "日志文件为：/home/pl/work/python-workspance/FAST_pulsar_search_pl/LOG/03_barydata/BARY-32.05.txt\n",
      "运行命令：\u001b[96mprepdata -o j1631_FAST_pulsar_search_pl_bary_DM32.03   -dm 32.03 -downsamp 1 /home/pl/work/python-workspance/FAST_pulsar_search_pl/03_subbands/j1631_FAST_pulsar_search_pl_DM32.03.dat\u001b[0m\n",
      "\u001b[94m运行时间： 0.0秒\u001b[0m\n",
      "运行命令：\u001b[96mprepdata -o j1631_FAST_pulsar_search_pl_bary_DM32.00   -dm 32.00 -downsamp 1 /home/pl/work/python-workspance/FAST_pulsar_search_pl/03_subbands/j1631_FAST_pulsar_search_pl_DM32.00.dat\u001b[0m\n",
      "\u001b[94m运行时间： 0.0秒\u001b[0m\n",
      "运行命令：\u001b[96mprepdata -o j1631_FAST_pulsar_search_pl_bary_DM32.02   -dm 32.02 -downsamp 1 /home/pl/work/python-workspance/FAST_pulsar_search_pl/03_subbands/j1631_FAST_pulsar_search_pl_DM32.02.dat\u001b[0m\n",
      "\u001b[94m运行时间： 0.0秒\u001b[0m\n",
      "运行命令：\u001b[96mprepdata -o j1631_FAST_pulsar_search_pl_bary_DM32.06   -dm 32.06 -downsamp 1 /home/pl/work/python-workspance/FAST_pulsar_search_pl/03_subbands/j1631_FAST_pulsar_search_pl_DM32.06.dat\u001b[0m\n",
      "\u001b[94m运行时间： 0.0秒\u001b[0m\n",
      "运行命令：\u001b[96mprepdata -o j1631_FAST_pulsar_search_pl_bary_DM32.04   -dm 32.04 -downsamp 1 /home/pl/work/python-workspance/FAST_pulsar_search_pl/03_subbands/j1631_FAST_pulsar_search_pl_DM32.04.dat\u001b[0m\n",
      "运行命令：\u001b[96mprepdata -o j1631_FAST_pulsar_search_pl_bary_DM32.01   -dm 32.01 -downsamp 1 /home/pl/work/python-workspance/FAST_pulsar_search_pl/03_subbands/j1631_FAST_pulsar_search_pl_DM32.01.dat\u001b[0m\n",
      "\u001b[94m运行时间： 0.0秒\u001b[0m\n",
      "\u001b[94m运行时间： 0.0秒\u001b[0m\n",
      "运行命令：\u001b[96mprepdata -o j1631_FAST_pulsar_search_pl_bary_DM32.05   -dm 32.05 -downsamp 1 /home/pl/work/python-workspance/FAST_pulsar_search_pl/03_subbands/j1631_FAST_pulsar_search_pl_DM32.05.dat\u001b[0m\n",
      "\u001b[94m运行时间： 0.0秒\u001b[0m\n",
      "运行命令：\u001b[96mprepdata -o j1631_FAST_pulsar_search_pl_bary_DM32.07   -dm 32.07 -downsamp 1 /home/pl/work/python-workspance/FAST_pulsar_search_pl/03_subbands/j1631_FAST_pulsar_search_pl_DM32.07.dat\u001b[0m\n",
      "\u001b[94m运行时间： 0.0秒\u001b[0m\n",
      "程序运行路径为: /home/pl/work/python-workspance/FAST_pulsar_search_pl/03_barydata\n"
     ]
    },
    {
     "name": "stderr",
     "output_type": "stream",
     "text": [
      "prepdata-bary-8核:   0%|          | 1/300 [00:02<13:16,  2.66s/cmd]"
     ]
    },
    {
     "name": "stdout",
     "output_type": "stream",
     "text": [
      "日志文件为：/home/pl/work/python-workspance/FAST_pulsar_search_pl/LOG/03_barydata/BARY-32.08.txt\n",
      "程序运行路径为: /home/pl/work/python-workspance/FAST_pulsar_search_pl/03_barydata\n",
      "日志文件为：/home/pl/work/python-workspance/FAST_pulsar_search_pl/LOG/03_barydata/BARY-32.09.txt\n",
      "程序运行路径为: /home/pl/work/python-workspance/FAST_pulsar_search_pl/03_barydata\n",
      "日志文件为：/home/pl/work/python-workspance/FAST_pulsar_search_pl/LOG/03_barydata/BARY-32.10.txt\n",
      "程序运行路径为: /home/pl/work/python-workspance/FAST_pulsar_search_pl/03_barydata\n",
      "日志文件为：/home/pl/work/python-workspance/FAST_pulsar_search_pl/LOG/03_barydata/BARY-32.11.txt\n"
     ]
    },
    {
     "name": "stderr",
     "output_type": "stream",
     "text": [
      "prepdata-bary-8核:   2%|▏         | 5/300 [00:02<02:03,  2.39cmd/s]"
     ]
    },
    {
     "name": "stdout",
     "output_type": "stream",
     "text": [
      "程序运行路径为: /home/pl/work/python-workspance/FAST_pulsar_search_pl/03_barydata\n",
      "程序运行路径为: /home/pl/work/python-workspance/FAST_pulsar_search_pl/03_barydata\n",
      "程序运行路径为: /home/pl/work/python-workspance/FAST_pulsar_search_pl/03_barydata\n",
      "日志文件为：/home/pl/work/python-workspance/FAST_pulsar_search_pl/LOG/03_barydata/BARY-32.12.txt\n",
      "日志文件为：/home/pl/work/python-workspance/FAST_pulsar_search_pl/LOG/03_barydata/BARY-32.14.txt\n",
      "日志文件为：/home/pl/work/python-workspance/FAST_pulsar_search_pl/LOG/03_barydata/BARY-32.13.txt\n",
      "程序运行路径为: /home/pl/work/python-workspance/FAST_pulsar_search_pl/03_barydata\n",
      "日志文件为：/home/pl/work/python-workspance/FAST_pulsar_search_pl/LOG/03_barydata/BARY-32.15.txt\n",
      "运行命令：\u001b[96mprepdata -o j1631_FAST_pulsar_search_pl_bary_DM32.08   -dm 32.08 -downsamp 1 /home/pl/work/python-workspance/FAST_pulsar_search_pl/03_subbands/j1631_FAST_pulsar_search_pl_DM32.08.dat\u001b[0m\n",
      "\u001b[94m运行时间： 0.0秒\u001b[0m\n",
      "运行命令：\u001b[96mprepdata -o j1631_FAST_pulsar_search_pl_bary_DM32.09   -dm 32.09 -downsamp 1 /home/pl/work/python-workspance/FAST_pulsar_search_pl/03_subbands/j1631_FAST_pulsar_search_pl_DM32.09.dat\u001b[0m\n",
      "\u001b[94m运行时间： 0.0秒\u001b[0m\n",
      "运行命令：\u001b[96mprepdata -o j1631_FAST_pulsar_search_pl_bary_DM32.10   -dm 32.10 -downsamp 1 /home/pl/work/python-workspance/FAST_pulsar_search_pl/03_subbands/j1631_FAST_pulsar_search_pl_DM32.10.dat\u001b[0m\n",
      "\u001b[94m运行时间： 0.0秒\u001b[0m\n",
      "运行命令：\u001b[96mprepdata -o j1631_FAST_pulsar_search_pl_bary_DM32.11   -dm 32.11 -downsamp 1 /home/pl/work/python-workspance/FAST_pulsar_search_pl/03_subbands/j1631_FAST_pulsar_search_pl_DM32.11.dat\u001b[0m\n",
      "\u001b[94m运行时间： 0.0秒\u001b[0m\n",
      "运行命令：\u001b[96mprepdata -o j1631_FAST_pulsar_search_pl_bary_DM32.12   -dm 32.12 -downsamp 1 /home/pl/work/python-workspance/FAST_pulsar_search_pl/03_subbands/j1631_FAST_pulsar_search_pl_DM32.12.dat\u001b[0m\n",
      "\u001b[94m运行时间： 0.0秒\u001b[0m\n",
      "运行命令：\u001b[96mprepdata -o j1631_FAST_pulsar_search_pl_bary_DM32.13   -dm 32.13 -downsamp 1 /home/pl/work/python-workspance/FAST_pulsar_search_pl/03_subbands/j1631_FAST_pulsar_search_pl_DM32.13.dat\u001b[0m\n",
      "\u001b[94m运行时间： 0.0秒\u001b[0m\n",
      "运行命令：\u001b[96mprepdata -o j1631_FAST_pulsar_search_pl_bary_DM32.14   -dm 32.14 -downsamp 1 /home/pl/work/python-workspance/FAST_pulsar_search_pl/03_subbands/j1631_FAST_pulsar_search_pl_DM32.14.dat\u001b[0m\n",
      "\u001b[94m运行时间： 0.0秒\u001b[0m\n",
      "运行命令：\u001b[96mprepdata -o j1631_FAST_pulsar_search_pl_bary_DM32.15   -dm 32.15 -downsamp 1 /home/pl/work/python-workspance/FAST_pulsar_search_pl/03_subbands/j1631_FAST_pulsar_search_pl_DM32.15.dat\u001b[0m\n",
      "\u001b[94m运行时间： 0.0秒\u001b[0m\n"
     ]
    },
    {
     "name": "stderr",
     "output_type": "stream",
     "text": [
      "prepdata-bary-8核:   3%|▎         | 9/300 [00:05<02:30,  1.94cmd/s]"
     ]
    },
    {
     "name": "stdout",
     "output_type": "stream",
     "text": [
      "程序运行路径为: /home/pl/work/python-workspance/FAST_pulsar_search_pl/03_barydata\n",
      "日志文件为：/home/pl/work/python-workspance/FAST_pulsar_search_pl/LOG/03_barydata/BARY-32.16.txt\n",
      "程序运行路径为: /home/pl/work/python-workspance/FAST_pulsar_search_pl/03_barydata\n",
      "日志文件为：/home/pl/work/python-workspance/FAST_pulsar_search_pl/LOG/03_barydata/BARY-32.17.txt\n",
      "程序运行路径为: /home/pl/work/python-workspance/FAST_pulsar_search_pl/03_barydata\n",
      "日志文件为：/home/pl/work/python-workspance/FAST_pulsar_search_pl/LOG/03_barydata/BARY-32.18.txt\n",
      "程序运行路径为: /home/pl/work/python-workspance/FAST_pulsar_search_pl/03_barydata\n",
      "日志文件为：/home/pl/work/python-workspance/FAST_pulsar_search_pl/LOG/03_barydata/BARY-32.19.txt\n"
     ]
    },
    {
     "name": "stderr",
     "output_type": "stream",
     "text": [
      "prepdata-bary-8核:   4%|▍         | 13/300 [00:05<01:26,  3.30cmd/s]"
     ]
    },
    {
     "name": "stdout",
     "output_type": "stream",
     "text": [
      "程序运行路径为: /home/pl/work/python-workspance/FAST_pulsar_search_pl/03_barydata\n",
      "日志文件为：/home/pl/work/python-workspance/FAST_pulsar_search_pl/LOG/03_barydata/BARY-32.20.txt\n",
      "程序运行路径为: /home/pl/work/python-workspance/FAST_pulsar_search_pl/03_barydata\n",
      "日志文件为：/home/pl/work/python-workspance/FAST_pulsar_search_pl/LOG/03_barydata/BARY-32.21.txt\n",
      "程序运行路径为: /home/pl/work/python-workspance/FAST_pulsar_search_pl/03_barydata\n",
      "日志文件为：/home/pl/work/python-workspance/FAST_pulsar_search_pl/LOG/03_barydata/BARY-32.22.txt\n",
      "程序运行路径为: /home/pl/work/python-workspance/FAST_pulsar_search_pl/03_barydata\n",
      "日志文件为：/home/pl/work/python-workspance/FAST_pulsar_search_pl/LOG/03_barydata/BARY-32.23.txt\n",
      "运行命令：\u001b[96mprepdata -o j1631_FAST_pulsar_search_pl_bary_DM32.16   -dm 32.16 -downsamp 1 /home/pl/work/python-workspance/FAST_pulsar_search_pl/03_subbands/j1631_FAST_pulsar_search_pl_DM32.16.dat\u001b[0m\n",
      "\u001b[94m运行时间： 0.0秒\u001b[0m\n",
      "运行命令：\u001b[96mprepdata -o j1631_FAST_pulsar_search_pl_bary_DM32.17   -dm 32.17 -downsamp 1 /home/pl/work/python-workspance/FAST_pulsar_search_pl/03_subbands/j1631_FAST_pulsar_search_pl_DM32.17.dat\u001b[0m\n",
      "\u001b[94m运行时间： 0.0秒\u001b[0m\n",
      "运行命令：\u001b[96mprepdata -o j1631_FAST_pulsar_search_pl_bary_DM32.18   -dm 32.18 -downsamp 1 /home/pl/work/python-workspance/FAST_pulsar_search_pl/03_subbands/j1631_FAST_pulsar_search_pl_DM32.18.dat\u001b[0m\n",
      "\u001b[94m运行时间： 0.0秒\u001b[0m\n",
      "运行命令：\u001b[96mprepdata -o j1631_FAST_pulsar_search_pl_bary_DM32.19   -dm 32.19 -downsamp 1 /home/pl/work/python-workspance/FAST_pulsar_search_pl/03_subbands/j1631_FAST_pulsar_search_pl_DM32.19.dat\u001b[0m\n",
      "\u001b[94m运行时间： 0.0秒\u001b[0m\n",
      "运行命令：\u001b[96mprepdata -o j1631_FAST_pulsar_search_pl_bary_DM32.20   -dm 32.20 -downsamp 1 /home/pl/work/python-workspance/FAST_pulsar_search_pl/03_subbands/j1631_FAST_pulsar_search_pl_DM32.20.dat\u001b[0m\n",
      "\u001b[94m运行时间： 0.0秒\u001b[0m\n",
      "运行命令：\u001b[96mprepdata -o j1631_FAST_pulsar_search_pl_bary_DM32.22   -dm 32.22 -downsamp 1 /home/pl/work/python-workspance/FAST_pulsar_search_pl/03_subbands/j1631_FAST_pulsar_search_pl_DM32.22.dat\u001b[0m\n",
      "\u001b[94m运行时间： 0.0秒\u001b[0m\n",
      "运行命令：\u001b[96mprepdata -o j1631_FAST_pulsar_search_pl_bary_DM32.21   -dm 32.21 -downsamp 1 /home/pl/work/python-workspance/FAST_pulsar_search_pl/03_subbands/j1631_FAST_pulsar_search_pl_DM32.21.dat\u001b[0m\n",
      "\u001b[94m运行时间： 0.0秒\u001b[0m\n",
      "运行命令：\u001b[96mprepdata -o j1631_FAST_pulsar_search_pl_bary_DM32.23   -dm 32.23 -downsamp 1 /home/pl/work/python-workspance/FAST_pulsar_search_pl/03_subbands/j1631_FAST_pulsar_search_pl_DM32.23.dat\u001b[0m\n",
      "\u001b[94m运行时间： 0.0秒\u001b[0m\n"
     ]
    },
    {
     "name": "stderr",
     "output_type": "stream",
     "text": [
      "prepdata-bary-8核:   6%|▌         | 17/300 [00:07<01:57,  2.41cmd/s]"
     ]
    },
    {
     "name": "stdout",
     "output_type": "stream",
     "text": [
      "程序运行路径为: /home/pl/work/python-workspance/FAST_pulsar_search_pl/03_barydata\n",
      "日志文件为：/home/pl/work/python-workspance/FAST_pulsar_search_pl/LOG/03_barydata/BARY-32.24.txt\n",
      "程序运行路径为: /home/pl/work/python-workspance/FAST_pulsar_search_pl/03_barydata\n",
      "日志文件为：/home/pl/work/python-workspance/FAST_pulsar_search_pl/LOG/03_barydata/BARY-32.25.txt\n",
      "程序运行路径为: /home/pl/work/python-workspance/FAST_pulsar_search_pl/03_barydata\n",
      "日志文件为：/home/pl/work/python-workspance/FAST_pulsar_search_pl/LOG/03_barydata/BARY-32.26.txt\n",
      "程序运行路径为: /home/pl/work/python-workspance/FAST_pulsar_search_pl/03_barydata\n",
      "日志文件为：/home/pl/work/python-workspance/FAST_pulsar_search_pl/LOG/03_barydata/BARY-32.27.txt\n"
     ]
    },
    {
     "name": "stderr",
     "output_type": "stream",
     "text": [
      "prepdata-bary-8核:   7%|▋         | 21/300 [00:07<01:17,  3.62cmd/s]"
     ]
    },
    {
     "name": "stdout",
     "output_type": "stream",
     "text": [
      "程序运行路径为: /home/pl/work/python-workspance/FAST_pulsar_search_pl/03_barydata\n",
      "日志文件为：/home/pl/work/python-workspance/FAST_pulsar_search_pl/LOG/03_barydata/BARY-32.28.txt\n",
      "程序运行路径为: /home/pl/work/python-workspance/FAST_pulsar_search_pl/03_barydata\n",
      "日志文件为：/home/pl/work/python-workspance/FAST_pulsar_search_pl/LOG/03_barydata/BARY-32.29.txt\n",
      "程序运行路径为: /home/pl/work/python-workspance/FAST_pulsar_search_pl/03_barydata\n",
      "日志文件为：/home/pl/work/python-workspance/FAST_pulsar_search_pl/LOG/03_barydata/BARY-32.30.txt\n",
      "程序运行路径为: /home/pl/work/python-workspance/FAST_pulsar_search_pl/03_barydata\n",
      "日志文件为：/home/pl/work/python-workspance/FAST_pulsar_search_pl/LOG/03_barydata/BARY-32.31.txt\n",
      "运行命令：\u001b[96mprepdata -o j1631_FAST_pulsar_search_pl_bary_DM32.25   -dm 32.25 -downsamp 1 /home/pl/work/python-workspance/FAST_pulsar_search_pl/03_subbands/j1631_FAST_pulsar_search_pl_DM32.25.dat\u001b[0m\n",
      "\u001b[94m运行时间： 0.0秒\u001b[0m\n",
      "运行命令：\u001b[96mprepdata -o j1631_FAST_pulsar_search_pl_bary_DM32.24   -dm 32.24 -downsamp 1 /home/pl/work/python-workspance/FAST_pulsar_search_pl/03_subbands/j1631_FAST_pulsar_search_pl_DM32.24.dat\u001b[0m\n",
      "\u001b[94m运行时间： 0.0秒\u001b[0m\n",
      "运行命令：\u001b[96mprepdata -o j1631_FAST_pulsar_search_pl_bary_DM32.26   -dm 32.26 -downsamp 1 /home/pl/work/python-workspance/FAST_pulsar_search_pl/03_subbands/j1631_FAST_pulsar_search_pl_DM32.26.dat\u001b[0m\n",
      "\u001b[94m运行时间： 0.0秒\u001b[0m\n",
      "运行命令：\u001b[96mprepdata -o j1631_FAST_pulsar_search_pl_bary_DM32.29   -dm 32.29 -downsamp 1 /home/pl/work/python-workspance/FAST_pulsar_search_pl/03_subbands/j1631_FAST_pulsar_search_pl_DM32.29.dat\u001b[0m\n",
      "运行命令：\u001b[96mprepdata -o j1631_FAST_pulsar_search_pl_bary_DM32.31   -dm 32.31 -downsamp 1 /home/pl/work/python-workspance/FAST_pulsar_search_pl/03_subbands/j1631_FAST_pulsar_search_pl_DM32.31.dat\u001b[0m\n",
      "\u001b[94m运行时间： 0.0秒\u001b[0m\n",
      "\u001b[94m运行时间： 0.0秒\u001b[0m\n",
      "运行命令：\u001b[96mprepdata -o j1631_FAST_pulsar_search_pl_bary_DM32.27   -dm 32.27 -downsamp 1 /home/pl/work/python-workspance/FAST_pulsar_search_pl/03_subbands/j1631_FAST_pulsar_search_pl_DM32.27.dat\u001b[0m\n",
      "\u001b[94m运行时间： 0.0秒\u001b[0m\n",
      "运行命令：\u001b[96mprepdata -o j1631_FAST_pulsar_search_pl_bary_DM32.28   -dm 32.28 -downsamp 1 /home/pl/work/python-workspance/FAST_pulsar_search_pl/03_subbands/j1631_FAST_pulsar_search_pl_DM32.28.dat\u001b[0m\n",
      "\u001b[94m运行时间： 0.0秒\u001b[0m\n",
      "运行命令：\u001b[96mprepdata -o j1631_FAST_pulsar_search_pl_bary_DM32.30   -dm 32.30 -downsamp 1 /home/pl/work/python-workspance/FAST_pulsar_search_pl/03_subbands/j1631_FAST_pulsar_search_pl_DM32.30.dat\u001b[0m\n",
      "\u001b[94m运行时间： 0.0秒\u001b[0m\n"
     ]
    },
    {
     "name": "stderr",
     "output_type": "stream",
     "text": [
      "prepdata-bary-8核:   8%|▊         | 25/300 [00:10<01:44,  2.63cmd/s]"
     ]
    },
    {
     "name": "stdout",
     "output_type": "stream",
     "text": [
      "程序运行路径为: /home/pl/work/python-workspance/FAST_pulsar_search_pl/03_barydata\n",
      "日志文件为：/home/pl/work/python-workspance/FAST_pulsar_search_pl/LOG/03_barydata/BARY-32.32.txt\n",
      "程序运行路径为: /home/pl/work/python-workspance/FAST_pulsar_search_pl/03_barydata\n",
      "日志文件为：/home/pl/work/python-workspance/FAST_pulsar_search_pl/LOG/03_barydata/BARY-32.33.txt\n",
      "程序运行路径为: /home/pl/work/python-workspance/FAST_pulsar_search_pl/03_barydata\n",
      "日志文件为：/home/pl/work/python-workspance/FAST_pulsar_search_pl/LOG/03_barydata/BARY-32.34.txt\n"
     ]
    },
    {
     "name": "stderr",
     "output_type": "stream",
     "text": [
      "prepdata-bary-8核:   9%|▉         | 28/300 [00:10<01:19,  3.42cmd/s]"
     ]
    },
    {
     "name": "stdout",
     "output_type": "stream",
     "text": [
      "程序运行路径为: /home/pl/work/python-workspance/FAST_pulsar_search_pl/03_barydata\n",
      "程序运行路径为: /home/pl/work/python-workspance/FAST_pulsar_search_pl/03_barydata\n",
      "日志文件为：/home/pl/work/python-workspance/FAST_pulsar_search_pl/LOG/03_barydata/BARY-32.35.txt\n",
      "日志文件为：/home/pl/work/python-workspance/FAST_pulsar_search_pl/LOG/03_barydata/BARY-32.36.txt\n",
      "程序运行路径为: /home/pl/work/python-workspance/FAST_pulsar_search_pl/03_barydata\n",
      "日志文件为：/home/pl/work/python-workspance/FAST_pulsar_search_pl/LOG/03_barydata/BARY-32.37.txt\n",
      "程序运行路径为: /home/pl/work/python-workspance/FAST_pulsar_search_pl/03_barydata\n",
      "日志文件为：/home/pl/work/python-workspance/FAST_pulsar_search_pl/LOG/03_barydata/BARY-32.38.txt\n",
      "程序运行路径为: /home/pl/work/python-workspance/FAST_pulsar_search_pl/03_barydata\n",
      "日志文件为：/home/pl/work/python-workspance/FAST_pulsar_search_pl/LOG/03_barydata/BARY-32.39.txt\n",
      "运行命令：\u001b[96mprepdata -o j1631_FAST_pulsar_search_pl_bary_DM32.32   -dm 32.32 -downsamp 1 /home/pl/work/python-workspance/FAST_pulsar_search_pl/03_subbands/j1631_FAST_pulsar_search_pl_DM32.32.dat\u001b[0m\n",
      "\u001b[94m运行时间： 0.0秒\u001b[0m\n",
      "运行命令：\u001b[96mprepdata -o j1631_FAST_pulsar_search_pl_bary_DM32.33   -dm 32.33 -downsamp 1 /home/pl/work/python-workspance/FAST_pulsar_search_pl/03_subbands/j1631_FAST_pulsar_search_pl_DM32.33.dat\u001b[0m\n",
      "\u001b[94m运行时间： 0.0秒\u001b[0m\n",
      "运行命令：\u001b[96mprepdata -o j1631_FAST_pulsar_search_pl_bary_DM32.34   -dm 32.34 -downsamp 1 /home/pl/work/python-workspance/FAST_pulsar_search_pl/03_subbands/j1631_FAST_pulsar_search_pl_DM32.34.dat\u001b[0m\n",
      "\u001b[94m运行时间： 0.0秒\u001b[0m\n",
      "运行命令：\u001b[96mprepdata -o j1631_FAST_pulsar_search_pl_bary_DM32.39   -dm 32.39 -downsamp 1 /home/pl/work/python-workspance/FAST_pulsar_search_pl/03_subbands/j1631_FAST_pulsar_search_pl_DM32.39.dat\u001b[0m\n",
      "\u001b[94m运行时间： 0.0秒\u001b[0m\n",
      "运行命令：\u001b[96mprepdata -o j1631_FAST_pulsar_search_pl_bary_DM32.38   -dm 32.38 -downsamp 1 /home/pl/work/python-workspance/FAST_pulsar_search_pl/03_subbands/j1631_FAST_pulsar_search_pl_DM32.38.dat\u001b[0m\n",
      "\u001b[94m运行时间： 0.0秒\u001b[0m\n",
      "运行命令：\u001b[96mprepdata -o j1631_FAST_pulsar_search_pl_bary_DM32.36   -dm 32.36 -downsamp 1 /home/pl/work/python-workspance/FAST_pulsar_search_pl/03_subbands/j1631_FAST_pulsar_search_pl_DM32.36.dat\u001b[0m\n",
      "\u001b[94m运行时间： 0.0秒\u001b[0m\n",
      "运行命令：\u001b[96mprepdata -o j1631_FAST_pulsar_search_pl_bary_DM32.35   -dm 32.35 -downsamp 1 /home/pl/work/python-workspance/FAST_pulsar_search_pl/03_subbands/j1631_FAST_pulsar_search_pl_DM32.35.dat\u001b[0m\n",
      "\u001b[94m运行时间： 0.0秒\u001b[0m\n",
      "运行命令：\u001b[96mprepdata -o j1631_FAST_pulsar_search_pl_bary_DM32.37   -dm 32.37 -downsamp 1 /home/pl/work/python-workspance/FAST_pulsar_search_pl/03_subbands/j1631_FAST_pulsar_search_pl_DM32.37.dat\u001b[0m\n",
      "\u001b[94m运行时间： 0.0秒\u001b[0m\n"
     ]
    },
    {
     "name": "stderr",
     "output_type": "stream",
     "text": [
      "prepdata-bary-8核:  11%|█         | 33/300 [00:12<01:35,  2.80cmd/s]"
     ]
    },
    {
     "name": "stdout",
     "output_type": "stream",
     "text": [
      "程序运行路径为: /home/pl/work/python-workspance/FAST_pulsar_search_pl/03_barydata\n",
      "日志文件为：/home/pl/work/python-workspance/FAST_pulsar_search_pl/LOG/03_barydata/BARY-32.40.txt\n",
      "程序运行路径为: /home/pl/work/python-workspance/FAST_pulsar_search_pl/03_barydata\n",
      "日志文件为：/home/pl/work/python-workspance/FAST_pulsar_search_pl/LOG/03_barydata/BARY-32.41.txt\n"
     ]
    },
    {
     "name": "stderr",
     "output_type": "stream",
     "text": [
      "prepdata-bary-8核:  12%|█▏        | 35/300 [00:12<01:20,  3.30cmd/s]"
     ]
    },
    {
     "name": "stdout",
     "output_type": "stream",
     "text": [
      "程序运行路径为: /home/pl/work/python-workspance/FAST_pulsar_search_pl/03_barydata\n",
      "日志文件为：/home/pl/work/python-workspance/FAST_pulsar_search_pl/LOG/03_barydata/BARY-32.42.txt\n",
      "程序运行路径为: /home/pl/work/python-workspance/FAST_pulsar_search_pl/03_barydata\n",
      "日志文件为：/home/pl/work/python-workspance/FAST_pulsar_search_pl/LOG/03_barydata/BARY-32.43.txt\n"
     ]
    },
    {
     "name": "stderr",
     "output_type": "stream",
     "text": [
      "prepdata-bary-8核:  12%|█▏        | 37/300 [00:12<01:06,  3.97cmd/s]"
     ]
    },
    {
     "name": "stdout",
     "output_type": "stream",
     "text": [
      "程序运行路径为: /home/pl/work/python-workspance/FAST_pulsar_search_pl/03_barydata\n",
      "日志文件为：/home/pl/work/python-workspance/FAST_pulsar_search_pl/LOG/03_barydata/BARY-32.44.txt\n",
      "程序运行路径为: /home/pl/work/python-workspance/FAST_pulsar_search_pl/03_barydata\n",
      "日志文件为：/home/pl/work/python-workspance/FAST_pulsar_search_pl/LOG/03_barydata/BARY-32.45.txt\n",
      "程序运行路径为: /home/pl/work/python-workspance/FAST_pulsar_search_pl/03_barydata\n",
      "日志文件为：/home/pl/work/python-workspance/FAST_pulsar_search_pl/LOG/03_barydata/BARY-32.46.txt\n",
      "程序运行路径为: /home/pl/work/python-workspance/FAST_pulsar_search_pl/03_barydata\n",
      "日志文件为：/home/pl/work/python-workspance/FAST_pulsar_search_pl/LOG/03_barydata/BARY-32.47.txt\n",
      "运行命令：\u001b[96mprepdata -o j1631_FAST_pulsar_search_pl_bary_DM32.41   -dm 32.41 -downsamp 1 /home/pl/work/python-workspance/FAST_pulsar_search_pl/03_subbands/j1631_FAST_pulsar_search_pl_DM32.41.dat\u001b[0m\n",
      "\u001b[94m运行时间： 0.0秒\u001b[0m\n",
      "运行命令：\u001b[96mprepdata -o j1631_FAST_pulsar_search_pl_bary_DM32.40   -dm 32.40 -downsamp 1 /home/pl/work/python-workspance/FAST_pulsar_search_pl/03_subbands/j1631_FAST_pulsar_search_pl_DM32.40.dat\u001b[0m\n",
      "\u001b[94m运行时间： 0.0秒\u001b[0m\n",
      "运行命令：\u001b[96mprepdata -o j1631_FAST_pulsar_search_pl_bary_DM32.42   -dm 32.42 -downsamp 1 /home/pl/work/python-workspance/FAST_pulsar_search_pl/03_subbands/j1631_FAST_pulsar_search_pl_DM32.42.dat\u001b[0m\n",
      "\u001b[94m运行时间： 0.0秒\u001b[0m\n",
      "运行命令：\u001b[96mprepdata -o j1631_FAST_pulsar_search_pl_bary_DM32.43   -dm 32.43 -downsamp 1 /home/pl/work/python-workspance/FAST_pulsar_search_pl/03_subbands/j1631_FAST_pulsar_search_pl_DM32.43.dat\u001b[0m\n",
      "\u001b[94m运行时间： 0.0秒\u001b[0m\n",
      "运行命令：\u001b[96mprepdata -o j1631_FAST_pulsar_search_pl_bary_DM32.44   -dm 32.44 -downsamp 1 /home/pl/work/python-workspance/FAST_pulsar_search_pl/03_subbands/j1631_FAST_pulsar_search_pl_DM32.44.dat\u001b[0m\n",
      "运行命令：\u001b[96mprepdata -o j1631_FAST_pulsar_search_pl_bary_DM32.46   -dm 32.46 -downsamp 1 /home/pl/work/python-workspance/FAST_pulsar_search_pl/03_subbands/j1631_FAST_pulsar_search_pl_DM32.46.dat\u001b[0m\n",
      "\u001b[94m运行时间： 0.0秒\u001b[0m\n",
      "\u001b[94m运行时间： 0.0秒\u001b[0m\n",
      "运行命令：\u001b[96mprepdata -o j1631_FAST_pulsar_search_pl_bary_DM32.45   -dm 32.45 -downsamp 1 /home/pl/work/python-workspance/FAST_pulsar_search_pl/03_subbands/j1631_FAST_pulsar_search_pl_DM32.45.dat\u001b[0m\n",
      "\u001b[94m运行时间： 0.0秒\u001b[0m\n",
      "运行命令：\u001b[96mprepdata -o j1631_FAST_pulsar_search_pl_bary_DM32.47   -dm 32.47 -downsamp 1 /home/pl/work/python-workspance/FAST_pulsar_search_pl/03_subbands/j1631_FAST_pulsar_search_pl_DM32.47.dat\u001b[0m\n",
      "\u001b[94m运行时间： 0.0秒\u001b[0m\n"
     ]
    },
    {
     "name": "stderr",
     "output_type": "stream",
     "text": [
      "prepdata-bary-8核:  14%|█▎        | 41/300 [00:14<01:33,  2.76cmd/s]"
     ]
    },
    {
     "name": "stdout",
     "output_type": "stream",
     "text": [
      "程序运行路径为: /home/pl/work/python-workspance/FAST_pulsar_search_pl/03_barydata\n",
      "日志文件为：/home/pl/work/python-workspance/FAST_pulsar_search_pl/LOG/03_barydata/BARY-32.48.txt\n",
      "程序运行路径为: /home/pl/work/python-workspance/FAST_pulsar_search_pl/03_barydata\n",
      "日志文件为：/home/pl/work/python-workspance/FAST_pulsar_search_pl/LOG/03_barydata/BARY-32.49.txt\n"
     ]
    },
    {
     "name": "stderr",
     "output_type": "stream",
     "text": [
      "prepdata-bary-8核:  14%|█▍        | 43/300 [00:15<01:18,  3.29cmd/s]"
     ]
    },
    {
     "name": "stdout",
     "output_type": "stream",
     "text": [
      "程序运行路径为: /home/pl/work/python-workspance/FAST_pulsar_search_pl/03_barydata\n",
      "日志文件为：/home/pl/work/python-workspance/FAST_pulsar_search_pl/LOG/03_barydata/BARY-32.50.txt\n",
      "程序运行路径为: /home/pl/work/python-workspance/FAST_pulsar_search_pl/03_barydata\n",
      "日志文件为：/home/pl/work/python-workspance/FAST_pulsar_search_pl/LOG/03_barydata/BARY-32.51.txt\n"
     ]
    },
    {
     "name": "stderr",
     "output_type": "stream",
     "text": [
      "prepdata-bary-8核:  15%|█▌        | 45/300 [00:15<01:02,  4.05cmd/s]"
     ]
    },
    {
     "name": "stdout",
     "output_type": "stream",
     "text": [
      "程序运行路径为: /home/pl/work/python-workspance/FAST_pulsar_search_pl/03_barydata\n",
      "日志文件为：/home/pl/work/python-workspance/FAST_pulsar_search_pl/LOG/03_barydata/BARY-32.52.txt\n",
      "程序运行路径为: /home/pl/work/python-workspance/FAST_pulsar_search_pl/03_barydata\n",
      "日志文件为：/home/pl/work/python-workspance/FAST_pulsar_search_pl/LOG/03_barydata/BARY-32.53.txt\n",
      "程序运行路径为: /home/pl/work/python-workspance/FAST_pulsar_search_pl/03_barydata\n",
      "日志文件为：/home/pl/work/python-workspance/FAST_pulsar_search_pl/LOG/03_barydata/BARY-32.54.txt\n",
      "程序运行路径为: /home/pl/work/python-workspance/FAST_pulsar_search_pl/03_barydata\n",
      "日志文件为：/home/pl/work/python-workspance/FAST_pulsar_search_pl/LOG/03_barydata/BARY-32.55.txt\n",
      "运行命令：\u001b[96mprepdata -o j1631_FAST_pulsar_search_pl_bary_DM32.49   -dm 32.49 -downsamp 1 /home/pl/work/python-workspance/FAST_pulsar_search_pl/03_subbands/j1631_FAST_pulsar_search_pl_DM32.49.dat\u001b[0m\n",
      "\u001b[94m运行时间： 0.0秒\u001b[0m\n",
      "运行命令：\u001b[96mprepdata -o j1631_FAST_pulsar_search_pl_bary_DM32.48   -dm 32.48 -downsamp 1 /home/pl/work/python-workspance/FAST_pulsar_search_pl/03_subbands/j1631_FAST_pulsar_search_pl_DM32.48.dat\u001b[0m\n",
      "\u001b[94m运行时间： 0.0秒\u001b[0m\n",
      "运行命令：\u001b[96mprepdata -o j1631_FAST_pulsar_search_pl_bary_DM32.50   -dm 32.50 -downsamp 1 /home/pl/work/python-workspance/FAST_pulsar_search_pl/03_subbands/j1631_FAST_pulsar_search_pl_DM32.50.dat\u001b[0m\n",
      "\u001b[94m运行时间： 0.0秒\u001b[0m\n",
      "运行命令：\u001b[96mprepdata -o j1631_FAST_pulsar_search_pl_bary_DM32.53   -dm 32.53 -downsamp 1 /home/pl/work/python-workspance/FAST_pulsar_search_pl/03_subbands/j1631_FAST_pulsar_search_pl_DM32.53.dat\u001b[0m\n",
      "运行命令：\u001b[96mprepdata -o j1631_FAST_pulsar_search_pl_bary_DM32.51   -dm 32.51 -downsamp 1 /home/pl/work/python-workspance/FAST_pulsar_search_pl/03_subbands/j1631_FAST_pulsar_search_pl_DM32.51.dat\u001b[0m\n",
      "\u001b[94m运行时间： 0.0秒\u001b[0m\n",
      "运行命令：\u001b[96mprepdata -o j1631_FAST_pulsar_search_pl_bary_DM32.54   -dm 32.54 -downsamp 1 /home/pl/work/python-workspance/FAST_pulsar_search_pl/03_subbands/j1631_FAST_pulsar_search_pl_DM32.54.dat\u001b[0m\n",
      "\u001b[94m运行时间： 0.0秒\u001b[0m\n",
      "\u001b[94m运行时间： 0.0秒\u001b[0m\n",
      "运行命令：\u001b[96mprepdata -o j1631_FAST_pulsar_search_pl_bary_DM32.52   -dm 32.52 -downsamp 1 /home/pl/work/python-workspance/FAST_pulsar_search_pl/03_subbands/j1631_FAST_pulsar_search_pl_DM32.52.dat\u001b[0m\n",
      "\u001b[94m运行时间： 0.0秒\u001b[0m\n",
      "运行命令：\u001b[96mprepdata -o j1631_FAST_pulsar_search_pl_bary_DM32.55   -dm 32.55 -downsamp 1 /home/pl/work/python-workspance/FAST_pulsar_search_pl/03_subbands/j1631_FAST_pulsar_search_pl_DM32.55.dat\u001b[0m\n",
      "\u001b[94m运行时间： 0.0秒\u001b[0m\n"
     ]
    },
    {
     "name": "stderr",
     "output_type": "stream",
     "text": [
      "prepdata-bary-8核:  16%|█▋        | 49/300 [00:17<01:31,  2.75cmd/s]"
     ]
    },
    {
     "name": "stdout",
     "output_type": "stream",
     "text": [
      "程序运行路径为: /home/pl/work/python-workspance/FAST_pulsar_search_pl/03_barydata\n",
      "日志文件为：/home/pl/work/python-workspance/FAST_pulsar_search_pl/LOG/03_barydata/BARY-32.56.txt\n",
      "程序运行路径为: /home/pl/work/python-workspance/FAST_pulsar_search_pl/03_barydata\n",
      "日志文件为：/home/pl/work/python-workspance/FAST_pulsar_search_pl/LOG/03_barydata/BARY-32.57.txt\n"
     ]
    },
    {
     "name": "stderr",
     "output_type": "stream",
     "text": [
      "prepdata-bary-8核:  17%|█▋        | 51/300 [00:17<01:16,  3.24cmd/s]"
     ]
    },
    {
     "name": "stdout",
     "output_type": "stream",
     "text": [
      "程序运行路径为: /home/pl/work/python-workspance/FAST_pulsar_search_pl/03_barydata\n",
      "日志文件为：/home/pl/work/python-workspance/FAST_pulsar_search_pl/LOG/03_barydata/BARY-32.58.txt\n"
     ]
    },
    {
     "name": "stderr",
     "output_type": "stream",
     "text": [
      "prepdata-bary-8核:  17%|█▋        | 52/300 [00:17<01:10,  3.52cmd/s]"
     ]
    },
    {
     "name": "stdout",
     "output_type": "stream",
     "text": [
      "程序运行路径为: /home/pl/work/python-workspance/FAST_pulsar_search_pl/03_barydata\n",
      "程序运行路径为: /home/pl/work/python-workspance/FAST_pulsar_search_pl/03_barydata\n",
      "日志文件为：/home/pl/work/python-workspance/FAST_pulsar_search_pl/LOG/03_barydata/BARY-32.59.txt\n",
      "日志文件为：/home/pl/work/python-workspance/FAST_pulsar_search_pl/LOG/03_barydata/BARY-32.60.txt\n",
      "程序运行路径为: /home/pl/work/python-workspance/FAST_pulsar_search_pl/03_barydata\n",
      "日志文件为：/home/pl/work/python-workspance/FAST_pulsar_search_pl/LOG/03_barydata/BARY-32.61.txt\n",
      "程序运行路径为: /home/pl/work/python-workspance/FAST_pulsar_search_pl/03_barydata\n",
      "日志文件为：/home/pl/work/python-workspance/FAST_pulsar_search_pl/LOG/03_barydata/BARY-32.62.txt\n",
      "运行命令：\u001b[96mprepdata -o j1631_FAST_pulsar_search_pl_bary_DM32.56   -dm 32.56 -downsamp 1 /home/pl/work/python-workspance/FAST_pulsar_search_pl/03_subbands/j1631_FAST_pulsar_search_pl_DM32.56.dat\u001b[0m\n",
      "\u001b[94m运行时间： 0.0秒\u001b[0m\n",
      "运行命令：\u001b[96mprepdata -o j1631_FAST_pulsar_search_pl_bary_DM32.57   -dm 32.57 -downsamp 1 /home/pl/work/python-workspance/FAST_pulsar_search_pl/03_subbands/j1631_FAST_pulsar_search_pl_DM32.57.dat\u001b[0m\n",
      "\u001b[94m运行时间： 0.0秒\u001b[0m\n",
      "程序运行路径为: /home/pl/work/python-workspance/FAST_pulsar_search_pl/03_barydata\n",
      "日志文件为：/home/pl/work/python-workspance/FAST_pulsar_search_pl/LOG/03_barydata/BARY-32.63.txt\n",
      "运行命令：\u001b[96mprepdata -o j1631_FAST_pulsar_search_pl_bary_DM32.58   -dm 32.58 -downsamp 1 /home/pl/work/python-workspance/FAST_pulsar_search_pl/03_subbands/j1631_FAST_pulsar_search_pl_DM32.58.dat\u001b[0m\n",
      "\u001b[94m运行时间： 0.0秒\u001b[0m\n",
      "运行命令：\u001b[96mprepdata -o j1631_FAST_pulsar_search_pl_bary_DM32.61   -dm 32.61 -downsamp 1 /home/pl/work/python-workspance/FAST_pulsar_search_pl/03_subbands/j1631_FAST_pulsar_search_pl_DM32.61.dat\u001b[0m\n",
      "\u001b[94m运行时间： 0.0秒\u001b[0m\n",
      "运行命令：\u001b[96mprepdata -o j1631_FAST_pulsar_search_pl_bary_DM32.59   -dm 32.59 -downsamp 1 /home/pl/work/python-workspance/FAST_pulsar_search_pl/03_subbands/j1631_FAST_pulsar_search_pl_DM32.59.dat\u001b[0m\n",
      "\u001b[94m运行时间： 0.0秒\u001b[0m\n",
      "运行命令：\u001b[96mprepdata -o j1631_FAST_pulsar_search_pl_bary_DM32.60   -dm 32.60 -downsamp 1 /home/pl/work/python-workspance/FAST_pulsar_search_pl/03_subbands/j1631_FAST_pulsar_search_pl_DM32.60.dat\u001b[0m\n",
      "\u001b[94m运行时间： 0.0秒\u001b[0m\n",
      "运行命令：\u001b[96mprepdata -o j1631_FAST_pulsar_search_pl_bary_DM32.63   -dm 32.63 -downsamp 1 /home/pl/work/python-workspance/FAST_pulsar_search_pl/03_subbands/j1631_FAST_pulsar_search_pl_DM32.63.dat\u001b[0m\n",
      "\u001b[94m运行时间： 0.0秒\u001b[0m\n",
      "运行命令：\u001b[96mprepdata -o j1631_FAST_pulsar_search_pl_bary_DM32.62   -dm 32.62 -downsamp 1 /home/pl/work/python-workspance/FAST_pulsar_search_pl/03_subbands/j1631_FAST_pulsar_search_pl_DM32.62.dat\u001b[0m\n",
      "\u001b[94m运行时间： 0.0秒\u001b[0m\n"
     ]
    },
    {
     "name": "stderr",
     "output_type": "stream",
     "text": [
      "prepdata-bary-8核:  19%|█▉        | 57/300 [00:19<01:24,  2.88cmd/s]"
     ]
    },
    {
     "name": "stdout",
     "output_type": "stream",
     "text": [
      "程序运行路径为: /home/pl/work/python-workspance/FAST_pulsar_search_pl/03_barydata\n",
      "日志文件为：/home/pl/work/python-workspance/FAST_pulsar_search_pl/LOG/03_barydata/BARY-32.64.txt\n",
      "程序运行路径为: /home/pl/work/python-workspance/FAST_pulsar_search_pl/03_barydata\n",
      "日志文件为：/home/pl/work/python-workspance/FAST_pulsar_search_pl/LOG/03_barydata/BARY-32.65.txt\n",
      "程序运行路径为: /home/pl/work/python-workspance/FAST_pulsar_search_pl/03_barydata\n"
     ]
    },
    {
     "name": "stderr",
     "output_type": "stream",
     "text": [
      "prepdata-bary-8核:  20%|█▉        | 59/300 [00:20<01:12,  3.33cmd/s]"
     ]
    },
    {
     "name": "stdout",
     "output_type": "stream",
     "text": [
      "日志文件为：/home/pl/work/python-workspance/FAST_pulsar_search_pl/LOG/03_barydata/BARY-32.66.txt\n"
     ]
    },
    {
     "name": "stderr",
     "output_type": "stream",
     "text": [
      "prepdata-bary-8核:  20%|██        | 60/300 [00:20<01:06,  3.64cmd/s]"
     ]
    },
    {
     "name": "stdout",
     "output_type": "stream",
     "text": [
      "程序运行路径为: /home/pl/work/python-workspance/FAST_pulsar_search_pl/03_barydata\n",
      "日志文件为：/home/pl/work/python-workspance/FAST_pulsar_search_pl/LOG/03_barydata/BARY-32.67.txt\n",
      "运行命令：\u001b[96mprepdata -o j1631_FAST_pulsar_search_pl_bary_DM32.65   -dm 32.65 -downsamp 1 /home/pl/work/python-workspance/FAST_pulsar_search_pl/03_subbands/j1631_FAST_pulsar_search_pl_DM32.65.dat\u001b[0m\n",
      "\u001b[94m运行时间： 0.0秒\u001b[0m\n",
      "程序运行路径为: /home/pl/work/python-workspance/FAST_pulsar_search_pl/03_barydata\n",
      "日志文件为：/home/pl/work/python-workspance/FAST_pulsar_search_pl/LOG/03_barydata/BARY-32.68.txt\n",
      "运行命令：\u001b[96mprepdata -o j1631_FAST_pulsar_search_pl_bary_DM32.64   -dm 32.64 -downsamp 1 /home/pl/work/python-workspance/FAST_pulsar_search_pl/03_subbands/j1631_FAST_pulsar_search_pl_DM32.64.dat\u001b[0m\n",
      "\u001b[94m运行时间： 0.0秒\u001b[0m\n",
      "程序运行路径为: /home/pl/work/python-workspance/FAST_pulsar_search_pl/03_barydata\n",
      "日志文件为：/home/pl/work/python-workspance/FAST_pulsar_search_pl/LOG/03_barydata/BARY-32.69.txt\n",
      "程序运行路径为: /home/pl/work/python-workspance/FAST_pulsar_search_pl/03_barydata\n",
      "日志文件为：/home/pl/work/python-workspance/FAST_pulsar_search_pl/LOG/03_barydata/BARY-32.70.txt\n",
      "程序运行路径为: /home/pl/work/python-workspance/FAST_pulsar_search_pl/03_barydata\n",
      "日志文件为：/home/pl/work/python-workspance/FAST_pulsar_search_pl/LOG/03_barydata/BARY-32.71.txt\n",
      "运行命令：\u001b[96mprepdata -o j1631_FAST_pulsar_search_pl_bary_DM32.66   -dm 32.66 -downsamp 1 /home/pl/work/python-workspance/FAST_pulsar_search_pl/03_subbands/j1631_FAST_pulsar_search_pl_DM32.66.dat\u001b[0m\n",
      "\u001b[94m运行时间： 0.0秒\u001b[0m\n",
      "运行命令：\u001b[96mprepdata -o j1631_FAST_pulsar_search_pl_bary_DM32.68   -dm 32.68 -downsamp 1 /home/pl/work/python-workspance/FAST_pulsar_search_pl/03_subbands/j1631_FAST_pulsar_search_pl_DM32.68.dat\u001b[0m\n",
      "\u001b[94m运行时间： 0.0秒\u001b[0m\n",
      "运行命令：\u001b[96mprepdata -o j1631_FAST_pulsar_search_pl_bary_DM32.69   -dm 32.69 -downsamp 1 /home/pl/work/python-workspance/FAST_pulsar_search_pl/03_subbands/j1631_FAST_pulsar_search_pl_DM32.69.dat\u001b[0m\n",
      "\u001b[94m运行时间： 0.0秒\u001b[0m\n",
      "运行命令：\u001b[96mprepdata -o j1631_FAST_pulsar_search_pl_bary_DM32.70   -dm 32.70 -downsamp 1 /home/pl/work/python-workspance/FAST_pulsar_search_pl/03_subbands/j1631_FAST_pulsar_search_pl_DM32.70.dat\u001b[0m\n",
      "\u001b[94m运行时间： 0.0秒\u001b[0m\n",
      "运行命令：\u001b[96mprepdata -o j1631_FAST_pulsar_search_pl_bary_DM32.67   -dm 32.67 -downsamp 1 /home/pl/work/python-workspance/FAST_pulsar_search_pl/03_subbands/j1631_FAST_pulsar_search_pl_DM32.67.dat\u001b[0m\n",
      "\u001b[94m运行时间： 0.0秒\u001b[0m\n",
      "运行命令：\u001b[96mprepdata -o j1631_FAST_pulsar_search_pl_bary_DM32.71   -dm 32.71 -downsamp 1 /home/pl/work/python-workspance/FAST_pulsar_search_pl/03_subbands/j1631_FAST_pulsar_search_pl_DM32.71.dat\u001b[0m\n",
      "\u001b[94m运行时间： 0.0秒\u001b[0m\n"
     ]
    },
    {
     "name": "stderr",
     "output_type": "stream",
     "text": [
      "prepdata-bary-8核:  22%|██▏       | 65/300 [00:22<01:19,  2.96cmd/s]"
     ]
    },
    {
     "name": "stdout",
     "output_type": "stream",
     "text": [
      "程序运行路径为: /home/pl/work/python-workspance/FAST_pulsar_search_pl/03_barydata\n",
      "日志文件为：/home/pl/work/python-workspance/FAST_pulsar_search_pl/LOG/03_barydata/BARY-32.72.txt\n",
      "程序运行路径为: /home/pl/work/python-workspance/FAST_pulsar_search_pl/03_barydata\n",
      "日志文件为：/home/pl/work/python-workspance/FAST_pulsar_search_pl/LOG/03_barydata/BARY-32.73.txt\n"
     ]
    },
    {
     "name": "stderr",
     "output_type": "stream",
     "text": [
      "prepdata-bary-8核:  22%|██▏       | 67/300 [00:22<01:09,  3.34cmd/s]"
     ]
    },
    {
     "name": "stdout",
     "output_type": "stream",
     "text": [
      "程序运行路径为: /home/pl/work/python-workspance/FAST_pulsar_search_pl/03_barydata\n",
      "日志文件为：/home/pl/work/python-workspance/FAST_pulsar_search_pl/LOG/03_barydata/BARY-32.74.txt\n",
      "运行命令：\u001b[96mprepdata -o j1631_FAST_pulsar_search_pl_bary_DM32.72   -dm 32.72 -downsamp 1 /home/pl/work/python-workspance/FAST_pulsar_search_pl/03_subbands/j1631_FAST_pulsar_search_pl_DM32.72.dat\u001b[0m\n",
      "\u001b[94m运行时间： 0.0秒\u001b[0m\n",
      "运行命令：\u001b[96mprepdata -o j1631_FAST_pulsar_search_pl_bary_DM32.73   -dm 32.73 -downsamp 1 /home/pl/work/python-workspance/FAST_pulsar_search_pl/03_subbands/j1631_FAST_pulsar_search_pl_DM32.73.dat\u001b[0m\n",
      "\u001b[94m运行时间： 0.0秒\u001b[0m\n"
     ]
    },
    {
     "name": "stderr",
     "output_type": "stream",
     "text": [
      "prepdata-bary-8核:  23%|██▎       | 68/300 [00:22<01:04,  3.59cmd/s]"
     ]
    },
    {
     "name": "stdout",
     "output_type": "stream",
     "text": [
      "程序运行路径为: /home/pl/work/python-workspance/FAST_pulsar_search_pl/03_barydata\n",
      "日志文件为：/home/pl/work/python-workspance/FAST_pulsar_search_pl/LOG/03_barydata/BARY-32.75.txt\n",
      "程序运行路径为: /home/pl/work/python-workspance/FAST_pulsar_search_pl/03_barydata\n",
      "日志文件为：/home/pl/work/python-workspance/FAST_pulsar_search_pl/LOG/03_barydata/BARY-32.76.txt\n",
      "程序运行路径为: /home/pl/work/python-workspance/FAST_pulsar_search_pl/03_barydata\n",
      "日志文件为：/home/pl/work/python-workspance/FAST_pulsar_search_pl/LOG/03_barydata/BARY-32.77.txt\n",
      "程序运行路径为: /home/pl/work/python-workspance/FAST_pulsar_search_pl/03_barydata\n",
      "日志文件为：/home/pl/work/python-workspance/FAST_pulsar_search_pl/LOG/03_barydata/BARY-32.78.txt\n",
      "程序运行路径为: /home/pl/work/python-workspance/FAST_pulsar_search_pl/03_barydata\n",
      "日志文件为：/home/pl/work/python-workspance/FAST_pulsar_search_pl/LOG/03_barydata/BARY-32.79.txt\n",
      "运行命令：\u001b[96mprepdata -o j1631_FAST_pulsar_search_pl_bary_DM32.74   -dm 32.74 -downsamp 1 /home/pl/work/python-workspance/FAST_pulsar_search_pl/03_subbands/j1631_FAST_pulsar_search_pl_DM32.74.dat\u001b[0m\n",
      "\u001b[94m运行时间： 0.0秒\u001b[0m\n",
      "运行命令：\u001b[96mprepdata -o j1631_FAST_pulsar_search_pl_bary_DM32.76   -dm 32.76 -downsamp 1 /home/pl/work/python-workspance/FAST_pulsar_search_pl/03_subbands/j1631_FAST_pulsar_search_pl_DM32.76.dat\u001b[0m\n",
      "\u001b[94m运行时间： 0.0秒\u001b[0m\n",
      "运行命令：\u001b[96mprepdata -o j1631_FAST_pulsar_search_pl_bary_DM32.75   -dm 32.75 -downsamp 1 /home/pl/work/python-workspance/FAST_pulsar_search_pl/03_subbands/j1631_FAST_pulsar_search_pl_DM32.75.dat\u001b[0m\n",
      "\u001b[94m运行时间： 0.0秒\u001b[0m\n",
      "运行命令：\u001b[96mprepdata -o j1631_FAST_pulsar_search_pl_bary_DM32.79   -dm 32.79 -downsamp 1 /home/pl/work/python-workspance/FAST_pulsar_search_pl/03_subbands/j1631_FAST_pulsar_search_pl_DM32.79.dat\u001b[0m\n",
      "\u001b[94m运行时间： 0.0秒\u001b[0m\n",
      "运行命令：\u001b[96mprepdata -o j1631_FAST_pulsar_search_pl_bary_DM32.77   -dm 32.77 -downsamp 1 /home/pl/work/python-workspance/FAST_pulsar_search_pl/03_subbands/j1631_FAST_pulsar_search_pl_DM32.77.dat\u001b[0m\n",
      "\u001b[94m运行时间： 0.0秒\u001b[0m\n",
      "运行命令：\u001b[96mprepdata -o j1631_FAST_pulsar_search_pl_bary_DM32.78   -dm 32.78 -downsamp 1 /home/pl/work/python-workspance/FAST_pulsar_search_pl/03_subbands/j1631_FAST_pulsar_search_pl_DM32.78.dat\u001b[0m\n",
      "\u001b[94m运行时间： 0.0秒\u001b[0m\n"
     ]
    },
    {
     "name": "stderr",
     "output_type": "stream",
     "text": [
      "prepdata-bary-8核:  24%|██▍       | 73/300 [00:24<01:15,  3.00cmd/s]"
     ]
    },
    {
     "name": "stdout",
     "output_type": "stream",
     "text": [
      "程序运行路径为: /home/pl/work/python-workspance/FAST_pulsar_search_pl/03_barydata\n",
      "程序运行路径为: /home/pl/work/python-workspance/FAST_pulsar_search_pl/03_barydata\n",
      "日志文件为：/home/pl/work/python-workspance/FAST_pulsar_search_pl/LOG/03_barydata/BARY-32.80.txt\n",
      "日志文件为：/home/pl/work/python-workspance/FAST_pulsar_search_pl/LOG/03_barydata/BARY-32.81.txt\n",
      "程序运行路径为: /home/pl/work/python-workspance/FAST_pulsar_search_pl/03_barydata\n"
     ]
    },
    {
     "name": "stderr",
     "output_type": "stream",
     "text": [
      "prepdata-bary-8核:  25%|██▌       | 75/300 [00:24<01:06,  3.38cmd/s]"
     ]
    },
    {
     "name": "stdout",
     "output_type": "stream",
     "text": [
      "日志文件为：/home/pl/work/python-workspance/FAST_pulsar_search_pl/LOG/03_barydata/BARY-32.82.txt\n",
      "运行命令：\u001b[96mprepdata -o j1631_FAST_pulsar_search_pl_bary_DM32.80   -dm 32.80 -downsamp 1 /home/pl/work/python-workspance/FAST_pulsar_search_pl/03_subbands/j1631_FAST_pulsar_search_pl_DM32.80.dat\u001b[0m\n",
      "\u001b[94m运行时间： 0.0秒\u001b[0m\n",
      "运行命令：\u001b[96mprepdata -o j1631_FAST_pulsar_search_pl_bary_DM32.81   -dm 32.81 -downsamp 1 /home/pl/work/python-workspance/FAST_pulsar_search_pl/03_subbands/j1631_FAST_pulsar_search_pl_DM32.81.dat\u001b[0m\n",
      "\u001b[94m运行时间： 0.0秒\u001b[0m\n"
     ]
    },
    {
     "name": "stderr",
     "output_type": "stream",
     "text": [
      "prepdata-bary-8核:  25%|██▌       | 76/300 [00:25<01:02,  3.58cmd/s]"
     ]
    },
    {
     "name": "stdout",
     "output_type": "stream",
     "text": [
      "程序运行路径为: /home/pl/work/python-workspance/FAST_pulsar_search_pl/03_barydata\n",
      "程序运行路径为: /home/pl/work/python-workspance/FAST_pulsar_search_pl/03_barydata\n",
      "日志文件为：/home/pl/work/python-workspance/FAST_pulsar_search_pl/LOG/03_barydata/BARY-32.83.txt\n",
      "日志文件为：/home/pl/work/python-workspance/FAST_pulsar_search_pl/LOG/03_barydata/BARY-32.84.txt\n",
      "程序运行路径为: /home/pl/work/python-workspance/FAST_pulsar_search_pl/03_barydata\n",
      "日志文件为：/home/pl/work/python-workspance/FAST_pulsar_search_pl/LOG/03_barydata/BARY-32.85.txt\n",
      "程序运行路径为: /home/pl/work/python-workspance/FAST_pulsar_search_pl/03_barydata\n",
      "日志文件为：/home/pl/work/python-workspance/FAST_pulsar_search_pl/LOG/03_barydata/BARY-32.86.txt\n",
      "程序运行路径为: /home/pl/work/python-workspance/FAST_pulsar_search_pl/03_barydata\n",
      "日志文件为：/home/pl/work/python-workspance/FAST_pulsar_search_pl/LOG/03_barydata/BARY-32.87.txt\n",
      "运行命令：\u001b[96mprepdata -o j1631_FAST_pulsar_search_pl_bary_DM32.82   -dm 32.82 -downsamp 1 /home/pl/work/python-workspance/FAST_pulsar_search_pl/03_subbands/j1631_FAST_pulsar_search_pl_DM32.82.dat\u001b[0m\n",
      "\u001b[94m运行时间： 0.0秒\u001b[0m\n",
      "运行命令：\u001b[96mprepdata -o j1631_FAST_pulsar_search_pl_bary_DM32.84   -dm 32.84 -downsamp 1 /home/pl/work/python-workspance/FAST_pulsar_search_pl/03_subbands/j1631_FAST_pulsar_search_pl_DM32.84.dat\u001b[0m\n",
      "\u001b[94m运行时间： 0.0秒\u001b[0m\n",
      "运行命令：\u001b[96mprepdata -o j1631_FAST_pulsar_search_pl_bary_DM32.85   -dm 32.85 -downsamp 1 /home/pl/work/python-workspance/FAST_pulsar_search_pl/03_subbands/j1631_FAST_pulsar_search_pl_DM32.85.dat\u001b[0m\n",
      "运行命令：\u001b[96mprepdata -o j1631_FAST_pulsar_search_pl_bary_DM32.87   -dm 32.87 -downsamp 1 /home/pl/work/python-workspance/FAST_pulsar_search_pl/03_subbands/j1631_FAST_pulsar_search_pl_DM32.87.dat\u001b[0m\n",
      "\u001b[94m运行时间： 0.0秒\u001b[0m\n",
      "\u001b[94m运行时间： 0.0秒\u001b[0m\n",
      "运行命令：\u001b[96mprepdata -o j1631_FAST_pulsar_search_pl_bary_DM32.83   -dm 32.83 -downsamp 1 /home/pl/work/python-workspance/FAST_pulsar_search_pl/03_subbands/j1631_FAST_pulsar_search_pl_DM32.83.dat\u001b[0m\n",
      "\u001b[94m运行时间： 0.0秒\u001b[0m\n",
      "运行命令：\u001b[96mprepdata -o j1631_FAST_pulsar_search_pl_bary_DM32.86   -dm 32.86 -downsamp 1 /home/pl/work/python-workspance/FAST_pulsar_search_pl/03_subbands/j1631_FAST_pulsar_search_pl_DM32.86.dat\u001b[0m\n",
      "\u001b[94m运行时间： 0.0秒\u001b[0m\n"
     ]
    },
    {
     "name": "stderr",
     "output_type": "stream",
     "text": [
      "prepdata-bary-8核:  27%|██▋       | 81/300 [00:27<01:13,  3.00cmd/s]"
     ]
    },
    {
     "name": "stdout",
     "output_type": "stream",
     "text": [
      "程序运行路径为: /home/pl/work/python-workspance/FAST_pulsar_search_pl/03_barydata\n",
      "日志文件为：/home/pl/work/python-workspance/FAST_pulsar_search_pl/LOG/03_barydata/BARY-32.88.txt\n",
      "程序运行路径为: /home/pl/work/python-workspance/FAST_pulsar_search_pl/03_barydata\n",
      "日志文件为：/home/pl/work/python-workspance/FAST_pulsar_search_pl/LOG/03_barydata/BARY-32.89.txt\n"
     ]
    },
    {
     "name": "stderr",
     "output_type": "stream",
     "text": [
      "prepdata-bary-8核:  28%|██▊       | 83/300 [00:27<01:04,  3.36cmd/s]"
     ]
    },
    {
     "name": "stdout",
     "output_type": "stream",
     "text": [
      "程序运行路径为: /home/pl/work/python-workspance/FAST_pulsar_search_pl/03_barydata\n",
      "日志文件为：/home/pl/work/python-workspance/FAST_pulsar_search_pl/LOG/03_barydata/BARY-32.90.txt\n",
      "运行命令：\u001b[96mprepdata -o j1631_FAST_pulsar_search_pl_bary_DM32.89   -dm 32.89 -downsamp 1 /home/pl/work/python-workspance/FAST_pulsar_search_pl/03_subbands/j1631_FAST_pulsar_search_pl_DM32.89.dat\u001b[0m\n",
      "\u001b[94m运行时间： 0.0秒\u001b[0m\n",
      "运行命令：\u001b[96mprepdata -o j1631_FAST_pulsar_search_pl_bary_DM32.88   -dm 32.88 -downsamp 1 /home/pl/work/python-workspance/FAST_pulsar_search_pl/03_subbands/j1631_FAST_pulsar_search_pl_DM32.88.dat\u001b[0m\n",
      "\u001b[94m运行时间： 0.0秒\u001b[0m\n"
     ]
    },
    {
     "name": "stderr",
     "output_type": "stream",
     "text": [
      "prepdata-bary-8核:  28%|██▊       | 84/300 [00:27<00:59,  3.62cmd/s]"
     ]
    },
    {
     "name": "stdout",
     "output_type": "stream",
     "text": [
      "程序运行路径为: /home/pl/work/python-workspance/FAST_pulsar_search_pl/03_barydata\n",
      "日志文件为：/home/pl/work/python-workspance/FAST_pulsar_search_pl/LOG/03_barydata/BARY-32.91.txt\n",
      "程序运行路径为: /home/pl/work/python-workspance/FAST_pulsar_search_pl/03_barydata\n",
      "程序运行路径为: /home/pl/work/python-workspance/FAST_pulsar_search_pl/03_barydata\n",
      "日志文件为：/home/pl/work/python-workspance/FAST_pulsar_search_pl/LOG/03_barydata/BARY-32.92.txt\n",
      "日志文件为：/home/pl/work/python-workspance/FAST_pulsar_search_pl/LOG/03_barydata/BARY-32.93.txt\n"
     ]
    },
    {
     "name": "stderr",
     "output_type": "stream",
     "text": [
      "prepdata-bary-8核:  29%|██▉       | 87/300 [00:27<00:40,  5.30cmd/s]"
     ]
    },
    {
     "name": "stdout",
     "output_type": "stream",
     "text": [
      "程序运行路径为: /home/pl/work/python-workspance/FAST_pulsar_search_pl/03_barydata\n",
      "日志文件为：/home/pl/work/python-workspance/FAST_pulsar_search_pl/LOG/03_barydata/BARY-32.94.txt\n",
      "程序运行路径为: /home/pl/work/python-workspance/FAST_pulsar_search_pl/03_barydata\n",
      "日志文件为：/home/pl/work/python-workspance/FAST_pulsar_search_pl/LOG/03_barydata/BARY-32.95.txt\n",
      "运行命令：\u001b[96mprepdata -o j1631_FAST_pulsar_search_pl_bary_DM32.90   -dm 32.90 -downsamp 1 /home/pl/work/python-workspance/FAST_pulsar_search_pl/03_subbands/j1631_FAST_pulsar_search_pl_DM32.90.dat\u001b[0m\n",
      "\u001b[94m运行时间： 0.0秒\u001b[0m\n",
      "运行命令：\u001b[96mprepdata -o j1631_FAST_pulsar_search_pl_bary_DM32.91   -dm 32.91 -downsamp 1 /home/pl/work/python-workspance/FAST_pulsar_search_pl/03_subbands/j1631_FAST_pulsar_search_pl_DM32.91.dat\u001b[0m\n",
      "\u001b[94m运行时间： 0.0秒\u001b[0m\n",
      "运行命令：\u001b[96mprepdata -o j1631_FAST_pulsar_search_pl_bary_DM32.93   -dm 32.93 -downsamp 1 /home/pl/work/python-workspance/FAST_pulsar_search_pl/03_subbands/j1631_FAST_pulsar_search_pl_DM32.93.dat\u001b[0m\n",
      "\u001b[94m运行时间： 0.0秒\u001b[0m\n",
      "运行命令：\u001b[96mprepdata -o j1631_FAST_pulsar_search_pl_bary_DM32.92   -dm 32.92 -downsamp 1 /home/pl/work/python-workspance/FAST_pulsar_search_pl/03_subbands/j1631_FAST_pulsar_search_pl_DM32.92.dat\u001b[0m\n",
      "\u001b[94m运行时间： 0.0秒\u001b[0m\n",
      "运行命令：\u001b[96mprepdata -o j1631_FAST_pulsar_search_pl_bary_DM32.94   -dm 32.94 -downsamp 1 /home/pl/work/python-workspance/FAST_pulsar_search_pl/03_subbands/j1631_FAST_pulsar_search_pl_DM32.94.dat\u001b[0m\n",
      "运行命令：\u001b[96mprepdata -o j1631_FAST_pulsar_search_pl_bary_DM32.95   -dm 32.95 -downsamp 1 /home/pl/work/python-workspance/FAST_pulsar_search_pl/03_subbands/j1631_FAST_pulsar_search_pl_DM32.95.dat\u001b[0m\n",
      "\u001b[94m运行时间： 0.0秒\u001b[0m\n",
      "\u001b[94m运行时间： 0.0秒\u001b[0m\n"
     ]
    },
    {
     "name": "stderr",
     "output_type": "stream",
     "text": [
      "prepdata-bary-8核:  30%|██▉       | 89/300 [00:29<01:18,  2.67cmd/s]"
     ]
    },
    {
     "name": "stdout",
     "output_type": "stream",
     "text": [
      "程序运行路径为: /home/pl/work/python-workspance/FAST_pulsar_search_pl/03_barydata\n",
      "日志文件为：/home/pl/work/python-workspance/FAST_pulsar_search_pl/LOG/03_barydata/BARY-32.96.txt\n",
      "程序运行路径为: /home/pl/work/python-workspance/FAST_pulsar_search_pl/03_barydata\n",
      "日志文件为：/home/pl/work/python-workspance/FAST_pulsar_search_pl/LOG/03_barydata/BARY-32.97.txt\n",
      "运行命令：\u001b[96mprepdata -o j1631_FAST_pulsar_search_pl_bary_DM32.96   -dm 32.96 -downsamp 1 /home/pl/work/python-workspance/FAST_pulsar_search_pl/03_subbands/j1631_FAST_pulsar_search_pl_DM32.96.dat\u001b[0m\n",
      "\u001b[94m运行时间： 0.0秒\u001b[0m\n"
     ]
    },
    {
     "name": "stderr",
     "output_type": "stream",
     "text": [
      "prepdata-bary-8核:  30%|███       | 91/300 [00:29<01:07,  3.09cmd/s]"
     ]
    },
    {
     "name": "stdout",
     "output_type": "stream",
     "text": [
      "程序运行路径为: /home/pl/work/python-workspance/FAST_pulsar_search_pl/03_barydata\n",
      "日志文件为：/home/pl/work/python-workspance/FAST_pulsar_search_pl/LOG/03_barydata/BARY-32.98.txt\n",
      "运行命令：\u001b[96mprepdata -o j1631_FAST_pulsar_search_pl_bary_DM32.97   -dm 32.97 -downsamp 1 /home/pl/work/python-workspance/FAST_pulsar_search_pl/03_subbands/j1631_FAST_pulsar_search_pl_DM32.97.dat\u001b[0m\n",
      "\u001b[94m运行时间： 0.0秒\u001b[0m\n"
     ]
    },
    {
     "name": "stderr",
     "output_type": "stream",
     "text": [
      "prepdata-bary-8核:  31%|███       | 92/300 [00:30<01:02,  3.32cmd/s]"
     ]
    },
    {
     "name": "stdout",
     "output_type": "stream",
     "text": [
      "程序运行路径为: /home/pl/work/python-workspance/FAST_pulsar_search_pl/03_barydata\n",
      "日志文件为：/home/pl/work/python-workspance/FAST_pulsar_search_pl/LOG/03_barydata/BARY-32.99.txt\n",
      "程序运行路径为: /home/pl/work/python-workspance/FAST_pulsar_search_pl/03_barydata\n",
      "日志文件为：/home/pl/work/python-workspance/FAST_pulsar_search_pl/LOG/03_barydata/BARY-33.00.txt\n",
      "程序运行路径为: /home/pl/work/python-workspance/FAST_pulsar_search_pl/03_barydata\n",
      "日志文件为：/home/pl/work/python-workspance/FAST_pulsar_search_pl/LOG/03_barydata/BARY-33.01.txt\n",
      "程序运行路径为: /home/pl/work/python-workspance/FAST_pulsar_search_pl/03_barydata\n",
      "程序运行路径为: /home/pl/work/python-workspance/FAST_pulsar_search_pl/03_barydata\n",
      "日志文件为：/home/pl/work/python-workspance/FAST_pulsar_search_pl/LOG/03_barydata/BARY-33.03.txt\n",
      "日志文件为：/home/pl/work/python-workspance/FAST_pulsar_search_pl/LOG/03_barydata/BARY-33.02.txt\n",
      "运行命令：\u001b[96mprepdata -o j1631_FAST_pulsar_search_pl_bary_DM32.98   -dm 32.98 -downsamp 1 /home/pl/work/python-workspance/FAST_pulsar_search_pl/03_subbands/j1631_FAST_pulsar_search_pl_DM32.98.dat\u001b[0m\n",
      "\u001b[94m运行时间： 0.0秒\u001b[0m\n",
      "运行命令：\u001b[96mprepdata -o j1631_FAST_pulsar_search_pl_bary_DM32.99   -dm 32.99 -downsamp 1 /home/pl/work/python-workspance/FAST_pulsar_search_pl/03_subbands/j1631_FAST_pulsar_search_pl_DM32.99.dat\u001b[0m\n",
      "\u001b[94m运行时间： 0.0秒\u001b[0m\n",
      "运行命令：\u001b[96mprepdata -o j1631_FAST_pulsar_search_pl_bary_DM33.00   -dm 33.00 -downsamp 1 /home/pl/work/python-workspance/FAST_pulsar_search_pl/03_subbands/j1631_FAST_pulsar_search_pl_DM33.00.dat\u001b[0m\n",
      "\u001b[94m运行时间： 0.0秒\u001b[0m\n",
      "运行命令：\u001b[96mprepdata -o j1631_FAST_pulsar_search_pl_bary_DM33.02   -dm 33.02 -downsamp 1 /home/pl/work/python-workspance/FAST_pulsar_search_pl/03_subbands/j1631_FAST_pulsar_search_pl_DM33.02.dat\u001b[0m\n",
      "\u001b[94m运行时间： 0.0秒\u001b[0m\n",
      "运行命令：\u001b[96mprepdata -o j1631_FAST_pulsar_search_pl_bary_DM33.01   -dm 33.01 -downsamp 1 /home/pl/work/python-workspance/FAST_pulsar_search_pl/03_subbands/j1631_FAST_pulsar_search_pl_DM33.01.dat\u001b[0m\n",
      "\u001b[94m运行时间： 0.0秒\u001b[0m\n",
      "运行命令：\u001b[96mprepdata -o j1631_FAST_pulsar_search_pl_bary_DM33.03   -dm 33.03 -downsamp 1 /home/pl/work/python-workspance/FAST_pulsar_search_pl/03_subbands/j1631_FAST_pulsar_search_pl_DM33.03.dat\u001b[0m\n",
      "\u001b[94m运行时间： 0.0秒\u001b[0m\n"
     ]
    },
    {
     "name": "stderr",
     "output_type": "stream",
     "text": [
      "prepdata-bary-8核:  32%|███▏      | 97/300 [00:31<01:07,  2.99cmd/s]"
     ]
    },
    {
     "name": "stdout",
     "output_type": "stream",
     "text": [
      "程序运行路径为: /home/pl/work/python-workspance/FAST_pulsar_search_pl/03_barydata\n",
      "日志文件为：/home/pl/work/python-workspance/FAST_pulsar_search_pl/LOG/03_barydata/BARY-33.04.txt\n",
      "程序运行路径为: /home/pl/work/python-workspance/FAST_pulsar_search_pl/03_barydata\n",
      "日志文件为：/home/pl/work/python-workspance/FAST_pulsar_search_pl/LOG/03_barydata/BARY-33.05.txt\n",
      "运行命令：\u001b[96mprepdata -o j1631_FAST_pulsar_search_pl_bary_DM33.04   -dm 33.04 -downsamp 1 /home/pl/work/python-workspance/FAST_pulsar_search_pl/03_subbands/j1631_FAST_pulsar_search_pl_DM33.04.dat\u001b[0m\n",
      "\u001b[94m运行时间： 0.0秒\u001b[0m\n",
      "运行命令：\u001b[96mprepdata -o j1631_FAST_pulsar_search_pl_bary_DM33.05   -dm 33.05 -downsamp 1 /home/pl/work/python-workspance/FAST_pulsar_search_pl/03_subbands/j1631_FAST_pulsar_search_pl_DM33.05.dat\u001b[0m\n",
      "\u001b[94m运行时间： 0.0秒\u001b[0m\n"
     ]
    },
    {
     "name": "stderr",
     "output_type": "stream",
     "text": [
      "prepdata-bary-8核:  33%|███▎      | 99/300 [00:32<01:00,  3.30cmd/s]"
     ]
    },
    {
     "name": "stdout",
     "output_type": "stream",
     "text": [
      "程序运行路径为: /home/pl/work/python-workspance/FAST_pulsar_search_pl/03_barydata\n",
      "日志文件为：/home/pl/work/python-workspance/FAST_pulsar_search_pl/LOG/03_barydata/BARY-33.06.txt\n"
     ]
    },
    {
     "name": "stderr",
     "output_type": "stream",
     "text": [
      "prepdata-bary-8核:  33%|███▎      | 100/300 [00:32<00:58,  3.43cmd/s]"
     ]
    },
    {
     "name": "stdout",
     "output_type": "stream",
     "text": [
      "程序运行路径为: /home/pl/work/python-workspance/FAST_pulsar_search_pl/03_barydata\n",
      "日志文件为：/home/pl/work/python-workspance/FAST_pulsar_search_pl/LOG/03_barydata/BARY-33.07.txt\n",
      "程序运行路径为: /home/pl/work/python-workspance/FAST_pulsar_search_pl/03_barydata\n",
      "日志文件为：/home/pl/work/python-workspance/FAST_pulsar_search_pl/LOG/03_barydata/BARY-33.08.txt\n",
      "程序运行路径为: /home/pl/work/python-workspance/FAST_pulsar_search_pl/03_barydata\n",
      "程序运行路径为: /home/pl/work/python-workspance/FAST_pulsar_search_pl/03_barydata\n",
      "日志文件为：/home/pl/work/python-workspance/FAST_pulsar_search_pl/LOG/03_barydata/BARY-33.09.txt\n",
      "日志文件为：/home/pl/work/python-workspance/FAST_pulsar_search_pl/LOG/03_barydata/BARY-33.10.txt\n"
     ]
    },
    {
     "name": "stderr",
     "output_type": "stream",
     "text": [
      "prepdata-bary-8核:  35%|███▍      | 104/300 [00:32<00:33,  5.82cmd/s]"
     ]
    },
    {
     "name": "stdout",
     "output_type": "stream",
     "text": [
      "程序运行路径为: /home/pl/work/python-workspance/FAST_pulsar_search_pl/03_barydata\n",
      "日志文件为：/home/pl/work/python-workspance/FAST_pulsar_search_pl/LOG/03_barydata/BARY-33.11.txt\n",
      "运行命令：\u001b[96mprepdata -o j1631_FAST_pulsar_search_pl_bary_DM33.06   -dm 33.06 -downsamp 1 /home/pl/work/python-workspance/FAST_pulsar_search_pl/03_subbands/j1631_FAST_pulsar_search_pl_DM33.06.dat\u001b[0m\n",
      "\u001b[94m运行时间： 0.0秒\u001b[0m\n",
      "运行命令：\u001b[96mprepdata -o j1631_FAST_pulsar_search_pl_bary_DM33.08   -dm 33.08 -downsamp 1 /home/pl/work/python-workspance/FAST_pulsar_search_pl/03_subbands/j1631_FAST_pulsar_search_pl_DM33.08.dat\u001b[0m\n",
      "\u001b[94m运行时间： 0.0秒\u001b[0m\n",
      "运行命令：\u001b[96mprepdata -o j1631_FAST_pulsar_search_pl_bary_DM33.07   -dm 33.07 -downsamp 1 /home/pl/work/python-workspance/FAST_pulsar_search_pl/03_subbands/j1631_FAST_pulsar_search_pl_DM33.07.dat\u001b[0m\n",
      "\u001b[94m运行时间： 0.0秒\u001b[0m\n",
      "运行命令：\u001b[96mprepdata -o j1631_FAST_pulsar_search_pl_bary_DM33.09   -dm 33.09 -downsamp 1 /home/pl/work/python-workspance/FAST_pulsar_search_pl/03_subbands/j1631_FAST_pulsar_search_pl_DM33.09.dat\u001b[0m\n",
      "\u001b[94m运行时间： 0.0秒\u001b[0m\n",
      "运行命令：\u001b[96mprepdata -o j1631_FAST_pulsar_search_pl_bary_DM33.10   -dm 33.10 -downsamp 1 /home/pl/work/python-workspance/FAST_pulsar_search_pl/03_subbands/j1631_FAST_pulsar_search_pl_DM33.10.dat\u001b[0m\n",
      "\u001b[94m运行时间： 0.0秒\u001b[0m\n",
      "运行命令：\u001b[96mprepdata -o j1631_FAST_pulsar_search_pl_bary_DM33.11   -dm 33.11 -downsamp 1 /home/pl/work/python-workspance/FAST_pulsar_search_pl/03_subbands/j1631_FAST_pulsar_search_pl_DM33.11.dat\u001b[0m\n",
      "\u001b[94m运行时间： 0.0秒\u001b[0m\n",
      "程序运行路径为: /home/pl/work/python-workspance/FAST_pulsar_search_pl/03_barydata\n",
      "日志文件为：/home/pl/work/python-workspance/FAST_pulsar_search_pl/LOG/03_barydata/BARY-33.12.txt\n"
     ]
    },
    {
     "name": "stderr",
     "output_type": "stream",
     "text": [
      "prepdata-bary-8核:  35%|███▌      | 106/300 [00:34<01:04,  3.02cmd/s]"
     ]
    },
    {
     "name": "stdout",
     "output_type": "stream",
     "text": [
      "程序运行路径为: /home/pl/work/python-workspance/FAST_pulsar_search_pl/03_barydata\n",
      "日志文件为：/home/pl/work/python-workspance/FAST_pulsar_search_pl/LOG/03_barydata/BARY-33.13.txt\n",
      "运行命令：\u001b[96mprepdata -o j1631_FAST_pulsar_search_pl_bary_DM33.13   -dm 33.13 -downsamp 1 /home/pl/work/python-workspance/FAST_pulsar_search_pl/03_subbands/j1631_FAST_pulsar_search_pl_DM33.13.dat\u001b[0m\n",
      "\u001b[94m运行时间： 0.0秒\u001b[0m\n",
      "运行命令：\u001b[96mprepdata -o j1631_FAST_pulsar_search_pl_bary_DM33.12   -dm 33.12 -downsamp 1 /home/pl/work/python-workspance/FAST_pulsar_search_pl/03_subbands/j1631_FAST_pulsar_search_pl_DM33.12.dat\u001b[0m\n",
      "\u001b[94m运行时间： 0.0秒\u001b[0m\n",
      "程序运行路径为: /home/pl/work/python-workspance/FAST_pulsar_search_pl/03_barydata\n",
      "日志文件为：/home/pl/work/python-workspance/FAST_pulsar_search_pl/LOG/03_barydata/BARY-33.14.txt\n"
     ]
    },
    {
     "name": "stderr",
     "output_type": "stream",
     "text": [
      "prepdata-bary-8核:  36%|███▌      | 108/300 [00:34<01:04,  2.96cmd/s]"
     ]
    },
    {
     "name": "stdout",
     "output_type": "stream",
     "text": [
      "程序运行路径为: /home/pl/work/python-workspance/FAST_pulsar_search_pl/03_barydata\n",
      "日志文件为：/home/pl/work/python-workspance/FAST_pulsar_search_pl/LOG/03_barydata/BARY-33.15.txt\n",
      "程序运行路径为: /home/pl/work/python-workspance/FAST_pulsar_search_pl/03_barydata\n",
      "日志文件为：/home/pl/work/python-workspance/FAST_pulsar_search_pl/LOG/03_barydata/BARY-33.16.txt\n",
      "程序运行路径为: /home/pl/work/python-workspance/FAST_pulsar_search_pl/03_barydata\n",
      "日志文件为：/home/pl/work/python-workspance/FAST_pulsar_search_pl/LOG/03_barydata/BARY-33.17.txt\n",
      "程序运行路径为: /home/pl/work/python-workspance/FAST_pulsar_search_pl/03_barydata\n",
      "日志文件为：/home/pl/work/python-workspance/FAST_pulsar_search_pl/LOG/03_barydata/BARY-33.18.txt\n",
      "程序运行路径为: /home/pl/work/python-workspance/FAST_pulsar_search_pl/03_barydata\n",
      "日志文件为：/home/pl/work/python-workspance/FAST_pulsar_search_pl/LOG/03_barydata/BARY-33.19.txt\n",
      "运行命令：\u001b[96mprepdata -o j1631_FAST_pulsar_search_pl_bary_DM33.14   -dm 33.14 -downsamp 1 /home/pl/work/python-workspance/FAST_pulsar_search_pl/03_subbands/j1631_FAST_pulsar_search_pl_DM33.14.dat\u001b[0m\n",
      "\u001b[94m运行时间： 0.0秒\u001b[0m\n",
      "运行命令：\u001b[96mprepdata -o j1631_FAST_pulsar_search_pl_bary_DM33.15   -dm 33.15 -downsamp 1 /home/pl/work/python-workspance/FAST_pulsar_search_pl/03_subbands/j1631_FAST_pulsar_search_pl_DM33.15.dat\u001b[0m\n",
      "\u001b[94m运行时间： 0.0秒\u001b[0m\n",
      "运行命令：\u001b[96mprepdata -o j1631_FAST_pulsar_search_pl_bary_DM33.16   -dm 33.16 -downsamp 1 /home/pl/work/python-workspance/FAST_pulsar_search_pl/03_subbands/j1631_FAST_pulsar_search_pl_DM33.16.dat\u001b[0m\n",
      "\u001b[94m运行时间： 0.0秒\u001b[0m\n",
      "运行命令：\u001b[96mprepdata -o j1631_FAST_pulsar_search_pl_bary_DM33.17   -dm 33.17 -downsamp 1 /home/pl/work/python-workspance/FAST_pulsar_search_pl/03_subbands/j1631_FAST_pulsar_search_pl_DM33.17.dat\u001b[0m\n",
      "\u001b[94m运行时间： 0.0秒\u001b[0m\n",
      "运行命令：\u001b[96mprepdata -o j1631_FAST_pulsar_search_pl_bary_DM33.18   -dm 33.18 -downsamp 1 /home/pl/work/python-workspance/FAST_pulsar_search_pl/03_subbands/j1631_FAST_pulsar_search_pl_DM33.18.dat\u001b[0m\n",
      "\u001b[94m运行时间： 0.0秒\u001b[0m\n",
      "运行命令：\u001b[96mprepdata -o j1631_FAST_pulsar_search_pl_bary_DM33.19   -dm 33.19 -downsamp 1 /home/pl/work/python-workspance/FAST_pulsar_search_pl/03_subbands/j1631_FAST_pulsar_search_pl_DM33.19.dat\u001b[0m\n",
      "\u001b[94m运行时间： 0.0秒\u001b[0m\n"
     ]
    },
    {
     "name": "stderr",
     "output_type": "stream",
     "text": [
      "prepdata-bary-8核:  38%|███▊      | 113/300 [00:36<01:02,  2.99cmd/s]"
     ]
    },
    {
     "name": "stdout",
     "output_type": "stream",
     "text": [
      "程序运行路径为: /home/pl/work/python-workspance/FAST_pulsar_search_pl/03_barydata\n",
      "日志文件为：/home/pl/work/python-workspance/FAST_pulsar_search_pl/LOG/03_barydata/BARY-33.20.txt\n",
      "程序运行路径为: /home/pl/work/python-workspance/FAST_pulsar_search_pl/03_barydata\n",
      "日志文件为：/home/pl/work/python-workspance/FAST_pulsar_search_pl/LOG/03_barydata/BARY-33.21.txt\n",
      "运行命令：\u001b[96mprepdata -o j1631_FAST_pulsar_search_pl_bary_DM33.20   -dm 33.20 -downsamp 1 /home/pl/work/python-workspance/FAST_pulsar_search_pl/03_subbands/j1631_FAST_pulsar_search_pl_DM33.20.dat\u001b[0m\n",
      "运行命令：\u001b[96mprepdata -o j1631_FAST_pulsar_search_pl_bary_DM33.21   -dm 33.21 -downsamp 1 /home/pl/work/python-workspance/FAST_pulsar_search_pl/03_subbands/j1631_FAST_pulsar_search_pl_DM33.21.dat\u001b[0m\n",
      "\u001b[94m运行时间： 0.0秒\u001b[0m\n",
      "\u001b[94m运行时间： 0.0秒\u001b[0m\n"
     ]
    },
    {
     "name": "stderr",
     "output_type": "stream",
     "text": [
      "prepdata-bary-8核:  38%|███▊      | 115/300 [00:37<00:57,  3.20cmd/s]"
     ]
    },
    {
     "name": "stdout",
     "output_type": "stream",
     "text": [
      "程序运行路径为: /home/pl/work/python-workspance/FAST_pulsar_search_pl/03_barydata\n",
      "日志文件为：/home/pl/work/python-workspance/FAST_pulsar_search_pl/LOG/03_barydata/BARY-33.22.txt\n"
     ]
    },
    {
     "name": "stderr",
     "output_type": "stream",
     "text": [
      "prepdata-bary-8核:  39%|███▊      | 116/300 [00:37<00:57,  3.19cmd/s]"
     ]
    },
    {
     "name": "stdout",
     "output_type": "stream",
     "text": [
      "程序运行路径为: /home/pl/work/python-workspance/FAST_pulsar_search_pl/03_barydata\n",
      "日志文件为：/home/pl/work/python-workspance/FAST_pulsar_search_pl/LOG/03_barydata/BARY-33.23.txt\n",
      "程序运行路径为: /home/pl/work/python-workspance/FAST_pulsar_search_pl/03_barydata\n",
      "日志文件为：/home/pl/work/python-workspance/FAST_pulsar_search_pl/LOG/03_barydata/BARY-33.24.txt\n",
      "运行命令：\u001b[96mprepdata -o j1631_FAST_pulsar_search_pl_bary_DM33.22   -dm 33.22 -downsamp 1 /home/pl/work/python-workspance/FAST_pulsar_search_pl/03_subbands/j1631_FAST_pulsar_search_pl_DM33.22.dat\u001b[0m\n",
      "\u001b[94m运行时间： 0.0秒\u001b[0m\n",
      "程序运行路径为: /home/pl/work/python-workspance/FAST_pulsar_search_pl/03_barydata\n",
      "日志文件为：/home/pl/work/python-workspance/FAST_pulsar_search_pl/LOG/03_barydata/BARY-33.25.txt\n",
      "程序运行路径为: /home/pl/work/python-workspance/FAST_pulsar_search_pl/03_barydata\n",
      "日志文件为：/home/pl/work/python-workspance/FAST_pulsar_search_pl/LOG/03_barydata/BARY-33.26.txt\n"
     ]
    },
    {
     "name": "stderr",
     "output_type": "stream",
     "text": [
      "prepdata-bary-8核:  40%|████      | 120/300 [00:37<00:34,  5.26cmd/s]"
     ]
    },
    {
     "name": "stdout",
     "output_type": "stream",
     "text": [
      "程序运行路径为: /home/pl/work/python-workspance/FAST_pulsar_search_pl/03_barydata\n",
      "日志文件为：/home/pl/work/python-workspance/FAST_pulsar_search_pl/LOG/03_barydata/BARY-33.27.txt\n",
      "运行命令：\u001b[96mprepdata -o j1631_FAST_pulsar_search_pl_bary_DM33.23   -dm 33.23 -downsamp 1 /home/pl/work/python-workspance/FAST_pulsar_search_pl/03_subbands/j1631_FAST_pulsar_search_pl_DM33.23.dat\u001b[0m\n",
      "\u001b[94m运行时间： 0.0秒\u001b[0m\n",
      "运行命令：\u001b[96mprepdata -o j1631_FAST_pulsar_search_pl_bary_DM33.24   -dm 33.24 -downsamp 1 /home/pl/work/python-workspance/FAST_pulsar_search_pl/03_subbands/j1631_FAST_pulsar_search_pl_DM33.24.dat\u001b[0m\n",
      "\u001b[94m运行时间： 0.0秒\u001b[0m\n",
      "运行命令：\u001b[96mprepdata -o j1631_FAST_pulsar_search_pl_bary_DM33.25   -dm 33.25 -downsamp 1 /home/pl/work/python-workspance/FAST_pulsar_search_pl/03_subbands/j1631_FAST_pulsar_search_pl_DM33.25.dat\u001b[0m\n",
      "\u001b[94m运行时间： 0.0秒\u001b[0m\n",
      "运行命令：\u001b[96mprepdata -o j1631_FAST_pulsar_search_pl_bary_DM33.26   -dm 33.26 -downsamp 1 /home/pl/work/python-workspance/FAST_pulsar_search_pl/03_subbands/j1631_FAST_pulsar_search_pl_DM33.26.dat\u001b[0m\n",
      "\u001b[94m运行时间： 0.0秒\u001b[0m\n",
      "运行命令：\u001b[96mprepdata -o j1631_FAST_pulsar_search_pl_bary_DM33.27   -dm 33.27 -downsamp 1 /home/pl/work/python-workspance/FAST_pulsar_search_pl/03_subbands/j1631_FAST_pulsar_search_pl_DM33.27.dat\u001b[0m\n",
      "\u001b[94m运行时间： 0.0秒\u001b[0m\n"
     ]
    },
    {
     "name": "stderr",
     "output_type": "stream",
     "text": [
      "prepdata-bary-8核:  41%|████      | 122/300 [00:38<00:57,  3.11cmd/s]"
     ]
    },
    {
     "name": "stdout",
     "output_type": "stream",
     "text": [
      "程序运行路径为: /home/pl/work/python-workspance/FAST_pulsar_search_pl/03_barydata\n",
      "程序运行路径为: /home/pl/work/python-workspance/FAST_pulsar_search_pl/03_barydata\n",
      "日志文件为：/home/pl/work/python-workspance/FAST_pulsar_search_pl/LOG/03_barydata/BARY-33.28.txt\n",
      "日志文件为：/home/pl/work/python-workspance/FAST_pulsar_search_pl/LOG/03_barydata/BARY-33.29.txt\n",
      "运行命令：\u001b[96mprepdata -o j1631_FAST_pulsar_search_pl_bary_DM33.29   -dm 33.29 -downsamp 1 /home/pl/work/python-workspance/FAST_pulsar_search_pl/03_subbands/j1631_FAST_pulsar_search_pl_DM33.29.dat\u001b[0m\n",
      "\u001b[94m运行时间： 0.0秒\u001b[0m\n",
      "运行命令：\u001b[96mprepdata -o j1631_FAST_pulsar_search_pl_bary_DM33.28   -dm 33.28 -downsamp 1 /home/pl/work/python-workspance/FAST_pulsar_search_pl/03_subbands/j1631_FAST_pulsar_search_pl_DM33.28.dat\u001b[0m\n",
      "\u001b[94m运行时间： 0.0秒\u001b[0m\n",
      "程序运行路径为: /home/pl/work/python-workspance/FAST_pulsar_search_pl/03_barydata\n",
      "日志文件为：/home/pl/work/python-workspance/FAST_pulsar_search_pl/LOG/03_barydata/BARY-33.30.txt\n",
      "运行命令：\u001b[96mprepdata -o j1631_FAST_pulsar_search_pl_bary_DM33.30   -dm 33.30 -downsamp 1 /home/pl/work/python-workspance/FAST_pulsar_search_pl/03_subbands/j1631_FAST_pulsar_search_pl_DM33.30.dat\u001b[0m\n",
      "\u001b[94m运行时间： 0.0秒\u001b[0m\n"
     ]
    },
    {
     "name": "stderr",
     "output_type": "stream",
     "text": [
      "prepdata-bary-8核:  41%|████▏     | 124/300 [00:39<01:00,  2.90cmd/s]"
     ]
    },
    {
     "name": "stdout",
     "output_type": "stream",
     "text": [
      "程序运行路径为: /home/pl/work/python-workspance/FAST_pulsar_search_pl/03_barydata\n",
      "日志文件为：/home/pl/work/python-workspance/FAST_pulsar_search_pl/LOG/03_barydata/BARY-33.31.txt\n",
      "程序运行路径为: /home/pl/work/python-workspance/FAST_pulsar_search_pl/03_barydata\n",
      "日志文件为：/home/pl/work/python-workspance/FAST_pulsar_search_pl/LOG/03_barydata/BARY-33.32.txt\n",
      "程序运行路径为: /home/pl/work/python-workspance/FAST_pulsar_search_pl/03_barydata\n",
      "日志文件为：/home/pl/work/python-workspance/FAST_pulsar_search_pl/LOG/03_barydata/BARY-33.33.txt\n",
      "程序运行路径为: /home/pl/work/python-workspance/FAST_pulsar_search_pl/03_barydata\n",
      "日志文件为：/home/pl/work/python-workspance/FAST_pulsar_search_pl/LOG/03_barydata/BARY-33.34.txt\n"
     ]
    },
    {
     "name": "stderr",
     "output_type": "stream",
     "text": [
      "prepdata-bary-8核:  43%|████▎     | 128/300 [00:39<00:36,  4.71cmd/s]"
     ]
    },
    {
     "name": "stdout",
     "output_type": "stream",
     "text": [
      "程序运行路径为: /home/pl/work/python-workspance/FAST_pulsar_search_pl/03_barydata\n",
      "日志文件为：/home/pl/work/python-workspance/FAST_pulsar_search_pl/LOG/03_barydata/BARY-33.35.txt\n",
      "运行命令：\u001b[96mprepdata -o j1631_FAST_pulsar_search_pl_bary_DM33.32   -dm 33.32 -downsamp 1 /home/pl/work/python-workspance/FAST_pulsar_search_pl/03_subbands/j1631_FAST_pulsar_search_pl_DM33.32.dat\u001b[0m\n",
      "\u001b[94m运行时间： 0.0秒\u001b[0m\n",
      "运行命令：\u001b[96mprepdata -o j1631_FAST_pulsar_search_pl_bary_DM33.31   -dm 33.31 -downsamp 1 /home/pl/work/python-workspance/FAST_pulsar_search_pl/03_subbands/j1631_FAST_pulsar_search_pl_DM33.31.dat\u001b[0m\n",
      "\u001b[94m运行时间： 0.0秒\u001b[0m\n",
      "运行命令：\u001b[96mprepdata -o j1631_FAST_pulsar_search_pl_bary_DM33.33   -dm 33.33 -downsamp 1 /home/pl/work/python-workspance/FAST_pulsar_search_pl/03_subbands/j1631_FAST_pulsar_search_pl_DM33.33.dat\u001b[0m\n",
      "\u001b[94m运行时间： 0.0秒\u001b[0m\n",
      "运行命令：\u001b[96mprepdata -o j1631_FAST_pulsar_search_pl_bary_DM33.34   -dm 33.34 -downsamp 1 /home/pl/work/python-workspance/FAST_pulsar_search_pl/03_subbands/j1631_FAST_pulsar_search_pl_DM33.34.dat\u001b[0m\n",
      "\u001b[94m运行时间： 0.0秒\u001b[0m\n",
      "运行命令：\u001b[96mprepdata -o j1631_FAST_pulsar_search_pl_bary_DM33.35   -dm 33.35 -downsamp 1 /home/pl/work/python-workspance/FAST_pulsar_search_pl/03_subbands/j1631_FAST_pulsar_search_pl_DM33.35.dat\u001b[0m\n",
      "\u001b[94m运行时间： 0.0秒\u001b[0m\n",
      "程序运行路径为: /home/pl/work/python-workspance/FAST_pulsar_search_pl/03_barydata\n",
      "日志文件为：/home/pl/work/python-workspance/FAST_pulsar_search_pl/LOG/03_barydata/BARY-33.36.txt\n",
      "程序运行路径为: /home/pl/work/python-workspance/FAST_pulsar_search_pl/03_barydata\n"
     ]
    },
    {
     "name": "stderr",
     "output_type": "stream",
     "text": [
      "prepdata-bary-8核:  43%|████▎     | 130/300 [00:41<00:56,  3.03cmd/s]"
     ]
    },
    {
     "name": "stdout",
     "output_type": "stream",
     "text": [
      "日志文件为：/home/pl/work/python-workspance/FAST_pulsar_search_pl/LOG/03_barydata/BARY-33.37.txt\n",
      "运行命令：\u001b[96mprepdata -o j1631_FAST_pulsar_search_pl_bary_DM33.36   -dm 33.36 -downsamp 1 /home/pl/work/python-workspance/FAST_pulsar_search_pl/03_subbands/j1631_FAST_pulsar_search_pl_DM33.36.dat\u001b[0m\n",
      "\u001b[94m运行时间： 0.0秒\u001b[0m\n",
      "运行命令：\u001b[96mprepdata -o j1631_FAST_pulsar_search_pl_bary_DM33.37   -dm 33.37 -downsamp 1 /home/pl/work/python-workspance/FAST_pulsar_search_pl/03_subbands/j1631_FAST_pulsar_search_pl_DM33.37.dat\u001b[0m\n",
      "\u001b[94m运行时间： 0.0秒\u001b[0m\n",
      "程序运行路径为: /home/pl/work/python-workspance/FAST_pulsar_search_pl/03_barydata\n",
      "日志文件为：/home/pl/work/python-workspance/FAST_pulsar_search_pl/LOG/03_barydata/BARY-33.38.txt\n",
      "运行命令：\u001b[96mprepdata -o j1631_FAST_pulsar_search_pl_bary_DM33.38   -dm 33.38 -downsamp 1 /home/pl/work/python-workspance/FAST_pulsar_search_pl/03_subbands/j1631_FAST_pulsar_search_pl_DM33.38.dat\u001b[0m\n",
      "\u001b[94m运行时间： 0.0秒\u001b[0m\n"
     ]
    },
    {
     "name": "stderr",
     "output_type": "stream",
     "text": [
      "prepdata-bary-8核:  44%|████▍     | 132/300 [00:42<00:59,  2.82cmd/s]"
     ]
    },
    {
     "name": "stdout",
     "output_type": "stream",
     "text": [
      "程序运行路径为: /home/pl/work/python-workspance/FAST_pulsar_search_pl/03_barydata\n",
      "日志文件为：/home/pl/work/python-workspance/FAST_pulsar_search_pl/LOG/03_barydata/BARY-33.39.txt\n",
      "程序运行路径为: /home/pl/work/python-workspance/FAST_pulsar_search_pl/03_barydata\n",
      "日志文件为：/home/pl/work/python-workspance/FAST_pulsar_search_pl/LOG/03_barydata/BARY-33.40.txt\n",
      "程序运行路径为: /home/pl/work/python-workspance/FAST_pulsar_search_pl/03_barydata\n",
      "日志文件为：/home/pl/work/python-workspance/FAST_pulsar_search_pl/LOG/03_barydata/BARY-33.41.txt\n",
      "程序运行路径为: /home/pl/work/python-workspance/FAST_pulsar_search_pl/03_barydata\n",
      "日志文件为：/home/pl/work/python-workspance/FAST_pulsar_search_pl/LOG/03_barydata/BARY-33.42.txt\n"
     ]
    },
    {
     "name": "stderr",
     "output_type": "stream",
     "text": [
      "prepdata-bary-8核:  45%|████▌     | 136/300 [00:42<00:35,  4.57cmd/s]"
     ]
    },
    {
     "name": "stdout",
     "output_type": "stream",
     "text": [
      "程序运行路径为: /home/pl/work/python-workspance/FAST_pulsar_search_pl/03_barydata\n",
      "日志文件为：/home/pl/work/python-workspance/FAST_pulsar_search_pl/LOG/03_barydata/BARY-33.43.txt\n",
      "运行命令：\u001b[96mprepdata -o j1631_FAST_pulsar_search_pl_bary_DM33.40   -dm 33.40 -downsamp 1 /home/pl/work/python-workspance/FAST_pulsar_search_pl/03_subbands/j1631_FAST_pulsar_search_pl_DM33.40.dat\u001b[0m\n",
      "\u001b[94m运行时间： 0.0秒\u001b[0m\n",
      "运行命令：\u001b[96mprepdata -o j1631_FAST_pulsar_search_pl_bary_DM33.39   -dm 33.39 -downsamp 1 /home/pl/work/python-workspance/FAST_pulsar_search_pl/03_subbands/j1631_FAST_pulsar_search_pl_DM33.39.dat\u001b[0m\n",
      "\u001b[94m运行时间： 0.0秒\u001b[0m\n",
      "运行命令：\u001b[96mprepdata -o j1631_FAST_pulsar_search_pl_bary_DM33.42   -dm 33.42 -downsamp 1 /home/pl/work/python-workspance/FAST_pulsar_search_pl/03_subbands/j1631_FAST_pulsar_search_pl_DM33.42.dat\u001b[0m\n",
      "\u001b[94m运行时间： 0.0秒\u001b[0m\n",
      "运行命令：\u001b[96mprepdata -o j1631_FAST_pulsar_search_pl_bary_DM33.41   -dm 33.41 -downsamp 1 /home/pl/work/python-workspance/FAST_pulsar_search_pl/03_subbands/j1631_FAST_pulsar_search_pl_DM33.41.dat\u001b[0m\n",
      "\u001b[94m运行时间： 0.0秒\u001b[0m\n",
      "运行命令：\u001b[96mprepdata -o j1631_FAST_pulsar_search_pl_bary_DM33.43   -dm 33.43 -downsamp 1 /home/pl/work/python-workspance/FAST_pulsar_search_pl/03_subbands/j1631_FAST_pulsar_search_pl_DM33.43.dat\u001b[0m\n",
      "\u001b[94m运行时间： 0.0秒\u001b[0m\n",
      "程序运行路径为: /home/pl/work/python-workspance/FAST_pulsar_search_pl/03_barydata\n",
      "日志文件为：/home/pl/work/python-workspance/FAST_pulsar_search_pl/LOG/03_barydata/BARY-33.44.txt\n"
     ]
    },
    {
     "name": "stderr",
     "output_type": "stream",
     "text": [
      "prepdata-bary-8核:  46%|████▌     | 138/300 [00:43<00:54,  2.99cmd/s]"
     ]
    },
    {
     "name": "stdout",
     "output_type": "stream",
     "text": [
      "程序运行路径为: /home/pl/work/python-workspance/FAST_pulsar_search_pl/03_barydata\n",
      "日志文件为：/home/pl/work/python-workspance/FAST_pulsar_search_pl/LOG/03_barydata/BARY-33.45.txt\n",
      "运行命令：\u001b[96mprepdata -o j1631_FAST_pulsar_search_pl_bary_DM33.44   -dm 33.44 -downsamp 1 /home/pl/work/python-workspance/FAST_pulsar_search_pl/03_subbands/j1631_FAST_pulsar_search_pl_DM33.44.dat\u001b[0m\n",
      "\u001b[94m运行时间： 0.0秒\u001b[0m\n",
      "运行命令：\u001b[96mprepdata -o j1631_FAST_pulsar_search_pl_bary_DM33.45   -dm 33.45 -downsamp 1 /home/pl/work/python-workspance/FAST_pulsar_search_pl/03_subbands/j1631_FAST_pulsar_search_pl_DM33.45.dat\u001b[0m\n",
      "\u001b[94m运行时间： 0.0秒\u001b[0m\n",
      "程序运行路径为: /home/pl/work/python-workspance/FAST_pulsar_search_pl/03_barydata\n",
      "日志文件为：/home/pl/work/python-workspance/FAST_pulsar_search_pl/LOG/03_barydata/BARY-33.46.txt\n",
      "运行命令：\u001b[96mprepdata -o j1631_FAST_pulsar_search_pl_bary_DM33.46   -dm 33.46 -downsamp 1 /home/pl/work/python-workspance/FAST_pulsar_search_pl/03_subbands/j1631_FAST_pulsar_search_pl_DM33.46.dat\u001b[0m\n",
      "\u001b[94m运行时间： 0.0秒\u001b[0m\n"
     ]
    },
    {
     "name": "stderr",
     "output_type": "stream",
     "text": [
      "prepdata-bary-8核:  47%|████▋     | 140/300 [00:44<00:57,  2.79cmd/s]"
     ]
    },
    {
     "name": "stdout",
     "output_type": "stream",
     "text": [
      "程序运行路径为: /home/pl/work/python-workspance/FAST_pulsar_search_pl/03_barydata\n",
      "日志文件为：/home/pl/work/python-workspance/FAST_pulsar_search_pl/LOG/03_barydata/BARY-33.47.txt\n",
      "程序运行路径为: /home/pl/work/python-workspance/FAST_pulsar_search_pl/03_barydata\n",
      "日志文件为：/home/pl/work/python-workspance/FAST_pulsar_search_pl/LOG/03_barydata/BARY-33.48.txt\n",
      "程序运行路径为: /home/pl/work/python-workspance/FAST_pulsar_search_pl/03_barydata\n",
      "日志文件为：/home/pl/work/python-workspance/FAST_pulsar_search_pl/LOG/03_barydata/BARY-33.49.txt\n",
      "程序运行路径为: /home/pl/work/python-workspance/FAST_pulsar_search_pl/03_barydata\n",
      "日志文件为：/home/pl/work/python-workspance/FAST_pulsar_search_pl/LOG/03_barydata/BARY-33.50.txt\n"
     ]
    },
    {
     "name": "stderr",
     "output_type": "stream",
     "text": [
      "prepdata-bary-8核:  48%|████▊     | 144/300 [00:44<00:35,  4.45cmd/s]"
     ]
    },
    {
     "name": "stdout",
     "output_type": "stream",
     "text": [
      "程序运行路径为: /home/pl/work/python-workspance/FAST_pulsar_search_pl/03_barydata\n",
      "日志文件为：/home/pl/work/python-workspance/FAST_pulsar_search_pl/LOG/03_barydata/BARY-33.51.txt\n",
      "运行命令：\u001b[96mprepdata -o j1631_FAST_pulsar_search_pl_bary_DM33.48   -dm 33.48 -downsamp 1 /home/pl/work/python-workspance/FAST_pulsar_search_pl/03_subbands/j1631_FAST_pulsar_search_pl_DM33.48.dat\u001b[0m\n",
      "运行命令：\u001b[96mprepdata -o j1631_FAST_pulsar_search_pl_bary_DM33.47   -dm 33.47 -downsamp 1 /home/pl/work/python-workspance/FAST_pulsar_search_pl/03_subbands/j1631_FAST_pulsar_search_pl_DM33.47.dat\u001b[0m\n",
      "\u001b[94m运行时间： 0.0秒\u001b[0m\n",
      "\u001b[94m运行时间： 0.0秒\u001b[0m\n",
      "运行命令：\u001b[96mprepdata -o j1631_FAST_pulsar_search_pl_bary_DM33.49   -dm 33.49 -downsamp 1 /home/pl/work/python-workspance/FAST_pulsar_search_pl/03_subbands/j1631_FAST_pulsar_search_pl_DM33.49.dat\u001b[0m\n",
      "\u001b[94m运行时间： 0.0秒\u001b[0m\n",
      "运行命令：\u001b[96mprepdata -o j1631_FAST_pulsar_search_pl_bary_DM33.50   -dm 33.50 -downsamp 1 /home/pl/work/python-workspance/FAST_pulsar_search_pl/03_subbands/j1631_FAST_pulsar_search_pl_DM33.50.dat\u001b[0m\n",
      "\u001b[94m运行时间： 0.0秒\u001b[0m\n",
      "运行命令：\u001b[96mprepdata -o j1631_FAST_pulsar_search_pl_bary_DM33.51   -dm 33.51 -downsamp 1 /home/pl/work/python-workspance/FAST_pulsar_search_pl/03_subbands/j1631_FAST_pulsar_search_pl_DM33.51.dat\u001b[0m\n",
      "\u001b[94m运行时间： 0.0秒\u001b[0m\n",
      "程序运行路径为: /home/pl/work/python-workspance/FAST_pulsar_search_pl/03_barydata\n",
      "日志文件为：/home/pl/work/python-workspance/FAST_pulsar_search_pl/LOG/03_barydata/BARY-33.52.txt\n"
     ]
    },
    {
     "name": "stderr",
     "output_type": "stream",
     "text": [
      "prepdata-bary-8核:  49%|████▊     | 146/300 [00:46<00:50,  3.03cmd/s]"
     ]
    },
    {
     "name": "stdout",
     "output_type": "stream",
     "text": [
      "程序运行路径为: /home/pl/work/python-workspance/FAST_pulsar_search_pl/03_barydata\n",
      "日志文件为：/home/pl/work/python-workspance/FAST_pulsar_search_pl/LOG/03_barydata/BARY-33.53.txt\n",
      "运行命令：\u001b[96mprepdata -o j1631_FAST_pulsar_search_pl_bary_DM33.53   -dm 33.53 -downsamp 1 /home/pl/work/python-workspance/FAST_pulsar_search_pl/03_subbands/j1631_FAST_pulsar_search_pl_DM33.53.dat\u001b[0m\n",
      "\u001b[94m运行时间： 0.0秒\u001b[0m\n",
      "程序运行路径为: /home/pl/work/python-workspance/FAST_pulsar_search_pl/03_barydata\n",
      "日志文件为：/home/pl/work/python-workspance/FAST_pulsar_search_pl/LOG/03_barydata/BARY-33.54.txt\n",
      "运行命令：\u001b[96mprepdata -o j1631_FAST_pulsar_search_pl_bary_DM33.52   -dm 33.52 -downsamp 1 /home/pl/work/python-workspance/FAST_pulsar_search_pl/03_subbands/j1631_FAST_pulsar_search_pl_DM33.52.dat\u001b[0m\n",
      "\u001b[94m运行时间： 0.0秒\u001b[0m\n",
      "运行命令：\u001b[96mprepdata -o j1631_FAST_pulsar_search_pl_bary_DM33.54   -dm 33.54 -downsamp 1 /home/pl/work/python-workspance/FAST_pulsar_search_pl/03_subbands/j1631_FAST_pulsar_search_pl_DM33.54.dat\u001b[0m\n",
      "\u001b[94m运行时间： 0.0秒\u001b[0m\n"
     ]
    },
    {
     "name": "stderr",
     "output_type": "stream",
     "text": [
      "prepdata-bary-8核:  49%|████▉     | 148/300 [00:47<00:55,  2.72cmd/s]"
     ]
    },
    {
     "name": "stdout",
     "output_type": "stream",
     "text": [
      "程序运行路径为: /home/pl/work/python-workspance/FAST_pulsar_search_pl/03_barydata\n",
      "程序运行路径为: /home/pl/work/python-workspance/FAST_pulsar_search_pl/03_barydata\n",
      "日志文件为：/home/pl/work/python-workspance/FAST_pulsar_search_pl/LOG/03_barydata/BARY-33.55.txt\n",
      "日志文件为：/home/pl/work/python-workspance/FAST_pulsar_search_pl/LOG/03_barydata/BARY-33.56.txt\n",
      "程序运行路径为: /home/pl/work/python-workspance/FAST_pulsar_search_pl/03_barydata\n",
      "日志文件为：/home/pl/work/python-workspance/FAST_pulsar_search_pl/LOG/03_barydata/BARY-33.57.txt\n",
      "程序运行路径为: /home/pl/work/python-workspance/FAST_pulsar_search_pl/03_barydata\n",
      "日志文件为：/home/pl/work/python-workspance/FAST_pulsar_search_pl/LOG/03_barydata/BARY-33.58.txt\n"
     ]
    },
    {
     "name": "stderr",
     "output_type": "stream",
     "text": [
      "prepdata-bary-8核:  51%|█████     | 152/300 [00:47<00:33,  4.37cmd/s]"
     ]
    },
    {
     "name": "stdout",
     "output_type": "stream",
     "text": [
      "程序运行路径为: /home/pl/work/python-workspance/FAST_pulsar_search_pl/03_barydata\n",
      "日志文件为：/home/pl/work/python-workspance/FAST_pulsar_search_pl/LOG/03_barydata/BARY-33.59.txt\n",
      "运行命令：\u001b[96mprepdata -o j1631_FAST_pulsar_search_pl_bary_DM33.56   -dm 33.56 -downsamp 1 /home/pl/work/python-workspance/FAST_pulsar_search_pl/03_subbands/j1631_FAST_pulsar_search_pl_DM33.56.dat\u001b[0m\n",
      "\u001b[94m运行时间： 0.0秒\u001b[0m\n",
      "运行命令：\u001b[96mprepdata -o j1631_FAST_pulsar_search_pl_bary_DM33.55   -dm 33.55 -downsamp 1 /home/pl/work/python-workspance/FAST_pulsar_search_pl/03_subbands/j1631_FAST_pulsar_search_pl_DM33.55.dat\u001b[0m\n",
      "\u001b[94m运行时间： 0.0秒\u001b[0m\n",
      "运行命令：\u001b[96mprepdata -o j1631_FAST_pulsar_search_pl_bary_DM33.57   -dm 33.57 -downsamp 1 /home/pl/work/python-workspance/FAST_pulsar_search_pl/03_subbands/j1631_FAST_pulsar_search_pl_DM33.57.dat\u001b[0m\n",
      "\u001b[94m运行时间： 0.0秒\u001b[0m\n",
      "运行命令：\u001b[96mprepdata -o j1631_FAST_pulsar_search_pl_bary_DM33.58   -dm 33.58 -downsamp 1 /home/pl/work/python-workspance/FAST_pulsar_search_pl/03_subbands/j1631_FAST_pulsar_search_pl_DM33.58.dat\u001b[0m\n",
      "\u001b[94m运行时间： 0.0秒\u001b[0m\n",
      "运行命令：\u001b[96mprepdata -o j1631_FAST_pulsar_search_pl_bary_DM33.59   -dm 33.59 -downsamp 1 /home/pl/work/python-workspance/FAST_pulsar_search_pl/03_subbands/j1631_FAST_pulsar_search_pl_DM33.59.dat\u001b[0m\n",
      "\u001b[94m运行时间： 0.0秒\u001b[0m\n",
      "程序运行路径为: /home/pl/work/python-workspance/FAST_pulsar_search_pl/03_barydata\n",
      "日志文件为：/home/pl/work/python-workspance/FAST_pulsar_search_pl/LOG/03_barydata/BARY-33.60.txt\n"
     ]
    },
    {
     "name": "stderr",
     "output_type": "stream",
     "text": [
      "prepdata-bary-8核:  51%|█████▏    | 154/300 [00:48<00:47,  3.05cmd/s]"
     ]
    },
    {
     "name": "stdout",
     "output_type": "stream",
     "text": [
      "程序运行路径为: /home/pl/work/python-workspance/FAST_pulsar_search_pl/03_barydata\n",
      "日志文件为：/home/pl/work/python-workspance/FAST_pulsar_search_pl/LOG/03_barydata/BARY-33.61.txt\n",
      "运行命令：\u001b[96mprepdata -o j1631_FAST_pulsar_search_pl_bary_DM33.60   -dm 33.60 -downsamp 1 /home/pl/work/python-workspance/FAST_pulsar_search_pl/03_subbands/j1631_FAST_pulsar_search_pl_DM33.60.dat\u001b[0m\n",
      "\u001b[94m运行时间： 0.0秒\u001b[0m\n",
      "程序运行路径为: /home/pl/work/python-workspance/FAST_pulsar_search_pl/03_barydata\n",
      "日志文件为：/home/pl/work/python-workspance/FAST_pulsar_search_pl/LOG/03_barydata/BARY-33.62.txt\n",
      "运行命令：\u001b[96mprepdata -o j1631_FAST_pulsar_search_pl_bary_DM33.61   -dm 33.61 -downsamp 1 /home/pl/work/python-workspance/FAST_pulsar_search_pl/03_subbands/j1631_FAST_pulsar_search_pl_DM33.61.dat\u001b[0m\n",
      "\u001b[94m运行时间： 0.0秒\u001b[0m\n",
      "运行命令：\u001b[96mprepdata -o j1631_FAST_pulsar_search_pl_bary_DM33.62   -dm 33.62 -downsamp 1 /home/pl/work/python-workspance/FAST_pulsar_search_pl/03_subbands/j1631_FAST_pulsar_search_pl_DM33.62.dat\u001b[0m\n",
      "\u001b[94m运行时间： 0.0秒\u001b[0m\n"
     ]
    },
    {
     "name": "stderr",
     "output_type": "stream",
     "text": [
      "prepdata-bary-8核:  52%|█████▏    | 156/300 [00:49<00:52,  2.74cmd/s]"
     ]
    },
    {
     "name": "stdout",
     "output_type": "stream",
     "text": [
      "程序运行路径为: /home/pl/work/python-workspance/FAST_pulsar_search_pl/03_barydata\n",
      "日志文件为：/home/pl/work/python-workspance/FAST_pulsar_search_pl/LOG/03_barydata/BARY-33.63.txt\n",
      "程序运行路径为: /home/pl/work/python-workspance/FAST_pulsar_search_pl/03_barydata\n",
      "日志文件为：/home/pl/work/python-workspance/FAST_pulsar_search_pl/LOG/03_barydata/BARY-33.64.txt\n",
      "程序运行路径为: /home/pl/work/python-workspance/FAST_pulsar_search_pl/03_barydata\n",
      "日志文件为：/home/pl/work/python-workspance/FAST_pulsar_search_pl/LOG/03_barydata/BARY-33.65.txt\n"
     ]
    },
    {
     "name": "stderr",
     "output_type": "stream",
     "text": [
      "prepdata-bary-8核:  53%|█████▎    | 159/300 [00:49<00:35,  3.96cmd/s]"
     ]
    },
    {
     "name": "stdout",
     "output_type": "stream",
     "text": [
      "程序运行路径为: /home/pl/work/python-workspance/FAST_pulsar_search_pl/03_barydata\n",
      "日志文件为：/home/pl/work/python-workspance/FAST_pulsar_search_pl/LOG/03_barydata/BARY-33.66.txt\n",
      "程序运行路径为: /home/pl/work/python-workspance/FAST_pulsar_search_pl/03_barydata\n",
      "日志文件为：/home/pl/work/python-workspance/FAST_pulsar_search_pl/LOG/03_barydata/BARY-33.67.txt\n",
      "运行命令：\u001b[96mprepdata -o j1631_FAST_pulsar_search_pl_bary_DM33.63   -dm 33.63 -downsamp 1 /home/pl/work/python-workspance/FAST_pulsar_search_pl/03_subbands/j1631_FAST_pulsar_search_pl_DM33.63.dat\u001b[0m\n",
      "\u001b[94m运行时间： 0.0秒\u001b[0m\n",
      "运行命令：\u001b[96mprepdata -o j1631_FAST_pulsar_search_pl_bary_DM33.64   -dm 33.64 -downsamp 1 /home/pl/work/python-workspance/FAST_pulsar_search_pl/03_subbands/j1631_FAST_pulsar_search_pl_DM33.64.dat\u001b[0m\n",
      "\u001b[94m运行时间： 0.0秒\u001b[0m\n",
      "运行命令：\u001b[96mprepdata -o j1631_FAST_pulsar_search_pl_bary_DM33.65   -dm 33.65 -downsamp 1 /home/pl/work/python-workspance/FAST_pulsar_search_pl/03_subbands/j1631_FAST_pulsar_search_pl_DM33.65.dat\u001b[0m\n",
      "\u001b[94m运行时间： 0.0秒\u001b[0m\n",
      "运行命令：\u001b[96mprepdata -o j1631_FAST_pulsar_search_pl_bary_DM33.67   -dm 33.67 -downsamp 1 /home/pl/work/python-workspance/FAST_pulsar_search_pl/03_subbands/j1631_FAST_pulsar_search_pl_DM33.67.dat\u001b[0m\n",
      "\u001b[94m运行时间： 0.0秒\u001b[0m\n",
      "运行命令：\u001b[96mprepdata -o j1631_FAST_pulsar_search_pl_bary_DM33.66   -dm 33.66 -downsamp 1 /home/pl/work/python-workspance/FAST_pulsar_search_pl/03_subbands/j1631_FAST_pulsar_search_pl_DM33.66.dat\u001b[0m\n",
      "\u001b[94m运行时间： 0.0秒\u001b[0m\n"
     ]
    },
    {
     "name": "stderr",
     "output_type": "stream",
     "text": [
      "prepdata-bary-8核:  54%|█████▎    | 161/300 [00:50<00:48,  2.87cmd/s]"
     ]
    },
    {
     "name": "stdout",
     "output_type": "stream",
     "text": [
      "程序运行路径为: /home/pl/work/python-workspance/FAST_pulsar_search_pl/03_barydata\n",
      "日志文件为：/home/pl/work/python-workspance/FAST_pulsar_search_pl/LOG/03_barydata/BARY-33.68.txt\n",
      "程序运行路径为: /home/pl/work/python-workspance/FAST_pulsar_search_pl/03_barydata\n",
      "日志文件为：/home/pl/work/python-workspance/FAST_pulsar_search_pl/LOG/03_barydata/BARY-33.69.txt\n",
      "程序运行路径为: /home/pl/work/python-workspance/FAST_pulsar_search_pl/03_barydata\n"
     ]
    },
    {
     "name": "stderr",
     "output_type": "stream",
     "text": [
      "prepdata-bary-8核:  54%|█████▍    | 163/300 [00:51<00:41,  3.28cmd/s]"
     ]
    },
    {
     "name": "stdout",
     "output_type": "stream",
     "text": [
      "日志文件为：/home/pl/work/python-workspance/FAST_pulsar_search_pl/LOG/03_barydata/BARY-33.70.txt\n",
      "运行命令：\u001b[96mprepdata -o j1631_FAST_pulsar_search_pl_bary_DM33.68   -dm 33.68 -downsamp 1 /home/pl/work/python-workspance/FAST_pulsar_search_pl/03_subbands/j1631_FAST_pulsar_search_pl_DM33.68.dat\u001b[0m\n",
      "\u001b[94m运行时间： 0.0秒\u001b[0m\n",
      "运行命令：\u001b[96mprepdata -o j1631_FAST_pulsar_search_pl_bary_DM33.69   -dm 33.69 -downsamp 1 /home/pl/work/python-workspance/FAST_pulsar_search_pl/03_subbands/j1631_FAST_pulsar_search_pl_DM33.69.dat\u001b[0m\n",
      "\u001b[94m运行时间： 0.0秒\u001b[0m\n",
      "运行命令：\u001b[96mprepdata -o j1631_FAST_pulsar_search_pl_bary_DM33.70   -dm 33.70 -downsamp 1 /home/pl/work/python-workspance/FAST_pulsar_search_pl/03_subbands/j1631_FAST_pulsar_search_pl_DM33.70.dat\u001b[0m\n",
      "\u001b[94m运行时间： 0.0秒\u001b[0m\n"
     ]
    },
    {
     "name": "stderr",
     "output_type": "stream",
     "text": [
      "prepdata-bary-8核:  55%|█████▍    | 164/300 [00:52<00:49,  2.73cmd/s]"
     ]
    },
    {
     "name": "stdout",
     "output_type": "stream",
     "text": [
      "程序运行路径为: /home/pl/work/python-workspance/FAST_pulsar_search_pl/03_barydata\n",
      "日志文件为：/home/pl/work/python-workspance/FAST_pulsar_search_pl/LOG/03_barydata/BARY-33.71.txt\n",
      "程序运行路径为: /home/pl/work/python-workspance/FAST_pulsar_search_pl/03_barydata\n",
      "日志文件为：/home/pl/work/python-workspance/FAST_pulsar_search_pl/LOG/03_barydata/BARY-33.72.txt\n",
      "程序运行路径为: /home/pl/work/python-workspance/FAST_pulsar_search_pl/03_barydata\n",
      "日志文件为：/home/pl/work/python-workspance/FAST_pulsar_search_pl/LOG/03_barydata/BARY-33.73.txt\n"
     ]
    },
    {
     "name": "stderr",
     "output_type": "stream",
     "text": [
      "prepdata-bary-8核:  56%|█████▌    | 167/300 [00:52<00:31,  4.24cmd/s]"
     ]
    },
    {
     "name": "stdout",
     "output_type": "stream",
     "text": [
      "程序运行路径为: /home/pl/work/python-workspance/FAST_pulsar_search_pl/03_barydata\n",
      "日志文件为：/home/pl/work/python-workspance/FAST_pulsar_search_pl/LOG/03_barydata/BARY-33.74.txt\n",
      "程序运行路径为: /home/pl/work/python-workspance/FAST_pulsar_search_pl/03_barydata\n",
      "日志文件为：/home/pl/work/python-workspance/FAST_pulsar_search_pl/LOG/03_barydata/BARY-33.75.txt\n",
      "运行命令：\u001b[96mprepdata -o j1631_FAST_pulsar_search_pl_bary_DM33.71   -dm 33.71 -downsamp 1 /home/pl/work/python-workspance/FAST_pulsar_search_pl/03_subbands/j1631_FAST_pulsar_search_pl_DM33.71.dat\u001b[0m\n",
      "\u001b[94m运行时间： 0.0秒\u001b[0m\n",
      "运行命令：\u001b[96mprepdata -o j1631_FAST_pulsar_search_pl_bary_DM33.72   -dm 33.72 -downsamp 1 /home/pl/work/python-workspance/FAST_pulsar_search_pl/03_subbands/j1631_FAST_pulsar_search_pl_DM33.72.dat\u001b[0m\n",
      "\u001b[94m运行时间： 0.0秒\u001b[0m\n",
      "运行命令：\u001b[96mprepdata -o j1631_FAST_pulsar_search_pl_bary_DM33.73   -dm 33.73 -downsamp 1 /home/pl/work/python-workspance/FAST_pulsar_search_pl/03_subbands/j1631_FAST_pulsar_search_pl_DM33.73.dat\u001b[0m\n",
      "\u001b[94m运行时间： 0.0秒\u001b[0m\n",
      "运行命令：\u001b[96mprepdata -o j1631_FAST_pulsar_search_pl_bary_DM33.74   -dm 33.74 -downsamp 1 /home/pl/work/python-workspance/FAST_pulsar_search_pl/03_subbands/j1631_FAST_pulsar_search_pl_DM33.74.dat\u001b[0m\n",
      "\u001b[94m运行时间： 0.0秒\u001b[0m\n",
      "运行命令：\u001b[96mprepdata -o j1631_FAST_pulsar_search_pl_bary_DM33.75   -dm 33.75 -downsamp 1 /home/pl/work/python-workspance/FAST_pulsar_search_pl/03_subbands/j1631_FAST_pulsar_search_pl_DM33.75.dat\u001b[0m\n",
      "\u001b[94m运行时间： 0.0秒\u001b[0m\n"
     ]
    },
    {
     "name": "stderr",
     "output_type": "stream",
     "text": [
      "prepdata-bary-8核:  56%|█████▋    | 169/300 [00:53<00:44,  2.95cmd/s]"
     ]
    },
    {
     "name": "stdout",
     "output_type": "stream",
     "text": [
      "程序运行路径为: /home/pl/work/python-workspance/FAST_pulsar_search_pl/03_barydata\n",
      "日志文件为：/home/pl/work/python-workspance/FAST_pulsar_search_pl/LOG/03_barydata/BARY-33.76.txt\n",
      "程序运行路径为: /home/pl/work/python-workspance/FAST_pulsar_search_pl/03_barydata\n",
      "日志文件为：/home/pl/work/python-workspance/FAST_pulsar_search_pl/LOG/03_barydata/BARY-33.77.txt\n"
     ]
    },
    {
     "name": "stderr",
     "output_type": "stream",
     "text": [
      "prepdata-bary-8核:  57%|█████▋    | 171/300 [00:53<00:37,  3.41cmd/s]"
     ]
    },
    {
     "name": "stdout",
     "output_type": "stream",
     "text": [
      "程序运行路径为: /home/pl/work/python-workspance/FAST_pulsar_search_pl/03_barydata\n",
      "日志文件为：/home/pl/work/python-workspance/FAST_pulsar_search_pl/LOG/03_barydata/BARY-33.78.txt\n",
      "运行命令：\u001b[96mprepdata -o j1631_FAST_pulsar_search_pl_bary_DM33.76   -dm 33.76 -downsamp 1 /home/pl/work/python-workspance/FAST_pulsar_search_pl/03_subbands/j1631_FAST_pulsar_search_pl_DM33.76.dat\u001b[0m\n",
      "\u001b[94m运行时间： 0.0秒\u001b[0m\n",
      "运行命令：\u001b[96mprepdata -o j1631_FAST_pulsar_search_pl_bary_DM33.77   -dm 33.77 -downsamp 1 /home/pl/work/python-workspance/FAST_pulsar_search_pl/03_subbands/j1631_FAST_pulsar_search_pl_DM33.77.dat\u001b[0m\n",
      "\u001b[94m运行时间： 0.0秒\u001b[0m\n",
      "运行命令：\u001b[96mprepdata -o j1631_FAST_pulsar_search_pl_bary_DM33.78   -dm 33.78 -downsamp 1 /home/pl/work/python-workspance/FAST_pulsar_search_pl/03_subbands/j1631_FAST_pulsar_search_pl_DM33.78.dat\u001b[0m\n",
      "\u001b[94m运行时间： 0.0秒\u001b[0m\n"
     ]
    },
    {
     "name": "stderr",
     "output_type": "stream",
     "text": [
      "prepdata-bary-8核:  57%|█████▋    | 172/300 [00:54<00:46,  2.73cmd/s]"
     ]
    },
    {
     "name": "stdout",
     "output_type": "stream",
     "text": [
      "程序运行路径为: /home/pl/work/python-workspance/FAST_pulsar_search_pl/03_barydata\n",
      "日志文件为：/home/pl/work/python-workspance/FAST_pulsar_search_pl/LOG/03_barydata/BARY-33.79.txt\n",
      "程序运行路径为: /home/pl/work/python-workspance/FAST_pulsar_search_pl/03_barydata\n",
      "日志文件为：/home/pl/work/python-workspance/FAST_pulsar_search_pl/LOG/03_barydata/BARY-33.80.txt\n"
     ]
    },
    {
     "name": "stderr",
     "output_type": "stream",
     "text": [
      "prepdata-bary-8核:  58%|█████▊    | 174/300 [00:54<00:33,  3.77cmd/s]"
     ]
    },
    {
     "name": "stdout",
     "output_type": "stream",
     "text": [
      "程序运行路径为: /home/pl/work/python-workspance/FAST_pulsar_search_pl/03_barydata\n",
      "日志文件为：/home/pl/work/python-workspance/FAST_pulsar_search_pl/LOG/03_barydata/BARY-33.81.txt\n",
      "程序运行路径为: /home/pl/work/python-workspance/FAST_pulsar_search_pl/03_barydata\n",
      "日志文件为：/home/pl/work/python-workspance/FAST_pulsar_search_pl/LOG/03_barydata/BARY-33.82.txt\n",
      "程序运行路径为: /home/pl/work/python-workspance/FAST_pulsar_search_pl/03_barydata\n",
      "日志文件为：/home/pl/work/python-workspance/FAST_pulsar_search_pl/LOG/03_barydata/BARY-33.83.txt\n",
      "运行命令：\u001b[96mprepdata -o j1631_FAST_pulsar_search_pl_bary_DM33.79   -dm 33.79 -downsamp 1 /home/pl/work/python-workspance/FAST_pulsar_search_pl/03_subbands/j1631_FAST_pulsar_search_pl_DM33.79.dat\u001b[0m\n",
      "\u001b[94m运行时间： 0.0秒\u001b[0m\n",
      "运行命令：\u001b[96mprepdata -o j1631_FAST_pulsar_search_pl_bary_DM33.80   -dm 33.80 -downsamp 1 /home/pl/work/python-workspance/FAST_pulsar_search_pl/03_subbands/j1631_FAST_pulsar_search_pl_DM33.80.dat\u001b[0m\n",
      "\u001b[94m运行时间： 0.0秒\u001b[0m\n",
      "运行命令：\u001b[96mprepdata -o j1631_FAST_pulsar_search_pl_bary_DM33.81   -dm 33.81 -downsamp 1 /home/pl/work/python-workspance/FAST_pulsar_search_pl/03_subbands/j1631_FAST_pulsar_search_pl_DM33.81.dat\u001b[0m\n",
      "\u001b[94m运行时间： 0.0秒\u001b[0m\n",
      "运行命令：\u001b[96mprepdata -o j1631_FAST_pulsar_search_pl_bary_DM33.82   -dm 33.82 -downsamp 1 /home/pl/work/python-workspance/FAST_pulsar_search_pl/03_subbands/j1631_FAST_pulsar_search_pl_DM33.82.dat\u001b[0m\n",
      "\u001b[94m运行时间： 0.0秒\u001b[0m\n",
      "运行命令：\u001b[96mprepdata -o j1631_FAST_pulsar_search_pl_bary_DM33.83   -dm 33.83 -downsamp 1 /home/pl/work/python-workspance/FAST_pulsar_search_pl/03_subbands/j1631_FAST_pulsar_search_pl_DM33.83.dat\u001b[0m\n",
      "\u001b[94m运行时间： 0.0秒\u001b[0m\n"
     ]
    },
    {
     "name": "stderr",
     "output_type": "stream",
     "text": [
      "prepdata-bary-8核:  59%|█████▉    | 177/300 [00:55<00:39,  3.12cmd/s]"
     ]
    },
    {
     "name": "stdout",
     "output_type": "stream",
     "text": [
      "程序运行路径为: /home/pl/work/python-workspance/FAST_pulsar_search_pl/03_barydata\n",
      "日志文件为：/home/pl/work/python-workspance/FAST_pulsar_search_pl/LOG/03_barydata/BARY-33.84.txt\n",
      "程序运行路径为: /home/pl/work/python-workspance/FAST_pulsar_search_pl/03_barydata\n",
      "日志文件为：/home/pl/work/python-workspance/FAST_pulsar_search_pl/LOG/03_barydata/BARY-33.85.txt\n"
     ]
    },
    {
     "name": "stderr",
     "output_type": "stream",
     "text": [
      "prepdata-bary-8核:  60%|█████▉    | 179/300 [00:56<00:33,  3.58cmd/s]"
     ]
    },
    {
     "name": "stdout",
     "output_type": "stream",
     "text": [
      "程序运行路径为: /home/pl/work/python-workspance/FAST_pulsar_search_pl/03_barydata\n",
      "日志文件为：/home/pl/work/python-workspance/FAST_pulsar_search_pl/LOG/03_barydata/BARY-33.86.txt\n",
      "运行命令：\u001b[96mprepdata -o j1631_FAST_pulsar_search_pl_bary_DM33.84   -dm 33.84 -downsamp 1 /home/pl/work/python-workspance/FAST_pulsar_search_pl/03_subbands/j1631_FAST_pulsar_search_pl_DM33.84.dat\u001b[0m\n",
      "\u001b[94m运行时间： 0.0秒\u001b[0m\n",
      "运行命令：\u001b[96mprepdata -o j1631_FAST_pulsar_search_pl_bary_DM33.85   -dm 33.85 -downsamp 1 /home/pl/work/python-workspance/FAST_pulsar_search_pl/03_subbands/j1631_FAST_pulsar_search_pl_DM33.85.dat\u001b[0m\n",
      "\u001b[94m运行时间： 0.0秒\u001b[0m\n",
      "运行命令：\u001b[96mprepdata -o j1631_FAST_pulsar_search_pl_bary_DM33.86   -dm 33.86 -downsamp 1 /home/pl/work/python-workspance/FAST_pulsar_search_pl/03_subbands/j1631_FAST_pulsar_search_pl_DM33.86.dat\u001b[0m\n",
      "\u001b[94m运行时间： 0.0秒\u001b[0m\n"
     ]
    },
    {
     "name": "stderr",
     "output_type": "stream",
     "text": [
      "prepdata-bary-8核:  60%|██████    | 180/300 [00:56<00:43,  2.76cmd/s]"
     ]
    },
    {
     "name": "stdout",
     "output_type": "stream",
     "text": [
      "程序运行路径为: /home/pl/work/python-workspance/FAST_pulsar_search_pl/03_barydata\n",
      "日志文件为：/home/pl/work/python-workspance/FAST_pulsar_search_pl/LOG/03_barydata/BARY-33.87.txt\n",
      "程序运行路径为: /home/pl/work/python-workspance/FAST_pulsar_search_pl/03_barydata\n",
      "日志文件为：/home/pl/work/python-workspance/FAST_pulsar_search_pl/LOG/03_barydata/BARY-33.88.txt\n"
     ]
    },
    {
     "name": "stderr",
     "output_type": "stream",
     "text": [
      "prepdata-bary-8核:  61%|██████    | 182/300 [00:57<00:31,  3.75cmd/s]"
     ]
    },
    {
     "name": "stdout",
     "output_type": "stream",
     "text": [
      "程序运行路径为: /home/pl/work/python-workspance/FAST_pulsar_search_pl/03_barydata\n",
      "日志文件为：/home/pl/work/python-workspance/FAST_pulsar_search_pl/LOG/03_barydata/BARY-33.89.txt\n",
      "程序运行路径为: /home/pl/work/python-workspance/FAST_pulsar_search_pl/03_barydata\n",
      "日志文件为：/home/pl/work/python-workspance/FAST_pulsar_search_pl/LOG/03_barydata/BARY-33.90.txt\n",
      "程序运行路径为: /home/pl/work/python-workspance/FAST_pulsar_search_pl/03_barydata\n",
      "日志文件为：/home/pl/work/python-workspance/FAST_pulsar_search_pl/LOG/03_barydata/BARY-33.91.txt\n",
      "运行命令：\u001b[96mprepdata -o j1631_FAST_pulsar_search_pl_bary_DM33.87   -dm 33.87 -downsamp 1 /home/pl/work/python-workspance/FAST_pulsar_search_pl/03_subbands/j1631_FAST_pulsar_search_pl_DM33.87.dat\u001b[0m\n",
      "\u001b[94m运行时间： 0.0秒\u001b[0m\n",
      "运行命令：\u001b[96mprepdata -o j1631_FAST_pulsar_search_pl_bary_DM33.89   -dm 33.89 -downsamp 1 /home/pl/work/python-workspance/FAST_pulsar_search_pl/03_subbands/j1631_FAST_pulsar_search_pl_DM33.89.dat\u001b[0m\n",
      "\u001b[94m运行时间： 0.0秒\u001b[0m\n",
      "运行命令：\u001b[96mprepdata -o j1631_FAST_pulsar_search_pl_bary_DM33.88   -dm 33.88 -downsamp 1 /home/pl/work/python-workspance/FAST_pulsar_search_pl/03_subbands/j1631_FAST_pulsar_search_pl_DM33.88.dat\u001b[0m\n",
      "\u001b[94m运行时间： 0.0秒\u001b[0m\n",
      "运行命令：\u001b[96mprepdata -o j1631_FAST_pulsar_search_pl_bary_DM33.90   -dm 33.90 -downsamp 1 /home/pl/work/python-workspance/FAST_pulsar_search_pl/03_subbands/j1631_FAST_pulsar_search_pl_DM33.90.dat\u001b[0m\n",
      "\u001b[94m运行时间： 0.0秒\u001b[0m\n",
      "运行命令：\u001b[96mprepdata -o j1631_FAST_pulsar_search_pl_bary_DM33.91   -dm 33.91 -downsamp 1 /home/pl/work/python-workspance/FAST_pulsar_search_pl/03_subbands/j1631_FAST_pulsar_search_pl_DM33.91.dat\u001b[0m\n",
      "\u001b[94m运行时间： 0.0秒\u001b[0m\n"
     ]
    },
    {
     "name": "stderr",
     "output_type": "stream",
     "text": [
      "prepdata-bary-8核:  62%|██████▏   | 185/300 [00:58<00:36,  3.16cmd/s]"
     ]
    },
    {
     "name": "stdout",
     "output_type": "stream",
     "text": [
      "程序运行路径为: /home/pl/work/python-workspance/FAST_pulsar_search_pl/03_barydata\n",
      "日志文件为：/home/pl/work/python-workspance/FAST_pulsar_search_pl/LOG/03_barydata/BARY-33.92.txt\n",
      "程序运行路径为: /home/pl/work/python-workspance/FAST_pulsar_search_pl/03_barydata\n",
      "日志文件为：/home/pl/work/python-workspance/FAST_pulsar_search_pl/LOG/03_barydata/BARY-33.93.txt\n"
     ]
    },
    {
     "name": "stderr",
     "output_type": "stream",
     "text": [
      "prepdata-bary-8核:  62%|██████▏   | 187/300 [00:58<00:30,  3.65cmd/s]"
     ]
    },
    {
     "name": "stdout",
     "output_type": "stream",
     "text": [
      "程序运行路径为: /home/pl/work/python-workspance/FAST_pulsar_search_pl/03_barydata\n",
      "日志文件为：/home/pl/work/python-workspance/FAST_pulsar_search_pl/LOG/03_barydata/BARY-33.94.txt\n",
      "运行命令：\u001b[96mprepdata -o j1631_FAST_pulsar_search_pl_bary_DM33.92   -dm 33.92 -downsamp 1 /home/pl/work/python-workspance/FAST_pulsar_search_pl/03_subbands/j1631_FAST_pulsar_search_pl_DM33.92.dat\u001b[0m\n",
      "\u001b[94m运行时间： 0.0秒\u001b[0m\n",
      "运行命令：\u001b[96mprepdata -o j1631_FAST_pulsar_search_pl_bary_DM33.93   -dm 33.93 -downsamp 1 /home/pl/work/python-workspance/FAST_pulsar_search_pl/03_subbands/j1631_FAST_pulsar_search_pl_DM33.93.dat\u001b[0m\n",
      "\u001b[94m运行时间： 0.0秒\u001b[0m\n",
      "运行命令：\u001b[96mprepdata -o j1631_FAST_pulsar_search_pl_bary_DM33.94   -dm 33.94 -downsamp 1 /home/pl/work/python-workspance/FAST_pulsar_search_pl/03_subbands/j1631_FAST_pulsar_search_pl_DM33.94.dat\u001b[0m\n",
      "\u001b[94m运行时间： 0.0秒\u001b[0m\n"
     ]
    },
    {
     "name": "stderr",
     "output_type": "stream",
     "text": [
      "prepdata-bary-8核:  63%|██████▎   | 188/300 [00:59<00:44,  2.51cmd/s]"
     ]
    },
    {
     "name": "stdout",
     "output_type": "stream",
     "text": [
      "程序运行路径为: /home/pl/work/python-workspance/FAST_pulsar_search_pl/03_barydata\n",
      "日志文件为：/home/pl/work/python-workspance/FAST_pulsar_search_pl/LOG/03_barydata/BARY-33.95.txt\n",
      "程序运行路径为: /home/pl/work/python-workspance/FAST_pulsar_search_pl/03_barydata\n",
      "日志文件为：/home/pl/work/python-workspance/FAST_pulsar_search_pl/LOG/03_barydata/BARY-33.96.txt\n"
     ]
    },
    {
     "name": "stderr",
     "output_type": "stream",
     "text": [
      "prepdata-bary-8核:  63%|██████▎   | 190/300 [00:59<00:31,  3.49cmd/s]"
     ]
    },
    {
     "name": "stdout",
     "output_type": "stream",
     "text": [
      "程序运行路径为: /home/pl/work/python-workspance/FAST_pulsar_search_pl/03_barydata\n",
      "日志文件为：/home/pl/work/python-workspance/FAST_pulsar_search_pl/LOG/03_barydata/BARY-33.97.txt\n",
      "程序运行路径为: /home/pl/work/python-workspance/FAST_pulsar_search_pl/03_barydata\n",
      "日志文件为：/home/pl/work/python-workspance/FAST_pulsar_search_pl/LOG/03_barydata/BARY-33.98.txt\n",
      "程序运行路径为: /home/pl/work/python-workspance/FAST_pulsar_search_pl/03_barydata\n",
      "日志文件为：/home/pl/work/python-workspance/FAST_pulsar_search_pl/LOG/03_barydata/BARY-33.99.txt\n",
      "运行命令：\u001b[96mprepdata -o j1631_FAST_pulsar_search_pl_bary_DM33.95   -dm 33.95 -downsamp 1 /home/pl/work/python-workspance/FAST_pulsar_search_pl/03_subbands/j1631_FAST_pulsar_search_pl_DM33.95.dat\u001b[0m\n",
      "\u001b[94m运行时间： 0.0秒\u001b[0m\n",
      "运行命令：\u001b[96mprepdata -o j1631_FAST_pulsar_search_pl_bary_DM33.96   -dm 33.96 -downsamp 1 /home/pl/work/python-workspance/FAST_pulsar_search_pl/03_subbands/j1631_FAST_pulsar_search_pl_DM33.96.dat\u001b[0m\n",
      "\u001b[94m运行时间： 0.0秒\u001b[0m\n",
      "运行命令：\u001b[96mprepdata -o j1631_FAST_pulsar_search_pl_bary_DM33.98   -dm 33.98 -downsamp 1 /home/pl/work/python-workspance/FAST_pulsar_search_pl/03_subbands/j1631_FAST_pulsar_search_pl_DM33.98.dat\u001b[0m\n",
      "\u001b[94m运行时间： 0.0秒\u001b[0m\n",
      "运行命令：\u001b[96mprepdata -o j1631_FAST_pulsar_search_pl_bary_DM33.99   -dm 33.99 -downsamp 1 /home/pl/work/python-workspance/FAST_pulsar_search_pl/03_subbands/j1631_FAST_pulsar_search_pl_DM33.99.dat\u001b[0m\n",
      "\u001b[94m运行时间： 0.0秒\u001b[0m\n",
      "运行命令：\u001b[96mprepdata -o j1631_FAST_pulsar_search_pl_bary_DM33.97   -dm 33.97 -downsamp 1 /home/pl/work/python-workspance/FAST_pulsar_search_pl/03_subbands/j1631_FAST_pulsar_search_pl_DM33.97.dat\u001b[0m\n",
      "\u001b[94m运行时间： 0.0秒\u001b[0m\n"
     ]
    },
    {
     "name": "stderr",
     "output_type": "stream",
     "text": [
      "prepdata-bary-8核:  64%|██████▍   | 193/300 [01:00<00:32,  3.31cmd/s]"
     ]
    },
    {
     "name": "stdout",
     "output_type": "stream",
     "text": [
      "程序运行路径为: /home/pl/work/python-workspance/FAST_pulsar_search_pl/03_barydata\n",
      "日志文件为：/home/pl/work/python-workspance/FAST_pulsar_search_pl/LOG/03_barydata/BARY-34.00.txt\n",
      "程序运行路径为: /home/pl/work/python-workspance/FAST_pulsar_search_pl/03_barydata\n",
      "日志文件为：/home/pl/work/python-workspance/FAST_pulsar_search_pl/LOG/03_barydata/BARY-34.01.txt\n"
     ]
    },
    {
     "name": "stderr",
     "output_type": "stream",
     "text": [
      "prepdata-bary-8核:  65%|██████▌   | 195/300 [01:00<00:27,  3.87cmd/s]"
     ]
    },
    {
     "name": "stdout",
     "output_type": "stream",
     "text": [
      "程序运行路径为: /home/pl/work/python-workspance/FAST_pulsar_search_pl/03_barydata\n",
      "日志文件为：/home/pl/work/python-workspance/FAST_pulsar_search_pl/LOG/03_barydata/BARY-34.02.txt\n",
      "运行命令：\u001b[96mprepdata -o j1631_FAST_pulsar_search_pl_bary_DM34.00   -dm 34.00 -downsamp 1 /home/pl/work/python-workspance/FAST_pulsar_search_pl/03_subbands/j1631_FAST_pulsar_search_pl_DM34.00.dat\u001b[0m\n",
      "运行命令：\u001b[96mprepdata -o j1631_FAST_pulsar_search_pl_bary_DM34.01   -dm 34.01 -downsamp 1 /home/pl/work/python-workspance/FAST_pulsar_search_pl/03_subbands/j1631_FAST_pulsar_search_pl_DM34.01.dat\u001b[0m\n",
      "\u001b[94m运行时间： 0.0秒\u001b[0m\n",
      "\u001b[94m运行时间： 0.0秒\u001b[0m\n",
      "运行命令：\u001b[96mprepdata -o j1631_FAST_pulsar_search_pl_bary_DM34.02   -dm 34.02 -downsamp 1 /home/pl/work/python-workspance/FAST_pulsar_search_pl/03_subbands/j1631_FAST_pulsar_search_pl_DM34.02.dat\u001b[0m\n",
      "\u001b[94m运行时间： 0.0秒\u001b[0m\n"
     ]
    },
    {
     "name": "stderr",
     "output_type": "stream",
     "text": [
      "prepdata-bary-8核:  65%|██████▌   | 196/300 [01:01<00:41,  2.50cmd/s]"
     ]
    },
    {
     "name": "stdout",
     "output_type": "stream",
     "text": [
      "程序运行路径为: /home/pl/work/python-workspance/FAST_pulsar_search_pl/03_barydata\n",
      "日志文件为：/home/pl/work/python-workspance/FAST_pulsar_search_pl/LOG/03_barydata/BARY-34.03.txt\n",
      "程序运行路径为: /home/pl/work/python-workspance/FAST_pulsar_search_pl/03_barydata\n",
      "日志文件为：/home/pl/work/python-workspance/FAST_pulsar_search_pl/LOG/03_barydata/BARY-34.04.txt\n",
      "程序运行路径为: /home/pl/work/python-workspance/FAST_pulsar_search_pl/03_barydata\n",
      "日志文件为：/home/pl/work/python-workspance/FAST_pulsar_search_pl/LOG/03_barydata/BARY-34.05.txt\n"
     ]
    },
    {
     "name": "stderr",
     "output_type": "stream",
     "text": [
      "prepdata-bary-8核:  66%|██████▋   | 199/300 [01:02<00:25,  4.01cmd/s]"
     ]
    },
    {
     "name": "stdout",
     "output_type": "stream",
     "text": [
      "程序运行路径为: /home/pl/work/python-workspance/FAST_pulsar_search_pl/03_barydata\n",
      "日志文件为：/home/pl/work/python-workspance/FAST_pulsar_search_pl/LOG/03_barydata/BARY-34.06.txt\n",
      "程序运行路径为: /home/pl/work/python-workspance/FAST_pulsar_search_pl/03_barydata\n",
      "日志文件为：/home/pl/work/python-workspance/FAST_pulsar_search_pl/LOG/03_barydata/BARY-34.07.txt\n",
      "运行命令：\u001b[96mprepdata -o j1631_FAST_pulsar_search_pl_bary_DM34.03   -dm 34.03 -downsamp 1 /home/pl/work/python-workspance/FAST_pulsar_search_pl/03_subbands/j1631_FAST_pulsar_search_pl_DM34.03.dat\u001b[0m\n",
      "\u001b[94m运行时间： 0.0秒\u001b[0m\n",
      "运行命令：\u001b[96mprepdata -o j1631_FAST_pulsar_search_pl_bary_DM34.04   -dm 34.04 -downsamp 1 /home/pl/work/python-workspance/FAST_pulsar_search_pl/03_subbands/j1631_FAST_pulsar_search_pl_DM34.04.dat\u001b[0m\n",
      "\u001b[94m运行时间： 0.0秒\u001b[0m\n",
      "运行命令：\u001b[96mprepdata -o j1631_FAST_pulsar_search_pl_bary_DM34.05   -dm 34.05 -downsamp 1 /home/pl/work/python-workspance/FAST_pulsar_search_pl/03_subbands/j1631_FAST_pulsar_search_pl_DM34.05.dat\u001b[0m\n",
      "运行命令：\u001b[96mprepdata -o j1631_FAST_pulsar_search_pl_bary_DM34.07   -dm 34.07 -downsamp 1 /home/pl/work/python-workspance/FAST_pulsar_search_pl/03_subbands/j1631_FAST_pulsar_search_pl_DM34.07.dat\u001b[0m\n",
      "\u001b[94m运行时间： 0.0秒\u001b[0m\n",
      "\u001b[94m运行时间： 0.0秒\u001b[0m\n",
      "运行命令：\u001b[96mprepdata -o j1631_FAST_pulsar_search_pl_bary_DM34.06   -dm 34.06 -downsamp 1 /home/pl/work/python-workspance/FAST_pulsar_search_pl/03_subbands/j1631_FAST_pulsar_search_pl_DM34.06.dat\u001b[0m\n",
      "\u001b[94m运行时间： 0.0秒\u001b[0m\n"
     ]
    },
    {
     "name": "stderr",
     "output_type": "stream",
     "text": [
      "prepdata-bary-8核:  67%|██████▋   | 201/300 [01:02<00:29,  3.31cmd/s]"
     ]
    },
    {
     "name": "stdout",
     "output_type": "stream",
     "text": [
      "程序运行路径为: /home/pl/work/python-workspance/FAST_pulsar_search_pl/03_barydata\n",
      "程序运行路径为: /home/pl/work/python-workspance/FAST_pulsar_search_pl/03_barydata\n",
      "日志文件为：/home/pl/work/python-workspance/FAST_pulsar_search_pl/LOG/03_barydata/BARY-34.08.txt\n",
      "日志文件为：/home/pl/work/python-workspance/FAST_pulsar_search_pl/LOG/03_barydata/BARY-34.09.txt\n"
     ]
    },
    {
     "name": "stderr",
     "output_type": "stream",
     "text": [
      "prepdata-bary-8核:  68%|██████▊   | 203/300 [01:03<00:24,  3.89cmd/s]"
     ]
    },
    {
     "name": "stdout",
     "output_type": "stream",
     "text": [
      "程序运行路径为: /home/pl/work/python-workspance/FAST_pulsar_search_pl/03_barydata\n",
      "日志文件为：/home/pl/work/python-workspance/FAST_pulsar_search_pl/LOG/03_barydata/BARY-34.10.txt\n",
      "运行命令：\u001b[96mprepdata -o j1631_FAST_pulsar_search_pl_bary_DM34.09   -dm 34.09 -downsamp 1 /home/pl/work/python-workspance/FAST_pulsar_search_pl/03_subbands/j1631_FAST_pulsar_search_pl_DM34.09.dat\u001b[0m\n",
      "\u001b[94m运行时间： 0.0秒\u001b[0m\n",
      "运行命令：\u001b[96mprepdata -o j1631_FAST_pulsar_search_pl_bary_DM34.08   -dm 34.08 -downsamp 1 /home/pl/work/python-workspance/FAST_pulsar_search_pl/03_subbands/j1631_FAST_pulsar_search_pl_DM34.08.dat\u001b[0m\n",
      "\u001b[94m运行时间： 0.0秒\u001b[0m\n",
      "运行命令：\u001b[96mprepdata -o j1631_FAST_pulsar_search_pl_bary_DM34.10   -dm 34.10 -downsamp 1 /home/pl/work/python-workspance/FAST_pulsar_search_pl/03_subbands/j1631_FAST_pulsar_search_pl_DM34.10.dat\u001b[0m\n",
      "\u001b[94m运行时间： 0.0秒\u001b[0m\n"
     ]
    },
    {
     "name": "stderr",
     "output_type": "stream",
     "text": [
      "prepdata-bary-8核:  68%|██████▊   | 204/300 [01:04<00:38,  2.47cmd/s]"
     ]
    },
    {
     "name": "stdout",
     "output_type": "stream",
     "text": [
      "程序运行路径为: /home/pl/work/python-workspance/FAST_pulsar_search_pl/03_barydata\n",
      "日志文件为：/home/pl/work/python-workspance/FAST_pulsar_search_pl/LOG/03_barydata/BARY-34.11.txt\n",
      "程序运行路径为: /home/pl/work/python-workspance/FAST_pulsar_search_pl/03_barydata\n",
      "日志文件为：/home/pl/work/python-workspance/FAST_pulsar_search_pl/LOG/03_barydata/BARY-34.12.txt\n"
     ]
    },
    {
     "name": "stderr",
     "output_type": "stream",
     "text": [
      "prepdata-bary-8核:  69%|██████▊   | 206/300 [01:04<00:27,  3.44cmd/s]"
     ]
    },
    {
     "name": "stdout",
     "output_type": "stream",
     "text": [
      "程序运行路径为: /home/pl/work/python-workspance/FAST_pulsar_search_pl/03_barydata\n",
      "程序运行路径为: /home/pl/work/python-workspance/FAST_pulsar_search_pl/03_barydata\n",
      "日志文件为：/home/pl/work/python-workspance/FAST_pulsar_search_pl/LOG/03_barydata/BARY-34.14.txt\n",
      "日志文件为：/home/pl/work/python-workspance/FAST_pulsar_search_pl/LOG/03_barydata/BARY-34.13.txt\n",
      "程序运行路径为: /home/pl/work/python-workspance/FAST_pulsar_search_pl/03_barydata\n",
      "日志文件为：/home/pl/work/python-workspance/FAST_pulsar_search_pl/LOG/03_barydata/BARY-34.15.txt\n",
      "运行命令：\u001b[96mprepdata -o j1631_FAST_pulsar_search_pl_bary_DM34.11   -dm 34.11 -downsamp 1 /home/pl/work/python-workspance/FAST_pulsar_search_pl/03_subbands/j1631_FAST_pulsar_search_pl_DM34.11.dat\u001b[0m\n",
      "\u001b[94m运行时间： 0.0秒\u001b[0m\n",
      "运行命令：\u001b[96mprepdata -o j1631_FAST_pulsar_search_pl_bary_DM34.12   -dm 34.12 -downsamp 1 /home/pl/work/python-workspance/FAST_pulsar_search_pl/03_subbands/j1631_FAST_pulsar_search_pl_DM34.12.dat\u001b[0m\n",
      "\u001b[94m运行时间： 0.0秒\u001b[0m\n",
      "运行命令：\u001b[96mprepdata -o j1631_FAST_pulsar_search_pl_bary_DM34.13   -dm 34.13 -downsamp 1 /home/pl/work/python-workspance/FAST_pulsar_search_pl/03_subbands/j1631_FAST_pulsar_search_pl_DM34.13.dat\u001b[0m\n",
      "运行命令：\u001b[96mprepdata -o j1631_FAST_pulsar_search_pl_bary_DM34.14   -dm 34.14 -downsamp 1 /home/pl/work/python-workspance/FAST_pulsar_search_pl/03_subbands/j1631_FAST_pulsar_search_pl_DM34.14.dat\u001b[0m\n",
      "\u001b[94m运行时间： 0.0秒\u001b[0m\n",
      "\u001b[94m运行时间： 0.0秒\u001b[0m\n",
      "运行命令：\u001b[96mprepdata -o j1631_FAST_pulsar_search_pl_bary_DM34.15   -dm 34.15 -downsamp 1 /home/pl/work/python-workspance/FAST_pulsar_search_pl/03_subbands/j1631_FAST_pulsar_search_pl_DM34.15.dat\u001b[0m\n",
      "\u001b[94m运行时间： 0.0秒\u001b[0m\n"
     ]
    },
    {
     "name": "stderr",
     "output_type": "stream",
     "text": [
      "prepdata-bary-8核:  70%|██████▉   | 209/300 [01:05<00:26,  3.49cmd/s]"
     ]
    },
    {
     "name": "stdout",
     "output_type": "stream",
     "text": [
      "程序运行路径为: /home/pl/work/python-workspance/FAST_pulsar_search_pl/03_barydata\n",
      "日志文件为：/home/pl/work/python-workspance/FAST_pulsar_search_pl/LOG/03_barydata/BARY-34.16.txt\n",
      "程序运行路径为: /home/pl/work/python-workspance/FAST_pulsar_search_pl/03_barydata\n",
      "日志文件为：/home/pl/work/python-workspance/FAST_pulsar_search_pl/LOG/03_barydata/BARY-34.17.txt\n"
     ]
    },
    {
     "name": "stderr",
     "output_type": "stream",
     "text": [
      "prepdata-bary-8核:  70%|███████   | 211/300 [01:05<00:22,  3.97cmd/s]"
     ]
    },
    {
     "name": "stdout",
     "output_type": "stream",
     "text": [
      "程序运行路径为: /home/pl/work/python-workspance/FAST_pulsar_search_pl/03_barydata\n",
      "日志文件为：/home/pl/work/python-workspance/FAST_pulsar_search_pl/LOG/03_barydata/BARY-34.18.txt\n",
      "运行命令：\u001b[96mprepdata -o j1631_FAST_pulsar_search_pl_bary_DM34.16   -dm 34.16 -downsamp 1 /home/pl/work/python-workspance/FAST_pulsar_search_pl/03_subbands/j1631_FAST_pulsar_search_pl_DM34.16.dat\u001b[0m\n",
      "\u001b[94m运行时间： 0.0秒\u001b[0m\n",
      "运行命令：\u001b[96mprepdata -o j1631_FAST_pulsar_search_pl_bary_DM34.17   -dm 34.17 -downsamp 1 /home/pl/work/python-workspance/FAST_pulsar_search_pl/03_subbands/j1631_FAST_pulsar_search_pl_DM34.17.dat\u001b[0m\n",
      "\u001b[94m运行时间： 0.0秒\u001b[0m\n",
      "运行命令：\u001b[96mprepdata -o j1631_FAST_pulsar_search_pl_bary_DM34.18   -dm 34.18 -downsamp 1 /home/pl/work/python-workspance/FAST_pulsar_search_pl/03_subbands/j1631_FAST_pulsar_search_pl_DM34.18.dat\u001b[0m\n",
      "\u001b[94m运行时间： 0.0秒\u001b[0m\n"
     ]
    },
    {
     "name": "stderr",
     "output_type": "stream",
     "text": [
      "prepdata-bary-8核:  71%|███████   | 212/300 [01:06<00:35,  2.48cmd/s]"
     ]
    },
    {
     "name": "stdout",
     "output_type": "stream",
     "text": [
      "程序运行路径为: /home/pl/work/python-workspance/FAST_pulsar_search_pl/03_barydata\n",
      "日志文件为：/home/pl/work/python-workspance/FAST_pulsar_search_pl/LOG/03_barydata/BARY-34.19.txt\n"
     ]
    },
    {
     "name": "stderr",
     "output_type": "stream",
     "text": [
      "prepdata-bary-8核:  71%|███████   | 213/300 [01:06<00:30,  2.89cmd/s]"
     ]
    },
    {
     "name": "stdout",
     "output_type": "stream",
     "text": [
      "程序运行路径为: /home/pl/work/python-workspance/FAST_pulsar_search_pl/03_barydata\n",
      "日志文件为：/home/pl/work/python-workspance/FAST_pulsar_search_pl/LOG/03_barydata/BARY-34.20.txt\n",
      "程序运行路径为: /home/pl/work/python-workspance/FAST_pulsar_search_pl/03_barydata\n",
      "程序运行路径为: /home/pl/work/python-workspance/FAST_pulsar_search_pl/03_barydata\n",
      "日志文件为：/home/pl/work/python-workspance/FAST_pulsar_search_pl/LOG/03_barydata/BARY-34.22.txt\n",
      "日志文件为：/home/pl/work/python-workspance/FAST_pulsar_search_pl/LOG/03_barydata/BARY-34.21.txt\n",
      "程序运行路径为: /home/pl/work/python-workspance/FAST_pulsar_search_pl/03_barydata\n",
      "日志文件为：/home/pl/work/python-workspance/FAST_pulsar_search_pl/LOG/03_barydata/BARY-34.23.txt\n",
      "运行命令：\u001b[96mprepdata -o j1631_FAST_pulsar_search_pl_bary_DM34.19   -dm 34.19 -downsamp 1 /home/pl/work/python-workspance/FAST_pulsar_search_pl/03_subbands/j1631_FAST_pulsar_search_pl_DM34.19.dat\u001b[0m\n",
      "\u001b[94m运行时间： 0.0秒\u001b[0m\n",
      "运行命令：\u001b[96mprepdata -o j1631_FAST_pulsar_search_pl_bary_DM34.20   -dm 34.20 -downsamp 1 /home/pl/work/python-workspance/FAST_pulsar_search_pl/03_subbands/j1631_FAST_pulsar_search_pl_DM34.20.dat\u001b[0m\n",
      "\u001b[94m运行时间： 0.0秒\u001b[0m\n",
      "运行命令：\u001b[96mprepdata -o j1631_FAST_pulsar_search_pl_bary_DM34.22   -dm 34.22 -downsamp 1 /home/pl/work/python-workspance/FAST_pulsar_search_pl/03_subbands/j1631_FAST_pulsar_search_pl_DM34.22.dat\u001b[0m\n",
      "\u001b[94m运行时间： 0.0秒\u001b[0m\n",
      "运行命令：\u001b[96mprepdata -o j1631_FAST_pulsar_search_pl_bary_DM34.21   -dm 34.21 -downsamp 1 /home/pl/work/python-workspance/FAST_pulsar_search_pl/03_subbands/j1631_FAST_pulsar_search_pl_DM34.21.dat\u001b[0m\n",
      "\u001b[94m运行时间： 0.0秒\u001b[0m\n",
      "运行命令：\u001b[96mprepdata -o j1631_FAST_pulsar_search_pl_bary_DM34.23   -dm 34.23 -downsamp 1 /home/pl/work/python-workspance/FAST_pulsar_search_pl/03_subbands/j1631_FAST_pulsar_search_pl_DM34.23.dat\u001b[0m\n",
      "\u001b[94m运行时间： 0.0秒\u001b[0m\n"
     ]
    },
    {
     "name": "stderr",
     "output_type": "stream",
     "text": [
      "prepdata-bary-8核:  72%|███████▏  | 217/300 [01:07<00:22,  3.69cmd/s]"
     ]
    },
    {
     "name": "stdout",
     "output_type": "stream",
     "text": [
      "程序运行路径为: /home/pl/work/python-workspance/FAST_pulsar_search_pl/03_barydata\n",
      "日志文件为：/home/pl/work/python-workspance/FAST_pulsar_search_pl/LOG/03_barydata/BARY-34.24.txt\n",
      "程序运行路径为: /home/pl/work/python-workspance/FAST_pulsar_search_pl/03_barydata\n",
      "日志文件为：/home/pl/work/python-workspance/FAST_pulsar_search_pl/LOG/03_barydata/BARY-34.25.txt\n"
     ]
    },
    {
     "name": "stderr",
     "output_type": "stream",
     "text": [
      "prepdata-bary-8核:  73%|███████▎  | 219/300 [01:08<00:19,  4.12cmd/s]"
     ]
    },
    {
     "name": "stdout",
     "output_type": "stream",
     "text": [
      "程序运行路径为: /home/pl/work/python-workspance/FAST_pulsar_search_pl/03_barydata\n",
      "日志文件为：/home/pl/work/python-workspance/FAST_pulsar_search_pl/LOG/03_barydata/BARY-34.26.txt\n",
      "运行命令：\u001b[96mprepdata -o j1631_FAST_pulsar_search_pl_bary_DM34.24   -dm 34.24 -downsamp 1 /home/pl/work/python-workspance/FAST_pulsar_search_pl/03_subbands/j1631_FAST_pulsar_search_pl_DM34.24.dat\u001b[0m\n",
      "\u001b[94m运行时间： 0.0秒\u001b[0m\n",
      "运行命令：\u001b[96mprepdata -o j1631_FAST_pulsar_search_pl_bary_DM34.25   -dm 34.25 -downsamp 1 /home/pl/work/python-workspance/FAST_pulsar_search_pl/03_subbands/j1631_FAST_pulsar_search_pl_DM34.25.dat\u001b[0m\n",
      "\u001b[94m运行时间： 0.0秒\u001b[0m\n",
      "运行命令：\u001b[96mprepdata -o j1631_FAST_pulsar_search_pl_bary_DM34.26   -dm 34.26 -downsamp 1 /home/pl/work/python-workspance/FAST_pulsar_search_pl/03_subbands/j1631_FAST_pulsar_search_pl_DM34.26.dat\u001b[0m\n",
      "\u001b[94m运行时间： 0.0秒\u001b[0m\n",
      "程序运行路径为: /home/pl/work/python-workspance/FAST_pulsar_search_pl/03_barydata\n"
     ]
    },
    {
     "name": "stderr",
     "output_type": "stream",
     "text": [
      "prepdata-bary-8核:  73%|███████▎  | 220/300 [01:09<00:31,  2.54cmd/s]"
     ]
    },
    {
     "name": "stdout",
     "output_type": "stream",
     "text": [
      "日志文件为：/home/pl/work/python-workspance/FAST_pulsar_search_pl/LOG/03_barydata/BARY-34.27.txt\n",
      "程序运行路径为: /home/pl/work/python-workspance/FAST_pulsar_search_pl/03_barydata\n",
      "日志文件为：/home/pl/work/python-workspance/FAST_pulsar_search_pl/LOG/03_barydata/BARY-34.28.txt\n"
     ]
    },
    {
     "name": "stderr",
     "output_type": "stream",
     "text": [
      "prepdata-bary-8核:  74%|███████▍  | 222/300 [01:09<00:22,  3.49cmd/s]"
     ]
    },
    {
     "name": "stdout",
     "output_type": "stream",
     "text": [
      "程序运行路径为: /home/pl/work/python-workspance/FAST_pulsar_search_pl/03_barydata\n",
      "日志文件为：/home/pl/work/python-workspance/FAST_pulsar_search_pl/LOG/03_barydata/BARY-34.29.txt\n",
      "程序运行路径为: /home/pl/work/python-workspance/FAST_pulsar_search_pl/03_barydata\n",
      "日志文件为：/home/pl/work/python-workspance/FAST_pulsar_search_pl/LOG/03_barydata/BARY-34.30.txt\n",
      "程序运行路径为: /home/pl/work/python-workspance/FAST_pulsar_search_pl/03_barydata\n",
      "日志文件为：/home/pl/work/python-workspance/FAST_pulsar_search_pl/LOG/03_barydata/BARY-34.31.txt\n",
      "运行命令：\u001b[96mprepdata -o j1631_FAST_pulsar_search_pl_bary_DM34.27   -dm 34.27 -downsamp 1 /home/pl/work/python-workspance/FAST_pulsar_search_pl/03_subbands/j1631_FAST_pulsar_search_pl_DM34.27.dat\u001b[0m\n",
      "\u001b[94m运行时间： 0.0秒\u001b[0m\n",
      "运行命令：\u001b[96mprepdata -o j1631_FAST_pulsar_search_pl_bary_DM34.30   -dm 34.30 -downsamp 1 /home/pl/work/python-workspance/FAST_pulsar_search_pl/03_subbands/j1631_FAST_pulsar_search_pl_DM34.30.dat\u001b[0m\n",
      "\u001b[94m运行时间： 0.0秒\u001b[0m\n",
      "运行命令：\u001b[96mprepdata -o j1631_FAST_pulsar_search_pl_bary_DM34.28   -dm 34.28 -downsamp 1 /home/pl/work/python-workspance/FAST_pulsar_search_pl/03_subbands/j1631_FAST_pulsar_search_pl_DM34.28.dat\u001b[0m\n",
      "\u001b[94m运行时间： 0.0秒\u001b[0m\n",
      "运行命令：\u001b[96mprepdata -o j1631_FAST_pulsar_search_pl_bary_DM34.29   -dm 34.29 -downsamp 1 /home/pl/work/python-workspance/FAST_pulsar_search_pl/03_subbands/j1631_FAST_pulsar_search_pl_DM34.29.dat\u001b[0m\n",
      "\u001b[94m运行时间： 0.0秒\u001b[0m\n",
      "运行命令：\u001b[96mprepdata -o j1631_FAST_pulsar_search_pl_bary_DM34.31   -dm 34.31 -downsamp 1 /home/pl/work/python-workspance/FAST_pulsar_search_pl/03_subbands/j1631_FAST_pulsar_search_pl_DM34.31.dat\u001b[0m\n",
      "\u001b[94m运行时间： 0.0秒\u001b[0m\n"
     ]
    },
    {
     "name": "stderr",
     "output_type": "stream",
     "text": [
      "prepdata-bary-8核:  75%|███████▌  | 225/300 [01:10<00:20,  3.62cmd/s]"
     ]
    },
    {
     "name": "stdout",
     "output_type": "stream",
     "text": [
      "程序运行路径为: /home/pl/work/python-workspance/FAST_pulsar_search_pl/03_barydata\n",
      "日志文件为：/home/pl/work/python-workspance/FAST_pulsar_search_pl/LOG/03_barydata/BARY-34.32.txt\n",
      "程序运行路径为: /home/pl/work/python-workspance/FAST_pulsar_search_pl/03_barydata\n",
      "日志文件为：/home/pl/work/python-workspance/FAST_pulsar_search_pl/LOG/03_barydata/BARY-34.33.txt\n"
     ]
    },
    {
     "name": "stderr",
     "output_type": "stream",
     "text": [
      "prepdata-bary-8核:  76%|███████▌  | 227/300 [01:10<00:18,  4.01cmd/s]"
     ]
    },
    {
     "name": "stdout",
     "output_type": "stream",
     "text": [
      "程序运行路径为: /home/pl/work/python-workspance/FAST_pulsar_search_pl/03_barydata\n",
      "日志文件为：/home/pl/work/python-workspance/FAST_pulsar_search_pl/LOG/03_barydata/BARY-34.34.txt\n",
      "运行命令：\u001b[96mprepdata -o j1631_FAST_pulsar_search_pl_bary_DM34.32   -dm 34.32 -downsamp 1 /home/pl/work/python-workspance/FAST_pulsar_search_pl/03_subbands/j1631_FAST_pulsar_search_pl_DM34.32.dat\u001b[0m\n",
      "\u001b[94m运行时间： 0.0秒\u001b[0m\n",
      "运行命令：\u001b[96mprepdata -o j1631_FAST_pulsar_search_pl_bary_DM34.33   -dm 34.33 -downsamp 1 /home/pl/work/python-workspance/FAST_pulsar_search_pl/03_subbands/j1631_FAST_pulsar_search_pl_DM34.33.dat\u001b[0m\n",
      "\u001b[94m运行时间： 0.0秒\u001b[0m\n",
      "运行命令：\u001b[96mprepdata -o j1631_FAST_pulsar_search_pl_bary_DM34.34   -dm 34.34 -downsamp 1 /home/pl/work/python-workspance/FAST_pulsar_search_pl/03_subbands/j1631_FAST_pulsar_search_pl_DM34.34.dat\u001b[0m\n",
      "\u001b[94m运行时间： 0.0秒\u001b[0m\n"
     ]
    },
    {
     "name": "stderr",
     "output_type": "stream",
     "text": [
      "prepdata-bary-8核:  76%|███████▌  | 228/300 [01:11<00:28,  2.52cmd/s]"
     ]
    },
    {
     "name": "stdout",
     "output_type": "stream",
     "text": [
      "程序运行路径为: /home/pl/work/python-workspance/FAST_pulsar_search_pl/03_barydata\n",
      "日志文件为：/home/pl/work/python-workspance/FAST_pulsar_search_pl/LOG/03_barydata/BARY-34.35.txt\n"
     ]
    },
    {
     "name": "stderr",
     "output_type": "stream",
     "text": [
      "prepdata-bary-8核:  76%|███████▋  | 229/300 [01:11<00:24,  2.89cmd/s]"
     ]
    },
    {
     "name": "stdout",
     "output_type": "stream",
     "text": [
      "程序运行路径为: /home/pl/work/python-workspance/FAST_pulsar_search_pl/03_barydata\n",
      "日志文件为：/home/pl/work/python-workspance/FAST_pulsar_search_pl/LOG/03_barydata/BARY-34.36.txt\n",
      "程序运行路径为: /home/pl/work/python-workspance/FAST_pulsar_search_pl/03_barydata\n",
      "日志文件为：/home/pl/work/python-workspance/FAST_pulsar_search_pl/LOG/03_barydata/BARY-34.37.txt\n",
      "程序运行路径为: /home/pl/work/python-workspance/FAST_pulsar_search_pl/03_barydata\n",
      "日志文件为：/home/pl/work/python-workspance/FAST_pulsar_search_pl/LOG/03_barydata/BARY-34.38.txt\n",
      "程序运行路径为: /home/pl/work/python-workspance/FAST_pulsar_search_pl/03_barydata\n",
      "日志文件为：/home/pl/work/python-workspance/FAST_pulsar_search_pl/LOG/03_barydata/BARY-34.39.txt\n",
      "运行命令：\u001b[96mprepdata -o j1631_FAST_pulsar_search_pl_bary_DM34.35   -dm 34.35 -downsamp 1 /home/pl/work/python-workspance/FAST_pulsar_search_pl/03_subbands/j1631_FAST_pulsar_search_pl_DM34.35.dat\u001b[0m\n",
      "\u001b[94m运行时间： 0.0秒\u001b[0m\n",
      "运行命令：\u001b[96mprepdata -o j1631_FAST_pulsar_search_pl_bary_DM34.36   -dm 34.36 -downsamp 1 /home/pl/work/python-workspance/FAST_pulsar_search_pl/03_subbands/j1631_FAST_pulsar_search_pl_DM34.36.dat\u001b[0m\n",
      "\u001b[94m运行时间： 0.0秒\u001b[0m\n",
      "运行命令：\u001b[96mprepdata -o j1631_FAST_pulsar_search_pl_bary_DM34.39   -dm 34.39 -downsamp 1 /home/pl/work/python-workspance/FAST_pulsar_search_pl/03_subbands/j1631_FAST_pulsar_search_pl_DM34.39.dat\u001b[0m\n",
      "\u001b[94m运行时间： 0.0秒\u001b[0m\n",
      "运行命令：\u001b[96mprepdata -o j1631_FAST_pulsar_search_pl_bary_DM34.37   -dm 34.37 -downsamp 1 /home/pl/work/python-workspance/FAST_pulsar_search_pl/03_subbands/j1631_FAST_pulsar_search_pl_DM34.37.dat\u001b[0m\n",
      "\u001b[94m运行时间： 0.0秒\u001b[0m\n",
      "运行命令：\u001b[96mprepdata -o j1631_FAST_pulsar_search_pl_bary_DM34.38   -dm 34.38 -downsamp 1 /home/pl/work/python-workspance/FAST_pulsar_search_pl/03_subbands/j1631_FAST_pulsar_search_pl_DM34.38.dat\u001b[0m\n",
      "\u001b[94m运行时间： 0.0秒\u001b[0m\n"
     ]
    },
    {
     "name": "stderr",
     "output_type": "stream",
     "text": [
      "prepdata-bary-8核:  78%|███████▊  | 233/300 [01:12<00:17,  3.78cmd/s]"
     ]
    },
    {
     "name": "stdout",
     "output_type": "stream",
     "text": [
      "程序运行路径为: /home/pl/work/python-workspance/FAST_pulsar_search_pl/03_barydata\n",
      "日志文件为：/home/pl/work/python-workspance/FAST_pulsar_search_pl/LOG/03_barydata/BARY-34.40.txt\n",
      "程序运行路径为: /home/pl/work/python-workspance/FAST_pulsar_search_pl/03_barydata\n",
      "日志文件为：/home/pl/work/python-workspance/FAST_pulsar_search_pl/LOG/03_barydata/BARY-34.41.txt\n"
     ]
    },
    {
     "name": "stderr",
     "output_type": "stream",
     "text": [
      "prepdata-bary-8核:  78%|███████▊  | 235/300 [01:12<00:15,  4.17cmd/s]"
     ]
    },
    {
     "name": "stdout",
     "output_type": "stream",
     "text": [
      "程序运行路径为: /home/pl/work/python-workspance/FAST_pulsar_search_pl/03_barydata\n",
      "日志文件为：/home/pl/work/python-workspance/FAST_pulsar_search_pl/LOG/03_barydata/BARY-34.42.txt\n",
      "运行命令：\u001b[96mprepdata -o j1631_FAST_pulsar_search_pl_bary_DM34.40   -dm 34.40 -downsamp 1 /home/pl/work/python-workspance/FAST_pulsar_search_pl/03_subbands/j1631_FAST_pulsar_search_pl_DM34.40.dat\u001b[0m\n",
      "\u001b[94m运行时间： 0.0秒\u001b[0m\n",
      "运行命令：\u001b[96mprepdata -o j1631_FAST_pulsar_search_pl_bary_DM34.41   -dm 34.41 -downsamp 1 /home/pl/work/python-workspance/FAST_pulsar_search_pl/03_subbands/j1631_FAST_pulsar_search_pl_DM34.41.dat\u001b[0m\n",
      "\u001b[94m运行时间： 0.0秒\u001b[0m\n",
      "运行命令：\u001b[96mprepdata -o j1631_FAST_pulsar_search_pl_bary_DM34.42   -dm 34.42 -downsamp 1 /home/pl/work/python-workspance/FAST_pulsar_search_pl/03_subbands/j1631_FAST_pulsar_search_pl_DM34.42.dat\u001b[0m\n",
      "\u001b[94m运行时间： 0.0秒\u001b[0m\n"
     ]
    },
    {
     "name": "stderr",
     "output_type": "stream",
     "text": [
      "prepdata-bary-8核:  79%|███████▊  | 236/300 [01:14<00:25,  2.52cmd/s]"
     ]
    },
    {
     "name": "stdout",
     "output_type": "stream",
     "text": [
      "程序运行路径为: /home/pl/work/python-workspance/FAST_pulsar_search_pl/03_barydata\n",
      "日志文件为：/home/pl/work/python-workspance/FAST_pulsar_search_pl/LOG/03_barydata/BARY-34.43.txt\n",
      "程序运行路径为: /home/pl/work/python-workspance/FAST_pulsar_search_pl/03_barydata\n",
      "日志文件为：/home/pl/work/python-workspance/FAST_pulsar_search_pl/LOG/03_barydata/BARY-34.44.txt\n"
     ]
    },
    {
     "name": "stderr",
     "output_type": "stream",
     "text": [
      "prepdata-bary-8核:  79%|███████▉  | 238/300 [01:14<00:18,  3.38cmd/s]"
     ]
    },
    {
     "name": "stdout",
     "output_type": "stream",
     "text": [
      "程序运行路径为: /home/pl/work/python-workspance/FAST_pulsar_search_pl/03_barydata\n",
      "日志文件为：/home/pl/work/python-workspance/FAST_pulsar_search_pl/LOG/03_barydata/BARY-34.45.txt\n",
      "程序运行路径为: /home/pl/work/python-workspance/FAST_pulsar_search_pl/03_barydata\n",
      "日志文件为：/home/pl/work/python-workspance/FAST_pulsar_search_pl/LOG/03_barydata/BARY-34.46.txt\n",
      "程序运行路径为: /home/pl/work/python-workspance/FAST_pulsar_search_pl/03_barydata\n",
      "日志文件为：/home/pl/work/python-workspance/FAST_pulsar_search_pl/LOG/03_barydata/BARY-34.47.txt\n",
      "运行命令：\u001b[96mprepdata -o j1631_FAST_pulsar_search_pl_bary_DM34.43   -dm 34.43 -downsamp 1 /home/pl/work/python-workspance/FAST_pulsar_search_pl/03_subbands/j1631_FAST_pulsar_search_pl_DM34.43.dat\u001b[0m\n",
      "\u001b[94m运行时间： 0.0秒\u001b[0m\n",
      "运行命令：\u001b[96mprepdata -o j1631_FAST_pulsar_search_pl_bary_DM34.44   -dm 34.44 -downsamp 1 /home/pl/work/python-workspance/FAST_pulsar_search_pl/03_subbands/j1631_FAST_pulsar_search_pl_DM34.44.dat\u001b[0m\n",
      "\u001b[94m运行时间： 0.0秒\u001b[0m\n",
      "运行命令：\u001b[96mprepdata -o j1631_FAST_pulsar_search_pl_bary_DM34.46   -dm 34.46 -downsamp 1 /home/pl/work/python-workspance/FAST_pulsar_search_pl/03_subbands/j1631_FAST_pulsar_search_pl_DM34.46.dat\u001b[0m\n",
      "\u001b[94m运行时间： 0.0秒\u001b[0m\n",
      "运行命令：\u001b[96mprepdata -o j1631_FAST_pulsar_search_pl_bary_DM34.45   -dm 34.45 -downsamp 1 /home/pl/work/python-workspance/FAST_pulsar_search_pl/03_subbands/j1631_FAST_pulsar_search_pl_DM34.45.dat\u001b[0m\n",
      "\u001b[94m运行时间： 0.0秒\u001b[0m\n",
      "运行命令：\u001b[96mprepdata -o j1631_FAST_pulsar_search_pl_bary_DM34.47   -dm 34.47 -downsamp 1 /home/pl/work/python-workspance/FAST_pulsar_search_pl/03_subbands/j1631_FAST_pulsar_search_pl_DM34.47.dat\u001b[0m\n",
      "\u001b[94m运行时间： 0.0秒\u001b[0m\n"
     ]
    },
    {
     "name": "stderr",
     "output_type": "stream",
     "text": [
      "prepdata-bary-8核:  80%|████████  | 241/300 [01:14<00:16,  3.66cmd/s]"
     ]
    },
    {
     "name": "stdout",
     "output_type": "stream",
     "text": [
      "程序运行路径为: /home/pl/work/python-workspance/FAST_pulsar_search_pl/03_barydata\n",
      "日志文件为：/home/pl/work/python-workspance/FAST_pulsar_search_pl/LOG/03_barydata/BARY-34.48.txt\n",
      "程序运行路径为: /home/pl/work/python-workspance/FAST_pulsar_search_pl/03_barydata\n",
      "日志文件为：/home/pl/work/python-workspance/FAST_pulsar_search_pl/LOG/03_barydata/BARY-34.49.txt\n"
     ]
    },
    {
     "name": "stderr",
     "output_type": "stream",
     "text": [
      "prepdata-bary-8核:  81%|████████  | 243/300 [01:15<00:13,  4.16cmd/s]"
     ]
    },
    {
     "name": "stdout",
     "output_type": "stream",
     "text": [
      "程序运行路径为: /home/pl/work/python-workspance/FAST_pulsar_search_pl/03_barydata\n",
      "日志文件为：/home/pl/work/python-workspance/FAST_pulsar_search_pl/LOG/03_barydata/BARY-34.50.txt\n",
      "运行命令：\u001b[96mprepdata -o j1631_FAST_pulsar_search_pl_bary_DM34.48   -dm 34.48 -downsamp 1 /home/pl/work/python-workspance/FAST_pulsar_search_pl/03_subbands/j1631_FAST_pulsar_search_pl_DM34.48.dat\u001b[0m\n",
      "\u001b[94m运行时间： 0.0秒\u001b[0m\n",
      "运行命令：\u001b[96mprepdata -o j1631_FAST_pulsar_search_pl_bary_DM34.49   -dm 34.49 -downsamp 1 /home/pl/work/python-workspance/FAST_pulsar_search_pl/03_subbands/j1631_FAST_pulsar_search_pl_DM34.49.dat\u001b[0m\n",
      "\u001b[94m运行时间： 0.0秒\u001b[0m\n",
      "运行命令：\u001b[96mprepdata -o j1631_FAST_pulsar_search_pl_bary_DM34.50   -dm 34.50 -downsamp 1 /home/pl/work/python-workspance/FAST_pulsar_search_pl/03_subbands/j1631_FAST_pulsar_search_pl_DM34.50.dat\u001b[0m\n",
      "\u001b[94m运行时间： 0.0秒\u001b[0m\n"
     ]
    },
    {
     "name": "stderr",
     "output_type": "stream",
     "text": [
      "prepdata-bary-8核:  81%|████████▏ | 244/300 [01:16<00:22,  2.47cmd/s]"
     ]
    },
    {
     "name": "stdout",
     "output_type": "stream",
     "text": [
      "程序运行路径为: /home/pl/work/python-workspance/FAST_pulsar_search_pl/03_barydata\n",
      "日志文件为：/home/pl/work/python-workspance/FAST_pulsar_search_pl/LOG/03_barydata/BARY-34.51.txt\n"
     ]
    },
    {
     "name": "stderr",
     "output_type": "stream",
     "text": [
      "prepdata-bary-8核:  82%|████████▏ | 245/300 [01:16<00:19,  2.84cmd/s]"
     ]
    },
    {
     "name": "stdout",
     "output_type": "stream",
     "text": [
      "程序运行路径为: /home/pl/work/python-workspance/FAST_pulsar_search_pl/03_barydata\n",
      "日志文件为：/home/pl/work/python-workspance/FAST_pulsar_search_pl/LOG/03_barydata/BARY-34.52.txt\n",
      "程序运行路径为: /home/pl/work/python-workspance/FAST_pulsar_search_pl/03_barydata\n",
      "日志文件为：/home/pl/work/python-workspance/FAST_pulsar_search_pl/LOG/03_barydata/BARY-34.53.txt\n",
      "程序运行路径为: /home/pl/work/python-workspance/FAST_pulsar_search_pl/03_barydata\n",
      "日志文件为：/home/pl/work/python-workspance/FAST_pulsar_search_pl/LOG/03_barydata/BARY-34.54.txt\n"
     ]
    },
    {
     "name": "stderr",
     "output_type": "stream",
     "text": [
      "prepdata-bary-8核:  83%|████████▎ | 248/300 [01:16<00:10,  4.77cmd/s]"
     ]
    },
    {
     "name": "stdout",
     "output_type": "stream",
     "text": [
      "程序运行路径为: /home/pl/work/python-workspance/FAST_pulsar_search_pl/03_barydata\n",
      "日志文件为：/home/pl/work/python-workspance/FAST_pulsar_search_pl/LOG/03_barydata/BARY-34.55.txt\n",
      "运行命令：\u001b[96mprepdata -o j1631_FAST_pulsar_search_pl_bary_DM34.51   -dm 34.51 -downsamp 1 /home/pl/work/python-workspance/FAST_pulsar_search_pl/03_subbands/j1631_FAST_pulsar_search_pl_DM34.51.dat\u001b[0m\n",
      "\u001b[94m运行时间： 0.0秒\u001b[0m\n",
      "运行命令：\u001b[96mprepdata -o j1631_FAST_pulsar_search_pl_bary_DM34.52   -dm 34.52 -downsamp 1 /home/pl/work/python-workspance/FAST_pulsar_search_pl/03_subbands/j1631_FAST_pulsar_search_pl_DM34.52.dat\u001b[0m\n",
      "\u001b[94m运行时间： 0.0秒\u001b[0m\n",
      "运行命令：\u001b[96mprepdata -o j1631_FAST_pulsar_search_pl_bary_DM34.53   -dm 34.53 -downsamp 1 /home/pl/work/python-workspance/FAST_pulsar_search_pl/03_subbands/j1631_FAST_pulsar_search_pl_DM34.53.dat\u001b[0m\n",
      "\u001b[94m运行时间： 0.0秒\u001b[0m\n",
      "运行命令：\u001b[96mprepdata -o j1631_FAST_pulsar_search_pl_bary_DM34.54   -dm 34.54 -downsamp 1 /home/pl/work/python-workspance/FAST_pulsar_search_pl/03_subbands/j1631_FAST_pulsar_search_pl_DM34.54.dat\u001b[0m\n",
      "\u001b[94m运行时间： 0.0秒\u001b[0m\n",
      "运行命令：\u001b[96mprepdata -o j1631_FAST_pulsar_search_pl_bary_DM34.55   -dm 34.55 -downsamp 1 /home/pl/work/python-workspance/FAST_pulsar_search_pl/03_subbands/j1631_FAST_pulsar_search_pl_DM34.55.dat\u001b[0m\n",
      "\u001b[94m运行时间： 0.0秒\u001b[0m\n",
      "程序运行路径为: /home/pl/work/python-workspance/FAST_pulsar_search_pl/03_barydata\n",
      "日志文件为：/home/pl/work/python-workspance/FAST_pulsar_search_pl/LOG/03_barydata/BARY-34.56.txt\n"
     ]
    },
    {
     "name": "stderr",
     "output_type": "stream",
     "text": [
      "prepdata-bary-8核:  83%|████████▎ | 250/300 [01:17<00:12,  4.03cmd/s]"
     ]
    },
    {
     "name": "stdout",
     "output_type": "stream",
     "text": [
      "程序运行路径为: /home/pl/work/python-workspance/FAST_pulsar_search_pl/03_barydata\n",
      "日志文件为：/home/pl/work/python-workspance/FAST_pulsar_search_pl/LOG/03_barydata/BARY-34.57.txt\n"
     ]
    },
    {
     "name": "stderr",
     "output_type": "stream",
     "text": [
      "prepdata-bary-8核:  84%|████████▎ | 251/300 [01:17<00:12,  3.95cmd/s]"
     ]
    },
    {
     "name": "stdout",
     "output_type": "stream",
     "text": [
      "程序运行路径为: /home/pl/work/python-workspance/FAST_pulsar_search_pl/03_barydata\n",
      "日志文件为：/home/pl/work/python-workspance/FAST_pulsar_search_pl/LOG/03_barydata/BARY-34.58.txt\n",
      "运行命令：\u001b[96mprepdata -o j1631_FAST_pulsar_search_pl_bary_DM34.56   -dm 34.56 -downsamp 1 /home/pl/work/python-workspance/FAST_pulsar_search_pl/03_subbands/j1631_FAST_pulsar_search_pl_DM34.56.dat\u001b[0m\n",
      "\u001b[94m运行时间： 0.0秒\u001b[0m\n",
      "运行命令：\u001b[96mprepdata -o j1631_FAST_pulsar_search_pl_bary_DM34.57   -dm 34.57 -downsamp 1 /home/pl/work/python-workspance/FAST_pulsar_search_pl/03_subbands/j1631_FAST_pulsar_search_pl_DM34.57.dat\u001b[0m\n",
      "\u001b[94m运行时间： 0.0秒\u001b[0m\n",
      "运行命令：\u001b[96mprepdata -o j1631_FAST_pulsar_search_pl_bary_DM34.58   -dm 34.58 -downsamp 1 /home/pl/work/python-workspance/FAST_pulsar_search_pl/03_subbands/j1631_FAST_pulsar_search_pl_DM34.58.dat\u001b[0m\n",
      "\u001b[94m运行时间： 0.0秒\u001b[0m\n"
     ]
    },
    {
     "name": "stderr",
     "output_type": "stream",
     "text": [
      "prepdata-bary-8核:  84%|████████▍ | 252/300 [01:18<00:21,  2.23cmd/s]"
     ]
    },
    {
     "name": "stdout",
     "output_type": "stream",
     "text": [
      "程序运行路径为: /home/pl/work/python-workspance/FAST_pulsar_search_pl/03_barydata\n",
      "日志文件为：/home/pl/work/python-workspance/FAST_pulsar_search_pl/LOG/03_barydata/BARY-34.59.txt\n"
     ]
    },
    {
     "name": "stderr",
     "output_type": "stream",
     "text": [
      "prepdata-bary-8核:  84%|████████▍ | 253/300 [01:19<00:18,  2.56cmd/s]"
     ]
    },
    {
     "name": "stdout",
     "output_type": "stream",
     "text": [
      "程序运行路径为: /home/pl/work/python-workspance/FAST_pulsar_search_pl/03_barydata\n",
      "日志文件为：/home/pl/work/python-workspance/FAST_pulsar_search_pl/LOG/03_barydata/BARY-34.60.txt\n",
      "程序运行路径为: /home/pl/work/python-workspance/FAST_pulsar_search_pl/03_barydata\n",
      "日志文件为：/home/pl/work/python-workspance/FAST_pulsar_search_pl/LOG/03_barydata/BARY-34.61.txt\n",
      "程序运行路径为: /home/pl/work/python-workspance/FAST_pulsar_search_pl/03_barydata\n",
      "日志文件为：/home/pl/work/python-workspance/FAST_pulsar_search_pl/LOG/03_barydata/BARY-34.62.txt\n",
      "程序运行路径为: /home/pl/work/python-workspance/FAST_pulsar_search_pl/03_barydata\n",
      "日志文件为：/home/pl/work/python-workspance/FAST_pulsar_search_pl/LOG/03_barydata/BARY-34.63.txt\n",
      "运行命令：\u001b[96mprepdata -o j1631_FAST_pulsar_search_pl_bary_DM34.59   -dm 34.59 -downsamp 1 /home/pl/work/python-workspance/FAST_pulsar_search_pl/03_subbands/j1631_FAST_pulsar_search_pl_DM34.59.dat\u001b[0m\n",
      "\u001b[94m运行时间： 0.0秒\u001b[0m\n",
      "运行命令：\u001b[96mprepdata -o j1631_FAST_pulsar_search_pl_bary_DM34.62   -dm 34.62 -downsamp 1 /home/pl/work/python-workspance/FAST_pulsar_search_pl/03_subbands/j1631_FAST_pulsar_search_pl_DM34.62.dat\u001b[0m\n",
      "\u001b[94m运行时间： 0.0秒\u001b[0m\n",
      "运行命令：\u001b[96mprepdata -o j1631_FAST_pulsar_search_pl_bary_DM34.60   -dm 34.60 -downsamp 1 /home/pl/work/python-workspance/FAST_pulsar_search_pl/03_subbands/j1631_FAST_pulsar_search_pl_DM34.60.dat\u001b[0m\n",
      "\u001b[94m运行时间： 0.0秒\u001b[0m\n",
      "运行命令：\u001b[96mprepdata -o j1631_FAST_pulsar_search_pl_bary_DM34.61   -dm 34.61 -downsamp 1 /home/pl/work/python-workspance/FAST_pulsar_search_pl/03_subbands/j1631_FAST_pulsar_search_pl_DM34.61.dat\u001b[0m\n",
      "\u001b[94m运行时间： 0.0秒\u001b[0m\n",
      "运行命令：\u001b[96mprepdata -o j1631_FAST_pulsar_search_pl_bary_DM34.63   -dm 34.63 -downsamp 1 /home/pl/work/python-workspance/FAST_pulsar_search_pl/03_subbands/j1631_FAST_pulsar_search_pl_DM34.63.dat\u001b[0m\n",
      "\u001b[94m运行时间： 0.0秒\u001b[0m\n"
     ]
    },
    {
     "name": "stderr",
     "output_type": "stream",
     "text": [
      "prepdata-bary-8核:  86%|████████▌ | 257/300 [01:19<00:11,  3.69cmd/s]"
     ]
    },
    {
     "name": "stdout",
     "output_type": "stream",
     "text": [
      "程序运行路径为: /home/pl/work/python-workspance/FAST_pulsar_search_pl/03_barydata\n",
      "日志文件为：/home/pl/work/python-workspance/FAST_pulsar_search_pl/LOG/03_barydata/BARY-34.64.txt\n",
      "程序运行路径为: /home/pl/work/python-workspance/FAST_pulsar_search_pl/03_barydata\n",
      "日志文件为：/home/pl/work/python-workspance/FAST_pulsar_search_pl/LOG/03_barydata/BARY-34.65.txt\n"
     ]
    },
    {
     "name": "stderr",
     "output_type": "stream",
     "text": [
      "prepdata-bary-8核:  86%|████████▋ | 259/300 [01:20<00:09,  4.34cmd/s]"
     ]
    },
    {
     "name": "stdout",
     "output_type": "stream",
     "text": [
      "程序运行路径为: /home/pl/work/python-workspance/FAST_pulsar_search_pl/03_barydata\n",
      "日志文件为：/home/pl/work/python-workspance/FAST_pulsar_search_pl/LOG/03_barydata/BARY-34.66.txt\n",
      "运行命令：\u001b[96mprepdata -o j1631_FAST_pulsar_search_pl_bary_DM34.64   -dm 34.64 -downsamp 1 /home/pl/work/python-workspance/FAST_pulsar_search_pl/03_subbands/j1631_FAST_pulsar_search_pl_DM34.64.dat\u001b[0m\n",
      "\u001b[94m运行时间： 0.0秒\u001b[0m\n",
      "运行命令：\u001b[96mprepdata -o j1631_FAST_pulsar_search_pl_bary_DM34.65   -dm 34.65 -downsamp 1 /home/pl/work/python-workspance/FAST_pulsar_search_pl/03_subbands/j1631_FAST_pulsar_search_pl_DM34.65.dat\u001b[0m\n",
      "\u001b[94m运行时间： 0.0秒\u001b[0m\n",
      "运行命令：\u001b[96mprepdata -o j1631_FAST_pulsar_search_pl_bary_DM34.66   -dm 34.66 -downsamp 1 /home/pl/work/python-workspance/FAST_pulsar_search_pl/03_subbands/j1631_FAST_pulsar_search_pl_DM34.66.dat\u001b[0m\n",
      "\u001b[94m运行时间： 0.0秒\u001b[0m\n"
     ]
    },
    {
     "name": "stderr",
     "output_type": "stream",
     "text": [
      "prepdata-bary-8核:  87%|████████▋ | 260/300 [01:21<00:16,  2.47cmd/s]"
     ]
    },
    {
     "name": "stdout",
     "output_type": "stream",
     "text": [
      "程序运行路径为: /home/pl/work/python-workspance/FAST_pulsar_search_pl/03_barydata\n",
      "日志文件为：/home/pl/work/python-workspance/FAST_pulsar_search_pl/LOG/03_barydata/BARY-34.67.txt\n"
     ]
    },
    {
     "name": "stderr",
     "output_type": "stream",
     "text": [
      "prepdata-bary-8核:  87%|████████▋ | 261/300 [01:21<00:14,  2.72cmd/s]"
     ]
    },
    {
     "name": "stdout",
     "output_type": "stream",
     "text": [
      "程序运行路径为: /home/pl/work/python-workspance/FAST_pulsar_search_pl/03_barydata\n",
      "程序运行路径为: /home/pl/work/python-workspance/FAST_pulsar_search_pl/03_barydata\n",
      "日志文件为：/home/pl/work/python-workspance/FAST_pulsar_search_pl/LOG/03_barydata/BARY-34.68.txt\n",
      "日志文件为：/home/pl/work/python-workspance/FAST_pulsar_search_pl/LOG/03_barydata/BARY-34.69.txt\n",
      "程序运行路径为: /home/pl/work/python-workspance/FAST_pulsar_search_pl/03_barydata\n",
      "日志文件为：/home/pl/work/python-workspance/FAST_pulsar_search_pl/LOG/03_barydata/BARY-34.70.txt\n",
      "程序运行路径为: /home/pl/work/python-workspance/FAST_pulsar_search_pl/03_barydata\n",
      "日志文件为：/home/pl/work/python-workspance/FAST_pulsar_search_pl/LOG/03_barydata/BARY-34.71.txt\n",
      "运行命令：\u001b[96mprepdata -o j1631_FAST_pulsar_search_pl_bary_DM34.67   -dm 34.67 -downsamp 1 /home/pl/work/python-workspance/FAST_pulsar_search_pl/03_subbands/j1631_FAST_pulsar_search_pl_DM34.67.dat\u001b[0m\n",
      "\u001b[94m运行时间： 0.0秒\u001b[0m\n",
      "运行命令：\u001b[96mprepdata -o j1631_FAST_pulsar_search_pl_bary_DM34.68   -dm 34.68 -downsamp 1 /home/pl/work/python-workspance/FAST_pulsar_search_pl/03_subbands/j1631_FAST_pulsar_search_pl_DM34.68.dat\u001b[0m\n",
      "\u001b[94m运行时间： 0.0秒\u001b[0m\n",
      "运行命令：\u001b[96mprepdata -o j1631_FAST_pulsar_search_pl_bary_DM34.69   -dm 34.69 -downsamp 1 /home/pl/work/python-workspance/FAST_pulsar_search_pl/03_subbands/j1631_FAST_pulsar_search_pl_DM34.69.dat\u001b[0m\n",
      "\u001b[94m运行时间： 0.0秒\u001b[0m\n",
      "运行命令：\u001b[96mprepdata -o j1631_FAST_pulsar_search_pl_bary_DM34.71   -dm 34.71 -downsamp 1 /home/pl/work/python-workspance/FAST_pulsar_search_pl/03_subbands/j1631_FAST_pulsar_search_pl_DM34.71.dat\u001b[0m\n",
      "\u001b[94m运行时间： 0.0秒\u001b[0m\n",
      "运行命令：\u001b[96mprepdata -o j1631_FAST_pulsar_search_pl_bary_DM34.70   -dm 34.70 -downsamp 1 /home/pl/work/python-workspance/FAST_pulsar_search_pl/03_subbands/j1631_FAST_pulsar_search_pl_DM34.70.dat\u001b[0m\n",
      "\u001b[94m运行时间： 0.0秒\u001b[0m\n"
     ]
    },
    {
     "name": "stderr",
     "output_type": "stream",
     "text": [
      "prepdata-bary-8核:  88%|████████▊ | 265/300 [01:22<00:09,  3.73cmd/s]"
     ]
    },
    {
     "name": "stdout",
     "output_type": "stream",
     "text": [
      "程序运行路径为: /home/pl/work/python-workspance/FAST_pulsar_search_pl/03_barydata\n",
      "日志文件为：/home/pl/work/python-workspance/FAST_pulsar_search_pl/LOG/03_barydata/BARY-34.72.txt\n",
      "程序运行路径为: /home/pl/work/python-workspance/FAST_pulsar_search_pl/03_barydata\n",
      "日志文件为：/home/pl/work/python-workspance/FAST_pulsar_search_pl/LOG/03_barydata/BARY-34.73.txt\n"
     ]
    },
    {
     "name": "stderr",
     "output_type": "stream",
     "text": [
      "prepdata-bary-8核:  89%|████████▉ | 267/300 [01:22<00:07,  4.36cmd/s]"
     ]
    },
    {
     "name": "stdout",
     "output_type": "stream",
     "text": [
      "程序运行路径为: /home/pl/work/python-workspance/FAST_pulsar_search_pl/03_barydata\n",
      "日志文件为：/home/pl/work/python-workspance/FAST_pulsar_search_pl/LOG/03_barydata/BARY-34.74.txt\n",
      "运行命令：\u001b[96mprepdata -o j1631_FAST_pulsar_search_pl_bary_DM34.72   -dm 34.72 -downsamp 1 /home/pl/work/python-workspance/FAST_pulsar_search_pl/03_subbands/j1631_FAST_pulsar_search_pl_DM34.72.dat\u001b[0m\n",
      "\u001b[94m运行时间： 0.0秒\u001b[0m\n",
      "运行命令：\u001b[96mprepdata -o j1631_FAST_pulsar_search_pl_bary_DM34.73   -dm 34.73 -downsamp 1 /home/pl/work/python-workspance/FAST_pulsar_search_pl/03_subbands/j1631_FAST_pulsar_search_pl_DM34.73.dat\u001b[0m\n",
      "\u001b[94m运行时间： 0.0秒\u001b[0m\n",
      "运行命令：\u001b[96mprepdata -o j1631_FAST_pulsar_search_pl_bary_DM34.74   -dm 34.74 -downsamp 1 /home/pl/work/python-workspance/FAST_pulsar_search_pl/03_subbands/j1631_FAST_pulsar_search_pl_DM34.74.dat\u001b[0m\n",
      "\u001b[94m运行时间： 0.0秒\u001b[0m\n"
     ]
    },
    {
     "name": "stderr",
     "output_type": "stream",
     "text": [
      "prepdata-bary-8核:  89%|████████▉ | 268/300 [01:23<00:12,  2.57cmd/s]"
     ]
    },
    {
     "name": "stdout",
     "output_type": "stream",
     "text": [
      "程序运行路径为: /home/pl/work/python-workspance/FAST_pulsar_search_pl/03_barydata\n",
      "日志文件为：/home/pl/work/python-workspance/FAST_pulsar_search_pl/LOG/03_barydata/BARY-34.75.txt\n"
     ]
    },
    {
     "name": "stderr",
     "output_type": "stream",
     "text": [
      "prepdata-bary-8核:  90%|████████▉ | 269/300 [01:24<00:11,  2.72cmd/s]"
     ]
    },
    {
     "name": "stdout",
     "output_type": "stream",
     "text": [
      "程序运行路径为: /home/pl/work/python-workspance/FAST_pulsar_search_pl/03_barydata\n",
      "日志文件为：/home/pl/work/python-workspance/FAST_pulsar_search_pl/LOG/03_barydata/BARY-34.76.txt\n",
      "程序运行路径为: /home/pl/work/python-workspance/FAST_pulsar_search_pl/03_barydata\n",
      "日志文件为：/home/pl/work/python-workspance/FAST_pulsar_search_pl/LOG/03_barydata/BARY-34.77.txt\n",
      "程序运行路径为: /home/pl/work/python-workspance/FAST_pulsar_search_pl/03_barydata\n",
      "日志文件为：/home/pl/work/python-workspance/FAST_pulsar_search_pl/LOG/03_barydata/BARY-34.78.txt\n",
      "程序运行路径为: /home/pl/work/python-workspance/FAST_pulsar_search_pl/03_barydata\n",
      "日志文件为：/home/pl/work/python-workspance/FAST_pulsar_search_pl/LOG/03_barydata/BARY-34.79.txt\n",
      "运行命令：\u001b[96mprepdata -o j1631_FAST_pulsar_search_pl_bary_DM34.75   -dm 34.75 -downsamp 1 /home/pl/work/python-workspance/FAST_pulsar_search_pl/03_subbands/j1631_FAST_pulsar_search_pl_DM34.75.dat\u001b[0m\n",
      "\u001b[94m运行时间： 0.0秒\u001b[0m\n",
      "运行命令：\u001b[96mprepdata -o j1631_FAST_pulsar_search_pl_bary_DM34.77   -dm 34.77 -downsamp 1 /home/pl/work/python-workspance/FAST_pulsar_search_pl/03_subbands/j1631_FAST_pulsar_search_pl_DM34.77.dat\u001b[0m\n",
      "\u001b[94m运行时间： 0.0秒\u001b[0m\n",
      "运行命令：\u001b[96mprepdata -o j1631_FAST_pulsar_search_pl_bary_DM34.76   -dm 34.76 -downsamp 1 /home/pl/work/python-workspance/FAST_pulsar_search_pl/03_subbands/j1631_FAST_pulsar_search_pl_DM34.76.dat\u001b[0m\n",
      "\u001b[94m运行时间： 0.0秒\u001b[0m\n",
      "运行命令：\u001b[96mprepdata -o j1631_FAST_pulsar_search_pl_bary_DM34.79   -dm 34.79 -downsamp 1 /home/pl/work/python-workspance/FAST_pulsar_search_pl/03_subbands/j1631_FAST_pulsar_search_pl_DM34.79.dat\u001b[0m\n",
      "运行命令：\u001b[96mprepdata -o j1631_FAST_pulsar_search_pl_bary_DM34.78   -dm 34.78 -downsamp 1 /home/pl/work/python-workspance/FAST_pulsar_search_pl/03_subbands/j1631_FAST_pulsar_search_pl_DM34.78.dat\u001b[0m\n",
      "\u001b[94m运行时间： 0.0秒\u001b[0m\n",
      "\u001b[94m运行时间： 0.0秒\u001b[0m\n"
     ]
    },
    {
     "name": "stderr",
     "output_type": "stream",
     "text": [
      "prepdata-bary-8核:  91%|█████████ | 273/300 [01:24<00:07,  3.74cmd/s]"
     ]
    },
    {
     "name": "stdout",
     "output_type": "stream",
     "text": [
      "程序运行路径为: /home/pl/work/python-workspance/FAST_pulsar_search_pl/03_barydata\n",
      "程序运行路径为: /home/pl/work/python-workspance/FAST_pulsar_search_pl/03_barydata\n",
      "日志文件为：/home/pl/work/python-workspance/FAST_pulsar_search_pl/LOG/03_barydata/BARY-34.80.txt\n",
      "日志文件为：/home/pl/work/python-workspance/FAST_pulsar_search_pl/LOG/03_barydata/BARY-34.81.txt\n"
     ]
    },
    {
     "name": "stderr",
     "output_type": "stream",
     "text": [
      "prepdata-bary-8核:  92%|█████████▏| 275/300 [01:24<00:05,  4.43cmd/s]"
     ]
    },
    {
     "name": "stdout",
     "output_type": "stream",
     "text": [
      "程序运行路径为: /home/pl/work/python-workspance/FAST_pulsar_search_pl/03_barydata\n",
      "日志文件为：/home/pl/work/python-workspance/FAST_pulsar_search_pl/LOG/03_barydata/BARY-34.82.txt\n",
      "运行命令：\u001b[96mprepdata -o j1631_FAST_pulsar_search_pl_bary_DM34.81   -dm 34.81 -downsamp 1 /home/pl/work/python-workspance/FAST_pulsar_search_pl/03_subbands/j1631_FAST_pulsar_search_pl_DM34.81.dat\u001b[0m\n",
      "\u001b[94m运行时间： 0.0秒\u001b[0m\n",
      "运行命令：\u001b[96mprepdata -o j1631_FAST_pulsar_search_pl_bary_DM34.80   -dm 34.80 -downsamp 1 /home/pl/work/python-workspance/FAST_pulsar_search_pl/03_subbands/j1631_FAST_pulsar_search_pl_DM34.80.dat\u001b[0m\n",
      "\u001b[94m运行时间： 0.0秒\u001b[0m\n",
      "运行命令：\u001b[96mprepdata -o j1631_FAST_pulsar_search_pl_bary_DM34.82   -dm 34.82 -downsamp 1 /home/pl/work/python-workspance/FAST_pulsar_search_pl/03_subbands/j1631_FAST_pulsar_search_pl_DM34.82.dat\u001b[0m\n",
      "\u001b[94m运行时间： 0.0秒\u001b[0m\n"
     ]
    },
    {
     "name": "stderr",
     "output_type": "stream",
     "text": [
      "prepdata-bary-8核:  92%|█████████▏| 276/300 [01:26<00:09,  2.57cmd/s]"
     ]
    },
    {
     "name": "stdout",
     "output_type": "stream",
     "text": [
      "程序运行路径为: /home/pl/work/python-workspance/FAST_pulsar_search_pl/03_barydata\n",
      "日志文件为：/home/pl/work/python-workspance/FAST_pulsar_search_pl/LOG/03_barydata/BARY-34.83.txt\n"
     ]
    },
    {
     "name": "stderr",
     "output_type": "stream",
     "text": [
      "prepdata-bary-8核:  92%|█████████▏| 277/300 [01:26<00:08,  2.70cmd/s]"
     ]
    },
    {
     "name": "stdout",
     "output_type": "stream",
     "text": [
      "程序运行路径为: /home/pl/work/python-workspance/FAST_pulsar_search_pl/03_barydata\n",
      "日志文件为：/home/pl/work/python-workspance/FAST_pulsar_search_pl/LOG/03_barydata/BARY-34.84.txt\n",
      "程序运行路径为: /home/pl/work/python-workspance/FAST_pulsar_search_pl/03_barydata\n",
      "日志文件为：/home/pl/work/python-workspance/FAST_pulsar_search_pl/LOG/03_barydata/BARY-34.85.txt\n",
      "程序运行路径为: /home/pl/work/python-workspance/FAST_pulsar_search_pl/03_barydata\n",
      "程序运行路径为: /home/pl/work/python-workspance/FAST_pulsar_search_pl/03_barydata\n",
      "日志文件为：/home/pl/work/python-workspance/FAST_pulsar_search_pl/LOG/03_barydata/BARY-34.86.txt\n",
      "日志文件为：/home/pl/work/python-workspance/FAST_pulsar_search_pl/LOG/03_barydata/BARY-34.87.txt\n",
      "运行命令：\u001b[96mprepdata -o j1631_FAST_pulsar_search_pl_bary_DM34.83   -dm 34.83 -downsamp 1 /home/pl/work/python-workspance/FAST_pulsar_search_pl/03_subbands/j1631_FAST_pulsar_search_pl_DM34.83.dat\u001b[0m\n",
      "\u001b[94m运行时间： 0.0秒\u001b[0m\n",
      "运行命令：\u001b[96mprepdata -o j1631_FAST_pulsar_search_pl_bary_DM34.85   -dm 34.85 -downsamp 1 /home/pl/work/python-workspance/FAST_pulsar_search_pl/03_subbands/j1631_FAST_pulsar_search_pl_DM34.85.dat\u001b[0m\n",
      "\u001b[94m运行时间： 0.0秒\u001b[0m\n",
      "运行命令：\u001b[96mprepdata -o j1631_FAST_pulsar_search_pl_bary_DM34.87   -dm 34.87 -downsamp 1 /home/pl/work/python-workspance/FAST_pulsar_search_pl/03_subbands/j1631_FAST_pulsar_search_pl_DM34.87.dat\u001b[0m\n",
      "\u001b[94m运行时间： 0.0秒\u001b[0m\n",
      "运行命令：\u001b[96mprepdata -o j1631_FAST_pulsar_search_pl_bary_DM34.86   -dm 34.86 -downsamp 1 /home/pl/work/python-workspance/FAST_pulsar_search_pl/03_subbands/j1631_FAST_pulsar_search_pl_DM34.86.dat\u001b[0m\n",
      "运行命令：\u001b[96mprepdata -o j1631_FAST_pulsar_search_pl_bary_DM34.84   -dm 34.84 -downsamp 1 /home/pl/work/python-workspance/FAST_pulsar_search_pl/03_subbands/j1631_FAST_pulsar_search_pl_DM34.84.dat\u001b[0m\n",
      "\u001b[94m运行时间： 0.0秒\u001b[0m\n",
      "\u001b[94m运行时间： 0.0秒\u001b[0m\n"
     ]
    },
    {
     "name": "stderr",
     "output_type": "stream",
     "text": [
      "prepdata-bary-8核:  94%|█████████▎| 281/300 [01:27<00:04,  3.82cmd/s]"
     ]
    },
    {
     "name": "stdout",
     "output_type": "stream",
     "text": [
      "程序运行路径为: /home/pl/work/python-workspance/FAST_pulsar_search_pl/03_barydata\n",
      "日志文件为：/home/pl/work/python-workspance/FAST_pulsar_search_pl/LOG/03_barydata/BARY-34.88.txt\n",
      "程序运行路径为: /home/pl/work/python-workspance/FAST_pulsar_search_pl/03_barydata\n",
      "日志文件为：/home/pl/work/python-workspance/FAST_pulsar_search_pl/LOG/03_barydata/BARY-34.89.txt\n"
     ]
    },
    {
     "name": "stderr",
     "output_type": "stream",
     "text": [
      "prepdata-bary-8核:  94%|█████████▍| 283/300 [01:27<00:03,  4.56cmd/s]"
     ]
    },
    {
     "name": "stdout",
     "output_type": "stream",
     "text": [
      "程序运行路径为: /home/pl/work/python-workspance/FAST_pulsar_search_pl/03_barydata\n",
      "日志文件为：/home/pl/work/python-workspance/FAST_pulsar_search_pl/LOG/03_barydata/BARY-34.90.txt\n",
      "运行命令：\u001b[96mprepdata -o j1631_FAST_pulsar_search_pl_bary_DM34.88   -dm 34.88 -downsamp 1 /home/pl/work/python-workspance/FAST_pulsar_search_pl/03_subbands/j1631_FAST_pulsar_search_pl_DM34.88.dat\u001b[0m\n",
      "\u001b[94m运行时间： 0.0秒\u001b[0m\n",
      "运行命令：\u001b[96mprepdata -o j1631_FAST_pulsar_search_pl_bary_DM34.89   -dm 34.89 -downsamp 1 /home/pl/work/python-workspance/FAST_pulsar_search_pl/03_subbands/j1631_FAST_pulsar_search_pl_DM34.89.dat\u001b[0m\n",
      "\u001b[94m运行时间： 0.0秒\u001b[0m\n",
      "运行命令：\u001b[96mprepdata -o j1631_FAST_pulsar_search_pl_bary_DM34.90   -dm 34.90 -downsamp 1 /home/pl/work/python-workspance/FAST_pulsar_search_pl/03_subbands/j1631_FAST_pulsar_search_pl_DM34.90.dat\u001b[0m\n",
      "\u001b[94m运行时间： 0.0秒\u001b[0m\n"
     ]
    },
    {
     "name": "stderr",
     "output_type": "stream",
     "text": [
      "prepdata-bary-8核:  95%|█████████▍| 284/300 [01:28<00:06,  2.61cmd/s]"
     ]
    },
    {
     "name": "stdout",
     "output_type": "stream",
     "text": [
      "程序运行路径为: /home/pl/work/python-workspance/FAST_pulsar_search_pl/03_barydata\n",
      "日志文件为：/home/pl/work/python-workspance/FAST_pulsar_search_pl/LOG/03_barydata/BARY-34.91.txt\n"
     ]
    },
    {
     "name": "stderr",
     "output_type": "stream",
     "text": [
      "prepdata-bary-8核:  95%|█████████▌| 285/300 [01:28<00:05,  2.63cmd/s]"
     ]
    },
    {
     "name": "stdout",
     "output_type": "stream",
     "text": [
      "程序运行路径为: /home/pl/work/python-workspance/FAST_pulsar_search_pl/03_barydata\n",
      "日志文件为：/home/pl/work/python-workspance/FAST_pulsar_search_pl/LOG/03_barydata/BARY-34.92.txt\n",
      "运行命令：\u001b[96mprepdata -o j1631_FAST_pulsar_search_pl_bary_DM34.91   -dm 34.91 -downsamp 1 /home/pl/work/python-workspance/FAST_pulsar_search_pl/03_subbands/j1631_FAST_pulsar_search_pl_DM34.91.dat\u001b[0m\n",
      "\u001b[94m运行时间： 0.0秒\u001b[0m\n",
      "程序运行路径为: /home/pl/work/python-workspance/FAST_pulsar_search_pl/03_barydata\n",
      "日志文件为：/home/pl/work/python-workspance/FAST_pulsar_search_pl/LOG/03_barydata/BARY-34.93.txt\n",
      "程序运行路径为: /home/pl/work/python-workspance/FAST_pulsar_search_pl/03_barydata\n",
      "程序运行路径为: /home/pl/work/python-workspance/FAST_pulsar_search_pl/03_barydata\n",
      "日志文件为：/home/pl/work/python-workspance/FAST_pulsar_search_pl/LOG/03_barydata/BARY-34.94.txt\n",
      "日志文件为：/home/pl/work/python-workspance/FAST_pulsar_search_pl/LOG/03_barydata/BARY-34.95.txt\n",
      "运行命令：\u001b[96mprepdata -o j1631_FAST_pulsar_search_pl_bary_DM34.92   -dm 34.92 -downsamp 1 /home/pl/work/python-workspance/FAST_pulsar_search_pl/03_subbands/j1631_FAST_pulsar_search_pl_DM34.92.dat\u001b[0m\n",
      "\u001b[94m运行时间： 0.0秒\u001b[0m\n",
      "运行命令：\u001b[96mprepdata -o j1631_FAST_pulsar_search_pl_bary_DM34.93   -dm 34.93 -downsamp 1 /home/pl/work/python-workspance/FAST_pulsar_search_pl/03_subbands/j1631_FAST_pulsar_search_pl_DM34.93.dat\u001b[0m\n",
      "\u001b[94m运行时间： 0.0秒\u001b[0m\n",
      "运行命令：\u001b[96mprepdata -o j1631_FAST_pulsar_search_pl_bary_DM34.95   -dm 34.95 -downsamp 1 /home/pl/work/python-workspance/FAST_pulsar_search_pl/03_subbands/j1631_FAST_pulsar_search_pl_DM34.95.dat\u001b[0m\n",
      "\u001b[94m运行时间： 0.0秒\u001b[0m\n",
      "运行命令：\u001b[96mprepdata -o j1631_FAST_pulsar_search_pl_bary_DM34.94   -dm 34.94 -downsamp 1 /home/pl/work/python-workspance/FAST_pulsar_search_pl/03_subbands/j1631_FAST_pulsar_search_pl_DM34.94.dat\u001b[0m\n",
      "\u001b[94m运行时间： 0.0秒\u001b[0m\n"
     ]
    },
    {
     "name": "stderr",
     "output_type": "stream",
     "text": [
      "prepdata-bary-8核:  96%|█████████▋| 289/300 [01:29<00:02,  3.80cmd/s]"
     ]
    },
    {
     "name": "stdout",
     "output_type": "stream",
     "text": [
      "程序运行路径为: /home/pl/work/python-workspance/FAST_pulsar_search_pl/03_barydata\n",
      "日志文件为：/home/pl/work/python-workspance/FAST_pulsar_search_pl/LOG/03_barydata/BARY-34.96.txt\n",
      "程序运行路径为: /home/pl/work/python-workspance/FAST_pulsar_search_pl/03_barydata\n",
      "日志文件为：/home/pl/work/python-workspance/FAST_pulsar_search_pl/LOG/03_barydata/BARY-34.97.txt\n"
     ]
    },
    {
     "name": "stderr",
     "output_type": "stream",
     "text": [
      "prepdata-bary-8核:  97%|█████████▋| 291/300 [01:29<00:01,  4.66cmd/s]"
     ]
    },
    {
     "name": "stdout",
     "output_type": "stream",
     "text": [
      "程序运行路径为: /home/pl/work/python-workspance/FAST_pulsar_search_pl/03_barydata\n",
      "日志文件为：/home/pl/work/python-workspance/FAST_pulsar_search_pl/LOG/03_barydata/BARY-34.98.txt\n",
      "运行命令：\u001b[96mprepdata -o j1631_FAST_pulsar_search_pl_bary_DM34.96   -dm 34.96 -downsamp 1 /home/pl/work/python-workspance/FAST_pulsar_search_pl/03_subbands/j1631_FAST_pulsar_search_pl_DM34.96.dat\u001b[0m\n",
      "运行命令：\u001b[96mprepdata -o j1631_FAST_pulsar_search_pl_bary_DM34.97   -dm 34.97 -downsamp 1 /home/pl/work/python-workspance/FAST_pulsar_search_pl/03_subbands/j1631_FAST_pulsar_search_pl_DM34.97.dat\u001b[0m\n",
      "\u001b[94m运行时间： 0.0秒\u001b[0m\n",
      "\u001b[94m运行时间： 0.0秒\u001b[0m\n",
      "运行命令：\u001b[96mprepdata -o j1631_FAST_pulsar_search_pl_bary_DM34.98   -dm 34.98 -downsamp 1 /home/pl/work/python-workspance/FAST_pulsar_search_pl/03_subbands/j1631_FAST_pulsar_search_pl_DM34.98.dat\u001b[0m\n",
      "\u001b[94m运行时间： 0.0秒\u001b[0m\n"
     ]
    },
    {
     "name": "stderr",
     "output_type": "stream",
     "text": [
      "prepdata-bary-8核:  97%|█████████▋| 292/300 [01:30<00:03,  2.64cmd/s]"
     ]
    },
    {
     "name": "stdout",
     "output_type": "stream",
     "text": [
      "程序运行路径为: /home/pl/work/python-workspance/FAST_pulsar_search_pl/03_barydata\n",
      "日志文件为：/home/pl/work/python-workspance/FAST_pulsar_search_pl/LOG/03_barydata/BARY-34.99.txt\n"
     ]
    },
    {
     "name": "stderr",
     "output_type": "stream",
     "text": [
      "prepdata-bary-8核:  98%|█████████▊| 293/300 [01:31<00:02,  2.59cmd/s]"
     ]
    },
    {
     "name": "stdout",
     "output_type": "stream",
     "text": [
      "运行命令：\u001b[96mprepdata -o j1631_FAST_pulsar_search_pl_bary_DM34.99   -dm 34.99 -downsamp 1 /home/pl/work/python-workspance/FAST_pulsar_search_pl/03_subbands/j1631_FAST_pulsar_search_pl_DM34.99.dat\u001b[0m\n",
      "\u001b[94m运行时间： 0.0秒\u001b[0m\n"
     ]
    },
    {
     "name": "stderr",
     "output_type": "stream",
     "text": [
      "prepdata-bary-8核: 100%|██████████| 300/300 [01:33<00:00,  3.21cmd/s]\n"
     ]
    }
   ],
   "source": [
    "print_log(\"\\n ==========STEP 3 -2  prepdata预质心修正 ========= \\n\",color=colors.HEADER)\n",
    "if ifbary == 1:\n",
    "    print_log(f'使用ra = {ra} ,dec = {dec}进行质心修正')\n",
    "    bary_dir = os.path.join(config.root_workdir, \"03_barydata\") \n",
    "    makedir(bary_dir)\n",
    "    ifok_dir03b = os.path.join(ifok_dir,'03_barydata')\n",
    "    makedir(ifok_dir03b)\n",
    "    LOG_dir03b = os.path.join(LOG_dir,'03_barydata')\n",
    "    makedir(LOG_dir03b)\n",
    "\n",
    "    dat_names = sorted([x for x in glob.glob(f\"{dir_dedispersion}/*DM*.*.dat\")]) \n",
    "    inf_names = sorted([os.path.abspath(os.path.join(dir_dedispersion, file)) for file in os.listdir(dir_dedispersion) if file.endswith('.inf') and not file.endswith('_red.inf')])\n",
    "\n",
    "    print_log('''\\n ==================== 修改FAST的inf文件错误  ====================== \\n''',color=colors.HEADER)\n",
    "    for inf in inf_names:\n",
    "        with open(inf, 'r') as file:\n",
    "            lines = file.readlines()\n",
    "            lines = [line for line in lines if 'On/Off bin pair' not in line]\n",
    "\n",
    "        # 寻找并替换 J2000 Right Ascension 和 J2000 Declination 的行\n",
    "        for i in range(len(lines)):\n",
    "            if 'J2000 Right Ascension (hh:mm:ss.ssss)' in lines[i]:\n",
    "                ra_index = i\n",
    "                lines[i] = ' J2000 Right Ascension (hh:mm:ss.ssss)  =  ' + ra + \"\\n\"    # 修改赤经\n",
    "            elif 'J2000 Declination     (dd:mm:ss.ssss)' in lines[i]:\n",
    "                dec_index = i\n",
    "                lines[i] = ' J2000 Declination     (dd:mm:ss.ssss)  =  ' + dec + '\\n'   # 修改赤纬\n",
    "            elif 'Any breaks in the data? (1 yes, 0 no)' in lines[i]:\n",
    "                lines[i] = 'Any breaks in the data? (1 yes, 0 no)  =  0 '+'\\n'\n",
    "\n",
    "        # 将修改后的内容写回文件\n",
    "        with open(inf, 'w') as file:\n",
    "            file.writelines(lines)\n",
    "    print_log('成功！')\n",
    "    print_log('''\\n ==================== ra,dec修正完毕  ====================== \\n''',color=colors.HEADER)\n",
    "\n",
    "    #添加mask_file_path会报错\n",
    "    prepdata_cmd_list,ifok_list,log_list = prepdata2bary(dat_names,sourcename_mask, bary_dir,ifok_dir03b, LOG_dir03b, Nsamples=0, ignorechan_list=\"\",mask='', downsample_factor=1, other_flags=config.prepdata_flags,presto_env=os.environ['PRESTO'])\n",
    "    \n",
    "    print_log('''\\n ==================== 3 -3  prepdata质心修正  ====================== \\n''',color=colors.OKGREEN) \n",
    "    print_log(f'并行质心修正:核数{n_pool}/{cpu_count()}',masks=str(n_pool),color=colors.HEADER)\n",
    "    pool(n_pool,'prepdata-bary',prepdata_cmd_list,ifok_list,log_list,work_dir = bary_dir)\n",
    "\n",
    "    dir_dedispersion = bary_dir\n",
    "\n",
    "else:\n",
    "    print_log('''\\n ==================== 基于给予的参数将跳过质心修正，速度加快  ====================== \\n''',color=colors.HEADER)\n",
    "\n",
    "\n",
    "    \n"
   ]
  },
  {
   "cell_type": "code",
   "execution_count": 16,
   "metadata": {},
   "outputs": [
    {
     "name": "stdout",
     "output_type": "stream",
     "text": [
      "\u001b[95m\n",
      " ==================== 傅里叶变换  ====================== \n",
      "\n",
      "\u001b[0m并行质心修正:核数\u001b[95m8\u001b[0m/16\n"
     ]
    },
    {
     "name": "stderr",
     "output_type": "stream",
     "text": [
      "realfft-8核:   0%|          | 0/300 [00:00<?, ?cmd/s]"
     ]
    },
    {
     "name": "stdout",
     "output_type": "stream",
     "text": [
      "程序运行路径为: /home/pl/work/python-workspance/FAST_pulsar_search_pl/03_barydata\n",
      "程序运行路径为: /home/pl/work/python-workspance/FAST_pulsar_search_pl/03_barydata\n",
      "程序运行路径为: /home/pl/work/python-workspance/FAST_pulsar_search_pl/03_barydata\n",
      "程序运行路径为: /home/pl/work/python-workspance/FAST_pulsar_search_pl/03_barydata\n",
      "程序运行路径为: /home/pl/work/python-workspance/FAST_pulsar_search_pl/03_barydata\n",
      "程序运行路径为: /home/pl/work/python-workspance/FAST_pulsar_search_pl/03_barydata\n",
      "日志文件为：/home/pl/work/python-workspance/FAST_pulsar_search_pl/LOG/04_FFT/LOG_04-FFT-32.06.txt\n",
      "日志文件为：/home/pl/work/python-workspance/FAST_pulsar_search_pl/LOG/04_FFT/LOG_04-FFT-32.00.txt\n",
      "日志文件为：/home/pl/work/python-workspance/FAST_pulsar_search_pl/LOG/04_FFT/LOG_04-FFT-32.02.txt\n",
      "程序运行路径为: /home/pl/work/python-workspance/FAST_pulsar_search_pl/03_barydata\n",
      "日志文件为：/home/pl/work/python-workspance/FAST_pulsar_search_pl/LOG/04_FFT/LOG_04-FFT-32.04.txt\n",
      "日志文件为：/home/pl/work/python-workspance/FAST_pulsar_search_pl/LOG/04_FFT/LOG_04-FFT-32.05.txt\n",
      "程序运行路径为: /home/pl/work/python-workspance/FAST_pulsar_search_pl/03_barydata\n",
      "日志文件为：/home/pl/work/python-workspance/FAST_pulsar_search_pl/LOG/04_FFT/LOG_04-FFT-32.07.txt\n",
      "日志文件为：/home/pl/work/python-workspance/FAST_pulsar_search_pl/LOG/04_FFT/LOG_04-FFT-32.01.txt\n",
      "日志文件为：/home/pl/work/python-workspance/FAST_pulsar_search_pl/LOG/04_FFT/LOG_04-FFT-32.03.txt\n",
      "运行命令：\u001b[96mrealfft  /home/pl/work/python-workspance/FAST_pulsar_search_pl/03_barydata/j1631_FAST_pulsar_search_pl_bary_DM32.01.dat\u001b[0m\n",
      "运行命令：\u001b[96mrealfft  /home/pl/work/python-workspance/FAST_pulsar_search_pl/03_barydata/j1631_FAST_pulsar_search_pl_bary_DM32.07.dat\u001b[0m\n",
      "运行命令：\u001b[96mrealfft  /home/pl/work/python-workspance/FAST_pulsar_search_pl/03_barydata/j1631_FAST_pulsar_search_pl_bary_DM32.05.dat\u001b[0m\n",
      "运行命令：\u001b[96mrealfft  /home/pl/work/python-workspance/FAST_pulsar_search_pl/03_barydata/j1631_FAST_pulsar_search_pl_bary_DM32.04.dat\u001b[0m\n",
      "\u001b[94m运行时间： 0.0秒\u001b[0m\n",
      "\u001b[94m运行时间： 0.0秒\u001b[0m\n",
      "运行命令：\u001b[96mrealfft  /home/pl/work/python-workspance/FAST_pulsar_search_pl/03_barydata/j1631_FAST_pulsar_search_pl_bary_DM32.00.dat\u001b[0m\n",
      "\u001b[94m运行时间： 0.0秒\u001b[0m\n",
      "\u001b[94m运行时间： 0.0秒\u001b[0m\n",
      "运行命令：\u001b[96mrealfft  /home/pl/work/python-workspance/FAST_pulsar_search_pl/03_barydata/j1631_FAST_pulsar_search_pl_bary_DM32.02.dat\u001b[0m\n",
      "\u001b[94m运行时间： 0.0秒\u001b[0m\n",
      "\u001b[94m运行时间： 0.0秒\u001b[0m\n",
      "运行命令：\u001b[96mrealfft  /home/pl/work/python-workspance/FAST_pulsar_search_pl/03_barydata/j1631_FAST_pulsar_search_pl_bary_DM32.03.dat\u001b[0m\n",
      "\u001b[94m运行时间： 0.0秒\u001b[0m\n",
      "运行命令：\u001b[96mrealfft  /home/pl/work/python-workspance/FAST_pulsar_search_pl/03_barydata/j1631_FAST_pulsar_search_pl_bary_DM32.06.dat\u001b[0m\n",
      "\u001b[94m运行时间： 0.0秒\u001b[0m\n"
     ]
    },
    {
     "name": "stderr",
     "output_type": "stream",
     "text": [
      "realfft-8核:   0%|          | 1/300 [00:02<10:26,  2.09s/cmd]"
     ]
    },
    {
     "name": "stdout",
     "output_type": "stream",
     "text": [
      "程序运行路径为: /home/pl/work/python-workspance/FAST_pulsar_search_pl/03_barydata\n",
      "程序运行路径为: /home/pl/work/python-workspance/FAST_pulsar_search_pl/03_barydata\n",
      "程序运行路径为: /home/pl/work/python-workspance/FAST_pulsar_search_pl/03_barydata\n",
      "程序运行路径为: /home/pl/work/python-workspance/FAST_pulsar_search_pl/03_barydata\n",
      "日志文件为：/home/pl/work/python-workspance/FAST_pulsar_search_pl/LOG/04_FFT/LOG_04-FFT-32.10.txt\n",
      "日志文件为：/home/pl/work/python-workspance/FAST_pulsar_search_pl/LOG/04_FFT/LOG_04-FFT-32.09.txt\n",
      "日志文件为：/home/pl/work/python-workspance/FAST_pulsar_search_pl/LOG/04_FFT/LOG_04-FFT-32.11.txt\n",
      "日志文件为：/home/pl/work/python-workspance/FAST_pulsar_search_pl/LOG/04_FFT/LOG_04-FFT-32.08.txt\n",
      "程序运行路径为: /home/pl/work/python-workspance/FAST_pulsar_search_pl/03_barydata\n",
      "程序运行路径为: /home/pl/work/python-workspance/FAST_pulsar_search_pl/03_barydata\n",
      "日志文件为：/home/pl/work/python-workspance/FAST_pulsar_search_pl/LOG/04_FFT/LOG_04-FFT-32.12.txt\n",
      "日志文件为：/home/pl/work/python-workspance/FAST_pulsar_search_pl/LOG/04_FFT/LOG_04-FFT-32.13.txt\n",
      "程序运行路径为: /home/pl/work/python-workspance/FAST_pulsar_search_pl/03_barydata\n",
      "程序运行路径为: /home/pl/work/python-workspance/FAST_pulsar_search_pl/03_barydata\n",
      "日志文件为：/home/pl/work/python-workspance/FAST_pulsar_search_pl/LOG/04_FFT/LOG_04-FFT-32.14.txt\n",
      "日志文件为：/home/pl/work/python-workspance/FAST_pulsar_search_pl/LOG/04_FFT/LOG_04-FFT-32.15.txt\n",
      "运行命令：\u001b[96mrealfft  /home/pl/work/python-workspance/FAST_pulsar_search_pl/03_barydata/j1631_FAST_pulsar_search_pl_bary_DM32.11.dat\u001b[0m\n",
      "运行命令：\u001b[96mrealfft  /home/pl/work/python-workspance/FAST_pulsar_search_pl/03_barydata/j1631_FAST_pulsar_search_pl_bary_DM32.08.dat\u001b[0m\n",
      "\u001b[94m运行时间： 0.0秒\u001b[0m\n",
      "\u001b[94m运行时间： 0.0秒\u001b[0m\n",
      "运行命令：\u001b[96mrealfft  /home/pl/work/python-workspance/FAST_pulsar_search_pl/03_barydata/j1631_FAST_pulsar_search_pl_bary_DM32.10.dat\u001b[0m\n",
      "\u001b[94m运行时间： 0.0秒\u001b[0m\n",
      "运行命令：\u001b[96mrealfft  /home/pl/work/python-workspance/FAST_pulsar_search_pl/03_barydata/j1631_FAST_pulsar_search_pl_bary_DM32.09.dat\u001b[0m\n",
      "\u001b[94m运行时间： 0.0秒\u001b[0m\n",
      "运行命令：\u001b[96mrealfft  /home/pl/work/python-workspance/FAST_pulsar_search_pl/03_barydata/j1631_FAST_pulsar_search_pl_bary_DM32.13.dat\u001b[0m\n",
      "运行命令：\u001b[96mrealfft  /home/pl/work/python-workspance/FAST_pulsar_search_pl/03_barydata/j1631_FAST_pulsar_search_pl_bary_DM32.12.dat\u001b[0m\n",
      "运行命令：\u001b[96mrealfft  /home/pl/work/python-workspance/FAST_pulsar_search_pl/03_barydata/j1631_FAST_pulsar_search_pl_bary_DM32.15.dat\u001b[0m\n",
      "运行命令：\u001b[96mrealfft  /home/pl/work/python-workspance/FAST_pulsar_search_pl/03_barydata/j1631_FAST_pulsar_search_pl_bary_DM32.14.dat\u001b[0m\n",
      "\u001b[94m运行时间： 0.0秒\u001b[0m\n",
      "\u001b[94m运行时间： 0.0秒\u001b[0m\n",
      "\u001b[94m运行时间： 0.0秒\u001b[0m\n",
      "\u001b[94m运行时间： 0.0秒\u001b[0m\n"
     ]
    },
    {
     "name": "stderr",
     "output_type": "stream",
     "text": [
      "realfft-8核:   3%|▎         | 9/300 [00:04<01:56,  2.49cmd/s]"
     ]
    },
    {
     "name": "stdout",
     "output_type": "stream",
     "text": [
      "程序运行路径为: /home/pl/work/python-workspance/FAST_pulsar_search_pl/03_barydata\n",
      "程序运行路径为: /home/pl/work/python-workspance/FAST_pulsar_search_pl/03_barydata\n",
      "日志文件为：/home/pl/work/python-workspance/FAST_pulsar_search_pl/LOG/04_FFT/LOG_04-FFT-32.16.txt\n",
      "程序运行路径为: /home/pl/work/python-workspance/FAST_pulsar_search_pl/03_barydata\n",
      "日志文件为：/home/pl/work/python-workspance/FAST_pulsar_search_pl/LOG/04_FFT/LOG_04-FFT-32.17.txt\n",
      "日志文件为：/home/pl/work/python-workspance/FAST_pulsar_search_pl/LOG/04_FFT/LOG_04-FFT-32.18.txt\n",
      "程序运行路径为: /home/pl/work/python-workspance/FAST_pulsar_search_pl/03_barydata\n",
      "程序运行路径为: /home/pl/work/python-workspance/FAST_pulsar_search_pl/03_barydata\n",
      "日志文件为：/home/pl/work/python-workspance/FAST_pulsar_search_pl/LOG/04_FFT/LOG_04-FFT-32.20.txt\n",
      "日志文件为：/home/pl/work/python-workspance/FAST_pulsar_search_pl/LOG/04_FFT/LOG_04-FFT-32.21.txt\n",
      "程序运行路径为: /home/pl/work/python-workspance/FAST_pulsar_search_pl/03_barydata\n",
      "程序运行路径为: /home/pl/work/python-workspance/FAST_pulsar_search_pl/03_barydata\n",
      "日志文件为：/home/pl/work/python-workspance/FAST_pulsar_search_pl/LOG/04_FFT/LOG_04-FFT-32.22.txt\n",
      "程序运行路径为: /home/pl/work/python-workspance/FAST_pulsar_search_pl/03_barydata\n",
      "日志文件为：/home/pl/work/python-workspance/FAST_pulsar_search_pl/LOG/04_FFT/LOG_04-FFT-32.19.txt\n",
      "日志文件为：/home/pl/work/python-workspance/FAST_pulsar_search_pl/LOG/04_FFT/LOG_04-FFT-32.23.txt\n",
      "运行命令：\u001b[96mrealfft  /home/pl/work/python-workspance/FAST_pulsar_search_pl/03_barydata/j1631_FAST_pulsar_search_pl_bary_DM32.22.dat\u001b[0m\n",
      "运行命令：\u001b[96mrealfft  /home/pl/work/python-workspance/FAST_pulsar_search_pl/03_barydata/j1631_FAST_pulsar_search_pl_bary_DM32.17.dat\u001b[0m\n",
      "\u001b[94m运行时间： 0.0秒\u001b[0m\n",
      "运行命令：\u001b[96mrealfft  /home/pl/work/python-workspance/FAST_pulsar_search_pl/03_barydata/j1631_FAST_pulsar_search_pl_bary_DM32.16.dat\u001b[0m\n",
      "\u001b[94m运行时间： 0.0秒\u001b[0m\n",
      "\u001b[94m运行时间： 0.0秒\u001b[0m\n",
      "运行命令：\u001b[96mrealfft  /home/pl/work/python-workspance/FAST_pulsar_search_pl/03_barydata/j1631_FAST_pulsar_search_pl_bary_DM32.19.dat\u001b[0m\n",
      "运行命令：\u001b[96mrealfft  /home/pl/work/python-workspance/FAST_pulsar_search_pl/03_barydata/j1631_FAST_pulsar_search_pl_bary_DM32.20.dat\u001b[0m\n",
      "运行命令：\u001b[96mrealfft  /home/pl/work/python-workspance/FAST_pulsar_search_pl/03_barydata/j1631_FAST_pulsar_search_pl_bary_DM32.21.dat\u001b[0m\n",
      "\u001b[94m运行时间： 0.0秒\u001b[0m\n",
      "运行命令：\u001b[96mrealfft  /home/pl/work/python-workspance/FAST_pulsar_search_pl/03_barydata/j1631_FAST_pulsar_search_pl_bary_DM32.18.dat\u001b[0m\n",
      "运行命令：\u001b[96mrealfft  /home/pl/work/python-workspance/FAST_pulsar_search_pl/03_barydata/j1631_FAST_pulsar_search_pl_bary_DM32.23.dat\u001b[0m\n",
      "\u001b[94m运行时间： 0.0秒\u001b[0m\n",
      "\u001b[94m运行时间： 0.0秒\u001b[0m\n",
      "\u001b[94m运行时间： 0.0秒\u001b[0m\n",
      "\u001b[94m运行时间： 0.0秒\u001b[0m\n"
     ]
    },
    {
     "name": "stderr",
     "output_type": "stream",
     "text": [
      "realfft-8核:   6%|▌         | 17/300 [00:06<01:30,  3.13cmd/s]"
     ]
    },
    {
     "name": "stdout",
     "output_type": "stream",
     "text": [
      "程序运行路径为: /home/pl/work/python-workspance/FAST_pulsar_search_pl/03_barydata\n",
      "日志文件为：/home/pl/work/python-workspance/FAST_pulsar_search_pl/LOG/04_FFT/LOG_04-FFT-32.24.txt\n",
      "程序运行路径为: /home/pl/work/python-workspance/FAST_pulsar_search_pl/03_barydata\n",
      "程序运行路径为: /home/pl/work/python-workspance/FAST_pulsar_search_pl/03_barydata\n",
      "日志文件为：/home/pl/work/python-workspance/FAST_pulsar_search_pl/LOG/04_FFT/LOG_04-FFT-32.26.txt\n",
      "日志文件为：/home/pl/work/python-workspance/FAST_pulsar_search_pl/LOG/04_FFT/LOG_04-FFT-32.25.txt\n",
      "程序运行路径为: /home/pl/work/python-workspance/FAST_pulsar_search_pl/03_barydata\n",
      "程序运行路径为: /home/pl/work/python-workspance/FAST_pulsar_search_pl/03_barydata\n",
      "程序运行路径为: /home/pl/work/python-workspance/FAST_pulsar_search_pl/03_barydata\n",
      "程序运行路径为: /home/pl/work/python-workspance/FAST_pulsar_search_pl/03_barydata\n",
      "程序运行路径为: /home/pl/work/python-workspance/FAST_pulsar_search_pl/03_barydata\n",
      "日志文件为：/home/pl/work/python-workspance/FAST_pulsar_search_pl/LOG/04_FFT/LOG_04-FFT-32.27.txt\n",
      "日志文件为：/home/pl/work/python-workspance/FAST_pulsar_search_pl/LOG/04_FFT/LOG_04-FFT-32.30.txt\n",
      "日志文件为：/home/pl/work/python-workspance/FAST_pulsar_search_pl/LOG/04_FFT/LOG_04-FFT-32.28.txt\n",
      "日志文件为：/home/pl/work/python-workspance/FAST_pulsar_search_pl/LOG/04_FFT/LOG_04-FFT-32.29.txt\n",
      "日志文件为：/home/pl/work/python-workspance/FAST_pulsar_search_pl/LOG/04_FFT/LOG_04-FFT-32.31.txt\n",
      "运行命令：\u001b[96mrealfft  /home/pl/work/python-workspance/FAST_pulsar_search_pl/03_barydata/j1631_FAST_pulsar_search_pl_bary_DM32.24.dat\u001b[0m\n",
      "\u001b[94m运行时间： 0.0秒\u001b[0m\n",
      "运行命令：\u001b[96mrealfft  /home/pl/work/python-workspance/FAST_pulsar_search_pl/03_barydata/j1631_FAST_pulsar_search_pl_bary_DM32.26.dat\u001b[0m\n",
      "\u001b[94m运行时间： 0.0秒\u001b[0m\n",
      "运行命令：\u001b[96mrealfft  /home/pl/work/python-workspance/FAST_pulsar_search_pl/03_barydata/j1631_FAST_pulsar_search_pl_bary_DM32.25.dat\u001b[0m\n",
      "\u001b[94m运行时间： 0.0秒\u001b[0m\n",
      "运行命令：\u001b[96mrealfft  /home/pl/work/python-workspance/FAST_pulsar_search_pl/03_barydata/j1631_FAST_pulsar_search_pl_bary_DM32.29.dat\u001b[0m\n",
      "\u001b[94m运行时间： 0.0秒\u001b[0m\n",
      "运行命令：\u001b[96mrealfft  /home/pl/work/python-workspance/FAST_pulsar_search_pl/03_barydata/j1631_FAST_pulsar_search_pl_bary_DM32.30.dat\u001b[0m\n",
      "运行命令：\u001b[96mrealfft  /home/pl/work/python-workspance/FAST_pulsar_search_pl/03_barydata/j1631_FAST_pulsar_search_pl_bary_DM32.31.dat\u001b[0m\n",
      "\u001b[94m运行时间： 0.0秒\u001b[0m\n",
      "运行命令：\u001b[96mrealfft  /home/pl/work/python-workspance/FAST_pulsar_search_pl/03_barydata/j1631_FAST_pulsar_search_pl_bary_DM32.27.dat\u001b[0m\n",
      "\u001b[94m运行时间： 0.0秒\u001b[0m\n",
      "运行命令：\u001b[96mrealfft  /home/pl/work/python-workspance/FAST_pulsar_search_pl/03_barydata/j1631_FAST_pulsar_search_pl_bary_DM32.28.dat\u001b[0m\n",
      "\u001b[94m运行时间： 0.0秒\u001b[0m\n",
      "\u001b[94m运行时间： 0.0秒\u001b[0m\n"
     ]
    },
    {
     "name": "stderr",
     "output_type": "stream",
     "text": [
      "realfft-8核:   8%|▊         | 25/300 [00:08<01:19,  3.45cmd/s]"
     ]
    },
    {
     "name": "stdout",
     "output_type": "stream",
     "text": [
      "程序运行路径为: /home/pl/work/python-workspance/FAST_pulsar_search_pl/03_barydata\n",
      "日志文件为：/home/pl/work/python-workspance/FAST_pulsar_search_pl/LOG/04_FFT/LOG_04-FFT-32.32.txt\n",
      "程序运行路径为: /home/pl/work/python-workspance/FAST_pulsar_search_pl/03_barydata\n",
      "日志文件为：/home/pl/work/python-workspance/FAST_pulsar_search_pl/LOG/04_FFT/LOG_04-FFT-32.33.txt\n",
      "运行命令：\u001b[96mrealfft  /home/pl/work/python-workspance/FAST_pulsar_search_pl/03_barydata/j1631_FAST_pulsar_search_pl_bary_DM32.32.dat\u001b[0m\n",
      "程序运行路径为: /home/pl/work/python-workspance/FAST_pulsar_search_pl/03_barydata\n",
      "\u001b[94m运行时间： 0.0秒\u001b[0m\n",
      "日志文件为：/home/pl/work/python-workspance/FAST_pulsar_search_pl/LOG/04_FFT/LOG_04-FFT-32.34.txt\n",
      "程序运行路径为: /home/pl/work/python-workspance/FAST_pulsar_search_pl/03_barydata\n",
      "日志文件为：/home/pl/work/python-workspance/FAST_pulsar_search_pl/LOG/04_FFT/LOG_04-FFT-32.35.txt\n",
      "程序运行路径为: /home/pl/work/python-workspance/FAST_pulsar_search_pl/03_barydata\n",
      "程序运行路径为: /home/pl/work/python-workspance/FAST_pulsar_search_pl/03_barydata\n",
      "日志文件为：/home/pl/work/python-workspance/FAST_pulsar_search_pl/LOG/04_FFT/LOG_04-FFT-32.36.txt\n",
      "日志文件为：/home/pl/work/python-workspance/FAST_pulsar_search_pl/LOG/04_FFT/LOG_04-FFT-32.37.txt\n",
      "程序运行路径为: /home/pl/work/python-workspance/FAST_pulsar_search_pl/03_barydata\n",
      "程序运行路径为: /home/pl/work/python-workspance/FAST_pulsar_search_pl/03_barydata\n",
      "日志文件为：/home/pl/work/python-workspance/FAST_pulsar_search_pl/LOG/04_FFT/LOG_04-FFT-32.38.txt\n",
      "日志文件为：/home/pl/work/python-workspance/FAST_pulsar_search_pl/LOG/04_FFT/LOG_04-FFT-32.39.txt\n",
      "运行命令：\u001b[96mrealfft  /home/pl/work/python-workspance/FAST_pulsar_search_pl/03_barydata/j1631_FAST_pulsar_search_pl_bary_DM32.33.dat\u001b[0m\n",
      "运行命令：\u001b[96mrealfft  /home/pl/work/python-workspance/FAST_pulsar_search_pl/03_barydata/j1631_FAST_pulsar_search_pl_bary_DM32.34.dat\u001b[0m\n",
      "\u001b[94m运行时间： 0.0秒\u001b[0m\n",
      "\u001b[94m运行时间： 0.0秒\u001b[0m\n",
      "运行命令：\u001b[96mrealfft  /home/pl/work/python-workspance/FAST_pulsar_search_pl/03_barydata/j1631_FAST_pulsar_search_pl_bary_DM32.35.dat\u001b[0m\n",
      "\u001b[94m运行时间： 0.0秒\u001b[0m\n",
      "运行命令：\u001b[96mrealfft  /home/pl/work/python-workspance/FAST_pulsar_search_pl/03_barydata/j1631_FAST_pulsar_search_pl_bary_DM32.37.dat\u001b[0m\n",
      "运行命令：\u001b[96mrealfft  /home/pl/work/python-workspance/FAST_pulsar_search_pl/03_barydata/j1631_FAST_pulsar_search_pl_bary_DM32.39.dat\u001b[0m\n",
      "运行命令：\u001b[96mrealfft  /home/pl/work/python-workspance/FAST_pulsar_search_pl/03_barydata/j1631_FAST_pulsar_search_pl_bary_DM32.36.dat\u001b[0m\n",
      "\u001b[94m运行时间： 0.0秒\u001b[0m\n",
      "\u001b[94m运行时间： 0.0秒\u001b[0m\n",
      "\u001b[94m运行时间： 0.0秒\u001b[0m\n",
      "运行命令：\u001b[96mrealfft  /home/pl/work/python-workspance/FAST_pulsar_search_pl/03_barydata/j1631_FAST_pulsar_search_pl_bary_DM32.38.dat\u001b[0m\n",
      "\u001b[94m运行时间： 0.0秒\u001b[0m\n"
     ]
    },
    {
     "name": "stderr",
     "output_type": "stream",
     "text": [
      "realfft-8核:  11%|█         | 33/300 [00:10<01:13,  3.62cmd/s]"
     ]
    },
    {
     "name": "stdout",
     "output_type": "stream",
     "text": [
      "程序运行路径为: /home/pl/work/python-workspance/FAST_pulsar_search_pl/03_barydata\n",
      "日志文件为：/home/pl/work/python-workspance/FAST_pulsar_search_pl/LOG/04_FFT/LOG_04-FFT-32.40.txt\n",
      "运行命令：\u001b[96mrealfft  /home/pl/work/python-workspance/FAST_pulsar_search_pl/03_barydata/j1631_FAST_pulsar_search_pl_bary_DM32.40.dat\u001b[0m\n",
      "\u001b[94m运行时间： 0.0秒\u001b[0m\n",
      "程序运行路径为: /home/pl/work/python-workspance/FAST_pulsar_search_pl/03_barydata\n",
      "日志文件为：/home/pl/work/python-workspance/FAST_pulsar_search_pl/LOG/04_FFT/LOG_04-FFT-32.41.txt\n",
      "程序运行路径为: /home/pl/work/python-workspance/FAST_pulsar_search_pl/03_barydata\n",
      "日志文件为：/home/pl/work/python-workspance/FAST_pulsar_search_pl/LOG/04_FFT/LOG_04-FFT-32.42.txt\n",
      "程序运行路径为: /home/pl/work/python-workspance/FAST_pulsar_search_pl/03_barydata\n",
      "日志文件为：/home/pl/work/python-workspance/FAST_pulsar_search_pl/LOG/04_FFT/LOG_04-FFT-32.43.txt\n",
      "程序运行路径为: /home/pl/work/python-workspance/FAST_pulsar_search_pl/03_barydata\n",
      "日志文件为：/home/pl/work/python-workspance/FAST_pulsar_search_pl/LOG/04_FFT/LOG_04-FFT-32.44.txt\n",
      "程序运行路径为: /home/pl/work/python-workspance/FAST_pulsar_search_pl/03_barydata\n",
      "程序运行路径为: /home/pl/work/python-workspance/FAST_pulsar_search_pl/03_barydata\n",
      "日志文件为：/home/pl/work/python-workspance/FAST_pulsar_search_pl/LOG/04_FFT/LOG_04-FFT-32.45.txt\n",
      "运行命令：\u001b[96mrealfft  /home/pl/work/python-workspance/FAST_pulsar_search_pl/03_barydata/j1631_FAST_pulsar_search_pl_bary_DM32.41.dat\u001b[0m\n",
      "程序运行路径为: /home/pl/work/python-workspance/FAST_pulsar_search_pl/03_barydata\n",
      "日志文件为：/home/pl/work/python-workspance/FAST_pulsar_search_pl/LOG/04_FFT/LOG_04-FFT-32.46.txt\n",
      "\u001b[94m运行时间： 0.0秒\u001b[0m\n",
      "运行命令：\u001b[96mrealfft  /home/pl/work/python-workspance/FAST_pulsar_search_pl/03_barydata/j1631_FAST_pulsar_search_pl_bary_DM32.43.dat\u001b[0m\n",
      "日志文件为：/home/pl/work/python-workspance/FAST_pulsar_search_pl/LOG/04_FFT/LOG_04-FFT-32.47.txt\n",
      "\u001b[94m运行时间： 0.0秒\u001b[0m\n",
      "运行命令：\u001b[96mrealfft  /home/pl/work/python-workspance/FAST_pulsar_search_pl/03_barydata/j1631_FAST_pulsar_search_pl_bary_DM32.42.dat\u001b[0m\n",
      "\u001b[94m运行时间： 0.0秒\u001b[0m\n",
      "运行命令：\u001b[96mrealfft  /home/pl/work/python-workspance/FAST_pulsar_search_pl/03_barydata/j1631_FAST_pulsar_search_pl_bary_DM32.44.dat\u001b[0m\n",
      "\u001b[94m运行时间： 0.0秒\u001b[0m\n",
      "运行命令：\u001b[96mrealfft  /home/pl/work/python-workspance/FAST_pulsar_search_pl/03_barydata/j1631_FAST_pulsar_search_pl_bary_DM32.46.dat\u001b[0m\n",
      "\u001b[94m运行时间： 0.0秒\u001b[0m\n",
      "运行命令：\u001b[96mrealfft  /home/pl/work/python-workspance/FAST_pulsar_search_pl/03_barydata/j1631_FAST_pulsar_search_pl_bary_DM32.45.dat\u001b[0m\n",
      "\u001b[94m运行时间： 0.0秒\u001b[0m\n",
      "运行命令：\u001b[96mrealfft  /home/pl/work/python-workspance/FAST_pulsar_search_pl/03_barydata/j1631_FAST_pulsar_search_pl_bary_DM32.47.dat\u001b[0m\n",
      "\u001b[94m运行时间： 0.0秒\u001b[0m\n"
     ]
    },
    {
     "name": "stderr",
     "output_type": "stream",
     "text": [
      "realfft-8核:  14%|█▎        | 41/300 [00:12<01:09,  3.74cmd/s]"
     ]
    },
    {
     "name": "stdout",
     "output_type": "stream",
     "text": [
      "程序运行路径为: /home/pl/work/python-workspance/FAST_pulsar_search_pl/03_barydata\n",
      "日志文件为：/home/pl/work/python-workspance/FAST_pulsar_search_pl/LOG/04_FFT/LOG_04-FFT-32.48.txt\n",
      "程序运行路径为: /home/pl/work/python-workspance/FAST_pulsar_search_pl/03_barydata\n",
      "日志文件为：/home/pl/work/python-workspance/FAST_pulsar_search_pl/LOG/04_FFT/LOG_04-FFT-32.49.txt\n",
      "程序运行路径为: /home/pl/work/python-workspance/FAST_pulsar_search_pl/03_barydata\n",
      "程序运行路径为: /home/pl/work/python-workspance/FAST_pulsar_search_pl/03_barydata\n",
      "运行命令：\u001b[96mrealfft  /home/pl/work/python-workspance/FAST_pulsar_search_pl/03_barydata/j1631_FAST_pulsar_search_pl_bary_DM32.48.dat\u001b[0m\n",
      "日志文件为：/home/pl/work/python-workspance/FAST_pulsar_search_pl/LOG/04_FFT/LOG_04-FFT-32.51.txt\n",
      "日志文件为：/home/pl/work/python-workspance/FAST_pulsar_search_pl/LOG/04_FFT/LOG_04-FFT-32.50.txt\n",
      "\u001b[94m运行时间： 0.0秒\u001b[0m\n",
      "程序运行路径为: /home/pl/work/python-workspance/FAST_pulsar_search_pl/03_barydata\n",
      "日志文件为：/home/pl/work/python-workspance/FAST_pulsar_search_pl/LOG/04_FFT/LOG_04-FFT-32.52.txt\n",
      "程序运行路径为: /home/pl/work/python-workspance/FAST_pulsar_search_pl/03_barydata\n",
      "程序运行路径为: /home/pl/work/python-workspance/FAST_pulsar_search_pl/03_barydata\n",
      "日志文件为：/home/pl/work/python-workspance/FAST_pulsar_search_pl/LOG/04_FFT/LOG_04-FFT-32.53.txt\n",
      "日志文件为：/home/pl/work/python-workspance/FAST_pulsar_search_pl/LOG/04_FFT/LOG_04-FFT-32.54.txt\n",
      "运行命令：\u001b[96mrealfft  /home/pl/work/python-workspance/FAST_pulsar_search_pl/03_barydata/j1631_FAST_pulsar_search_pl_bary_DM32.49.dat\u001b[0m\n",
      "\u001b[94m运行时间： 0.0秒\u001b[0m\n",
      "运行命令：\u001b[96mrealfft  /home/pl/work/python-workspance/FAST_pulsar_search_pl/03_barydata/j1631_FAST_pulsar_search_pl_bary_DM32.51.dat\u001b[0m\n",
      "\u001b[94m运行时间： 0.0秒\u001b[0m\n",
      "程序运行路径为: /home/pl/work/python-workspance/FAST_pulsar_search_pl/03_barydata\n",
      "日志文件为：/home/pl/work/python-workspance/FAST_pulsar_search_pl/LOG/04_FFT/LOG_04-FFT-32.55.txt\n",
      "运行命令：\u001b[96mrealfft  /home/pl/work/python-workspance/FAST_pulsar_search_pl/03_barydata/j1631_FAST_pulsar_search_pl_bary_DM32.50.dat\u001b[0m\n",
      "运行命令：\u001b[96mrealfft  /home/pl/work/python-workspance/FAST_pulsar_search_pl/03_barydata/j1631_FAST_pulsar_search_pl_bary_DM32.54.dat\u001b[0m\n",
      "运行命令：\u001b[96mrealfft  /home/pl/work/python-workspance/FAST_pulsar_search_pl/03_barydata/j1631_FAST_pulsar_search_pl_bary_DM32.52.dat\u001b[0m\n",
      "\u001b[94m运行时间： 0.0秒\u001b[0m\n",
      "\u001b[94m运行时间： 0.0秒\u001b[0m\n",
      "\u001b[94m运行时间： 0.0秒\u001b[0m\n",
      "运行命令：\u001b[96mrealfft  /home/pl/work/python-workspance/FAST_pulsar_search_pl/03_barydata/j1631_FAST_pulsar_search_pl_bary_DM32.53.dat\u001b[0m\n",
      "\u001b[94m运行时间： 0.0秒\u001b[0m\n",
      "运行命令：\u001b[96mrealfft  /home/pl/work/python-workspance/FAST_pulsar_search_pl/03_barydata/j1631_FAST_pulsar_search_pl_bary_DM32.55.dat\u001b[0m\n",
      "\u001b[94m运行时间： 0.0秒\u001b[0m\n"
     ]
    },
    {
     "name": "stderr",
     "output_type": "stream",
     "text": [
      "realfft-8核:  16%|█▋        | 49/300 [00:14<01:06,  3.80cmd/s]"
     ]
    },
    {
     "name": "stdout",
     "output_type": "stream",
     "text": [
      "程序运行路径为: /home/pl/work/python-workspance/FAST_pulsar_search_pl/03_barydata\n",
      "日志文件为：/home/pl/work/python-workspance/FAST_pulsar_search_pl/LOG/04_FFT/LOG_04-FFT-32.56.txt\n",
      "程序运行路径为: /home/pl/work/python-workspance/FAST_pulsar_search_pl/03_barydata\n",
      "程序运行路径为: /home/pl/work/python-workspance/FAST_pulsar_search_pl/03_barydata\n",
      "日志文件为：/home/pl/work/python-workspance/FAST_pulsar_search_pl/LOG/04_FFT/LOG_04-FFT-32.58.txt\n",
      "日志文件为：/home/pl/work/python-workspance/FAST_pulsar_search_pl/LOG/04_FFT/LOG_04-FFT-32.57.txt\n",
      "运行命令：\u001b[96mrealfft  /home/pl/work/python-workspance/FAST_pulsar_search_pl/03_barydata/j1631_FAST_pulsar_search_pl_bary_DM32.56.dat\u001b[0m\n",
      "\u001b[94m运行时间： 0.0秒\u001b[0m\n",
      "程序运行路径为: /home/pl/work/python-workspance/FAST_pulsar_search_pl/03_barydata\n",
      "日志文件为：/home/pl/work/python-workspance/FAST_pulsar_search_pl/LOG/04_FFT/LOG_04-FFT-32.59.txt\n",
      "程序运行路径为: /home/pl/work/python-workspance/FAST_pulsar_search_pl/03_barydata\n",
      "程序运行路径为: /home/pl/work/python-workspance/FAST_pulsar_search_pl/03_barydata\n",
      "运行命令：\u001b[96mrealfft  /home/pl/work/python-workspance/FAST_pulsar_search_pl/03_barydata/j1631_FAST_pulsar_search_pl_bary_DM32.58.dat\u001b[0m\n",
      "日志文件为：/home/pl/work/python-workspance/FAST_pulsar_search_pl/LOG/04_FFT/LOG_04-FFT-32.60.txt\n",
      "运行命令：\u001b[96mrealfft  /home/pl/work/python-workspance/FAST_pulsar_search_pl/03_barydata/j1631_FAST_pulsar_search_pl_bary_DM32.57.dat\u001b[0m\n",
      "日志文件为：/home/pl/work/python-workspance/FAST_pulsar_search_pl/LOG/04_FFT/LOG_04-FFT-32.61.txt\n",
      "\u001b[94m运行时间： 0.0秒\u001b[0m\n",
      "\u001b[94m运行时间： 0.0秒\u001b[0m\n",
      "程序运行路径为: /home/pl/work/python-workspance/FAST_pulsar_search_pl/03_barydata\n",
      "日志文件为：/home/pl/work/python-workspance/FAST_pulsar_search_pl/LOG/04_FFT/LOG_04-FFT-32.62.txt\n",
      "运行命令：\u001b[96mrealfft  /home/pl/work/python-workspance/FAST_pulsar_search_pl/03_barydata/j1631_FAST_pulsar_search_pl_bary_DM32.59.dat\u001b[0m\n",
      "程序运行路径为: /home/pl/work/python-workspance/FAST_pulsar_search_pl/03_barydata\n",
      "日志文件为：/home/pl/work/python-workspance/FAST_pulsar_search_pl/LOG/04_FFT/LOG_04-FFT-32.63.txt\n",
      "\u001b[94m运行时间： 0.0秒\u001b[0m\n",
      "运行命令：\u001b[96mrealfft  /home/pl/work/python-workspance/FAST_pulsar_search_pl/03_barydata/j1631_FAST_pulsar_search_pl_bary_DM32.61.dat\u001b[0m\n",
      "\u001b[94m运行时间： 0.0秒\u001b[0m\n",
      "运行命令：\u001b[96mrealfft  /home/pl/work/python-workspance/FAST_pulsar_search_pl/03_barydata/j1631_FAST_pulsar_search_pl_bary_DM32.60.dat\u001b[0m\n",
      "运行命令：\u001b[96mrealfft  /home/pl/work/python-workspance/FAST_pulsar_search_pl/03_barydata/j1631_FAST_pulsar_search_pl_bary_DM32.62.dat\u001b[0m\n",
      "\u001b[94m运行时间： 0.0秒\u001b[0m\n",
      "\u001b[94m运行时间： 0.0秒\u001b[0m\n",
      "运行命令：\u001b[96mrealfft  /home/pl/work/python-workspance/FAST_pulsar_search_pl/03_barydata/j1631_FAST_pulsar_search_pl_bary_DM32.63.dat\u001b[0m\n",
      "\u001b[94m运行时间： 0.0秒\u001b[0m\n"
     ]
    },
    {
     "name": "stderr",
     "output_type": "stream",
     "text": [
      "realfft-8核:  19%|█▉        | 57/300 [00:16<01:03,  3.85cmd/s]"
     ]
    },
    {
     "name": "stdout",
     "output_type": "stream",
     "text": [
      "程序运行路径为: /home/pl/work/python-workspance/FAST_pulsar_search_pl/03_barydata\n",
      "日志文件为：/home/pl/work/python-workspance/FAST_pulsar_search_pl/LOG/04_FFT/LOG_04-FFT-32.64.txt\n",
      "程序运行路径为: /home/pl/work/python-workspance/FAST_pulsar_search_pl/03_barydata\n",
      "程序运行路径为: /home/pl/work/python-workspance/FAST_pulsar_search_pl/03_barydata\n",
      "日志文件为：/home/pl/work/python-workspance/FAST_pulsar_search_pl/LOG/04_FFT/LOG_04-FFT-32.65.txt\n",
      "日志文件为：/home/pl/work/python-workspance/FAST_pulsar_search_pl/LOG/04_FFT/LOG_04-FFT-32.66.txt\n",
      "程序运行路径为: /home/pl/work/python-workspance/FAST_pulsar_search_pl/03_barydata\n",
      "日志文件为：/home/pl/work/python-workspance/FAST_pulsar_search_pl/LOG/04_FFT/LOG_04-FFT-32.67.txt\n",
      "运行命令：\u001b[96mrealfft  /home/pl/work/python-workspance/FAST_pulsar_search_pl/03_barydata/j1631_FAST_pulsar_search_pl_bary_DM32.66.dat\u001b[0m\n",
      "程序运行路径为: /home/pl/work/python-workspance/FAST_pulsar_search_pl/03_barydata\n",
      "运行命令：\u001b[96mrealfft  /home/pl/work/python-workspance/FAST_pulsar_search_pl/03_barydata/j1631_FAST_pulsar_search_pl_bary_DM32.65.dat\u001b[0m\n",
      "运行命令：\u001b[96mrealfft  /home/pl/work/python-workspance/FAST_pulsar_search_pl/03_barydata/j1631_FAST_pulsar_search_pl_bary_DM32.64.dat\u001b[0m\n",
      "\u001b[94m运行时间： 0.0秒\u001b[0m\n",
      "\u001b[94m运行时间： 0.0秒\u001b[0m\n",
      "\u001b[94m运行时间： 0.0秒\u001b[0m\n",
      "日志文件为：/home/pl/work/python-workspance/FAST_pulsar_search_pl/LOG/04_FFT/LOG_04-FFT-32.68.txt\n",
      "程序运行路径为: /home/pl/work/python-workspance/FAST_pulsar_search_pl/03_barydata\n",
      "程序运行路径为: /home/pl/work/python-workspance/FAST_pulsar_search_pl/03_barydata\n",
      "日志文件为：/home/pl/work/python-workspance/FAST_pulsar_search_pl/LOG/04_FFT/LOG_04-FFT-32.69.txt\n",
      "日志文件为：/home/pl/work/python-workspance/FAST_pulsar_search_pl/LOG/04_FFT/LOG_04-FFT-32.70.txt\n",
      "程序运行路径为: /home/pl/work/python-workspance/FAST_pulsar_search_pl/03_barydata\n",
      "运行命令：\u001b[96mrealfft  /home/pl/work/python-workspance/FAST_pulsar_search_pl/03_barydata/j1631_FAST_pulsar_search_pl_bary_DM32.68.dat\u001b[0m\n",
      "运行命令：\u001b[96mrealfft  /home/pl/work/python-workspance/FAST_pulsar_search_pl/03_barydata/j1631_FAST_pulsar_search_pl_bary_DM32.67.dat\u001b[0m\n",
      "日志文件为：/home/pl/work/python-workspance/FAST_pulsar_search_pl/LOG/04_FFT/LOG_04-FFT-32.71.txt\n",
      "\u001b[94m运行时间： 0.0秒\u001b[0m\n",
      "\u001b[94m运行时间： 0.0秒\u001b[0m\n",
      "运行命令：\u001b[96mrealfft  /home/pl/work/python-workspance/FAST_pulsar_search_pl/03_barydata/j1631_FAST_pulsar_search_pl_bary_DM32.70.dat\u001b[0m\n",
      "\u001b[94m运行时间： 0.0秒\u001b[0m\n",
      "运行命令：\u001b[96mrealfft  /home/pl/work/python-workspance/FAST_pulsar_search_pl/03_barydata/j1631_FAST_pulsar_search_pl_bary_DM32.69.dat\u001b[0m\n",
      "\u001b[94m运行时间： 0.0秒\u001b[0m\n",
      "运行命令：\u001b[96mrealfft  /home/pl/work/python-workspance/FAST_pulsar_search_pl/03_barydata/j1631_FAST_pulsar_search_pl_bary_DM32.71.dat\u001b[0m\n",
      "\u001b[94m运行时间： 0.0秒\u001b[0m\n"
     ]
    },
    {
     "name": "stderr",
     "output_type": "stream",
     "text": [
      "realfft-8核:  22%|██▏       | 65/300 [00:18<01:00,  3.87cmd/s]"
     ]
    },
    {
     "name": "stdout",
     "output_type": "stream",
     "text": [
      "程序运行路径为: /home/pl/work/python-workspance/FAST_pulsar_search_pl/03_barydata\n",
      "日志文件为：/home/pl/work/python-workspance/FAST_pulsar_search_pl/LOG/04_FFT/LOG_04-FFT-32.72.txt\n",
      "程序运行路径为: /home/pl/work/python-workspance/FAST_pulsar_search_pl/03_barydata\n",
      "程序运行路径为: /home/pl/work/python-workspance/FAST_pulsar_search_pl/03_barydata\n",
      "日志文件为：/home/pl/work/python-workspance/FAST_pulsar_search_pl/LOG/04_FFT/LOG_04-FFT-32.73.txt\n",
      "日志文件为：/home/pl/work/python-workspance/FAST_pulsar_search_pl/LOG/04_FFT/LOG_04-FFT-32.74.txt\n",
      "运行命令：\u001b[96mrealfft  /home/pl/work/python-workspance/FAST_pulsar_search_pl/03_barydata/j1631_FAST_pulsar_search_pl_bary_DM32.72.dat\u001b[0m\n",
      "运行命令：\u001b[96mrealfft  /home/pl/work/python-workspance/FAST_pulsar_search_pl/03_barydata/j1631_FAST_pulsar_search_pl_bary_DM32.74.dat\u001b[0m\n",
      "\u001b[94m运行时间： 0.0秒\u001b[0m\n",
      "\u001b[94m运行时间： 0.0秒\u001b[0m\n",
      "运行命令：\u001b[96mrealfft  /home/pl/work/python-workspance/FAST_pulsar_search_pl/03_barydata/j1631_FAST_pulsar_search_pl_bary_DM32.73.dat\u001b[0m\n",
      "程序运行路径为: /home/pl/work/python-workspance/FAST_pulsar_search_pl/03_barydata\n",
      "程序运行路径为: /home/pl/work/python-workspance/FAST_pulsar_search_pl/03_barydata\n",
      "\u001b[94m运行时间： 0.0秒\u001b[0m\n",
      "日志文件为：/home/pl/work/python-workspance/FAST_pulsar_search_pl/LOG/04_FFT/LOG_04-FFT-32.76.txt\n",
      "日志文件为：/home/pl/work/python-workspance/FAST_pulsar_search_pl/LOG/04_FFT/LOG_04-FFT-32.75.txt\n",
      "程序运行路径为: /home/pl/work/python-workspance/FAST_pulsar_search_pl/03_barydata\n",
      "日志文件为：/home/pl/work/python-workspance/FAST_pulsar_search_pl/LOG/04_FFT/LOG_04-FFT-32.77.txt\n",
      "程序运行路径为: /home/pl/work/python-workspance/FAST_pulsar_search_pl/03_barydata\n",
      "日志文件为：/home/pl/work/python-workspance/FAST_pulsar_search_pl/LOG/04_FFT/LOG_04-FFT-32.78.txt\n",
      "运行命令：\u001b[96mrealfft  /home/pl/work/python-workspance/FAST_pulsar_search_pl/03_barydata/j1631_FAST_pulsar_search_pl_bary_DM32.75.dat\u001b[0m\n",
      "运行命令：\u001b[96mrealfft  /home/pl/work/python-workspance/FAST_pulsar_search_pl/03_barydata/j1631_FAST_pulsar_search_pl_bary_DM32.76.dat\u001b[0m\n",
      "\u001b[94m运行时间： 0.0秒\u001b[0m\n",
      "\u001b[94m运行时间： 0.0秒\u001b[0m\n",
      "程序运行路径为: /home/pl/work/python-workspance/FAST_pulsar_search_pl/03_barydata\n",
      "日志文件为：/home/pl/work/python-workspance/FAST_pulsar_search_pl/LOG/04_FFT/LOG_04-FFT-32.79.txt\n",
      "运行命令：\u001b[96mrealfft  /home/pl/work/python-workspance/FAST_pulsar_search_pl/03_barydata/j1631_FAST_pulsar_search_pl_bary_DM32.77.dat\u001b[0m\n",
      "\u001b[94m运行时间： 0.0秒\u001b[0m\n",
      "运行命令：\u001b[96mrealfft  /home/pl/work/python-workspance/FAST_pulsar_search_pl/03_barydata/j1631_FAST_pulsar_search_pl_bary_DM32.78.dat\u001b[0m\n",
      "\u001b[94m运行时间： 0.0秒\u001b[0m\n",
      "运行命令：\u001b[96mrealfft  /home/pl/work/python-workspance/FAST_pulsar_search_pl/03_barydata/j1631_FAST_pulsar_search_pl_bary_DM32.79.dat\u001b[0m\n",
      "\u001b[94m运行时间： 0.0秒\u001b[0m\n"
     ]
    },
    {
     "name": "stderr",
     "output_type": "stream",
     "text": [
      "realfft-8核:  24%|██▍       | 73/300 [00:20<00:58,  3.90cmd/s]"
     ]
    },
    {
     "name": "stdout",
     "output_type": "stream",
     "text": [
      "程序运行路径为: /home/pl/work/python-workspance/FAST_pulsar_search_pl/03_barydata\n",
      "程序运行路径为: /home/pl/work/python-workspance/FAST_pulsar_search_pl/03_barydata\n",
      "程序运行路径为: /home/pl/work/python-workspance/FAST_pulsar_search_pl/03_barydata\n",
      "日志文件为：/home/pl/work/python-workspance/FAST_pulsar_search_pl/LOG/04_FFT/LOG_04-FFT-32.81.txt\n",
      "日志文件为：/home/pl/work/python-workspance/FAST_pulsar_search_pl/LOG/04_FFT/LOG_04-FFT-32.80.txt\n",
      "日志文件为：/home/pl/work/python-workspance/FAST_pulsar_search_pl/LOG/04_FFT/LOG_04-FFT-32.82.txt\n",
      "程序运行路径为: /home/pl/work/python-workspance/FAST_pulsar_search_pl/03_barydata\n",
      "程序运行路径为: /home/pl/work/python-workspance/FAST_pulsar_search_pl/03_barydata\n",
      "日志文件为：/home/pl/work/python-workspance/FAST_pulsar_search_pl/LOG/04_FFT/LOG_04-FFT-32.83.txt\n",
      "日志文件为：/home/pl/work/python-workspance/FAST_pulsar_search_pl/LOG/04_FFT/LOG_04-FFT-32.84.txt\n",
      "程序运行路径为: /home/pl/work/python-workspance/FAST_pulsar_search_pl/03_barydata\n",
      "日志文件为：/home/pl/work/python-workspance/FAST_pulsar_search_pl/LOG/04_FFT/LOG_04-FFT-32.85.txt\n",
      "程序运行路径为: /home/pl/work/python-workspance/FAST_pulsar_search_pl/03_barydata\n",
      "日志文件为：/home/pl/work/python-workspance/FAST_pulsar_search_pl/LOG/04_FFT/LOG_04-FFT-32.86.txt\n",
      "运行命令：\u001b[96mrealfft  /home/pl/work/python-workspance/FAST_pulsar_search_pl/03_barydata/j1631_FAST_pulsar_search_pl_bary_DM32.81.dat\u001b[0m\n",
      "运行命令：\u001b[96mrealfft  /home/pl/work/python-workspance/FAST_pulsar_search_pl/03_barydata/j1631_FAST_pulsar_search_pl_bary_DM32.82.dat\u001b[0m\n",
      "\u001b[94m运行时间： 0.0秒\u001b[0m\n",
      "运行命令：\u001b[96mrealfft  /home/pl/work/python-workspance/FAST_pulsar_search_pl/03_barydata/j1631_FAST_pulsar_search_pl_bary_DM32.80.dat\u001b[0m\n",
      "\u001b[94m运行时间： 0.0秒\u001b[0m\n",
      "\u001b[94m运行时间： 0.0秒\u001b[0m\n",
      "程序运行路径为: /home/pl/work/python-workspance/FAST_pulsar_search_pl/03_barydata\n",
      "日志文件为：/home/pl/work/python-workspance/FAST_pulsar_search_pl/LOG/04_FFT/LOG_04-FFT-32.87.txt\n",
      "运行命令：\u001b[96mrealfft  /home/pl/work/python-workspance/FAST_pulsar_search_pl/03_barydata/j1631_FAST_pulsar_search_pl_bary_DM32.84.dat\u001b[0m\n",
      "\u001b[94m运行时间： 0.0秒\u001b[0m\n",
      "运行命令：\u001b[96mrealfft  /home/pl/work/python-workspance/FAST_pulsar_search_pl/03_barydata/j1631_FAST_pulsar_search_pl_bary_DM32.86.dat\u001b[0m\n",
      "运行命令：\u001b[96mrealfft  /home/pl/work/python-workspance/FAST_pulsar_search_pl/03_barydata/j1631_FAST_pulsar_search_pl_bary_DM32.85.dat\u001b[0m\n",
      "\u001b[94m运行时间： 0.0秒\u001b[0m\n",
      "\u001b[94m运行时间： 0.0秒\u001b[0m\n",
      "运行命令：\u001b[96mrealfft  /home/pl/work/python-workspance/FAST_pulsar_search_pl/03_barydata/j1631_FAST_pulsar_search_pl_bary_DM32.83.dat\u001b[0m\n",
      "\u001b[94m运行时间： 0.0秒\u001b[0m\n",
      "运行命令：\u001b[96mrealfft  /home/pl/work/python-workspance/FAST_pulsar_search_pl/03_barydata/j1631_FAST_pulsar_search_pl_bary_DM32.87.dat\u001b[0m\n",
      "\u001b[94m运行时间： 0.0秒\u001b[0m\n"
     ]
    },
    {
     "name": "stderr",
     "output_type": "stream",
     "text": [
      "realfft-8核:  27%|██▋       | 81/300 [00:22<00:56,  3.91cmd/s]"
     ]
    },
    {
     "name": "stdout",
     "output_type": "stream",
     "text": [
      "程序运行路径为: /home/pl/work/python-workspance/FAST_pulsar_search_pl/03_barydata\n",
      "程序运行路径为: /home/pl/work/python-workspance/FAST_pulsar_search_pl/03_barydata\n",
      "程序运行路径为: /home/pl/work/python-workspance/FAST_pulsar_search_pl/03_barydata\n",
      "日志文件为：/home/pl/work/python-workspance/FAST_pulsar_search_pl/LOG/04_FFT/LOG_04-FFT-32.88.txt\n",
      "日志文件为：/home/pl/work/python-workspance/FAST_pulsar_search_pl/LOG/04_FFT/LOG_04-FFT-32.89.txt\n",
      "日志文件为：/home/pl/work/python-workspance/FAST_pulsar_search_pl/LOG/04_FFT/LOG_04-FFT-32.90.txt\n",
      "程序运行路径为: /home/pl/work/python-workspance/FAST_pulsar_search_pl/03_barydata\n",
      "日志文件为：/home/pl/work/python-workspance/FAST_pulsar_search_pl/LOG/04_FFT/LOG_04-FFT-32.91.txt\n",
      "运行命令：\u001b[96mrealfft  /home/pl/work/python-workspance/FAST_pulsar_search_pl/03_barydata/j1631_FAST_pulsar_search_pl_bary_DM32.88.dat\u001b[0m\n",
      "运行命令：\u001b[96mrealfft  /home/pl/work/python-workspance/FAST_pulsar_search_pl/03_barydata/j1631_FAST_pulsar_search_pl_bary_DM32.90.dat\u001b[0m\n",
      "\u001b[94m运行时间： 0.0秒\u001b[0m\n",
      "\u001b[94m运行时间： 0.0秒\u001b[0m\n",
      "运行命令：\u001b[96mrealfft  /home/pl/work/python-workspance/FAST_pulsar_search_pl/03_barydata/j1631_FAST_pulsar_search_pl_bary_DM32.89.dat\u001b[0m\n",
      "\u001b[94m运行时间： 0.0秒\u001b[0m\n",
      "程序运行路径为: /home/pl/work/python-workspance/FAST_pulsar_search_pl/03_barydata\n",
      "日志文件为：/home/pl/work/python-workspance/FAST_pulsar_search_pl/LOG/04_FFT/LOG_04-FFT-32.92.txt\n",
      "程序运行路径为: /home/pl/work/python-workspance/FAST_pulsar_search_pl/03_barydata\n",
      "日志文件为：/home/pl/work/python-workspance/FAST_pulsar_search_pl/LOG/04_FFT/LOG_04-FFT-32.93.txt\n",
      "运行命令：\u001b[96mrealfft  /home/pl/work/python-workspance/FAST_pulsar_search_pl/03_barydata/j1631_FAST_pulsar_search_pl_bary_DM32.91.dat\u001b[0m\n",
      "\u001b[94m运行时间： 0.0秒\u001b[0m\n",
      "程序运行路径为: /home/pl/work/python-workspance/FAST_pulsar_search_pl/03_barydata\n",
      "日志文件为：/home/pl/work/python-workspance/FAST_pulsar_search_pl/LOG/04_FFT/LOG_04-FFT-32.94.txt\n",
      "程序运行路径为: /home/pl/work/python-workspance/FAST_pulsar_search_pl/03_barydata\n",
      "运行命令：\u001b[96mrealfft  /home/pl/work/python-workspance/FAST_pulsar_search_pl/03_barydata/j1631_FAST_pulsar_search_pl_bary_DM32.92.dat\u001b[0m\n",
      "\u001b[94m运行时间： 0.0秒\u001b[0m\n",
      "日志文件为：/home/pl/work/python-workspance/FAST_pulsar_search_pl/LOG/04_FFT/LOG_04-FFT-32.95.txt\n",
      "运行命令：\u001b[96mrealfft  /home/pl/work/python-workspance/FAST_pulsar_search_pl/03_barydata/j1631_FAST_pulsar_search_pl_bary_DM32.93.dat\u001b[0m\n",
      "\u001b[94m运行时间： 0.0秒\u001b[0m\n",
      "运行命令：\u001b[96mrealfft  /home/pl/work/python-workspance/FAST_pulsar_search_pl/03_barydata/j1631_FAST_pulsar_search_pl_bary_DM32.94.dat\u001b[0m\n",
      "运行命令：\u001b[96mrealfft  /home/pl/work/python-workspance/FAST_pulsar_search_pl/03_barydata/j1631_FAST_pulsar_search_pl_bary_DM32.95.dat\u001b[0m\n",
      "\u001b[94m运行时间： 0.0秒\u001b[0m\n",
      "\u001b[94m运行时间： 0.0秒\u001b[0m\n"
     ]
    },
    {
     "name": "stderr",
     "output_type": "stream",
     "text": [
      "realfft-8核:  30%|██▉       | 89/300 [00:24<00:53,  3.92cmd/s]"
     ]
    },
    {
     "name": "stdout",
     "output_type": "stream",
     "text": [
      "程序运行路径为: /home/pl/work/python-workspance/FAST_pulsar_search_pl/03_barydata\n",
      "程序运行路径为: /home/pl/work/python-workspance/FAST_pulsar_search_pl/03_barydata\n",
      "程序运行路径为: /home/pl/work/python-workspance/FAST_pulsar_search_pl/03_barydata\n",
      "日志文件为：/home/pl/work/python-workspance/FAST_pulsar_search_pl/LOG/04_FFT/LOG_04-FFT-32.96.txt\n",
      "程序运行路径为: /home/pl/work/python-workspance/FAST_pulsar_search_pl/03_barydata\n",
      "日志文件为：/home/pl/work/python-workspance/FAST_pulsar_search_pl/LOG/04_FFT/LOG_04-FFT-32.97.txt\n",
      "日志文件为：/home/pl/work/python-workspance/FAST_pulsar_search_pl/LOG/04_FFT/LOG_04-FFT-32.98.txt\n",
      "日志文件为：/home/pl/work/python-workspance/FAST_pulsar_search_pl/LOG/04_FFT/LOG_04-FFT-32.99.txt\n",
      "程序运行路径为: /home/pl/work/python-workspance/FAST_pulsar_search_pl/03_barydata\n",
      "程序运行路径为: /home/pl/work/python-workspance/FAST_pulsar_search_pl/03_barydata\n",
      "日志文件为：/home/pl/work/python-workspance/FAST_pulsar_search_pl/LOG/04_FFT/LOG_04-FFT-33.00.txt\n",
      "日志文件为：/home/pl/work/python-workspance/FAST_pulsar_search_pl/LOG/04_FFT/LOG_04-FFT-33.01.txt\n",
      "程序运行路径为: /home/pl/work/python-workspance/FAST_pulsar_search_pl/03_barydata\n",
      "程序运行路径为: /home/pl/work/python-workspance/FAST_pulsar_search_pl/03_barydata\n",
      "日志文件为：/home/pl/work/python-workspance/FAST_pulsar_search_pl/LOG/04_FFT/LOG_04-FFT-33.03.txt\n",
      "日志文件为：/home/pl/work/python-workspance/FAST_pulsar_search_pl/LOG/04_FFT/LOG_04-FFT-33.02.txt\n",
      "运行命令：\u001b[96mrealfft  /home/pl/work/python-workspance/FAST_pulsar_search_pl/03_barydata/j1631_FAST_pulsar_search_pl_bary_DM32.97.dat\u001b[0m\n",
      "运行命令：\u001b[96mrealfft  /home/pl/work/python-workspance/FAST_pulsar_search_pl/03_barydata/j1631_FAST_pulsar_search_pl_bary_DM32.99.dat\u001b[0m\n",
      "\u001b[94m运行时间： 0.0秒\u001b[0m\n",
      "运行命令：\u001b[96mrealfft  /home/pl/work/python-workspance/FAST_pulsar_search_pl/03_barydata/j1631_FAST_pulsar_search_pl_bary_DM32.96.dat\u001b[0m\n",
      "运行命令：\u001b[96mrealfft  /home/pl/work/python-workspance/FAST_pulsar_search_pl/03_barydata/j1631_FAST_pulsar_search_pl_bary_DM32.98.dat\u001b[0m\n",
      "\u001b[94m运行时间： 0.0秒\u001b[0m\n",
      "\u001b[94m运行时间： 0.0秒\u001b[0m\n",
      "\u001b[94m运行时间： 0.0秒\u001b[0m\n",
      "运行命令：\u001b[96mrealfft  /home/pl/work/python-workspance/FAST_pulsar_search_pl/03_barydata/j1631_FAST_pulsar_search_pl_bary_DM33.00.dat\u001b[0m\n",
      "\u001b[94m运行时间： 0.0秒\u001b[0m\n",
      "运行命令：\u001b[96mrealfft  /home/pl/work/python-workspance/FAST_pulsar_search_pl/03_barydata/j1631_FAST_pulsar_search_pl_bary_DM33.01.dat\u001b[0m\n",
      "\u001b[94m运行时间： 0.0秒\u001b[0m\n",
      "运行命令：\u001b[96mrealfft  /home/pl/work/python-workspance/FAST_pulsar_search_pl/03_barydata/j1631_FAST_pulsar_search_pl_bary_DM33.03.dat\u001b[0m\n",
      "\u001b[94m运行时间： 0.0秒\u001b[0m\n",
      "运行命令：\u001b[96mrealfft  /home/pl/work/python-workspance/FAST_pulsar_search_pl/03_barydata/j1631_FAST_pulsar_search_pl_bary_DM33.02.dat\u001b[0m\n",
      "\u001b[94m运行时间： 0.0秒\u001b[0m\n"
     ]
    },
    {
     "name": "stderr",
     "output_type": "stream",
     "text": [
      "realfft-8核:  32%|███▏      | 97/300 [00:26<00:51,  3.92cmd/s]"
     ]
    },
    {
     "name": "stdout",
     "output_type": "stream",
     "text": [
      "程序运行路径为: /home/pl/work/python-workspance/FAST_pulsar_search_pl/03_barydata\n",
      "日志文件为：/home/pl/work/python-workspance/FAST_pulsar_search_pl/LOG/04_FFT/LOG_04-FFT-33.04.txt\n",
      "程序运行路径为: /home/pl/work/python-workspance/FAST_pulsar_search_pl/03_barydata\n",
      "程序运行路径为: /home/pl/work/python-workspance/FAST_pulsar_search_pl/03_barydata\n",
      "程序运行路径为: /home/pl/work/python-workspance/FAST_pulsar_search_pl/03_barydata\n",
      "日志文件为：/home/pl/work/python-workspance/FAST_pulsar_search_pl/LOG/04_FFT/LOG_04-FFT-33.06.txt\n",
      "日志文件为：/home/pl/work/python-workspance/FAST_pulsar_search_pl/LOG/04_FFT/LOG_04-FFT-33.07.txt\n",
      "日志文件为：/home/pl/work/python-workspance/FAST_pulsar_search_pl/LOG/04_FFT/LOG_04-FFT-33.05.txt\n",
      "程序运行路径为: /home/pl/work/python-workspance/FAST_pulsar_search_pl/03_barydata\n",
      "日志文件为：/home/pl/work/python-workspance/FAST_pulsar_search_pl/LOG/04_FFT/LOG_04-FFT-33.08.txt\n",
      "运行命令：\u001b[96mrealfft  /home/pl/work/python-workspance/FAST_pulsar_search_pl/03_barydata/j1631_FAST_pulsar_search_pl_bary_DM33.04.dat\u001b[0m\n",
      "\u001b[94m运行时间： 0.0秒\u001b[0m\n",
      "程序运行路径为: /home/pl/work/python-workspance/FAST_pulsar_search_pl/03_barydata\n",
      "日志文件为：/home/pl/work/python-workspance/FAST_pulsar_search_pl/LOG/04_FFT/LOG_04-FFT-33.09.txt\n",
      "程序运行路径为: /home/pl/work/python-workspance/FAST_pulsar_search_pl/03_barydata\n",
      "运行命令：\u001b[96mrealfft  /home/pl/work/python-workspance/FAST_pulsar_search_pl/03_barydata/j1631_FAST_pulsar_search_pl_bary_DM33.06.dat\u001b[0m\n",
      "运行命令：\u001b[96mrealfft  /home/pl/work/python-workspance/FAST_pulsar_search_pl/03_barydata/j1631_FAST_pulsar_search_pl_bary_DM33.07.dat\u001b[0m\n",
      "\u001b[94m运行时间： 0.0秒\u001b[0m\n",
      "日志文件为：/home/pl/work/python-workspance/FAST_pulsar_search_pl/LOG/04_FFT/LOG_04-FFT-33.10.txt\n",
      "\u001b[94m运行时间： 0.0秒\u001b[0m\n",
      "程序运行路径为: /home/pl/work/python-workspance/FAST_pulsar_search_pl/03_barydata\n",
      "日志文件为：/home/pl/work/python-workspance/FAST_pulsar_search_pl/LOG/04_FFT/LOG_04-FFT-33.11.txt\n",
      "运行命令：\u001b[96mrealfft  /home/pl/work/python-workspance/FAST_pulsar_search_pl/03_barydata/j1631_FAST_pulsar_search_pl_bary_DM33.05.dat\u001b[0m\n",
      "\u001b[94m运行时间： 0.0秒\u001b[0m\n",
      "运行命令：\u001b[96mrealfft  /home/pl/work/python-workspance/FAST_pulsar_search_pl/03_barydata/j1631_FAST_pulsar_search_pl_bary_DM33.08.dat\u001b[0m\n",
      "\u001b[94m运行时间： 0.0秒\u001b[0m\n",
      "运行命令：\u001b[96mrealfft  /home/pl/work/python-workspance/FAST_pulsar_search_pl/03_barydata/j1631_FAST_pulsar_search_pl_bary_DM33.09.dat\u001b[0m\n",
      "\u001b[94m运行时间： 0.0秒\u001b[0m\n",
      "运行命令：\u001b[96mrealfft  /home/pl/work/python-workspance/FAST_pulsar_search_pl/03_barydata/j1631_FAST_pulsar_search_pl_bary_DM33.10.dat\u001b[0m\n",
      "\u001b[94m运行时间： 0.0秒\u001b[0m\n",
      "运行命令：\u001b[96mrealfft  /home/pl/work/python-workspance/FAST_pulsar_search_pl/03_barydata/j1631_FAST_pulsar_search_pl_bary_DM33.11.dat\u001b[0m\n",
      "\u001b[94m运行时间： 0.0秒\u001b[0m\n"
     ]
    },
    {
     "name": "stderr",
     "output_type": "stream",
     "text": [
      "realfft-8核:  35%|███▌      | 105/300 [00:28<00:49,  3.93cmd/s]"
     ]
    },
    {
     "name": "stdout",
     "output_type": "stream",
     "text": [
      "程序运行路径为: /home/pl/work/python-workspance/FAST_pulsar_search_pl/03_barydata\n",
      "日志文件为：/home/pl/work/python-workspance/FAST_pulsar_search_pl/LOG/04_FFT/LOG_04-FFT-33.12.txt\n",
      "程序运行路径为: /home/pl/work/python-workspance/FAST_pulsar_search_pl/03_barydata\n",
      "程序运行路径为: /home/pl/work/python-workspance/FAST_pulsar_search_pl/03_barydata\n",
      "日志文件为：/home/pl/work/python-workspance/FAST_pulsar_search_pl/LOG/04_FFT/LOG_04-FFT-33.14.txt\n",
      "日志文件为：/home/pl/work/python-workspance/FAST_pulsar_search_pl/LOG/04_FFT/LOG_04-FFT-33.13.txt\n",
      "程序运行路径为: /home/pl/work/python-workspance/FAST_pulsar_search_pl/03_barydata\n",
      "日志文件为：/home/pl/work/python-workspance/FAST_pulsar_search_pl/LOG/04_FFT/LOG_04-FFT-33.15.txt\n",
      "运行命令：\u001b[96mrealfft  /home/pl/work/python-workspance/FAST_pulsar_search_pl/03_barydata/j1631_FAST_pulsar_search_pl_bary_DM33.12.dat\u001b[0m\n",
      "程序运行路径为: /home/pl/work/python-workspance/FAST_pulsar_search_pl/03_barydata\n",
      "\u001b[94m运行时间： 0.0秒\u001b[0m\n",
      "日志文件为：/home/pl/work/python-workspance/FAST_pulsar_search_pl/LOG/04_FFT/LOG_04-FFT-33.16.txt\n",
      "运行命令：\u001b[96mrealfft  /home/pl/work/python-workspance/FAST_pulsar_search_pl/03_barydata/j1631_FAST_pulsar_search_pl_bary_DM33.14.dat\u001b[0m\n",
      "\u001b[94m运行时间： 0.0秒\u001b[0m\n",
      "运行命令：\u001b[96mrealfft  /home/pl/work/python-workspance/FAST_pulsar_search_pl/03_barydata/j1631_FAST_pulsar_search_pl_bary_DM33.13.dat\u001b[0m\n",
      "\u001b[94m运行时间： 0.0秒\u001b[0m\n",
      "程序运行路径为: /home/pl/work/python-workspance/FAST_pulsar_search_pl/03_barydata\n",
      "日志文件为：/home/pl/work/python-workspance/FAST_pulsar_search_pl/LOG/04_FFT/LOG_04-FFT-33.17.txt\n",
      "程序运行路径为: /home/pl/work/python-workspance/FAST_pulsar_search_pl/03_barydata\n",
      "日志文件为：/home/pl/work/python-workspance/FAST_pulsar_search_pl/LOG/04_FFT/LOG_04-FFT-33.18.txt\n",
      "运行命令：\u001b[96mrealfft  /home/pl/work/python-workspance/FAST_pulsar_search_pl/03_barydata/j1631_FAST_pulsar_search_pl_bary_DM33.15.dat\u001b[0m\n",
      "\u001b[94m运行时间： 0.0秒\u001b[0m\n",
      "运行命令：\u001b[96mrealfft  /home/pl/work/python-workspance/FAST_pulsar_search_pl/03_barydata/j1631_FAST_pulsar_search_pl_bary_DM33.16.dat\u001b[0m\n",
      "\u001b[94m运行时间： 0.0秒\u001b[0m\n",
      "程序运行路径为: /home/pl/work/python-workspance/FAST_pulsar_search_pl/03_barydata\n",
      "日志文件为：/home/pl/work/python-workspance/FAST_pulsar_search_pl/LOG/04_FFT/LOG_04-FFT-33.19.txt\n",
      "运行命令：\u001b[96mrealfft  /home/pl/work/python-workspance/FAST_pulsar_search_pl/03_barydata/j1631_FAST_pulsar_search_pl_bary_DM33.17.dat\u001b[0m\n",
      "运行命令：\u001b[96mrealfft  /home/pl/work/python-workspance/FAST_pulsar_search_pl/03_barydata/j1631_FAST_pulsar_search_pl_bary_DM33.18.dat\u001b[0m\n",
      "\u001b[94m运行时间： 0.0秒\u001b[0m\n",
      "\u001b[94m运行时间： 0.0秒\u001b[0m\n",
      "运行命令：\u001b[96mrealfft  /home/pl/work/python-workspance/FAST_pulsar_search_pl/03_barydata/j1631_FAST_pulsar_search_pl_bary_DM33.19.dat\u001b[0m\n",
      "\u001b[94m运行时间： 0.0秒\u001b[0m\n"
     ]
    },
    {
     "name": "stderr",
     "output_type": "stream",
     "text": [
      "realfft-8核:  38%|███▊      | 113/300 [00:30<00:47,  3.94cmd/s]"
     ]
    },
    {
     "name": "stdout",
     "output_type": "stream",
     "text": [
      "程序运行路径为: /home/pl/work/python-workspance/FAST_pulsar_search_pl/03_barydata\n",
      "程序运行路径为: /home/pl/work/python-workspance/FAST_pulsar_search_pl/03_barydata\n",
      "程序运行路径为: /home/pl/work/python-workspance/FAST_pulsar_search_pl/03_barydata\n",
      "日志文件为：/home/pl/work/python-workspance/FAST_pulsar_search_pl/LOG/04_FFT/LOG_04-FFT-33.20.txt\n",
      "日志文件为：/home/pl/work/python-workspance/FAST_pulsar_search_pl/LOG/04_FFT/LOG_04-FFT-33.21.txt\n",
      "日志文件为：/home/pl/work/python-workspance/FAST_pulsar_search_pl/LOG/04_FFT/LOG_04-FFT-33.22.txt\n",
      "程序运行路径为: /home/pl/work/python-workspance/FAST_pulsar_search_pl/03_barydata\n",
      "程序运行路径为: /home/pl/work/python-workspance/FAST_pulsar_search_pl/03_barydata\n",
      "日志文件为：/home/pl/work/python-workspance/FAST_pulsar_search_pl/LOG/04_FFT/LOG_04-FFT-33.23.txt\n",
      "日志文件为：/home/pl/work/python-workspance/FAST_pulsar_search_pl/LOG/04_FFT/LOG_04-FFT-33.24.txt\n",
      "运行命令：\u001b[96mrealfft  /home/pl/work/python-workspance/FAST_pulsar_search_pl/03_barydata/j1631_FAST_pulsar_search_pl_bary_DM33.20.dat\u001b[0m\n",
      "程序运行路径为: /home/pl/work/python-workspance/FAST_pulsar_search_pl/03_barydata\n",
      "程序运行路径为: /home/pl/work/python-workspance/FAST_pulsar_search_pl/03_barydata\n",
      "\u001b[94m运行时间： 0.0秒\u001b[0m\n",
      "日志文件为：/home/pl/work/python-workspance/FAST_pulsar_search_pl/LOG/04_FFT/LOG_04-FFT-33.26.txt\n",
      "日志文件为：/home/pl/work/python-workspance/FAST_pulsar_search_pl/LOG/04_FFT/LOG_04-FFT-33.25.txt\n",
      "运行命令：\u001b[96mrealfft  /home/pl/work/python-workspance/FAST_pulsar_search_pl/03_barydata/j1631_FAST_pulsar_search_pl_bary_DM33.21.dat\u001b[0m\n",
      "\u001b[94m运行时间： 0.0秒\u001b[0m\n",
      "运行命令：\u001b[96mrealfft  /home/pl/work/python-workspance/FAST_pulsar_search_pl/03_barydata/j1631_FAST_pulsar_search_pl_bary_DM33.22.dat\u001b[0m\n",
      "程序运行路径为: /home/pl/work/python-workspance/FAST_pulsar_search_pl/03_barydata\n",
      "\u001b[94m运行时间： 0.0秒\u001b[0m\n",
      "日志文件为：/home/pl/work/python-workspance/FAST_pulsar_search_pl/LOG/04_FFT/LOG_04-FFT-33.27.txt\n",
      "运行命令：\u001b[96mrealfft  /home/pl/work/python-workspance/FAST_pulsar_search_pl/03_barydata/j1631_FAST_pulsar_search_pl_bary_DM33.23.dat\u001b[0m\n",
      "\u001b[94m运行时间： 0.0秒\u001b[0m\n",
      "运行命令：\u001b[96mrealfft  /home/pl/work/python-workspance/FAST_pulsar_search_pl/03_barydata/j1631_FAST_pulsar_search_pl_bary_DM33.26.dat\u001b[0m\n",
      "\u001b[94m运行时间： 0.0秒\u001b[0m\n",
      "运行命令：\u001b[96mrealfft  /home/pl/work/python-workspance/FAST_pulsar_search_pl/03_barydata/j1631_FAST_pulsar_search_pl_bary_DM33.24.dat\u001b[0m\n",
      "\u001b[94m运行时间： 0.0秒\u001b[0m\n",
      "运行命令：\u001b[96mrealfft  /home/pl/work/python-workspance/FAST_pulsar_search_pl/03_barydata/j1631_FAST_pulsar_search_pl_bary_DM33.25.dat\u001b[0m\n",
      "\u001b[94m运行时间： 0.0秒\u001b[0m\n",
      "运行命令：\u001b[96mrealfft  /home/pl/work/python-workspance/FAST_pulsar_search_pl/03_barydata/j1631_FAST_pulsar_search_pl_bary_DM33.27.dat\u001b[0m\n",
      "\u001b[94m运行时间： 0.0秒\u001b[0m\n"
     ]
    },
    {
     "name": "stderr",
     "output_type": "stream",
     "text": [
      "realfft-8核:  40%|████      | 121/300 [00:32<00:45,  3.94cmd/s]"
     ]
    },
    {
     "name": "stdout",
     "output_type": "stream",
     "text": [
      "程序运行路径为: /home/pl/work/python-workspance/FAST_pulsar_search_pl/03_barydata\n",
      "日志文件为：/home/pl/work/python-workspance/FAST_pulsar_search_pl/LOG/04_FFT/LOG_04-FFT-33.28.txt\n",
      "程序运行路径为: /home/pl/work/python-workspance/FAST_pulsar_search_pl/03_barydata\n",
      "日志文件为：/home/pl/work/python-workspance/FAST_pulsar_search_pl/LOG/04_FFT/LOG_04-FFT-33.29.txt\n",
      "程序运行路径为: /home/pl/work/python-workspance/FAST_pulsar_search_pl/03_barydata\n",
      "日志文件为：/home/pl/work/python-workspance/FAST_pulsar_search_pl/LOG/04_FFT/LOG_04-FFT-33.30.txt\n",
      "程序运行路径为: /home/pl/work/python-workspance/FAST_pulsar_search_pl/03_barydata\n",
      "日志文件为：/home/pl/work/python-workspance/FAST_pulsar_search_pl/LOG/04_FFT/LOG_04-FFT-33.31.txt\n",
      "运行命令：\u001b[96mrealfft  /home/pl/work/python-workspance/FAST_pulsar_search_pl/03_barydata/j1631_FAST_pulsar_search_pl_bary_DM33.29.dat\u001b[0m\n",
      "\u001b[94m运行时间： 0.0秒\u001b[0m\n",
      "运行命令：\u001b[96mrealfft  /home/pl/work/python-workspance/FAST_pulsar_search_pl/03_barydata/j1631_FAST_pulsar_search_pl_bary_DM33.28.dat\u001b[0m\n",
      "程序运行路径为: /home/pl/work/python-workspance/FAST_pulsar_search_pl/03_barydata\n",
      "\u001b[94m运行时间： 0.0秒\u001b[0m\n",
      "日志文件为：/home/pl/work/python-workspance/FAST_pulsar_search_pl/LOG/04_FFT/LOG_04-FFT-33.32.txt\n",
      "程序运行路径为: /home/pl/work/python-workspance/FAST_pulsar_search_pl/03_barydata\n",
      "日志文件为：/home/pl/work/python-workspance/FAST_pulsar_search_pl/LOG/04_FFT/LOG_04-FFT-33.33.txt\n",
      "运行命令：\u001b[96mrealfft  /home/pl/work/python-workspance/FAST_pulsar_search_pl/03_barydata/j1631_FAST_pulsar_search_pl_bary_DM33.30.dat\u001b[0m\n",
      "程序运行路径为: /home/pl/work/python-workspance/FAST_pulsar_search_pl/03_barydata\n",
      "\u001b[94m运行时间： 0.0秒\u001b[0m\n",
      "日志文件为：/home/pl/work/python-workspance/FAST_pulsar_search_pl/LOG/04_FFT/LOG_04-FFT-33.34.txt\n",
      "运行命令：\u001b[96mrealfft  /home/pl/work/python-workspance/FAST_pulsar_search_pl/03_barydata/j1631_FAST_pulsar_search_pl_bary_DM33.31.dat\u001b[0m\n",
      "\u001b[94m运行时间： 0.0秒\u001b[0m\n",
      "程序运行路径为: /home/pl/work/python-workspance/FAST_pulsar_search_pl/03_barydata\n",
      "日志文件为：/home/pl/work/python-workspance/FAST_pulsar_search_pl/LOG/04_FFT/LOG_04-FFT-33.35.txt\n",
      "运行命令：\u001b[96mrealfft  /home/pl/work/python-workspance/FAST_pulsar_search_pl/03_barydata/j1631_FAST_pulsar_search_pl_bary_DM33.33.dat\u001b[0m\n",
      "运行命令：\u001b[96mrealfft  /home/pl/work/python-workspance/FAST_pulsar_search_pl/03_barydata/j1631_FAST_pulsar_search_pl_bary_DM33.34.dat\u001b[0m\n",
      "\u001b[94m运行时间： 0.0秒\u001b[0m\n",
      "\u001b[94m运行时间： 0.0秒\u001b[0m\n",
      "运行命令：\u001b[96mrealfft  /home/pl/work/python-workspance/FAST_pulsar_search_pl/03_barydata/j1631_FAST_pulsar_search_pl_bary_DM33.32.dat\u001b[0m\n",
      "\u001b[94m运行时间： 0.0秒\u001b[0m\n",
      "运行命令：\u001b[96mrealfft  /home/pl/work/python-workspance/FAST_pulsar_search_pl/03_barydata/j1631_FAST_pulsar_search_pl_bary_DM33.35.dat\u001b[0m\n",
      "\u001b[94m运行时间： 0.0秒\u001b[0m\n"
     ]
    },
    {
     "name": "stderr",
     "output_type": "stream",
     "text": [
      "realfft-8核:  43%|████▎     | 129/300 [00:34<00:43,  3.94cmd/s]"
     ]
    },
    {
     "name": "stdout",
     "output_type": "stream",
     "text": [
      "程序运行路径为: /home/pl/work/python-workspance/FAST_pulsar_search_pl/03_barydata\n",
      "日志文件为：/home/pl/work/python-workspance/FAST_pulsar_search_pl/LOG/04_FFT/LOG_04-FFT-33.36.txt\n",
      "程序运行路径为: /home/pl/work/python-workspance/FAST_pulsar_search_pl/03_barydata\n",
      "日志文件为：/home/pl/work/python-workspance/FAST_pulsar_search_pl/LOG/04_FFT/LOG_04-FFT-33.37.txt\n",
      "程序运行路径为: /home/pl/work/python-workspance/FAST_pulsar_search_pl/03_barydata\n",
      "日志文件为：/home/pl/work/python-workspance/FAST_pulsar_search_pl/LOG/04_FFT/LOG_04-FFT-33.38.txt\n",
      "程序运行路径为: /home/pl/work/python-workspance/FAST_pulsar_search_pl/03_barydata\n",
      "日志文件为：/home/pl/work/python-workspance/FAST_pulsar_search_pl/LOG/04_FFT/LOG_04-FFT-33.39.txt\n",
      "运行命令：\u001b[96mrealfft  /home/pl/work/python-workspance/FAST_pulsar_search_pl/03_barydata/j1631_FAST_pulsar_search_pl_bary_DM33.36.dat\u001b[0m\n",
      "运行命令：\u001b[96mrealfft  /home/pl/work/python-workspance/FAST_pulsar_search_pl/03_barydata/j1631_FAST_pulsar_search_pl_bary_DM33.37.dat\u001b[0m\n",
      "\u001b[94m运行时间： 0.0秒\u001b[0m\n",
      "\u001b[94m运行时间： 0.0秒\u001b[0m\n",
      "程序运行路径为: /home/pl/work/python-workspance/FAST_pulsar_search_pl/03_barydata\n",
      "程序运行路径为: /home/pl/work/python-workspance/FAST_pulsar_search_pl/03_barydata\n",
      "程序运行路径为: /home/pl/work/python-workspance/FAST_pulsar_search_pl/03_barydata\n",
      "日志文件为：/home/pl/work/python-workspance/FAST_pulsar_search_pl/LOG/04_FFT/LOG_04-FFT-33.41.txt\n",
      "日志文件为：/home/pl/work/python-workspance/FAST_pulsar_search_pl/LOG/04_FFT/LOG_04-FFT-33.40.txt\n",
      "日志文件为：/home/pl/work/python-workspance/FAST_pulsar_search_pl/LOG/04_FFT/LOG_04-FFT-33.42.txt\n",
      "程序运行路径为: /home/pl/work/python-workspance/FAST_pulsar_search_pl/03_barydata\n",
      "日志文件为：/home/pl/work/python-workspance/FAST_pulsar_search_pl/LOG/04_FFT/LOG_04-FFT-33.43.txt\n",
      "运行命令：\u001b[96mrealfft  /home/pl/work/python-workspance/FAST_pulsar_search_pl/03_barydata/j1631_FAST_pulsar_search_pl_bary_DM33.38.dat\u001b[0m\n",
      "运行命令：\u001b[96mrealfft  /home/pl/work/python-workspance/FAST_pulsar_search_pl/03_barydata/j1631_FAST_pulsar_search_pl_bary_DM33.39.dat\u001b[0m\n",
      "\u001b[94m运行时间： 0.0秒\u001b[0m\n",
      "\u001b[94m运行时间： 0.0秒\u001b[0m\n",
      "运行命令：\u001b[96mrealfft  /home/pl/work/python-workspance/FAST_pulsar_search_pl/03_barydata/j1631_FAST_pulsar_search_pl_bary_DM33.42.dat\u001b[0m\n",
      "运行命令：\u001b[96mrealfft  /home/pl/work/python-workspance/FAST_pulsar_search_pl/03_barydata/j1631_FAST_pulsar_search_pl_bary_DM33.41.dat\u001b[0m\n",
      "\u001b[94m运行时间： 0.0秒\u001b[0m\n",
      "\u001b[94m运行时间： 0.0秒\u001b[0m\n",
      "运行命令：\u001b[96mrealfft  /home/pl/work/python-workspance/FAST_pulsar_search_pl/03_barydata/j1631_FAST_pulsar_search_pl_bary_DM33.40.dat\u001b[0m\n",
      "运行命令：\u001b[96mrealfft  /home/pl/work/python-workspance/FAST_pulsar_search_pl/03_barydata/j1631_FAST_pulsar_search_pl_bary_DM33.43.dat\u001b[0m\n",
      "\u001b[94m运行时间： 0.0秒\u001b[0m\n",
      "\u001b[94m运行时间： 0.0秒\u001b[0m\n"
     ]
    },
    {
     "name": "stderr",
     "output_type": "stream",
     "text": [
      "realfft-8核:  46%|████▌     | 137/300 [00:36<00:41,  3.95cmd/s]"
     ]
    },
    {
     "name": "stdout",
     "output_type": "stream",
     "text": [
      "程序运行路径为: /home/pl/work/python-workspance/FAST_pulsar_search_pl/03_barydata\n",
      "程序运行路径为: /home/pl/work/python-workspance/FAST_pulsar_search_pl/03_barydata\n",
      "日志文件为：/home/pl/work/python-workspance/FAST_pulsar_search_pl/LOG/04_FFT/LOG_04-FFT-33.44.txt\n",
      "日志文件为：/home/pl/work/python-workspance/FAST_pulsar_search_pl/LOG/04_FFT/LOG_04-FFT-33.45.txt\n",
      "程序运行路径为: /home/pl/work/python-workspance/FAST_pulsar_search_pl/03_barydata\n",
      "日志文件为：/home/pl/work/python-workspance/FAST_pulsar_search_pl/LOG/04_FFT/LOG_04-FFT-33.46.txt\n",
      "程序运行路径为: /home/pl/work/python-workspance/FAST_pulsar_search_pl/03_barydata\n",
      "日志文件为：/home/pl/work/python-workspance/FAST_pulsar_search_pl/LOG/04_FFT/LOG_04-FFT-33.47.txt\n",
      "程序运行路径为: /home/pl/work/python-workspance/FAST_pulsar_search_pl/03_barydata\n",
      "运行命令：\u001b[96mrealfft  /home/pl/work/python-workspance/FAST_pulsar_search_pl/03_barydata/j1631_FAST_pulsar_search_pl_bary_DM33.44.dat\u001b[0m\n",
      "日志文件为：/home/pl/work/python-workspance/FAST_pulsar_search_pl/LOG/04_FFT/LOG_04-FFT-33.48.txt\n",
      "程序运行路径为: /home/pl/work/python-workspance/FAST_pulsar_search_pl/03_barydata\n",
      "日志文件为：/home/pl/work/python-workspance/FAST_pulsar_search_pl/LOG/04_FFT/LOG_04-FFT-33.49.txt\n",
      "程序运行路径为: /home/pl/work/python-workspance/FAST_pulsar_search_pl/03_barydata\n",
      "程序运行路径为: /home/pl/work/python-workspance/FAST_pulsar_search_pl/03_barydata\n",
      "运行命令：\u001b[96mrealfft  /home/pl/work/python-workspance/FAST_pulsar_search_pl/03_barydata/j1631_FAST_pulsar_search_pl_bary_DM33.45.dat\u001b[0m\n",
      "\u001b[94m运行时间： 0.0秒\u001b[0m\n",
      "日志文件为：/home/pl/work/python-workspance/FAST_pulsar_search_pl/LOG/04_FFT/LOG_04-FFT-33.50.txt\n",
      "\u001b[94m运行时间： 0.0秒\u001b[0m\n",
      "日志文件为：/home/pl/work/python-workspance/FAST_pulsar_search_pl/LOG/04_FFT/LOG_04-FFT-33.51.txt\n",
      "运行命令：\u001b[96mrealfft  /home/pl/work/python-workspance/FAST_pulsar_search_pl/03_barydata/j1631_FAST_pulsar_search_pl_bary_DM33.46.dat\u001b[0m\n",
      "运行命令：\u001b[96mrealfft  /home/pl/work/python-workspance/FAST_pulsar_search_pl/03_barydata/j1631_FAST_pulsar_search_pl_bary_DM33.47.dat\u001b[0m\n",
      "运行命令：\u001b[96mrealfft  /home/pl/work/python-workspance/FAST_pulsar_search_pl/03_barydata/j1631_FAST_pulsar_search_pl_bary_DM33.48.dat\u001b[0m\n",
      "\u001b[94m运行时间： 0.0秒\u001b[0m\n",
      "\u001b[94m运行时间： 0.0秒\u001b[0m\n",
      "\u001b[94m运行时间： 0.0秒\u001b[0m\n",
      "运行命令：\u001b[96mrealfft  /home/pl/work/python-workspance/FAST_pulsar_search_pl/03_barydata/j1631_FAST_pulsar_search_pl_bary_DM33.49.dat\u001b[0m\n",
      "\u001b[94m运行时间： 0.0秒\u001b[0m\n",
      "运行命令：\u001b[96mrealfft  /home/pl/work/python-workspance/FAST_pulsar_search_pl/03_barydata/j1631_FAST_pulsar_search_pl_bary_DM33.51.dat\u001b[0m\n",
      "\u001b[94m运行时间： 0.0秒\u001b[0m\n",
      "运行命令：\u001b[96mrealfft  /home/pl/work/python-workspance/FAST_pulsar_search_pl/03_barydata/j1631_FAST_pulsar_search_pl_bary_DM33.50.dat\u001b[0m\n",
      "\u001b[94m运行时间： 0.0秒\u001b[0m\n"
     ]
    },
    {
     "name": "stderr",
     "output_type": "stream",
     "text": [
      "realfft-8核:  48%|████▊     | 145/300 [00:38<00:39,  3.94cmd/s]"
     ]
    },
    {
     "name": "stdout",
     "output_type": "stream",
     "text": [
      "程序运行路径为: /home/pl/work/python-workspance/FAST_pulsar_search_pl/03_barydata\n",
      "程序运行路径为: /home/pl/work/python-workspance/FAST_pulsar_search_pl/03_barydata\n",
      "日志文件为：/home/pl/work/python-workspance/FAST_pulsar_search_pl/LOG/04_FFT/LOG_04-FFT-33.53.txt\n",
      "日志文件为：/home/pl/work/python-workspance/FAST_pulsar_search_pl/LOG/04_FFT/LOG_04-FFT-33.52.txt\n",
      "程序运行路径为: /home/pl/work/python-workspance/FAST_pulsar_search_pl/03_barydata\n",
      "日志文件为：/home/pl/work/python-workspance/FAST_pulsar_search_pl/LOG/04_FFT/LOG_04-FFT-33.54.txt\n",
      "程序运行路径为: /home/pl/work/python-workspance/FAST_pulsar_search_pl/03_barydata\n",
      "程序运行路径为: /home/pl/work/python-workspance/FAST_pulsar_search_pl/03_barydata\n",
      "日志文件为：/home/pl/work/python-workspance/FAST_pulsar_search_pl/LOG/04_FFT/LOG_04-FFT-33.55.txt\n",
      "日志文件为：/home/pl/work/python-workspance/FAST_pulsar_search_pl/LOG/04_FFT/LOG_04-FFT-33.56.txt\n",
      "程序运行路径为: /home/pl/work/python-workspance/FAST_pulsar_search_pl/03_barydata\n",
      "日志文件为：/home/pl/work/python-workspance/FAST_pulsar_search_pl/LOG/04_FFT/LOG_04-FFT-33.57.txt\n",
      "程序运行路径为: /home/pl/work/python-workspance/FAST_pulsar_search_pl/03_barydata\n",
      "日志文件为：/home/pl/work/python-workspance/FAST_pulsar_search_pl/LOG/04_FFT/LOG_04-FFT-33.58.txt\n",
      "运行命令：\u001b[96mrealfft  /home/pl/work/python-workspance/FAST_pulsar_search_pl/03_barydata/j1631_FAST_pulsar_search_pl_bary_DM33.52.dat\u001b[0m\n",
      "\u001b[94m运行时间： 0.0秒\u001b[0m\n",
      "运行命令：\u001b[96mrealfft  /home/pl/work/python-workspance/FAST_pulsar_search_pl/03_barydata/j1631_FAST_pulsar_search_pl_bary_DM33.53.dat\u001b[0m\n",
      "程序运行路径为: /home/pl/work/python-workspance/FAST_pulsar_search_pl/03_barydata\n",
      "\u001b[94m运行时间： 0.0秒\u001b[0m\n",
      "日志文件为：/home/pl/work/python-workspance/FAST_pulsar_search_pl/LOG/04_FFT/LOG_04-FFT-33.59.txt\n",
      "运行命令：\u001b[96mrealfft  /home/pl/work/python-workspance/FAST_pulsar_search_pl/03_barydata/j1631_FAST_pulsar_search_pl_bary_DM33.54.dat\u001b[0m\n",
      "\u001b[94m运行时间： 0.0秒\u001b[0m\n",
      "运行命令：\u001b[96mrealfft  /home/pl/work/python-workspance/FAST_pulsar_search_pl/03_barydata/j1631_FAST_pulsar_search_pl_bary_DM33.58.dat\u001b[0m\n",
      "\u001b[94m运行时间： 0.0秒\u001b[0m\n",
      "运行命令：\u001b[96mrealfft  /home/pl/work/python-workspance/FAST_pulsar_search_pl/03_barydata/j1631_FAST_pulsar_search_pl_bary_DM33.57.dat\u001b[0m\n",
      "\u001b[94m运行时间： 0.0秒\u001b[0m\n",
      "运行命令：\u001b[96mrealfft  /home/pl/work/python-workspance/FAST_pulsar_search_pl/03_barydata/j1631_FAST_pulsar_search_pl_bary_DM33.56.dat\u001b[0m\n",
      "\u001b[94m运行时间： 0.0秒\u001b[0m\n",
      "运行命令：\u001b[96mrealfft  /home/pl/work/python-workspance/FAST_pulsar_search_pl/03_barydata/j1631_FAST_pulsar_search_pl_bary_DM33.55.dat\u001b[0m\n",
      "\u001b[94m运行时间： 0.0秒\u001b[0m\n",
      "运行命令：\u001b[96mrealfft  /home/pl/work/python-workspance/FAST_pulsar_search_pl/03_barydata/j1631_FAST_pulsar_search_pl_bary_DM33.59.dat\u001b[0m\n",
      "\u001b[94m运行时间： 0.0秒\u001b[0m\n"
     ]
    },
    {
     "name": "stderr",
     "output_type": "stream",
     "text": [
      "realfft-8核:  51%|█████     | 153/300 [00:40<00:37,  3.93cmd/s]"
     ]
    },
    {
     "name": "stdout",
     "output_type": "stream",
     "text": [
      "程序运行路径为: /home/pl/work/python-workspance/FAST_pulsar_search_pl/03_barydata\n",
      "程序运行路径为: /home/pl/work/python-workspance/FAST_pulsar_search_pl/03_barydata\n",
      "日志文件为：/home/pl/work/python-workspance/FAST_pulsar_search_pl/LOG/04_FFT/LOG_04-FFT-33.60.txt\n",
      "日志文件为：/home/pl/work/python-workspance/FAST_pulsar_search_pl/LOG/04_FFT/LOG_04-FFT-33.61.txt\n",
      "程序运行路径为: /home/pl/work/python-workspance/FAST_pulsar_search_pl/03_barydata\n",
      "日志文件为：/home/pl/work/python-workspance/FAST_pulsar_search_pl/LOG/04_FFT/LOG_04-FFT-33.62.txt\n",
      "运行命令：\u001b[96mrealfft  /home/pl/work/python-workspance/FAST_pulsar_search_pl/03_barydata/j1631_FAST_pulsar_search_pl_bary_DM33.60.dat\u001b[0m\n",
      "\u001b[94m运行时间： 0.0秒\u001b[0m\n",
      "运行命令：\u001b[96mrealfft  /home/pl/work/python-workspance/FAST_pulsar_search_pl/03_barydata/j1631_FAST_pulsar_search_pl_bary_DM33.61.dat\u001b[0m\n",
      "\u001b[94m运行时间： 0.0秒\u001b[0m\n",
      "程序运行路径为: /home/pl/work/python-workspance/FAST_pulsar_search_pl/03_barydata\n",
      "程序运行路径为: /home/pl/work/python-workspance/FAST_pulsar_search_pl/03_barydata\n",
      "日志文件为：/home/pl/work/python-workspance/FAST_pulsar_search_pl/LOG/04_FFT/LOG_04-FFT-33.64.txt\n",
      "日志文件为：/home/pl/work/python-workspance/FAST_pulsar_search_pl/LOG/04_FFT/LOG_04-FFT-33.63.txt\n",
      "程序运行路径为: /home/pl/work/python-workspance/FAST_pulsar_search_pl/03_barydata\n",
      "运行命令：\u001b[96mrealfft  /home/pl/work/python-workspance/FAST_pulsar_search_pl/03_barydata/j1631_FAST_pulsar_search_pl_bary_DM33.62.dat\u001b[0m\n",
      "日志文件为：/home/pl/work/python-workspance/FAST_pulsar_search_pl/LOG/04_FFT/LOG_04-FFT-33.65.txt\n",
      "\u001b[94m运行时间： 0.0秒\u001b[0m\n",
      "程序运行路径为: /home/pl/work/python-workspance/FAST_pulsar_search_pl/03_barydata\n",
      "日志文件为：/home/pl/work/python-workspance/FAST_pulsar_search_pl/LOG/04_FFT/LOG_04-FFT-33.66.txt\n",
      "程序运行路径为: /home/pl/work/python-workspance/FAST_pulsar_search_pl/03_barydata\n",
      "日志文件为：/home/pl/work/python-workspance/FAST_pulsar_search_pl/LOG/04_FFT/LOG_04-FFT-33.67.txt\n",
      "运行命令：\u001b[96mrealfft  /home/pl/work/python-workspance/FAST_pulsar_search_pl/03_barydata/j1631_FAST_pulsar_search_pl_bary_DM33.64.dat\u001b[0m\n",
      "\u001b[94m运行时间： 0.0秒\u001b[0m\n",
      "运行命令：\u001b[96mrealfft  /home/pl/work/python-workspance/FAST_pulsar_search_pl/03_barydata/j1631_FAST_pulsar_search_pl_bary_DM33.65.dat\u001b[0m\n",
      "运行命令：\u001b[96mrealfft  /home/pl/work/python-workspance/FAST_pulsar_search_pl/03_barydata/j1631_FAST_pulsar_search_pl_bary_DM33.63.dat\u001b[0m\n",
      "\u001b[94m运行时间： 0.0秒\u001b[0m\n",
      "\u001b[94m运行时间： 0.0秒\u001b[0m\n",
      "运行命令：\u001b[96mrealfft  /home/pl/work/python-workspance/FAST_pulsar_search_pl/03_barydata/j1631_FAST_pulsar_search_pl_bary_DM33.66.dat\u001b[0m\n",
      "运行命令：\u001b[96mrealfft  /home/pl/work/python-workspance/FAST_pulsar_search_pl/03_barydata/j1631_FAST_pulsar_search_pl_bary_DM33.67.dat\u001b[0m\n",
      "\u001b[94m运行时间： 0.0秒\u001b[0m\n",
      "\u001b[94m运行时间： 0.0秒\u001b[0m\n"
     ]
    },
    {
     "name": "stderr",
     "output_type": "stream",
     "text": [
      "realfft-8核:  54%|█████▎    | 161/300 [00:42<00:35,  3.94cmd/s]"
     ]
    },
    {
     "name": "stdout",
     "output_type": "stream",
     "text": [
      "程序运行路径为: /home/pl/work/python-workspance/FAST_pulsar_search_pl/03_barydata\n",
      "程序运行路径为: /home/pl/work/python-workspance/FAST_pulsar_search_pl/03_barydata\n",
      "日志文件为：/home/pl/work/python-workspance/FAST_pulsar_search_pl/LOG/04_FFT/LOG_04-FFT-33.68.txt\n",
      "日志文件为：/home/pl/work/python-workspance/FAST_pulsar_search_pl/LOG/04_FFT/LOG_04-FFT-33.69.txt\n",
      "程序运行路径为: /home/pl/work/python-workspance/FAST_pulsar_search_pl/03_barydata\n",
      "日志文件为：/home/pl/work/python-workspance/FAST_pulsar_search_pl/LOG/04_FFT/LOG_04-FFT-33.70.txt\n",
      "运行命令：\u001b[96mrealfft  /home/pl/work/python-workspance/FAST_pulsar_search_pl/03_barydata/j1631_FAST_pulsar_search_pl_bary_DM33.68.dat\u001b[0m\n",
      "\u001b[94m运行时间： 0.0秒\u001b[0m\n",
      "程序运行路径为: /home/pl/work/python-workspance/FAST_pulsar_search_pl/03_barydata\n",
      "程序运行路径为: /home/pl/work/python-workspance/FAST_pulsar_search_pl/03_barydata\n",
      "运行命令：\u001b[96mrealfft  /home/pl/work/python-workspance/FAST_pulsar_search_pl/03_barydata/j1631_FAST_pulsar_search_pl_bary_DM33.70.dat\u001b[0m\n",
      "日志文件为：/home/pl/work/python-workspance/FAST_pulsar_search_pl/LOG/04_FFT/LOG_04-FFT-33.72.txt\n",
      "程序运行路径为: /home/pl/work/python-workspance/FAST_pulsar_search_pl/03_barydata\n",
      "日志文件为：/home/pl/work/python-workspance/FAST_pulsar_search_pl/LOG/04_FFT/LOG_04-FFT-33.71.txt\n",
      "\u001b[94m运行时间： 0.0秒\u001b[0m\n",
      "运行命令：\u001b[96mrealfft  /home/pl/work/python-workspance/FAST_pulsar_search_pl/03_barydata/j1631_FAST_pulsar_search_pl_bary_DM33.69.dat\u001b[0m\n",
      "日志文件为：/home/pl/work/python-workspance/FAST_pulsar_search_pl/LOG/04_FFT/LOG_04-FFT-33.73.txt\n",
      "\u001b[94m运行时间： 0.0秒\u001b[0m\n",
      "程序运行路径为: /home/pl/work/python-workspance/FAST_pulsar_search_pl/03_barydata\n",
      "程序运行路径为: /home/pl/work/python-workspance/FAST_pulsar_search_pl/03_barydata\n",
      "日志文件为：/home/pl/work/python-workspance/FAST_pulsar_search_pl/LOG/04_FFT/LOG_04-FFT-33.74.txt\n",
      "日志文件为：/home/pl/work/python-workspance/FAST_pulsar_search_pl/LOG/04_FFT/LOG_04-FFT-33.75.txt\n",
      "运行命令：\u001b[96mrealfft  /home/pl/work/python-workspance/FAST_pulsar_search_pl/03_barydata/j1631_FAST_pulsar_search_pl_bary_DM33.73.dat\u001b[0m\n",
      "\u001b[94m运行时间： 0.0秒\u001b[0m\n",
      "运行命令：\u001b[96mrealfft  /home/pl/work/python-workspance/FAST_pulsar_search_pl/03_barydata/j1631_FAST_pulsar_search_pl_bary_DM33.72.dat\u001b[0m\n",
      "运行命令：\u001b[96mrealfft  /home/pl/work/python-workspance/FAST_pulsar_search_pl/03_barydata/j1631_FAST_pulsar_search_pl_bary_DM33.71.dat\u001b[0m\n",
      "\u001b[94m运行时间： 0.0秒\u001b[0m\n",
      "\u001b[94m运行时间： 0.0秒\u001b[0m\n",
      "运行命令：\u001b[96mrealfft  /home/pl/work/python-workspance/FAST_pulsar_search_pl/03_barydata/j1631_FAST_pulsar_search_pl_bary_DM33.75.dat\u001b[0m\n",
      "运行命令：\u001b[96mrealfft  /home/pl/work/python-workspance/FAST_pulsar_search_pl/03_barydata/j1631_FAST_pulsar_search_pl_bary_DM33.74.dat\u001b[0m\n",
      "\u001b[94m运行时间： 0.0秒\u001b[0m\n",
      "\u001b[94m运行时间： 0.0秒\u001b[0m\n"
     ]
    },
    {
     "name": "stderr",
     "output_type": "stream",
     "text": [
      "realfft-8核:  56%|█████▋    | 169/300 [00:44<00:33,  3.94cmd/s]"
     ]
    },
    {
     "name": "stdout",
     "output_type": "stream",
     "text": [
      "程序运行路径为: /home/pl/work/python-workspance/FAST_pulsar_search_pl/03_barydata\n",
      "程序运行路径为: /home/pl/work/python-workspance/FAST_pulsar_search_pl/03_barydata\n",
      "程序运行路径为: /home/pl/work/python-workspance/FAST_pulsar_search_pl/03_barydata\n",
      "日志文件为：/home/pl/work/python-workspance/FAST_pulsar_search_pl/LOG/04_FFT/LOG_04-FFT-33.76.txt\n",
      "日志文件为：/home/pl/work/python-workspance/FAST_pulsar_search_pl/LOG/04_FFT/LOG_04-FFT-33.77.txt\n",
      "日志文件为：/home/pl/work/python-workspance/FAST_pulsar_search_pl/LOG/04_FFT/LOG_04-FFT-33.78.txt\n",
      "程序运行路径为: /home/pl/work/python-workspance/FAST_pulsar_search_pl/03_barydata\n",
      "日志文件为：/home/pl/work/python-workspance/FAST_pulsar_search_pl/LOG/04_FFT/LOG_04-FFT-33.79.txt\n",
      "运行命令：\u001b[96mrealfft  /home/pl/work/python-workspance/FAST_pulsar_search_pl/03_barydata/j1631_FAST_pulsar_search_pl_bary_DM33.77.dat\u001b[0m\n",
      "运行命令：\u001b[96mrealfft  /home/pl/work/python-workspance/FAST_pulsar_search_pl/03_barydata/j1631_FAST_pulsar_search_pl_bary_DM33.76.dat\u001b[0m\n",
      "\u001b[94m运行时间： 0.0秒\u001b[0m\n",
      "\u001b[94m运行时间： 0.0秒\u001b[0m\n",
      "程序运行路径为: /home/pl/work/python-workspance/FAST_pulsar_search_pl/03_barydata\n",
      "程序运行路径为: /home/pl/work/python-workspance/FAST_pulsar_search_pl/03_barydata\n",
      "日志文件为：/home/pl/work/python-workspance/FAST_pulsar_search_pl/LOG/04_FFT/LOG_04-FFT-33.81.txt\n",
      "日志文件为：/home/pl/work/python-workspance/FAST_pulsar_search_pl/LOG/04_FFT/LOG_04-FFT-33.80.txt\n",
      "程序运行路径为: /home/pl/work/python-workspance/FAST_pulsar_search_pl/03_barydata\n",
      "程序运行路径为: /home/pl/work/python-workspance/FAST_pulsar_search_pl/03_barydata\n",
      "日志文件为：/home/pl/work/python-workspance/FAST_pulsar_search_pl/LOG/04_FFT/LOG_04-FFT-33.82.txt\n",
      "日志文件为：/home/pl/work/python-workspance/FAST_pulsar_search_pl/LOG/04_FFT/LOG_04-FFT-33.83.txt\n",
      "运行命令：\u001b[96mrealfft  /home/pl/work/python-workspance/FAST_pulsar_search_pl/03_barydata/j1631_FAST_pulsar_search_pl_bary_DM33.78.dat\u001b[0m\n",
      "\u001b[94m运行时间： 0.0秒\u001b[0m\n",
      "运行命令：\u001b[96mrealfft  /home/pl/work/python-workspance/FAST_pulsar_search_pl/03_barydata/j1631_FAST_pulsar_search_pl_bary_DM33.79.dat\u001b[0m\n",
      "\u001b[94m运行时间： 0.0秒\u001b[0m\n",
      "运行命令：\u001b[96mrealfft  /home/pl/work/python-workspance/FAST_pulsar_search_pl/03_barydata/j1631_FAST_pulsar_search_pl_bary_DM33.80.dat\u001b[0m\n",
      "\u001b[94m运行时间： 0.0秒\u001b[0m\n",
      "运行命令：\u001b[96mrealfft  /home/pl/work/python-workspance/FAST_pulsar_search_pl/03_barydata/j1631_FAST_pulsar_search_pl_bary_DM33.83.dat\u001b[0m\n",
      "\u001b[94m运行时间： 0.0秒\u001b[0m\n",
      "运行命令：\u001b[96mrealfft  /home/pl/work/python-workspance/FAST_pulsar_search_pl/03_barydata/j1631_FAST_pulsar_search_pl_bary_DM33.82.dat\u001b[0m\n",
      "运行命令：\u001b[96mrealfft  /home/pl/work/python-workspance/FAST_pulsar_search_pl/03_barydata/j1631_FAST_pulsar_search_pl_bary_DM33.81.dat\u001b[0m\n",
      "\u001b[94m运行时间： 0.0秒\u001b[0m\n",
      "\u001b[94m运行时间： 0.0秒\u001b[0m\n"
     ]
    },
    {
     "name": "stderr",
     "output_type": "stream",
     "text": [
      "realfft-8核:  59%|█████▉    | 177/300 [00:46<00:31,  3.94cmd/s]"
     ]
    },
    {
     "name": "stdout",
     "output_type": "stream",
     "text": [
      "程序运行路径为: /home/pl/work/python-workspance/FAST_pulsar_search_pl/03_barydata\n",
      "程序运行路径为: /home/pl/work/python-workspance/FAST_pulsar_search_pl/03_barydata\n",
      "日志文件为：/home/pl/work/python-workspance/FAST_pulsar_search_pl/LOG/04_FFT/LOG_04-FFT-33.84.txt\n",
      "日志文件为：/home/pl/work/python-workspance/FAST_pulsar_search_pl/LOG/04_FFT/LOG_04-FFT-33.85.txt\n",
      "程序运行路径为: /home/pl/work/python-workspance/FAST_pulsar_search_pl/03_barydata\n",
      "日志文件为：/home/pl/work/python-workspance/FAST_pulsar_search_pl/LOG/04_FFT/LOG_04-FFT-33.86.txt\n",
      "程序运行路径为: /home/pl/work/python-workspance/FAST_pulsar_search_pl/03_barydata\n",
      "程序运行路径为: /home/pl/work/python-workspance/FAST_pulsar_search_pl/03_barydata\n",
      "程序运行路径为: /home/pl/work/python-workspance/FAST_pulsar_search_pl/03_barydata\n",
      "运行命令：\u001b[96mrealfft  /home/pl/work/python-workspance/FAST_pulsar_search_pl/03_barydata/j1631_FAST_pulsar_search_pl_bary_DM33.84.dat\u001b[0m\n",
      "日志文件为：/home/pl/work/python-workspance/FAST_pulsar_search_pl/LOG/04_FFT/LOG_04-FFT-33.87.txt\n",
      "\u001b[94m运行时间： 0.0秒\u001b[0m\n",
      "运行命令：\u001b[96mrealfft  /home/pl/work/python-workspance/FAST_pulsar_search_pl/03_barydata/j1631_FAST_pulsar_search_pl_bary_DM33.86.dat\u001b[0m\n",
      "日志文件为：/home/pl/work/python-workspance/FAST_pulsar_search_pl/LOG/04_FFT/LOG_04-FFT-33.88.txt\n",
      "日志文件为：/home/pl/work/python-workspance/FAST_pulsar_search_pl/LOG/04_FFT/LOG_04-FFT-33.89.txt\n",
      "运行命令：\u001b[96mrealfft  /home/pl/work/python-workspance/FAST_pulsar_search_pl/03_barydata/j1631_FAST_pulsar_search_pl_bary_DM33.85.dat\u001b[0m\n",
      "程序运行路径为: /home/pl/work/python-workspance/FAST_pulsar_search_pl/03_barydata\n",
      "程序运行路径为: /home/pl/work/python-workspance/FAST_pulsar_search_pl/03_barydata\n",
      "\u001b[94m运行时间： 0.0秒\u001b[0m\n",
      "日志文件为：/home/pl/work/python-workspance/FAST_pulsar_search_pl/LOG/04_FFT/LOG_04-FFT-33.90.txt\n",
      "日志文件为：/home/pl/work/python-workspance/FAST_pulsar_search_pl/LOG/04_FFT/LOG_04-FFT-33.91.txt\n",
      "\u001b[94m运行时间： 0.0秒\u001b[0m\n",
      "运行命令：\u001b[96mrealfft  /home/pl/work/python-workspance/FAST_pulsar_search_pl/03_barydata/j1631_FAST_pulsar_search_pl_bary_DM33.87.dat\u001b[0m\n",
      "运行命令：\u001b[96mrealfft  /home/pl/work/python-workspance/FAST_pulsar_search_pl/03_barydata/j1631_FAST_pulsar_search_pl_bary_DM33.90.dat\u001b[0m\n",
      "\u001b[94m运行时间： 0.0秒\u001b[0m\n",
      "\u001b[94m运行时间： 0.0秒\u001b[0m\n",
      "运行命令：\u001b[96mrealfft  /home/pl/work/python-workspance/FAST_pulsar_search_pl/03_barydata/j1631_FAST_pulsar_search_pl_bary_DM33.88.dat\u001b[0m\n",
      "运行命令：\u001b[96mrealfft  /home/pl/work/python-workspance/FAST_pulsar_search_pl/03_barydata/j1631_FAST_pulsar_search_pl_bary_DM33.89.dat\u001b[0m\n",
      "\u001b[94m运行时间： 0.0秒\u001b[0m\n",
      "\u001b[94m运行时间： 0.0秒\u001b[0m\n",
      "运行命令：\u001b[96mrealfft  /home/pl/work/python-workspance/FAST_pulsar_search_pl/03_barydata/j1631_FAST_pulsar_search_pl_bary_DM33.91.dat\u001b[0m\n",
      "\u001b[94m运行时间： 0.0秒\u001b[0m\n"
     ]
    },
    {
     "name": "stderr",
     "output_type": "stream",
     "text": [
      "realfft-8核:  62%|██████▏   | 185/300 [00:48<00:29,  3.94cmd/s]"
     ]
    },
    {
     "name": "stdout",
     "output_type": "stream",
     "text": [
      "程序运行路径为: /home/pl/work/python-workspance/FAST_pulsar_search_pl/03_barydata\n",
      "日志文件为：/home/pl/work/python-workspance/FAST_pulsar_search_pl/LOG/04_FFT/LOG_04-FFT-33.92.txt\n",
      "程序运行路径为: /home/pl/work/python-workspance/FAST_pulsar_search_pl/03_barydata\n",
      "日志文件为：/home/pl/work/python-workspance/FAST_pulsar_search_pl/LOG/04_FFT/LOG_04-FFT-33.93.txt\n",
      "程序运行路径为: /home/pl/work/python-workspance/FAST_pulsar_search_pl/03_barydata\n",
      "日志文件为：/home/pl/work/python-workspance/FAST_pulsar_search_pl/LOG/04_FFT/LOG_04-FFT-33.94.txt\n",
      "程序运行路径为: /home/pl/work/python-workspance/FAST_pulsar_search_pl/03_barydata\n",
      "程序运行路径为: /home/pl/work/python-workspance/FAST_pulsar_search_pl/03_barydata\n",
      "日志文件为：/home/pl/work/python-workspance/FAST_pulsar_search_pl/LOG/04_FFT/LOG_04-FFT-33.95.txt\n",
      "日志文件为：/home/pl/work/python-workspance/FAST_pulsar_search_pl/LOG/04_FFT/LOG_04-FFT-33.96.txt\n",
      "程序运行路径为: /home/pl/work/python-workspance/FAST_pulsar_search_pl/03_barydata\n",
      "程序运行路径为: /home/pl/work/python-workspance/FAST_pulsar_search_pl/03_barydata\n",
      "日志文件为：/home/pl/work/python-workspance/FAST_pulsar_search_pl/LOG/04_FFT/LOG_04-FFT-33.97.txt\n",
      "程序运行路径为: /home/pl/work/python-workspance/FAST_pulsar_search_pl/03_barydata\n",
      "日志文件为：/home/pl/work/python-workspance/FAST_pulsar_search_pl/LOG/04_FFT/LOG_04-FFT-33.98.txt\n",
      "日志文件为：/home/pl/work/python-workspance/FAST_pulsar_search_pl/LOG/04_FFT/LOG_04-FFT-33.99.txt\n",
      "运行命令：\u001b[96mrealfft  /home/pl/work/python-workspance/FAST_pulsar_search_pl/03_barydata/j1631_FAST_pulsar_search_pl_bary_DM33.92.dat\u001b[0m\n",
      "运行命令：\u001b[96mrealfft  /home/pl/work/python-workspance/FAST_pulsar_search_pl/03_barydata/j1631_FAST_pulsar_search_pl_bary_DM33.93.dat\u001b[0m\n",
      "\u001b[94m运行时间： 0.0秒\u001b[0m\n",
      "\u001b[94m运行时间： 0.0秒\u001b[0m\n",
      "运行命令：\u001b[96mrealfft  /home/pl/work/python-workspance/FAST_pulsar_search_pl/03_barydata/j1631_FAST_pulsar_search_pl_bary_DM33.94.dat\u001b[0m\n",
      "运行命令：\u001b[96mrealfft  /home/pl/work/python-workspance/FAST_pulsar_search_pl/03_barydata/j1631_FAST_pulsar_search_pl_bary_DM33.96.dat\u001b[0m\n",
      "\u001b[94m运行时间： 0.0秒\u001b[0m\n",
      "\u001b[94m运行时间： 0.0秒\u001b[0m\n",
      "运行命令：\u001b[96mrealfft  /home/pl/work/python-workspance/FAST_pulsar_search_pl/03_barydata/j1631_FAST_pulsar_search_pl_bary_DM33.95.dat\u001b[0m\n",
      "\u001b[94m运行时间： 0.0秒\u001b[0m\n",
      "运行命令：\u001b[96mrealfft  /home/pl/work/python-workspance/FAST_pulsar_search_pl/03_barydata/j1631_FAST_pulsar_search_pl_bary_DM33.97.dat\u001b[0m\n",
      "运行命令：\u001b[96mrealfft  /home/pl/work/python-workspance/FAST_pulsar_search_pl/03_barydata/j1631_FAST_pulsar_search_pl_bary_DM33.98.dat\u001b[0m\n",
      "\u001b[94m运行时间： 0.0秒\u001b[0m\n",
      "\u001b[94m运行时间： 0.0秒\u001b[0m\n",
      "运行命令：\u001b[96mrealfft  /home/pl/work/python-workspance/FAST_pulsar_search_pl/03_barydata/j1631_FAST_pulsar_search_pl_bary_DM33.99.dat\u001b[0m\n",
      "\u001b[94m运行时间： 0.0秒\u001b[0m\n"
     ]
    },
    {
     "name": "stderr",
     "output_type": "stream",
     "text": [
      "realfft-8核:  64%|██████▍   | 193/300 [00:50<00:27,  3.93cmd/s]"
     ]
    },
    {
     "name": "stdout",
     "output_type": "stream",
     "text": [
      "程序运行路径为: /home/pl/work/python-workspance/FAST_pulsar_search_pl/03_barydata\n",
      "日志文件为：/home/pl/work/python-workspance/FAST_pulsar_search_pl/LOG/04_FFT/LOG_04-FFT-34.00.txt\n",
      "程序运行路径为: /home/pl/work/python-workspance/FAST_pulsar_search_pl/03_barydata\n",
      "日志文件为：/home/pl/work/python-workspance/FAST_pulsar_search_pl/LOG/04_FFT/LOG_04-FFT-34.01.txt\n",
      "程序运行路径为: /home/pl/work/python-workspance/FAST_pulsar_search_pl/03_barydata\n",
      "程序运行路径为: /home/pl/work/python-workspance/FAST_pulsar_search_pl/03_barydata\n",
      "日志文件为：/home/pl/work/python-workspance/FAST_pulsar_search_pl/LOG/04_FFT/LOG_04-FFT-34.03.txt\n",
      "日志文件为：/home/pl/work/python-workspance/FAST_pulsar_search_pl/LOG/04_FFT/LOG_04-FFT-34.02.txt\n",
      "程序运行路径为: /home/pl/work/python-workspance/FAST_pulsar_search_pl/03_barydata\n",
      "日志文件为：/home/pl/work/python-workspance/FAST_pulsar_search_pl/LOG/04_FFT/LOG_04-FFT-34.04.txt\n",
      "程序运行路径为: /home/pl/work/python-workspance/FAST_pulsar_search_pl/03_barydata\n",
      "日志文件为：/home/pl/work/python-workspance/FAST_pulsar_search_pl/LOG/04_FFT/LOG_04-FFT-34.05.txt\n",
      "程序运行路径为: /home/pl/work/python-workspance/FAST_pulsar_search_pl/03_barydata\n",
      "程序运行路径为: /home/pl/work/python-workspance/FAST_pulsar_search_pl/03_barydata\n",
      "日志文件为：/home/pl/work/python-workspance/FAST_pulsar_search_pl/LOG/04_FFT/LOG_04-FFT-34.06.txt\n",
      "日志文件为：/home/pl/work/python-workspance/FAST_pulsar_search_pl/LOG/04_FFT/LOG_04-FFT-34.07.txt\n",
      "运行命令：\u001b[96mrealfft  /home/pl/work/python-workspance/FAST_pulsar_search_pl/03_barydata/j1631_FAST_pulsar_search_pl_bary_DM34.04.dat\u001b[0m\n",
      "运行命令：\u001b[96mrealfft  /home/pl/work/python-workspance/FAST_pulsar_search_pl/03_barydata/j1631_FAST_pulsar_search_pl_bary_DM34.05.dat\u001b[0m\n",
      "\u001b[94m运行时间： 0.0秒\u001b[0m\n",
      "运行命令：\u001b[96mrealfft  /home/pl/work/python-workspance/FAST_pulsar_search_pl/03_barydata/j1631_FAST_pulsar_search_pl_bary_DM34.01.dat\u001b[0m\n",
      "\u001b[94m运行时间： 0.0秒\u001b[0m\n",
      "运行命令：\u001b[96mrealfft  /home/pl/work/python-workspance/FAST_pulsar_search_pl/03_barydata/j1631_FAST_pulsar_search_pl_bary_DM34.02.dat\u001b[0m\n",
      "\u001b[94m运行时间： 0.0秒\u001b[0m\n",
      "运行命令：\u001b[96mrealfft  /home/pl/work/python-workspance/FAST_pulsar_search_pl/03_barydata/j1631_FAST_pulsar_search_pl_bary_DM34.03.dat\u001b[0m\n",
      "运行命令：\u001b[96mrealfft  /home/pl/work/python-workspance/FAST_pulsar_search_pl/03_barydata/j1631_FAST_pulsar_search_pl_bary_DM34.00.dat\u001b[0m\n",
      "\u001b[94m运行时间： 0.0秒\u001b[0m\n",
      "\u001b[94m运行时间： 0.0秒\u001b[0m\n",
      "\u001b[94m运行时间： 0.0秒\u001b[0m\n",
      "运行命令：\u001b[96mrealfft  /home/pl/work/python-workspance/FAST_pulsar_search_pl/03_barydata/j1631_FAST_pulsar_search_pl_bary_DM34.07.dat\u001b[0m\n",
      "\u001b[94m运行时间： 0.0秒\u001b[0m\n",
      "运行命令：\u001b[96mrealfft  /home/pl/work/python-workspance/FAST_pulsar_search_pl/03_barydata/j1631_FAST_pulsar_search_pl_bary_DM34.06.dat\u001b[0m\n",
      "\u001b[94m运行时间： 0.0秒\u001b[0m\n"
     ]
    },
    {
     "name": "stderr",
     "output_type": "stream",
     "text": [
      "realfft-8核:  67%|██████▋   | 201/300 [00:52<00:25,  3.93cmd/s]"
     ]
    },
    {
     "name": "stdout",
     "output_type": "stream",
     "text": [
      "程序运行路径为: /home/pl/work/python-workspance/FAST_pulsar_search_pl/03_barydata\n",
      "程序运行路径为: /home/pl/work/python-workspance/FAST_pulsar_search_pl/03_barydata\n",
      "日志文件为：/home/pl/work/python-workspance/FAST_pulsar_search_pl/LOG/04_FFT/LOG_04-FFT-34.08.txt\n",
      "程序运行路径为: /home/pl/work/python-workspance/FAST_pulsar_search_pl/03_barydata\n",
      "日志文件为：/home/pl/work/python-workspance/FAST_pulsar_search_pl/LOG/04_FFT/LOG_04-FFT-34.09.txt\n",
      "日志文件为：/home/pl/work/python-workspance/FAST_pulsar_search_pl/LOG/04_FFT/LOG_04-FFT-34.10.txt\n",
      "程序运行路径为: /home/pl/work/python-workspance/FAST_pulsar_search_pl/03_barydata\n",
      "程序运行路径为: /home/pl/work/python-workspance/FAST_pulsar_search_pl/03_barydata\n",
      "程序运行路径为: /home/pl/work/python-workspance/FAST_pulsar_search_pl/03_barydata\n",
      "日志文件为：/home/pl/work/python-workspance/FAST_pulsar_search_pl/LOG/04_FFT/LOG_04-FFT-34.11.txt\n",
      "日志文件为：/home/pl/work/python-workspance/FAST_pulsar_search_pl/LOG/04_FFT/LOG_04-FFT-34.13.txt\n",
      "日志文件为：/home/pl/work/python-workspance/FAST_pulsar_search_pl/LOG/04_FFT/LOG_04-FFT-34.12.txt\n",
      "程序运行路径为: /home/pl/work/python-workspance/FAST_pulsar_search_pl/03_barydata\n",
      "日志文件为：/home/pl/work/python-workspance/FAST_pulsar_search_pl/LOG/04_FFT/LOG_04-FFT-34.14.txt\n",
      "程序运行路径为: /home/pl/work/python-workspance/FAST_pulsar_search_pl/03_barydata\n",
      "日志文件为：/home/pl/work/python-workspance/FAST_pulsar_search_pl/LOG/04_FFT/LOG_04-FFT-34.15.txt\n",
      "运行命令：\u001b[96mrealfft  /home/pl/work/python-workspance/FAST_pulsar_search_pl/03_barydata/j1631_FAST_pulsar_search_pl_bary_DM34.09.dat\u001b[0m\n",
      "\u001b[94m运行时间： 0.0秒\u001b[0m\n",
      "运行命令：\u001b[96mrealfft  /home/pl/work/python-workspance/FAST_pulsar_search_pl/03_barydata/j1631_FAST_pulsar_search_pl_bary_DM34.08.dat\u001b[0m\n",
      "运行命令：\u001b[96mrealfft  /home/pl/work/python-workspance/FAST_pulsar_search_pl/03_barydata/j1631_FAST_pulsar_search_pl_bary_DM34.10.dat\u001b[0m\n",
      "\u001b[94m运行时间： 0.0秒\u001b[0m\n",
      "\u001b[94m运行时间： 0.0秒\u001b[0m\n",
      "运行命令：\u001b[96mrealfft  /home/pl/work/python-workspance/FAST_pulsar_search_pl/03_barydata/j1631_FAST_pulsar_search_pl_bary_DM34.11.dat\u001b[0m\n",
      "\u001b[94m运行时间： 0.0秒\u001b[0m\n",
      "运行命令：\u001b[96mrealfft  /home/pl/work/python-workspance/FAST_pulsar_search_pl/03_barydata/j1631_FAST_pulsar_search_pl_bary_DM34.12.dat\u001b[0m\n",
      "运行命令：\u001b[96mrealfft  /home/pl/work/python-workspance/FAST_pulsar_search_pl/03_barydata/j1631_FAST_pulsar_search_pl_bary_DM34.13.dat\u001b[0m\n",
      "运行命令：\u001b[96mrealfft  /home/pl/work/python-workspance/FAST_pulsar_search_pl/03_barydata/j1631_FAST_pulsar_search_pl_bary_DM34.14.dat\u001b[0m\n",
      "\u001b[94m运行时间： 0.0秒\u001b[0m\n",
      "\u001b[94m运行时间： 0.0秒\u001b[0m\n",
      "\u001b[94m运行时间： 0.0秒\u001b[0m\n",
      "运行命令：\u001b[96mrealfft  /home/pl/work/python-workspance/FAST_pulsar_search_pl/03_barydata/j1631_FAST_pulsar_search_pl_bary_DM34.15.dat\u001b[0m\n",
      "\u001b[94m运行时间： 0.0秒\u001b[0m\n"
     ]
    },
    {
     "name": "stderr",
     "output_type": "stream",
     "text": [
      "realfft-8核:  70%|██████▉   | 209/300 [00:54<00:23,  3.93cmd/s]"
     ]
    },
    {
     "name": "stdout",
     "output_type": "stream",
     "text": [
      "程序运行路径为: /home/pl/work/python-workspance/FAST_pulsar_search_pl/03_barydata\n",
      "日志文件为：/home/pl/work/python-workspance/FAST_pulsar_search_pl/LOG/04_FFT/LOG_04-FFT-34.16.txt\n",
      "程序运行路径为: /home/pl/work/python-workspance/FAST_pulsar_search_pl/03_barydata\n",
      "日志文件为：/home/pl/work/python-workspance/FAST_pulsar_search_pl/LOG/04_FFT/LOG_04-FFT-34.17.txt\n",
      "程序运行路径为: /home/pl/work/python-workspance/FAST_pulsar_search_pl/03_barydata\n",
      "日志文件为：/home/pl/work/python-workspance/FAST_pulsar_search_pl/LOG/04_FFT/LOG_04-FFT-34.18.txt\n",
      "程序运行路径为: /home/pl/work/python-workspance/FAST_pulsar_search_pl/03_barydata\n",
      "日志文件为：/home/pl/work/python-workspance/FAST_pulsar_search_pl/LOG/04_FFT/LOG_04-FFT-34.19.txt\n",
      "程序运行路径为: /home/pl/work/python-workspance/FAST_pulsar_search_pl/03_barydata\n",
      "程序运行路径为: /home/pl/work/python-workspance/FAST_pulsar_search_pl/03_barydata\n",
      "程序运行路径为: /home/pl/work/python-workspance/FAST_pulsar_search_pl/03_barydata\n",
      "日志文件为：/home/pl/work/python-workspance/FAST_pulsar_search_pl/LOG/04_FFT/LOG_04-FFT-34.20.txt\n",
      "日志文件为：/home/pl/work/python-workspance/FAST_pulsar_search_pl/LOG/04_FFT/LOG_04-FFT-34.21.txt\n",
      "日志文件为：/home/pl/work/python-workspance/FAST_pulsar_search_pl/LOG/04_FFT/LOG_04-FFT-34.22.txt\n",
      "程序运行路径为: /home/pl/work/python-workspance/FAST_pulsar_search_pl/03_barydata\n",
      "日志文件为：/home/pl/work/python-workspance/FAST_pulsar_search_pl/LOG/04_FFT/LOG_04-FFT-34.23.txt\n",
      "运行命令：\u001b[96mrealfft  /home/pl/work/python-workspance/FAST_pulsar_search_pl/03_barydata/j1631_FAST_pulsar_search_pl_bary_DM34.16.dat\u001b[0m\n",
      "\u001b[94m运行时间： 0.0秒\u001b[0m\n",
      "运行命令：\u001b[96mrealfft  /home/pl/work/python-workspance/FAST_pulsar_search_pl/03_barydata/j1631_FAST_pulsar_search_pl_bary_DM34.17.dat\u001b[0m\n",
      "运行命令：\u001b[96mrealfft  /home/pl/work/python-workspance/FAST_pulsar_search_pl/03_barydata/j1631_FAST_pulsar_search_pl_bary_DM34.18.dat\u001b[0m\n",
      "\u001b[94m运行时间： 0.0秒\u001b[0m\n",
      "\u001b[94m运行时间： 0.0秒\u001b[0m\n",
      "运行命令：\u001b[96mrealfft  /home/pl/work/python-workspance/FAST_pulsar_search_pl/03_barydata/j1631_FAST_pulsar_search_pl_bary_DM34.19.dat\u001b[0m\n",
      "运行命令：\u001b[96mrealfft  /home/pl/work/python-workspance/FAST_pulsar_search_pl/03_barydata/j1631_FAST_pulsar_search_pl_bary_DM34.21.dat\u001b[0m\n",
      "运行命令：\u001b[96mrealfft  /home/pl/work/python-workspance/FAST_pulsar_search_pl/03_barydata/j1631_FAST_pulsar_search_pl_bary_DM34.20.dat\u001b[0m\n",
      "\u001b[94m运行时间： 0.0秒\u001b[0m\n",
      "\u001b[94m运行时间： 0.0秒\u001b[0m\n",
      "\u001b[94m运行时间： 0.0秒\u001b[0m\n",
      "运行命令：\u001b[96mrealfft  /home/pl/work/python-workspance/FAST_pulsar_search_pl/03_barydata/j1631_FAST_pulsar_search_pl_bary_DM34.23.dat\u001b[0m\n",
      "\u001b[94m运行时间： 0.0秒\u001b[0m\n",
      "运行命令：\u001b[96mrealfft  /home/pl/work/python-workspance/FAST_pulsar_search_pl/03_barydata/j1631_FAST_pulsar_search_pl_bary_DM34.22.dat\u001b[0m\n",
      "\u001b[94m运行时间： 0.0秒\u001b[0m\n"
     ]
    },
    {
     "name": "stderr",
     "output_type": "stream",
     "text": [
      "realfft-8核:  72%|███████▏  | 217/300 [00:56<00:21,  3.94cmd/s]"
     ]
    },
    {
     "name": "stdout",
     "output_type": "stream",
     "text": [
      "程序运行路径为: /home/pl/work/python-workspance/FAST_pulsar_search_pl/03_barydata\n",
      "日志文件为：/home/pl/work/python-workspance/FAST_pulsar_search_pl/LOG/04_FFT/LOG_04-FFT-34.24.txt\n",
      "程序运行路径为: /home/pl/work/python-workspance/FAST_pulsar_search_pl/03_barydata\n",
      "程序运行路径为: /home/pl/work/python-workspance/FAST_pulsar_search_pl/03_barydata\n",
      "日志文件为：/home/pl/work/python-workspance/FAST_pulsar_search_pl/LOG/04_FFT/LOG_04-FFT-34.25.txt\n",
      "日志文件为：/home/pl/work/python-workspance/FAST_pulsar_search_pl/LOG/04_FFT/LOG_04-FFT-34.26.txt\n",
      "程序运行路径为: /home/pl/work/python-workspance/FAST_pulsar_search_pl/03_barydata\n",
      "程序运行路径为: /home/pl/work/python-workspance/FAST_pulsar_search_pl/03_barydata\n",
      "日志文件为：/home/pl/work/python-workspance/FAST_pulsar_search_pl/LOG/04_FFT/LOG_04-FFT-34.28.txt\n",
      "程序运行路径为: /home/pl/work/python-workspance/FAST_pulsar_search_pl/03_barydata\n",
      "程序运行路径为: /home/pl/work/python-workspance/FAST_pulsar_search_pl/03_barydata\n",
      "日志文件为：/home/pl/work/python-workspance/FAST_pulsar_search_pl/LOG/04_FFT/LOG_04-FFT-34.27.txt\n",
      "日志文件为：/home/pl/work/python-workspance/FAST_pulsar_search_pl/LOG/04_FFT/LOG_04-FFT-34.29.txt\n",
      "日志文件为：/home/pl/work/python-workspance/FAST_pulsar_search_pl/LOG/04_FFT/LOG_04-FFT-34.30.txt\n",
      "程序运行路径为: /home/pl/work/python-workspance/FAST_pulsar_search_pl/03_barydata\n",
      "日志文件为：/home/pl/work/python-workspance/FAST_pulsar_search_pl/LOG/04_FFT/LOG_04-FFT-34.31.txt\n",
      "运行命令：\u001b[96mrealfft  /home/pl/work/python-workspance/FAST_pulsar_search_pl/03_barydata/j1631_FAST_pulsar_search_pl_bary_DM34.25.dat\u001b[0m\n",
      "运行命令：\u001b[96mrealfft  /home/pl/work/python-workspance/FAST_pulsar_search_pl/03_barydata/j1631_FAST_pulsar_search_pl_bary_DM34.26.dat\u001b[0m\n",
      "\u001b[94m运行时间： 0.0秒\u001b[0m\n",
      "\u001b[94m运行时间： 0.0秒\u001b[0m\n",
      "运行命令：\u001b[96mrealfft  /home/pl/work/python-workspance/FAST_pulsar_search_pl/03_barydata/j1631_FAST_pulsar_search_pl_bary_DM34.24.dat\u001b[0m\n",
      "运行命令：\u001b[96mrealfft  /home/pl/work/python-workspance/FAST_pulsar_search_pl/03_barydata/j1631_FAST_pulsar_search_pl_bary_DM34.28.dat\u001b[0m\n",
      "\u001b[94m运行时间： 0.0秒\u001b[0m\n",
      "\u001b[94m运行时间： 0.0秒\u001b[0m\n",
      "运行命令：\u001b[96mrealfft  /home/pl/work/python-workspance/FAST_pulsar_search_pl/03_barydata/j1631_FAST_pulsar_search_pl_bary_DM34.27.dat\u001b[0m\n",
      "\u001b[94m运行时间： 0.0秒\u001b[0m\n",
      "运行命令：\u001b[96mrealfft  /home/pl/work/python-workspance/FAST_pulsar_search_pl/03_barydata/j1631_FAST_pulsar_search_pl_bary_DM34.29.dat\u001b[0m\n",
      "运行命令：\u001b[96mrealfft  /home/pl/work/python-workspance/FAST_pulsar_search_pl/03_barydata/j1631_FAST_pulsar_search_pl_bary_DM34.30.dat\u001b[0m\n",
      "\u001b[94m运行时间： 0.0秒\u001b[0m\n",
      "\u001b[94m运行时间： 0.0秒\u001b[0m\n",
      "运行命令：\u001b[96mrealfft  /home/pl/work/python-workspance/FAST_pulsar_search_pl/03_barydata/j1631_FAST_pulsar_search_pl_bary_DM34.31.dat\u001b[0m\n",
      "\u001b[94m运行时间： 0.0秒\u001b[0m\n"
     ]
    },
    {
     "name": "stderr",
     "output_type": "stream",
     "text": [
      "realfft-8核:  75%|███████▌  | 225/300 [00:58<00:19,  3.94cmd/s]"
     ]
    },
    {
     "name": "stdout",
     "output_type": "stream",
     "text": [
      "程序运行路径为: /home/pl/work/python-workspance/FAST_pulsar_search_pl/03_barydata\n",
      "日志文件为：/home/pl/work/python-workspance/FAST_pulsar_search_pl/LOG/04_FFT/LOG_04-FFT-34.32.txt\n",
      "程序运行路径为: /home/pl/work/python-workspance/FAST_pulsar_search_pl/03_barydata\n",
      "日志文件为：/home/pl/work/python-workspance/FAST_pulsar_search_pl/LOG/04_FFT/LOG_04-FFT-34.33.txt\n",
      "程序运行路径为: /home/pl/work/python-workspance/FAST_pulsar_search_pl/03_barydata\n",
      "日志文件为：/home/pl/work/python-workspance/FAST_pulsar_search_pl/LOG/04_FFT/LOG_04-FFT-34.34.txt\n",
      "程序运行路径为: /home/pl/work/python-workspance/FAST_pulsar_search_pl/03_barydata\n",
      "日志文件为：/home/pl/work/python-workspance/FAST_pulsar_search_pl/LOG/04_FFT/LOG_04-FFT-34.35.txt\n",
      "程序运行路径为: /home/pl/work/python-workspance/FAST_pulsar_search_pl/03_barydata\n",
      "程序运行路径为: /home/pl/work/python-workspance/FAST_pulsar_search_pl/03_barydata\n",
      "程序运行路径为: /home/pl/work/python-workspance/FAST_pulsar_search_pl/03_barydata\n",
      "日志文件为：/home/pl/work/python-workspance/FAST_pulsar_search_pl/LOG/04_FFT/LOG_04-FFT-34.36.txt\n",
      "日志文件为：/home/pl/work/python-workspance/FAST_pulsar_search_pl/LOG/04_FFT/LOG_04-FFT-34.38.txt\n",
      "日志文件为：/home/pl/work/python-workspance/FAST_pulsar_search_pl/LOG/04_FFT/LOG_04-FFT-34.37.txt\n",
      "程序运行路径为: /home/pl/work/python-workspance/FAST_pulsar_search_pl/03_barydata\n",
      "日志文件为：/home/pl/work/python-workspance/FAST_pulsar_search_pl/LOG/04_FFT/LOG_04-FFT-34.39.txt\n",
      "运行命令：\u001b[96mrealfft  /home/pl/work/python-workspance/FAST_pulsar_search_pl/03_barydata/j1631_FAST_pulsar_search_pl_bary_DM34.34.dat\u001b[0m\n",
      "运行命令：\u001b[96mrealfft  /home/pl/work/python-workspance/FAST_pulsar_search_pl/03_barydata/j1631_FAST_pulsar_search_pl_bary_DM34.35.dat\u001b[0m\n",
      "运行命令：\u001b[96mrealfft  /home/pl/work/python-workspance/FAST_pulsar_search_pl/03_barydata/j1631_FAST_pulsar_search_pl_bary_DM34.33.dat\u001b[0m\n",
      "\u001b[94m运行时间： 0.0秒\u001b[0m\n",
      "\u001b[94m运行时间： 0.0秒\u001b[0m\n",
      "\u001b[94m运行时间： 0.0秒\u001b[0m\n",
      "运行命令：\u001b[96mrealfft  /home/pl/work/python-workspance/FAST_pulsar_search_pl/03_barydata/j1631_FAST_pulsar_search_pl_bary_DM34.32.dat\u001b[0m\n",
      "\u001b[94m运行时间： 0.0秒\u001b[0m\n",
      "运行命令：\u001b[96mrealfft  /home/pl/work/python-workspance/FAST_pulsar_search_pl/03_barydata/j1631_FAST_pulsar_search_pl_bary_DM34.36.dat\u001b[0m\n",
      "运行命令：\u001b[96mrealfft  /home/pl/work/python-workspance/FAST_pulsar_search_pl/03_barydata/j1631_FAST_pulsar_search_pl_bary_DM34.38.dat\u001b[0m\n",
      "\u001b[94m运行时间： 0.0秒\u001b[0m\n",
      "\u001b[94m运行时间： 0.0秒\u001b[0m\n",
      "运行命令：\u001b[96mrealfft  /home/pl/work/python-workspance/FAST_pulsar_search_pl/03_barydata/j1631_FAST_pulsar_search_pl_bary_DM34.37.dat\u001b[0m\n",
      "\u001b[94m运行时间： 0.0秒\u001b[0m\n",
      "运行命令：\u001b[96mrealfft  /home/pl/work/python-workspance/FAST_pulsar_search_pl/03_barydata/j1631_FAST_pulsar_search_pl_bary_DM34.39.dat\u001b[0m\n",
      "\u001b[94m运行时间： 0.0秒\u001b[0m\n"
     ]
    },
    {
     "name": "stderr",
     "output_type": "stream",
     "text": [
      "realfft-8核:  78%|███████▊  | 233/300 [01:00<00:17,  3.94cmd/s]"
     ]
    },
    {
     "name": "stdout",
     "output_type": "stream",
     "text": [
      "程序运行路径为: /home/pl/work/python-workspance/FAST_pulsar_search_pl/03_barydata\n",
      "程序运行路径为: /home/pl/work/python-workspance/FAST_pulsar_search_pl/03_barydata\n",
      "程序运行路径为: /home/pl/work/python-workspance/FAST_pulsar_search_pl/03_barydata\n",
      "程序运行路径为: /home/pl/work/python-workspance/FAST_pulsar_search_pl/03_barydata\n",
      "程序运行路径为: /home/pl/work/python-workspance/FAST_pulsar_search_pl/03_barydata\n",
      "程序运行路径为: /home/pl/work/python-workspance/FAST_pulsar_search_pl/03_barydata\n",
      "程序运行路径为: /home/pl/work/python-workspance/FAST_pulsar_search_pl/03_barydata\n",
      "日志文件为：/home/pl/work/python-workspance/FAST_pulsar_search_pl/LOG/04_FFT/LOG_04-FFT-34.40.txt\n",
      "日志文件为：/home/pl/work/python-workspance/FAST_pulsar_search_pl/LOG/04_FFT/LOG_04-FFT-34.43.txt\n",
      "日志文件为：/home/pl/work/python-workspance/FAST_pulsar_search_pl/LOG/04_FFT/LOG_04-FFT-34.41.txt\n",
      "日志文件为：/home/pl/work/python-workspance/FAST_pulsar_search_pl/LOG/04_FFT/LOG_04-FFT-34.44.txt\n",
      "日志文件为：/home/pl/work/python-workspance/FAST_pulsar_search_pl/LOG/04_FFT/LOG_04-FFT-34.42.txt\n",
      "日志文件为：/home/pl/work/python-workspance/FAST_pulsar_search_pl/LOG/04_FFT/LOG_04-FFT-34.46.txt\n",
      "日志文件为：/home/pl/work/python-workspance/FAST_pulsar_search_pl/LOG/04_FFT/LOG_04-FFT-34.45.txt\n",
      "程序运行路径为: /home/pl/work/python-workspance/FAST_pulsar_search_pl/03_barydata\n",
      "日志文件为：/home/pl/work/python-workspance/FAST_pulsar_search_pl/LOG/04_FFT/LOG_04-FFT-34.47.txt\n",
      "运行命令：\u001b[96mrealfft  /home/pl/work/python-workspance/FAST_pulsar_search_pl/03_barydata/j1631_FAST_pulsar_search_pl_bary_DM34.45.dat\u001b[0m\n",
      "\u001b[94m运行时间： 0.0秒\u001b[0m\n",
      "运行命令：\u001b[96mrealfft  /home/pl/work/python-workspance/FAST_pulsar_search_pl/03_barydata/j1631_FAST_pulsar_search_pl_bary_DM34.40.dat\u001b[0m\n",
      "\u001b[94m运行时间： 0.0秒\u001b[0m\n",
      "运行命令：\u001b[96mrealfft  /home/pl/work/python-workspance/FAST_pulsar_search_pl/03_barydata/j1631_FAST_pulsar_search_pl_bary_DM34.41.dat\u001b[0m\n",
      "\u001b[94m运行时间： 0.0秒\u001b[0m\n",
      "运行命令：\u001b[96mrealfft  /home/pl/work/python-workspance/FAST_pulsar_search_pl/03_barydata/j1631_FAST_pulsar_search_pl_bary_DM34.44.dat\u001b[0m\n",
      "运行命令：\u001b[96mrealfft  /home/pl/work/python-workspance/FAST_pulsar_search_pl/03_barydata/j1631_FAST_pulsar_search_pl_bary_DM34.42.dat\u001b[0m\n",
      "\u001b[94m运行时间： 0.0秒\u001b[0m\n",
      "运行命令：\u001b[96mrealfft  /home/pl/work/python-workspance/FAST_pulsar_search_pl/03_barydata/j1631_FAST_pulsar_search_pl_bary_DM34.43.dat\u001b[0m\n",
      "\u001b[94m运行时间： 0.0秒\u001b[0m\n",
      "运行命令：\u001b[96mrealfft  /home/pl/work/python-workspance/FAST_pulsar_search_pl/03_barydata/j1631_FAST_pulsar_search_pl_bary_DM34.46.dat\u001b[0m\n",
      "\u001b[94m运行时间： 0.0秒\u001b[0m\n",
      "\u001b[94m运行时间： 0.0秒\u001b[0m\n",
      "运行命令：\u001b[96mrealfft  /home/pl/work/python-workspance/FAST_pulsar_search_pl/03_barydata/j1631_FAST_pulsar_search_pl_bary_DM34.47.dat\u001b[0m\n",
      "\u001b[94m运行时间： 0.0秒\u001b[0m\n"
     ]
    },
    {
     "name": "stderr",
     "output_type": "stream",
     "text": [
      "realfft-8核:  80%|████████  | 241/300 [01:03<00:14,  3.94cmd/s]"
     ]
    },
    {
     "name": "stdout",
     "output_type": "stream",
     "text": [
      "程序运行路径为: /home/pl/work/python-workspance/FAST_pulsar_search_pl/03_barydata\n",
      "日志文件为：/home/pl/work/python-workspance/FAST_pulsar_search_pl/LOG/04_FFT/LOG_04-FFT-34.48.txt\n",
      "程序运行路径为: /home/pl/work/python-workspance/FAST_pulsar_search_pl/03_barydata\n",
      "日志文件为：/home/pl/work/python-workspance/FAST_pulsar_search_pl/LOG/04_FFT/LOG_04-FFT-34.49.txt\n",
      "程序运行路径为: /home/pl/work/python-workspance/FAST_pulsar_search_pl/03_barydata\n",
      "日志文件为：/home/pl/work/python-workspance/FAST_pulsar_search_pl/LOG/04_FFT/LOG_04-FFT-34.50.txt\n",
      "程序运行路径为: /home/pl/work/python-workspance/FAST_pulsar_search_pl/03_barydata\n",
      "程序运行路径为: /home/pl/work/python-workspance/FAST_pulsar_search_pl/03_barydata\n",
      "日志文件为：/home/pl/work/python-workspance/FAST_pulsar_search_pl/LOG/04_FFT/LOG_04-FFT-34.51.txt\n",
      "程序运行路径为: /home/pl/work/python-workspance/FAST_pulsar_search_pl/03_barydata\n",
      "程序运行路径为: /home/pl/work/python-workspance/FAST_pulsar_search_pl/03_barydata\n",
      "日志文件为：/home/pl/work/python-workspance/FAST_pulsar_search_pl/LOG/04_FFT/LOG_04-FFT-34.54.txt\n",
      "日志文件为：/home/pl/work/python-workspance/FAST_pulsar_search_pl/LOG/04_FFT/LOG_04-FFT-34.53.txt\n",
      "日志文件为：/home/pl/work/python-workspance/FAST_pulsar_search_pl/LOG/04_FFT/LOG_04-FFT-34.52.txt\n",
      "运行命令：\u001b[96mrealfft  /home/pl/work/python-workspance/FAST_pulsar_search_pl/03_barydata/j1631_FAST_pulsar_search_pl_bary_DM34.48.dat\u001b[0m\n",
      "程序运行路径为: /home/pl/work/python-workspance/FAST_pulsar_search_pl/03_barydata\n",
      "日志文件为：/home/pl/work/python-workspance/FAST_pulsar_search_pl/LOG/04_FFT/LOG_04-FFT-34.55.txt\n",
      "\u001b[94m运行时间： 0.0秒\u001b[0m\n",
      "运行命令：\u001b[96mrealfft  /home/pl/work/python-workspance/FAST_pulsar_search_pl/03_barydata/j1631_FAST_pulsar_search_pl_bary_DM34.52.dat\u001b[0m\n",
      "运行命令：\u001b[96mrealfft  /home/pl/work/python-workspance/FAST_pulsar_search_pl/03_barydata/j1631_FAST_pulsar_search_pl_bary_DM34.50.dat\u001b[0m\n",
      "运行命令：\u001b[96mrealfft  /home/pl/work/python-workspance/FAST_pulsar_search_pl/03_barydata/j1631_FAST_pulsar_search_pl_bary_DM34.49.dat\u001b[0m\n",
      "运行命令：\u001b[96mrealfft  /home/pl/work/python-workspance/FAST_pulsar_search_pl/03_barydata/j1631_FAST_pulsar_search_pl_bary_DM34.53.dat\u001b[0m\n",
      "运行命令：\u001b[96mrealfft  /home/pl/work/python-workspance/FAST_pulsar_search_pl/03_barydata/j1631_FAST_pulsar_search_pl_bary_DM34.51.dat\u001b[0m\n",
      "\u001b[94m运行时间： 0.0秒\u001b[0m\n",
      "\u001b[94m运行时间： 0.0秒\u001b[0m\n",
      "运行命令：\u001b[96mrealfft  /home/pl/work/python-workspance/FAST_pulsar_search_pl/03_barydata/j1631_FAST_pulsar_search_pl_bary_DM34.54.dat\u001b[0m\n",
      "\u001b[94m运行时间： 0.0秒\u001b[0m\n",
      "\u001b[94m运行时间： 0.0秒\u001b[0m\n",
      "\u001b[94m运行时间： 0.0秒\u001b[0m\n",
      "\u001b[94m运行时间： 0.0秒\u001b[0m\n",
      "运行命令：\u001b[96mrealfft  /home/pl/work/python-workspance/FAST_pulsar_search_pl/03_barydata/j1631_FAST_pulsar_search_pl_bary_DM34.55.dat\u001b[0m\n",
      "\u001b[94m运行时间： 0.0秒\u001b[0m\n"
     ]
    },
    {
     "name": "stderr",
     "output_type": "stream",
     "text": [
      "realfft-8核:  83%|████████▎ | 249/300 [01:05<00:12,  3.94cmd/s]"
     ]
    },
    {
     "name": "stdout",
     "output_type": "stream",
     "text": [
      "程序运行路径为: /home/pl/work/python-workspance/FAST_pulsar_search_pl/03_barydata\n",
      "日志文件为：/home/pl/work/python-workspance/FAST_pulsar_search_pl/LOG/04_FFT/LOG_04-FFT-34.56.txt\n",
      "程序运行路径为: /home/pl/work/python-workspance/FAST_pulsar_search_pl/03_barydata\n",
      "程序运行路径为: /home/pl/work/python-workspance/FAST_pulsar_search_pl/03_barydata\n",
      "运行命令：\u001b[96mrealfft  /home/pl/work/python-workspance/FAST_pulsar_search_pl/03_barydata/j1631_FAST_pulsar_search_pl_bary_DM34.56.dat\u001b[0m\n",
      "程序运行路径为: /home/pl/work/python-workspance/FAST_pulsar_search_pl/03_barydata\n",
      "程序运行路径为: /home/pl/work/python-workspance/FAST_pulsar_search_pl/03_barydata\n",
      "程序运行路径为: /home/pl/work/python-workspance/FAST_pulsar_search_pl/03_barydata\n",
      "日志文件为：/home/pl/work/python-workspance/FAST_pulsar_search_pl/LOG/04_FFT/LOG_04-FFT-34.60.txt\n",
      "程序运行路径为: /home/pl/work/python-workspance/FAST_pulsar_search_pl/03_barydata\n",
      "日志文件为：/home/pl/work/python-workspance/FAST_pulsar_search_pl/LOG/04_FFT/LOG_04-FFT-34.57.txt\n",
      "\u001b[94m运行时间： 0.0秒\u001b[0m\n",
      "日志文件为：/home/pl/work/python-workspance/FAST_pulsar_search_pl/LOG/04_FFT/LOG_04-FFT-34.59.txt\n",
      "日志文件为：/home/pl/work/python-workspance/FAST_pulsar_search_pl/LOG/04_FFT/LOG_04-FFT-34.61.txt\n",
      "日志文件为：/home/pl/work/python-workspance/FAST_pulsar_search_pl/LOG/04_FFT/LOG_04-FFT-34.58.txt\n",
      "日志文件为：/home/pl/work/python-workspance/FAST_pulsar_search_pl/LOG/04_FFT/LOG_04-FFT-34.62.txt\n",
      "程序运行路径为: /home/pl/work/python-workspance/FAST_pulsar_search_pl/03_barydata\n",
      "日志文件为：/home/pl/work/python-workspance/FAST_pulsar_search_pl/LOG/04_FFT/LOG_04-FFT-34.63.txt\n",
      "运行命令：\u001b[96mrealfft  /home/pl/work/python-workspance/FAST_pulsar_search_pl/03_barydata/j1631_FAST_pulsar_search_pl_bary_DM34.58.dat\u001b[0m\n",
      "\u001b[94m运行时间： 0.0秒\u001b[0m\n",
      "运行命令：\u001b[96mrealfft  /home/pl/work/python-workspance/FAST_pulsar_search_pl/03_barydata/j1631_FAST_pulsar_search_pl_bary_DM34.62.dat\u001b[0m\n",
      "\u001b[94m运行时间： 0.0秒\u001b[0m\n",
      "运行命令：\u001b[96mrealfft  /home/pl/work/python-workspance/FAST_pulsar_search_pl/03_barydata/j1631_FAST_pulsar_search_pl_bary_DM34.57.dat\u001b[0m\n",
      "\u001b[94m运行时间： 0.0秒\u001b[0m\n",
      "运行命令：\u001b[96mrealfft  /home/pl/work/python-workspance/FAST_pulsar_search_pl/03_barydata/j1631_FAST_pulsar_search_pl_bary_DM34.60.dat\u001b[0m\n",
      "\u001b[94m运行时间： 0.0秒\u001b[0m\n",
      "运行命令：\u001b[96mrealfft  /home/pl/work/python-workspance/FAST_pulsar_search_pl/03_barydata/j1631_FAST_pulsar_search_pl_bary_DM34.59.dat\u001b[0m\n",
      "\u001b[94m运行时间： 0.0秒\u001b[0m\n",
      "运行命令：\u001b[96mrealfft  /home/pl/work/python-workspance/FAST_pulsar_search_pl/03_barydata/j1631_FAST_pulsar_search_pl_bary_DM34.63.dat\u001b[0m\n",
      "运行命令：\u001b[96mrealfft  /home/pl/work/python-workspance/FAST_pulsar_search_pl/03_barydata/j1631_FAST_pulsar_search_pl_bary_DM34.61.dat\u001b[0m\n",
      "\u001b[94m运行时间： 0.0秒\u001b[0m\n",
      "\u001b[94m运行时间： 0.0秒\u001b[0m\n"
     ]
    },
    {
     "name": "stderr",
     "output_type": "stream",
     "text": [
      "realfft-8核:  86%|████████▌ | 257/300 [01:07<00:10,  3.95cmd/s]"
     ]
    },
    {
     "name": "stdout",
     "output_type": "stream",
     "text": [
      "程序运行路径为: /home/pl/work/python-workspance/FAST_pulsar_search_pl/03_barydata\n",
      "日志文件为：/home/pl/work/python-workspance/FAST_pulsar_search_pl/LOG/04_FFT/LOG_04-FFT-34.64.txt\n",
      "运行命令：\u001b[96mrealfft  /home/pl/work/python-workspance/FAST_pulsar_search_pl/03_barydata/j1631_FAST_pulsar_search_pl_bary_DM34.64.dat\u001b[0m\n",
      "\u001b[94m运行时间： 0.0秒\u001b[0m\n",
      "程序运行路径为: /home/pl/work/python-workspance/FAST_pulsar_search_pl/03_barydata\n",
      "日志文件为：/home/pl/work/python-workspance/FAST_pulsar_search_pl/LOG/04_FFT/LOG_04-FFT-34.65.txt\n",
      "程序运行路径为: /home/pl/work/python-workspance/FAST_pulsar_search_pl/03_barydata\n",
      "日志文件为：/home/pl/work/python-workspance/FAST_pulsar_search_pl/LOG/04_FFT/LOG_04-FFT-34.66.txt\n",
      "程序运行路径为: /home/pl/work/python-workspance/FAST_pulsar_search_pl/03_barydata\n",
      "日志文件为：/home/pl/work/python-workspance/FAST_pulsar_search_pl/LOG/04_FFT/LOG_04-FFT-34.67.txt\n",
      "程序运行路径为: /home/pl/work/python-workspance/FAST_pulsar_search_pl/03_barydata\n",
      "日志文件为：/home/pl/work/python-workspance/FAST_pulsar_search_pl/LOG/04_FFT/LOG_04-FFT-34.68.txt\n",
      "程序运行路径为: /home/pl/work/python-workspance/FAST_pulsar_search_pl/03_barydata\n",
      "日志文件为：/home/pl/work/python-workspance/FAST_pulsar_search_pl/LOG/04_FFT/LOG_04-FFT-34.69.txt\n",
      "运行命令：\u001b[96mrealfft  /home/pl/work/python-workspance/FAST_pulsar_search_pl/03_barydata/j1631_FAST_pulsar_search_pl_bary_DM34.65.dat\u001b[0m\n",
      "程序运行路径为: /home/pl/work/python-workspance/FAST_pulsar_search_pl/03_barydata\n",
      "程序运行路径为: /home/pl/work/python-workspance/FAST_pulsar_search_pl/03_barydata\n",
      "日志文件为：/home/pl/work/python-workspance/FAST_pulsar_search_pl/LOG/04_FFT/LOG_04-FFT-34.70.txt\n",
      "日志文件为：/home/pl/work/python-workspance/FAST_pulsar_search_pl/LOG/04_FFT/LOG_04-FFT-34.71.txt\n",
      "\u001b[94m运行时间： 0.0秒\u001b[0m\n",
      "运行命令：\u001b[96mrealfft  /home/pl/work/python-workspance/FAST_pulsar_search_pl/03_barydata/j1631_FAST_pulsar_search_pl_bary_DM34.68.dat\u001b[0m\n",
      "运行命令：\u001b[96mrealfft  /home/pl/work/python-workspance/FAST_pulsar_search_pl/03_barydata/j1631_FAST_pulsar_search_pl_bary_DM34.66.dat\u001b[0m\n",
      "\u001b[94m运行时间： 0.0秒\u001b[0m\n",
      "运行命令：\u001b[96mrealfft  /home/pl/work/python-workspance/FAST_pulsar_search_pl/03_barydata/j1631_FAST_pulsar_search_pl_bary_DM34.67.dat\u001b[0m\n",
      "\u001b[94m运行时间： 0.0秒\u001b[0m\n",
      "运行命令：\u001b[96mrealfft  /home/pl/work/python-workspance/FAST_pulsar_search_pl/03_barydata/j1631_FAST_pulsar_search_pl_bary_DM34.69.dat\u001b[0m\n",
      "\u001b[94m运行时间： 0.0秒\u001b[0m\n",
      "\u001b[94m运行时间： 0.0秒\u001b[0m\n",
      "运行命令：\u001b[96mrealfft  /home/pl/work/python-workspance/FAST_pulsar_search_pl/03_barydata/j1631_FAST_pulsar_search_pl_bary_DM34.71.dat\u001b[0m\n",
      "运行命令：\u001b[96mrealfft  /home/pl/work/python-workspance/FAST_pulsar_search_pl/03_barydata/j1631_FAST_pulsar_search_pl_bary_DM34.70.dat\u001b[0m\n",
      "\u001b[94m运行时间： 0.0秒\u001b[0m\n",
      "\u001b[94m运行时间： 0.0秒\u001b[0m\n"
     ]
    },
    {
     "name": "stderr",
     "output_type": "stream",
     "text": [
      "realfft-8核:  88%|████████▊ | 265/300 [01:09<00:08,  3.95cmd/s]"
     ]
    },
    {
     "name": "stdout",
     "output_type": "stream",
     "text": [
      "程序运行路径为: /home/pl/work/python-workspance/FAST_pulsar_search_pl/03_barydata\n",
      "日志文件为：/home/pl/work/python-workspance/FAST_pulsar_search_pl/LOG/04_FFT/LOG_04-FFT-34.72.txt\n",
      "运行命令：\u001b[96mrealfft  /home/pl/work/python-workspance/FAST_pulsar_search_pl/03_barydata/j1631_FAST_pulsar_search_pl_bary_DM34.72.dat\u001b[0m\n",
      "\u001b[94m运行时间： 0.0秒\u001b[0m\n",
      "程序运行路径为: /home/pl/work/python-workspance/FAST_pulsar_search_pl/03_barydata\n",
      "日志文件为：/home/pl/work/python-workspance/FAST_pulsar_search_pl/LOG/04_FFT/LOG_04-FFT-34.73.txt\n",
      "程序运行路径为: /home/pl/work/python-workspance/FAST_pulsar_search_pl/03_barydata\n",
      "程序运行路径为: /home/pl/work/python-workspance/FAST_pulsar_search_pl/03_barydata\n",
      "日志文件为：/home/pl/work/python-workspance/FAST_pulsar_search_pl/LOG/04_FFT/LOG_04-FFT-34.74.txt\n",
      "程序运行路径为: /home/pl/work/python-workspance/FAST_pulsar_search_pl/03_barydata\n",
      "日志文件为：/home/pl/work/python-workspance/FAST_pulsar_search_pl/LOG/04_FFT/LOG_04-FFT-34.75.txt\n",
      "程序运行路径为: /home/pl/work/python-workspance/FAST_pulsar_search_pl/03_barydata\n",
      "日志文件为：/home/pl/work/python-workspance/FAST_pulsar_search_pl/LOG/04_FFT/LOG_04-FFT-34.76.txt\n",
      "日志文件为：/home/pl/work/python-workspance/FAST_pulsar_search_pl/LOG/04_FFT/LOG_04-FFT-34.77.txt\n",
      "程序运行路径为: /home/pl/work/python-workspance/FAST_pulsar_search_pl/03_barydata\n",
      "程序运行路径为: /home/pl/work/python-workspance/FAST_pulsar_search_pl/03_barydata\n",
      "日志文件为：/home/pl/work/python-workspance/FAST_pulsar_search_pl/LOG/04_FFT/LOG_04-FFT-34.78.txt\n",
      "日志文件为：/home/pl/work/python-workspance/FAST_pulsar_search_pl/LOG/04_FFT/LOG_04-FFT-34.79.txt\n",
      "运行命令：\u001b[96mrealfft  /home/pl/work/python-workspance/FAST_pulsar_search_pl/03_barydata/j1631_FAST_pulsar_search_pl_bary_DM34.73.dat\u001b[0m\n",
      "\u001b[94m运行时间： 0.0秒\u001b[0m\n",
      "运行命令：\u001b[96mrealfft  /home/pl/work/python-workspance/FAST_pulsar_search_pl/03_barydata/j1631_FAST_pulsar_search_pl_bary_DM34.75.dat\u001b[0m\n",
      "\u001b[94m运行时间： 0.0秒\u001b[0m\n",
      "运行命令：\u001b[96mrealfft  /home/pl/work/python-workspance/FAST_pulsar_search_pl/03_barydata/j1631_FAST_pulsar_search_pl_bary_DM34.76.dat\u001b[0m\n",
      "运行命令：\u001b[96mrealfft  /home/pl/work/python-workspance/FAST_pulsar_search_pl/03_barydata/j1631_FAST_pulsar_search_pl_bary_DM34.74.dat\u001b[0m\n",
      "\u001b[94m运行时间： 0.0秒\u001b[0m\n",
      "\u001b[94m运行时间： 0.0秒\u001b[0m\n",
      "运行命令：\u001b[96mrealfft  /home/pl/work/python-workspance/FAST_pulsar_search_pl/03_barydata/j1631_FAST_pulsar_search_pl_bary_DM34.79.dat\u001b[0m\n",
      "运行命令：\u001b[96mrealfft  /home/pl/work/python-workspance/FAST_pulsar_search_pl/03_barydata/j1631_FAST_pulsar_search_pl_bary_DM34.78.dat\u001b[0m\n",
      "运行命令：\u001b[96mrealfft  /home/pl/work/python-workspance/FAST_pulsar_search_pl/03_barydata/j1631_FAST_pulsar_search_pl_bary_DM34.77.dat\u001b[0m\n",
      "\u001b[94m运行时间： 0.0秒\u001b[0m\n",
      "\u001b[94m运行时间： 0.0秒\u001b[0m\n",
      "\u001b[94m运行时间： 0.0秒\u001b[0m\n"
     ]
    },
    {
     "name": "stderr",
     "output_type": "stream",
     "text": [
      "realfft-8核:  91%|█████████ | 273/300 [01:11<00:06,  3.95cmd/s]"
     ]
    },
    {
     "name": "stdout",
     "output_type": "stream",
     "text": [
      "程序运行路径为: /home/pl/work/python-workspance/FAST_pulsar_search_pl/03_barydata\n",
      "日志文件为：/home/pl/work/python-workspance/FAST_pulsar_search_pl/LOG/04_FFT/LOG_04-FFT-34.80.txt\n",
      "程序运行路径为: /home/pl/work/python-workspance/FAST_pulsar_search_pl/03_barydata\n",
      "日志文件为：/home/pl/work/python-workspance/FAST_pulsar_search_pl/LOG/04_FFT/LOG_04-FFT-34.81.txt\n",
      "程序运行路径为: /home/pl/work/python-workspance/FAST_pulsar_search_pl/03_barydata\n",
      "运行命令：\u001b[96mrealfft  /home/pl/work/python-workspance/FAST_pulsar_search_pl/03_barydata/j1631_FAST_pulsar_search_pl_bary_DM34.80.dat\u001b[0m\n",
      "\u001b[94m运行时间： 0.0秒\u001b[0m\n",
      "日志文件为：/home/pl/work/python-workspance/FAST_pulsar_search_pl/LOG/04_FFT/LOG_04-FFT-34.82.txt\n",
      "程序运行路径为: /home/pl/work/python-workspance/FAST_pulsar_search_pl/03_barydata\n",
      "日志文件为：/home/pl/work/python-workspance/FAST_pulsar_search_pl/LOG/04_FFT/LOG_04-FFT-34.83.txt\n",
      "程序运行路径为: /home/pl/work/python-workspance/FAST_pulsar_search_pl/03_barydata\n",
      "日志文件为：/home/pl/work/python-workspance/FAST_pulsar_search_pl/LOG/04_FFT/LOG_04-FFT-34.84.txt\n",
      "运行命令：\u001b[96mrealfft  /home/pl/work/python-workspance/FAST_pulsar_search_pl/03_barydata/j1631_FAST_pulsar_search_pl_bary_DM34.81.dat\u001b[0m\n",
      "\u001b[94m运行时间： 0.0秒\u001b[0m\n",
      "程序运行路径为: /home/pl/work/python-workspance/FAST_pulsar_search_pl/03_barydata\n",
      "程序运行路径为: /home/pl/work/python-workspance/FAST_pulsar_search_pl/03_barydata\n",
      "程序运行路径为: /home/pl/work/python-workspance/FAST_pulsar_search_pl/03_barydata\n",
      "日志文件为：/home/pl/work/python-workspance/FAST_pulsar_search_pl/LOG/04_FFT/LOG_04-FFT-34.85.txt\n",
      "日志文件为：/home/pl/work/python-workspance/FAST_pulsar_search_pl/LOG/04_FFT/LOG_04-FFT-34.86.txt\n",
      "日志文件为：/home/pl/work/python-workspance/FAST_pulsar_search_pl/LOG/04_FFT/LOG_04-FFT-34.87.txt\n",
      "运行命令：\u001b[96mrealfft  /home/pl/work/python-workspance/FAST_pulsar_search_pl/03_barydata/j1631_FAST_pulsar_search_pl_bary_DM34.82.dat\u001b[0m\n",
      "\u001b[94m运行时间： 0.0秒\u001b[0m\n",
      "运行命令：\u001b[96mrealfft  /home/pl/work/python-workspance/FAST_pulsar_search_pl/03_barydata/j1631_FAST_pulsar_search_pl_bary_DM34.83.dat\u001b[0m\n",
      "\u001b[94m运行时间： 0.0秒\u001b[0m\n",
      "运行命令：\u001b[96mrealfft  /home/pl/work/python-workspance/FAST_pulsar_search_pl/03_barydata/j1631_FAST_pulsar_search_pl_bary_DM34.84.dat\u001b[0m\n",
      "\u001b[94m运行时间： 0.0秒\u001b[0m\n",
      "运行命令：\u001b[96mrealfft  /home/pl/work/python-workspance/FAST_pulsar_search_pl/03_barydata/j1631_FAST_pulsar_search_pl_bary_DM34.86.dat\u001b[0m\n",
      "\u001b[94m运行时间： 0.0秒\u001b[0m\n",
      "运行命令：\u001b[96mrealfft  /home/pl/work/python-workspance/FAST_pulsar_search_pl/03_barydata/j1631_FAST_pulsar_search_pl_bary_DM34.87.dat\u001b[0m\n",
      "运行命令：\u001b[96mrealfft  /home/pl/work/python-workspance/FAST_pulsar_search_pl/03_barydata/j1631_FAST_pulsar_search_pl_bary_DM34.85.dat\u001b[0m\n",
      "\u001b[94m运行时间： 0.0秒\u001b[0m\n",
      "\u001b[94m运行时间： 0.0秒\u001b[0m\n"
     ]
    },
    {
     "name": "stderr",
     "output_type": "stream",
     "text": [
      "realfft-8核:  94%|█████████▎| 281/300 [01:13<00:04,  3.95cmd/s]"
     ]
    },
    {
     "name": "stdout",
     "output_type": "stream",
     "text": [
      "程序运行路径为: /home/pl/work/python-workspance/FAST_pulsar_search_pl/03_barydata\n",
      "日志文件为：/home/pl/work/python-workspance/FAST_pulsar_search_pl/LOG/04_FFT/LOG_04-FFT-34.88.txt\n",
      "程序运行路径为: /home/pl/work/python-workspance/FAST_pulsar_search_pl/03_barydata\n",
      "日志文件为：/home/pl/work/python-workspance/FAST_pulsar_search_pl/LOG/04_FFT/LOG_04-FFT-34.89.txt\n",
      "程序运行路径为: /home/pl/work/python-workspance/FAST_pulsar_search_pl/03_barydata\n",
      "运行命令：\u001b[96mrealfft  /home/pl/work/python-workspance/FAST_pulsar_search_pl/03_barydata/j1631_FAST_pulsar_search_pl_bary_DM34.88.dat\u001b[0m\n",
      "日志文件为：/home/pl/work/python-workspance/FAST_pulsar_search_pl/LOG/04_FFT/LOG_04-FFT-34.90.txt\n",
      "\u001b[94m运行时间： 0.0秒\u001b[0m\n",
      "程序运行路径为: /home/pl/work/python-workspance/FAST_pulsar_search_pl/03_barydata\n",
      "运行命令：\u001b[96mrealfft  /home/pl/work/python-workspance/FAST_pulsar_search_pl/03_barydata/j1631_FAST_pulsar_search_pl_bary_DM34.89.dat\u001b[0m\n",
      "日志文件为：/home/pl/work/python-workspance/FAST_pulsar_search_pl/LOG/04_FFT/LOG_04-FFT-34.91.txt\n",
      "\u001b[94m运行时间： 0.0秒\u001b[0m\n",
      "程序运行路径为: /home/pl/work/python-workspance/FAST_pulsar_search_pl/03_barydata\n",
      "日志文件为：/home/pl/work/python-workspance/FAST_pulsar_search_pl/LOG/04_FFT/LOG_04-FFT-34.92.txt\n",
      "程序运行路径为: /home/pl/work/python-workspance/FAST_pulsar_search_pl/03_barydata\n",
      "日志文件为：/home/pl/work/python-workspance/FAST_pulsar_search_pl/LOG/04_FFT/LOG_04-FFT-34.93.txt\n",
      "运行命令：\u001b[96mrealfft  /home/pl/work/python-workspance/FAST_pulsar_search_pl/03_barydata/j1631_FAST_pulsar_search_pl_bary_DM34.90.dat\u001b[0m\n",
      "\u001b[94m运行时间： 0.0秒\u001b[0m\n",
      "程序运行路径为: /home/pl/work/python-workspance/FAST_pulsar_search_pl/03_barydata\n",
      "程序运行路径为: /home/pl/work/python-workspance/FAST_pulsar_search_pl/03_barydata\n",
      "日志文件为：/home/pl/work/python-workspance/FAST_pulsar_search_pl/LOG/04_FFT/LOG_04-FFT-34.94.txt\n",
      "日志文件为：/home/pl/work/python-workspance/FAST_pulsar_search_pl/LOG/04_FFT/LOG_04-FFT-34.95.txt\n",
      "运行命令：\u001b[96mrealfft  /home/pl/work/python-workspance/FAST_pulsar_search_pl/03_barydata/j1631_FAST_pulsar_search_pl_bary_DM34.91.dat\u001b[0m\n",
      "运行命令：\u001b[96mrealfft  /home/pl/work/python-workspance/FAST_pulsar_search_pl/03_barydata/j1631_FAST_pulsar_search_pl_bary_DM34.92.dat\u001b[0m\n",
      "\u001b[94m运行时间： 0.0秒\u001b[0m\n",
      "\u001b[94m运行时间： 0.0秒\u001b[0m\n",
      "运行命令：\u001b[96mrealfft  /home/pl/work/python-workspance/FAST_pulsar_search_pl/03_barydata/j1631_FAST_pulsar_search_pl_bary_DM34.93.dat\u001b[0m\n",
      "\u001b[94m运行时间： 0.0秒\u001b[0m\n",
      "运行命令：\u001b[96mrealfft  /home/pl/work/python-workspance/FAST_pulsar_search_pl/03_barydata/j1631_FAST_pulsar_search_pl_bary_DM34.94.dat\u001b[0m\n",
      "\u001b[94m运行时间： 0.0秒\u001b[0m\n",
      "运行命令：\u001b[96mrealfft  /home/pl/work/python-workspance/FAST_pulsar_search_pl/03_barydata/j1631_FAST_pulsar_search_pl_bary_DM34.95.dat\u001b[0m\n",
      "\u001b[94m运行时间： 0.0秒\u001b[0m\n"
     ]
    },
    {
     "name": "stderr",
     "output_type": "stream",
     "text": [
      "realfft-8核:  96%|█████████▋| 289/300 [01:15<00:02,  3.95cmd/s]"
     ]
    },
    {
     "name": "stdout",
     "output_type": "stream",
     "text": [
      "程序运行路径为: /home/pl/work/python-workspance/FAST_pulsar_search_pl/03_barydata\n",
      "日志文件为：/home/pl/work/python-workspance/FAST_pulsar_search_pl/LOG/04_FFT/LOG_04-FFT-34.96.txt\n",
      "程序运行路径为: /home/pl/work/python-workspance/FAST_pulsar_search_pl/03_barydata\n",
      "日志文件为：/home/pl/work/python-workspance/FAST_pulsar_search_pl/LOG/04_FFT/LOG_04-FFT-34.97.txt\n",
      "程序运行路径为: /home/pl/work/python-workspance/FAST_pulsar_search_pl/03_barydata\n",
      "日志文件为：/home/pl/work/python-workspance/FAST_pulsar_search_pl/LOG/04_FFT/LOG_04-FFT-34.98.txt\n",
      "运行命令：\u001b[96mrealfft  /home/pl/work/python-workspance/FAST_pulsar_search_pl/03_barydata/j1631_FAST_pulsar_search_pl_bary_DM34.97.dat\u001b[0m\n",
      "运行命令：\u001b[96mrealfft  /home/pl/work/python-workspance/FAST_pulsar_search_pl/03_barydata/j1631_FAST_pulsar_search_pl_bary_DM34.96.dat\u001b[0m\n",
      "\u001b[94m运行时间： 0.0秒\u001b[0m\n",
      "\u001b[94m运行时间： 0.0秒\u001b[0m\n",
      "程序运行路径为: /home/pl/work/python-workspance/FAST_pulsar_search_pl/03_barydata\n",
      "日志文件为：/home/pl/work/python-workspance/FAST_pulsar_search_pl/LOG/04_FFT/LOG_04-FFT-34.99.txt\n",
      "运行命令：\u001b[96mrealfft  /home/pl/work/python-workspance/FAST_pulsar_search_pl/03_barydata/j1631_FAST_pulsar_search_pl_bary_DM34.98.dat\u001b[0m\n",
      "\u001b[94m运行时间： 0.0秒\u001b[0m\n",
      "运行命令：\u001b[96mrealfft  /home/pl/work/python-workspance/FAST_pulsar_search_pl/03_barydata/j1631_FAST_pulsar_search_pl_bary_DM34.99.dat\u001b[0m\n",
      "\u001b[94m运行时间： 0.0秒\u001b[0m\n"
     ]
    },
    {
     "name": "stderr",
     "output_type": "stream",
     "text": [
      "realfft-8核: 100%|██████████| 300/300 [01:17<00:00,  3.88cmd/s]\n"
     ]
    },
    {
     "name": "stdout",
     "output_type": "stream",
     "text": [
      "\u001b[95m\n",
      " ==================== 去除红噪声  ====================== \n",
      "\n",
      "\u001b[0m并行质心修正:核数\u001b[95m8\u001b[0m/16\n"
     ]
    },
    {
     "name": "stderr",
     "output_type": "stream",
     "text": [
      "rednoise-8核:   0%|          | 0/300 [00:00<?, ?cmd/s]"
     ]
    },
    {
     "name": "stdout",
     "output_type": "stream",
     "text": [
      "程序运行路径为: /home/pl/work/python-workspance/FAST_pulsar_search_pl/03_barydata\n",
      "程序运行路径为: /home/pl/work/python-workspance/FAST_pulsar_search_pl/03_barydata\n",
      "程序运行路径为: /home/pl/work/python-workspance/FAST_pulsar_search_pl/03_barydata\n",
      "程序运行路径为: /home/pl/work/python-workspance/FAST_pulsar_search_pl/03_barydata\n",
      "程序运行路径为: /home/pl/work/python-workspance/FAST_pulsar_search_pl/03_barydata\n",
      "程序运行路径为: /home/pl/work/python-workspance/FAST_pulsar_search_pl/03_barydata\n",
      "程序运行路径为: /home/pl/work/python-workspance/FAST_pulsar_search_pl/03_barydata\n",
      "日志文件为：/home/pl/work/python-workspance/FAST_pulsar_search_pl/LOG/04_RED/LOG_04-RED-32.02.txt\n",
      "程序运行路径为: /home/pl/work/python-workspance/FAST_pulsar_search_pl/03_barydata\n",
      "日志文件为：/home/pl/work/python-workspance/FAST_pulsar_search_pl/LOG/04_RED/LOG_04-RED-32.03.txt\n",
      "日志文件为：/home/pl/work/python-workspance/FAST_pulsar_search_pl/LOG/04_RED/LOG_04-RED-32.01.txt\n",
      "日志文件为：/home/pl/work/python-workspance/FAST_pulsar_search_pl/LOG/04_RED/LOG_04-RED-32.07.txt\n",
      "日志文件为：/home/pl/work/python-workspance/FAST_pulsar_search_pl/LOG/04_RED/LOG_04-RED-32.00.txt\n",
      "日志文件为：/home/pl/work/python-workspance/FAST_pulsar_search_pl/LOG/04_RED/LOG_04-RED-32.06.txt\n",
      "日志文件为：/home/pl/work/python-workspance/FAST_pulsar_search_pl/LOG/04_RED/LOG_04-RED-32.05.txt\n",
      "日志文件为：/home/pl/work/python-workspance/FAST_pulsar_search_pl/LOG/04_RED/LOG_04-RED-32.04.txt\n",
      "运行命令：\u001b[96mrednoise  /home/pl/work/python-workspance/FAST_pulsar_search_pl/03_barydata/j1631_FAST_pulsar_search_pl_bary_DM32.02.fft\u001b[0m\n",
      "运行命令：\u001b[96mrednoise  /home/pl/work/python-workspance/FAST_pulsar_search_pl/03_barydata/j1631_FAST_pulsar_search_pl_bary_DM32.00.fft\u001b[0m\n",
      "运行命令：\u001b[96mrednoise  /home/pl/work/python-workspance/FAST_pulsar_search_pl/03_barydata/j1631_FAST_pulsar_search_pl_bary_DM32.06.fft\u001b[0m\n",
      "运行命令：\u001b[96mrednoise  /home/pl/work/python-workspance/FAST_pulsar_search_pl/03_barydata/j1631_FAST_pulsar_search_pl_bary_DM32.07.fft\u001b[0m\n",
      "\u001b[94m运行时间： 0.0秒\u001b[0m\n",
      "\u001b[94m运行时间： 0.0秒\u001b[0m\n",
      "运行命令：\u001b[96mrednoise  /home/pl/work/python-workspance/FAST_pulsar_search_pl/03_barydata/j1631_FAST_pulsar_search_pl_bary_DM32.01.fft\u001b[0m\n",
      "运行命令：\u001b[96mrednoise  /home/pl/work/python-workspance/FAST_pulsar_search_pl/03_barydata/j1631_FAST_pulsar_search_pl_bary_DM32.03.fft\u001b[0m\n",
      "运行命令：\u001b[96mrednoise  /home/pl/work/python-workspance/FAST_pulsar_search_pl/03_barydata/j1631_FAST_pulsar_search_pl_bary_DM32.04.fft\u001b[0m\n",
      "\u001b[94m运行时间： 0.0秒\u001b[0m\n",
      "运行命令：\u001b[96mrednoise  /home/pl/work/python-workspance/FAST_pulsar_search_pl/03_barydata/j1631_FAST_pulsar_search_pl_bary_DM32.05.fft\u001b[0m\n",
      "\u001b[94m运行时间： 0.0秒\u001b[0m\n",
      "\u001b[94m运行时间： 0.0秒\u001b[0m\n",
      "\u001b[94m运行时间： 0.0秒\u001b[0m\n",
      "\u001b[94m运行时间： 0.0秒\u001b[0m\n",
      "\u001b[94m运行时间： 0.0秒\u001b[0m\n",
      "程序运行路径为: /home/pl/work/python-workspance/FAST_pulsar_search_pl/03_barydata\n",
      "日志文件为：/home/pl/work/python-workspance/FAST_pulsar_search_pl/LOG/04_RED/LOG_04-RED-32.08.txt\n"
     ]
    },
    {
     "name": "stderr",
     "output_type": "stream",
     "text": [
      "rednoise-8核:   0%|          | 1/300 [00:02<10:22,  2.08s/cmd]"
     ]
    },
    {
     "name": "stdout",
     "output_type": "stream",
     "text": [
      "程序运行路径为: /home/pl/work/python-workspance/FAST_pulsar_search_pl/03_barydata\n",
      "程序运行路径为: /home/pl/work/python-workspance/FAST_pulsar_search_pl/03_barydata\n",
      "程序运行路径为: /home/pl/work/python-workspance/FAST_pulsar_search_pl/03_barydata\n",
      "程序运行路径为: /home/pl/work/python-workspance/FAST_pulsar_search_pl/03_barydata\n",
      "程序运行路径为: /home/pl/work/python-workspance/FAST_pulsar_search_pl/03_barydata\n",
      "日志文件为：/home/pl/work/python-workspance/FAST_pulsar_search_pl/LOG/04_RED/LOG_04-RED-32.10.txt\n",
      "日志文件为：/home/pl/work/python-workspance/FAST_pulsar_search_pl/LOG/04_RED/LOG_04-RED-32.11.txt\n",
      "日志文件为：/home/pl/work/python-workspance/FAST_pulsar_search_pl/LOG/04_RED/LOG_04-RED-32.14.txt\n",
      "日志文件为：/home/pl/work/python-workspance/FAST_pulsar_search_pl/LOG/04_RED/LOG_04-RED-32.12.txt\n",
      "程序运行路径为: /home/pl/work/python-workspance/FAST_pulsar_search_pl/03_barydata\n",
      "日志文件为：/home/pl/work/python-workspance/FAST_pulsar_search_pl/LOG/04_RED/LOG_04-RED-32.13.txt\n",
      "日志文件为：/home/pl/work/python-workspance/FAST_pulsar_search_pl/LOG/04_RED/LOG_04-RED-32.15.txt\n",
      "程序运行路径为: /home/pl/work/python-workspance/FAST_pulsar_search_pl/03_barydata\n",
      "日志文件为：/home/pl/work/python-workspance/FAST_pulsar_search_pl/LOG/04_RED/LOG_04-RED-32.09.txt\n",
      "运行命令：\u001b[96mrednoise  /home/pl/work/python-workspance/FAST_pulsar_search_pl/03_barydata/j1631_FAST_pulsar_search_pl_bary_DM32.13.fft\u001b[0m\n",
      "运行命令：\u001b[96mrednoise  /home/pl/work/python-workspance/FAST_pulsar_search_pl/03_barydata/j1631_FAST_pulsar_search_pl_bary_DM32.08.fft\u001b[0m\n",
      "\u001b[94m运行时间： 0.0秒\u001b[0m\n",
      "\u001b[94m运行时间： 0.0秒\u001b[0m\n",
      "运行命令：\u001b[96mrednoise  /home/pl/work/python-workspance/FAST_pulsar_search_pl/03_barydata/j1631_FAST_pulsar_search_pl_bary_DM32.10.fft\u001b[0m\n",
      "\u001b[94m运行时间： 0.0秒\u001b[0m\n",
      "运行命令：\u001b[96mrednoise  /home/pl/work/python-workspance/FAST_pulsar_search_pl/03_barydata/j1631_FAST_pulsar_search_pl_bary_DM32.15.fft\u001b[0m\n",
      "运行命令：\u001b[96mrednoise  /home/pl/work/python-workspance/FAST_pulsar_search_pl/03_barydata/j1631_FAST_pulsar_search_pl_bary_DM32.12.fft\u001b[0m\n",
      "\u001b[94m运行时间： 0.0秒\u001b[0m\n",
      "\u001b[94m运行时间： 0.0秒\u001b[0m\n",
      "运行命令：\u001b[96mrednoise  /home/pl/work/python-workspance/FAST_pulsar_search_pl/03_barydata/j1631_FAST_pulsar_search_pl_bary_DM32.14.fft\u001b[0m\n",
      "运行命令：\u001b[96mrednoise  /home/pl/work/python-workspance/FAST_pulsar_search_pl/03_barydata/j1631_FAST_pulsar_search_pl_bary_DM32.11.fft\u001b[0m\n",
      "\u001b[94m运行时间： 0.0秒\u001b[0m\n",
      "运行命令：\u001b[96mrednoise  /home/pl/work/python-workspance/FAST_pulsar_search_pl/03_barydata/j1631_FAST_pulsar_search_pl_bary_DM32.09.fft\u001b[0m\n",
      "\u001b[94m运行时间： 0.0秒\u001b[0m\n",
      "\u001b[94m运行时间： 0.0秒\u001b[0m\n"
     ]
    },
    {
     "name": "stderr",
     "output_type": "stream",
     "text": [
      "rednoise-8核:   3%|▎         | 9/300 [00:04<01:56,  2.50cmd/s]"
     ]
    },
    {
     "name": "stdout",
     "output_type": "stream",
     "text": [
      "程序运行路径为: /home/pl/work/python-workspance/FAST_pulsar_search_pl/03_barydata\n",
      "程序运行路径为: /home/pl/work/python-workspance/FAST_pulsar_search_pl/03_barydata\n",
      "程序运行路径为: /home/pl/work/python-workspance/FAST_pulsar_search_pl/03_barydata\n",
      "程序运行路径为: /home/pl/work/python-workspance/FAST_pulsar_search_pl/03_barydata\n",
      "日志文件为：/home/pl/work/python-workspance/FAST_pulsar_search_pl/LOG/04_RED/LOG_04-RED-32.16.txt\n",
      "程序运行路径为: /home/pl/work/python-workspance/FAST_pulsar_search_pl/03_barydata\n",
      "程序运行路径为: /home/pl/work/python-workspance/FAST_pulsar_search_pl/03_barydata\n",
      "日志文件为：/home/pl/work/python-workspance/FAST_pulsar_search_pl/LOG/04_RED/LOG_04-RED-32.17.txt\n",
      "日志文件为：/home/pl/work/python-workspance/FAST_pulsar_search_pl/LOG/04_RED/LOG_04-RED-32.20.txt\n",
      "程序运行路径为: /home/pl/work/python-workspance/FAST_pulsar_search_pl/03_barydata\n",
      "程序运行路径为: /home/pl/work/python-workspance/FAST_pulsar_search_pl/03_barydata\n",
      "日志文件为：/home/pl/work/python-workspance/FAST_pulsar_search_pl/LOG/04_RED/LOG_04-RED-32.18.txt\n",
      "日志文件为：/home/pl/work/python-workspance/FAST_pulsar_search_pl/LOG/04_RED/LOG_04-RED-32.23.txt\n",
      "日志文件为：/home/pl/work/python-workspance/FAST_pulsar_search_pl/LOG/04_RED/LOG_04-RED-32.22.txt\n",
      "日志文件为：/home/pl/work/python-workspance/FAST_pulsar_search_pl/LOG/04_RED/LOG_04-RED-32.21.txt\n",
      "日志文件为：/home/pl/work/python-workspance/FAST_pulsar_search_pl/LOG/04_RED/LOG_04-RED-32.19.txt\n",
      "运行命令：\u001b[96mrednoise  /home/pl/work/python-workspance/FAST_pulsar_search_pl/03_barydata/j1631_FAST_pulsar_search_pl_bary_DM32.20.fft\u001b[0m\n",
      "运行命令：\u001b[96mrednoise  /home/pl/work/python-workspance/FAST_pulsar_search_pl/03_barydata/j1631_FAST_pulsar_search_pl_bary_DM32.18.fft\u001b[0m\n",
      "运行命令：\u001b[96mrednoise  /home/pl/work/python-workspance/FAST_pulsar_search_pl/03_barydata/j1631_FAST_pulsar_search_pl_bary_DM32.17.fft\u001b[0m\n",
      "\u001b[94m运行时间： 0.0秒\u001b[0m\n",
      "运行命令：\u001b[96mrednoise  /home/pl/work/python-workspance/FAST_pulsar_search_pl/03_barydata/j1631_FAST_pulsar_search_pl_bary_DM32.16.fft\u001b[0m\n",
      "运行命令：\u001b[96mrednoise  /home/pl/work/python-workspance/FAST_pulsar_search_pl/03_barydata/j1631_FAST_pulsar_search_pl_bary_DM32.22.fft\u001b[0m\n",
      "\u001b[94m运行时间： 0.0秒\u001b[0m\n",
      "\u001b[94m运行时间： 0.0秒\u001b[0m\n",
      "\u001b[94m运行时间： 0.0秒\u001b[0m\n",
      "运行命令：\u001b[96mrednoise  /home/pl/work/python-workspance/FAST_pulsar_search_pl/03_barydata/j1631_FAST_pulsar_search_pl_bary_DM32.23.fft\u001b[0m\n",
      "运行命令：\u001b[96mrednoise  /home/pl/work/python-workspance/FAST_pulsar_search_pl/03_barydata/j1631_FAST_pulsar_search_pl_bary_DM32.19.fft\u001b[0m\n",
      "\u001b[94m运行时间： 0.0秒\u001b[0m\n",
      "\u001b[94m运行时间： 0.0秒\u001b[0m\n",
      "\u001b[94m运行时间： 0.0秒\u001b[0m\n",
      "运行命令：\u001b[96mrednoise  /home/pl/work/python-workspance/FAST_pulsar_search_pl/03_barydata/j1631_FAST_pulsar_search_pl_bary_DM32.21.fft\u001b[0m\n",
      "\u001b[94m运行时间： 0.0秒\u001b[0m\n"
     ]
    },
    {
     "name": "stderr",
     "output_type": "stream",
     "text": [
      "rednoise-8核:   6%|▌         | 17/300 [00:06<01:29,  3.15cmd/s]"
     ]
    },
    {
     "name": "stdout",
     "output_type": "stream",
     "text": [
      "程序运行路径为: /home/pl/work/python-workspance/FAST_pulsar_search_pl/03_barydata\n",
      "日志文件为：/home/pl/work/python-workspance/FAST_pulsar_search_pl/LOG/04_RED/LOG_04-RED-32.24.txt\n",
      "程序运行路径为: /home/pl/work/python-workspance/FAST_pulsar_search_pl/03_barydata\n",
      "程序运行路径为: /home/pl/work/python-workspance/FAST_pulsar_search_pl/03_barydata\n",
      "程序运行路径为: /home/pl/work/python-workspance/FAST_pulsar_search_pl/03_barydata\n",
      "程序运行路径为: /home/pl/work/python-workspance/FAST_pulsar_search_pl/03_barydata\n",
      "日志文件为：/home/pl/work/python-workspance/FAST_pulsar_search_pl/LOG/04_RED/LOG_04-RED-32.25.txt\n",
      "程序运行路径为: /home/pl/work/python-workspance/FAST_pulsar_search_pl/03_barydata\n",
      "程序运行路径为: /home/pl/work/python-workspance/FAST_pulsar_search_pl/03_barydata\n",
      "日志文件为：/home/pl/work/python-workspance/FAST_pulsar_search_pl/LOG/04_RED/LOG_04-RED-32.26.txt\n",
      "日志文件为：/home/pl/work/python-workspance/FAST_pulsar_search_pl/LOG/04_RED/LOG_04-RED-32.28.txt\n",
      "日志文件为：/home/pl/work/python-workspance/FAST_pulsar_search_pl/LOG/04_RED/LOG_04-RED-32.29.txt\n",
      "日志文件为：/home/pl/work/python-workspance/FAST_pulsar_search_pl/LOG/04_RED/LOG_04-RED-32.30.txt\n",
      "日志文件为：/home/pl/work/python-workspance/FAST_pulsar_search_pl/LOG/04_RED/LOG_04-RED-32.27.txt\n",
      "程序运行路径为: /home/pl/work/python-workspance/FAST_pulsar_search_pl/03_barydata\n",
      "日志文件为：/home/pl/work/python-workspance/FAST_pulsar_search_pl/LOG/04_RED/LOG_04-RED-32.31.txt\n",
      "运行命令：\u001b[96mrednoise  /home/pl/work/python-workspance/FAST_pulsar_search_pl/03_barydata/j1631_FAST_pulsar_search_pl_bary_DM32.25.fft\u001b[0m\n",
      "运行命令：\u001b[96mrednoise  /home/pl/work/python-workspance/FAST_pulsar_search_pl/03_barydata/j1631_FAST_pulsar_search_pl_bary_DM32.24.fft\u001b[0m\n",
      "\u001b[94m运行时间： 0.0秒\u001b[0m\n",
      "\u001b[94m运行时间： 0.0秒\u001b[0m\n",
      "运行命令：\u001b[96mrednoise  /home/pl/work/python-workspance/FAST_pulsar_search_pl/03_barydata/j1631_FAST_pulsar_search_pl_bary_DM32.26.fft\u001b[0m\n",
      "运行命令：\u001b[96mrednoise  /home/pl/work/python-workspance/FAST_pulsar_search_pl/03_barydata/j1631_FAST_pulsar_search_pl_bary_DM32.27.fft\u001b[0m\n",
      "运行命令：\u001b[96mrednoise  /home/pl/work/python-workspance/FAST_pulsar_search_pl/03_barydata/j1631_FAST_pulsar_search_pl_bary_DM32.28.fft\u001b[0m\n",
      "\u001b[94m运行时间： 0.0秒\u001b[0m\n",
      "\u001b[94m运行时间： 0.0秒\u001b[0m\n",
      "\u001b[94m运行时间： 0.0秒\u001b[0m\n",
      "运行命令：\u001b[96mrednoise  /home/pl/work/python-workspance/FAST_pulsar_search_pl/03_barydata/j1631_FAST_pulsar_search_pl_bary_DM32.30.fft\u001b[0m\n",
      "运行命令：\u001b[96mrednoise  /home/pl/work/python-workspance/FAST_pulsar_search_pl/03_barydata/j1631_FAST_pulsar_search_pl_bary_DM32.29.fft\u001b[0m\n",
      "\u001b[94m运行时间： 0.0秒\u001b[0m\n",
      "\u001b[94m运行时间： 0.0秒\u001b[0m\n",
      "运行命令：\u001b[96mrednoise  /home/pl/work/python-workspance/FAST_pulsar_search_pl/03_barydata/j1631_FAST_pulsar_search_pl_bary_DM32.31.fft\u001b[0m\n",
      "\u001b[94m运行时间： 0.0秒\u001b[0m\n"
     ]
    },
    {
     "name": "stderr",
     "output_type": "stream",
     "text": [
      "rednoise-8核:   8%|▊         | 25/300 [00:08<01:19,  3.47cmd/s]"
     ]
    },
    {
     "name": "stdout",
     "output_type": "stream",
     "text": [
      "程序运行路径为: /home/pl/work/python-workspance/FAST_pulsar_search_pl/03_barydata\n",
      "程序运行路径为: /home/pl/work/python-workspance/FAST_pulsar_search_pl/03_barydata\n",
      "日志文件为：/home/pl/work/python-workspance/FAST_pulsar_search_pl/LOG/04_RED/LOG_04-RED-32.32.txt\n",
      "程序运行路径为: /home/pl/work/python-workspance/FAST_pulsar_search_pl/03_barydata\n",
      "日志文件为：/home/pl/work/python-workspance/FAST_pulsar_search_pl/LOG/04_RED/LOG_04-RED-32.33.txt\n",
      "程序运行路径为: /home/pl/work/python-workspance/FAST_pulsar_search_pl/03_barydata\n",
      "日志文件为：/home/pl/work/python-workspance/FAST_pulsar_search_pl/LOG/04_RED/LOG_04-RED-32.34.txt\n",
      "程序运行路径为: /home/pl/work/python-workspance/FAST_pulsar_search_pl/03_barydata\n",
      "日志文件为：/home/pl/work/python-workspance/FAST_pulsar_search_pl/LOG/04_RED/LOG_04-RED-32.35.txt\n",
      "日志文件为：/home/pl/work/python-workspance/FAST_pulsar_search_pl/LOG/04_RED/LOG_04-RED-32.36.txt\n",
      "程序运行路径为: /home/pl/work/python-workspance/FAST_pulsar_search_pl/03_barydata\n",
      "日志文件为：/home/pl/work/python-workspance/FAST_pulsar_search_pl/LOG/04_RED/LOG_04-RED-32.37.txt\n",
      "程序运行路径为: /home/pl/work/python-workspance/FAST_pulsar_search_pl/03_barydata\n",
      "日志文件为：/home/pl/work/python-workspance/FAST_pulsar_search_pl/LOG/04_RED/LOG_04-RED-32.38.txt\n",
      "程序运行路径为: /home/pl/work/python-workspance/FAST_pulsar_search_pl/03_barydata\n",
      "日志文件为：/home/pl/work/python-workspance/FAST_pulsar_search_pl/LOG/04_RED/LOG_04-RED-32.39.txt\n",
      "运行命令：\u001b[96mrednoise  /home/pl/work/python-workspance/FAST_pulsar_search_pl/03_barydata/j1631_FAST_pulsar_search_pl_bary_DM32.35.fft\u001b[0m\n",
      "运行命令：\u001b[96mrednoise  /home/pl/work/python-workspance/FAST_pulsar_search_pl/03_barydata/j1631_FAST_pulsar_search_pl_bary_DM32.33.fft\u001b[0m\n",
      "运行命令：\u001b[96mrednoise  /home/pl/work/python-workspance/FAST_pulsar_search_pl/03_barydata/j1631_FAST_pulsar_search_pl_bary_DM32.37.fft\u001b[0m\n",
      "运行命令：\u001b[96mrednoise  /home/pl/work/python-workspance/FAST_pulsar_search_pl/03_barydata/j1631_FAST_pulsar_search_pl_bary_DM32.32.fft\u001b[0m\n",
      "\u001b[94m运行时间： 0.0秒\u001b[0m\n",
      "运行命令：\u001b[96mrednoise  /home/pl/work/python-workspance/FAST_pulsar_search_pl/03_barydata/j1631_FAST_pulsar_search_pl_bary_DM32.36.fft\u001b[0m\n",
      "运行命令：\u001b[96mrednoise  /home/pl/work/python-workspance/FAST_pulsar_search_pl/03_barydata/j1631_FAST_pulsar_search_pl_bary_DM32.34.fft\u001b[0m\n",
      "\u001b[94m运行时间： 0.0秒\u001b[0m\n",
      "\u001b[94m运行时间： 0.0秒\u001b[0m\n",
      "\u001b[94m运行时间： 0.0秒\u001b[0m\n",
      "\u001b[94m运行时间： 0.0秒\u001b[0m\n",
      "\u001b[94m运行时间： 0.0秒\u001b[0m\n",
      "运行命令：\u001b[96mrednoise  /home/pl/work/python-workspance/FAST_pulsar_search_pl/03_barydata/j1631_FAST_pulsar_search_pl_bary_DM32.38.fft\u001b[0m\n",
      "运行命令：\u001b[96mrednoise  /home/pl/work/python-workspance/FAST_pulsar_search_pl/03_barydata/j1631_FAST_pulsar_search_pl_bary_DM32.39.fft\u001b[0m\n",
      "\u001b[94m运行时间： 0.0秒\u001b[0m\n",
      "\u001b[94m运行时间： 0.0秒\u001b[0m\n"
     ]
    },
    {
     "name": "stderr",
     "output_type": "stream",
     "text": [
      "rednoise-8核:  11%|█         | 33/300 [00:10<01:13,  3.64cmd/s]"
     ]
    },
    {
     "name": "stdout",
     "output_type": "stream",
     "text": [
      "程序运行路径为: /home/pl/work/python-workspance/FAST_pulsar_search_pl/03_barydata\n",
      "程序运行路径为: /home/pl/work/python-workspance/FAST_pulsar_search_pl/03_barydata\n",
      "程序运行路径为: /home/pl/work/python-workspance/FAST_pulsar_search_pl/03_barydata\n",
      "日志文件为：/home/pl/work/python-workspance/FAST_pulsar_search_pl/LOG/04_RED/LOG_04-RED-32.40.txt\n",
      "程序运行路径为: /home/pl/work/python-workspance/FAST_pulsar_search_pl/03_barydata\n",
      "日志文件为：/home/pl/work/python-workspance/FAST_pulsar_search_pl/LOG/04_RED/LOG_04-RED-32.41.txt\n",
      "日志文件为：/home/pl/work/python-workspance/FAST_pulsar_search_pl/LOG/04_RED/LOG_04-RED-32.42.txt\n",
      "程序运行路径为: /home/pl/work/python-workspance/FAST_pulsar_search_pl/03_barydata\n",
      "日志文件为：/home/pl/work/python-workspance/FAST_pulsar_search_pl/LOG/04_RED/LOG_04-RED-32.43.txt\n",
      "日志文件为：/home/pl/work/python-workspance/FAST_pulsar_search_pl/LOG/04_RED/LOG_04-RED-32.44.txt\n",
      "程序运行路径为: /home/pl/work/python-workspance/FAST_pulsar_search_pl/03_barydata\n",
      "程序运行路径为: /home/pl/work/python-workspance/FAST_pulsar_search_pl/03_barydata\n",
      "日志文件为：/home/pl/work/python-workspance/FAST_pulsar_search_pl/LOG/04_RED/LOG_04-RED-32.46.txt\n",
      "日志文件为：/home/pl/work/python-workspance/FAST_pulsar_search_pl/LOG/04_RED/LOG_04-RED-32.45.txt\n",
      "程序运行路径为: /home/pl/work/python-workspance/FAST_pulsar_search_pl/03_barydata\n",
      "日志文件为：/home/pl/work/python-workspance/FAST_pulsar_search_pl/LOG/04_RED/LOG_04-RED-32.47.txt\n",
      "运行命令：\u001b[96mrednoise  /home/pl/work/python-workspance/FAST_pulsar_search_pl/03_barydata/j1631_FAST_pulsar_search_pl_bary_DM32.43.fft\u001b[0m\n",
      "运行命令：\u001b[96mrednoise  /home/pl/work/python-workspance/FAST_pulsar_search_pl/03_barydata/j1631_FAST_pulsar_search_pl_bary_DM32.42.fft\u001b[0m\n",
      "运行命令：\u001b[96mrednoise  /home/pl/work/python-workspance/FAST_pulsar_search_pl/03_barydata/j1631_FAST_pulsar_search_pl_bary_DM32.41.fft\u001b[0m\n",
      "\u001b[94m运行时间： 0.0秒\u001b[0m\n",
      "运行命令：\u001b[96mrednoise  /home/pl/work/python-workspance/FAST_pulsar_search_pl/03_barydata/j1631_FAST_pulsar_search_pl_bary_DM32.40.fft\u001b[0m\n",
      "\u001b[94m运行时间： 0.0秒\u001b[0m\n",
      "\u001b[94m运行时间： 0.0秒\u001b[0m\n",
      "运行命令：\u001b[96mrednoise  /home/pl/work/python-workspance/FAST_pulsar_search_pl/03_barydata/j1631_FAST_pulsar_search_pl_bary_DM32.44.fft\u001b[0m\n",
      "\u001b[94m运行时间： 0.0秒\u001b[0m\n",
      "\u001b[94m运行时间： 0.0秒\u001b[0m\n",
      "运行命令：\u001b[96mrednoise  /home/pl/work/python-workspance/FAST_pulsar_search_pl/03_barydata/j1631_FAST_pulsar_search_pl_bary_DM32.45.fft\u001b[0m\n",
      "\u001b[94m运行时间： 0.0秒\u001b[0m\n",
      "运行命令：\u001b[96mrednoise  /home/pl/work/python-workspance/FAST_pulsar_search_pl/03_barydata/j1631_FAST_pulsar_search_pl_bary_DM32.47.fft\u001b[0m\n",
      "\u001b[94m运行时间： 0.0秒\u001b[0m\n",
      "运行命令：\u001b[96mrednoise  /home/pl/work/python-workspance/FAST_pulsar_search_pl/03_barydata/j1631_FAST_pulsar_search_pl_bary_DM32.46.fft\u001b[0m\n",
      "\u001b[94m运行时间： 0.0秒\u001b[0m\n"
     ]
    },
    {
     "name": "stderr",
     "output_type": "stream",
     "text": [
      "rednoise-8核:  14%|█▎        | 41/300 [00:12<01:09,  3.75cmd/s]"
     ]
    },
    {
     "name": "stdout",
     "output_type": "stream",
     "text": [
      "程序运行路径为: /home/pl/work/python-workspance/FAST_pulsar_search_pl/03_barydata\n",
      "程序运行路径为: /home/pl/work/python-workspance/FAST_pulsar_search_pl/03_barydata\n",
      "程序运行路径为: /home/pl/work/python-workspance/FAST_pulsar_search_pl/03_barydata\n",
      "日志文件为：/home/pl/work/python-workspance/FAST_pulsar_search_pl/LOG/04_RED/LOG_04-RED-32.49.txt\n",
      "日志文件为：/home/pl/work/python-workspance/FAST_pulsar_search_pl/LOG/04_RED/LOG_04-RED-32.50.txt\n",
      "日志文件为：/home/pl/work/python-workspance/FAST_pulsar_search_pl/LOG/04_RED/LOG_04-RED-32.48.txt\n",
      "程序运行路径为: /home/pl/work/python-workspance/FAST_pulsar_search_pl/03_barydata\n",
      "程序运行路径为: /home/pl/work/python-workspance/FAST_pulsar_search_pl/03_barydata\n",
      "日志文件为：/home/pl/work/python-workspance/FAST_pulsar_search_pl/LOG/04_RED/LOG_04-RED-32.51.txt\n",
      "日志文件为：/home/pl/work/python-workspance/FAST_pulsar_search_pl/LOG/04_RED/LOG_04-RED-32.52.txt\n",
      "程序运行路径为: /home/pl/work/python-workspance/FAST_pulsar_search_pl/03_barydata\n",
      "日志文件为：/home/pl/work/python-workspance/FAST_pulsar_search_pl/LOG/04_RED/LOG_04-RED-32.53.txt\n",
      "程序运行路径为: /home/pl/work/python-workspance/FAST_pulsar_search_pl/03_barydata\n",
      "日志文件为：/home/pl/work/python-workspance/FAST_pulsar_search_pl/LOG/04_RED/LOG_04-RED-32.54.txt\n",
      "程序运行路径为: /home/pl/work/python-workspance/FAST_pulsar_search_pl/03_barydata\n",
      "日志文件为：/home/pl/work/python-workspance/FAST_pulsar_search_pl/LOG/04_RED/LOG_04-RED-32.55.txt\n",
      "运行命令：\u001b[96mrednoise  /home/pl/work/python-workspance/FAST_pulsar_search_pl/03_barydata/j1631_FAST_pulsar_search_pl_bary_DM32.49.fft\u001b[0m\n",
      "\u001b[94m运行时间： 0.0秒\u001b[0m\n",
      "运行命令：\u001b[96mrednoise  /home/pl/work/python-workspance/FAST_pulsar_search_pl/03_barydata/j1631_FAST_pulsar_search_pl_bary_DM32.50.fft\u001b[0m\n",
      "\u001b[94m运行时间： 0.0秒\u001b[0m\n",
      "运行命令：\u001b[96mrednoise  /home/pl/work/python-workspance/FAST_pulsar_search_pl/03_barydata/j1631_FAST_pulsar_search_pl_bary_DM32.51.fft\u001b[0m\n",
      "\u001b[94m运行时间： 0.0秒\u001b[0m\n",
      "运行命令：\u001b[96mrednoise  /home/pl/work/python-workspance/FAST_pulsar_search_pl/03_barydata/j1631_FAST_pulsar_search_pl_bary_DM32.52.fft\u001b[0m\n",
      "运行命令：\u001b[96mrednoise  /home/pl/work/python-workspance/FAST_pulsar_search_pl/03_barydata/j1631_FAST_pulsar_search_pl_bary_DM32.48.fft\u001b[0m\n",
      "\u001b[94m运行时间： 0.0秒\u001b[0m\n",
      "\u001b[94m运行时间： 0.0秒\u001b[0m\n",
      "运行命令：\u001b[96mrednoise  /home/pl/work/python-workspance/FAST_pulsar_search_pl/03_barydata/j1631_FAST_pulsar_search_pl_bary_DM32.54.fft\u001b[0m\n",
      "\u001b[94m运行时间： 0.0秒\u001b[0m\n",
      "运行命令：\u001b[96mrednoise  /home/pl/work/python-workspance/FAST_pulsar_search_pl/03_barydata/j1631_FAST_pulsar_search_pl_bary_DM32.53.fft\u001b[0m\n",
      "\u001b[94m运行时间： 0.0秒\u001b[0m\n",
      "运行命令：\u001b[96mrednoise  /home/pl/work/python-workspance/FAST_pulsar_search_pl/03_barydata/j1631_FAST_pulsar_search_pl_bary_DM32.55.fft\u001b[0m\n",
      "\u001b[94m运行时间： 0.0秒\u001b[0m\n"
     ]
    },
    {
     "name": "stderr",
     "output_type": "stream",
     "text": [
      "rednoise-8核:  16%|█▋        | 49/300 [00:14<01:05,  3.81cmd/s]"
     ]
    },
    {
     "name": "stdout",
     "output_type": "stream",
     "text": [
      "程序运行路径为: /home/pl/work/python-workspance/FAST_pulsar_search_pl/03_barydata\n",
      "程序运行路径为: /home/pl/work/python-workspance/FAST_pulsar_search_pl/03_barydata\n",
      "程序运行路径为: /home/pl/work/python-workspance/FAST_pulsar_search_pl/03_barydata\n",
      "程序运行路径为: /home/pl/work/python-workspance/FAST_pulsar_search_pl/03_barydata\n",
      "程序运行路径为: /home/pl/work/python-workspance/FAST_pulsar_search_pl/03_barydata\n",
      "日志文件为：/home/pl/work/python-workspance/FAST_pulsar_search_pl/LOG/04_RED/LOG_04-RED-32.59.txt\n",
      "日志文件为：/home/pl/work/python-workspance/FAST_pulsar_search_pl/LOG/04_RED/LOG_04-RED-32.56.txt\n",
      "日志文件为：/home/pl/work/python-workspance/FAST_pulsar_search_pl/LOG/04_RED/LOG_04-RED-32.58.txt\n",
      "日志文件为：/home/pl/work/python-workspance/FAST_pulsar_search_pl/LOG/04_RED/LOG_04-RED-32.57.txt\n",
      "日志文件为：/home/pl/work/python-workspance/FAST_pulsar_search_pl/LOG/04_RED/LOG_04-RED-32.60.txt\n",
      "程序运行路径为: /home/pl/work/python-workspance/FAST_pulsar_search_pl/03_barydata\n",
      "日志文件为：/home/pl/work/python-workspance/FAST_pulsar_search_pl/LOG/04_RED/LOG_04-RED-32.61.txt\n",
      "程序运行路径为: /home/pl/work/python-workspance/FAST_pulsar_search_pl/03_barydata\n",
      "运行命令：\u001b[96mrednoise  /home/pl/work/python-workspance/FAST_pulsar_search_pl/03_barydata/j1631_FAST_pulsar_search_pl_bary_DM32.59.fft\u001b[0m\n",
      "运行命令：\u001b[96mrednoise  /home/pl/work/python-workspance/FAST_pulsar_search_pl/03_barydata/j1631_FAST_pulsar_search_pl_bary_DM32.57.fft\u001b[0m\n",
      "运行命令：\u001b[96mrednoise  /home/pl/work/python-workspance/FAST_pulsar_search_pl/03_barydata/j1631_FAST_pulsar_search_pl_bary_DM32.58.fft\u001b[0m\n",
      "\u001b[94m运行时间： 0.0秒\u001b[0m\n",
      "运行命令：\u001b[96mrednoise  /home/pl/work/python-workspance/FAST_pulsar_search_pl/03_barydata/j1631_FAST_pulsar_search_pl_bary_DM32.56.fft\u001b[0m\n",
      "日志文件为：/home/pl/work/python-workspance/FAST_pulsar_search_pl/LOG/04_RED/LOG_04-RED-32.62.txt\n",
      "\u001b[94m运行时间： 0.0秒\u001b[0m\n",
      "\u001b[94m运行时间： 0.0秒\u001b[0m\n",
      "运行命令：\u001b[96mrednoise  /home/pl/work/python-workspance/FAST_pulsar_search_pl/03_barydata/j1631_FAST_pulsar_search_pl_bary_DM32.60.fft\u001b[0m\n",
      "\u001b[94m运行时间： 0.0秒\u001b[0m\n",
      "程序运行路径为: /home/pl/work/python-workspance/FAST_pulsar_search_pl/03_barydata\n",
      "运行命令：\u001b[96mrednoise  /home/pl/work/python-workspance/FAST_pulsar_search_pl/03_barydata/j1631_FAST_pulsar_search_pl_bary_DM32.61.fft\u001b[0m\n",
      "\u001b[94m运行时间： 0.0秒\u001b[0m\n",
      "\u001b[94m运行时间： 0.0秒\u001b[0m\n",
      "日志文件为：/home/pl/work/python-workspance/FAST_pulsar_search_pl/LOG/04_RED/LOG_04-RED-32.63.txt\n",
      "运行命令：\u001b[96mrednoise  /home/pl/work/python-workspance/FAST_pulsar_search_pl/03_barydata/j1631_FAST_pulsar_search_pl_bary_DM32.62.fft\u001b[0m\n",
      "运行命令：\u001b[96mrednoise  /home/pl/work/python-workspance/FAST_pulsar_search_pl/03_barydata/j1631_FAST_pulsar_search_pl_bary_DM32.63.fft\u001b[0m\n",
      "\u001b[94m运行时间： 0.0秒\u001b[0m\n",
      "\u001b[94m运行时间： 0.0秒\u001b[0m\n"
     ]
    },
    {
     "name": "stderr",
     "output_type": "stream",
     "text": [
      "rednoise-8核:  19%|█▉        | 57/300 [00:16<01:03,  3.86cmd/s]"
     ]
    },
    {
     "name": "stdout",
     "output_type": "stream",
     "text": [
      "程序运行路径为: /home/pl/work/python-workspance/FAST_pulsar_search_pl/03_barydata\n",
      "程序运行路径为: /home/pl/work/python-workspance/FAST_pulsar_search_pl/03_barydata\n",
      "程序运行路径为: /home/pl/work/python-workspance/FAST_pulsar_search_pl/03_barydata\n",
      "程序运行路径为: /home/pl/work/python-workspance/FAST_pulsar_search_pl/03_barydata\n",
      "日志文件为：/home/pl/work/python-workspance/FAST_pulsar_search_pl/LOG/04_RED/LOG_04-RED-32.64.txt\n",
      "日志文件为：/home/pl/work/python-workspance/FAST_pulsar_search_pl/LOG/04_RED/LOG_04-RED-32.66.txt\n",
      "程序运行路径为: /home/pl/work/python-workspance/FAST_pulsar_search_pl/03_barydata\n",
      "日志文件为：/home/pl/work/python-workspance/FAST_pulsar_search_pl/LOG/04_RED/LOG_04-RED-32.65.txt\n",
      "日志文件为：/home/pl/work/python-workspance/FAST_pulsar_search_pl/LOG/04_RED/LOG_04-RED-32.67.txt\n",
      "程序运行路径为: /home/pl/work/python-workspance/FAST_pulsar_search_pl/03_barydata\n",
      "日志文件为：/home/pl/work/python-workspance/FAST_pulsar_search_pl/LOG/04_RED/LOG_04-RED-32.68.txt\n",
      "日志文件为：/home/pl/work/python-workspance/FAST_pulsar_search_pl/LOG/04_RED/LOG_04-RED-32.69.txt\n",
      "程序运行路径为: /home/pl/work/python-workspance/FAST_pulsar_search_pl/03_barydata\n",
      "程序运行路径为: /home/pl/work/python-workspance/FAST_pulsar_search_pl/03_barydata\n",
      "日志文件为：/home/pl/work/python-workspance/FAST_pulsar_search_pl/LOG/04_RED/LOG_04-RED-32.71.txt\n",
      "日志文件为：/home/pl/work/python-workspance/FAST_pulsar_search_pl/LOG/04_RED/LOG_04-RED-32.70.txt\n",
      "运行命令：\u001b[96mrednoise  /home/pl/work/python-workspance/FAST_pulsar_search_pl/03_barydata/j1631_FAST_pulsar_search_pl_bary_DM32.64.fft\u001b[0m\n",
      "运行命令：\u001b[96mrednoise  /home/pl/work/python-workspance/FAST_pulsar_search_pl/03_barydata/j1631_FAST_pulsar_search_pl_bary_DM32.66.fft\u001b[0m\n",
      "\u001b[94m运行时间： 0.0秒\u001b[0m\n",
      "运行命令：\u001b[96mrednoise  /home/pl/work/python-workspance/FAST_pulsar_search_pl/03_barydata/j1631_FAST_pulsar_search_pl_bary_DM32.65.fft\u001b[0m\n",
      "\u001b[94m运行时间： 0.0秒\u001b[0m\n",
      "\u001b[94m运行时间： 0.0秒\u001b[0m\n",
      "运行命令：\u001b[96mrednoise  /home/pl/work/python-workspance/FAST_pulsar_search_pl/03_barydata/j1631_FAST_pulsar_search_pl_bary_DM32.68.fft\u001b[0m\n",
      "\u001b[94m运行时间： 0.0秒\u001b[0m\n",
      "运行命令：\u001b[96mrednoise  /home/pl/work/python-workspance/FAST_pulsar_search_pl/03_barydata/j1631_FAST_pulsar_search_pl_bary_DM32.67.fft\u001b[0m\n",
      "\u001b[94m运行时间： 0.0秒\u001b[0m\n",
      "运行命令：\u001b[96mrednoise  /home/pl/work/python-workspance/FAST_pulsar_search_pl/03_barydata/j1631_FAST_pulsar_search_pl_bary_DM32.71.fft\u001b[0m\n",
      "运行命令：\u001b[96mrednoise  /home/pl/work/python-workspance/FAST_pulsar_search_pl/03_barydata/j1631_FAST_pulsar_search_pl_bary_DM32.69.fft\u001b[0m\n",
      "运行命令：\u001b[96mrednoise  /home/pl/work/python-workspance/FAST_pulsar_search_pl/03_barydata/j1631_FAST_pulsar_search_pl_bary_DM32.70.fft\u001b[0m\n",
      "\u001b[94m运行时间： 0.0秒\u001b[0m\n",
      "\u001b[94m运行时间： 0.0秒\u001b[0m\n",
      "\u001b[94m运行时间： 0.0秒\u001b[0m\n"
     ]
    },
    {
     "name": "stderr",
     "output_type": "stream",
     "text": [
      "rednoise-8核:  22%|██▏       | 65/300 [00:18<01:00,  3.88cmd/s]"
     ]
    },
    {
     "name": "stdout",
     "output_type": "stream",
     "text": [
      "程序运行路径为: /home/pl/work/python-workspance/FAST_pulsar_search_pl/03_barydata\n",
      "程序运行路径为: /home/pl/work/python-workspance/FAST_pulsar_search_pl/03_barydata\n",
      "程序运行路径为: /home/pl/work/python-workspance/FAST_pulsar_search_pl/03_barydata\n",
      "日志文件为：/home/pl/work/python-workspance/FAST_pulsar_search_pl/LOG/04_RED/LOG_04-RED-32.72.txt\n",
      "日志文件为：/home/pl/work/python-workspance/FAST_pulsar_search_pl/LOG/04_RED/LOG_04-RED-32.73.txt\n",
      "日志文件为：/home/pl/work/python-workspance/FAST_pulsar_search_pl/LOG/04_RED/LOG_04-RED-32.74.txt\n",
      "程序运行路径为: /home/pl/work/python-workspance/FAST_pulsar_search_pl/03_barydata\n",
      "日志文件为：/home/pl/work/python-workspance/FAST_pulsar_search_pl/LOG/04_RED/LOG_04-RED-32.75.txt\n",
      "程序运行路径为: /home/pl/work/python-workspance/FAST_pulsar_search_pl/03_barydata\n",
      "日志文件为：/home/pl/work/python-workspance/FAST_pulsar_search_pl/LOG/04_RED/LOG_04-RED-32.76.txt\n",
      "程序运行路径为: /home/pl/work/python-workspance/FAST_pulsar_search_pl/03_barydata\n",
      "日志文件为：/home/pl/work/python-workspance/FAST_pulsar_search_pl/LOG/04_RED/LOG_04-RED-32.77.txt\n",
      "程序运行路径为: /home/pl/work/python-workspance/FAST_pulsar_search_pl/03_barydata\n",
      "程序运行路径为: /home/pl/work/python-workspance/FAST_pulsar_search_pl/03_barydata\n",
      "日志文件为：/home/pl/work/python-workspance/FAST_pulsar_search_pl/LOG/04_RED/LOG_04-RED-32.78.txt\n",
      "日志文件为：/home/pl/work/python-workspance/FAST_pulsar_search_pl/LOG/04_RED/LOG_04-RED-32.79.txt\n",
      "运行命令：\u001b[96mrednoise  /home/pl/work/python-workspance/FAST_pulsar_search_pl/03_barydata/j1631_FAST_pulsar_search_pl_bary_DM32.76.fft\u001b[0m\n",
      "\u001b[94m运行时间： 0.0秒\u001b[0m\n",
      "运行命令：\u001b[96mrednoise  /home/pl/work/python-workspance/FAST_pulsar_search_pl/03_barydata/j1631_FAST_pulsar_search_pl_bary_DM32.75.fft\u001b[0m\n",
      "运行命令：\u001b[96mrednoise  /home/pl/work/python-workspance/FAST_pulsar_search_pl/03_barydata/j1631_FAST_pulsar_search_pl_bary_DM32.74.fft\u001b[0m\n",
      "\u001b[94m运行时间： 0.0秒\u001b[0m\n",
      "\u001b[94m运行时间： 0.0秒\u001b[0m\n",
      "运行命令：\u001b[96mrednoise  /home/pl/work/python-workspance/FAST_pulsar_search_pl/03_barydata/j1631_FAST_pulsar_search_pl_bary_DM32.73.fft\u001b[0m\n",
      "运行命令：\u001b[96mrednoise  /home/pl/work/python-workspance/FAST_pulsar_search_pl/03_barydata/j1631_FAST_pulsar_search_pl_bary_DM32.72.fft\u001b[0m\n",
      "\u001b[94m运行时间： 0.0秒\u001b[0m\n",
      "\u001b[94m运行时间： 0.0秒\u001b[0m\n",
      "运行命令：\u001b[96mrednoise  /home/pl/work/python-workspance/FAST_pulsar_search_pl/03_barydata/j1631_FAST_pulsar_search_pl_bary_DM32.77.fft\u001b[0m\n",
      "运行命令：\u001b[96mrednoise  /home/pl/work/python-workspance/FAST_pulsar_search_pl/03_barydata/j1631_FAST_pulsar_search_pl_bary_DM32.78.fft\u001b[0m\n",
      "\u001b[94m运行时间： 0.0秒\u001b[0m\n",
      "\u001b[94m运行时间： 0.0秒\u001b[0m\n",
      "运行命令：\u001b[96mrednoise  /home/pl/work/python-workspance/FAST_pulsar_search_pl/03_barydata/j1631_FAST_pulsar_search_pl_bary_DM32.79.fft\u001b[0m\n",
      "\u001b[94m运行时间： 0.0秒\u001b[0m\n"
     ]
    },
    {
     "name": "stderr",
     "output_type": "stream",
     "text": [
      "rednoise-8核:  24%|██▍       | 73/300 [00:20<00:58,  3.90cmd/s]"
     ]
    },
    {
     "name": "stdout",
     "output_type": "stream",
     "text": [
      "程序运行路径为: /home/pl/work/python-workspance/FAST_pulsar_search_pl/03_barydata\n",
      "日志文件为：/home/pl/work/python-workspance/FAST_pulsar_search_pl/LOG/04_RED/LOG_04-RED-32.80.txt\n",
      "程序运行路径为: /home/pl/work/python-workspance/FAST_pulsar_search_pl/03_barydata\n",
      "程序运行路径为: /home/pl/work/python-workspance/FAST_pulsar_search_pl/03_barydata\n",
      "日志文件为：/home/pl/work/python-workspance/FAST_pulsar_search_pl/LOG/04_RED/LOG_04-RED-32.81.txt\n",
      "日志文件为：/home/pl/work/python-workspance/FAST_pulsar_search_pl/LOG/04_RED/LOG_04-RED-32.82.txt\n",
      "程序运行路径为: /home/pl/work/python-workspance/FAST_pulsar_search_pl/03_barydata\n",
      "程序运行路径为: /home/pl/work/python-workspance/FAST_pulsar_search_pl/03_barydata\n",
      "日志文件为：/home/pl/work/python-workspance/FAST_pulsar_search_pl/LOG/04_RED/LOG_04-RED-32.83.txt\n",
      "日志文件为：/home/pl/work/python-workspance/FAST_pulsar_search_pl/LOG/04_RED/LOG_04-RED-32.84.txt\n",
      "程序运行路径为: /home/pl/work/python-workspance/FAST_pulsar_search_pl/03_barydata\n",
      "日志文件为：/home/pl/work/python-workspance/FAST_pulsar_search_pl/LOG/04_RED/LOG_04-RED-32.85.txt\n",
      "程序运行路径为: /home/pl/work/python-workspance/FAST_pulsar_search_pl/03_barydata\n",
      "日志文件为：/home/pl/work/python-workspance/FAST_pulsar_search_pl/LOG/04_RED/LOG_04-RED-32.87.txt\n",
      "日志文件为：/home/pl/work/python-workspance/FAST_pulsar_search_pl/LOG/04_RED/LOG_04-RED-32.86.txt\n",
      "程序运行路径为: /home/pl/work/python-workspance/FAST_pulsar_search_pl/03_barydata\n",
      "运行命令：\u001b[96mrednoise  /home/pl/work/python-workspance/FAST_pulsar_search_pl/03_barydata/j1631_FAST_pulsar_search_pl_bary_DM32.80.fft\u001b[0m\n",
      "运行命令：\u001b[96mrednoise  /home/pl/work/python-workspance/FAST_pulsar_search_pl/03_barydata/j1631_FAST_pulsar_search_pl_bary_DM32.84.fft\u001b[0m\n",
      "\u001b[94m运行时间： 0.0秒\u001b[0m\n",
      "运行命令：\u001b[96mrednoise  /home/pl/work/python-workspance/FAST_pulsar_search_pl/03_barydata/j1631_FAST_pulsar_search_pl_bary_DM32.83.fft\u001b[0m\n",
      "\u001b[94m运行时间： 0.0秒\u001b[0m\n",
      "\u001b[94m运行时间： 0.0秒\u001b[0m\n",
      "运行命令：\u001b[96mrednoise  /home/pl/work/python-workspance/FAST_pulsar_search_pl/03_barydata/j1631_FAST_pulsar_search_pl_bary_DM32.81.fft\u001b[0m\n",
      "\u001b[94m运行时间： 0.0秒\u001b[0m\n",
      "运行命令：\u001b[96mrednoise  /home/pl/work/python-workspance/FAST_pulsar_search_pl/03_barydata/j1631_FAST_pulsar_search_pl_bary_DM32.82.fft\u001b[0m\n",
      "\u001b[94m运行时间： 0.0秒\u001b[0m\n",
      "运行命令：\u001b[96mrednoise  /home/pl/work/python-workspance/FAST_pulsar_search_pl/03_barydata/j1631_FAST_pulsar_search_pl_bary_DM32.85.fft\u001b[0m\n",
      "运行命令：\u001b[96mrednoise  /home/pl/work/python-workspance/FAST_pulsar_search_pl/03_barydata/j1631_FAST_pulsar_search_pl_bary_DM32.86.fft\u001b[0m\n",
      "\u001b[94m运行时间： 0.0秒\u001b[0m\n",
      "\u001b[94m运行时间： 0.0秒\u001b[0m\n",
      "运行命令：\u001b[96mrednoise  /home/pl/work/python-workspance/FAST_pulsar_search_pl/03_barydata/j1631_FAST_pulsar_search_pl_bary_DM32.87.fft\u001b[0m\n",
      "\u001b[94m运行时间： 0.0秒\u001b[0m\n"
     ]
    },
    {
     "name": "stderr",
     "output_type": "stream",
     "text": [
      "rednoise-8核:  27%|██▋       | 81/300 [00:22<00:55,  3.92cmd/s]"
     ]
    },
    {
     "name": "stdout",
     "output_type": "stream",
     "text": [
      "程序运行路径为: /home/pl/work/python-workspance/FAST_pulsar_search_pl/03_barydata\n",
      "程序运行路径为: /home/pl/work/python-workspance/FAST_pulsar_search_pl/03_barydata\n",
      "程序运行路径为: /home/pl/work/python-workspance/FAST_pulsar_search_pl/03_barydata\n",
      "日志文件为：/home/pl/work/python-workspance/FAST_pulsar_search_pl/LOG/04_RED/LOG_04-RED-32.88.txt\n",
      "程序运行路径为: /home/pl/work/python-workspance/FAST_pulsar_search_pl/03_barydata\n",
      "日志文件为：/home/pl/work/python-workspance/FAST_pulsar_search_pl/LOG/04_RED/LOG_04-RED-32.89.txt\n",
      "日志文件为：/home/pl/work/python-workspance/FAST_pulsar_search_pl/LOG/04_RED/LOG_04-RED-32.90.txt\n",
      "日志文件为：/home/pl/work/python-workspance/FAST_pulsar_search_pl/LOG/04_RED/LOG_04-RED-32.91.txt\n",
      "程序运行路径为: /home/pl/work/python-workspance/FAST_pulsar_search_pl/03_barydata\n",
      "日志文件为：/home/pl/work/python-workspance/FAST_pulsar_search_pl/LOG/04_RED/LOG_04-RED-32.92.txt\n",
      "程序运行路径为: /home/pl/work/python-workspance/FAST_pulsar_search_pl/03_barydata\n",
      "程序运行路径为: /home/pl/work/python-workspance/FAST_pulsar_search_pl/03_barydata\n",
      "程序运行路径为: /home/pl/work/python-workspance/FAST_pulsar_search_pl/03_barydata\n",
      "日志文件为：/home/pl/work/python-workspance/FAST_pulsar_search_pl/LOG/04_RED/LOG_04-RED-32.94.txt\n",
      "日志文件为：/home/pl/work/python-workspance/FAST_pulsar_search_pl/LOG/04_RED/LOG_04-RED-32.93.txt\n",
      "日志文件为：/home/pl/work/python-workspance/FAST_pulsar_search_pl/LOG/04_RED/LOG_04-RED-32.95.txt\n",
      "运行命令：\u001b[96mrednoise  /home/pl/work/python-workspance/FAST_pulsar_search_pl/03_barydata/j1631_FAST_pulsar_search_pl_bary_DM32.89.fft\u001b[0m\n",
      "运行命令：\u001b[96mrednoise  /home/pl/work/python-workspance/FAST_pulsar_search_pl/03_barydata/j1631_FAST_pulsar_search_pl_bary_DM32.90.fft\u001b[0m\n",
      "运行命令：\u001b[96mrednoise  /home/pl/work/python-workspance/FAST_pulsar_search_pl/03_barydata/j1631_FAST_pulsar_search_pl_bary_DM32.91.fft\u001b[0m\n",
      "运行命令：\u001b[96mrednoise  /home/pl/work/python-workspance/FAST_pulsar_search_pl/03_barydata/j1631_FAST_pulsar_search_pl_bary_DM32.88.fft\u001b[0m\n",
      "\u001b[94m运行时间： 0.0秒\u001b[0m\n",
      "\u001b[94m运行时间： 0.0秒\u001b[0m\n",
      "\u001b[94m运行时间： 0.0秒\u001b[0m\n",
      "\u001b[94m运行时间： 0.0秒\u001b[0m\n",
      "运行命令：\u001b[96mrednoise  /home/pl/work/python-workspance/FAST_pulsar_search_pl/03_barydata/j1631_FAST_pulsar_search_pl_bary_DM32.92.fft\u001b[0m\n",
      "运行命令：\u001b[96mrednoise  /home/pl/work/python-workspance/FAST_pulsar_search_pl/03_barydata/j1631_FAST_pulsar_search_pl_bary_DM32.95.fft\u001b[0m\n",
      "\u001b[94m运行时间： 0.0秒\u001b[0m\n",
      "\u001b[94m运行时间： 0.0秒\u001b[0m\n",
      "运行命令：\u001b[96mrednoise  /home/pl/work/python-workspance/FAST_pulsar_search_pl/03_barydata/j1631_FAST_pulsar_search_pl_bary_DM32.94.fft\u001b[0m\n",
      "\u001b[94m运行时间： 0.0秒\u001b[0m\n",
      "运行命令：\u001b[96mrednoise  /home/pl/work/python-workspance/FAST_pulsar_search_pl/03_barydata/j1631_FAST_pulsar_search_pl_bary_DM32.93.fft\u001b[0m\n",
      "\u001b[94m运行时间： 0.0秒\u001b[0m\n"
     ]
    },
    {
     "name": "stderr",
     "output_type": "stream",
     "text": [
      "rednoise-8核:  30%|██▉       | 89/300 [00:24<00:53,  3.92cmd/s]"
     ]
    },
    {
     "name": "stdout",
     "output_type": "stream",
     "text": [
      "程序运行路径为: /home/pl/work/python-workspance/FAST_pulsar_search_pl/03_barydata\n",
      "程序运行路径为: /home/pl/work/python-workspance/FAST_pulsar_search_pl/03_barydata\n",
      "日志文件为：/home/pl/work/python-workspance/FAST_pulsar_search_pl/LOG/04_RED/LOG_04-RED-32.96.txt\n",
      "程序运行路径为: /home/pl/work/python-workspance/FAST_pulsar_search_pl/03_barydata\n",
      "程序运行路径为: /home/pl/work/python-workspance/FAST_pulsar_search_pl/03_barydata\n",
      "日志文件为：/home/pl/work/python-workspance/FAST_pulsar_search_pl/LOG/04_RED/LOG_04-RED-32.98.txt\n",
      "日志文件为：/home/pl/work/python-workspance/FAST_pulsar_search_pl/LOG/04_RED/LOG_04-RED-32.99.txt\n",
      "程序运行路径为: /home/pl/work/python-workspance/FAST_pulsar_search_pl/03_barydata\n",
      "程序运行路径为: /home/pl/work/python-workspance/FAST_pulsar_search_pl/03_barydata\n",
      "日志文件为：/home/pl/work/python-workspance/FAST_pulsar_search_pl/LOG/04_RED/LOG_04-RED-33.00.txt\n",
      "日志文件为：/home/pl/work/python-workspance/FAST_pulsar_search_pl/LOG/04_RED/LOG_04-RED-33.01.txt\n",
      "程序运行路径为: /home/pl/work/python-workspance/FAST_pulsar_search_pl/03_barydata\n",
      "日志文件为：/home/pl/work/python-workspance/FAST_pulsar_search_pl/LOG/04_RED/LOG_04-RED-33.02.txt\n",
      "日志文件为：/home/pl/work/python-workspance/FAST_pulsar_search_pl/LOG/04_RED/LOG_04-RED-32.97.txt\n",
      "程序运行路径为: /home/pl/work/python-workspance/FAST_pulsar_search_pl/03_barydata\n",
      "日志文件为：/home/pl/work/python-workspance/FAST_pulsar_search_pl/LOG/04_RED/LOG_04-RED-33.03.txt\n",
      "运行命令：\u001b[96mrednoise  /home/pl/work/python-workspance/FAST_pulsar_search_pl/03_barydata/j1631_FAST_pulsar_search_pl_bary_DM32.96.fft\u001b[0m\n",
      "运行命令：\u001b[96mrednoise  /home/pl/work/python-workspance/FAST_pulsar_search_pl/03_barydata/j1631_FAST_pulsar_search_pl_bary_DM32.99.fft\u001b[0m\n",
      "\u001b[94m运行时间： 0.0秒\u001b[0m\n",
      "\u001b[94m运行时间： 0.0秒\u001b[0m\n",
      "运行命令：\u001b[96mrednoise  /home/pl/work/python-workspance/FAST_pulsar_search_pl/03_barydata/j1631_FAST_pulsar_search_pl_bary_DM33.00.fft\u001b[0m\n",
      "运行命令：\u001b[96mrednoise  /home/pl/work/python-workspance/FAST_pulsar_search_pl/03_barydata/j1631_FAST_pulsar_search_pl_bary_DM33.02.fft\u001b[0m\n",
      "运行命令：\u001b[96mrednoise  /home/pl/work/python-workspance/FAST_pulsar_search_pl/03_barydata/j1631_FAST_pulsar_search_pl_bary_DM32.98.fft\u001b[0m\n",
      "\u001b[94m运行时间： 0.0秒\u001b[0m\n",
      "\u001b[94m运行时间： 0.0秒\u001b[0m\n",
      "\u001b[94m运行时间： 0.0秒\u001b[0m\n",
      "运行命令：\u001b[96mrednoise  /home/pl/work/python-workspance/FAST_pulsar_search_pl/03_barydata/j1631_FAST_pulsar_search_pl_bary_DM32.97.fft\u001b[0m\n",
      "\u001b[94m运行时间： 0.0秒\u001b[0m\n",
      "运行命令：\u001b[96mrednoise  /home/pl/work/python-workspance/FAST_pulsar_search_pl/03_barydata/j1631_FAST_pulsar_search_pl_bary_DM33.03.fft\u001b[0m\n",
      "运行命令：\u001b[96mrednoise  /home/pl/work/python-workspance/FAST_pulsar_search_pl/03_barydata/j1631_FAST_pulsar_search_pl_bary_DM33.01.fft\u001b[0m\n",
      "\u001b[94m运行时间： 0.0秒\u001b[0m\n",
      "\u001b[94m运行时间： 0.0秒\u001b[0m\n"
     ]
    },
    {
     "name": "stderr",
     "output_type": "stream",
     "text": [
      "rednoise-8核:  32%|███▏      | 97/300 [00:26<00:51,  3.93cmd/s]"
     ]
    },
    {
     "name": "stdout",
     "output_type": "stream",
     "text": [
      "程序运行路径为: /home/pl/work/python-workspance/FAST_pulsar_search_pl/03_barydata\n",
      "程序运行路径为: /home/pl/work/python-workspance/FAST_pulsar_search_pl/03_barydata\n",
      "日志文件为：/home/pl/work/python-workspance/FAST_pulsar_search_pl/LOG/04_RED/LOG_04-RED-33.04.txt\n",
      "日志文件为：/home/pl/work/python-workspance/FAST_pulsar_search_pl/LOG/04_RED/LOG_04-RED-33.05.txt\n",
      "程序运行路径为: /home/pl/work/python-workspance/FAST_pulsar_search_pl/03_barydata\n",
      "程序运行路径为: /home/pl/work/python-workspance/FAST_pulsar_search_pl/03_barydata\n",
      "程序运行路径为: /home/pl/work/python-workspance/FAST_pulsar_search_pl/03_barydata\n",
      "日志文件为：/home/pl/work/python-workspance/FAST_pulsar_search_pl/LOG/04_RED/LOG_04-RED-33.06.txt\n",
      "日志文件为：/home/pl/work/python-workspance/FAST_pulsar_search_pl/LOG/04_RED/LOG_04-RED-33.07.txt\n",
      "日志文件为：/home/pl/work/python-workspance/FAST_pulsar_search_pl/LOG/04_RED/LOG_04-RED-33.08.txt\n",
      "程序运行路径为: /home/pl/work/python-workspance/FAST_pulsar_search_pl/03_barydata\n",
      "日志文件为：/home/pl/work/python-workspance/FAST_pulsar_search_pl/LOG/04_RED/LOG_04-RED-33.09.txt\n",
      "程序运行路径为: /home/pl/work/python-workspance/FAST_pulsar_search_pl/03_barydata\n",
      "日志文件为：/home/pl/work/python-workspance/FAST_pulsar_search_pl/LOG/04_RED/LOG_04-RED-33.10.txt\n",
      "程序运行路径为: /home/pl/work/python-workspance/FAST_pulsar_search_pl/03_barydata\n",
      "日志文件为：/home/pl/work/python-workspance/FAST_pulsar_search_pl/LOG/04_RED/LOG_04-RED-33.11.txt\n",
      "运行命令：\u001b[96mrednoise  /home/pl/work/python-workspance/FAST_pulsar_search_pl/03_barydata/j1631_FAST_pulsar_search_pl_bary_DM33.09.fft\u001b[0m\n",
      "\u001b[94m运行时间： 0.0秒\u001b[0m\n",
      "运行命令：\u001b[96mrednoise  /home/pl/work/python-workspance/FAST_pulsar_search_pl/03_barydata/j1631_FAST_pulsar_search_pl_bary_DM33.07.fft\u001b[0m\n",
      "\u001b[94m运行时间： 0.0秒\u001b[0m\n",
      "运行命令：\u001b[96mrednoise  /home/pl/work/python-workspance/FAST_pulsar_search_pl/03_barydata/j1631_FAST_pulsar_search_pl_bary_DM33.06.fft\u001b[0m\n",
      "\u001b[94m运行时间： 0.0秒\u001b[0m\n",
      "运行命令：\u001b[96mrednoise  /home/pl/work/python-workspance/FAST_pulsar_search_pl/03_barydata/j1631_FAST_pulsar_search_pl_bary_DM33.10.fft\u001b[0m\n",
      "运行命令：\u001b[96mrednoise  /home/pl/work/python-workspance/FAST_pulsar_search_pl/03_barydata/j1631_FAST_pulsar_search_pl_bary_DM33.05.fft\u001b[0m\n",
      "运行命令：\u001b[96mrednoise  /home/pl/work/python-workspance/FAST_pulsar_search_pl/03_barydata/j1631_FAST_pulsar_search_pl_bary_DM33.04.fft\u001b[0m\n",
      "\u001b[94m运行时间： 0.0秒\u001b[0m\n",
      "\u001b[94m运行时间： 0.0秒\u001b[0m\n",
      "\u001b[94m运行时间： 0.0秒\u001b[0m\n",
      "运行命令：\u001b[96mrednoise  /home/pl/work/python-workspance/FAST_pulsar_search_pl/03_barydata/j1631_FAST_pulsar_search_pl_bary_DM33.08.fft\u001b[0m\n",
      "运行命令：\u001b[96mrednoise  /home/pl/work/python-workspance/FAST_pulsar_search_pl/03_barydata/j1631_FAST_pulsar_search_pl_bary_DM33.11.fft\u001b[0m\n",
      "\u001b[94m运行时间： 0.0秒\u001b[0m\n",
      "\u001b[94m运行时间： 0.0秒\u001b[0m\n"
     ]
    },
    {
     "name": "stderr",
     "output_type": "stream",
     "text": [
      "rednoise-8核:  35%|███▌      | 105/300 [00:28<00:49,  3.93cmd/s]"
     ]
    },
    {
     "name": "stdout",
     "output_type": "stream",
     "text": [
      "程序运行路径为: /home/pl/work/python-workspance/FAST_pulsar_search_pl/03_barydata\n",
      "日志文件为：/home/pl/work/python-workspance/FAST_pulsar_search_pl/LOG/04_RED/LOG_04-RED-33.12.txt\n",
      "程序运行路径为: /home/pl/work/python-workspance/FAST_pulsar_search_pl/03_barydata\n",
      "程序运行路径为: /home/pl/work/python-workspance/FAST_pulsar_search_pl/03_barydata\n",
      "日志文件为：/home/pl/work/python-workspance/FAST_pulsar_search_pl/LOG/04_RED/LOG_04-RED-33.13.txt\n",
      "日志文件为：/home/pl/work/python-workspance/FAST_pulsar_search_pl/LOG/04_RED/LOG_04-RED-33.14.txt\n",
      "程序运行路径为: /home/pl/work/python-workspance/FAST_pulsar_search_pl/03_barydata\n",
      "程序运行路径为: /home/pl/work/python-workspance/FAST_pulsar_search_pl/03_barydata\n",
      "程序运行路径为: /home/pl/work/python-workspance/FAST_pulsar_search_pl/03_barydata\n",
      "日志文件为：/home/pl/work/python-workspance/FAST_pulsar_search_pl/LOG/04_RED/LOG_04-RED-33.15.txt\n",
      "日志文件为：/home/pl/work/python-workspance/FAST_pulsar_search_pl/LOG/04_RED/LOG_04-RED-33.16.txt\n",
      "日志文件为：/home/pl/work/python-workspance/FAST_pulsar_search_pl/LOG/04_RED/LOG_04-RED-33.17.txt\n",
      "程序运行路径为: /home/pl/work/python-workspance/FAST_pulsar_search_pl/03_barydata\n",
      "程序运行路径为: /home/pl/work/python-workspance/FAST_pulsar_search_pl/03_barydata\n",
      "日志文件为：/home/pl/work/python-workspance/FAST_pulsar_search_pl/LOG/04_RED/LOG_04-RED-33.18.txt\n",
      "日志文件为：/home/pl/work/python-workspance/FAST_pulsar_search_pl/LOG/04_RED/LOG_04-RED-33.19.txt\n",
      "运行命令：\u001b[96mrednoise  /home/pl/work/python-workspance/FAST_pulsar_search_pl/03_barydata/j1631_FAST_pulsar_search_pl_bary_DM33.17.fft\u001b[0m\n",
      "运行命令：\u001b[96mrednoise  /home/pl/work/python-workspance/FAST_pulsar_search_pl/03_barydata/j1631_FAST_pulsar_search_pl_bary_DM33.13.fft\u001b[0m\n",
      "运行命令：\u001b[96mrednoise  /home/pl/work/python-workspance/FAST_pulsar_search_pl/03_barydata/j1631_FAST_pulsar_search_pl_bary_DM33.16.fft\u001b[0m\n",
      "运行命令：\u001b[96mrednoise  /home/pl/work/python-workspance/FAST_pulsar_search_pl/03_barydata/j1631_FAST_pulsar_search_pl_bary_DM33.14.fft\u001b[0m\n",
      "\u001b[94m运行时间： 0.0秒\u001b[0m\n",
      "\u001b[94m运行时间： 0.0秒\u001b[0m\n",
      "运行命令：\u001b[96mrednoise  /home/pl/work/python-workspance/FAST_pulsar_search_pl/03_barydata/j1631_FAST_pulsar_search_pl_bary_DM33.19.fft\u001b[0m\n",
      "运行命令：\u001b[96mrednoise  /home/pl/work/python-workspance/FAST_pulsar_search_pl/03_barydata/j1631_FAST_pulsar_search_pl_bary_DM33.18.fft\u001b[0m\n",
      "运行命令：\u001b[96mrednoise  /home/pl/work/python-workspance/FAST_pulsar_search_pl/03_barydata/j1631_FAST_pulsar_search_pl_bary_DM33.15.fft\u001b[0m\n",
      "运行命令：\u001b[96mrednoise  /home/pl/work/python-workspance/FAST_pulsar_search_pl/03_barydata/j1631_FAST_pulsar_search_pl_bary_DM33.12.fft\u001b[0m\n",
      "\u001b[94m运行时间： 0.0秒\u001b[0m\n",
      "\u001b[94m运行时间： 0.0秒\u001b[0m\n",
      "\u001b[94m运行时间： 0.0秒\u001b[0m\n",
      "\u001b[94m运行时间： 0.0秒\u001b[0m\n",
      "\u001b[94m运行时间： 0.0秒\u001b[0m\n",
      "\u001b[94m运行时间： 0.0秒\u001b[0m\n"
     ]
    },
    {
     "name": "stderr",
     "output_type": "stream",
     "text": [
      "rednoise-8核:  38%|███▊      | 113/300 [00:30<00:47,  3.94cmd/s]"
     ]
    },
    {
     "name": "stdout",
     "output_type": "stream",
     "text": [
      "程序运行路径为: /home/pl/work/python-workspance/FAST_pulsar_search_pl/03_barydata\n",
      "程序运行路径为: /home/pl/work/python-workspance/FAST_pulsar_search_pl/03_barydata\n",
      "程序运行路径为: /home/pl/work/python-workspance/FAST_pulsar_search_pl/03_barydata\n",
      "日志文件为：/home/pl/work/python-workspance/FAST_pulsar_search_pl/LOG/04_RED/LOG_04-RED-33.21.txt\n",
      "程序运行路径为: /home/pl/work/python-workspance/FAST_pulsar_search_pl/03_barydata\n",
      "程序运行路径为: /home/pl/work/python-workspance/FAST_pulsar_search_pl/03_barydata\n",
      "程序运行路径为: /home/pl/work/python-workspance/FAST_pulsar_search_pl/03_barydata\n",
      "程序运行路径为: /home/pl/work/python-workspance/FAST_pulsar_search_pl/03_barydata\n",
      "程序运行路径为: /home/pl/work/python-workspance/FAST_pulsar_search_pl/03_barydata\n",
      "日志文件为：/home/pl/work/python-workspance/FAST_pulsar_search_pl/LOG/04_RED/LOG_04-RED-33.20.txt\n",
      "日志文件为：/home/pl/work/python-workspance/FAST_pulsar_search_pl/LOG/04_RED/LOG_04-RED-33.22.txt\n",
      "日志文件为：/home/pl/work/python-workspance/FAST_pulsar_search_pl/LOG/04_RED/LOG_04-RED-33.23.txt\n",
      "日志文件为：/home/pl/work/python-workspance/FAST_pulsar_search_pl/LOG/04_RED/LOG_04-RED-33.25.txt\n",
      "日志文件为：/home/pl/work/python-workspance/FAST_pulsar_search_pl/LOG/04_RED/LOG_04-RED-33.26.txt\n",
      "日志文件为：/home/pl/work/python-workspance/FAST_pulsar_search_pl/LOG/04_RED/LOG_04-RED-33.24.txt\n",
      "日志文件为：/home/pl/work/python-workspance/FAST_pulsar_search_pl/LOG/04_RED/LOG_04-RED-33.27.txt\n",
      "运行命令：\u001b[96mrednoise  /home/pl/work/python-workspance/FAST_pulsar_search_pl/03_barydata/j1631_FAST_pulsar_search_pl_bary_DM33.24.fft\u001b[0m\n",
      "运行命令：\u001b[96mrednoise  /home/pl/work/python-workspance/FAST_pulsar_search_pl/03_barydata/j1631_FAST_pulsar_search_pl_bary_DM33.20.fft\u001b[0m\n",
      "运行命令：\u001b[96mrednoise  /home/pl/work/python-workspance/FAST_pulsar_search_pl/03_barydata/j1631_FAST_pulsar_search_pl_bary_DM33.27.fft\u001b[0m\n",
      "\u001b[94m运行时间： 0.0秒\u001b[0m\n",
      "运行命令：\u001b[96mrednoise  /home/pl/work/python-workspance/FAST_pulsar_search_pl/03_barydata/j1631_FAST_pulsar_search_pl_bary_DM33.26.fft\u001b[0m\n",
      "运行命令：\u001b[96mrednoise  /home/pl/work/python-workspance/FAST_pulsar_search_pl/03_barydata/j1631_FAST_pulsar_search_pl_bary_DM33.25.fft\u001b[0m\n",
      "\u001b[94m运行时间： 0.0秒\u001b[0m\n",
      "\u001b[94m运行时间： 0.0秒\u001b[0m\n",
      "\u001b[94m运行时间： 0.0秒\u001b[0m\n",
      "\u001b[94m运行时间： 0.0秒\u001b[0m\n",
      "运行命令：\u001b[96mrednoise  /home/pl/work/python-workspance/FAST_pulsar_search_pl/03_barydata/j1631_FAST_pulsar_search_pl_bary_DM33.23.fft\u001b[0m\n",
      "运行命令：\u001b[96mrednoise  /home/pl/work/python-workspance/FAST_pulsar_search_pl/03_barydata/j1631_FAST_pulsar_search_pl_bary_DM33.21.fft\u001b[0m\n",
      "运行命令：\u001b[96mrednoise  /home/pl/work/python-workspance/FAST_pulsar_search_pl/03_barydata/j1631_FAST_pulsar_search_pl_bary_DM33.22.fft\u001b[0m\n",
      "\u001b[94m运行时间： 0.0秒\u001b[0m\n",
      "\u001b[94m运行时间： 0.0秒\u001b[0m\n",
      "\u001b[94m运行时间： 0.0秒\u001b[0m\n"
     ]
    },
    {
     "name": "stderr",
     "output_type": "stream",
     "text": [
      "rednoise-8核:  40%|████      | 121/300 [00:32<00:45,  3.94cmd/s]"
     ]
    },
    {
     "name": "stdout",
     "output_type": "stream",
     "text": [
      "程序运行路径为: /home/pl/work/python-workspance/FAST_pulsar_search_pl/03_barydata\n",
      "程序运行路径为: /home/pl/work/python-workspance/FAST_pulsar_search_pl/03_barydata\n",
      "程序运行路径为: /home/pl/work/python-workspance/FAST_pulsar_search_pl/03_barydata\n",
      "日志文件为：/home/pl/work/python-workspance/FAST_pulsar_search_pl/LOG/04_RED/LOG_04-RED-33.28.txt\n",
      "日志文件为：/home/pl/work/python-workspance/FAST_pulsar_search_pl/LOG/04_RED/LOG_04-RED-33.30.txt\n",
      "程序运行路径为: /home/pl/work/python-workspance/FAST_pulsar_search_pl/03_barydata\n",
      "日志文件为：/home/pl/work/python-workspance/FAST_pulsar_search_pl/LOG/04_RED/LOG_04-RED-33.29.txt\n",
      "程序运行路径为: /home/pl/work/python-workspance/FAST_pulsar_search_pl/03_barydata\n",
      "日志文件为：/home/pl/work/python-workspance/FAST_pulsar_search_pl/LOG/04_RED/LOG_04-RED-33.31.txt\n",
      "日志文件为：/home/pl/work/python-workspance/FAST_pulsar_search_pl/LOG/04_RED/LOG_04-RED-33.32.txt\n",
      "程序运行路径为: /home/pl/work/python-workspance/FAST_pulsar_search_pl/03_barydata\n",
      "程序运行路径为: /home/pl/work/python-workspance/FAST_pulsar_search_pl/03_barydata\n",
      "程序运行路径为: /home/pl/work/python-workspance/FAST_pulsar_search_pl/03_barydata\n",
      "日志文件为：/home/pl/work/python-workspance/FAST_pulsar_search_pl/LOG/04_RED/LOG_04-RED-33.33.txt\n",
      "日志文件为：/home/pl/work/python-workspance/FAST_pulsar_search_pl/LOG/04_RED/LOG_04-RED-33.34.txt\n",
      "日志文件为：/home/pl/work/python-workspance/FAST_pulsar_search_pl/LOG/04_RED/LOG_04-RED-33.35.txt\n",
      "运行命令：\u001b[96mrednoise  /home/pl/work/python-workspance/FAST_pulsar_search_pl/03_barydata/j1631_FAST_pulsar_search_pl_bary_DM33.29.fft\u001b[0m\n",
      "运行命令：\u001b[96mrednoise  /home/pl/work/python-workspance/FAST_pulsar_search_pl/03_barydata/j1631_FAST_pulsar_search_pl_bary_DM33.28.fft\u001b[0m\n",
      "运行命令：\u001b[96mrednoise  /home/pl/work/python-workspance/FAST_pulsar_search_pl/03_barydata/j1631_FAST_pulsar_search_pl_bary_DM33.30.fft\u001b[0m\n",
      "\u001b[94m运行时间： 0.0秒\u001b[0m\n",
      "\u001b[94m运行时间： 0.0秒\u001b[0m\n",
      "\u001b[94m运行时间： 0.0秒\u001b[0m\n",
      "运行命令：\u001b[96mrednoise  /home/pl/work/python-workspance/FAST_pulsar_search_pl/03_barydata/j1631_FAST_pulsar_search_pl_bary_DM33.31.fft\u001b[0m\n",
      "运行命令：\u001b[96mrednoise  /home/pl/work/python-workspance/FAST_pulsar_search_pl/03_barydata/j1631_FAST_pulsar_search_pl_bary_DM33.32.fft\u001b[0m\n",
      "\u001b[94m运行时间： 0.0秒\u001b[0m\n",
      "运行命令：\u001b[96mrednoise  /home/pl/work/python-workspance/FAST_pulsar_search_pl/03_barydata/j1631_FAST_pulsar_search_pl_bary_DM33.34.fft\u001b[0m\n",
      "\u001b[94m运行时间： 0.0秒\u001b[0m\n",
      "运行命令：\u001b[96mrednoise  /home/pl/work/python-workspance/FAST_pulsar_search_pl/03_barydata/j1631_FAST_pulsar_search_pl_bary_DM33.33.fft\u001b[0m\n",
      "\u001b[94m运行时间： 0.0秒\u001b[0m\n",
      "\u001b[94m运行时间： 0.0秒\u001b[0m\n",
      "运行命令：\u001b[96mrednoise  /home/pl/work/python-workspance/FAST_pulsar_search_pl/03_barydata/j1631_FAST_pulsar_search_pl_bary_DM33.35.fft\u001b[0m\n",
      "\u001b[94m运行时间： 0.0秒\u001b[0m\n"
     ]
    },
    {
     "name": "stderr",
     "output_type": "stream",
     "text": [
      "rednoise-8核:  43%|████▎     | 129/300 [00:34<00:43,  3.95cmd/s]"
     ]
    },
    {
     "name": "stdout",
     "output_type": "stream",
     "text": [
      "程序运行路径为: /home/pl/work/python-workspance/FAST_pulsar_search_pl/03_barydata\n",
      "程序运行路径为: /home/pl/work/python-workspance/FAST_pulsar_search_pl/03_barydata\n",
      "程序运行路径为: /home/pl/work/python-workspance/FAST_pulsar_search_pl/03_barydata\n",
      "日志文件为：/home/pl/work/python-workspance/FAST_pulsar_search_pl/LOG/04_RED/LOG_04-RED-33.36.txt\n",
      "日志文件为：/home/pl/work/python-workspance/FAST_pulsar_search_pl/LOG/04_RED/LOG_04-RED-33.37.txt\n",
      "日志文件为：/home/pl/work/python-workspance/FAST_pulsar_search_pl/LOG/04_RED/LOG_04-RED-33.38.txt\n",
      "程序运行路径为: /home/pl/work/python-workspance/FAST_pulsar_search_pl/03_barydata\n",
      "日志文件为：/home/pl/work/python-workspance/FAST_pulsar_search_pl/LOG/04_RED/LOG_04-RED-33.39.txt\n",
      "程序运行路径为: /home/pl/work/python-workspance/FAST_pulsar_search_pl/03_barydata\n",
      "日志文件为：/home/pl/work/python-workspance/FAST_pulsar_search_pl/LOG/04_RED/LOG_04-RED-33.40.txt\n",
      "程序运行路径为: /home/pl/work/python-workspance/FAST_pulsar_search_pl/03_barydata\n",
      "日志文件为：/home/pl/work/python-workspance/FAST_pulsar_search_pl/LOG/04_RED/LOG_04-RED-33.41.txt\n",
      "程序运行路径为: /home/pl/work/python-workspance/FAST_pulsar_search_pl/03_barydata\n",
      "程序运行路径为: /home/pl/work/python-workspance/FAST_pulsar_search_pl/03_barydata\n",
      "日志文件为：/home/pl/work/python-workspance/FAST_pulsar_search_pl/LOG/04_RED/LOG_04-RED-33.42.txt\n",
      "日志文件为：/home/pl/work/python-workspance/FAST_pulsar_search_pl/LOG/04_RED/LOG_04-RED-33.43.txt\n",
      "运行命令：\u001b[96mrednoise  /home/pl/work/python-workspance/FAST_pulsar_search_pl/03_barydata/j1631_FAST_pulsar_search_pl_bary_DM33.40.fft\u001b[0m\n",
      "\u001b[94m运行时间： 0.0秒\u001b[0m\n",
      "运行命令：\u001b[96mrednoise  /home/pl/work/python-workspance/FAST_pulsar_search_pl/03_barydata/j1631_FAST_pulsar_search_pl_bary_DM33.39.fft\u001b[0m\n",
      "运行命令：\u001b[96mrednoise  /home/pl/work/python-workspance/FAST_pulsar_search_pl/03_barydata/j1631_FAST_pulsar_search_pl_bary_DM33.38.fft\u001b[0m\n",
      "运行命令：\u001b[96mrednoise  /home/pl/work/python-workspance/FAST_pulsar_search_pl/03_barydata/j1631_FAST_pulsar_search_pl_bary_DM33.41.fft\u001b[0m\n",
      "\u001b[94m运行时间： 0.0秒\u001b[0m\n",
      "\u001b[94m运行时间： 0.0秒\u001b[0m\n",
      "\u001b[94m运行时间： 0.0秒\u001b[0m\n",
      "运行命令：\u001b[96mrednoise  /home/pl/work/python-workspance/FAST_pulsar_search_pl/03_barydata/j1631_FAST_pulsar_search_pl_bary_DM33.36.fft\u001b[0m\n",
      "运行命令：\u001b[96mrednoise  /home/pl/work/python-workspance/FAST_pulsar_search_pl/03_barydata/j1631_FAST_pulsar_search_pl_bary_DM33.42.fft\u001b[0m\n",
      "\u001b[94m运行时间： 0.0秒\u001b[0m\n",
      "运行命令：\u001b[96mrednoise  /home/pl/work/python-workspance/FAST_pulsar_search_pl/03_barydata/j1631_FAST_pulsar_search_pl_bary_DM33.37.fft\u001b[0m\n",
      "\u001b[94m运行时间： 0.0秒\u001b[0m\n",
      "\u001b[94m运行时间： 0.0秒\u001b[0m\n",
      "运行命令：\u001b[96mrednoise  /home/pl/work/python-workspance/FAST_pulsar_search_pl/03_barydata/j1631_FAST_pulsar_search_pl_bary_DM33.43.fft\u001b[0m\n",
      "\u001b[94m运行时间： 0.0秒\u001b[0m\n"
     ]
    },
    {
     "name": "stderr",
     "output_type": "stream",
     "text": [
      "rednoise-8核:  46%|████▌     | 137/300 [00:36<00:41,  3.95cmd/s]"
     ]
    },
    {
     "name": "stdout",
     "output_type": "stream",
     "text": [
      "程序运行路径为: /home/pl/work/python-workspance/FAST_pulsar_search_pl/03_barydata\n",
      "日志文件为：/home/pl/work/python-workspance/FAST_pulsar_search_pl/LOG/04_RED/LOG_04-RED-33.44.txt\n",
      "程序运行路径为: /home/pl/work/python-workspance/FAST_pulsar_search_pl/03_barydata\n",
      "程序运行路径为: /home/pl/work/python-workspance/FAST_pulsar_search_pl/03_barydata\n",
      "程序运行路径为: /home/pl/work/python-workspance/FAST_pulsar_search_pl/03_barydata\n",
      "日志文件为：/home/pl/work/python-workspance/FAST_pulsar_search_pl/LOG/04_RED/LOG_04-RED-33.46.txt\n",
      "日志文件为：/home/pl/work/python-workspance/FAST_pulsar_search_pl/LOG/04_RED/LOG_04-RED-33.45.txt\n",
      "日志文件为：/home/pl/work/python-workspance/FAST_pulsar_search_pl/LOG/04_RED/LOG_04-RED-33.47.txt\n",
      "程序运行路径为: /home/pl/work/python-workspance/FAST_pulsar_search_pl/03_barydata\n",
      "日志文件为：/home/pl/work/python-workspance/FAST_pulsar_search_pl/LOG/04_RED/LOG_04-RED-33.48.txt\n",
      "程序运行路径为: /home/pl/work/python-workspance/FAST_pulsar_search_pl/03_barydata\n",
      "程序运行路径为: /home/pl/work/python-workspance/FAST_pulsar_search_pl/03_barydata\n",
      "日志文件为：/home/pl/work/python-workspance/FAST_pulsar_search_pl/LOG/04_RED/LOG_04-RED-33.49.txt\n",
      "日志文件为：/home/pl/work/python-workspance/FAST_pulsar_search_pl/LOG/04_RED/LOG_04-RED-33.50.txt\n",
      "程序运行路径为: /home/pl/work/python-workspance/FAST_pulsar_search_pl/03_barydata\n",
      "日志文件为：/home/pl/work/python-workspance/FAST_pulsar_search_pl/LOG/04_RED/LOG_04-RED-33.51.txt\n",
      "运行命令：\u001b[96mrednoise  /home/pl/work/python-workspance/FAST_pulsar_search_pl/03_barydata/j1631_FAST_pulsar_search_pl_bary_DM33.44.fft\u001b[0m\n",
      "\u001b[94m运行时间： 0.0秒\u001b[0m\n",
      "运行命令：\u001b[96mrednoise  /home/pl/work/python-workspance/FAST_pulsar_search_pl/03_barydata/j1631_FAST_pulsar_search_pl_bary_DM33.45.fft\u001b[0m\n",
      "\u001b[94m运行时间： 0.0秒\u001b[0m\n",
      "运行命令：\u001b[96mrednoise  /home/pl/work/python-workspance/FAST_pulsar_search_pl/03_barydata/j1631_FAST_pulsar_search_pl_bary_DM33.46.fft\u001b[0m\n",
      "运行命令：\u001b[96mrednoise  /home/pl/work/python-workspance/FAST_pulsar_search_pl/03_barydata/j1631_FAST_pulsar_search_pl_bary_DM33.47.fft\u001b[0m\n",
      "\u001b[94m运行时间： 0.0秒\u001b[0m\n",
      "运行命令：\u001b[96mrednoise  /home/pl/work/python-workspance/FAST_pulsar_search_pl/03_barydata/j1631_FAST_pulsar_search_pl_bary_DM33.48.fft\u001b[0m\n",
      "\u001b[94m运行时间： 0.0秒\u001b[0m\n",
      "运行命令：\u001b[96mrednoise  /home/pl/work/python-workspance/FAST_pulsar_search_pl/03_barydata/j1631_FAST_pulsar_search_pl_bary_DM33.50.fft\u001b[0m\n",
      "运行命令：\u001b[96mrednoise  /home/pl/work/python-workspance/FAST_pulsar_search_pl/03_barydata/j1631_FAST_pulsar_search_pl_bary_DM33.49.fft\u001b[0m\n",
      "\u001b[94m运行时间： 0.0秒\u001b[0m\n",
      "运行命令：\u001b[96mrednoise  /home/pl/work/python-workspance/FAST_pulsar_search_pl/03_barydata/j1631_FAST_pulsar_search_pl_bary_DM33.51.fft\u001b[0m\n",
      "\u001b[94m运行时间： 0.0秒\u001b[0m\n",
      "\u001b[94m运行时间： 0.0秒\u001b[0m\n",
      "\u001b[94m运行时间： 0.0秒\u001b[0m\n"
     ]
    },
    {
     "name": "stderr",
     "output_type": "stream",
     "text": [
      "rednoise-8核:  48%|████▊     | 145/300 [00:38<00:39,  3.95cmd/s]"
     ]
    },
    {
     "name": "stdout",
     "output_type": "stream",
     "text": [
      "程序运行路径为: /home/pl/work/python-workspance/FAST_pulsar_search_pl/03_barydata\n",
      "日志文件为：/home/pl/work/python-workspance/FAST_pulsar_search_pl/LOG/04_RED/LOG_04-RED-33.52.txt\n",
      "程序运行路径为: /home/pl/work/python-workspance/FAST_pulsar_search_pl/03_barydata\n",
      "程序运行路径为: /home/pl/work/python-workspance/FAST_pulsar_search_pl/03_barydata\n",
      "程序运行路径为: /home/pl/work/python-workspance/FAST_pulsar_search_pl/03_barydata\n",
      "程序运行路径为: /home/pl/work/python-workspance/FAST_pulsar_search_pl/03_barydata\n",
      "程序运行路径为: /home/pl/work/python-workspance/FAST_pulsar_search_pl/03_barydata\n",
      "程序运行路径为: /home/pl/work/python-workspance/FAST_pulsar_search_pl/03_barydata\n",
      "日志文件为：/home/pl/work/python-workspance/FAST_pulsar_search_pl/LOG/04_RED/LOG_04-RED-33.56.txt\n",
      "程序运行路径为: /home/pl/work/python-workspance/FAST_pulsar_search_pl/03_barydata\n",
      "日志文件为：/home/pl/work/python-workspance/FAST_pulsar_search_pl/LOG/04_RED/LOG_04-RED-33.54.txt\n",
      "日志文件为：/home/pl/work/python-workspance/FAST_pulsar_search_pl/LOG/04_RED/LOG_04-RED-33.53.txt\n",
      "日志文件为：/home/pl/work/python-workspance/FAST_pulsar_search_pl/LOG/04_RED/LOG_04-RED-33.57.txt\n",
      "日志文件为：/home/pl/work/python-workspance/FAST_pulsar_search_pl/LOG/04_RED/LOG_04-RED-33.58.txt\n",
      "日志文件为：/home/pl/work/python-workspance/FAST_pulsar_search_pl/LOG/04_RED/LOG_04-RED-33.59.txt\n",
      "日志文件为：/home/pl/work/python-workspance/FAST_pulsar_search_pl/LOG/04_RED/LOG_04-RED-33.55.txt\n",
      "运行命令：\u001b[96mrednoise  /home/pl/work/python-workspance/FAST_pulsar_search_pl/03_barydata/j1631_FAST_pulsar_search_pl_bary_DM33.52.fft\u001b[0m\n",
      "\u001b[94m运行时间： 0.0秒\u001b[0m\n",
      "运行命令：\u001b[96mrednoise  /home/pl/work/python-workspance/FAST_pulsar_search_pl/03_barydata/j1631_FAST_pulsar_search_pl_bary_DM33.54.fft\u001b[0m\n",
      "运行命令：\u001b[96mrednoise  /home/pl/work/python-workspance/FAST_pulsar_search_pl/03_barydata/j1631_FAST_pulsar_search_pl_bary_DM33.58.fft\u001b[0m\n",
      "\u001b[94m运行时间： 0.0秒\u001b[0m\n",
      "运行命令：\u001b[96mrednoise  /home/pl/work/python-workspance/FAST_pulsar_search_pl/03_barydata/j1631_FAST_pulsar_search_pl_bary_DM33.53.fft\u001b[0m\n",
      "运行命令：\u001b[96mrednoise  /home/pl/work/python-workspance/FAST_pulsar_search_pl/03_barydata/j1631_FAST_pulsar_search_pl_bary_DM33.56.fft\u001b[0m\n",
      "\u001b[94m运行时间： 0.0秒\u001b[0m\n",
      "运行命令：\u001b[96mrednoise  /home/pl/work/python-workspance/FAST_pulsar_search_pl/03_barydata/j1631_FAST_pulsar_search_pl_bary_DM33.57.fft\u001b[0m\n",
      "\u001b[94m运行时间： 0.0秒\u001b[0m\n",
      "\u001b[94m运行时间： 0.0秒\u001b[0m\n",
      "\u001b[94m运行时间： 0.0秒\u001b[0m\n",
      "运行命令：\u001b[96mrednoise  /home/pl/work/python-workspance/FAST_pulsar_search_pl/03_barydata/j1631_FAST_pulsar_search_pl_bary_DM33.55.fft\u001b[0m\n",
      "\u001b[94m运行时间： 0.0秒\u001b[0m\n",
      "运行命令：\u001b[96mrednoise  /home/pl/work/python-workspance/FAST_pulsar_search_pl/03_barydata/j1631_FAST_pulsar_search_pl_bary_DM33.59.fft\u001b[0m\n",
      "\u001b[94m运行时间： 0.0秒\u001b[0m\n"
     ]
    },
    {
     "name": "stderr",
     "output_type": "stream",
     "text": [
      "rednoise-8核:  51%|█████     | 153/300 [00:40<00:37,  3.95cmd/s]"
     ]
    },
    {
     "name": "stdout",
     "output_type": "stream",
     "text": [
      "程序运行路径为: /home/pl/work/python-workspance/FAST_pulsar_search_pl/03_barydata\n",
      "日志文件为：/home/pl/work/python-workspance/FAST_pulsar_search_pl/LOG/04_RED/LOG_04-RED-33.60.txt\n",
      "程序运行路径为: /home/pl/work/python-workspance/FAST_pulsar_search_pl/03_barydata\n",
      "程序运行路径为: /home/pl/work/python-workspance/FAST_pulsar_search_pl/03_barydata\n",
      "日志文件为：/home/pl/work/python-workspance/FAST_pulsar_search_pl/LOG/04_RED/LOG_04-RED-33.61.txt\n",
      "程序运行路径为: /home/pl/work/python-workspance/FAST_pulsar_search_pl/03_barydata\n",
      "日志文件为：/home/pl/work/python-workspance/FAST_pulsar_search_pl/LOG/04_RED/LOG_04-RED-33.62.txt\n",
      "程序运行路径为: /home/pl/work/python-workspance/FAST_pulsar_search_pl/03_barydata\n",
      "日志文件为：/home/pl/work/python-workspance/FAST_pulsar_search_pl/LOG/04_RED/LOG_04-RED-33.63.txt\n",
      "程序运行路径为: /home/pl/work/python-workspance/FAST_pulsar_search_pl/03_barydata\n",
      "日志文件为：/home/pl/work/python-workspance/FAST_pulsar_search_pl/LOG/04_RED/LOG_04-RED-33.64.txt\n",
      "日志文件为：/home/pl/work/python-workspance/FAST_pulsar_search_pl/LOG/04_RED/LOG_04-RED-33.65.txt\n",
      "程序运行路径为: /home/pl/work/python-workspance/FAST_pulsar_search_pl/03_barydata\n",
      "程序运行路径为: /home/pl/work/python-workspance/FAST_pulsar_search_pl/03_barydata\n",
      "日志文件为：/home/pl/work/python-workspance/FAST_pulsar_search_pl/LOG/04_RED/LOG_04-RED-33.66.txt\n",
      "日志文件为：/home/pl/work/python-workspance/FAST_pulsar_search_pl/LOG/04_RED/LOG_04-RED-33.67.txt\n",
      "运行命令：\u001b[96mrednoise  /home/pl/work/python-workspance/FAST_pulsar_search_pl/03_barydata/j1631_FAST_pulsar_search_pl_bary_DM33.60.fft\u001b[0m\n",
      "\u001b[94m运行时间： 0.0秒\u001b[0m\n",
      "运行命令：\u001b[96mrednoise  /home/pl/work/python-workspance/FAST_pulsar_search_pl/03_barydata/j1631_FAST_pulsar_search_pl_bary_DM33.61.fft\u001b[0m\n",
      "运行命令：\u001b[96mrednoise  /home/pl/work/python-workspance/FAST_pulsar_search_pl/03_barydata/j1631_FAST_pulsar_search_pl_bary_DM33.63.fft\u001b[0m\n",
      "运行命令：\u001b[96mrednoise  /home/pl/work/python-workspance/FAST_pulsar_search_pl/03_barydata/j1631_FAST_pulsar_search_pl_bary_DM33.64.fft\u001b[0m\n",
      "\u001b[94m运行时间： 0.0秒\u001b[0m\n",
      "运行命令：\u001b[96mrednoise  /home/pl/work/python-workspance/FAST_pulsar_search_pl/03_barydata/j1631_FAST_pulsar_search_pl_bary_DM33.62.fft\u001b[0m\n",
      "\u001b[94m运行时间： 0.0秒\u001b[0m\n",
      "\u001b[94m运行时间： 0.0秒\u001b[0m\n",
      "运行命令：\u001b[96mrednoise  /home/pl/work/python-workspance/FAST_pulsar_search_pl/03_barydata/j1631_FAST_pulsar_search_pl_bary_DM33.65.fft\u001b[0m\n",
      "\u001b[94m运行时间： 0.0秒\u001b[0m\n",
      "\u001b[94m运行时间： 0.0秒\u001b[0m\n",
      "运行命令：\u001b[96mrednoise  /home/pl/work/python-workspance/FAST_pulsar_search_pl/03_barydata/j1631_FAST_pulsar_search_pl_bary_DM33.66.fft\u001b[0m\n",
      "运行命令：\u001b[96mrednoise  /home/pl/work/python-workspance/FAST_pulsar_search_pl/03_barydata/j1631_FAST_pulsar_search_pl_bary_DM33.67.fft\u001b[0m\n",
      "\u001b[94m运行时间： 0.0秒\u001b[0m\n",
      "\u001b[94m运行时间： 0.0秒\u001b[0m\n"
     ]
    },
    {
     "name": "stderr",
     "output_type": "stream",
     "text": [
      "rednoise-8核:  54%|█████▎    | 161/300 [00:42<00:35,  3.95cmd/s]"
     ]
    },
    {
     "name": "stdout",
     "output_type": "stream",
     "text": [
      "程序运行路径为: /home/pl/work/python-workspance/FAST_pulsar_search_pl/03_barydata\n",
      "日志文件为：/home/pl/work/python-workspance/FAST_pulsar_search_pl/LOG/04_RED/LOG_04-RED-33.68.txt\n",
      "程序运行路径为: /home/pl/work/python-workspance/FAST_pulsar_search_pl/03_barydata\n",
      "程序运行路径为: /home/pl/work/python-workspance/FAST_pulsar_search_pl/03_barydata\n",
      "程序运行路径为: /home/pl/work/python-workspance/FAST_pulsar_search_pl/03_barydata\n",
      "日志文件为：/home/pl/work/python-workspance/FAST_pulsar_search_pl/LOG/04_RED/LOG_04-RED-33.69.txt\n",
      "日志文件为：/home/pl/work/python-workspance/FAST_pulsar_search_pl/LOG/04_RED/LOG_04-RED-33.70.txt\n",
      "日志文件为：/home/pl/work/python-workspance/FAST_pulsar_search_pl/LOG/04_RED/LOG_04-RED-33.71.txt\n",
      "程序运行路径为: /home/pl/work/python-workspance/FAST_pulsar_search_pl/03_barydata\n",
      "程序运行路径为: /home/pl/work/python-workspance/FAST_pulsar_search_pl/03_barydata\n",
      "日志文件为：/home/pl/work/python-workspance/FAST_pulsar_search_pl/LOG/04_RED/LOG_04-RED-33.72.txt\n",
      "日志文件为：/home/pl/work/python-workspance/FAST_pulsar_search_pl/LOG/04_RED/LOG_04-RED-33.73.txt\n",
      "程序运行路径为: /home/pl/work/python-workspance/FAST_pulsar_search_pl/03_barydata\n",
      "程序运行路径为: /home/pl/work/python-workspance/FAST_pulsar_search_pl/03_barydata\n",
      "日志文件为：/home/pl/work/python-workspance/FAST_pulsar_search_pl/LOG/04_RED/LOG_04-RED-33.75.txt\n",
      "日志文件为：/home/pl/work/python-workspance/FAST_pulsar_search_pl/LOG/04_RED/LOG_04-RED-33.74.txt\n",
      "运行命令：\u001b[96mrednoise  /home/pl/work/python-workspance/FAST_pulsar_search_pl/03_barydata/j1631_FAST_pulsar_search_pl_bary_DM33.68.fft\u001b[0m\n",
      "运行命令：\u001b[96mrednoise  /home/pl/work/python-workspance/FAST_pulsar_search_pl/03_barydata/j1631_FAST_pulsar_search_pl_bary_DM33.69.fft\u001b[0m\n",
      "\u001b[94m运行时间： 0.0秒\u001b[0m\n",
      "\u001b[94m运行时间： 0.0秒\u001b[0m\n",
      "运行命令：\u001b[96mrednoise  /home/pl/work/python-workspance/FAST_pulsar_search_pl/03_barydata/j1631_FAST_pulsar_search_pl_bary_DM33.71.fft\u001b[0m\n",
      "运行命令：\u001b[96mrednoise  /home/pl/work/python-workspance/FAST_pulsar_search_pl/03_barydata/j1631_FAST_pulsar_search_pl_bary_DM33.72.fft\u001b[0m\n",
      "运行命令：\u001b[96mrednoise  /home/pl/work/python-workspance/FAST_pulsar_search_pl/03_barydata/j1631_FAST_pulsar_search_pl_bary_DM33.73.fft\u001b[0m\n",
      "\u001b[94m运行时间： 0.0秒\u001b[0m\n",
      "运行命令：\u001b[96mrednoise  /home/pl/work/python-workspance/FAST_pulsar_search_pl/03_barydata/j1631_FAST_pulsar_search_pl_bary_DM33.70.fft\u001b[0m\n",
      "\u001b[94m运行时间： 0.0秒\u001b[0m\n",
      "\u001b[94m运行时间： 0.0秒\u001b[0m\n",
      "\u001b[94m运行时间： 0.0秒\u001b[0m\n",
      "运行命令：\u001b[96mrednoise  /home/pl/work/python-workspance/FAST_pulsar_search_pl/03_barydata/j1631_FAST_pulsar_search_pl_bary_DM33.75.fft\u001b[0m\n",
      "\u001b[94m运行时间： 0.0秒\u001b[0m\n",
      "运行命令：\u001b[96mrednoise  /home/pl/work/python-workspance/FAST_pulsar_search_pl/03_barydata/j1631_FAST_pulsar_search_pl_bary_DM33.74.fft\u001b[0m\n",
      "\u001b[94m运行时间： 0.0秒\u001b[0m\n"
     ]
    },
    {
     "name": "stderr",
     "output_type": "stream",
     "text": [
      "rednoise-8核:  56%|█████▋    | 169/300 [00:44<00:33,  3.95cmd/s]"
     ]
    },
    {
     "name": "stdout",
     "output_type": "stream",
     "text": [
      "程序运行路径为: /home/pl/work/python-workspance/FAST_pulsar_search_pl/03_barydata\n",
      "日志文件为：/home/pl/work/python-workspance/FAST_pulsar_search_pl/LOG/04_RED/LOG_04-RED-33.76.txt\n",
      "程序运行路径为: /home/pl/work/python-workspance/FAST_pulsar_search_pl/03_barydata\n",
      "程序运行路径为: /home/pl/work/python-workspance/FAST_pulsar_search_pl/03_barydata\n",
      "程序运行路径为: /home/pl/work/python-workspance/FAST_pulsar_search_pl/03_barydata\n",
      "程序运行路径为: /home/pl/work/python-workspance/FAST_pulsar_search_pl/03_barydata\n",
      "程序运行路径为: /home/pl/work/python-workspance/FAST_pulsar_search_pl/03_barydata\n",
      "程序运行路径为: /home/pl/work/python-workspance/FAST_pulsar_search_pl/03_barydata\n",
      "程序运行路径为: /home/pl/work/python-workspance/FAST_pulsar_search_pl/03_barydata\n",
      "日志文件为：/home/pl/work/python-workspance/FAST_pulsar_search_pl/LOG/04_RED/LOG_04-RED-33.77.txt\n",
      "日志文件为：/home/pl/work/python-workspance/FAST_pulsar_search_pl/LOG/04_RED/LOG_04-RED-33.80.txt\n",
      "日志文件为：/home/pl/work/python-workspance/FAST_pulsar_search_pl/LOG/04_RED/LOG_04-RED-33.78.txt\n",
      "日志文件为：/home/pl/work/python-workspance/FAST_pulsar_search_pl/LOG/04_RED/LOG_04-RED-33.81.txt\n",
      "日志文件为：/home/pl/work/python-workspance/FAST_pulsar_search_pl/LOG/04_RED/LOG_04-RED-33.82.txt\n",
      "日志文件为：/home/pl/work/python-workspance/FAST_pulsar_search_pl/LOG/04_RED/LOG_04-RED-33.79.txt\n",
      "日志文件为：/home/pl/work/python-workspance/FAST_pulsar_search_pl/LOG/04_RED/LOG_04-RED-33.83.txt\n",
      "运行命令：\u001b[96mrednoise  /home/pl/work/python-workspance/FAST_pulsar_search_pl/03_barydata/j1631_FAST_pulsar_search_pl_bary_DM33.76.fft\u001b[0m\n",
      "\u001b[94m运行时间： 0.0秒\u001b[0m\n",
      "运行命令：\u001b[96mrednoise  /home/pl/work/python-workspance/FAST_pulsar_search_pl/03_barydata/j1631_FAST_pulsar_search_pl_bary_DM33.80.fft\u001b[0m\n",
      "\u001b[94m运行时间： 0.0秒\u001b[0m\n",
      "运行命令：\u001b[96mrednoise  /home/pl/work/python-workspance/FAST_pulsar_search_pl/03_barydata/j1631_FAST_pulsar_search_pl_bary_DM33.77.fft\u001b[0m\n",
      "运行命令：\u001b[96mrednoise  /home/pl/work/python-workspance/FAST_pulsar_search_pl/03_barydata/j1631_FAST_pulsar_search_pl_bary_DM33.83.fft\u001b[0m\n",
      "运行命令：\u001b[96mrednoise  /home/pl/work/python-workspance/FAST_pulsar_search_pl/03_barydata/j1631_FAST_pulsar_search_pl_bary_DM33.78.fft\u001b[0m\n",
      "\u001b[94m运行时间： 0.0秒\u001b[0m\n",
      "\u001b[94m运行时间： 0.0秒\u001b[0m\n",
      "运行命令：\u001b[96mrednoise  /home/pl/work/python-workspance/FAST_pulsar_search_pl/03_barydata/j1631_FAST_pulsar_search_pl_bary_DM33.81.fft\u001b[0m\n",
      "\u001b[94m运行时间： 0.0秒\u001b[0m\n",
      "运行命令：\u001b[96mrednoise  /home/pl/work/python-workspance/FAST_pulsar_search_pl/03_barydata/j1631_FAST_pulsar_search_pl_bary_DM33.82.fft\u001b[0m\n",
      "运行命令：\u001b[96mrednoise  /home/pl/work/python-workspance/FAST_pulsar_search_pl/03_barydata/j1631_FAST_pulsar_search_pl_bary_DM33.79.fft\u001b[0m\n",
      "\u001b[94m运行时间： 0.0秒\u001b[0m\n",
      "\u001b[94m运行时间： 0.0秒\u001b[0m\n",
      "\u001b[94m运行时间： 0.0秒\u001b[0m\n"
     ]
    },
    {
     "name": "stderr",
     "output_type": "stream",
     "text": [
      "rednoise-8核:  59%|█████▉    | 177/300 [00:46<00:31,  3.95cmd/s]"
     ]
    },
    {
     "name": "stdout",
     "output_type": "stream",
     "text": [
      "程序运行路径为: /home/pl/work/python-workspance/FAST_pulsar_search_pl/03_barydata\n",
      "日志文件为：/home/pl/work/python-workspance/FAST_pulsar_search_pl/LOG/04_RED/LOG_04-RED-33.84.txt\n",
      "程序运行路径为: /home/pl/work/python-workspance/FAST_pulsar_search_pl/03_barydata\n",
      "程序运行路径为: /home/pl/work/python-workspance/FAST_pulsar_search_pl/03_barydata\n",
      "日志文件为：/home/pl/work/python-workspance/FAST_pulsar_search_pl/LOG/04_RED/LOG_04-RED-33.85.txt\n",
      "程序运行路径为: /home/pl/work/python-workspance/FAST_pulsar_search_pl/03_barydata\n",
      "日志文件为：/home/pl/work/python-workspance/FAST_pulsar_search_pl/LOG/04_RED/LOG_04-RED-33.87.txt\n",
      "日志文件为：/home/pl/work/python-workspance/FAST_pulsar_search_pl/LOG/04_RED/LOG_04-RED-33.86.txt\n",
      "程序运行路径为: /home/pl/work/python-workspance/FAST_pulsar_search_pl/03_barydata\n",
      "程序运行路径为: /home/pl/work/python-workspance/FAST_pulsar_search_pl/03_barydata\n",
      "程序运行路径为: /home/pl/work/python-workspance/FAST_pulsar_search_pl/03_barydata\n",
      "日志文件为：/home/pl/work/python-workspance/FAST_pulsar_search_pl/LOG/04_RED/LOG_04-RED-33.88.txt\n",
      "日志文件为：/home/pl/work/python-workspance/FAST_pulsar_search_pl/LOG/04_RED/LOG_04-RED-33.89.txt\n",
      "程序运行路径为: /home/pl/work/python-workspance/FAST_pulsar_search_pl/03_barydata\n",
      "日志文件为：/home/pl/work/python-workspance/FAST_pulsar_search_pl/LOG/04_RED/LOG_04-RED-33.90.txt\n",
      "日志文件为：/home/pl/work/python-workspance/FAST_pulsar_search_pl/LOG/04_RED/LOG_04-RED-33.91.txt\n",
      "运行命令：\u001b[96mrednoise  /home/pl/work/python-workspance/FAST_pulsar_search_pl/03_barydata/j1631_FAST_pulsar_search_pl_bary_DM33.84.fft\u001b[0m\n",
      "运行命令：\u001b[96mrednoise  /home/pl/work/python-workspance/FAST_pulsar_search_pl/03_barydata/j1631_FAST_pulsar_search_pl_bary_DM33.85.fft\u001b[0m\n",
      "\u001b[94m运行时间： 0.0秒\u001b[0m\n",
      "\u001b[94m运行时间： 0.0秒\u001b[0m\n",
      "运行命令：\u001b[96mrednoise  /home/pl/work/python-workspance/FAST_pulsar_search_pl/03_barydata/j1631_FAST_pulsar_search_pl_bary_DM33.86.fft\u001b[0m\n",
      "运行命令：\u001b[96mrednoise  /home/pl/work/python-workspance/FAST_pulsar_search_pl/03_barydata/j1631_FAST_pulsar_search_pl_bary_DM33.87.fft\u001b[0m\n",
      "\u001b[94m运行时间： 0.0秒\u001b[0m\n",
      "\u001b[94m运行时间： 0.0秒\u001b[0m\n",
      "运行命令：\u001b[96mrednoise  /home/pl/work/python-workspance/FAST_pulsar_search_pl/03_barydata/j1631_FAST_pulsar_search_pl_bary_DM33.90.fft\u001b[0m\n",
      "运行命令：\u001b[96mrednoise  /home/pl/work/python-workspance/FAST_pulsar_search_pl/03_barydata/j1631_FAST_pulsar_search_pl_bary_DM33.88.fft\u001b[0m\n",
      "\u001b[94m运行时间： 0.0秒\u001b[0m\n",
      "\u001b[94m运行时间： 0.0秒\u001b[0m\n",
      "运行命令：\u001b[96mrednoise  /home/pl/work/python-workspance/FAST_pulsar_search_pl/03_barydata/j1631_FAST_pulsar_search_pl_bary_DM33.91.fft\u001b[0m\n",
      "\u001b[94m运行时间： 0.0秒\u001b[0m\n",
      "运行命令：\u001b[96mrednoise  /home/pl/work/python-workspance/FAST_pulsar_search_pl/03_barydata/j1631_FAST_pulsar_search_pl_bary_DM33.89.fft\u001b[0m\n",
      "\u001b[94m运行时间： 0.0秒\u001b[0m\n"
     ]
    },
    {
     "name": "stderr",
     "output_type": "stream",
     "text": [
      "rednoise-8核:  62%|██████▏   | 185/300 [00:48<00:29,  3.95cmd/s]"
     ]
    },
    {
     "name": "stdout",
     "output_type": "stream",
     "text": [
      "程序运行路径为: /home/pl/work/python-workspance/FAST_pulsar_search_pl/03_barydata\n",
      "程序运行路径为: /home/pl/work/python-workspance/FAST_pulsar_search_pl/03_barydata\n",
      "日志文件为：/home/pl/work/python-workspance/FAST_pulsar_search_pl/LOG/04_RED/LOG_04-RED-33.92.txt\n",
      "日志文件为：/home/pl/work/python-workspance/FAST_pulsar_search_pl/LOG/04_RED/LOG_04-RED-33.93.txt\n",
      "程序运行路径为: /home/pl/work/python-workspance/FAST_pulsar_search_pl/03_barydata\n",
      "程序运行路径为: /home/pl/work/python-workspance/FAST_pulsar_search_pl/03_barydata\n",
      "程序运行路径为: /home/pl/work/python-workspance/FAST_pulsar_search_pl/03_barydata\n",
      "日志文件为：/home/pl/work/python-workspance/FAST_pulsar_search_pl/LOG/04_RED/LOG_04-RED-33.94.txt\n",
      "日志文件为：/home/pl/work/python-workspance/FAST_pulsar_search_pl/LOG/04_RED/LOG_04-RED-33.95.txt\n",
      "日志文件为：/home/pl/work/python-workspance/FAST_pulsar_search_pl/LOG/04_RED/LOG_04-RED-33.96.txt\n",
      "程序运行路径为: /home/pl/work/python-workspance/FAST_pulsar_search_pl/03_barydata\n",
      "日志文件为：/home/pl/work/python-workspance/FAST_pulsar_search_pl/LOG/04_RED/LOG_04-RED-33.97.txt\n",
      "程序运行路径为: /home/pl/work/python-workspance/FAST_pulsar_search_pl/03_barydata\n",
      "程序运行路径为: /home/pl/work/python-workspance/FAST_pulsar_search_pl/03_barydata\n",
      "日志文件为：/home/pl/work/python-workspance/FAST_pulsar_search_pl/LOG/04_RED/LOG_04-RED-33.99.txt\n",
      "日志文件为：/home/pl/work/python-workspance/FAST_pulsar_search_pl/LOG/04_RED/LOG_04-RED-33.98.txt\n",
      "运行命令：\u001b[96mrednoise  /home/pl/work/python-workspance/FAST_pulsar_search_pl/03_barydata/j1631_FAST_pulsar_search_pl_bary_DM33.93.fft\u001b[0m\n",
      "运行命令：\u001b[96mrednoise  /home/pl/work/python-workspance/FAST_pulsar_search_pl/03_barydata/j1631_FAST_pulsar_search_pl_bary_DM33.97.fft\u001b[0m\n",
      "\u001b[94m运行时间： 0.0秒\u001b[0m\n",
      "运行命令：\u001b[96mrednoise  /home/pl/work/python-workspance/FAST_pulsar_search_pl/03_barydata/j1631_FAST_pulsar_search_pl_bary_DM33.92.fft\u001b[0m\n",
      "\u001b[94m运行时间： 0.0秒\u001b[0m\n",
      "运行命令：\u001b[96mrednoise  /home/pl/work/python-workspance/FAST_pulsar_search_pl/03_barydata/j1631_FAST_pulsar_search_pl_bary_DM33.96.fft\u001b[0m\n",
      "\u001b[94m运行时间： 0.0秒\u001b[0m\n",
      "运行命令：\u001b[96mrednoise  /home/pl/work/python-workspance/FAST_pulsar_search_pl/03_barydata/j1631_FAST_pulsar_search_pl_bary_DM33.95.fft\u001b[0m\n",
      "运行命令：\u001b[96mrednoise  /home/pl/work/python-workspance/FAST_pulsar_search_pl/03_barydata/j1631_FAST_pulsar_search_pl_bary_DM33.94.fft\u001b[0m\n",
      "\u001b[94m运行时间： 0.0秒\u001b[0m\n",
      "\u001b[94m运行时间： 0.0秒\u001b[0m\n",
      "\u001b[94m运行时间： 0.0秒\u001b[0m\n",
      "运行命令：\u001b[96mrednoise  /home/pl/work/python-workspance/FAST_pulsar_search_pl/03_barydata/j1631_FAST_pulsar_search_pl_bary_DM33.98.fft\u001b[0m\n",
      "运行命令：\u001b[96mrednoise  /home/pl/work/python-workspance/FAST_pulsar_search_pl/03_barydata/j1631_FAST_pulsar_search_pl_bary_DM33.99.fft\u001b[0m\n",
      "\u001b[94m运行时间： 0.0秒\u001b[0m\n",
      "\u001b[94m运行时间： 0.0秒\u001b[0m\n"
     ]
    },
    {
     "name": "stderr",
     "output_type": "stream",
     "text": [
      "rednoise-8核:  64%|██████▍   | 193/300 [00:50<00:27,  3.95cmd/s]"
     ]
    },
    {
     "name": "stdout",
     "output_type": "stream",
     "text": [
      "程序运行路径为: /home/pl/work/python-workspance/FAST_pulsar_search_pl/03_barydata\n",
      "程序运行路径为: /home/pl/work/python-workspance/FAST_pulsar_search_pl/03_barydata\n",
      "程序运行路径为: /home/pl/work/python-workspance/FAST_pulsar_search_pl/03_barydata\n",
      "日志文件为：/home/pl/work/python-workspance/FAST_pulsar_search_pl/LOG/04_RED/LOG_04-RED-34.00.txt\n",
      "日志文件为：/home/pl/work/python-workspance/FAST_pulsar_search_pl/LOG/04_RED/LOG_04-RED-34.01.txt\n",
      "程序运行路径为: /home/pl/work/python-workspance/FAST_pulsar_search_pl/03_barydata\n",
      "日志文件为：/home/pl/work/python-workspance/FAST_pulsar_search_pl/LOG/04_RED/LOG_04-RED-34.02.txt\n",
      "程序运行路径为: /home/pl/work/python-workspance/FAST_pulsar_search_pl/03_barydata\n",
      "程序运行路径为: /home/pl/work/python-workspance/FAST_pulsar_search_pl/03_barydata\n",
      "日志文件为：/home/pl/work/python-workspance/FAST_pulsar_search_pl/LOG/04_RED/LOG_04-RED-34.03.txt\n",
      "日志文件为：/home/pl/work/python-workspance/FAST_pulsar_search_pl/LOG/04_RED/LOG_04-RED-34.04.txt\n",
      "日志文件为：/home/pl/work/python-workspance/FAST_pulsar_search_pl/LOG/04_RED/LOG_04-RED-34.05.txt\n",
      "程序运行路径为: /home/pl/work/python-workspance/FAST_pulsar_search_pl/03_barydata\n",
      "日志文件为：/home/pl/work/python-workspance/FAST_pulsar_search_pl/LOG/04_RED/LOG_04-RED-34.06.txt\n",
      "程序运行路径为: /home/pl/work/python-workspance/FAST_pulsar_search_pl/03_barydata\n",
      "日志文件为：/home/pl/work/python-workspance/FAST_pulsar_search_pl/LOG/04_RED/LOG_04-RED-34.07.txt\n",
      "运行命令：\u001b[96mrednoise  /home/pl/work/python-workspance/FAST_pulsar_search_pl/03_barydata/j1631_FAST_pulsar_search_pl_bary_DM34.05.fft\u001b[0m\n",
      "运行命令：\u001b[96mrednoise  /home/pl/work/python-workspance/FAST_pulsar_search_pl/03_barydata/j1631_FAST_pulsar_search_pl_bary_DM34.02.fft\u001b[0m\n",
      "运行命令：\u001b[96mrednoise  /home/pl/work/python-workspance/FAST_pulsar_search_pl/03_barydata/j1631_FAST_pulsar_search_pl_bary_DM34.01.fft\u001b[0m\n",
      "\u001b[94m运行时间： 0.0秒\u001b[0m\n",
      "运行命令：\u001b[96mrednoise  /home/pl/work/python-workspance/FAST_pulsar_search_pl/03_barydata/j1631_FAST_pulsar_search_pl_bary_DM34.00.fft\u001b[0m\n",
      "\u001b[94m运行时间： 0.0秒\u001b[0m\n",
      "\u001b[94m运行时间： 0.0秒\u001b[0m\n",
      "\u001b[94m运行时间： 0.0秒\u001b[0m\n",
      "运行命令：\u001b[96mrednoise  /home/pl/work/python-workspance/FAST_pulsar_search_pl/03_barydata/j1631_FAST_pulsar_search_pl_bary_DM34.04.fft\u001b[0m\n",
      "运行命令：\u001b[96mrednoise  /home/pl/work/python-workspance/FAST_pulsar_search_pl/03_barydata/j1631_FAST_pulsar_search_pl_bary_DM34.03.fft\u001b[0m\n",
      "\u001b[94m运行时间： 0.0秒\u001b[0m\n",
      "\u001b[94m运行时间： 0.0秒\u001b[0m\n",
      "运行命令：\u001b[96mrednoise  /home/pl/work/python-workspance/FAST_pulsar_search_pl/03_barydata/j1631_FAST_pulsar_search_pl_bary_DM34.07.fft\u001b[0m\n",
      "运行命令：\u001b[96mrednoise  /home/pl/work/python-workspance/FAST_pulsar_search_pl/03_barydata/j1631_FAST_pulsar_search_pl_bary_DM34.06.fft\u001b[0m\n",
      "\u001b[94m运行时间： 0.0秒\u001b[0m\n",
      "\u001b[94m运行时间： 0.0秒\u001b[0m\n"
     ]
    },
    {
     "name": "stderr",
     "output_type": "stream",
     "text": [
      "rednoise-8核:  67%|██████▋   | 201/300 [00:52<00:25,  3.95cmd/s]"
     ]
    },
    {
     "name": "stdout",
     "output_type": "stream",
     "text": [
      "程序运行路径为: /home/pl/work/python-workspance/FAST_pulsar_search_pl/03_barydata\n",
      "程序运行路径为: /home/pl/work/python-workspance/FAST_pulsar_search_pl/03_barydata\n",
      "程序运行路径为: /home/pl/work/python-workspance/FAST_pulsar_search_pl/03_barydata\n",
      "程序运行路径为: /home/pl/work/python-workspance/FAST_pulsar_search_pl/03_barydata\n",
      "日志文件为：/home/pl/work/python-workspance/FAST_pulsar_search_pl/LOG/04_RED/LOG_04-RED-34.09.txt\n",
      "日志文件为：/home/pl/work/python-workspance/FAST_pulsar_search_pl/LOG/04_RED/LOG_04-RED-34.08.txt\n",
      "日志文件为：/home/pl/work/python-workspance/FAST_pulsar_search_pl/LOG/04_RED/LOG_04-RED-34.10.txt\n",
      "日志文件为：/home/pl/work/python-workspance/FAST_pulsar_search_pl/LOG/04_RED/LOG_04-RED-34.11.txt\n",
      "程序运行路径为: /home/pl/work/python-workspance/FAST_pulsar_search_pl/03_barydata\n",
      "程序运行路径为: /home/pl/work/python-workspance/FAST_pulsar_search_pl/03_barydata\n",
      "日志文件为：/home/pl/work/python-workspance/FAST_pulsar_search_pl/LOG/04_RED/LOG_04-RED-34.13.txt\n",
      "日志文件为：/home/pl/work/python-workspance/FAST_pulsar_search_pl/LOG/04_RED/LOG_04-RED-34.12.txt\n",
      "程序运行路径为: /home/pl/work/python-workspance/FAST_pulsar_search_pl/03_barydata\n",
      "程序运行路径为: /home/pl/work/python-workspance/FAST_pulsar_search_pl/03_barydata\n",
      "日志文件为：/home/pl/work/python-workspance/FAST_pulsar_search_pl/LOG/04_RED/LOG_04-RED-34.15.txt\n",
      "日志文件为：/home/pl/work/python-workspance/FAST_pulsar_search_pl/LOG/04_RED/LOG_04-RED-34.14.txt\n",
      "运行命令：\u001b[96mrednoise  /home/pl/work/python-workspance/FAST_pulsar_search_pl/03_barydata/j1631_FAST_pulsar_search_pl_bary_DM34.11.fft\u001b[0m\n",
      "运行命令：\u001b[96mrednoise  /home/pl/work/python-workspance/FAST_pulsar_search_pl/03_barydata/j1631_FAST_pulsar_search_pl_bary_DM34.08.fft\u001b[0m\n",
      "\u001b[94m运行时间： 0.0秒\u001b[0m\n",
      "运行命令：\u001b[96mrednoise  /home/pl/work/python-workspance/FAST_pulsar_search_pl/03_barydata/j1631_FAST_pulsar_search_pl_bary_DM34.10.fft\u001b[0m\n",
      "\u001b[94m运行时间： 0.0秒\u001b[0m\n",
      "运行命令：\u001b[96mrednoise  /home/pl/work/python-workspance/FAST_pulsar_search_pl/03_barydata/j1631_FAST_pulsar_search_pl_bary_DM34.09.fft\u001b[0m\n",
      "\u001b[94m运行时间： 0.0秒\u001b[0m\n",
      "\u001b[94m运行时间： 0.0秒\u001b[0m\n",
      "运行命令：\u001b[96mrednoise  /home/pl/work/python-workspance/FAST_pulsar_search_pl/03_barydata/j1631_FAST_pulsar_search_pl_bary_DM34.13.fft\u001b[0m\n",
      "运行命令：\u001b[96mrednoise  /home/pl/work/python-workspance/FAST_pulsar_search_pl/03_barydata/j1631_FAST_pulsar_search_pl_bary_DM34.12.fft\u001b[0m\n",
      "\u001b[94m运行时间： 0.0秒\u001b[0m\n",
      "\u001b[94m运行时间： 0.0秒\u001b[0m\n",
      "运行命令：\u001b[96mrednoise  /home/pl/work/python-workspance/FAST_pulsar_search_pl/03_barydata/j1631_FAST_pulsar_search_pl_bary_DM34.14.fft\u001b[0m\n",
      "\u001b[94m运行时间： 0.0秒\u001b[0m\n",
      "运行命令：\u001b[96mrednoise  /home/pl/work/python-workspance/FAST_pulsar_search_pl/03_barydata/j1631_FAST_pulsar_search_pl_bary_DM34.15.fft\u001b[0m\n",
      "\u001b[94m运行时间： 0.0秒\u001b[0m\n"
     ]
    },
    {
     "name": "stderr",
     "output_type": "stream",
     "text": [
      "rednoise-8核:  70%|██████▉   | 209/300 [00:54<00:23,  3.95cmd/s]"
     ]
    },
    {
     "name": "stdout",
     "output_type": "stream",
     "text": [
      "程序运行路径为: /home/pl/work/python-workspance/FAST_pulsar_search_pl/03_barydata\n",
      "程序运行路径为: /home/pl/work/python-workspance/FAST_pulsar_search_pl/03_barydata\n",
      "程序运行路径为: /home/pl/work/python-workspance/FAST_pulsar_search_pl/03_barydata\n",
      "程序运行路径为: /home/pl/work/python-workspance/FAST_pulsar_search_pl/03_barydata\n",
      "日志文件为：/home/pl/work/python-workspance/FAST_pulsar_search_pl/LOG/04_RED/LOG_04-RED-34.16.txt\n",
      "程序运行路径为: /home/pl/work/python-workspance/FAST_pulsar_search_pl/03_barydata\n",
      "日志文件为：/home/pl/work/python-workspance/FAST_pulsar_search_pl/LOG/04_RED/LOG_04-RED-34.18.txt\n",
      "程序运行路径为: /home/pl/work/python-workspance/FAST_pulsar_search_pl/03_barydata\n",
      "日志文件为：/home/pl/work/python-workspance/FAST_pulsar_search_pl/LOG/04_RED/LOG_04-RED-34.17.txt\n",
      "日志文件为：/home/pl/work/python-workspance/FAST_pulsar_search_pl/LOG/04_RED/LOG_04-RED-34.19.txt\n",
      "日志文件为：/home/pl/work/python-workspance/FAST_pulsar_search_pl/LOG/04_RED/LOG_04-RED-34.20.txt\n",
      "程序运行路径为: /home/pl/work/python-workspance/FAST_pulsar_search_pl/03_barydata\n",
      "日志文件为：/home/pl/work/python-workspance/FAST_pulsar_search_pl/LOG/04_RED/LOG_04-RED-34.21.txt\n",
      "日志文件为：/home/pl/work/python-workspance/FAST_pulsar_search_pl/LOG/04_RED/LOG_04-RED-34.22.txt\n",
      "程序运行路径为: /home/pl/work/python-workspance/FAST_pulsar_search_pl/03_barydata\n",
      "日志文件为：/home/pl/work/python-workspance/FAST_pulsar_search_pl/LOG/04_RED/LOG_04-RED-34.23.txt\n",
      "运行命令：\u001b[96mrednoise  /home/pl/work/python-workspance/FAST_pulsar_search_pl/03_barydata/j1631_FAST_pulsar_search_pl_bary_DM34.19.fft\u001b[0m\n",
      "运行命令：\u001b[96mrednoise  /home/pl/work/python-workspance/FAST_pulsar_search_pl/03_barydata/j1631_FAST_pulsar_search_pl_bary_DM34.16.fft\u001b[0m\n",
      "运行命令：\u001b[96mrednoise  /home/pl/work/python-workspance/FAST_pulsar_search_pl/03_barydata/j1631_FAST_pulsar_search_pl_bary_DM34.21.fft\u001b[0m\n",
      "运行命令：\u001b[96mrednoise  /home/pl/work/python-workspance/FAST_pulsar_search_pl/03_barydata/j1631_FAST_pulsar_search_pl_bary_DM34.22.fft\u001b[0m\n",
      "\u001b[94m运行时间： 0.0秒\u001b[0m\n",
      "\u001b[94m运行时间： 0.0秒\u001b[0m\n",
      "运行命令：\u001b[96mrednoise  /home/pl/work/python-workspance/FAST_pulsar_search_pl/03_barydata/j1631_FAST_pulsar_search_pl_bary_DM34.18.fft\u001b[0m\n",
      "\u001b[94m运行时间： 0.0秒\u001b[0m\n",
      "\u001b[94m运行时间： 0.0秒\u001b[0m\n",
      "运行命令：\u001b[96mrednoise  /home/pl/work/python-workspance/FAST_pulsar_search_pl/03_barydata/j1631_FAST_pulsar_search_pl_bary_DM34.20.fft\u001b[0m\n",
      "\u001b[94m运行时间： 0.0秒\u001b[0m\n",
      "运行命令：\u001b[96mrednoise  /home/pl/work/python-workspance/FAST_pulsar_search_pl/03_barydata/j1631_FAST_pulsar_search_pl_bary_DM34.17.fft\u001b[0m\n",
      "\u001b[94m运行时间： 0.0秒\u001b[0m\n",
      "\u001b[94m运行时间： 0.0秒\u001b[0m\n",
      "运行命令：\u001b[96mrednoise  /home/pl/work/python-workspance/FAST_pulsar_search_pl/03_barydata/j1631_FAST_pulsar_search_pl_bary_DM34.23.fft\u001b[0m\n",
      "\u001b[94m运行时间： 0.0秒\u001b[0m\n",
      "程序运行路径为: /home/pl/work/python-workspance/FAST_pulsar_search_pl/03_barydata\n",
      "程序运行路径为: /home/pl/work/python-workspance/FAST_pulsar_search_pl/03_barydata\n"
     ]
    },
    {
     "name": "stderr",
     "output_type": "stream",
     "text": [
      "rednoise-8核:  72%|███████▏  | 217/300 [00:56<00:21,  3.95cmd/s]"
     ]
    },
    {
     "name": "stdout",
     "output_type": "stream",
     "text": [
      "程序运行路径为: /home/pl/work/python-workspance/FAST_pulsar_search_pl/03_barydata\n",
      "程序运行路径为: /home/pl/work/python-workspance/FAST_pulsar_search_pl/03_barydata\n",
      "程序运行路径为: /home/pl/work/python-workspance/FAST_pulsar_search_pl/03_barydata\n",
      "日志文件为：/home/pl/work/python-workspance/FAST_pulsar_search_pl/LOG/04_RED/LOG_04-RED-34.25.txt\n",
      "日志文件为：/home/pl/work/python-workspance/FAST_pulsar_search_pl/LOG/04_RED/LOG_04-RED-34.24.txt\n",
      "日志文件为：/home/pl/work/python-workspance/FAST_pulsar_search_pl/LOG/04_RED/LOG_04-RED-34.26.txt\n",
      "日志文件为：/home/pl/work/python-workspance/FAST_pulsar_search_pl/LOG/04_RED/LOG_04-RED-34.27.txt\n",
      "日志文件为：/home/pl/work/python-workspance/FAST_pulsar_search_pl/LOG/04_RED/LOG_04-RED-34.28.txt\n",
      "程序运行路径为: /home/pl/work/python-workspance/FAST_pulsar_search_pl/03_barydata\n",
      "程序运行路径为: /home/pl/work/python-workspance/FAST_pulsar_search_pl/03_barydata\n",
      "程序运行路径为: /home/pl/work/python-workspance/FAST_pulsar_search_pl/03_barydata\n",
      "日志文件为：/home/pl/work/python-workspance/FAST_pulsar_search_pl/LOG/04_RED/LOG_04-RED-34.29.txt\n",
      "日志文件为：/home/pl/work/python-workspance/FAST_pulsar_search_pl/LOG/04_RED/LOG_04-RED-34.30.txt\n",
      "日志文件为：/home/pl/work/python-workspance/FAST_pulsar_search_pl/LOG/04_RED/LOG_04-RED-34.31.txt\n",
      "运行命令：\u001b[96mrednoise  /home/pl/work/python-workspance/FAST_pulsar_search_pl/03_barydata/j1631_FAST_pulsar_search_pl_bary_DM34.24.fft\u001b[0m\n",
      "\u001b[94m运行时间： 0.0秒\u001b[0m\n",
      "运行命令：\u001b[96mrednoise  /home/pl/work/python-workspance/FAST_pulsar_search_pl/03_barydata/j1631_FAST_pulsar_search_pl_bary_DM34.28.fft\u001b[0m\n",
      "运行命令：\u001b[96mrednoise  /home/pl/work/python-workspance/FAST_pulsar_search_pl/03_barydata/j1631_FAST_pulsar_search_pl_bary_DM34.26.fft\u001b[0m\n",
      "运行命令：\u001b[96mrednoise  /home/pl/work/python-workspance/FAST_pulsar_search_pl/03_barydata/j1631_FAST_pulsar_search_pl_bary_DM34.25.fft\u001b[0m\n",
      "\u001b[94m运行时间： 0.0秒\u001b[0m\n",
      "\u001b[94m运行时间： 0.0秒\u001b[0m\n",
      "\u001b[94m运行时间： 0.0秒\u001b[0m\n",
      "运行命令：\u001b[96mrednoise  /home/pl/work/python-workspance/FAST_pulsar_search_pl/03_barydata/j1631_FAST_pulsar_search_pl_bary_DM34.29.fft\u001b[0m\n",
      "运行命令：\u001b[96mrednoise  /home/pl/work/python-workspance/FAST_pulsar_search_pl/03_barydata/j1631_FAST_pulsar_search_pl_bary_DM34.30.fft\u001b[0m\n",
      "运行命令：\u001b[96mrednoise  /home/pl/work/python-workspance/FAST_pulsar_search_pl/03_barydata/j1631_FAST_pulsar_search_pl_bary_DM34.27.fft\u001b[0m\n",
      "运行命令：\u001b[96mrednoise  /home/pl/work/python-workspance/FAST_pulsar_search_pl/03_barydata/j1631_FAST_pulsar_search_pl_bary_DM34.31.fft\u001b[0m\n",
      "\u001b[94m运行时间： 0.0秒\u001b[0m\n",
      "\u001b[94m运行时间： 0.0秒\u001b[0m\n",
      "\u001b[94m运行时间： 0.0秒\u001b[0m\n",
      "\u001b[94m运行时间： 0.0秒\u001b[0m\n"
     ]
    },
    {
     "name": "stderr",
     "output_type": "stream",
     "text": [
      "rednoise-8核:  75%|███████▌  | 225/300 [00:58<00:18,  3.95cmd/s]"
     ]
    },
    {
     "name": "stdout",
     "output_type": "stream",
     "text": [
      "程序运行路径为: /home/pl/work/python-workspance/FAST_pulsar_search_pl/03_barydata\n",
      "程序运行路径为: /home/pl/work/python-workspance/FAST_pulsar_search_pl/03_barydata\n",
      "日志文件为：/home/pl/work/python-workspance/FAST_pulsar_search_pl/LOG/04_RED/LOG_04-RED-34.32.txt\n",
      "日志文件为：/home/pl/work/python-workspance/FAST_pulsar_search_pl/LOG/04_RED/LOG_04-RED-34.33.txt\n",
      "程序运行路径为: /home/pl/work/python-workspance/FAST_pulsar_search_pl/03_barydata\n",
      "程序运行路径为: /home/pl/work/python-workspance/FAST_pulsar_search_pl/03_barydata\n",
      "日志文件为：/home/pl/work/python-workspance/FAST_pulsar_search_pl/LOG/04_RED/LOG_04-RED-34.35.txt\n",
      "日志文件为：/home/pl/work/python-workspance/FAST_pulsar_search_pl/LOG/04_RED/LOG_04-RED-34.34.txt\n",
      "程序运行路径为: /home/pl/work/python-workspance/FAST_pulsar_search_pl/03_barydata\n",
      "程序运行路径为: /home/pl/work/python-workspance/FAST_pulsar_search_pl/03_barydata\n",
      "日志文件为：/home/pl/work/python-workspance/FAST_pulsar_search_pl/LOG/04_RED/LOG_04-RED-34.36.txt\n",
      "程序运行路径为: /home/pl/work/python-workspance/FAST_pulsar_search_pl/03_barydata\n",
      "程序运行路径为: /home/pl/work/python-workspance/FAST_pulsar_search_pl/03_barydata\n",
      "日志文件为：/home/pl/work/python-workspance/FAST_pulsar_search_pl/LOG/04_RED/LOG_04-RED-34.37.txt\n",
      "日志文件为：/home/pl/work/python-workspance/FAST_pulsar_search_pl/LOG/04_RED/LOG_04-RED-34.39.txt\n",
      "运行命令：\u001b[96mrednoise  /home/pl/work/python-workspance/FAST_pulsar_search_pl/03_barydata/j1631_FAST_pulsar_search_pl_bary_DM34.33.fft\u001b[0m\n",
      "日志文件为：/home/pl/work/python-workspance/FAST_pulsar_search_pl/LOG/04_RED/LOG_04-RED-34.38.txt\n",
      "\u001b[94m运行时间： 0.0秒\u001b[0m\n",
      "运行命令：\u001b[96mrednoise  /home/pl/work/python-workspance/FAST_pulsar_search_pl/03_barydata/j1631_FAST_pulsar_search_pl_bary_DM34.32.fft\u001b[0m\n",
      "\u001b[94m运行时间： 0.0秒\u001b[0m\n",
      "运行命令：\u001b[96mrednoise  /home/pl/work/python-workspance/FAST_pulsar_search_pl/03_barydata/j1631_FAST_pulsar_search_pl_bary_DM34.35.fft\u001b[0m\n",
      "运行命令：\u001b[96mrednoise  /home/pl/work/python-workspance/FAST_pulsar_search_pl/03_barydata/j1631_FAST_pulsar_search_pl_bary_DM34.34.fft\u001b[0m\n",
      "\u001b[94m运行时间： 0.0秒\u001b[0m\n",
      "\u001b[94m运行时间： 0.0秒\u001b[0m\n",
      "运行命令：\u001b[96mrednoise  /home/pl/work/python-workspance/FAST_pulsar_search_pl/03_barydata/j1631_FAST_pulsar_search_pl_bary_DM34.36.fft\u001b[0m\n",
      "\u001b[94m运行时间： 0.0秒\u001b[0m\n",
      "运行命令：\u001b[96mrednoise  /home/pl/work/python-workspance/FAST_pulsar_search_pl/03_barydata/j1631_FAST_pulsar_search_pl_bary_DM34.37.fft\u001b[0m\n",
      "\u001b[94m运行时间： 0.0秒\u001b[0m\n",
      "运行命令：\u001b[96mrednoise  /home/pl/work/python-workspance/FAST_pulsar_search_pl/03_barydata/j1631_FAST_pulsar_search_pl_bary_DM34.39.fft\u001b[0m\n",
      "\u001b[94m运行时间： 0.0秒\u001b[0m\n",
      "运行命令：\u001b[96mrednoise  /home/pl/work/python-workspance/FAST_pulsar_search_pl/03_barydata/j1631_FAST_pulsar_search_pl_bary_DM34.38.fft\u001b[0m\n",
      "\u001b[94m运行时间： 0.0秒\u001b[0m\n"
     ]
    },
    {
     "name": "stderr",
     "output_type": "stream",
     "text": [
      "rednoise-8核:  78%|███████▊  | 233/300 [01:00<00:16,  3.95cmd/s]"
     ]
    },
    {
     "name": "stdout",
     "output_type": "stream",
     "text": [
      "程序运行路径为: /home/pl/work/python-workspance/FAST_pulsar_search_pl/03_barydata\n",
      "日志文件为：/home/pl/work/python-workspance/FAST_pulsar_search_pl/LOG/04_RED/LOG_04-RED-34.40.txt\n",
      "程序运行路径为: /home/pl/work/python-workspance/FAST_pulsar_search_pl/03_barydata\n",
      "日志文件为：/home/pl/work/python-workspance/FAST_pulsar_search_pl/LOG/04_RED/LOG_04-RED-34.41.txt\n",
      "程序运行路径为: /home/pl/work/python-workspance/FAST_pulsar_search_pl/03_barydata\n",
      "程序运行路径为: /home/pl/work/python-workspance/FAST_pulsar_search_pl/03_barydata\n",
      "日志文件为：/home/pl/work/python-workspance/FAST_pulsar_search_pl/LOG/04_RED/LOG_04-RED-34.42.txt\n",
      "日志文件为：/home/pl/work/python-workspance/FAST_pulsar_search_pl/LOG/04_RED/LOG_04-RED-34.43.txt\n",
      "程序运行路径为: /home/pl/work/python-workspance/FAST_pulsar_search_pl/03_barydata\n",
      "运行命令：\u001b[96mrednoise  /home/pl/work/python-workspance/FAST_pulsar_search_pl/03_barydata/j1631_FAST_pulsar_search_pl_bary_DM34.40.fft\u001b[0m\n",
      "日志文件为：/home/pl/work/python-workspance/FAST_pulsar_search_pl/LOG/04_RED/LOG_04-RED-34.44.txt\n",
      "程序运行路径为: /home/pl/work/python-workspance/FAST_pulsar_search_pl/03_barydata\n",
      "\u001b[94m运行时间： 0.0秒\u001b[0m\n",
      "日志文件为：/home/pl/work/python-workspance/FAST_pulsar_search_pl/LOG/04_RED/LOG_04-RED-34.45.txt\n",
      "程序运行路径为: /home/pl/work/python-workspance/FAST_pulsar_search_pl/03_barydata\n",
      "日志文件为：/home/pl/work/python-workspance/FAST_pulsar_search_pl/LOG/04_RED/LOG_04-RED-34.46.txt\n",
      "运行命令：\u001b[96mrednoise  /home/pl/work/python-workspance/FAST_pulsar_search_pl/03_barydata/j1631_FAST_pulsar_search_pl_bary_DM34.42.fft\u001b[0m\n",
      "程序运行路径为: /home/pl/work/python-workspance/FAST_pulsar_search_pl/03_barydata\n",
      "\u001b[94m运行时间： 0.0秒\u001b[0m\n",
      "日志文件为：/home/pl/work/python-workspance/FAST_pulsar_search_pl/LOG/04_RED/LOG_04-RED-34.47.txt\n",
      "运行命令：\u001b[96mrednoise  /home/pl/work/python-workspance/FAST_pulsar_search_pl/03_barydata/j1631_FAST_pulsar_search_pl_bary_DM34.43.fft\u001b[0m\n",
      "\u001b[94m运行时间： 0.0秒\u001b[0m\n",
      "运行命令：\u001b[96mrednoise  /home/pl/work/python-workspance/FAST_pulsar_search_pl/03_barydata/j1631_FAST_pulsar_search_pl_bary_DM34.41.fft\u001b[0m\n",
      "\u001b[94m运行时间： 0.0秒\u001b[0m\n",
      "运行命令：\u001b[96mrednoise  /home/pl/work/python-workspance/FAST_pulsar_search_pl/03_barydata/j1631_FAST_pulsar_search_pl_bary_DM34.44.fft\u001b[0m\n",
      "\u001b[94m运行时间： 0.0秒\u001b[0m\n",
      "运行命令：\u001b[96mrednoise  /home/pl/work/python-workspance/FAST_pulsar_search_pl/03_barydata/j1631_FAST_pulsar_search_pl_bary_DM34.46.fft\u001b[0m\n",
      "\u001b[94m运行时间： 0.0秒\u001b[0m\n",
      "运行命令：\u001b[96mrednoise  /home/pl/work/python-workspance/FAST_pulsar_search_pl/03_barydata/j1631_FAST_pulsar_search_pl_bary_DM34.47.fft\u001b[0m\n",
      "运行命令：\u001b[96mrednoise  /home/pl/work/python-workspance/FAST_pulsar_search_pl/03_barydata/j1631_FAST_pulsar_search_pl_bary_DM34.45.fft\u001b[0m\n",
      "\u001b[94m运行时间： 0.0秒\u001b[0m\n",
      "\u001b[94m运行时间： 0.0秒\u001b[0m\n"
     ]
    },
    {
     "name": "stderr",
     "output_type": "stream",
     "text": [
      "rednoise-8核:  80%|████████  | 241/300 [01:02<00:14,  3.95cmd/s]"
     ]
    },
    {
     "name": "stdout",
     "output_type": "stream",
     "text": [
      "程序运行路径为: /home/pl/work/python-workspance/FAST_pulsar_search_pl/03_barydata\n",
      "日志文件为：/home/pl/work/python-workspance/FAST_pulsar_search_pl/LOG/04_RED/LOG_04-RED-34.48.txt\n",
      "程序运行路径为: /home/pl/work/python-workspance/FAST_pulsar_search_pl/03_barydata\n",
      "日志文件为：/home/pl/work/python-workspance/FAST_pulsar_search_pl/LOG/04_RED/LOG_04-RED-34.49.txt\n",
      "程序运行路径为: /home/pl/work/python-workspance/FAST_pulsar_search_pl/03_barydata\n",
      "日志文件为：/home/pl/work/python-workspance/FAST_pulsar_search_pl/LOG/04_RED/LOG_04-RED-34.50.txt\n",
      "程序运行路径为: /home/pl/work/python-workspance/FAST_pulsar_search_pl/03_barydata\n",
      "日志文件为：/home/pl/work/python-workspance/FAST_pulsar_search_pl/LOG/04_RED/LOG_04-RED-34.51.txt\n",
      "运行命令：\u001b[96mrednoise  /home/pl/work/python-workspance/FAST_pulsar_search_pl/03_barydata/j1631_FAST_pulsar_search_pl_bary_DM34.48.fft\u001b[0m\n",
      "程序运行路径为: /home/pl/work/python-workspance/FAST_pulsar_search_pl/03_barydata\n",
      "\u001b[94m运行时间： 0.0秒\u001b[0m\n",
      "日志文件为：/home/pl/work/python-workspance/FAST_pulsar_search_pl/LOG/04_RED/LOG_04-RED-34.52.txt\n",
      "程序运行路径为: /home/pl/work/python-workspance/FAST_pulsar_search_pl/03_barydata\n",
      "日志文件为：/home/pl/work/python-workspance/FAST_pulsar_search_pl/LOG/04_RED/LOG_04-RED-34.53.txt\n",
      "程序运行路径为: /home/pl/work/python-workspance/FAST_pulsar_search_pl/03_barydata\n",
      "运行命令：\u001b[96mrednoise  /home/pl/work/python-workspance/FAST_pulsar_search_pl/03_barydata/j1631_FAST_pulsar_search_pl_bary_DM34.49.fft\u001b[0m\n",
      "日志文件为：/home/pl/work/python-workspance/FAST_pulsar_search_pl/LOG/04_RED/LOG_04-RED-34.54.txt\n",
      "程序运行路径为: /home/pl/work/python-workspance/FAST_pulsar_search_pl/03_barydata\n",
      "\u001b[94m运行时间： 0.0秒\u001b[0m\n",
      "日志文件为：/home/pl/work/python-workspance/FAST_pulsar_search_pl/LOG/04_RED/LOG_04-RED-34.55.txt\n",
      "运行命令：\u001b[96mrednoise  /home/pl/work/python-workspance/FAST_pulsar_search_pl/03_barydata/j1631_FAST_pulsar_search_pl_bary_DM34.50.fft\u001b[0m\n",
      "\u001b[94m运行时间： 0.0秒\u001b[0m\n",
      "运行命令：\u001b[96mrednoise  /home/pl/work/python-workspance/FAST_pulsar_search_pl/03_barydata/j1631_FAST_pulsar_search_pl_bary_DM34.51.fft\u001b[0m\n",
      "\u001b[94m运行时间： 0.0秒\u001b[0m\n",
      "运行命令：\u001b[96mrednoise  /home/pl/work/python-workspance/FAST_pulsar_search_pl/03_barydata/j1631_FAST_pulsar_search_pl_bary_DM34.52.fft\u001b[0m\n",
      "运行命令：\u001b[96mrednoise  /home/pl/work/python-workspance/FAST_pulsar_search_pl/03_barydata/j1631_FAST_pulsar_search_pl_bary_DM34.54.fft\u001b[0m\n",
      "\u001b[94m运行时间： 0.0秒\u001b[0m\n",
      "运行命令：\u001b[96mrednoise  /home/pl/work/python-workspance/FAST_pulsar_search_pl/03_barydata/j1631_FAST_pulsar_search_pl_bary_DM34.55.fft\u001b[0m\n",
      "\u001b[94m运行时间： 0.0秒\u001b[0m\n",
      "\u001b[94m运行时间： 0.0秒\u001b[0m\n",
      "运行命令：\u001b[96mrednoise  /home/pl/work/python-workspance/FAST_pulsar_search_pl/03_barydata/j1631_FAST_pulsar_search_pl_bary_DM34.53.fft\u001b[0m\n",
      "\u001b[94m运行时间： 0.0秒\u001b[0m\n"
     ]
    },
    {
     "name": "stderr",
     "output_type": "stream",
     "text": [
      "rednoise-8核:  83%|████████▎ | 249/300 [01:04<00:12,  3.96cmd/s]"
     ]
    },
    {
     "name": "stdout",
     "output_type": "stream",
     "text": [
      "程序运行路径为: /home/pl/work/python-workspance/FAST_pulsar_search_pl/03_barydata\n",
      "日志文件为：/home/pl/work/python-workspance/FAST_pulsar_search_pl/LOG/04_RED/LOG_04-RED-34.56.txt\n",
      "程序运行路径为: /home/pl/work/python-workspance/FAST_pulsar_search_pl/03_barydata\n",
      "日志文件为：/home/pl/work/python-workspance/FAST_pulsar_search_pl/LOG/04_RED/LOG_04-RED-34.57.txt\n",
      "程序运行路径为: /home/pl/work/python-workspance/FAST_pulsar_search_pl/03_barydata\n",
      "程序运行路径为: /home/pl/work/python-workspance/FAST_pulsar_search_pl/03_barydata\n",
      "日志文件为：/home/pl/work/python-workspance/FAST_pulsar_search_pl/LOG/04_RED/LOG_04-RED-34.58.txt\n",
      "日志文件为：/home/pl/work/python-workspance/FAST_pulsar_search_pl/LOG/04_RED/LOG_04-RED-34.59.txt\n",
      "运行命令：\u001b[96mrednoise  /home/pl/work/python-workspance/FAST_pulsar_search_pl/03_barydata/j1631_FAST_pulsar_search_pl_bary_DM34.56.fft\u001b[0m\n",
      "\u001b[94m运行时间： 0.0秒\u001b[0m\n",
      "程序运行路径为: /home/pl/work/python-workspance/FAST_pulsar_search_pl/03_barydata\n",
      "程序运行路径为: /home/pl/work/python-workspance/FAST_pulsar_search_pl/03_barydata\n",
      "程序运行路径为: /home/pl/work/python-workspance/FAST_pulsar_search_pl/03_barydata\n",
      "日志文件为：/home/pl/work/python-workspance/FAST_pulsar_search_pl/LOG/04_RED/LOG_04-RED-34.60.txt\n",
      "日志文件为：/home/pl/work/python-workspance/FAST_pulsar_search_pl/LOG/04_RED/LOG_04-RED-34.61.txt\n",
      "日志文件为：/home/pl/work/python-workspance/FAST_pulsar_search_pl/LOG/04_RED/LOG_04-RED-34.62.txt\n",
      "运行命令：\u001b[96mrednoise  /home/pl/work/python-workspance/FAST_pulsar_search_pl/03_barydata/j1631_FAST_pulsar_search_pl_bary_DM34.57.fft\u001b[0m\n",
      "程序运行路径为: /home/pl/work/python-workspance/FAST_pulsar_search_pl/03_barydata\n",
      "\u001b[94m运行时间： 0.0秒\u001b[0m\n",
      "运行命令：\u001b[96mrednoise  /home/pl/work/python-workspance/FAST_pulsar_search_pl/03_barydata/j1631_FAST_pulsar_search_pl_bary_DM34.59.fft\u001b[0m\n",
      "日志文件为：/home/pl/work/python-workspance/FAST_pulsar_search_pl/LOG/04_RED/LOG_04-RED-34.63.txt\n",
      "\u001b[94m运行时间： 0.0秒\u001b[0m\n",
      "运行命令：\u001b[96mrednoise  /home/pl/work/python-workspance/FAST_pulsar_search_pl/03_barydata/j1631_FAST_pulsar_search_pl_bary_DM34.58.fft\u001b[0m\n",
      "\u001b[94m运行时间： 0.0秒\u001b[0m\n",
      "运行命令：\u001b[96mrednoise  /home/pl/work/python-workspance/FAST_pulsar_search_pl/03_barydata/j1631_FAST_pulsar_search_pl_bary_DM34.60.fft\u001b[0m\n",
      "\u001b[94m运行时间： 0.0秒\u001b[0m\n",
      "运行命令：\u001b[96mrednoise  /home/pl/work/python-workspance/FAST_pulsar_search_pl/03_barydata/j1631_FAST_pulsar_search_pl_bary_DM34.62.fft\u001b[0m\n",
      "运行命令：\u001b[96mrednoise  /home/pl/work/python-workspance/FAST_pulsar_search_pl/03_barydata/j1631_FAST_pulsar_search_pl_bary_DM34.63.fft\u001b[0m\n",
      "\u001b[94m运行时间： 0.0秒\u001b[0m\n",
      "\u001b[94m运行时间： 0.0秒\u001b[0m\n",
      "运行命令：\u001b[96mrednoise  /home/pl/work/python-workspance/FAST_pulsar_search_pl/03_barydata/j1631_FAST_pulsar_search_pl_bary_DM34.61.fft\u001b[0m\n",
      "\u001b[94m运行时间： 0.0秒\u001b[0m\n"
     ]
    },
    {
     "name": "stderr",
     "output_type": "stream",
     "text": [
      "rednoise-8核:  86%|████████▌ | 257/300 [01:06<00:10,  3.96cmd/s]"
     ]
    },
    {
     "name": "stdout",
     "output_type": "stream",
     "text": [
      "程序运行路径为: /home/pl/work/python-workspance/FAST_pulsar_search_pl/03_barydata\n",
      "日志文件为：/home/pl/work/python-workspance/FAST_pulsar_search_pl/LOG/04_RED/LOG_04-RED-34.64.txt\n",
      "运行命令：\u001b[96mrednoise  /home/pl/work/python-workspance/FAST_pulsar_search_pl/03_barydata/j1631_FAST_pulsar_search_pl_bary_DM34.64.fft\u001b[0m\n",
      "\u001b[94m运行时间： 0.0秒\u001b[0m\n",
      "程序运行路径为: /home/pl/work/python-workspance/FAST_pulsar_search_pl/03_barydata\n",
      "程序运行路径为: /home/pl/work/python-workspance/FAST_pulsar_search_pl/03_barydata\n",
      "日志文件为：/home/pl/work/python-workspance/FAST_pulsar_search_pl/LOG/04_RED/LOG_04-RED-34.65.txt\n",
      "日志文件为：/home/pl/work/python-workspance/FAST_pulsar_search_pl/LOG/04_RED/LOG_04-RED-34.66.txt\n",
      "程序运行路径为: /home/pl/work/python-workspance/FAST_pulsar_search_pl/03_barydata\n",
      "日志文件为：/home/pl/work/python-workspance/FAST_pulsar_search_pl/LOG/04_RED/LOG_04-RED-34.67.txt\n",
      "程序运行路径为: /home/pl/work/python-workspance/FAST_pulsar_search_pl/03_barydata\n",
      "运行命令：\u001b[96mrednoise  /home/pl/work/python-workspance/FAST_pulsar_search_pl/03_barydata/j1631_FAST_pulsar_search_pl_bary_DM34.65.fft\u001b[0m\n",
      "程序运行路径为: /home/pl/work/python-workspance/FAST_pulsar_search_pl/03_barydata\n",
      "\u001b[94m运行时间： 0.0秒\u001b[0m\n",
      "日志文件为：/home/pl/work/python-workspance/FAST_pulsar_search_pl/LOG/04_RED/LOG_04-RED-34.68.txt\n",
      "程序运行路径为: /home/pl/work/python-workspance/FAST_pulsar_search_pl/03_barydata\n",
      "日志文件为：/home/pl/work/python-workspance/FAST_pulsar_search_pl/LOG/04_RED/LOG_04-RED-34.69.txt\n",
      "日志文件为：/home/pl/work/python-workspance/FAST_pulsar_search_pl/LOG/04_RED/LOG_04-RED-34.70.txt\n",
      "运行命令：\u001b[96mrednoise  /home/pl/work/python-workspance/FAST_pulsar_search_pl/03_barydata/j1631_FAST_pulsar_search_pl_bary_DM34.66.fft\u001b[0m\n",
      "\u001b[94m运行时间： 0.0秒\u001b[0m\n",
      "程序运行路径为: /home/pl/work/python-workspance/FAST_pulsar_search_pl/03_barydata\n",
      "日志文件为：/home/pl/work/python-workspance/FAST_pulsar_search_pl/LOG/04_RED/LOG_04-RED-34.71.txt\n",
      "运行命令：\u001b[96mrednoise  /home/pl/work/python-workspance/FAST_pulsar_search_pl/03_barydata/j1631_FAST_pulsar_search_pl_bary_DM34.67.fft\u001b[0m\n",
      "\u001b[94m运行时间： 0.0秒\u001b[0m\n",
      "运行命令：\u001b[96mrednoise  /home/pl/work/python-workspance/FAST_pulsar_search_pl/03_barydata/j1631_FAST_pulsar_search_pl_bary_DM34.70.fft\u001b[0m\n",
      "运行命令：\u001b[96mrednoise  /home/pl/work/python-workspance/FAST_pulsar_search_pl/03_barydata/j1631_FAST_pulsar_search_pl_bary_DM34.69.fft\u001b[0m\n",
      "\u001b[94m运行时间： 0.0秒\u001b[0m\n",
      "\u001b[94m运行时间： 0.0秒\u001b[0m\n",
      "运行命令：\u001b[96mrednoise  /home/pl/work/python-workspance/FAST_pulsar_search_pl/03_barydata/j1631_FAST_pulsar_search_pl_bary_DM34.68.fft\u001b[0m\n",
      "\u001b[94m运行时间： 0.0秒\u001b[0m\n",
      "运行命令：\u001b[96mrednoise  /home/pl/work/python-workspance/FAST_pulsar_search_pl/03_barydata/j1631_FAST_pulsar_search_pl_bary_DM34.71.fft\u001b[0m\n",
      "\u001b[94m运行时间： 0.0秒\u001b[0m\n"
     ]
    },
    {
     "name": "stderr",
     "output_type": "stream",
     "text": [
      "rednoise-8核:  88%|████████▊ | 265/300 [01:08<00:08,  3.96cmd/s]"
     ]
    },
    {
     "name": "stdout",
     "output_type": "stream",
     "text": [
      "程序运行路径为: /home/pl/work/python-workspance/FAST_pulsar_search_pl/03_barydata\n",
      "日志文件为：/home/pl/work/python-workspance/FAST_pulsar_search_pl/LOG/04_RED/LOG_04-RED-34.72.txt\n",
      "程序运行路径为: /home/pl/work/python-workspance/FAST_pulsar_search_pl/03_barydata\n",
      "运行命令：\u001b[96mrednoise  /home/pl/work/python-workspance/FAST_pulsar_search_pl/03_barydata/j1631_FAST_pulsar_search_pl_bary_DM34.72.fft\u001b[0m\n",
      "日志文件为：/home/pl/work/python-workspance/FAST_pulsar_search_pl/LOG/04_RED/LOG_04-RED-34.73.txt\n",
      "\u001b[94m运行时间： 0.0秒\u001b[0m\n",
      "程序运行路径为: /home/pl/work/python-workspance/FAST_pulsar_search_pl/03_barydata\n",
      "日志文件为：/home/pl/work/python-workspance/FAST_pulsar_search_pl/LOG/04_RED/LOG_04-RED-34.74.txt\n",
      "程序运行路径为: /home/pl/work/python-workspance/FAST_pulsar_search_pl/03_barydata\n",
      "日志文件为：/home/pl/work/python-workspance/FAST_pulsar_search_pl/LOG/04_RED/LOG_04-RED-34.75.txt\n",
      "运行命令：\u001b[96mrednoise  /home/pl/work/python-workspance/FAST_pulsar_search_pl/03_barydata/j1631_FAST_pulsar_search_pl_bary_DM34.73.fft\u001b[0m\n",
      "程序运行路径为: /home/pl/work/python-workspance/FAST_pulsar_search_pl/03_barydata\n",
      "程序运行路径为: /home/pl/work/python-workspance/FAST_pulsar_search_pl/03_barydata\n",
      "\u001b[94m运行时间： 0.0秒\u001b[0m\n",
      "程序运行路径为: /home/pl/work/python-workspance/FAST_pulsar_search_pl/03_barydata\n",
      "日志文件为：/home/pl/work/python-workspance/FAST_pulsar_search_pl/LOG/04_RED/LOG_04-RED-34.76.txt\n",
      "日志文件为：/home/pl/work/python-workspance/FAST_pulsar_search_pl/LOG/04_RED/LOG_04-RED-34.77.txt\n",
      "日志文件为：/home/pl/work/python-workspance/FAST_pulsar_search_pl/LOG/04_RED/LOG_04-RED-34.78.txt\n",
      "运行命令：\u001b[96mrednoise  /home/pl/work/python-workspance/FAST_pulsar_search_pl/03_barydata/j1631_FAST_pulsar_search_pl_bary_DM34.74.fft\u001b[0m\n",
      "\u001b[94m运行时间： 0.0秒\u001b[0m\n",
      "程序运行路径为: /home/pl/work/python-workspance/FAST_pulsar_search_pl/03_barydata\n",
      "日志文件为：/home/pl/work/python-workspance/FAST_pulsar_search_pl/LOG/04_RED/LOG_04-RED-34.79.txt\n",
      "运行命令：\u001b[96mrednoise  /home/pl/work/python-workspance/FAST_pulsar_search_pl/03_barydata/j1631_FAST_pulsar_search_pl_bary_DM34.75.fft\u001b[0m\n",
      "\u001b[94m运行时间： 0.0秒\u001b[0m\n",
      "运行命令：\u001b[96mrednoise  /home/pl/work/python-workspance/FAST_pulsar_search_pl/03_barydata/j1631_FAST_pulsar_search_pl_bary_DM34.77.fft\u001b[0m\n",
      "运行命令：\u001b[96mrednoise  /home/pl/work/python-workspance/FAST_pulsar_search_pl/03_barydata/j1631_FAST_pulsar_search_pl_bary_DM34.76.fft\u001b[0m\n",
      "\u001b[94m运行时间： 0.0秒\u001b[0m\n",
      "\u001b[94m运行时间： 0.0秒\u001b[0m\n",
      "运行命令：\u001b[96mrednoise  /home/pl/work/python-workspance/FAST_pulsar_search_pl/03_barydata/j1631_FAST_pulsar_search_pl_bary_DM34.78.fft\u001b[0m\n",
      "\u001b[94m运行时间： 0.0秒\u001b[0m\n",
      "运行命令：\u001b[96mrednoise  /home/pl/work/python-workspance/FAST_pulsar_search_pl/03_barydata/j1631_FAST_pulsar_search_pl_bary_DM34.79.fft\u001b[0m\n",
      "\u001b[94m运行时间： 0.0秒\u001b[0m\n"
     ]
    },
    {
     "name": "stderr",
     "output_type": "stream",
     "text": [
      "rednoise-8核:  91%|█████████ | 273/300 [01:10<00:06,  3.96cmd/s]"
     ]
    },
    {
     "name": "stdout",
     "output_type": "stream",
     "text": [
      "程序运行路径为: /home/pl/work/python-workspance/FAST_pulsar_search_pl/03_barydata\n",
      "日志文件为：/home/pl/work/python-workspance/FAST_pulsar_search_pl/LOG/04_RED/LOG_04-RED-34.80.txt\n",
      "程序运行路径为: /home/pl/work/python-workspance/FAST_pulsar_search_pl/03_barydata\n",
      "日志文件为：/home/pl/work/python-workspance/FAST_pulsar_search_pl/LOG/04_RED/LOG_04-RED-34.81.txt\n",
      "程序运行路径为: /home/pl/work/python-workspance/FAST_pulsar_search_pl/03_barydata\n",
      "日志文件为：/home/pl/work/python-workspance/FAST_pulsar_search_pl/LOG/04_RED/LOG_04-RED-34.82.txt\n",
      "运行命令：\u001b[96mrednoise  /home/pl/work/python-workspance/FAST_pulsar_search_pl/03_barydata/j1631_FAST_pulsar_search_pl_bary_DM34.80.fft\u001b[0m\n",
      "\u001b[94m运行时间： 0.0秒\u001b[0m\n",
      "程序运行路径为: /home/pl/work/python-workspance/FAST_pulsar_search_pl/03_barydata\n",
      "程序运行路径为: /home/pl/work/python-workspance/FAST_pulsar_search_pl/03_barydata\n",
      "日志文件为：/home/pl/work/python-workspance/FAST_pulsar_search_pl/LOG/04_RED/LOG_04-RED-34.83.txt\n",
      "程序运行路径为: /home/pl/work/python-workspance/FAST_pulsar_search_pl/03_barydata\n",
      "日志文件为：/home/pl/work/python-workspance/FAST_pulsar_search_pl/LOG/04_RED/LOG_04-RED-34.84.txt\n",
      "日志文件为：/home/pl/work/python-workspance/FAST_pulsar_search_pl/LOG/04_RED/LOG_04-RED-34.85.txt\n",
      "程序运行路径为: /home/pl/work/python-workspance/FAST_pulsar_search_pl/03_barydata\n",
      "日志文件为：/home/pl/work/python-workspance/FAST_pulsar_search_pl/LOG/04_RED/LOG_04-RED-34.86.txt\n",
      "运行命令：\u001b[96mrednoise  /home/pl/work/python-workspance/FAST_pulsar_search_pl/03_barydata/j1631_FAST_pulsar_search_pl_bary_DM34.82.fft\u001b[0m\n",
      "\u001b[94m运行时间： 0.0秒\u001b[0m\n",
      "运行命令：\u001b[96mrednoise  /home/pl/work/python-workspance/FAST_pulsar_search_pl/03_barydata/j1631_FAST_pulsar_search_pl_bary_DM34.81.fft\u001b[0m\n",
      "\u001b[94m运行时间： 0.0秒\u001b[0m\n",
      "程序运行路径为: /home/pl/work/python-workspance/FAST_pulsar_search_pl/03_barydata\n",
      "日志文件为：/home/pl/work/python-workspance/FAST_pulsar_search_pl/LOG/04_RED/LOG_04-RED-34.87.txt\n",
      "运行命令：\u001b[96mrednoise  /home/pl/work/python-workspance/FAST_pulsar_search_pl/03_barydata/j1631_FAST_pulsar_search_pl_bary_DM34.84.fft\u001b[0m\n",
      "运行命令：\u001b[96mrednoise  /home/pl/work/python-workspance/FAST_pulsar_search_pl/03_barydata/j1631_FAST_pulsar_search_pl_bary_DM34.85.fft\u001b[0m\n",
      "\u001b[94m运行时间： 0.0秒\u001b[0m\n",
      "运行命令：\u001b[96mrednoise  /home/pl/work/python-workspance/FAST_pulsar_search_pl/03_barydata/j1631_FAST_pulsar_search_pl_bary_DM34.86.fft\u001b[0m\n",
      "\u001b[94m运行时间： 0.0秒\u001b[0m\n",
      "运行命令：\u001b[96mrednoise  /home/pl/work/python-workspance/FAST_pulsar_search_pl/03_barydata/j1631_FAST_pulsar_search_pl_bary_DM34.83.fft\u001b[0m\n",
      "\u001b[94m运行时间： 0.0秒\u001b[0m\n",
      "\u001b[94m运行时间： 0.0秒\u001b[0m\n",
      "运行命令：\u001b[96mrednoise  /home/pl/work/python-workspance/FAST_pulsar_search_pl/03_barydata/j1631_FAST_pulsar_search_pl_bary_DM34.87.fft\u001b[0m\n",
      "\u001b[94m运行时间： 0.0秒\u001b[0m\n"
     ]
    },
    {
     "name": "stderr",
     "output_type": "stream",
     "text": [
      "rednoise-8核:  94%|█████████▎| 281/300 [01:12<00:04,  3.95cmd/s]"
     ]
    },
    {
     "name": "stdout",
     "output_type": "stream",
     "text": [
      "程序运行路径为: /home/pl/work/python-workspance/FAST_pulsar_search_pl/03_barydata\n",
      "日志文件为：/home/pl/work/python-workspance/FAST_pulsar_search_pl/LOG/04_RED/LOG_04-RED-34.88.txt\n",
      "程序运行路径为: /home/pl/work/python-workspance/FAST_pulsar_search_pl/03_barydata\n",
      "日志文件为：/home/pl/work/python-workspance/FAST_pulsar_search_pl/LOG/04_RED/LOG_04-RED-34.89.txt\n",
      "程序运行路径为: /home/pl/work/python-workspance/FAST_pulsar_search_pl/03_barydata\n",
      "运行命令：\u001b[96mrednoise  /home/pl/work/python-workspance/FAST_pulsar_search_pl/03_barydata/j1631_FAST_pulsar_search_pl_bary_DM34.88.fft\u001b[0m\n",
      "日志文件为：/home/pl/work/python-workspance/FAST_pulsar_search_pl/LOG/04_RED/LOG_04-RED-34.90.txt\n",
      "\u001b[94m运行时间： 0.0秒\u001b[0m\n",
      "程序运行路径为: /home/pl/work/python-workspance/FAST_pulsar_search_pl/03_barydata\n",
      "运行命令：\u001b[96mrednoise  /home/pl/work/python-workspance/FAST_pulsar_search_pl/03_barydata/j1631_FAST_pulsar_search_pl_bary_DM34.89.fft\u001b[0m\n",
      "程序运行路径为: /home/pl/work/python-workspance/FAST_pulsar_search_pl/03_barydata\n",
      "\u001b[94m运行时间： 0.0秒\u001b[0m\n",
      "日志文件为：/home/pl/work/python-workspance/FAST_pulsar_search_pl/LOG/04_RED/LOG_04-RED-34.91.txt\n",
      "程序运行路径为: /home/pl/work/python-workspance/FAST_pulsar_search_pl/03_barydata\n",
      "日志文件为：/home/pl/work/python-workspance/FAST_pulsar_search_pl/LOG/04_RED/LOG_04-RED-34.92.txt\n",
      "程序运行路径为: /home/pl/work/python-workspance/FAST_pulsar_search_pl/03_barydata\n",
      "日志文件为：/home/pl/work/python-workspance/FAST_pulsar_search_pl/LOG/04_RED/LOG_04-RED-34.93.txt\n",
      "运行命令：\u001b[96mrednoise  /home/pl/work/python-workspance/FAST_pulsar_search_pl/03_barydata/j1631_FAST_pulsar_search_pl_bary_DM34.90.fft\u001b[0m\n",
      "日志文件为：/home/pl/work/python-workspance/FAST_pulsar_search_pl/LOG/04_RED/LOG_04-RED-34.94.txt\n",
      "\u001b[94m运行时间： 0.0秒\u001b[0m\n",
      "程序运行路径为: /home/pl/work/python-workspance/FAST_pulsar_search_pl/03_barydata\n",
      "运行命令：\u001b[96mrednoise  /home/pl/work/python-workspance/FAST_pulsar_search_pl/03_barydata/j1631_FAST_pulsar_search_pl_bary_DM34.92.fft\u001b[0m\n",
      "运行命令：\u001b[96mrednoise  /home/pl/work/python-workspance/FAST_pulsar_search_pl/03_barydata/j1631_FAST_pulsar_search_pl_bary_DM34.91.fft\u001b[0m\n",
      "日志文件为：/home/pl/work/python-workspance/FAST_pulsar_search_pl/LOG/04_RED/LOG_04-RED-34.95.txt\n",
      "\u001b[94m运行时间： 0.0秒\u001b[0m\n",
      "\u001b[94m运行时间： 0.0秒\u001b[0m\n",
      "运行命令：\u001b[96mrednoise  /home/pl/work/python-workspance/FAST_pulsar_search_pl/03_barydata/j1631_FAST_pulsar_search_pl_bary_DM34.94.fft\u001b[0m\n",
      "\u001b[94m运行时间： 0.0秒\u001b[0m\n",
      "运行命令：\u001b[96mrednoise  /home/pl/work/python-workspance/FAST_pulsar_search_pl/03_barydata/j1631_FAST_pulsar_search_pl_bary_DM34.93.fft\u001b[0m\n",
      "\u001b[94m运行时间： 0.0秒\u001b[0m\n",
      "运行命令：\u001b[96mrednoise  /home/pl/work/python-workspance/FAST_pulsar_search_pl/03_barydata/j1631_FAST_pulsar_search_pl_bary_DM34.95.fft\u001b[0m\n",
      "\u001b[94m运行时间： 0.0秒\u001b[0m\n"
     ]
    },
    {
     "name": "stderr",
     "output_type": "stream",
     "text": [
      "rednoise-8核:  96%|█████████▋| 289/300 [01:14<00:02,  3.96cmd/s]"
     ]
    },
    {
     "name": "stdout",
     "output_type": "stream",
     "text": [
      "程序运行路径为: /home/pl/work/python-workspance/FAST_pulsar_search_pl/03_barydata\n",
      "日志文件为：/home/pl/work/python-workspance/FAST_pulsar_search_pl/LOG/04_RED/LOG_04-RED-34.96.txt\n",
      "程序运行路径为: /home/pl/work/python-workspance/FAST_pulsar_search_pl/03_barydata\n",
      "日志文件为：/home/pl/work/python-workspance/FAST_pulsar_search_pl/LOG/04_RED/LOG_04-RED-34.97.txt\n",
      "程序运行路径为: /home/pl/work/python-workspance/FAST_pulsar_search_pl/03_barydata\n",
      "运行命令：\u001b[96mrednoise  /home/pl/work/python-workspance/FAST_pulsar_search_pl/03_barydata/j1631_FAST_pulsar_search_pl_bary_DM34.96.fft\u001b[0m\n",
      "\u001b[94m运行时间： 0.0秒\u001b[0m\n",
      "日志文件为：/home/pl/work/python-workspance/FAST_pulsar_search_pl/LOG/04_RED/LOG_04-RED-34.98.txt\n",
      "程序运行路径为: /home/pl/work/python-workspance/FAST_pulsar_search_pl/03_barydata\n",
      "日志文件为：/home/pl/work/python-workspance/FAST_pulsar_search_pl/LOG/04_RED/LOG_04-RED-34.99.txt\n",
      "运行命令：\u001b[96mrednoise  /home/pl/work/python-workspance/FAST_pulsar_search_pl/03_barydata/j1631_FAST_pulsar_search_pl_bary_DM34.97.fft\u001b[0m\n",
      "运行命令：\u001b[96mrednoise  /home/pl/work/python-workspance/FAST_pulsar_search_pl/03_barydata/j1631_FAST_pulsar_search_pl_bary_DM34.98.fft\u001b[0m\n",
      "\u001b[94m运行时间： 0.0秒\u001b[0m\n",
      "\u001b[94m运行时间： 0.0秒\u001b[0m\n",
      "运行命令：\u001b[96mrednoise  /home/pl/work/python-workspance/FAST_pulsar_search_pl/03_barydata/j1631_FAST_pulsar_search_pl_bary_DM34.99.fft\u001b[0m\n",
      "\u001b[94m运行时间： 0.0秒\u001b[0m\n"
     ]
    },
    {
     "name": "stderr",
     "output_type": "stream",
     "text": [
      "rednoise-8核: 100%|██████████| 300/300 [01:17<00:00,  3.89cmd/s]\n"
     ]
    },
    {
     "name": "stdout",
     "output_type": "stream",
     "text": [
      "\u001b[92m红噪声文件重命名成功\n",
      "\u001b[0m\u001b[95m\n",
      " ==================== 正在将消噪文件应用到FFT  ====================== \n",
      "\n",
      "\u001b[0m并行消除ODM噪声:核数\u001b[95m8\u001b[0m/16\n"
     ]
    },
    {
     "name": "stderr",
     "output_type": "stream",
     "text": [
      "zap-8核:   0%|          | 0/300 [00:00<?, ?cmd/s]"
     ]
    },
    {
     "name": "stdout",
     "output_type": "stream",
     "text": [
      "程序运行路径为: /home/pl/work/python-workspance/FAST_pulsar_search_pl/03_barydata\n",
      "程序运行路径为: /home/pl/work/python-workspance/FAST_pulsar_search_pl/03_barydata\n",
      "程序运行路径为: /home/pl/work/python-workspance/FAST_pulsar_search_pl/03_barydata\n",
      "程序运行路径为: /home/pl/work/python-workspance/FAST_pulsar_search_pl/03_barydata\n",
      "程序运行路径为: /home/pl/work/python-workspance/FAST_pulsar_search_pl/03_barydata\n",
      "程序运行路径为: /home/pl/work/python-workspance/FAST_pulsar_search_pl/03_barydata\n",
      "程序运行路径为: /home/pl/work/python-workspance/FAST_pulsar_search_pl/03_barydata\n",
      "程序运行路径为: /home/pl/work/python-workspance/FAST_pulsar_search_pl/03_barydata\n",
      "日志文件为：/home/pl/work/python-workspance/FAST_pulsar_search_pl/LOG/04_ZAP/LOG_04-ZAP-32.02.txt\n",
      "日志文件为：/home/pl/work/python-workspance/FAST_pulsar_search_pl/LOG/04_ZAP/LOG_04-ZAP-32.05.txt\n",
      "日志文件为：/home/pl/work/python-workspance/FAST_pulsar_search_pl/LOG/04_ZAP/LOG_04-ZAP-32.07.txt\n",
      "日志文件为：/home/pl/work/python-workspance/FAST_pulsar_search_pl/LOG/04_ZAP/LOG_04-ZAP-32.00.txt\n",
      "日志文件为：/home/pl/work/python-workspance/FAST_pulsar_search_pl/LOG/04_ZAP/LOG_04-ZAP-32.04.txt\n",
      "日志文件为：/home/pl/work/python-workspance/FAST_pulsar_search_pl/LOG/04_ZAP/LOG_04-ZAP-32.03.txt\n",
      "日志文件为：/home/pl/work/python-workspance/FAST_pulsar_search_pl/LOG/04_ZAP/LOG_04-ZAP-32.01.txt\n",
      "日志文件为：/home/pl/work/python-workspance/FAST_pulsar_search_pl/LOG/04_ZAP/LOG_04-ZAP-32.06.txt\n",
      "运行命令：\u001b[96mzapbirds -zap -zapfile /home/pl/work/python-workspance/FAST_pulsar_search_pl/02_BIRDIES/j1631_FAST_pulsar_search_pl_DM00.00.zaplist /home/pl/work/python-workspance/FAST_pulsar_search_pl/03_barydata/j1631_FAST_pulsar_search_pl_bary_DM32.07.fft\u001b[0m\n",
      "运行命令：\u001b[96mzapbirds -zap -zapfile /home/pl/work/python-workspance/FAST_pulsar_search_pl/02_BIRDIES/j1631_FAST_pulsar_search_pl_DM00.00.zaplist /home/pl/work/python-workspance/FAST_pulsar_search_pl/03_barydata/j1631_FAST_pulsar_search_pl_bary_DM32.04.fft\u001b[0m\n",
      "运行命令：\u001b[96mzapbirds -zap -zapfile /home/pl/work/python-workspance/FAST_pulsar_search_pl/02_BIRDIES/j1631_FAST_pulsar_search_pl_DM00.00.zaplist /home/pl/work/python-workspance/FAST_pulsar_search_pl/03_barydata/j1631_FAST_pulsar_search_pl_bary_DM32.00.fft\u001b[0m\n",
      "运行命令：\u001b[96mzapbirds -zap -zapfile /home/pl/work/python-workspance/FAST_pulsar_search_pl/02_BIRDIES/j1631_FAST_pulsar_search_pl_DM00.00.zaplist /home/pl/work/python-workspance/FAST_pulsar_search_pl/03_barydata/j1631_FAST_pulsar_search_pl_bary_DM32.01.fft\u001b[0m\n",
      "运行命令：\u001b[96mzapbirds -zap -zapfile /home/pl/work/python-workspance/FAST_pulsar_search_pl/02_BIRDIES/j1631_FAST_pulsar_search_pl_DM00.00.zaplist /home/pl/work/python-workspance/FAST_pulsar_search_pl/03_barydata/j1631_FAST_pulsar_search_pl_bary_DM32.06.fft\u001b[0m\n",
      "运行命令：\u001b[96mzapbirds -zap -zapfile /home/pl/work/python-workspance/FAST_pulsar_search_pl/02_BIRDIES/j1631_FAST_pulsar_search_pl_DM00.00.zaplist /home/pl/work/python-workspance/FAST_pulsar_search_pl/03_barydata/j1631_FAST_pulsar_search_pl_bary_DM32.02.fft\u001b[0m\n",
      "运行命令：\u001b[96mzapbirds -zap -zapfile /home/pl/work/python-workspance/FAST_pulsar_search_pl/02_BIRDIES/j1631_FAST_pulsar_search_pl_DM00.00.zaplist /home/pl/work/python-workspance/FAST_pulsar_search_pl/03_barydata/j1631_FAST_pulsar_search_pl_bary_DM32.05.fft\u001b[0m\n",
      "\u001b[94m运行时间： 0.0秒\u001b[0m\n",
      "\u001b[94m运行时间： 0.0秒\u001b[0m\n",
      "\u001b[94m运行时间： 0.0秒\u001b[0m\n",
      "\u001b[94m运行时间： 0.0秒\u001b[0m\n",
      "\u001b[94m运行时间： 0.0秒\u001b[0m\n",
      "运行命令：\u001b[96mzapbirds -zap -zapfile /home/pl/work/python-workspance/FAST_pulsar_search_pl/02_BIRDIES/j1631_FAST_pulsar_search_pl_DM00.00.zaplist /home/pl/work/python-workspance/FAST_pulsar_search_pl/03_barydata/j1631_FAST_pulsar_search_pl_bary_DM32.03.fft\u001b[0m\n",
      "\u001b[94m运行时间： 0.0秒\u001b[0m\n",
      "\u001b[94m运行时间： 0.0秒\u001b[0m\n",
      "\u001b[94m运行时间： 0.0秒\u001b[0m\n",
      "程序运行路径为: /home/pl/work/python-workspance/FAST_pulsar_search_pl/03_barydata\n"
     ]
    },
    {
     "name": "stderr",
     "output_type": "stream",
     "text": [
      "zap-8核:   0%|          | 1/300 [00:02<10:18,  2.07s/cmd]"
     ]
    },
    {
     "name": "stdout",
     "output_type": "stream",
     "text": [
      "程序运行路径为: /home/pl/work/python-workspance/FAST_pulsar_search_pl/03_barydata\n",
      "程序运行路径为: /home/pl/work/python-workspance/FAST_pulsar_search_pl/03_barydata\n",
      "程序运行路径为: /home/pl/work/python-workspance/FAST_pulsar_search_pl/03_barydata\n",
      "程序运行路径为: /home/pl/work/python-workspance/FAST_pulsar_search_pl/03_barydata\n",
      "日志文件为：/home/pl/work/python-workspance/FAST_pulsar_search_pl/LOG/04_ZAP/LOG_04-ZAP-32.08.txt\n",
      "程序运行路径为: /home/pl/work/python-workspance/FAST_pulsar_search_pl/03_barydata\n",
      "程序运行路径为: /home/pl/work/python-workspance/FAST_pulsar_search_pl/03_barydata\n",
      "日志文件为：/home/pl/work/python-workspance/FAST_pulsar_search_pl/LOG/04_ZAP/LOG_04-ZAP-32.12.txt\n",
      "程序运行路径为: /home/pl/work/python-workspance/FAST_pulsar_search_pl/03_barydata\n",
      "日志文件为：/home/pl/work/python-workspance/FAST_pulsar_search_pl/LOG/04_ZAP/LOG_04-ZAP-32.11.txt\n",
      "日志文件为：/home/pl/work/python-workspance/FAST_pulsar_search_pl/LOG/04_ZAP/LOG_04-ZAP-32.09.txt\n",
      "日志文件为：/home/pl/work/python-workspance/FAST_pulsar_search_pl/LOG/04_ZAP/LOG_04-ZAP-32.13.txt\n",
      "日志文件为：/home/pl/work/python-workspance/FAST_pulsar_search_pl/LOG/04_ZAP/LOG_04-ZAP-32.10.txt\n",
      "日志文件为：/home/pl/work/python-workspance/FAST_pulsar_search_pl/LOG/04_ZAP/LOG_04-ZAP-32.15.txt\n",
      "日志文件为：/home/pl/work/python-workspance/FAST_pulsar_search_pl/LOG/04_ZAP/LOG_04-ZAP-32.14.txt\n",
      "运行命令：\u001b[96mzapbirds -zap -zapfile /home/pl/work/python-workspance/FAST_pulsar_search_pl/02_BIRDIES/j1631_FAST_pulsar_search_pl_DM00.00.zaplist /home/pl/work/python-workspance/FAST_pulsar_search_pl/03_barydata/j1631_FAST_pulsar_search_pl_bary_DM32.08.fft\u001b[0m\n",
      "运行命令：\u001b[96mzapbirds -zap -zapfile /home/pl/work/python-workspance/FAST_pulsar_search_pl/02_BIRDIES/j1631_FAST_pulsar_search_pl_DM00.00.zaplist /home/pl/work/python-workspance/FAST_pulsar_search_pl/03_barydata/j1631_FAST_pulsar_search_pl_bary_DM32.13.fft\u001b[0m\n",
      "运行命令：\u001b[96mzapbirds -zap -zapfile /home/pl/work/python-workspance/FAST_pulsar_search_pl/02_BIRDIES/j1631_FAST_pulsar_search_pl_DM00.00.zaplist /home/pl/work/python-workspance/FAST_pulsar_search_pl/03_barydata/j1631_FAST_pulsar_search_pl_bary_DM32.11.fft\u001b[0m\n",
      "运行命令：\u001b[96mzapbirds -zap -zapfile /home/pl/work/python-workspance/FAST_pulsar_search_pl/02_BIRDIES/j1631_FAST_pulsar_search_pl_DM00.00.zaplist /home/pl/work/python-workspance/FAST_pulsar_search_pl/03_barydata/j1631_FAST_pulsar_search_pl_bary_DM32.09.fft\u001b[0m\n",
      "\u001b[94m运行时间： 0.0秒\u001b[0m\n",
      "\u001b[94m运行时间： 0.0秒\u001b[0m\n",
      "\u001b[94m运行时间： 0.0秒\u001b[0m\n",
      "运行命令：\u001b[96mzapbirds -zap -zapfile /home/pl/work/python-workspance/FAST_pulsar_search_pl/02_BIRDIES/j1631_FAST_pulsar_search_pl_DM00.00.zaplist /home/pl/work/python-workspance/FAST_pulsar_search_pl/03_barydata/j1631_FAST_pulsar_search_pl_bary_DM32.12.fft\u001b[0m\n",
      "\u001b[94m运行时间： 0.0秒\u001b[0m\n",
      "运行命令：\u001b[96mzapbirds -zap -zapfile /home/pl/work/python-workspance/FAST_pulsar_search_pl/02_BIRDIES/j1631_FAST_pulsar_search_pl_DM00.00.zaplist /home/pl/work/python-workspance/FAST_pulsar_search_pl/03_barydata/j1631_FAST_pulsar_search_pl_bary_DM32.10.fft\u001b[0m\n",
      "运行命令：\u001b[96mzapbirds -zap -zapfile /home/pl/work/python-workspance/FAST_pulsar_search_pl/02_BIRDIES/j1631_FAST_pulsar_search_pl_DM00.00.zaplist /home/pl/work/python-workspance/FAST_pulsar_search_pl/03_barydata/j1631_FAST_pulsar_search_pl_bary_DM32.14.fft\u001b[0m\n",
      "\u001b[94m运行时间： 0.0秒\u001b[0m\n",
      "\u001b[94m运行时间： 0.0秒\u001b[0m\n",
      "运行命令：\u001b[96mzapbirds -zap -zapfile /home/pl/work/python-workspance/FAST_pulsar_search_pl/02_BIRDIES/j1631_FAST_pulsar_search_pl_DM00.00.zaplist /home/pl/work/python-workspance/FAST_pulsar_search_pl/03_barydata/j1631_FAST_pulsar_search_pl_bary_DM32.15.fft\u001b[0m\n",
      "\u001b[94m运行时间： 0.0秒\u001b[0m\n",
      "\u001b[94m运行时间： 0.0秒\u001b[0m\n"
     ]
    },
    {
     "name": "stderr",
     "output_type": "stream",
     "text": [
      "zap-8核:   3%|▎         | 9/300 [00:04<01:55,  2.51cmd/s]"
     ]
    },
    {
     "name": "stdout",
     "output_type": "stream",
     "text": [
      "程序运行路径为: /home/pl/work/python-workspance/FAST_pulsar_search_pl/03_barydata\n",
      "程序运行路径为: /home/pl/work/python-workspance/FAST_pulsar_search_pl/03_barydata\n",
      "程序运行路径为: /home/pl/work/python-workspance/FAST_pulsar_search_pl/03_barydata\n",
      "日志文件为：/home/pl/work/python-workspance/FAST_pulsar_search_pl/LOG/04_ZAP/LOG_04-ZAP-32.16.txt\n",
      "程序运行路径为: /home/pl/work/python-workspance/FAST_pulsar_search_pl/03_barydata\n",
      "日志文件为：/home/pl/work/python-workspance/FAST_pulsar_search_pl/LOG/04_ZAP/LOG_04-ZAP-32.17.txt\n",
      "日志文件为：/home/pl/work/python-workspance/FAST_pulsar_search_pl/LOG/04_ZAP/LOG_04-ZAP-32.18.txt\n",
      "程序运行路径为: /home/pl/work/python-workspance/FAST_pulsar_search_pl/03_barydata\n",
      "日志文件为：/home/pl/work/python-workspance/FAST_pulsar_search_pl/LOG/04_ZAP/LOG_04-ZAP-32.19.txt\n",
      "程序运行路径为: /home/pl/work/python-workspance/FAST_pulsar_search_pl/03_barydata\n",
      "程序运行路径为: /home/pl/work/python-workspance/FAST_pulsar_search_pl/03_barydata\n",
      "日志文件为：/home/pl/work/python-workspance/FAST_pulsar_search_pl/LOG/04_ZAP/LOG_04-ZAP-32.20.txt\n",
      "日志文件为：/home/pl/work/python-workspance/FAST_pulsar_search_pl/LOG/04_ZAP/LOG_04-ZAP-32.22.txt\n",
      "日志文件为：/home/pl/work/python-workspance/FAST_pulsar_search_pl/LOG/04_ZAP/LOG_04-ZAP-32.21.txt\n",
      "程序运行路径为: /home/pl/work/python-workspance/FAST_pulsar_search_pl/03_barydata\n",
      "日志文件为：/home/pl/work/python-workspance/FAST_pulsar_search_pl/LOG/04_ZAP/LOG_04-ZAP-32.23.txt\n",
      "运行命令：\u001b[96mzapbirds -zap -zapfile /home/pl/work/python-workspance/FAST_pulsar_search_pl/02_BIRDIES/j1631_FAST_pulsar_search_pl_DM00.00.zaplist /home/pl/work/python-workspance/FAST_pulsar_search_pl/03_barydata/j1631_FAST_pulsar_search_pl_bary_DM32.18.fft\u001b[0m\n",
      "运行命令：\u001b[96mzapbirds -zap -zapfile /home/pl/work/python-workspance/FAST_pulsar_search_pl/02_BIRDIES/j1631_FAST_pulsar_search_pl_DM00.00.zaplist /home/pl/work/python-workspance/FAST_pulsar_search_pl/03_barydata/j1631_FAST_pulsar_search_pl_bary_DM32.17.fft\u001b[0m\n",
      "\u001b[94m运行时间： 0.0秒\u001b[0m\n",
      "运行命令：\u001b[96mzapbirds -zap -zapfile /home/pl/work/python-workspance/FAST_pulsar_search_pl/02_BIRDIES/j1631_FAST_pulsar_search_pl_DM00.00.zaplist /home/pl/work/python-workspance/FAST_pulsar_search_pl/03_barydata/j1631_FAST_pulsar_search_pl_bary_DM32.19.fft\u001b[0m\n",
      "\u001b[94m运行时间： 0.0秒\u001b[0m\n",
      "\u001b[94m运行时间： 0.0秒\u001b[0m\n",
      "运行命令：\u001b[96mzapbirds -zap -zapfile /home/pl/work/python-workspance/FAST_pulsar_search_pl/02_BIRDIES/j1631_FAST_pulsar_search_pl_DM00.00.zaplist /home/pl/work/python-workspance/FAST_pulsar_search_pl/03_barydata/j1631_FAST_pulsar_search_pl_bary_DM32.22.fft\u001b[0m\n",
      "运行命令：\u001b[96mzapbirds -zap -zapfile /home/pl/work/python-workspance/FAST_pulsar_search_pl/02_BIRDIES/j1631_FAST_pulsar_search_pl_DM00.00.zaplist /home/pl/work/python-workspance/FAST_pulsar_search_pl/03_barydata/j1631_FAST_pulsar_search_pl_bary_DM32.20.fft\u001b[0m\n",
      "运行命令：\u001b[96mzapbirds -zap -zapfile /home/pl/work/python-workspance/FAST_pulsar_search_pl/02_BIRDIES/j1631_FAST_pulsar_search_pl_DM00.00.zaplist /home/pl/work/python-workspance/FAST_pulsar_search_pl/03_barydata/j1631_FAST_pulsar_search_pl_bary_DM32.21.fft\u001b[0m\n",
      "\u001b[94m运行时间： 0.0秒\u001b[0m\n",
      "运行命令：\u001b[96mzapbirds -zap -zapfile /home/pl/work/python-workspance/FAST_pulsar_search_pl/02_BIRDIES/j1631_FAST_pulsar_search_pl_DM00.00.zaplist /home/pl/work/python-workspance/FAST_pulsar_search_pl/03_barydata/j1631_FAST_pulsar_search_pl_bary_DM32.16.fft\u001b[0m\n",
      "\u001b[94m运行时间： 0.0秒\u001b[0m\n",
      "\u001b[94m运行时间： 0.0秒\u001b[0m\n",
      "运行命令：\u001b[96mzapbirds -zap -zapfile /home/pl/work/python-workspance/FAST_pulsar_search_pl/02_BIRDIES/j1631_FAST_pulsar_search_pl_DM00.00.zaplist /home/pl/work/python-workspance/FAST_pulsar_search_pl/03_barydata/j1631_FAST_pulsar_search_pl_bary_DM32.23.fft\u001b[0m\n",
      "\u001b[94m运行时间： 0.0秒\u001b[0m\n",
      "\u001b[94m运行时间： 0.0秒\u001b[0m\n"
     ]
    },
    {
     "name": "stderr",
     "output_type": "stream",
     "text": [
      "zap-8核:   6%|▌         | 17/300 [00:06<01:29,  3.17cmd/s]"
     ]
    },
    {
     "name": "stdout",
     "output_type": "stream",
     "text": [
      "程序运行路径为: /home/pl/work/python-workspance/FAST_pulsar_search_pl/03_barydata\n",
      "程序运行路径为: /home/pl/work/python-workspance/FAST_pulsar_search_pl/03_barydata\n",
      "日志文件为：/home/pl/work/python-workspance/FAST_pulsar_search_pl/LOG/04_ZAP/LOG_04-ZAP-32.25.txt\n",
      "日志文件为：/home/pl/work/python-workspance/FAST_pulsar_search_pl/LOG/04_ZAP/LOG_04-ZAP-32.24.txt\n",
      "程序运行路径为: /home/pl/work/python-workspance/FAST_pulsar_search_pl/03_barydata\n",
      "日志文件为：/home/pl/work/python-workspance/FAST_pulsar_search_pl/LOG/04_ZAP/LOG_04-ZAP-32.26.txt\n",
      "程序运行路径为: /home/pl/work/python-workspance/FAST_pulsar_search_pl/03_barydata\n",
      "程序运行路径为: /home/pl/work/python-workspance/FAST_pulsar_search_pl/03_barydata\n",
      "程序运行路径为: /home/pl/work/python-workspance/FAST_pulsar_search_pl/03_barydata\n",
      "程序运行路径为: /home/pl/work/python-workspance/FAST_pulsar_search_pl/03_barydata\n",
      "日志文件为：/home/pl/work/python-workspance/FAST_pulsar_search_pl/LOG/04_ZAP/LOG_04-ZAP-32.30.txt\n",
      "日志文件为：/home/pl/work/python-workspance/FAST_pulsar_search_pl/LOG/04_ZAP/LOG_04-ZAP-32.29.txt\n",
      "日志文件为：/home/pl/work/python-workspance/FAST_pulsar_search_pl/LOG/04_ZAP/LOG_04-ZAP-32.28.txt\n",
      "日志文件为：/home/pl/work/python-workspance/FAST_pulsar_search_pl/LOG/04_ZAP/LOG_04-ZAP-32.27.txt\n",
      "程序运行路径为: /home/pl/work/python-workspance/FAST_pulsar_search_pl/03_barydata\n",
      "日志文件为：/home/pl/work/python-workspance/FAST_pulsar_search_pl/LOG/04_ZAP/LOG_04-ZAP-32.31.txt\n",
      "运行命令：\u001b[96mzapbirds -zap -zapfile /home/pl/work/python-workspance/FAST_pulsar_search_pl/02_BIRDIES/j1631_FAST_pulsar_search_pl_DM00.00.zaplist /home/pl/work/python-workspance/FAST_pulsar_search_pl/03_barydata/j1631_FAST_pulsar_search_pl_bary_DM32.24.fft\u001b[0m\n",
      "运行命令：\u001b[96mzapbirds -zap -zapfile /home/pl/work/python-workspance/FAST_pulsar_search_pl/02_BIRDIES/j1631_FAST_pulsar_search_pl_DM00.00.zaplist /home/pl/work/python-workspance/FAST_pulsar_search_pl/03_barydata/j1631_FAST_pulsar_search_pl_bary_DM32.25.fft\u001b[0m\n",
      "\u001b[94m运行时间： 0.0秒\u001b[0m\n",
      "\u001b[94m运行时间： 0.0秒\u001b[0m\n",
      "运行命令：\u001b[96mzapbirds -zap -zapfile /home/pl/work/python-workspance/FAST_pulsar_search_pl/02_BIRDIES/j1631_FAST_pulsar_search_pl_DM00.00.zaplist /home/pl/work/python-workspance/FAST_pulsar_search_pl/03_barydata/j1631_FAST_pulsar_search_pl_bary_DM32.26.fft\u001b[0m\n",
      "\u001b[94m运行时间： 0.0秒\u001b[0m\n",
      "运行命令：\u001b[96mzapbirds -zap -zapfile /home/pl/work/python-workspance/FAST_pulsar_search_pl/02_BIRDIES/j1631_FAST_pulsar_search_pl_DM00.00.zaplist /home/pl/work/python-workspance/FAST_pulsar_search_pl/03_barydata/j1631_FAST_pulsar_search_pl_bary_DM32.29.fft\u001b[0m\n",
      "运行命令：\u001b[96mzapbirds -zap -zapfile /home/pl/work/python-workspance/FAST_pulsar_search_pl/02_BIRDIES/j1631_FAST_pulsar_search_pl_DM00.00.zaplist /home/pl/work/python-workspance/FAST_pulsar_search_pl/03_barydata/j1631_FAST_pulsar_search_pl_bary_DM32.28.fft\u001b[0m\n",
      "\u001b[94m运行时间： 0.0秒\u001b[0m\n",
      "运行命令：\u001b[96mzapbirds -zap -zapfile /home/pl/work/python-workspance/FAST_pulsar_search_pl/02_BIRDIES/j1631_FAST_pulsar_search_pl_DM00.00.zaplist /home/pl/work/python-workspance/FAST_pulsar_search_pl/03_barydata/j1631_FAST_pulsar_search_pl_bary_DM32.27.fft\u001b[0m\n",
      "运行命令：\u001b[96mzapbirds -zap -zapfile /home/pl/work/python-workspance/FAST_pulsar_search_pl/02_BIRDIES/j1631_FAST_pulsar_search_pl_DM00.00.zaplist /home/pl/work/python-workspance/FAST_pulsar_search_pl/03_barydata/j1631_FAST_pulsar_search_pl_bary_DM32.30.fft\u001b[0m\n",
      "\u001b[94m运行时间： 0.0秒\u001b[0m\n",
      "\u001b[94m运行时间： 0.0秒\u001b[0m\n",
      "运行命令：\u001b[96mzapbirds -zap -zapfile /home/pl/work/python-workspance/FAST_pulsar_search_pl/02_BIRDIES/j1631_FAST_pulsar_search_pl_DM00.00.zaplist /home/pl/work/python-workspance/FAST_pulsar_search_pl/03_barydata/j1631_FAST_pulsar_search_pl_bary_DM32.31.fft\u001b[0m\n",
      "\u001b[94m运行时间： 0.0秒\u001b[0m\n",
      "\u001b[94m运行时间： 0.0秒\u001b[0m\n"
     ]
    },
    {
     "name": "stderr",
     "output_type": "stream",
     "text": [
      "zap-8核:   8%|▊         | 25/300 [00:08<01:18,  3.49cmd/s]"
     ]
    },
    {
     "name": "stdout",
     "output_type": "stream",
     "text": [
      "程序运行路径为: /home/pl/work/python-workspance/FAST_pulsar_search_pl/03_barydata\n",
      "程序运行路径为: /home/pl/work/python-workspance/FAST_pulsar_search_pl/03_barydata\n",
      "日志文件为：/home/pl/work/python-workspance/FAST_pulsar_search_pl/LOG/04_ZAP/LOG_04-ZAP-32.32.txt\n",
      "日志文件为：/home/pl/work/python-workspance/FAST_pulsar_search_pl/LOG/04_ZAP/LOG_04-ZAP-32.33.txt\n",
      "程序运行路径为: /home/pl/work/python-workspance/FAST_pulsar_search_pl/03_barydata\n",
      "程序运行路径为: /home/pl/work/python-workspance/FAST_pulsar_search_pl/03_barydata\n",
      "日志文件为：/home/pl/work/python-workspance/FAST_pulsar_search_pl/LOG/04_ZAP/LOG_04-ZAP-32.34.txt\n",
      "程序运行路径为: /home/pl/work/python-workspance/FAST_pulsar_search_pl/03_barydata\n",
      "程序运行路径为: /home/pl/work/python-workspance/FAST_pulsar_search_pl/03_barydata\n",
      "运行命令：\u001b[96mzapbirds -zap -zapfile /home/pl/work/python-workspance/FAST_pulsar_search_pl/02_BIRDIES/j1631_FAST_pulsar_search_pl_DM00.00.zaplist /home/pl/work/python-workspance/FAST_pulsar_search_pl/03_barydata/j1631_FAST_pulsar_search_pl_bary_DM32.33.fft\u001b[0m\n",
      "日志文件为：/home/pl/work/python-workspance/FAST_pulsar_search_pl/LOG/04_ZAP/LOG_04-ZAP-32.35.txt\n",
      "程序运行路径为: /home/pl/work/python-workspance/FAST_pulsar_search_pl/03_barydata\n",
      "运行命令：\u001b[96mzapbirds -zap -zapfile /home/pl/work/python-workspance/FAST_pulsar_search_pl/02_BIRDIES/j1631_FAST_pulsar_search_pl_DM00.00.zaplist /home/pl/work/python-workspance/FAST_pulsar_search_pl/03_barydata/j1631_FAST_pulsar_search_pl_bary_DM32.32.fft\u001b[0m\n",
      "程序运行路径为: /home/pl/work/python-workspance/FAST_pulsar_search_pl/03_barydata\n",
      "日志文件为：/home/pl/work/python-workspance/FAST_pulsar_search_pl/LOG/04_ZAP/LOG_04-ZAP-32.38.txt\n",
      "\u001b[94m运行时间： 0.0秒\u001b[0m\n",
      "日志文件为：/home/pl/work/python-workspance/FAST_pulsar_search_pl/LOG/04_ZAP/LOG_04-ZAP-32.39.txt\n",
      "日志文件为：/home/pl/work/python-workspance/FAST_pulsar_search_pl/LOG/04_ZAP/LOG_04-ZAP-32.36.txt\n",
      "日志文件为：/home/pl/work/python-workspance/FAST_pulsar_search_pl/LOG/04_ZAP/LOG_04-ZAP-32.37.txt\n",
      "\u001b[94m运行时间： 0.0秒\u001b[0m\n",
      "运行命令：\u001b[96mzapbirds -zap -zapfile /home/pl/work/python-workspance/FAST_pulsar_search_pl/02_BIRDIES/j1631_FAST_pulsar_search_pl_DM00.00.zaplist /home/pl/work/python-workspance/FAST_pulsar_search_pl/03_barydata/j1631_FAST_pulsar_search_pl_bary_DM32.34.fft\u001b[0m\n",
      "运行命令：\u001b[96mzapbirds -zap -zapfile /home/pl/work/python-workspance/FAST_pulsar_search_pl/02_BIRDIES/j1631_FAST_pulsar_search_pl_DM00.00.zaplist /home/pl/work/python-workspance/FAST_pulsar_search_pl/03_barydata/j1631_FAST_pulsar_search_pl_bary_DM32.38.fft\u001b[0m\n",
      "运行命令：\u001b[96mzapbirds -zap -zapfile /home/pl/work/python-workspance/FAST_pulsar_search_pl/02_BIRDIES/j1631_FAST_pulsar_search_pl_DM00.00.zaplist /home/pl/work/python-workspance/FAST_pulsar_search_pl/03_barydata/j1631_FAST_pulsar_search_pl_bary_DM32.37.fft\u001b[0m\n",
      "运行命令：\u001b[96mzapbirds -zap -zapfile /home/pl/work/python-workspance/FAST_pulsar_search_pl/02_BIRDIES/j1631_FAST_pulsar_search_pl_DM00.00.zaplist /home/pl/work/python-workspance/FAST_pulsar_search_pl/03_barydata/j1631_FAST_pulsar_search_pl_bary_DM32.35.fft\u001b[0m\n",
      "\u001b[94m运行时间： 0.0秒\u001b[0m\n",
      "\u001b[94m运行时间： 0.0秒\u001b[0m\n",
      "运行命令：\u001b[96mzapbirds -zap -zapfile /home/pl/work/python-workspance/FAST_pulsar_search_pl/02_BIRDIES/j1631_FAST_pulsar_search_pl_DM00.00.zaplist /home/pl/work/python-workspance/FAST_pulsar_search_pl/03_barydata/j1631_FAST_pulsar_search_pl_bary_DM32.36.fft\u001b[0m\n",
      "\u001b[94m运行时间： 0.0秒\u001b[0m\n",
      "\u001b[94m运行时间： 0.0秒\u001b[0m\n",
      "\u001b[94m运行时间： 0.0秒\u001b[0m\n",
      "运行命令：\u001b[96mzapbirds -zap -zapfile /home/pl/work/python-workspance/FAST_pulsar_search_pl/02_BIRDIES/j1631_FAST_pulsar_search_pl_DM00.00.zaplist /home/pl/work/python-workspance/FAST_pulsar_search_pl/03_barydata/j1631_FAST_pulsar_search_pl_bary_DM32.39.fft\u001b[0m\n",
      "\u001b[94m运行时间： 0.0秒\u001b[0m\n"
     ]
    },
    {
     "name": "stderr",
     "output_type": "stream",
     "text": [
      "zap-8核:  11%|█         | 33/300 [00:10<01:12,  3.66cmd/s]"
     ]
    },
    {
     "name": "stdout",
     "output_type": "stream",
     "text": [
      "程序运行路径为: /home/pl/work/python-workspance/FAST_pulsar_search_pl/03_barydata\n",
      "程序运行路径为: /home/pl/work/python-workspance/FAST_pulsar_search_pl/03_barydata\n",
      "日志文件为：/home/pl/work/python-workspance/FAST_pulsar_search_pl/LOG/04_ZAP/LOG_04-ZAP-32.41.txt\n",
      "日志文件为：/home/pl/work/python-workspance/FAST_pulsar_search_pl/LOG/04_ZAP/LOG_04-ZAP-32.40.txt\n",
      "程序运行路径为: /home/pl/work/python-workspance/FAST_pulsar_search_pl/03_barydata\n",
      "程序运行路径为: /home/pl/work/python-workspance/FAST_pulsar_search_pl/03_barydata\n",
      "程序运行路径为: /home/pl/work/python-workspance/FAST_pulsar_search_pl/03_barydata\n",
      "程序运行路径为: /home/pl/work/python-workspance/FAST_pulsar_search_pl/03_barydata\n",
      "程序运行路径为: /home/pl/work/python-workspance/FAST_pulsar_search_pl/03_barydata\n",
      "日志文件为：/home/pl/work/python-workspance/FAST_pulsar_search_pl/LOG/04_ZAP/LOG_04-ZAP-32.43.txt\n",
      "日志文件为：/home/pl/work/python-workspance/FAST_pulsar_search_pl/LOG/04_ZAP/LOG_04-ZAP-32.42.txt\n",
      "运行命令：\u001b[96mzapbirds -zap -zapfile /home/pl/work/python-workspance/FAST_pulsar_search_pl/02_BIRDIES/j1631_FAST_pulsar_search_pl_DM00.00.zaplist /home/pl/work/python-workspance/FAST_pulsar_search_pl/03_barydata/j1631_FAST_pulsar_search_pl_bary_DM32.41.fft\u001b[0m\n",
      "运行命令：\u001b[96mzapbirds -zap -zapfile /home/pl/work/python-workspance/FAST_pulsar_search_pl/02_BIRDIES/j1631_FAST_pulsar_search_pl_DM00.00.zaplist /home/pl/work/python-workspance/FAST_pulsar_search_pl/03_barydata/j1631_FAST_pulsar_search_pl_bary_DM32.40.fft\u001b[0m\n",
      "日志文件为：/home/pl/work/python-workspance/FAST_pulsar_search_pl/LOG/04_ZAP/LOG_04-ZAP-32.45.txt\n",
      "\u001b[94m运行时间： 0.0秒\u001b[0m\n",
      "\u001b[94m运行时间： 0.0秒\u001b[0m\n",
      "日志文件为：/home/pl/work/python-workspance/FAST_pulsar_search_pl/LOG/04_ZAP/LOG_04-ZAP-32.46.txt\n",
      "日志文件为：/home/pl/work/python-workspance/FAST_pulsar_search_pl/LOG/04_ZAP/LOG_04-ZAP-32.44.txt\n",
      "程序运行路径为: /home/pl/work/python-workspance/FAST_pulsar_search_pl/03_barydata\n",
      "日志文件为：/home/pl/work/python-workspance/FAST_pulsar_search_pl/LOG/04_ZAP/LOG_04-ZAP-32.47.txt\n",
      "运行命令：\u001b[96mzapbirds -zap -zapfile /home/pl/work/python-workspance/FAST_pulsar_search_pl/02_BIRDIES/j1631_FAST_pulsar_search_pl_DM00.00.zaplist /home/pl/work/python-workspance/FAST_pulsar_search_pl/03_barydata/j1631_FAST_pulsar_search_pl_bary_DM32.42.fft\u001b[0m\n",
      "运行命令：\u001b[96mzapbirds -zap -zapfile /home/pl/work/python-workspance/FAST_pulsar_search_pl/02_BIRDIES/j1631_FAST_pulsar_search_pl_DM00.00.zaplist /home/pl/work/python-workspance/FAST_pulsar_search_pl/03_barydata/j1631_FAST_pulsar_search_pl_bary_DM32.45.fft\u001b[0m\n",
      "运行命令：\u001b[96mzapbirds -zap -zapfile /home/pl/work/python-workspance/FAST_pulsar_search_pl/02_BIRDIES/j1631_FAST_pulsar_search_pl_DM00.00.zaplist /home/pl/work/python-workspance/FAST_pulsar_search_pl/03_barydata/j1631_FAST_pulsar_search_pl_bary_DM32.43.fft\u001b[0m\n",
      "\u001b[94m运行时间： 0.0秒\u001b[0m\n",
      "\u001b[94m运行时间： 0.0秒\u001b[0m\n",
      "\u001b[94m运行时间： 0.0秒\u001b[0m\n",
      "运行命令：\u001b[96mzapbirds -zap -zapfile /home/pl/work/python-workspance/FAST_pulsar_search_pl/02_BIRDIES/j1631_FAST_pulsar_search_pl_DM00.00.zaplist /home/pl/work/python-workspance/FAST_pulsar_search_pl/03_barydata/j1631_FAST_pulsar_search_pl_bary_DM32.44.fft\u001b[0m\n",
      "\u001b[94m运行时间： 0.0秒\u001b[0m\n",
      "运行命令：\u001b[96mzapbirds -zap -zapfile /home/pl/work/python-workspance/FAST_pulsar_search_pl/02_BIRDIES/j1631_FAST_pulsar_search_pl_DM00.00.zaplist /home/pl/work/python-workspance/FAST_pulsar_search_pl/03_barydata/j1631_FAST_pulsar_search_pl_bary_DM32.46.fft\u001b[0m\n",
      "运行命令：\u001b[96mzapbirds -zap -zapfile /home/pl/work/python-workspance/FAST_pulsar_search_pl/02_BIRDIES/j1631_FAST_pulsar_search_pl_DM00.00.zaplist /home/pl/work/python-workspance/FAST_pulsar_search_pl/03_barydata/j1631_FAST_pulsar_search_pl_bary_DM32.47.fft\u001b[0m\n",
      "\u001b[94m运行时间： 0.0秒\u001b[0m\n",
      "\u001b[94m运行时间： 0.0秒\u001b[0m\n"
     ]
    },
    {
     "name": "stderr",
     "output_type": "stream",
     "text": [
      "zap-8核:  14%|█▎        | 41/300 [00:12<01:08,  3.77cmd/s]"
     ]
    },
    {
     "name": "stdout",
     "output_type": "stream",
     "text": [
      "程序运行路径为: /home/pl/work/python-workspance/FAST_pulsar_search_pl/03_barydata\n",
      "程序运行路径为: /home/pl/work/python-workspance/FAST_pulsar_search_pl/03_barydata\n",
      "日志文件为：/home/pl/work/python-workspance/FAST_pulsar_search_pl/LOG/04_ZAP/LOG_04-ZAP-32.49.txt\n",
      "日志文件为：/home/pl/work/python-workspance/FAST_pulsar_search_pl/LOG/04_ZAP/LOG_04-ZAP-32.48.txt\n",
      "运行命令：\u001b[96mzapbirds -zap -zapfile /home/pl/work/python-workspance/FAST_pulsar_search_pl/02_BIRDIES/j1631_FAST_pulsar_search_pl_DM00.00.zaplist /home/pl/work/python-workspance/FAST_pulsar_search_pl/03_barydata/j1631_FAST_pulsar_search_pl_bary_DM32.49.fft\u001b[0m\n",
      "\u001b[94m运行时间： 0.0秒\u001b[0m\n",
      "程序运行路径为: /home/pl/work/python-workspance/FAST_pulsar_search_pl/03_barydata\n",
      "程序运行路径为: /home/pl/work/python-workspance/FAST_pulsar_search_pl/03_barydata\n",
      "运行命令：\u001b[96mzapbirds -zap -zapfile /home/pl/work/python-workspance/FAST_pulsar_search_pl/02_BIRDIES/j1631_FAST_pulsar_search_pl_DM00.00.zaplist /home/pl/work/python-workspance/FAST_pulsar_search_pl/03_barydata/j1631_FAST_pulsar_search_pl_bary_DM32.48.fft\u001b[0m\n",
      "程序运行路径为: /home/pl/work/python-workspance/FAST_pulsar_search_pl/03_barydata\n",
      "日志文件为：/home/pl/work/python-workspance/FAST_pulsar_search_pl/LOG/04_ZAP/LOG_04-ZAP-32.50.txt\n",
      "日志文件为：/home/pl/work/python-workspance/FAST_pulsar_search_pl/LOG/04_ZAP/LOG_04-ZAP-32.51.txt\n",
      "\u001b[94m运行时间： 0.0秒\u001b[0m\n",
      "日志文件为：/home/pl/work/python-workspance/FAST_pulsar_search_pl/LOG/04_ZAP/LOG_04-ZAP-32.52.txt\n",
      "程序运行路径为: /home/pl/work/python-workspance/FAST_pulsar_search_pl/03_barydata\n",
      "日志文件为：/home/pl/work/python-workspance/FAST_pulsar_search_pl/LOG/04_ZAP/LOG_04-ZAP-32.53.txt\n",
      "程序运行路径为: /home/pl/work/python-workspance/FAST_pulsar_search_pl/03_barydata\n",
      "程序运行路径为: /home/pl/work/python-workspance/FAST_pulsar_search_pl/03_barydata\n",
      "日志文件为：/home/pl/work/python-workspance/FAST_pulsar_search_pl/LOG/04_ZAP/LOG_04-ZAP-32.54.txt\n",
      "运行命令：\u001b[96mzapbirds -zap -zapfile /home/pl/work/python-workspance/FAST_pulsar_search_pl/02_BIRDIES/j1631_FAST_pulsar_search_pl_DM00.00.zaplist /home/pl/work/python-workspance/FAST_pulsar_search_pl/03_barydata/j1631_FAST_pulsar_search_pl_bary_DM32.51.fft\u001b[0m\n",
      "运行命令：\u001b[96mzapbirds -zap -zapfile /home/pl/work/python-workspance/FAST_pulsar_search_pl/02_BIRDIES/j1631_FAST_pulsar_search_pl_DM00.00.zaplist /home/pl/work/python-workspance/FAST_pulsar_search_pl/03_barydata/j1631_FAST_pulsar_search_pl_bary_DM32.50.fft\u001b[0m\n",
      "运行命令：\u001b[96mzapbirds -zap -zapfile /home/pl/work/python-workspance/FAST_pulsar_search_pl/02_BIRDIES/j1631_FAST_pulsar_search_pl_DM00.00.zaplist /home/pl/work/python-workspance/FAST_pulsar_search_pl/03_barydata/j1631_FAST_pulsar_search_pl_bary_DM32.52.fft\u001b[0m\n",
      "\u001b[94m运行时间： 0.0秒\u001b[0m\n",
      "日志文件为：/home/pl/work/python-workspance/FAST_pulsar_search_pl/LOG/04_ZAP/LOG_04-ZAP-32.55.txt\n",
      "\u001b[94m运行时间： 0.0秒\u001b[0m\n",
      "运行命令：\u001b[96mzapbirds -zap -zapfile /home/pl/work/python-workspance/FAST_pulsar_search_pl/02_BIRDIES/j1631_FAST_pulsar_search_pl_DM00.00.zaplist /home/pl/work/python-workspance/FAST_pulsar_search_pl/03_barydata/j1631_FAST_pulsar_search_pl_bary_DM32.53.fft\u001b[0m\n",
      "\u001b[94m运行时间： 0.0秒\u001b[0m\n",
      "\u001b[94m运行时间： 0.0秒\u001b[0m\n",
      "运行命令：\u001b[96mzapbirds -zap -zapfile /home/pl/work/python-workspance/FAST_pulsar_search_pl/02_BIRDIES/j1631_FAST_pulsar_search_pl_DM00.00.zaplist /home/pl/work/python-workspance/FAST_pulsar_search_pl/03_barydata/j1631_FAST_pulsar_search_pl_bary_DM32.54.fft\u001b[0m\n",
      "\u001b[94m运行时间： 0.0秒\u001b[0m\n",
      "运行命令：\u001b[96mzapbirds -zap -zapfile /home/pl/work/python-workspance/FAST_pulsar_search_pl/02_BIRDIES/j1631_FAST_pulsar_search_pl_DM00.00.zaplist /home/pl/work/python-workspance/FAST_pulsar_search_pl/03_barydata/j1631_FAST_pulsar_search_pl_bary_DM32.55.fft\u001b[0m\n",
      "\u001b[94m运行时间： 0.0秒\u001b[0m\n"
     ]
    },
    {
     "name": "stderr",
     "output_type": "stream",
     "text": [
      "zap-8核:  16%|█▋        | 49/300 [00:14<01:05,  3.84cmd/s]"
     ]
    },
    {
     "name": "stdout",
     "output_type": "stream",
     "text": [
      "程序运行路径为: /home/pl/work/python-workspance/FAST_pulsar_search_pl/03_barydata\n",
      "日志文件为：/home/pl/work/python-workspance/FAST_pulsar_search_pl/LOG/04_ZAP/LOG_04-ZAP-32.56.txt\n",
      "程序运行路径为: /home/pl/work/python-workspance/FAST_pulsar_search_pl/03_barydata\n",
      "日志文件为：/home/pl/work/python-workspance/FAST_pulsar_search_pl/LOG/04_ZAP/LOG_04-ZAP-32.57.txt\n",
      "运行命令：\u001b[96mzapbirds -zap -zapfile /home/pl/work/python-workspance/FAST_pulsar_search_pl/02_BIRDIES/j1631_FAST_pulsar_search_pl_DM00.00.zaplist /home/pl/work/python-workspance/FAST_pulsar_search_pl/03_barydata/j1631_FAST_pulsar_search_pl_bary_DM32.56.fft\u001b[0m\n",
      "\u001b[94m运行时间： 0.0秒\u001b[0m\n",
      "程序运行路径为: /home/pl/work/python-workspance/FAST_pulsar_search_pl/03_barydata\n",
      "日志文件为：/home/pl/work/python-workspance/FAST_pulsar_search_pl/LOG/04_ZAP/LOG_04-ZAP-32.58.txt\n",
      "运行命令：\u001b[96mzapbirds -zap -zapfile /home/pl/work/python-workspance/FAST_pulsar_search_pl/02_BIRDIES/j1631_FAST_pulsar_search_pl_DM00.00.zaplist /home/pl/work/python-workspance/FAST_pulsar_search_pl/03_barydata/j1631_FAST_pulsar_search_pl_bary_DM32.57.fft\u001b[0m\n",
      "程序运行路径为: /home/pl/work/python-workspance/FAST_pulsar_search_pl/03_barydata\n",
      "运行命令：\u001b[96mzapbirds -zap -zapfile /home/pl/work/python-workspance/FAST_pulsar_search_pl/02_BIRDIES/j1631_FAST_pulsar_search_pl_DM00.00.zaplist /home/pl/work/python-workspance/FAST_pulsar_search_pl/03_barydata/j1631_FAST_pulsar_search_pl_bary_DM32.58.fft\u001b[0m\n",
      "\u001b[94m运行时间： 0.0秒\u001b[0m\n",
      "程序运行路径为: /home/pl/work/python-workspance/FAST_pulsar_search_pl/03_barydata\n",
      "日志文件为：/home/pl/work/python-workspance/FAST_pulsar_search_pl/LOG/04_ZAP/LOG_04-ZAP-32.59.txt\n",
      "\u001b[94m运行时间： 0.0秒\u001b[0m\n",
      "日志文件为：/home/pl/work/python-workspance/FAST_pulsar_search_pl/LOG/04_ZAP/LOG_04-ZAP-32.60.txt\n",
      "程序运行路径为: /home/pl/work/python-workspance/FAST_pulsar_search_pl/03_barydata\n",
      "日志文件为：/home/pl/work/python-workspance/FAST_pulsar_search_pl/LOG/04_ZAP/LOG_04-ZAP-32.61.txt\n",
      "程序运行路径为: /home/pl/work/python-workspance/FAST_pulsar_search_pl/03_barydata\n",
      "日志文件为：/home/pl/work/python-workspance/FAST_pulsar_search_pl/LOG/04_ZAP/LOG_04-ZAP-32.62.txt\n",
      "程序运行路径为: /home/pl/work/python-workspance/FAST_pulsar_search_pl/03_barydata\n",
      "日志文件为：/home/pl/work/python-workspance/FAST_pulsar_search_pl/LOG/04_ZAP/LOG_04-ZAP-32.63.txt\n",
      "运行命令：\u001b[96mzapbirds -zap -zapfile /home/pl/work/python-workspance/FAST_pulsar_search_pl/02_BIRDIES/j1631_FAST_pulsar_search_pl_DM00.00.zaplist /home/pl/work/python-workspance/FAST_pulsar_search_pl/03_barydata/j1631_FAST_pulsar_search_pl_bary_DM32.59.fft\u001b[0m\n",
      "运行命令：\u001b[96mzapbirds -zap -zapfile /home/pl/work/python-workspance/FAST_pulsar_search_pl/02_BIRDIES/j1631_FAST_pulsar_search_pl_DM00.00.zaplist /home/pl/work/python-workspance/FAST_pulsar_search_pl/03_barydata/j1631_FAST_pulsar_search_pl_bary_DM32.60.fft\u001b[0m\n",
      "\u001b[94m运行时间： 0.0秒\u001b[0m\n",
      "\u001b[94m运行时间： 0.0秒\u001b[0m\n",
      "运行命令：\u001b[96mzapbirds -zap -zapfile /home/pl/work/python-workspance/FAST_pulsar_search_pl/02_BIRDIES/j1631_FAST_pulsar_search_pl_DM00.00.zaplist /home/pl/work/python-workspance/FAST_pulsar_search_pl/03_barydata/j1631_FAST_pulsar_search_pl_bary_DM32.61.fft\u001b[0m\n",
      "\u001b[94m运行时间： 0.0秒\u001b[0m\n",
      "运行命令：\u001b[96mzapbirds -zap -zapfile /home/pl/work/python-workspance/FAST_pulsar_search_pl/02_BIRDIES/j1631_FAST_pulsar_search_pl_DM00.00.zaplist /home/pl/work/python-workspance/FAST_pulsar_search_pl/03_barydata/j1631_FAST_pulsar_search_pl_bary_DM32.62.fft\u001b[0m\n",
      "\u001b[94m运行时间： 0.0秒\u001b[0m\n",
      "运行命令：\u001b[96mzapbirds -zap -zapfile /home/pl/work/python-workspance/FAST_pulsar_search_pl/02_BIRDIES/j1631_FAST_pulsar_search_pl_DM00.00.zaplist /home/pl/work/python-workspance/FAST_pulsar_search_pl/03_barydata/j1631_FAST_pulsar_search_pl_bary_DM32.63.fft\u001b[0m\n",
      "\u001b[94m运行时间： 0.0秒\u001b[0m\n"
     ]
    },
    {
     "name": "stderr",
     "output_type": "stream",
     "text": [
      "zap-8核:  19%|█▉        | 57/300 [00:16<01:02,  3.88cmd/s]"
     ]
    },
    {
     "name": "stdout",
     "output_type": "stream",
     "text": [
      "程序运行路径为: /home/pl/work/python-workspance/FAST_pulsar_search_pl/03_barydata\n",
      "日志文件为：/home/pl/work/python-workspance/FAST_pulsar_search_pl/LOG/04_ZAP/LOG_04-ZAP-32.64.txt\n",
      "运行命令：\u001b[96mzapbirds -zap -zapfile /home/pl/work/python-workspance/FAST_pulsar_search_pl/02_BIRDIES/j1631_FAST_pulsar_search_pl_DM00.00.zaplist /home/pl/work/python-workspance/FAST_pulsar_search_pl/03_barydata/j1631_FAST_pulsar_search_pl_bary_DM32.64.fft\u001b[0m\n",
      "\u001b[94m运行时间： 0.0秒\u001b[0m\n",
      "程序运行路径为: /home/pl/work/python-workspance/FAST_pulsar_search_pl/03_barydata\n",
      "程序运行路径为: /home/pl/work/python-workspance/FAST_pulsar_search_pl/03_barydata\n",
      "日志文件为：/home/pl/work/python-workspance/FAST_pulsar_search_pl/LOG/04_ZAP/LOG_04-ZAP-32.65.txt\n",
      "日志文件为：/home/pl/work/python-workspance/FAST_pulsar_search_pl/LOG/04_ZAP/LOG_04-ZAP-32.66.txt\n",
      "运行命令：\u001b[96mzapbirds -zap -zapfile /home/pl/work/python-workspance/FAST_pulsar_search_pl/02_BIRDIES/j1631_FAST_pulsar_search_pl_DM00.00.zaplist /home/pl/work/python-workspance/FAST_pulsar_search_pl/03_barydata/j1631_FAST_pulsar_search_pl_bary_DM32.66.fft\u001b[0m\n",
      "程序运行路径为: /home/pl/work/python-workspance/FAST_pulsar_search_pl/03_barydata\n",
      "程序运行路径为: /home/pl/work/python-workspance/FAST_pulsar_search_pl/03_barydata\n",
      "\u001b[94m运行时间： 0.0秒\u001b[0m\n",
      "日志文件为：/home/pl/work/python-workspance/FAST_pulsar_search_pl/LOG/04_ZAP/LOG_04-ZAP-32.67.txt\n",
      "日志文件为：/home/pl/work/python-workspance/FAST_pulsar_search_pl/LOG/04_ZAP/LOG_04-ZAP-32.68.txt\n",
      "程序运行路径为: /home/pl/work/python-workspance/FAST_pulsar_search_pl/03_barydata\n",
      "日志文件为：/home/pl/work/python-workspance/FAST_pulsar_search_pl/LOG/04_ZAP/LOG_04-ZAP-32.69.txt\n",
      "程序运行路径为: /home/pl/work/python-workspance/FAST_pulsar_search_pl/03_barydata\n",
      "运行命令：\u001b[96mzapbirds -zap -zapfile /home/pl/work/python-workspance/FAST_pulsar_search_pl/02_BIRDIES/j1631_FAST_pulsar_search_pl_DM00.00.zaplist /home/pl/work/python-workspance/FAST_pulsar_search_pl/03_barydata/j1631_FAST_pulsar_search_pl_bary_DM32.68.fft\u001b[0m\n",
      "运行命令：\u001b[96mzapbirds -zap -zapfile /home/pl/work/python-workspance/FAST_pulsar_search_pl/02_BIRDIES/j1631_FAST_pulsar_search_pl_DM00.00.zaplist /home/pl/work/python-workspance/FAST_pulsar_search_pl/03_barydata/j1631_FAST_pulsar_search_pl_bary_DM32.69.fft\u001b[0m\n",
      "\u001b[94m运行时间： 0.0秒\u001b[0m\n",
      "\u001b[94m运行时间： 0.0秒\u001b[0m\n",
      "日志文件为：/home/pl/work/python-workspance/FAST_pulsar_search_pl/LOG/04_ZAP/LOG_04-ZAP-32.70.txt\n",
      "运行命令：\u001b[96mzapbirds -zap -zapfile /home/pl/work/python-workspance/FAST_pulsar_search_pl/02_BIRDIES/j1631_FAST_pulsar_search_pl_DM00.00.zaplist /home/pl/work/python-workspance/FAST_pulsar_search_pl/03_barydata/j1631_FAST_pulsar_search_pl_bary_DM32.67.fft\u001b[0m\n",
      "程序运行路径为: /home/pl/work/python-workspance/FAST_pulsar_search_pl/03_barydata\n",
      "\u001b[94m运行时间： 0.0秒\u001b[0m\n",
      "日志文件为：/home/pl/work/python-workspance/FAST_pulsar_search_pl/LOG/04_ZAP/LOG_04-ZAP-32.71.txt\n",
      "运行命令：\u001b[96mzapbirds -zap -zapfile /home/pl/work/python-workspance/FAST_pulsar_search_pl/02_BIRDIES/j1631_FAST_pulsar_search_pl_DM00.00.zaplist /home/pl/work/python-workspance/FAST_pulsar_search_pl/03_barydata/j1631_FAST_pulsar_search_pl_bary_DM32.65.fft\u001b[0m\n",
      "\u001b[94m运行时间： 0.0秒\u001b[0m\n",
      "运行命令：\u001b[96mzapbirds -zap -zapfile /home/pl/work/python-workspance/FAST_pulsar_search_pl/02_BIRDIES/j1631_FAST_pulsar_search_pl_DM00.00.zaplist /home/pl/work/python-workspance/FAST_pulsar_search_pl/03_barydata/j1631_FAST_pulsar_search_pl_bary_DM32.70.fft\u001b[0m\n",
      "\u001b[94m运行时间： 0.0秒\u001b[0m\n",
      "运行命令：\u001b[96mzapbirds -zap -zapfile /home/pl/work/python-workspance/FAST_pulsar_search_pl/02_BIRDIES/j1631_FAST_pulsar_search_pl_DM00.00.zaplist /home/pl/work/python-workspance/FAST_pulsar_search_pl/03_barydata/j1631_FAST_pulsar_search_pl_bary_DM32.71.fft\u001b[0m\n",
      "\u001b[94m运行时间： 0.0秒\u001b[0m\n"
     ]
    },
    {
     "name": "stderr",
     "output_type": "stream",
     "text": [
      "zap-8核:  22%|██▏       | 65/300 [00:18<01:00,  3.91cmd/s]"
     ]
    },
    {
     "name": "stdout",
     "output_type": "stream",
     "text": [
      "程序运行路径为: /home/pl/work/python-workspance/FAST_pulsar_search_pl/03_barydata\n",
      "日志文件为：/home/pl/work/python-workspance/FAST_pulsar_search_pl/LOG/04_ZAP/LOG_04-ZAP-32.72.txt\n",
      "运行命令：\u001b[96mzapbirds -zap -zapfile /home/pl/work/python-workspance/FAST_pulsar_search_pl/02_BIRDIES/j1631_FAST_pulsar_search_pl_DM00.00.zaplist /home/pl/work/python-workspance/FAST_pulsar_search_pl/03_barydata/j1631_FAST_pulsar_search_pl_bary_DM32.72.fft\u001b[0m\n",
      "\u001b[94m运行时间： 0.0秒\u001b[0m\n",
      "程序运行路径为: /home/pl/work/python-workspance/FAST_pulsar_search_pl/03_barydata\n",
      "日志文件为：/home/pl/work/python-workspance/FAST_pulsar_search_pl/LOG/04_ZAP/LOG_04-ZAP-32.73.txt\n",
      "运行命令：\u001b[96mzapbirds -zap -zapfile /home/pl/work/python-workspance/FAST_pulsar_search_pl/02_BIRDIES/j1631_FAST_pulsar_search_pl_DM00.00.zaplist /home/pl/work/python-workspance/FAST_pulsar_search_pl/03_barydata/j1631_FAST_pulsar_search_pl_bary_DM32.73.fft\u001b[0m\n",
      "\u001b[94m运行时间： 0.0秒\u001b[0m\n",
      "程序运行路径为: /home/pl/work/python-workspance/FAST_pulsar_search_pl/03_barydata\n",
      "程序运行路径为: /home/pl/work/python-workspance/FAST_pulsar_search_pl/03_barydata\n",
      "程序运行路径为: /home/pl/work/python-workspance/FAST_pulsar_search_pl/03_barydata\n",
      "日志文件为：/home/pl/work/python-workspance/FAST_pulsar_search_pl/LOG/04_ZAP/LOG_04-ZAP-32.74.txt\n",
      "日志文件为：/home/pl/work/python-workspance/FAST_pulsar_search_pl/LOG/04_ZAP/LOG_04-ZAP-32.75.txt\n",
      "日志文件为：/home/pl/work/python-workspance/FAST_pulsar_search_pl/LOG/04_ZAP/LOG_04-ZAP-32.76.txt\n",
      "程序运行路径为: /home/pl/work/python-workspance/FAST_pulsar_search_pl/03_barydata\n",
      "程序运行路径为: /home/pl/work/python-workspance/FAST_pulsar_search_pl/03_barydata\n",
      "运行命令：\u001b[96mzapbirds -zap -zapfile /home/pl/work/python-workspance/FAST_pulsar_search_pl/02_BIRDIES/j1631_FAST_pulsar_search_pl_DM00.00.zaplist /home/pl/work/python-workspance/FAST_pulsar_search_pl/03_barydata/j1631_FAST_pulsar_search_pl_bary_DM32.76.fft\u001b[0m\n",
      "日志文件为：/home/pl/work/python-workspance/FAST_pulsar_search_pl/LOG/04_ZAP/LOG_04-ZAP-32.77.txt\n",
      "日志文件为：/home/pl/work/python-workspance/FAST_pulsar_search_pl/LOG/04_ZAP/LOG_04-ZAP-32.78.txt\n",
      "\u001b[94m运行时间： 0.0秒\u001b[0m\n",
      "程序运行路径为: /home/pl/work/python-workspance/FAST_pulsar_search_pl/03_barydata\n",
      "日志文件为：/home/pl/work/python-workspance/FAST_pulsar_search_pl/LOG/04_ZAP/LOG_04-ZAP-32.79.txt\n",
      "运行命令：\u001b[96mzapbirds -zap -zapfile /home/pl/work/python-workspance/FAST_pulsar_search_pl/02_BIRDIES/j1631_FAST_pulsar_search_pl_DM00.00.zaplist /home/pl/work/python-workspance/FAST_pulsar_search_pl/03_barydata/j1631_FAST_pulsar_search_pl_bary_DM32.77.fft\u001b[0m\n",
      "\u001b[94m运行时间： 0.0秒\u001b[0m\n",
      "运行命令：\u001b[96mzapbirds -zap -zapfile /home/pl/work/python-workspance/FAST_pulsar_search_pl/02_BIRDIES/j1631_FAST_pulsar_search_pl_DM00.00.zaplist /home/pl/work/python-workspance/FAST_pulsar_search_pl/03_barydata/j1631_FAST_pulsar_search_pl_bary_DM32.75.fft\u001b[0m\n",
      "运行命令：\u001b[96mzapbirds -zap -zapfile /home/pl/work/python-workspance/FAST_pulsar_search_pl/02_BIRDIES/j1631_FAST_pulsar_search_pl_DM00.00.zaplist /home/pl/work/python-workspance/FAST_pulsar_search_pl/03_barydata/j1631_FAST_pulsar_search_pl_bary_DM32.78.fft\u001b[0m\n",
      "运行命令：\u001b[96mzapbirds -zap -zapfile /home/pl/work/python-workspance/FAST_pulsar_search_pl/02_BIRDIES/j1631_FAST_pulsar_search_pl_DM00.00.zaplist /home/pl/work/python-workspance/FAST_pulsar_search_pl/03_barydata/j1631_FAST_pulsar_search_pl_bary_DM32.79.fft\u001b[0m\n",
      "运行命令：\u001b[96mzapbirds -zap -zapfile /home/pl/work/python-workspance/FAST_pulsar_search_pl/02_BIRDIES/j1631_FAST_pulsar_search_pl_DM00.00.zaplist /home/pl/work/python-workspance/FAST_pulsar_search_pl/03_barydata/j1631_FAST_pulsar_search_pl_bary_DM32.74.fft\u001b[0m\n",
      "\u001b[94m运行时间： 0.0秒\u001b[0m\n",
      "\u001b[94m运行时间： 0.0秒\u001b[0m\n",
      "\u001b[94m运行时间： 0.0秒\u001b[0m\n",
      "\u001b[94m运行时间： 0.0秒\u001b[0m\n"
     ]
    },
    {
     "name": "stderr",
     "output_type": "stream",
     "text": [
      "zap-8核:  24%|██▍       | 73/300 [00:20<00:57,  3.93cmd/s]"
     ]
    },
    {
     "name": "stdout",
     "output_type": "stream",
     "text": [
      "程序运行路径为: /home/pl/work/python-workspance/FAST_pulsar_search_pl/03_barydata\n",
      "日志文件为：/home/pl/work/python-workspance/FAST_pulsar_search_pl/LOG/04_ZAP/LOG_04-ZAP-32.80.txt\n",
      "运行命令：\u001b[96mzapbirds -zap -zapfile /home/pl/work/python-workspance/FAST_pulsar_search_pl/02_BIRDIES/j1631_FAST_pulsar_search_pl_DM00.00.zaplist /home/pl/work/python-workspance/FAST_pulsar_search_pl/03_barydata/j1631_FAST_pulsar_search_pl_bary_DM32.80.fft\u001b[0m\n",
      "程序运行路径为: /home/pl/work/python-workspance/FAST_pulsar_search_pl/03_barydata\n",
      "\u001b[94m运行时间： 0.0秒\u001b[0m\n",
      "日志文件为：/home/pl/work/python-workspance/FAST_pulsar_search_pl/LOG/04_ZAP/LOG_04-ZAP-32.81.txt\n",
      "运行命令：\u001b[96mzapbirds -zap -zapfile /home/pl/work/python-workspance/FAST_pulsar_search_pl/02_BIRDIES/j1631_FAST_pulsar_search_pl_DM00.00.zaplist /home/pl/work/python-workspance/FAST_pulsar_search_pl/03_barydata/j1631_FAST_pulsar_search_pl_bary_DM32.81.fft\u001b[0m\n",
      "\u001b[94m运行时间： 0.0秒\u001b[0m\n",
      "程序运行路径为: /home/pl/work/python-workspance/FAST_pulsar_search_pl/03_barydata\n",
      "日志文件为：/home/pl/work/python-workspance/FAST_pulsar_search_pl/LOG/04_ZAP/LOG_04-ZAP-32.82.txt\n",
      "程序运行路径为: /home/pl/work/python-workspance/FAST_pulsar_search_pl/03_barydata\n",
      "日志文件为：/home/pl/work/python-workspance/FAST_pulsar_search_pl/LOG/04_ZAP/LOG_04-ZAP-32.83.txt\n",
      "运行命令：\u001b[96mzapbirds -zap -zapfile /home/pl/work/python-workspance/FAST_pulsar_search_pl/02_BIRDIES/j1631_FAST_pulsar_search_pl_DM00.00.zaplist /home/pl/work/python-workspance/FAST_pulsar_search_pl/03_barydata/j1631_FAST_pulsar_search_pl_bary_DM32.82.fft\u001b[0m\n",
      "\u001b[94m运行时间： 0.0秒\u001b[0m\n",
      "运行命令：\u001b[96mzapbirds -zap -zapfile /home/pl/work/python-workspance/FAST_pulsar_search_pl/02_BIRDIES/j1631_FAST_pulsar_search_pl_DM00.00.zaplist /home/pl/work/python-workspance/FAST_pulsar_search_pl/03_barydata/j1631_FAST_pulsar_search_pl_bary_DM32.83.fft\u001b[0m\n",
      "\u001b[94m运行时间： 0.0秒\u001b[0m\n"
     ]
    },
    {
     "name": "stderr",
     "output_type": "stream",
     "text": [
      "zap-8核:  26%|██▌       | 77/300 [00:20<00:47,  4.65cmd/s]"
     ]
    },
    {
     "name": "stdout",
     "output_type": "stream",
     "text": [
      "程序运行路径为: /home/pl/work/python-workspance/FAST_pulsar_search_pl/03_barydata\n",
      "程序运行路径为: /home/pl/work/python-workspance/FAST_pulsar_search_pl/03_barydata\n",
      "程序运行路径为: /home/pl/work/python-workspance/FAST_pulsar_search_pl/03_barydata\n",
      "程序运行路径为: /home/pl/work/python-workspance/FAST_pulsar_search_pl/03_barydata\n",
      "日志文件为：/home/pl/work/python-workspance/FAST_pulsar_search_pl/LOG/04_ZAP/LOG_04-ZAP-32.84.txt\n",
      "日志文件为：/home/pl/work/python-workspance/FAST_pulsar_search_pl/LOG/04_ZAP/LOG_04-ZAP-32.86.txt\n",
      "日志文件为：/home/pl/work/python-workspance/FAST_pulsar_search_pl/LOG/04_ZAP/LOG_04-ZAP-32.85.txt\n",
      "日志文件为：/home/pl/work/python-workspance/FAST_pulsar_search_pl/LOG/04_ZAP/LOG_04-ZAP-32.87.txt\n",
      "运行命令：\u001b[96mzapbirds -zap -zapfile /home/pl/work/python-workspance/FAST_pulsar_search_pl/02_BIRDIES/j1631_FAST_pulsar_search_pl_DM00.00.zaplist /home/pl/work/python-workspance/FAST_pulsar_search_pl/03_barydata/j1631_FAST_pulsar_search_pl_bary_DM32.85.fft\u001b[0m\n",
      "运行命令：\u001b[96mzapbirds -zap -zapfile /home/pl/work/python-workspance/FAST_pulsar_search_pl/02_BIRDIES/j1631_FAST_pulsar_search_pl_DM00.00.zaplist /home/pl/work/python-workspance/FAST_pulsar_search_pl/03_barydata/j1631_FAST_pulsar_search_pl_bary_DM32.84.fft\u001b[0m\n",
      "\u001b[94m运行时间： 0.0秒\u001b[0m\n",
      "运行命令：\u001b[96mzapbirds -zap -zapfile /home/pl/work/python-workspance/FAST_pulsar_search_pl/02_BIRDIES/j1631_FAST_pulsar_search_pl_DM00.00.zaplist /home/pl/work/python-workspance/FAST_pulsar_search_pl/03_barydata/j1631_FAST_pulsar_search_pl_bary_DM32.87.fft\u001b[0m\n",
      "\u001b[94m运行时间： 0.0秒\u001b[0m\n",
      "运行命令：\u001b[96mzapbirds -zap -zapfile /home/pl/work/python-workspance/FAST_pulsar_search_pl/02_BIRDIES/j1631_FAST_pulsar_search_pl_DM00.00.zaplist /home/pl/work/python-workspance/FAST_pulsar_search_pl/03_barydata/j1631_FAST_pulsar_search_pl_bary_DM32.86.fft\u001b[0m\n",
      "\u001b[94m运行时间： 0.0秒\u001b[0m\n",
      "\u001b[94m运行时间： 0.0秒\u001b[0m\n"
     ]
    },
    {
     "name": "stderr",
     "output_type": "stream",
     "text": [
      "zap-8核:  27%|██▋       | 81/300 [00:22<00:58,  3.75cmd/s]"
     ]
    },
    {
     "name": "stdout",
     "output_type": "stream",
     "text": [
      "程序运行路径为: /home/pl/work/python-workspance/FAST_pulsar_search_pl/03_barydata\n",
      "日志文件为：/home/pl/work/python-workspance/FAST_pulsar_search_pl/LOG/04_ZAP/LOG_04-ZAP-32.88.txt\n",
      "运行命令：\u001b[96mzapbirds -zap -zapfile /home/pl/work/python-workspance/FAST_pulsar_search_pl/02_BIRDIES/j1631_FAST_pulsar_search_pl_DM00.00.zaplist /home/pl/work/python-workspance/FAST_pulsar_search_pl/03_barydata/j1631_FAST_pulsar_search_pl_bary_DM32.88.fft\u001b[0m\n",
      "\u001b[94m运行时间： 0.0秒\u001b[0m\n",
      "程序运行路径为: /home/pl/work/python-workspance/FAST_pulsar_search_pl/03_barydata\n",
      "日志文件为：/home/pl/work/python-workspance/FAST_pulsar_search_pl/LOG/04_ZAP/LOG_04-ZAP-32.89.txt\n",
      "运行命令：\u001b[96mzapbirds -zap -zapfile /home/pl/work/python-workspance/FAST_pulsar_search_pl/02_BIRDIES/j1631_FAST_pulsar_search_pl_DM00.00.zaplist /home/pl/work/python-workspance/FAST_pulsar_search_pl/03_barydata/j1631_FAST_pulsar_search_pl_bary_DM32.89.fft\u001b[0m\n",
      "\u001b[94m运行时间： 0.0秒\u001b[0m\n",
      "程序运行路径为: /home/pl/work/python-workspance/FAST_pulsar_search_pl/03_barydata\n",
      "日志文件为：/home/pl/work/python-workspance/FAST_pulsar_search_pl/LOG/04_ZAP/LOG_04-ZAP-32.90.txt\n",
      "程序运行路径为: /home/pl/work/python-workspance/FAST_pulsar_search_pl/03_barydata\n",
      "运行命令：\u001b[96mzapbirds -zap -zapfile /home/pl/work/python-workspance/FAST_pulsar_search_pl/02_BIRDIES/j1631_FAST_pulsar_search_pl_DM00.00.zaplist /home/pl/work/python-workspance/FAST_pulsar_search_pl/03_barydata/j1631_FAST_pulsar_search_pl_bary_DM32.90.fft\u001b[0m\n",
      "日志文件为：/home/pl/work/python-workspance/FAST_pulsar_search_pl/LOG/04_ZAP/LOG_04-ZAP-32.91.txt\n",
      "\u001b[94m运行时间： 0.0秒\u001b[0m\n",
      "运行命令：\u001b[96mzapbirds -zap -zapfile /home/pl/work/python-workspance/FAST_pulsar_search_pl/02_BIRDIES/j1631_FAST_pulsar_search_pl_DM00.00.zaplist /home/pl/work/python-workspance/FAST_pulsar_search_pl/03_barydata/j1631_FAST_pulsar_search_pl_bary_DM32.91.fft\u001b[0m\n",
      "\u001b[94m运行时间： 0.0秒\u001b[0m\n"
     ]
    },
    {
     "name": "stderr",
     "output_type": "stream",
     "text": [
      "zap-8核:  28%|██▊       | 85/300 [00:22<00:46,  4.66cmd/s]"
     ]
    },
    {
     "name": "stdout",
     "output_type": "stream",
     "text": [
      "程序运行路径为: /home/pl/work/python-workspance/FAST_pulsar_search_pl/03_barydata\n",
      "程序运行路径为: /home/pl/work/python-workspance/FAST_pulsar_search_pl/03_barydata\n",
      "日志文件为：/home/pl/work/python-workspance/FAST_pulsar_search_pl/LOG/04_ZAP/LOG_04-ZAP-32.92.txt\n",
      "程序运行路径为: /home/pl/work/python-workspance/FAST_pulsar_search_pl/03_barydata\n",
      "程序运行路径为: /home/pl/work/python-workspance/FAST_pulsar_search_pl/03_barydata\n",
      "日志文件为：/home/pl/work/python-workspance/FAST_pulsar_search_pl/LOG/04_ZAP/LOG_04-ZAP-32.93.txt\n",
      "日志文件为：/home/pl/work/python-workspance/FAST_pulsar_search_pl/LOG/04_ZAP/LOG_04-ZAP-32.94.txt\n",
      "日志文件为：/home/pl/work/python-workspance/FAST_pulsar_search_pl/LOG/04_ZAP/LOG_04-ZAP-32.95.txt\n",
      "运行命令：\u001b[96mzapbirds -zap -zapfile /home/pl/work/python-workspance/FAST_pulsar_search_pl/02_BIRDIES/j1631_FAST_pulsar_search_pl_DM00.00.zaplist /home/pl/work/python-workspance/FAST_pulsar_search_pl/03_barydata/j1631_FAST_pulsar_search_pl_bary_DM32.94.fft\u001b[0m\n",
      "运行命令：\u001b[96mzapbirds -zap -zapfile /home/pl/work/python-workspance/FAST_pulsar_search_pl/02_BIRDIES/j1631_FAST_pulsar_search_pl_DM00.00.zaplist /home/pl/work/python-workspance/FAST_pulsar_search_pl/03_barydata/j1631_FAST_pulsar_search_pl_bary_DM32.92.fft\u001b[0m\n",
      "运行命令：\u001b[96mzapbirds -zap -zapfile /home/pl/work/python-workspance/FAST_pulsar_search_pl/02_BIRDIES/j1631_FAST_pulsar_search_pl_DM00.00.zaplist /home/pl/work/python-workspance/FAST_pulsar_search_pl/03_barydata/j1631_FAST_pulsar_search_pl_bary_DM32.93.fft\u001b[0m\n",
      "\u001b[94m运行时间： 0.0秒\u001b[0m\n",
      "\u001b[94m运行时间： 0.0秒\u001b[0m\n",
      "\u001b[94m运行时间： 0.0秒\u001b[0m\n",
      "运行命令：\u001b[96mzapbirds -zap -zapfile /home/pl/work/python-workspance/FAST_pulsar_search_pl/02_BIRDIES/j1631_FAST_pulsar_search_pl_DM00.00.zaplist /home/pl/work/python-workspance/FAST_pulsar_search_pl/03_barydata/j1631_FAST_pulsar_search_pl_bary_DM32.95.fft\u001b[0m\n",
      "\u001b[94m运行时间： 0.0秒\u001b[0m\n"
     ]
    },
    {
     "name": "stderr",
     "output_type": "stream",
     "text": [
      "zap-8核:  30%|██▉       | 89/300 [00:24<00:58,  3.62cmd/s]"
     ]
    },
    {
     "name": "stdout",
     "output_type": "stream",
     "text": [
      "程序运行路径为: /home/pl/work/python-workspance/FAST_pulsar_search_pl/03_barydata\n",
      "日志文件为：/home/pl/work/python-workspance/FAST_pulsar_search_pl/LOG/04_ZAP/LOG_04-ZAP-32.96.txt\n",
      "运行命令：\u001b[96mzapbirds -zap -zapfile /home/pl/work/python-workspance/FAST_pulsar_search_pl/02_BIRDIES/j1631_FAST_pulsar_search_pl_DM00.00.zaplist /home/pl/work/python-workspance/FAST_pulsar_search_pl/03_barydata/j1631_FAST_pulsar_search_pl_bary_DM32.96.fft\u001b[0m\n",
      "\u001b[94m运行时间： 0.0秒\u001b[0m\n",
      "程序运行路径为: /home/pl/work/python-workspance/FAST_pulsar_search_pl/03_barydata\n",
      "日志文件为：/home/pl/work/python-workspance/FAST_pulsar_search_pl/LOG/04_ZAP/LOG_04-ZAP-32.97.txt\n",
      "运行命令：\u001b[96mzapbirds -zap -zapfile /home/pl/work/python-workspance/FAST_pulsar_search_pl/02_BIRDIES/j1631_FAST_pulsar_search_pl_DM00.00.zaplist /home/pl/work/python-workspance/FAST_pulsar_search_pl/03_barydata/j1631_FAST_pulsar_search_pl_bary_DM32.97.fft\u001b[0m\n",
      "\u001b[94m运行时间： 0.0秒\u001b[0m\n",
      "程序运行路径为: /home/pl/work/python-workspance/FAST_pulsar_search_pl/03_barydata\n",
      "日志文件为：/home/pl/work/python-workspance/FAST_pulsar_search_pl/LOG/04_ZAP/LOG_04-ZAP-32.98.txt\n",
      "运行命令：\u001b[96mzapbirds -zap -zapfile /home/pl/work/python-workspance/FAST_pulsar_search_pl/02_BIRDIES/j1631_FAST_pulsar_search_pl_DM00.00.zaplist /home/pl/work/python-workspance/FAST_pulsar_search_pl/03_barydata/j1631_FAST_pulsar_search_pl_bary_DM32.98.fft\u001b[0m\n",
      "程序运行路径为: /home/pl/work/python-workspance/FAST_pulsar_search_pl/03_barydata\n",
      "日志文件为：/home/pl/work/python-workspance/FAST_pulsar_search_pl/LOG/04_ZAP/LOG_04-ZAP-32.99.txt\n",
      "\u001b[94m运行时间： 0.0秒\u001b[0m\n",
      "运行命令：\u001b[96mzapbirds -zap -zapfile /home/pl/work/python-workspance/FAST_pulsar_search_pl/02_BIRDIES/j1631_FAST_pulsar_search_pl_DM00.00.zaplist /home/pl/work/python-workspance/FAST_pulsar_search_pl/03_barydata/j1631_FAST_pulsar_search_pl_bary_DM32.99.fft\u001b[0m\n",
      "\u001b[94m运行时间： 0.0秒\u001b[0m\n"
     ]
    },
    {
     "name": "stderr",
     "output_type": "stream",
     "text": [
      "zap-8核:  31%|███       | 93/300 [00:24<00:44,  4.67cmd/s]"
     ]
    },
    {
     "name": "stdout",
     "output_type": "stream",
     "text": [
      "程序运行路径为: /home/pl/work/python-workspance/FAST_pulsar_search_pl/03_barydata\n",
      "程序运行路径为: /home/pl/work/python-workspance/FAST_pulsar_search_pl/03_barydata\n",
      "程序运行路径为: /home/pl/work/python-workspance/FAST_pulsar_search_pl/03_barydata\n",
      "日志文件为：/home/pl/work/python-workspance/FAST_pulsar_search_pl/LOG/04_ZAP/LOG_04-ZAP-33.00.txt\n",
      "程序运行路径为: /home/pl/work/python-workspance/FAST_pulsar_search_pl/03_barydata\n",
      "日志文件为：/home/pl/work/python-workspance/FAST_pulsar_search_pl/LOG/04_ZAP/LOG_04-ZAP-33.01.txt\n",
      "日志文件为：/home/pl/work/python-workspance/FAST_pulsar_search_pl/LOG/04_ZAP/LOG_04-ZAP-33.02.txt\n",
      "日志文件为：/home/pl/work/python-workspance/FAST_pulsar_search_pl/LOG/04_ZAP/LOG_04-ZAP-33.03.txt\n",
      "运行命令：\u001b[96mzapbirds -zap -zapfile /home/pl/work/python-workspance/FAST_pulsar_search_pl/02_BIRDIES/j1631_FAST_pulsar_search_pl_DM00.00.zaplist /home/pl/work/python-workspance/FAST_pulsar_search_pl/03_barydata/j1631_FAST_pulsar_search_pl_bary_DM33.00.fft\u001b[0m\n",
      "运行命令：\u001b[96mzapbirds -zap -zapfile /home/pl/work/python-workspance/FAST_pulsar_search_pl/02_BIRDIES/j1631_FAST_pulsar_search_pl_DM00.00.zaplist /home/pl/work/python-workspance/FAST_pulsar_search_pl/03_barydata/j1631_FAST_pulsar_search_pl_bary_DM33.01.fft\u001b[0m\n",
      "\u001b[94m运行时间： 0.0秒\u001b[0m\n",
      "\u001b[94m运行时间： 0.0秒\u001b[0m\n",
      "运行命令：\u001b[96mzapbirds -zap -zapfile /home/pl/work/python-workspance/FAST_pulsar_search_pl/02_BIRDIES/j1631_FAST_pulsar_search_pl_DM00.00.zaplist /home/pl/work/python-workspance/FAST_pulsar_search_pl/03_barydata/j1631_FAST_pulsar_search_pl_bary_DM33.03.fft\u001b[0m\n",
      "运行命令：\u001b[96mzapbirds -zap -zapfile /home/pl/work/python-workspance/FAST_pulsar_search_pl/02_BIRDIES/j1631_FAST_pulsar_search_pl_DM00.00.zaplist /home/pl/work/python-workspance/FAST_pulsar_search_pl/03_barydata/j1631_FAST_pulsar_search_pl_bary_DM33.02.fft\u001b[0m\n",
      "\u001b[94m运行时间： 0.0秒\u001b[0m\n",
      "\u001b[94m运行时间： 0.0秒\u001b[0m\n"
     ]
    },
    {
     "name": "stderr",
     "output_type": "stream",
     "text": [
      "zap-8核:  32%|███▏      | 97/300 [00:26<00:57,  3.54cmd/s]"
     ]
    },
    {
     "name": "stdout",
     "output_type": "stream",
     "text": [
      "程序运行路径为: /home/pl/work/python-workspance/FAST_pulsar_search_pl/03_barydata\n",
      "日志文件为：/home/pl/work/python-workspance/FAST_pulsar_search_pl/LOG/04_ZAP/LOG_04-ZAP-33.04.txt\n",
      "运行命令：\u001b[96mzapbirds -zap -zapfile /home/pl/work/python-workspance/FAST_pulsar_search_pl/02_BIRDIES/j1631_FAST_pulsar_search_pl_DM00.00.zaplist /home/pl/work/python-workspance/FAST_pulsar_search_pl/03_barydata/j1631_FAST_pulsar_search_pl_bary_DM33.04.fft\u001b[0m\n",
      "\u001b[94m运行时间： 0.0秒\u001b[0m\n",
      "程序运行路径为: /home/pl/work/python-workspance/FAST_pulsar_search_pl/03_barydata\n",
      "日志文件为：/home/pl/work/python-workspance/FAST_pulsar_search_pl/LOG/04_ZAP/LOG_04-ZAP-33.05.txt\n",
      "运行命令：\u001b[96mzapbirds -zap -zapfile /home/pl/work/python-workspance/FAST_pulsar_search_pl/02_BIRDIES/j1631_FAST_pulsar_search_pl_DM00.00.zaplist /home/pl/work/python-workspance/FAST_pulsar_search_pl/03_barydata/j1631_FAST_pulsar_search_pl_bary_DM33.05.fft\u001b[0m\n",
      "\u001b[94m运行时间： 0.0秒\u001b[0m\n",
      "程序运行路径为: /home/pl/work/python-workspance/FAST_pulsar_search_pl/03_barydata\n",
      "日志文件为：/home/pl/work/python-workspance/FAST_pulsar_search_pl/LOG/04_ZAP/LOG_04-ZAP-33.06.txt\n",
      "程序运行路径为: /home/pl/work/python-workspance/FAST_pulsar_search_pl/03_barydata\n",
      "日志文件为：/home/pl/work/python-workspance/FAST_pulsar_search_pl/LOG/04_ZAP/LOG_04-ZAP-33.07.txt\n",
      "运行命令：\u001b[96mzapbirds -zap -zapfile /home/pl/work/python-workspance/FAST_pulsar_search_pl/02_BIRDIES/j1631_FAST_pulsar_search_pl_DM00.00.zaplist /home/pl/work/python-workspance/FAST_pulsar_search_pl/03_barydata/j1631_FAST_pulsar_search_pl_bary_DM33.07.fft\u001b[0m\n",
      "\u001b[94m运行时间： 0.0秒\u001b[0m\n",
      "运行命令：\u001b[96mzapbirds -zap -zapfile /home/pl/work/python-workspance/FAST_pulsar_search_pl/02_BIRDIES/j1631_FAST_pulsar_search_pl_DM00.00.zaplist /home/pl/work/python-workspance/FAST_pulsar_search_pl/03_barydata/j1631_FAST_pulsar_search_pl_bary_DM33.06.fft\u001b[0m\n",
      "\u001b[94m运行时间： 0.0秒\u001b[0m\n"
     ]
    },
    {
     "name": "stderr",
     "output_type": "stream",
     "text": [
      "zap-8核:  34%|███▎      | 101/300 [00:26<00:42,  4.67cmd/s]"
     ]
    },
    {
     "name": "stdout",
     "output_type": "stream",
     "text": [
      "程序运行路径为: /home/pl/work/python-workspance/FAST_pulsar_search_pl/03_barydata\n",
      "程序运行路径为: /home/pl/work/python-workspance/FAST_pulsar_search_pl/03_barydata\n",
      "日志文件为：/home/pl/work/python-workspance/FAST_pulsar_search_pl/LOG/04_ZAP/LOG_04-ZAP-33.08.txt\n",
      "日志文件为：/home/pl/work/python-workspance/FAST_pulsar_search_pl/LOG/04_ZAP/LOG_04-ZAP-33.09.txt\n",
      "程序运行路径为: /home/pl/work/python-workspance/FAST_pulsar_search_pl/03_barydata\n",
      "程序运行路径为: /home/pl/work/python-workspance/FAST_pulsar_search_pl/03_barydata\n",
      "日志文件为：/home/pl/work/python-workspance/FAST_pulsar_search_pl/LOG/04_ZAP/LOG_04-ZAP-33.10.txt\n",
      "日志文件为：/home/pl/work/python-workspance/FAST_pulsar_search_pl/LOG/04_ZAP/LOG_04-ZAP-33.11.txt\n",
      "运行命令：\u001b[96mzapbirds -zap -zapfile /home/pl/work/python-workspance/FAST_pulsar_search_pl/02_BIRDIES/j1631_FAST_pulsar_search_pl_DM00.00.zaplist /home/pl/work/python-workspance/FAST_pulsar_search_pl/03_barydata/j1631_FAST_pulsar_search_pl_bary_DM33.09.fft\u001b[0m\n",
      "\u001b[94m运行时间： 0.0秒\u001b[0m\n",
      "运行命令：\u001b[96mzapbirds -zap -zapfile /home/pl/work/python-workspance/FAST_pulsar_search_pl/02_BIRDIES/j1631_FAST_pulsar_search_pl_DM00.00.zaplist /home/pl/work/python-workspance/FAST_pulsar_search_pl/03_barydata/j1631_FAST_pulsar_search_pl_bary_DM33.10.fft\u001b[0m\n",
      "运行命令：\u001b[96mzapbirds -zap -zapfile /home/pl/work/python-workspance/FAST_pulsar_search_pl/02_BIRDIES/j1631_FAST_pulsar_search_pl_DM00.00.zaplist /home/pl/work/python-workspance/FAST_pulsar_search_pl/03_barydata/j1631_FAST_pulsar_search_pl_bary_DM33.08.fft\u001b[0m\n",
      "运行命令：\u001b[96mzapbirds -zap -zapfile /home/pl/work/python-workspance/FAST_pulsar_search_pl/02_BIRDIES/j1631_FAST_pulsar_search_pl_DM00.00.zaplist /home/pl/work/python-workspance/FAST_pulsar_search_pl/03_barydata/j1631_FAST_pulsar_search_pl_bary_DM33.11.fft\u001b[0m\n",
      "\u001b[94m运行时间： 0.0秒\u001b[0m\n",
      "\u001b[94m运行时间： 0.0秒\u001b[0m\n",
      "\u001b[94m运行时间： 0.0秒\u001b[0m\n"
     ]
    },
    {
     "name": "stderr",
     "output_type": "stream",
     "text": [
      "zap-8核:  35%|███▌      | 105/300 [00:28<00:55,  3.50cmd/s]"
     ]
    },
    {
     "name": "stdout",
     "output_type": "stream",
     "text": [
      "程序运行路径为: /home/pl/work/python-workspance/FAST_pulsar_search_pl/03_barydata\n",
      "日志文件为：/home/pl/work/python-workspance/FAST_pulsar_search_pl/LOG/04_ZAP/LOG_04-ZAP-33.12.txt\n",
      "运行命令：\u001b[96mzapbirds -zap -zapfile /home/pl/work/python-workspance/FAST_pulsar_search_pl/02_BIRDIES/j1631_FAST_pulsar_search_pl_DM00.00.zaplist /home/pl/work/python-workspance/FAST_pulsar_search_pl/03_barydata/j1631_FAST_pulsar_search_pl_bary_DM33.12.fft\u001b[0m\n",
      "\u001b[94m运行时间： 0.0秒\u001b[0m\n",
      "程序运行路径为: /home/pl/work/python-workspance/FAST_pulsar_search_pl/03_barydata\n",
      "日志文件为：/home/pl/work/python-workspance/FAST_pulsar_search_pl/LOG/04_ZAP/LOG_04-ZAP-33.13.txt\n",
      "运行命令：\u001b[96mzapbirds -zap -zapfile /home/pl/work/python-workspance/FAST_pulsar_search_pl/02_BIRDIES/j1631_FAST_pulsar_search_pl_DM00.00.zaplist /home/pl/work/python-workspance/FAST_pulsar_search_pl/03_barydata/j1631_FAST_pulsar_search_pl_bary_DM33.13.fft\u001b[0m\n",
      "\u001b[94m运行时间： 0.0秒\u001b[0m\n",
      "程序运行路径为: /home/pl/work/python-workspance/FAST_pulsar_search_pl/03_barydata\n",
      "日志文件为：/home/pl/work/python-workspance/FAST_pulsar_search_pl/LOG/04_ZAP/LOG_04-ZAP-33.14.txt\n",
      "运行命令：\u001b[96mzapbirds -zap -zapfile /home/pl/work/python-workspance/FAST_pulsar_search_pl/02_BIRDIES/j1631_FAST_pulsar_search_pl_DM00.00.zaplist /home/pl/work/python-workspance/FAST_pulsar_search_pl/03_barydata/j1631_FAST_pulsar_search_pl_bary_DM33.14.fft\u001b[0m\n",
      "\u001b[94m运行时间： 0.0秒\u001b[0m\n"
     ]
    },
    {
     "name": "stderr",
     "output_type": "stream",
     "text": [
      "zap-8核:  36%|███▌      | 108/300 [00:28<00:43,  4.40cmd/s]"
     ]
    },
    {
     "name": "stdout",
     "output_type": "stream",
     "text": [
      "程序运行路径为: /home/pl/work/python-workspance/FAST_pulsar_search_pl/03_barydata\n",
      "日志文件为：/home/pl/work/python-workspance/FAST_pulsar_search_pl/LOG/04_ZAP/LOG_04-ZAP-33.15.txt\n",
      "运行命令：\u001b[96mzapbirds -zap -zapfile /home/pl/work/python-workspance/FAST_pulsar_search_pl/02_BIRDIES/j1631_FAST_pulsar_search_pl_DM00.00.zaplist /home/pl/work/python-workspance/FAST_pulsar_search_pl/03_barydata/j1631_FAST_pulsar_search_pl_bary_DM33.15.fft\u001b[0m\n",
      "\u001b[94m运行时间： 0.0秒\u001b[0m\n",
      "程序运行路径为: /home/pl/work/python-workspance/FAST_pulsar_search_pl/03_barydata\n",
      "日志文件为：/home/pl/work/python-workspance/FAST_pulsar_search_pl/LOG/04_ZAP/LOG_04-ZAP-33.16.txt\n",
      "程序运行路径为: /home/pl/work/python-workspance/FAST_pulsar_search_pl/03_barydata\n",
      "程序运行路径为: /home/pl/work/python-workspance/FAST_pulsar_search_pl/03_barydata\n",
      "日志文件为：/home/pl/work/python-workspance/FAST_pulsar_search_pl/LOG/04_ZAP/LOG_04-ZAP-33.17.txt\n",
      "日志文件为：/home/pl/work/python-workspance/FAST_pulsar_search_pl/LOG/04_ZAP/LOG_04-ZAP-33.18.txt\n",
      "程序运行路径为: /home/pl/work/python-workspance/FAST_pulsar_search_pl/03_barydata\n",
      "日志文件为：/home/pl/work/python-workspance/FAST_pulsar_search_pl/LOG/04_ZAP/LOG_04-ZAP-33.19.txt\n",
      "运行命令：\u001b[96mzapbirds -zap -zapfile /home/pl/work/python-workspance/FAST_pulsar_search_pl/02_BIRDIES/j1631_FAST_pulsar_search_pl_DM00.00.zaplist /home/pl/work/python-workspance/FAST_pulsar_search_pl/03_barydata/j1631_FAST_pulsar_search_pl_bary_DM33.16.fft\u001b[0m\n",
      "运行命令：\u001b[96mzapbirds -zap -zapfile /home/pl/work/python-workspance/FAST_pulsar_search_pl/02_BIRDIES/j1631_FAST_pulsar_search_pl_DM00.00.zaplist /home/pl/work/python-workspance/FAST_pulsar_search_pl/03_barydata/j1631_FAST_pulsar_search_pl_bary_DM33.17.fft\u001b[0m\n",
      "\u001b[94m运行时间： 0.0秒\u001b[0m\n",
      "运行命令：\u001b[96mzapbirds -zap -zapfile /home/pl/work/python-workspance/FAST_pulsar_search_pl/02_BIRDIES/j1631_FAST_pulsar_search_pl_DM00.00.zaplist /home/pl/work/python-workspance/FAST_pulsar_search_pl/03_barydata/j1631_FAST_pulsar_search_pl_bary_DM33.18.fft\u001b[0m\n",
      "\u001b[94m运行时间： 0.0秒\u001b[0m\n",
      "\u001b[94m运行时间： 0.0秒\u001b[0m\n",
      "运行命令：\u001b[96mzapbirds -zap -zapfile /home/pl/work/python-workspance/FAST_pulsar_search_pl/02_BIRDIES/j1631_FAST_pulsar_search_pl_DM00.00.zaplist /home/pl/work/python-workspance/FAST_pulsar_search_pl/03_barydata/j1631_FAST_pulsar_search_pl_bary_DM33.19.fft\u001b[0m\n",
      "\u001b[94m运行时间： 0.0秒\u001b[0m\n"
     ]
    },
    {
     "name": "stderr",
     "output_type": "stream",
     "text": [
      "zap-8核:  38%|███▊      | 113/300 [00:30<00:52,  3.54cmd/s]"
     ]
    },
    {
     "name": "stdout",
     "output_type": "stream",
     "text": [
      "程序运行路径为: /home/pl/work/python-workspance/FAST_pulsar_search_pl/03_barydata\n",
      "日志文件为：/home/pl/work/python-workspance/FAST_pulsar_search_pl/LOG/04_ZAP/LOG_04-ZAP-33.20.txt\n",
      "运行命令：\u001b[96mzapbirds -zap -zapfile /home/pl/work/python-workspance/FAST_pulsar_search_pl/02_BIRDIES/j1631_FAST_pulsar_search_pl_DM00.00.zaplist /home/pl/work/python-workspance/FAST_pulsar_search_pl/03_barydata/j1631_FAST_pulsar_search_pl_bary_DM33.20.fft\u001b[0m\n",
      "\u001b[94m运行时间： 0.0秒\u001b[0m\n",
      "程序运行路径为: /home/pl/work/python-workspance/FAST_pulsar_search_pl/03_barydata\n",
      "日志文件为：/home/pl/work/python-workspance/FAST_pulsar_search_pl/LOG/04_ZAP/LOG_04-ZAP-33.21.txt\n",
      "运行命令：\u001b[96mzapbirds -zap -zapfile /home/pl/work/python-workspance/FAST_pulsar_search_pl/02_BIRDIES/j1631_FAST_pulsar_search_pl_DM00.00.zaplist /home/pl/work/python-workspance/FAST_pulsar_search_pl/03_barydata/j1631_FAST_pulsar_search_pl_bary_DM33.21.fft\u001b[0m\n",
      "\u001b[94m运行时间： 0.0秒\u001b[0m\n",
      "程序运行路径为: /home/pl/work/python-workspance/FAST_pulsar_search_pl/03_barydata\n",
      "日志文件为：/home/pl/work/python-workspance/FAST_pulsar_search_pl/LOG/04_ZAP/LOG_04-ZAP-33.22.txt\n",
      "运行命令：\u001b[96mzapbirds -zap -zapfile /home/pl/work/python-workspance/FAST_pulsar_search_pl/02_BIRDIES/j1631_FAST_pulsar_search_pl_DM00.00.zaplist /home/pl/work/python-workspance/FAST_pulsar_search_pl/03_barydata/j1631_FAST_pulsar_search_pl_bary_DM33.22.fft\u001b[0m\n",
      "\u001b[94m运行时间： 0.0秒\u001b[0m\n"
     ]
    },
    {
     "name": "stderr",
     "output_type": "stream",
     "text": [
      "zap-8核:  39%|███▊      | 116/300 [00:30<00:41,  4.46cmd/s]"
     ]
    },
    {
     "name": "stdout",
     "output_type": "stream",
     "text": [
      "程序运行路径为: /home/pl/work/python-workspance/FAST_pulsar_search_pl/03_barydata\n",
      "日志文件为：/home/pl/work/python-workspance/FAST_pulsar_search_pl/LOG/04_ZAP/LOG_04-ZAP-33.23.txt\n",
      "运行命令：\u001b[96mzapbirds -zap -zapfile /home/pl/work/python-workspance/FAST_pulsar_search_pl/02_BIRDIES/j1631_FAST_pulsar_search_pl_DM00.00.zaplist /home/pl/work/python-workspance/FAST_pulsar_search_pl/03_barydata/j1631_FAST_pulsar_search_pl_bary_DM33.23.fft\u001b[0m\n",
      "\u001b[94m运行时间： 0.0秒\u001b[0m\n",
      "程序运行路径为: /home/pl/work/python-workspance/FAST_pulsar_search_pl/03_barydata\n",
      "日志文件为：/home/pl/work/python-workspance/FAST_pulsar_search_pl/LOG/04_ZAP/LOG_04-ZAP-33.24.txt\n",
      "程序运行路径为: /home/pl/work/python-workspance/FAST_pulsar_search_pl/03_barydata\n",
      "程序运行路径为: /home/pl/work/python-workspance/FAST_pulsar_search_pl/03_barydata\n",
      "日志文件为：/home/pl/work/python-workspance/FAST_pulsar_search_pl/LOG/04_ZAP/LOG_04-ZAP-33.25.txt\n",
      "日志文件为：/home/pl/work/python-workspance/FAST_pulsar_search_pl/LOG/04_ZAP/LOG_04-ZAP-33.26.txt\n",
      "程序运行路径为: /home/pl/work/python-workspance/FAST_pulsar_search_pl/03_barydata\n",
      "日志文件为：/home/pl/work/python-workspance/FAST_pulsar_search_pl/LOG/04_ZAP/LOG_04-ZAP-33.27.txt\n",
      "运行命令：\u001b[96mzapbirds -zap -zapfile /home/pl/work/python-workspance/FAST_pulsar_search_pl/02_BIRDIES/j1631_FAST_pulsar_search_pl_DM00.00.zaplist /home/pl/work/python-workspance/FAST_pulsar_search_pl/03_barydata/j1631_FAST_pulsar_search_pl_bary_DM33.24.fft\u001b[0m\n",
      "\u001b[94m运行时间： 0.0秒\u001b[0m\n",
      "运行命令：\u001b[96mzapbirds -zap -zapfile /home/pl/work/python-workspance/FAST_pulsar_search_pl/02_BIRDIES/j1631_FAST_pulsar_search_pl_DM00.00.zaplist /home/pl/work/python-workspance/FAST_pulsar_search_pl/03_barydata/j1631_FAST_pulsar_search_pl_bary_DM33.26.fft\u001b[0m\n",
      "运行命令：\u001b[96mzapbirds -zap -zapfile /home/pl/work/python-workspance/FAST_pulsar_search_pl/02_BIRDIES/j1631_FAST_pulsar_search_pl_DM00.00.zaplist /home/pl/work/python-workspance/FAST_pulsar_search_pl/03_barydata/j1631_FAST_pulsar_search_pl_bary_DM33.25.fft\u001b[0m\n",
      "\u001b[94m运行时间： 0.0秒\u001b[0m\n",
      "\u001b[94m运行时间： 0.0秒\u001b[0m\n",
      "运行命令：\u001b[96mzapbirds -zap -zapfile /home/pl/work/python-workspance/FAST_pulsar_search_pl/02_BIRDIES/j1631_FAST_pulsar_search_pl_DM00.00.zaplist /home/pl/work/python-workspance/FAST_pulsar_search_pl/03_barydata/j1631_FAST_pulsar_search_pl_bary_DM33.27.fft\u001b[0m\n",
      "\u001b[94m运行时间： 0.0秒\u001b[0m\n"
     ]
    },
    {
     "name": "stderr",
     "output_type": "stream",
     "text": [
      "zap-8核:  40%|████      | 121/300 [00:32<00:50,  3.57cmd/s]"
     ]
    },
    {
     "name": "stdout",
     "output_type": "stream",
     "text": [
      "程序运行路径为: /home/pl/work/python-workspance/FAST_pulsar_search_pl/03_barydata\n",
      "日志文件为：/home/pl/work/python-workspance/FAST_pulsar_search_pl/LOG/04_ZAP/LOG_04-ZAP-33.28.txt\n",
      "运行命令：\u001b[96mzapbirds -zap -zapfile /home/pl/work/python-workspance/FAST_pulsar_search_pl/02_BIRDIES/j1631_FAST_pulsar_search_pl_DM00.00.zaplist /home/pl/work/python-workspance/FAST_pulsar_search_pl/03_barydata/j1631_FAST_pulsar_search_pl_bary_DM33.28.fft\u001b[0m\n",
      "\u001b[94m运行时间： 0.0秒\u001b[0m\n",
      "程序运行路径为: /home/pl/work/python-workspance/FAST_pulsar_search_pl/03_barydata\n",
      "日志文件为：/home/pl/work/python-workspance/FAST_pulsar_search_pl/LOG/04_ZAP/LOG_04-ZAP-33.29.txt\n",
      "运行命令：\u001b[96mzapbirds -zap -zapfile /home/pl/work/python-workspance/FAST_pulsar_search_pl/02_BIRDIES/j1631_FAST_pulsar_search_pl_DM00.00.zaplist /home/pl/work/python-workspance/FAST_pulsar_search_pl/03_barydata/j1631_FAST_pulsar_search_pl_bary_DM33.29.fft\u001b[0m\n",
      "\u001b[94m运行时间： 0.0秒\u001b[0m\n",
      "程序运行路径为: /home/pl/work/python-workspance/FAST_pulsar_search_pl/03_barydata\n",
      "日志文件为：/home/pl/work/python-workspance/FAST_pulsar_search_pl/LOG/04_ZAP/LOG_04-ZAP-33.30.txt\n",
      "运行命令：\u001b[96mzapbirds -zap -zapfile /home/pl/work/python-workspance/FAST_pulsar_search_pl/02_BIRDIES/j1631_FAST_pulsar_search_pl_DM00.00.zaplist /home/pl/work/python-workspance/FAST_pulsar_search_pl/03_barydata/j1631_FAST_pulsar_search_pl_bary_DM33.30.fft\u001b[0m\n",
      "\u001b[94m运行时间： 0.0秒\u001b[0m\n"
     ]
    },
    {
     "name": "stderr",
     "output_type": "stream",
     "text": [
      "zap-8核:  41%|████▏     | 124/300 [00:32<00:39,  4.48cmd/s]"
     ]
    },
    {
     "name": "stdout",
     "output_type": "stream",
     "text": [
      "程序运行路径为: /home/pl/work/python-workspance/FAST_pulsar_search_pl/03_barydata\n",
      "日志文件为：/home/pl/work/python-workspance/FAST_pulsar_search_pl/LOG/04_ZAP/LOG_04-ZAP-33.31.txt\n",
      "运行命令：\u001b[96mzapbirds -zap -zapfile /home/pl/work/python-workspance/FAST_pulsar_search_pl/02_BIRDIES/j1631_FAST_pulsar_search_pl_DM00.00.zaplist /home/pl/work/python-workspance/FAST_pulsar_search_pl/03_barydata/j1631_FAST_pulsar_search_pl_bary_DM33.31.fft\u001b[0m\n",
      "\u001b[94m运行时间： 0.0秒\u001b[0m\n",
      "程序运行路径为: /home/pl/work/python-workspance/FAST_pulsar_search_pl/03_barydata\n",
      "日志文件为：/home/pl/work/python-workspance/FAST_pulsar_search_pl/LOG/04_ZAP/LOG_04-ZAP-33.32.txt\n",
      "程序运行路径为: /home/pl/work/python-workspance/FAST_pulsar_search_pl/03_barydata\n",
      "程序运行路径为: /home/pl/work/python-workspance/FAST_pulsar_search_pl/03_barydata\n",
      "日志文件为：/home/pl/work/python-workspance/FAST_pulsar_search_pl/LOG/04_ZAP/LOG_04-ZAP-33.34.txt\n",
      "程序运行路径为: /home/pl/work/python-workspance/FAST_pulsar_search_pl/03_barydata\n",
      "日志文件为：/home/pl/work/python-workspance/FAST_pulsar_search_pl/LOG/04_ZAP/LOG_04-ZAP-33.33.txt\n",
      "日志文件为：/home/pl/work/python-workspance/FAST_pulsar_search_pl/LOG/04_ZAP/LOG_04-ZAP-33.35.txt\n",
      "运行命令：\u001b[96mzapbirds -zap -zapfile /home/pl/work/python-workspance/FAST_pulsar_search_pl/02_BIRDIES/j1631_FAST_pulsar_search_pl_DM00.00.zaplist /home/pl/work/python-workspance/FAST_pulsar_search_pl/03_barydata/j1631_FAST_pulsar_search_pl_bary_DM33.32.fft\u001b[0m\n",
      "\u001b[94m运行时间： 0.0秒\u001b[0m\n",
      "运行命令：\u001b[96mzapbirds -zap -zapfile /home/pl/work/python-workspance/FAST_pulsar_search_pl/02_BIRDIES/j1631_FAST_pulsar_search_pl_DM00.00.zaplist /home/pl/work/python-workspance/FAST_pulsar_search_pl/03_barydata/j1631_FAST_pulsar_search_pl_bary_DM33.34.fft\u001b[0m\n",
      "运行命令：\u001b[96mzapbirds -zap -zapfile /home/pl/work/python-workspance/FAST_pulsar_search_pl/02_BIRDIES/j1631_FAST_pulsar_search_pl_DM00.00.zaplist /home/pl/work/python-workspance/FAST_pulsar_search_pl/03_barydata/j1631_FAST_pulsar_search_pl_bary_DM33.35.fft\u001b[0m\n",
      "运行命令：\u001b[96mzapbirds -zap -zapfile /home/pl/work/python-workspance/FAST_pulsar_search_pl/02_BIRDIES/j1631_FAST_pulsar_search_pl_DM00.00.zaplist /home/pl/work/python-workspance/FAST_pulsar_search_pl/03_barydata/j1631_FAST_pulsar_search_pl_bary_DM33.33.fft\u001b[0m\n",
      "\u001b[94m运行时间： 0.0秒\u001b[0m\n",
      "\u001b[94m运行时间： 0.0秒\u001b[0m\n",
      "\u001b[94m运行时间： 0.0秒\u001b[0m\n"
     ]
    },
    {
     "name": "stderr",
     "output_type": "stream",
     "text": [
      "zap-8核:  43%|████▎     | 129/300 [00:34<00:47,  3.57cmd/s]"
     ]
    },
    {
     "name": "stdout",
     "output_type": "stream",
     "text": [
      "程序运行路径为: /home/pl/work/python-workspance/FAST_pulsar_search_pl/03_barydata\n",
      "日志文件为：/home/pl/work/python-workspance/FAST_pulsar_search_pl/LOG/04_ZAP/LOG_04-ZAP-33.36.txt\n",
      "运行命令：\u001b[96mzapbirds -zap -zapfile /home/pl/work/python-workspance/FAST_pulsar_search_pl/02_BIRDIES/j1631_FAST_pulsar_search_pl_DM00.00.zaplist /home/pl/work/python-workspance/FAST_pulsar_search_pl/03_barydata/j1631_FAST_pulsar_search_pl_bary_DM33.36.fft\u001b[0m\n",
      "\u001b[94m运行时间： 0.0秒\u001b[0m\n",
      "程序运行路径为: /home/pl/work/python-workspance/FAST_pulsar_search_pl/03_barydata\n",
      "日志文件为：/home/pl/work/python-workspance/FAST_pulsar_search_pl/LOG/04_ZAP/LOG_04-ZAP-33.37.txt\n",
      "运行命令：\u001b[96mzapbirds -zap -zapfile /home/pl/work/python-workspance/FAST_pulsar_search_pl/02_BIRDIES/j1631_FAST_pulsar_search_pl_DM00.00.zaplist /home/pl/work/python-workspance/FAST_pulsar_search_pl/03_barydata/j1631_FAST_pulsar_search_pl_bary_DM33.37.fft\u001b[0m\n",
      "\u001b[94m运行时间： 0.0秒\u001b[0m\n",
      "程序运行路径为: /home/pl/work/python-workspance/FAST_pulsar_search_pl/03_barydata\n",
      "日志文件为：/home/pl/work/python-workspance/FAST_pulsar_search_pl/LOG/04_ZAP/LOG_04-ZAP-33.38.txt\n",
      "运行命令：\u001b[96mzapbirds -zap -zapfile /home/pl/work/python-workspance/FAST_pulsar_search_pl/02_BIRDIES/j1631_FAST_pulsar_search_pl_DM00.00.zaplist /home/pl/work/python-workspance/FAST_pulsar_search_pl/03_barydata/j1631_FAST_pulsar_search_pl_bary_DM33.38.fft\u001b[0m\n",
      "\u001b[94m运行时间： 0.0秒\u001b[0m\n"
     ]
    },
    {
     "name": "stderr",
     "output_type": "stream",
     "text": [
      "zap-8核:  44%|████▍     | 132/300 [00:34<00:37,  4.50cmd/s]"
     ]
    },
    {
     "name": "stdout",
     "output_type": "stream",
     "text": [
      "程序运行路径为: /home/pl/work/python-workspance/FAST_pulsar_search_pl/03_barydata\n",
      "日志文件为：/home/pl/work/python-workspance/FAST_pulsar_search_pl/LOG/04_ZAP/LOG_04-ZAP-33.39.txt\n",
      "运行命令：\u001b[96mzapbirds -zap -zapfile /home/pl/work/python-workspance/FAST_pulsar_search_pl/02_BIRDIES/j1631_FAST_pulsar_search_pl_DM00.00.zaplist /home/pl/work/python-workspance/FAST_pulsar_search_pl/03_barydata/j1631_FAST_pulsar_search_pl_bary_DM33.39.fft\u001b[0m\n",
      "\u001b[94m运行时间： 0.0秒\u001b[0m\n",
      "程序运行路径为: /home/pl/work/python-workspance/FAST_pulsar_search_pl/03_barydata\n",
      "日志文件为：/home/pl/work/python-workspance/FAST_pulsar_search_pl/LOG/04_ZAP/LOG_04-ZAP-33.40.txt\n",
      "程序运行路径为: /home/pl/work/python-workspance/FAST_pulsar_search_pl/03_barydata\n",
      "程序运行路径为: /home/pl/work/python-workspance/FAST_pulsar_search_pl/03_barydata\n",
      "程序运行路径为: /home/pl/work/python-workspance/FAST_pulsar_search_pl/03_barydata\n",
      "日志文件为：/home/pl/work/python-workspance/FAST_pulsar_search_pl/LOG/04_ZAP/LOG_04-ZAP-33.41.txt\n",
      "日志文件为：/home/pl/work/python-workspance/FAST_pulsar_search_pl/LOG/04_ZAP/LOG_04-ZAP-33.43.txt\n",
      "日志文件为：/home/pl/work/python-workspance/FAST_pulsar_search_pl/LOG/04_ZAP/LOG_04-ZAP-33.42.txt\n",
      "运行命令：\u001b[96mzapbirds -zap -zapfile /home/pl/work/python-workspance/FAST_pulsar_search_pl/02_BIRDIES/j1631_FAST_pulsar_search_pl_DM00.00.zaplist /home/pl/work/python-workspance/FAST_pulsar_search_pl/03_barydata/j1631_FAST_pulsar_search_pl_bary_DM33.40.fft\u001b[0m\n",
      "\u001b[94m运行时间： 0.0秒\u001b[0m\n",
      "运行命令：\u001b[96mzapbirds -zap -zapfile /home/pl/work/python-workspance/FAST_pulsar_search_pl/02_BIRDIES/j1631_FAST_pulsar_search_pl_DM00.00.zaplist /home/pl/work/python-workspance/FAST_pulsar_search_pl/03_barydata/j1631_FAST_pulsar_search_pl_bary_DM33.41.fft\u001b[0m\n",
      "运行命令：\u001b[96mzapbirds -zap -zapfile /home/pl/work/python-workspance/FAST_pulsar_search_pl/02_BIRDIES/j1631_FAST_pulsar_search_pl_DM00.00.zaplist /home/pl/work/python-workspance/FAST_pulsar_search_pl/03_barydata/j1631_FAST_pulsar_search_pl_bary_DM33.43.fft\u001b[0m\n",
      "运行命令：\u001b[96mzapbirds -zap -zapfile /home/pl/work/python-workspance/FAST_pulsar_search_pl/02_BIRDIES/j1631_FAST_pulsar_search_pl_DM00.00.zaplist /home/pl/work/python-workspance/FAST_pulsar_search_pl/03_barydata/j1631_FAST_pulsar_search_pl_bary_DM33.42.fft\u001b[0m\n",
      "\u001b[94m运行时间： 0.0秒\u001b[0m\n",
      "\u001b[94m运行时间： 0.0秒\u001b[0m\n",
      "\u001b[94m运行时间： 0.0秒\u001b[0m\n"
     ]
    },
    {
     "name": "stderr",
     "output_type": "stream",
     "text": [
      "zap-8核:  46%|████▌     | 137/300 [00:36<00:45,  3.58cmd/s]"
     ]
    },
    {
     "name": "stdout",
     "output_type": "stream",
     "text": [
      "程序运行路径为: /home/pl/work/python-workspance/FAST_pulsar_search_pl/03_barydata\n",
      "日志文件为：/home/pl/work/python-workspance/FAST_pulsar_search_pl/LOG/04_ZAP/LOG_04-ZAP-33.44.txt\n",
      "运行命令：\u001b[96mzapbirds -zap -zapfile /home/pl/work/python-workspance/FAST_pulsar_search_pl/02_BIRDIES/j1631_FAST_pulsar_search_pl_DM00.00.zaplist /home/pl/work/python-workspance/FAST_pulsar_search_pl/03_barydata/j1631_FAST_pulsar_search_pl_bary_DM33.44.fft\u001b[0m\n",
      "\u001b[94m运行时间： 0.0秒\u001b[0m\n",
      "程序运行路径为: /home/pl/work/python-workspance/FAST_pulsar_search_pl/03_barydata\n",
      "日志文件为：/home/pl/work/python-workspance/FAST_pulsar_search_pl/LOG/04_ZAP/LOG_04-ZAP-33.45.txt\n",
      "运行命令：\u001b[96mzapbirds -zap -zapfile /home/pl/work/python-workspance/FAST_pulsar_search_pl/02_BIRDIES/j1631_FAST_pulsar_search_pl_DM00.00.zaplist /home/pl/work/python-workspance/FAST_pulsar_search_pl/03_barydata/j1631_FAST_pulsar_search_pl_bary_DM33.45.fft\u001b[0m\n",
      "\u001b[94m运行时间： 0.0秒\u001b[0m\n",
      "程序运行路径为: /home/pl/work/python-workspance/FAST_pulsar_search_pl/03_barydata\n",
      "日志文件为：/home/pl/work/python-workspance/FAST_pulsar_search_pl/LOG/04_ZAP/LOG_04-ZAP-33.46.txt\n",
      "运行命令：\u001b[96mzapbirds -zap -zapfile /home/pl/work/python-workspance/FAST_pulsar_search_pl/02_BIRDIES/j1631_FAST_pulsar_search_pl_DM00.00.zaplist /home/pl/work/python-workspance/FAST_pulsar_search_pl/03_barydata/j1631_FAST_pulsar_search_pl_bary_DM33.46.fft\u001b[0m\n",
      "\u001b[94m运行时间： 0.0秒\u001b[0m\n"
     ]
    },
    {
     "name": "stderr",
     "output_type": "stream",
     "text": [
      "zap-8核:  47%|████▋     | 140/300 [00:36<00:35,  4.51cmd/s]"
     ]
    },
    {
     "name": "stdout",
     "output_type": "stream",
     "text": [
      "程序运行路径为: /home/pl/work/python-workspance/FAST_pulsar_search_pl/03_barydata\n",
      "日志文件为：/home/pl/work/python-workspance/FAST_pulsar_search_pl/LOG/04_ZAP/LOG_04-ZAP-33.47.txt\n",
      "运行命令：\u001b[96mzapbirds -zap -zapfile /home/pl/work/python-workspance/FAST_pulsar_search_pl/02_BIRDIES/j1631_FAST_pulsar_search_pl_DM00.00.zaplist /home/pl/work/python-workspance/FAST_pulsar_search_pl/03_barydata/j1631_FAST_pulsar_search_pl_bary_DM33.47.fft\u001b[0m\n",
      "\u001b[94m运行时间： 0.0秒\u001b[0m\n",
      "程序运行路径为: /home/pl/work/python-workspance/FAST_pulsar_search_pl/03_barydata\n",
      "日志文件为：/home/pl/work/python-workspance/FAST_pulsar_search_pl/LOG/04_ZAP/LOG_04-ZAP-33.48.txt\n",
      "程序运行路径为: /home/pl/work/python-workspance/FAST_pulsar_search_pl/03_barydata\n",
      "程序运行路径为: /home/pl/work/python-workspance/FAST_pulsar_search_pl/03_barydata\n",
      "日志文件为：/home/pl/work/python-workspance/FAST_pulsar_search_pl/LOG/04_ZAP/LOG_04-ZAP-33.49.txt\n",
      "程序运行路径为: /home/pl/work/python-workspance/FAST_pulsar_search_pl/03_barydata\n",
      "日志文件为：/home/pl/work/python-workspance/FAST_pulsar_search_pl/LOG/04_ZAP/LOG_04-ZAP-33.50.txt\n",
      "日志文件为：/home/pl/work/python-workspance/FAST_pulsar_search_pl/LOG/04_ZAP/LOG_04-ZAP-33.51.txt\n",
      "运行命令：\u001b[96mzapbirds -zap -zapfile /home/pl/work/python-workspance/FAST_pulsar_search_pl/02_BIRDIES/j1631_FAST_pulsar_search_pl_DM00.00.zaplist /home/pl/work/python-workspance/FAST_pulsar_search_pl/03_barydata/j1631_FAST_pulsar_search_pl_bary_DM33.48.fft\u001b[0m\n",
      "\u001b[94m运行时间： 0.0秒\u001b[0m\n",
      "运行命令：\u001b[96mzapbirds -zap -zapfile /home/pl/work/python-workspance/FAST_pulsar_search_pl/02_BIRDIES/j1631_FAST_pulsar_search_pl_DM00.00.zaplist /home/pl/work/python-workspance/FAST_pulsar_search_pl/03_barydata/j1631_FAST_pulsar_search_pl_bary_DM33.50.fft\u001b[0m\n",
      "运行命令：\u001b[96mzapbirds -zap -zapfile /home/pl/work/python-workspance/FAST_pulsar_search_pl/02_BIRDIES/j1631_FAST_pulsar_search_pl_DM00.00.zaplist /home/pl/work/python-workspance/FAST_pulsar_search_pl/03_barydata/j1631_FAST_pulsar_search_pl_bary_DM33.49.fft\u001b[0m\n",
      "\u001b[94m运行时间： 0.0秒\u001b[0m\n",
      "\u001b[94m运行时间： 0.0秒\u001b[0m\n",
      "运行命令：\u001b[96mzapbirds -zap -zapfile /home/pl/work/python-workspance/FAST_pulsar_search_pl/02_BIRDIES/j1631_FAST_pulsar_search_pl_DM00.00.zaplist /home/pl/work/python-workspance/FAST_pulsar_search_pl/03_barydata/j1631_FAST_pulsar_search_pl_bary_DM33.51.fft\u001b[0m\n",
      "\u001b[94m运行时间： 0.0秒\u001b[0m\n"
     ]
    },
    {
     "name": "stderr",
     "output_type": "stream",
     "text": [
      "zap-8核:  48%|████▊     | 145/300 [00:38<00:43,  3.58cmd/s]"
     ]
    },
    {
     "name": "stdout",
     "output_type": "stream",
     "text": [
      "程序运行路径为: /home/pl/work/python-workspance/FAST_pulsar_search_pl/03_barydata\n",
      "日志文件为：/home/pl/work/python-workspance/FAST_pulsar_search_pl/LOG/04_ZAP/LOG_04-ZAP-33.52.txt\n",
      "运行命令：\u001b[96mzapbirds -zap -zapfile /home/pl/work/python-workspance/FAST_pulsar_search_pl/02_BIRDIES/j1631_FAST_pulsar_search_pl_DM00.00.zaplist /home/pl/work/python-workspance/FAST_pulsar_search_pl/03_barydata/j1631_FAST_pulsar_search_pl_bary_DM33.52.fft\u001b[0m\n",
      "\u001b[94m运行时间： 0.0秒\u001b[0m\n",
      "程序运行路径为: /home/pl/work/python-workspance/FAST_pulsar_search_pl/03_barydata\n",
      "日志文件为：/home/pl/work/python-workspance/FAST_pulsar_search_pl/LOG/04_ZAP/LOG_04-ZAP-33.53.txt\n",
      "运行命令：\u001b[96mzapbirds -zap -zapfile /home/pl/work/python-workspance/FAST_pulsar_search_pl/02_BIRDIES/j1631_FAST_pulsar_search_pl_DM00.00.zaplist /home/pl/work/python-workspance/FAST_pulsar_search_pl/03_barydata/j1631_FAST_pulsar_search_pl_bary_DM33.53.fft\u001b[0m\n",
      "\u001b[94m运行时间： 0.0秒\u001b[0m\n",
      "程序运行路径为: /home/pl/work/python-workspance/FAST_pulsar_search_pl/03_barydata\n",
      "日志文件为：/home/pl/work/python-workspance/FAST_pulsar_search_pl/LOG/04_ZAP/LOG_04-ZAP-33.54.txt\n",
      "运行命令：\u001b[96mzapbirds -zap -zapfile /home/pl/work/python-workspance/FAST_pulsar_search_pl/02_BIRDIES/j1631_FAST_pulsar_search_pl_DM00.00.zaplist /home/pl/work/python-workspance/FAST_pulsar_search_pl/03_barydata/j1631_FAST_pulsar_search_pl_bary_DM33.54.fft\u001b[0m\n",
      "\u001b[94m运行时间： 0.0秒\u001b[0m\n",
      "程序运行路径为: /home/pl/work/python-workspance/FAST_pulsar_search_pl/03_barydata\n",
      "日志文件为：/home/pl/work/python-workspance/FAST_pulsar_search_pl/LOG/04_ZAP/LOG_04-ZAP-33.55.txt\n",
      "运行命令：\u001b[96mzapbirds -zap -zapfile /home/pl/work/python-workspance/FAST_pulsar_search_pl/02_BIRDIES/j1631_FAST_pulsar_search_pl_DM00.00.zaplist /home/pl/work/python-workspance/FAST_pulsar_search_pl/03_barydata/j1631_FAST_pulsar_search_pl_bary_DM33.55.fft\u001b[0m\n",
      "\u001b[94m运行时间： 0.0秒\u001b[0m\n"
     ]
    },
    {
     "name": "stderr",
     "output_type": "stream",
     "text": [
      "zap-8核:  50%|████▉     | 149/300 [00:38<00:31,  4.78cmd/s]"
     ]
    },
    {
     "name": "stdout",
     "output_type": "stream",
     "text": [
      "程序运行路径为: /home/pl/work/python-workspance/FAST_pulsar_search_pl/03_barydata\n",
      "日志文件为：/home/pl/work/python-workspance/FAST_pulsar_search_pl/LOG/04_ZAP/LOG_04-ZAP-33.56.txt\n",
      "程序运行路径为: /home/pl/work/python-workspance/FAST_pulsar_search_pl/03_barydata\n",
      "运行命令：\u001b[96mzapbirds -zap -zapfile /home/pl/work/python-workspance/FAST_pulsar_search_pl/02_BIRDIES/j1631_FAST_pulsar_search_pl_DM00.00.zaplist /home/pl/work/python-workspance/FAST_pulsar_search_pl/03_barydata/j1631_FAST_pulsar_search_pl_bary_DM33.56.fft\u001b[0m\n",
      "程序运行路径为: /home/pl/work/python-workspance/FAST_pulsar_search_pl/03_barydata\n",
      "日志文件为：/home/pl/work/python-workspance/FAST_pulsar_search_pl/LOG/04_ZAP/LOG_04-ZAP-33.57.txt\n",
      "\u001b[94m运行时间： 0.0秒\u001b[0m\n",
      "日志文件为：/home/pl/work/python-workspance/FAST_pulsar_search_pl/LOG/04_ZAP/LOG_04-ZAP-33.58.txt\n",
      "程序运行路径为: /home/pl/work/python-workspance/FAST_pulsar_search_pl/03_barydata\n",
      "日志文件为：/home/pl/work/python-workspance/FAST_pulsar_search_pl/LOG/04_ZAP/LOG_04-ZAP-33.59.txt\n",
      "运行命令：\u001b[96mzapbirds -zap -zapfile /home/pl/work/python-workspance/FAST_pulsar_search_pl/02_BIRDIES/j1631_FAST_pulsar_search_pl_DM00.00.zaplist /home/pl/work/python-workspance/FAST_pulsar_search_pl/03_barydata/j1631_FAST_pulsar_search_pl_bary_DM33.58.fft\u001b[0m\n",
      "运行命令：\u001b[96mzapbirds -zap -zapfile /home/pl/work/python-workspance/FAST_pulsar_search_pl/02_BIRDIES/j1631_FAST_pulsar_search_pl_DM00.00.zaplist /home/pl/work/python-workspance/FAST_pulsar_search_pl/03_barydata/j1631_FAST_pulsar_search_pl_bary_DM33.57.fft\u001b[0m\n",
      "\u001b[94m运行时间： 0.0秒\u001b[0m\n",
      "\u001b[94m运行时间： 0.0秒\u001b[0m\n",
      "运行命令：\u001b[96mzapbirds -zap -zapfile /home/pl/work/python-workspance/FAST_pulsar_search_pl/02_BIRDIES/j1631_FAST_pulsar_search_pl_DM00.00.zaplist /home/pl/work/python-workspance/FAST_pulsar_search_pl/03_barydata/j1631_FAST_pulsar_search_pl_bary_DM33.59.fft\u001b[0m\n",
      "\u001b[94m运行时间： 0.0秒\u001b[0m\n"
     ]
    },
    {
     "name": "stderr",
     "output_type": "stream",
     "text": [
      "zap-8核:  51%|█████     | 153/300 [00:40<00:41,  3.52cmd/s]"
     ]
    },
    {
     "name": "stdout",
     "output_type": "stream",
     "text": [
      "程序运行路径为: /home/pl/work/python-workspance/FAST_pulsar_search_pl/03_barydata\n",
      "日志文件为：/home/pl/work/python-workspance/FAST_pulsar_search_pl/LOG/04_ZAP/LOG_04-ZAP-33.60.txt\n",
      "运行命令：\u001b[96mzapbirds -zap -zapfile /home/pl/work/python-workspance/FAST_pulsar_search_pl/02_BIRDIES/j1631_FAST_pulsar_search_pl_DM00.00.zaplist /home/pl/work/python-workspance/FAST_pulsar_search_pl/03_barydata/j1631_FAST_pulsar_search_pl_bary_DM33.60.fft\u001b[0m\n",
      "\u001b[94m运行时间： 0.0秒\u001b[0m\n",
      "程序运行路径为: /home/pl/work/python-workspance/FAST_pulsar_search_pl/03_barydata\n",
      "日志文件为：/home/pl/work/python-workspance/FAST_pulsar_search_pl/LOG/04_ZAP/LOG_04-ZAP-33.61.txt\n",
      "运行命令：\u001b[96mzapbirds -zap -zapfile /home/pl/work/python-workspance/FAST_pulsar_search_pl/02_BIRDIES/j1631_FAST_pulsar_search_pl_DM00.00.zaplist /home/pl/work/python-workspance/FAST_pulsar_search_pl/03_barydata/j1631_FAST_pulsar_search_pl_bary_DM33.61.fft\u001b[0m\n",
      "\u001b[94m运行时间： 0.0秒\u001b[0m\n",
      "程序运行路径为: /home/pl/work/python-workspance/FAST_pulsar_search_pl/03_barydata\n",
      "日志文件为：/home/pl/work/python-workspance/FAST_pulsar_search_pl/LOG/04_ZAP/LOG_04-ZAP-33.62.txt\n",
      "运行命令：\u001b[96mzapbirds -zap -zapfile /home/pl/work/python-workspance/FAST_pulsar_search_pl/02_BIRDIES/j1631_FAST_pulsar_search_pl_DM00.00.zaplist /home/pl/work/python-workspance/FAST_pulsar_search_pl/03_barydata/j1631_FAST_pulsar_search_pl_bary_DM33.62.fft\u001b[0m\n",
      "\u001b[94m运行时间： 0.0秒\u001b[0m\n",
      "程序运行路径为: /home/pl/work/python-workspance/FAST_pulsar_search_pl/03_barydata\n",
      "日志文件为：/home/pl/work/python-workspance/FAST_pulsar_search_pl/LOG/04_ZAP/LOG_04-ZAP-33.63.txt\n",
      "运行命令：\u001b[96mzapbirds -zap -zapfile /home/pl/work/python-workspance/FAST_pulsar_search_pl/02_BIRDIES/j1631_FAST_pulsar_search_pl_DM00.00.zaplist /home/pl/work/python-workspance/FAST_pulsar_search_pl/03_barydata/j1631_FAST_pulsar_search_pl_bary_DM33.63.fft\u001b[0m\n",
      "\u001b[94m运行时间： 0.0秒\u001b[0m\n"
     ]
    },
    {
     "name": "stderr",
     "output_type": "stream",
     "text": [
      "zap-8核:  52%|█████▏    | 157/300 [00:40<00:30,  4.73cmd/s]"
     ]
    },
    {
     "name": "stdout",
     "output_type": "stream",
     "text": [
      "程序运行路径为: /home/pl/work/python-workspance/FAST_pulsar_search_pl/03_barydata\n",
      "日志文件为：/home/pl/work/python-workspance/FAST_pulsar_search_pl/LOG/04_ZAP/LOG_04-ZAP-33.64.txt\n",
      "程序运行路径为: /home/pl/work/python-workspance/FAST_pulsar_search_pl/03_barydata\n",
      "程序运行路径为: /home/pl/work/python-workspance/FAST_pulsar_search_pl/03_barydata\n",
      "日志文件为：/home/pl/work/python-workspance/FAST_pulsar_search_pl/LOG/04_ZAP/LOG_04-ZAP-33.65.txt\n",
      "日志文件为：/home/pl/work/python-workspance/FAST_pulsar_search_pl/LOG/04_ZAP/LOG_04-ZAP-33.66.txt\n",
      "运行命令：\u001b[96mzapbirds -zap -zapfile /home/pl/work/python-workspance/FAST_pulsar_search_pl/02_BIRDIES/j1631_FAST_pulsar_search_pl_DM00.00.zaplist /home/pl/work/python-workspance/FAST_pulsar_search_pl/03_barydata/j1631_FAST_pulsar_search_pl_bary_DM33.64.fft\u001b[0m\n",
      "\u001b[94m运行时间： 0.0秒\u001b[0m\n",
      "程序运行路径为: /home/pl/work/python-workspance/FAST_pulsar_search_pl/03_barydata\n",
      "日志文件为：/home/pl/work/python-workspance/FAST_pulsar_search_pl/LOG/04_ZAP/LOG_04-ZAP-33.67.txt\n",
      "运行命令：\u001b[96mzapbirds -zap -zapfile /home/pl/work/python-workspance/FAST_pulsar_search_pl/02_BIRDIES/j1631_FAST_pulsar_search_pl_DM00.00.zaplist /home/pl/work/python-workspance/FAST_pulsar_search_pl/03_barydata/j1631_FAST_pulsar_search_pl_bary_DM33.66.fft\u001b[0m\n",
      "运行命令：\u001b[96mzapbirds -zap -zapfile /home/pl/work/python-workspance/FAST_pulsar_search_pl/02_BIRDIES/j1631_FAST_pulsar_search_pl_DM00.00.zaplist /home/pl/work/python-workspance/FAST_pulsar_search_pl/03_barydata/j1631_FAST_pulsar_search_pl_bary_DM33.65.fft\u001b[0m\n",
      "\u001b[94m运行时间： 0.0秒\u001b[0m\n",
      "\u001b[94m运行时间： 0.0秒\u001b[0m\n",
      "运行命令：\u001b[96mzapbirds -zap -zapfile /home/pl/work/python-workspance/FAST_pulsar_search_pl/02_BIRDIES/j1631_FAST_pulsar_search_pl_DM00.00.zaplist /home/pl/work/python-workspance/FAST_pulsar_search_pl/03_barydata/j1631_FAST_pulsar_search_pl_bary_DM33.67.fft\u001b[0m\n",
      "\u001b[94m运行时间： 0.0秒\u001b[0m\n"
     ]
    },
    {
     "name": "stderr",
     "output_type": "stream",
     "text": [
      "zap-8核:  54%|█████▎    | 161/300 [00:42<00:39,  3.49cmd/s]"
     ]
    },
    {
     "name": "stdout",
     "output_type": "stream",
     "text": [
      "程序运行路径为: /home/pl/work/python-workspance/FAST_pulsar_search_pl/03_barydata\n",
      "日志文件为：/home/pl/work/python-workspance/FAST_pulsar_search_pl/LOG/04_ZAP/LOG_04-ZAP-33.68.txt\n",
      "运行命令：\u001b[96mzapbirds -zap -zapfile /home/pl/work/python-workspance/FAST_pulsar_search_pl/02_BIRDIES/j1631_FAST_pulsar_search_pl_DM00.00.zaplist /home/pl/work/python-workspance/FAST_pulsar_search_pl/03_barydata/j1631_FAST_pulsar_search_pl_bary_DM33.68.fft\u001b[0m\n",
      "\u001b[94m运行时间： 0.0秒\u001b[0m\n",
      "程序运行路径为: /home/pl/work/python-workspance/FAST_pulsar_search_pl/03_barydata\n",
      "日志文件为：/home/pl/work/python-workspance/FAST_pulsar_search_pl/LOG/04_ZAP/LOG_04-ZAP-33.69.txt\n",
      "运行命令：\u001b[96mzapbirds -zap -zapfile /home/pl/work/python-workspance/FAST_pulsar_search_pl/02_BIRDIES/j1631_FAST_pulsar_search_pl_DM00.00.zaplist /home/pl/work/python-workspance/FAST_pulsar_search_pl/03_barydata/j1631_FAST_pulsar_search_pl_bary_DM33.69.fft\u001b[0m\n",
      "\u001b[94m运行时间： 0.0秒\u001b[0m\n",
      "程序运行路径为: /home/pl/work/python-workspance/FAST_pulsar_search_pl/03_barydata\n",
      "日志文件为：/home/pl/work/python-workspance/FAST_pulsar_search_pl/LOG/04_ZAP/LOG_04-ZAP-33.70.txt\n",
      "运行命令：\u001b[96mzapbirds -zap -zapfile /home/pl/work/python-workspance/FAST_pulsar_search_pl/02_BIRDIES/j1631_FAST_pulsar_search_pl_DM00.00.zaplist /home/pl/work/python-workspance/FAST_pulsar_search_pl/03_barydata/j1631_FAST_pulsar_search_pl_bary_DM33.70.fft\u001b[0m\n",
      "\u001b[94m运行时间： 0.0秒\u001b[0m\n",
      "程序运行路径为: /home/pl/work/python-workspance/FAST_pulsar_search_pl/03_barydata\n",
      "日志文件为：/home/pl/work/python-workspance/FAST_pulsar_search_pl/LOG/04_ZAP/LOG_04-ZAP-33.71.txt\n",
      "运行命令：\u001b[96mzapbirds -zap -zapfile /home/pl/work/python-workspance/FAST_pulsar_search_pl/02_BIRDIES/j1631_FAST_pulsar_search_pl_DM00.00.zaplist /home/pl/work/python-workspance/FAST_pulsar_search_pl/03_barydata/j1631_FAST_pulsar_search_pl_bary_DM33.71.fft\u001b[0m\n",
      "\u001b[94m运行时间： 0.0秒\u001b[0m\n"
     ]
    },
    {
     "name": "stderr",
     "output_type": "stream",
     "text": [
      "zap-8核:  55%|█████▌    | 165/300 [00:42<00:28,  4.70cmd/s]"
     ]
    },
    {
     "name": "stdout",
     "output_type": "stream",
     "text": [
      "程序运行路径为: /home/pl/work/python-workspance/FAST_pulsar_search_pl/03_barydata\n",
      "日志文件为：/home/pl/work/python-workspance/FAST_pulsar_search_pl/LOG/04_ZAP/LOG_04-ZAP-33.72.txt\n",
      "程序运行路径为: /home/pl/work/python-workspance/FAST_pulsar_search_pl/03_barydata\n",
      "程序运行路径为: /home/pl/work/python-workspance/FAST_pulsar_search_pl/03_barydata\n",
      "日志文件为：/home/pl/work/python-workspance/FAST_pulsar_search_pl/LOG/04_ZAP/LOG_04-ZAP-33.74.txt\n",
      "日志文件为：/home/pl/work/python-workspance/FAST_pulsar_search_pl/LOG/04_ZAP/LOG_04-ZAP-33.73.txt\n",
      "运行命令：\u001b[96mzapbirds -zap -zapfile /home/pl/work/python-workspance/FAST_pulsar_search_pl/02_BIRDIES/j1631_FAST_pulsar_search_pl_DM00.00.zaplist /home/pl/work/python-workspance/FAST_pulsar_search_pl/03_barydata/j1631_FAST_pulsar_search_pl_bary_DM33.72.fft\u001b[0m\n",
      "程序运行路径为: /home/pl/work/python-workspance/FAST_pulsar_search_pl/03_barydata\n",
      "\u001b[94m运行时间： 0.0秒\u001b[0m\n",
      "日志文件为：/home/pl/work/python-workspance/FAST_pulsar_search_pl/LOG/04_ZAP/LOG_04-ZAP-33.75.txt\n",
      "运行命令：\u001b[96mzapbirds -zap -zapfile /home/pl/work/python-workspance/FAST_pulsar_search_pl/02_BIRDIES/j1631_FAST_pulsar_search_pl_DM00.00.zaplist /home/pl/work/python-workspance/FAST_pulsar_search_pl/03_barydata/j1631_FAST_pulsar_search_pl_bary_DM33.74.fft\u001b[0m\n",
      "\u001b[94m运行时间： 0.0秒\u001b[0m\n",
      "运行命令：\u001b[96mzapbirds -zap -zapfile /home/pl/work/python-workspance/FAST_pulsar_search_pl/02_BIRDIES/j1631_FAST_pulsar_search_pl_DM00.00.zaplist /home/pl/work/python-workspance/FAST_pulsar_search_pl/03_barydata/j1631_FAST_pulsar_search_pl_bary_DM33.73.fft\u001b[0m\n",
      "\u001b[94m运行时间： 0.0秒\u001b[0m\n",
      "运行命令：\u001b[96mzapbirds -zap -zapfile /home/pl/work/python-workspance/FAST_pulsar_search_pl/02_BIRDIES/j1631_FAST_pulsar_search_pl_DM00.00.zaplist /home/pl/work/python-workspance/FAST_pulsar_search_pl/03_barydata/j1631_FAST_pulsar_search_pl_bary_DM33.75.fft\u001b[0m\n",
      "\u001b[94m运行时间： 0.0秒\u001b[0m\n"
     ]
    },
    {
     "name": "stderr",
     "output_type": "stream",
     "text": [
      "zap-8核:  56%|█████▋    | 169/300 [00:44<00:37,  3.47cmd/s]"
     ]
    },
    {
     "name": "stdout",
     "output_type": "stream",
     "text": [
      "程序运行路径为: /home/pl/work/python-workspance/FAST_pulsar_search_pl/03_barydata\n",
      "日志文件为：/home/pl/work/python-workspance/FAST_pulsar_search_pl/LOG/04_ZAP/LOG_04-ZAP-33.76.txt\n",
      "运行命令：\u001b[96mzapbirds -zap -zapfile /home/pl/work/python-workspance/FAST_pulsar_search_pl/02_BIRDIES/j1631_FAST_pulsar_search_pl_DM00.00.zaplist /home/pl/work/python-workspance/FAST_pulsar_search_pl/03_barydata/j1631_FAST_pulsar_search_pl_bary_DM33.76.fft\u001b[0m\n",
      "\u001b[94m运行时间： 0.0秒\u001b[0m\n",
      "程序运行路径为: /home/pl/work/python-workspance/FAST_pulsar_search_pl/03_barydata\n",
      "日志文件为：/home/pl/work/python-workspance/FAST_pulsar_search_pl/LOG/04_ZAP/LOG_04-ZAP-33.77.txt\n",
      "运行命令：\u001b[96mzapbirds -zap -zapfile /home/pl/work/python-workspance/FAST_pulsar_search_pl/02_BIRDIES/j1631_FAST_pulsar_search_pl_DM00.00.zaplist /home/pl/work/python-workspance/FAST_pulsar_search_pl/03_barydata/j1631_FAST_pulsar_search_pl_bary_DM33.77.fft\u001b[0m\n",
      "\u001b[94m运行时间： 0.0秒\u001b[0m\n",
      "程序运行路径为: /home/pl/work/python-workspance/FAST_pulsar_search_pl/03_barydata\n",
      "日志文件为：/home/pl/work/python-workspance/FAST_pulsar_search_pl/LOG/04_ZAP/LOG_04-ZAP-33.78.txt\n",
      "运行命令：\u001b[96mzapbirds -zap -zapfile /home/pl/work/python-workspance/FAST_pulsar_search_pl/02_BIRDIES/j1631_FAST_pulsar_search_pl_DM00.00.zaplist /home/pl/work/python-workspance/FAST_pulsar_search_pl/03_barydata/j1631_FAST_pulsar_search_pl_bary_DM33.78.fft\u001b[0m\n",
      "\u001b[94m运行时间： 0.0秒\u001b[0m\n",
      "程序运行路径为: /home/pl/work/python-workspance/FAST_pulsar_search_pl/03_barydata\n",
      "日志文件为：/home/pl/work/python-workspance/FAST_pulsar_search_pl/LOG/04_ZAP/LOG_04-ZAP-33.79.txt\n",
      "运行命令：\u001b[96mzapbirds -zap -zapfile /home/pl/work/python-workspance/FAST_pulsar_search_pl/02_BIRDIES/j1631_FAST_pulsar_search_pl_DM00.00.zaplist /home/pl/work/python-workspance/FAST_pulsar_search_pl/03_barydata/j1631_FAST_pulsar_search_pl_bary_DM33.79.fft\u001b[0m\n",
      "\u001b[94m运行时间： 0.0秒\u001b[0m\n"
     ]
    },
    {
     "name": "stderr",
     "output_type": "stream",
     "text": [
      "zap-8核:  58%|█████▊    | 173/300 [00:44<00:27,  4.69cmd/s]"
     ]
    },
    {
     "name": "stdout",
     "output_type": "stream",
     "text": [
      "程序运行路径为: /home/pl/work/python-workspance/FAST_pulsar_search_pl/03_barydata\n",
      "日志文件为：/home/pl/work/python-workspance/FAST_pulsar_search_pl/LOG/04_ZAP/LOG_04-ZAP-33.80.txt\n",
      "程序运行路径为: /home/pl/work/python-workspance/FAST_pulsar_search_pl/03_barydata\n",
      "日志文件为：/home/pl/work/python-workspance/FAST_pulsar_search_pl/LOG/04_ZAP/LOG_04-ZAP-33.81.txt\n",
      "程序运行路径为: /home/pl/work/python-workspance/FAST_pulsar_search_pl/03_barydata\n",
      "日志文件为：/home/pl/work/python-workspance/FAST_pulsar_search_pl/LOG/04_ZAP/LOG_04-ZAP-33.82.txt\n",
      "程序运行路径为: /home/pl/work/python-workspance/FAST_pulsar_search_pl/03_barydata\n",
      "运行命令：\u001b[96mzapbirds -zap -zapfile /home/pl/work/python-workspance/FAST_pulsar_search_pl/02_BIRDIES/j1631_FAST_pulsar_search_pl_DM00.00.zaplist /home/pl/work/python-workspance/FAST_pulsar_search_pl/03_barydata/j1631_FAST_pulsar_search_pl_bary_DM33.80.fft\u001b[0m\n",
      "日志文件为：/home/pl/work/python-workspance/FAST_pulsar_search_pl/LOG/04_ZAP/LOG_04-ZAP-33.83.txt\n",
      "\u001b[94m运行时间： 0.0秒\u001b[0m\n",
      "运行命令：\u001b[96mzapbirds -zap -zapfile /home/pl/work/python-workspance/FAST_pulsar_search_pl/02_BIRDIES/j1631_FAST_pulsar_search_pl_DM00.00.zaplist /home/pl/work/python-workspance/FAST_pulsar_search_pl/03_barydata/j1631_FAST_pulsar_search_pl_bary_DM33.81.fft\u001b[0m\n",
      "运行命令：\u001b[96mzapbirds -zap -zapfile /home/pl/work/python-workspance/FAST_pulsar_search_pl/02_BIRDIES/j1631_FAST_pulsar_search_pl_DM00.00.zaplist /home/pl/work/python-workspance/FAST_pulsar_search_pl/03_barydata/j1631_FAST_pulsar_search_pl_bary_DM33.82.fft\u001b[0m\n",
      "\u001b[94m运行时间： 0.0秒\u001b[0m\n",
      "\u001b[94m运行时间： 0.0秒\u001b[0m\n",
      "运行命令：\u001b[96mzapbirds -zap -zapfile /home/pl/work/python-workspance/FAST_pulsar_search_pl/02_BIRDIES/j1631_FAST_pulsar_search_pl_DM00.00.zaplist /home/pl/work/python-workspance/FAST_pulsar_search_pl/03_barydata/j1631_FAST_pulsar_search_pl_bary_DM33.83.fft\u001b[0m\n",
      "\u001b[94m运行时间： 0.0秒\u001b[0m\n"
     ]
    },
    {
     "name": "stderr",
     "output_type": "stream",
     "text": [
      "zap-8核:  59%|█████▉    | 177/300 [00:46<00:35,  3.46cmd/s]"
     ]
    },
    {
     "name": "stdout",
     "output_type": "stream",
     "text": [
      "程序运行路径为: /home/pl/work/python-workspance/FAST_pulsar_search_pl/03_barydata\n",
      "日志文件为：/home/pl/work/python-workspance/FAST_pulsar_search_pl/LOG/04_ZAP/LOG_04-ZAP-33.84.txt\n",
      "运行命令：\u001b[96mzapbirds -zap -zapfile /home/pl/work/python-workspance/FAST_pulsar_search_pl/02_BIRDIES/j1631_FAST_pulsar_search_pl_DM00.00.zaplist /home/pl/work/python-workspance/FAST_pulsar_search_pl/03_barydata/j1631_FAST_pulsar_search_pl_bary_DM33.84.fft\u001b[0m\n",
      "\u001b[94m运行时间： 0.0秒\u001b[0m\n",
      "程序运行路径为: /home/pl/work/python-workspance/FAST_pulsar_search_pl/03_barydata\n",
      "日志文件为：/home/pl/work/python-workspance/FAST_pulsar_search_pl/LOG/04_ZAP/LOG_04-ZAP-33.85.txt\n",
      "运行命令：\u001b[96mzapbirds -zap -zapfile /home/pl/work/python-workspance/FAST_pulsar_search_pl/02_BIRDIES/j1631_FAST_pulsar_search_pl_DM00.00.zaplist /home/pl/work/python-workspance/FAST_pulsar_search_pl/03_barydata/j1631_FAST_pulsar_search_pl_bary_DM33.85.fft\u001b[0m\n",
      "\u001b[94m运行时间： 0.0秒\u001b[0m\n",
      "程序运行路径为: /home/pl/work/python-workspance/FAST_pulsar_search_pl/03_barydata\n",
      "日志文件为：/home/pl/work/python-workspance/FAST_pulsar_search_pl/LOG/04_ZAP/LOG_04-ZAP-33.86.txt\n",
      "运行命令：\u001b[96mzapbirds -zap -zapfile /home/pl/work/python-workspance/FAST_pulsar_search_pl/02_BIRDIES/j1631_FAST_pulsar_search_pl_DM00.00.zaplist /home/pl/work/python-workspance/FAST_pulsar_search_pl/03_barydata/j1631_FAST_pulsar_search_pl_bary_DM33.86.fft\u001b[0m\n",
      "\u001b[94m运行时间： 0.0秒\u001b[0m\n",
      "程序运行路径为: /home/pl/work/python-workspance/FAST_pulsar_search_pl/03_barydata\n",
      "日志文件为：/home/pl/work/python-workspance/FAST_pulsar_search_pl/LOG/04_ZAP/LOG_04-ZAP-33.87.txt\n",
      "运行命令：\u001b[96mzapbirds -zap -zapfile /home/pl/work/python-workspance/FAST_pulsar_search_pl/02_BIRDIES/j1631_FAST_pulsar_search_pl_DM00.00.zaplist /home/pl/work/python-workspance/FAST_pulsar_search_pl/03_barydata/j1631_FAST_pulsar_search_pl_bary_DM33.87.fft\u001b[0m\n",
      "\u001b[94m运行时间： 0.0秒\u001b[0m\n"
     ]
    },
    {
     "name": "stderr",
     "output_type": "stream",
     "text": [
      "zap-8核:  60%|██████    | 181/300 [00:46<00:25,  4.69cmd/s]"
     ]
    },
    {
     "name": "stdout",
     "output_type": "stream",
     "text": [
      "程序运行路径为: /home/pl/work/python-workspance/FAST_pulsar_search_pl/03_barydata\n",
      "日志文件为：/home/pl/work/python-workspance/FAST_pulsar_search_pl/LOG/04_ZAP/LOG_04-ZAP-33.88.txt\n",
      "程序运行路径为: /home/pl/work/python-workspance/FAST_pulsar_search_pl/03_barydata\n",
      "程序运行路径为: /home/pl/work/python-workspance/FAST_pulsar_search_pl/03_barydata\n",
      "运行命令：\u001b[96mzapbirds -zap -zapfile /home/pl/work/python-workspance/FAST_pulsar_search_pl/02_BIRDIES/j1631_FAST_pulsar_search_pl_DM00.00.zaplist /home/pl/work/python-workspance/FAST_pulsar_search_pl/03_barydata/j1631_FAST_pulsar_search_pl_bary_DM33.88.fft\u001b[0m\n",
      "日志文件为：/home/pl/work/python-workspance/FAST_pulsar_search_pl/LOG/04_ZAP/LOG_04-ZAP-33.89.txt\n",
      "日志文件为：/home/pl/work/python-workspance/FAST_pulsar_search_pl/LOG/04_ZAP/LOG_04-ZAP-33.90.txt\n",
      "程序运行路径为: /home/pl/work/python-workspance/FAST_pulsar_search_pl/03_barydata\n",
      "\u001b[94m运行时间： 0.0秒\u001b[0m\n",
      "日志文件为：/home/pl/work/python-workspance/FAST_pulsar_search_pl/LOG/04_ZAP/LOG_04-ZAP-33.91.txt\n",
      "运行命令：\u001b[96mzapbirds -zap -zapfile /home/pl/work/python-workspance/FAST_pulsar_search_pl/02_BIRDIES/j1631_FAST_pulsar_search_pl_DM00.00.zaplist /home/pl/work/python-workspance/FAST_pulsar_search_pl/03_barydata/j1631_FAST_pulsar_search_pl_bary_DM33.90.fft\u001b[0m\n",
      "运行命令：\u001b[96mzapbirds -zap -zapfile /home/pl/work/python-workspance/FAST_pulsar_search_pl/02_BIRDIES/j1631_FAST_pulsar_search_pl_DM00.00.zaplist /home/pl/work/python-workspance/FAST_pulsar_search_pl/03_barydata/j1631_FAST_pulsar_search_pl_bary_DM33.89.fft\u001b[0m\n",
      "\u001b[94m运行时间： 0.0秒\u001b[0m\n",
      "运行命令：\u001b[96mzapbirds -zap -zapfile /home/pl/work/python-workspance/FAST_pulsar_search_pl/02_BIRDIES/j1631_FAST_pulsar_search_pl_DM00.00.zaplist /home/pl/work/python-workspance/FAST_pulsar_search_pl/03_barydata/j1631_FAST_pulsar_search_pl_bary_DM33.91.fft\u001b[0m\n",
      "\u001b[94m运行时间： 0.0秒\u001b[0m\n",
      "\u001b[94m运行时间： 0.0秒\u001b[0m\n"
     ]
    },
    {
     "name": "stderr",
     "output_type": "stream",
     "text": [
      "zap-8核:  62%|██████▏   | 185/300 [00:48<00:33,  3.46cmd/s]"
     ]
    },
    {
     "name": "stdout",
     "output_type": "stream",
     "text": [
      "程序运行路径为: /home/pl/work/python-workspance/FAST_pulsar_search_pl/03_barydata\n",
      "日志文件为：/home/pl/work/python-workspance/FAST_pulsar_search_pl/LOG/04_ZAP/LOG_04-ZAP-33.92.txt\n",
      "程序运行路径为: /home/pl/work/python-workspance/FAST_pulsar_search_pl/03_barydata\n",
      "日志文件为：/home/pl/work/python-workspance/FAST_pulsar_search_pl/LOG/04_ZAP/LOG_04-ZAP-33.93.txt\n",
      "运行命令：\u001b[96mzapbirds -zap -zapfile /home/pl/work/python-workspance/FAST_pulsar_search_pl/02_BIRDIES/j1631_FAST_pulsar_search_pl_DM00.00.zaplist /home/pl/work/python-workspance/FAST_pulsar_search_pl/03_barydata/j1631_FAST_pulsar_search_pl_bary_DM33.92.fft\u001b[0m\n",
      "\u001b[94m运行时间： 0.0秒\u001b[0m\n",
      "运行命令：\u001b[96mzapbirds -zap -zapfile /home/pl/work/python-workspance/FAST_pulsar_search_pl/02_BIRDIES/j1631_FAST_pulsar_search_pl_DM00.00.zaplist /home/pl/work/python-workspance/FAST_pulsar_search_pl/03_barydata/j1631_FAST_pulsar_search_pl_bary_DM33.93.fft\u001b[0m\n",
      "\u001b[94m运行时间： 0.0秒\u001b[0m\n",
      "程序运行路径为: /home/pl/work/python-workspance/FAST_pulsar_search_pl/03_barydata\n",
      "日志文件为：/home/pl/work/python-workspance/FAST_pulsar_search_pl/LOG/04_ZAP/LOG_04-ZAP-33.94.txt\n",
      "运行命令：\u001b[96mzapbirds -zap -zapfile /home/pl/work/python-workspance/FAST_pulsar_search_pl/02_BIRDIES/j1631_FAST_pulsar_search_pl_DM00.00.zaplist /home/pl/work/python-workspance/FAST_pulsar_search_pl/03_barydata/j1631_FAST_pulsar_search_pl_bary_DM33.94.fft\u001b[0m\n",
      "\u001b[94m运行时间： 0.0秒\u001b[0m\n",
      "程序运行路径为: /home/pl/work/python-workspance/FAST_pulsar_search_pl/03_barydata\n",
      "日志文件为：/home/pl/work/python-workspance/FAST_pulsar_search_pl/LOG/04_ZAP/LOG_04-ZAP-33.95.txt\n",
      "运行命令：\u001b[96mzapbirds -zap -zapfile /home/pl/work/python-workspance/FAST_pulsar_search_pl/02_BIRDIES/j1631_FAST_pulsar_search_pl_DM00.00.zaplist /home/pl/work/python-workspance/FAST_pulsar_search_pl/03_barydata/j1631_FAST_pulsar_search_pl_bary_DM33.95.fft\u001b[0m\n",
      "\u001b[94m运行时间： 0.0秒\u001b[0m\n"
     ]
    },
    {
     "name": "stderr",
     "output_type": "stream",
     "text": [
      "zap-8核:  63%|██████▎   | 189/300 [00:48<00:23,  4.68cmd/s]"
     ]
    },
    {
     "name": "stdout",
     "output_type": "stream",
     "text": [
      "程序运行路径为: /home/pl/work/python-workspance/FAST_pulsar_search_pl/03_barydata\n",
      "日志文件为：/home/pl/work/python-workspance/FAST_pulsar_search_pl/LOG/04_ZAP/LOG_04-ZAP-33.96.txt\n",
      "程序运行路径为: /home/pl/work/python-workspance/FAST_pulsar_search_pl/03_barydata\n",
      "日志文件为：/home/pl/work/python-workspance/FAST_pulsar_search_pl/LOG/04_ZAP/LOG_04-ZAP-33.97.txt\n",
      "程序运行路径为: /home/pl/work/python-workspance/FAST_pulsar_search_pl/03_barydata\n",
      "运行命令：\u001b[96mzapbirds -zap -zapfile /home/pl/work/python-workspance/FAST_pulsar_search_pl/02_BIRDIES/j1631_FAST_pulsar_search_pl_DM00.00.zaplist /home/pl/work/python-workspance/FAST_pulsar_search_pl/03_barydata/j1631_FAST_pulsar_search_pl_bary_DM33.96.fft\u001b[0m\n",
      "程序运行路径为: /home/pl/work/python-workspance/FAST_pulsar_search_pl/03_barydata\n",
      "日志文件为：/home/pl/work/python-workspance/FAST_pulsar_search_pl/LOG/04_ZAP/LOG_04-ZAP-33.99.txt\n",
      "日志文件为：/home/pl/work/python-workspance/FAST_pulsar_search_pl/LOG/04_ZAP/LOG_04-ZAP-33.98.txt\n",
      "\u001b[94m运行时间： 0.0秒\u001b[0m\n",
      "运行命令：\u001b[96mzapbirds -zap -zapfile /home/pl/work/python-workspance/FAST_pulsar_search_pl/02_BIRDIES/j1631_FAST_pulsar_search_pl_DM00.00.zaplist /home/pl/work/python-workspance/FAST_pulsar_search_pl/03_barydata/j1631_FAST_pulsar_search_pl_bary_DM33.99.fft\u001b[0m\n",
      "运行命令：\u001b[96mzapbirds -zap -zapfile /home/pl/work/python-workspance/FAST_pulsar_search_pl/02_BIRDIES/j1631_FAST_pulsar_search_pl_DM00.00.zaplist /home/pl/work/python-workspance/FAST_pulsar_search_pl/03_barydata/j1631_FAST_pulsar_search_pl_bary_DM33.98.fft\u001b[0m\n",
      "运行命令：\u001b[96mzapbirds -zap -zapfile /home/pl/work/python-workspance/FAST_pulsar_search_pl/02_BIRDIES/j1631_FAST_pulsar_search_pl_DM00.00.zaplist /home/pl/work/python-workspance/FAST_pulsar_search_pl/03_barydata/j1631_FAST_pulsar_search_pl_bary_DM33.97.fft\u001b[0m\n",
      "\u001b[94m运行时间： 0.0秒\u001b[0m\n",
      "\u001b[94m运行时间： 0.0秒\u001b[0m\n",
      "\u001b[94m运行时间： 0.0秒\u001b[0m\n"
     ]
    },
    {
     "name": "stderr",
     "output_type": "stream",
     "text": [
      "zap-8核:  64%|██████▍   | 193/300 [00:50<00:31,  3.43cmd/s]"
     ]
    },
    {
     "name": "stdout",
     "output_type": "stream",
     "text": [
      "程序运行路径为: /home/pl/work/python-workspance/FAST_pulsar_search_pl/03_barydata\n",
      "日志文件为：/home/pl/work/python-workspance/FAST_pulsar_search_pl/LOG/04_ZAP/LOG_04-ZAP-34.00.txt\n",
      "程序运行路径为: /home/pl/work/python-workspance/FAST_pulsar_search_pl/03_barydata\n",
      "日志文件为：/home/pl/work/python-workspance/FAST_pulsar_search_pl/LOG/04_ZAP/LOG_04-ZAP-34.01.txt\n",
      "运行命令：\u001b[96mzapbirds -zap -zapfile /home/pl/work/python-workspance/FAST_pulsar_search_pl/02_BIRDIES/j1631_FAST_pulsar_search_pl_DM00.00.zaplist /home/pl/work/python-workspance/FAST_pulsar_search_pl/03_barydata/j1631_FAST_pulsar_search_pl_bary_DM34.00.fft\u001b[0m\n",
      "\u001b[94m运行时间： 0.0秒\u001b[0m\n",
      "运行命令：\u001b[96mzapbirds -zap -zapfile /home/pl/work/python-workspance/FAST_pulsar_search_pl/02_BIRDIES/j1631_FAST_pulsar_search_pl_DM00.00.zaplist /home/pl/work/python-workspance/FAST_pulsar_search_pl/03_barydata/j1631_FAST_pulsar_search_pl_bary_DM34.01.fft\u001b[0m\n",
      "\u001b[94m运行时间： 0.0秒\u001b[0m\n",
      "程序运行路径为: /home/pl/work/python-workspance/FAST_pulsar_search_pl/03_barydata\n",
      "日志文件为：/home/pl/work/python-workspance/FAST_pulsar_search_pl/LOG/04_ZAP/LOG_04-ZAP-34.02.txt\n",
      "运行命令：\u001b[96mzapbirds -zap -zapfile /home/pl/work/python-workspance/FAST_pulsar_search_pl/02_BIRDIES/j1631_FAST_pulsar_search_pl_DM00.00.zaplist /home/pl/work/python-workspance/FAST_pulsar_search_pl/03_barydata/j1631_FAST_pulsar_search_pl_bary_DM34.02.fft\u001b[0m\n",
      "\u001b[94m运行时间： 0.0秒\u001b[0m\n",
      "程序运行路径为: /home/pl/work/python-workspance/FAST_pulsar_search_pl/03_barydata\n",
      "日志文件为：/home/pl/work/python-workspance/FAST_pulsar_search_pl/LOG/04_ZAP/LOG_04-ZAP-34.03.txt\n",
      "运行命令：\u001b[96mzapbirds -zap -zapfile /home/pl/work/python-workspance/FAST_pulsar_search_pl/02_BIRDIES/j1631_FAST_pulsar_search_pl_DM00.00.zaplist /home/pl/work/python-workspance/FAST_pulsar_search_pl/03_barydata/j1631_FAST_pulsar_search_pl_bary_DM34.03.fft\u001b[0m\n",
      "\u001b[94m运行时间： 0.0秒\u001b[0m\n"
     ]
    },
    {
     "name": "stderr",
     "output_type": "stream",
     "text": [
      "zap-8核:  66%|██████▌   | 197/300 [00:50<00:21,  4.70cmd/s]"
     ]
    },
    {
     "name": "stdout",
     "output_type": "stream",
     "text": [
      "程序运行路径为: /home/pl/work/python-workspance/FAST_pulsar_search_pl/03_barydata\n",
      "日志文件为：/home/pl/work/python-workspance/FAST_pulsar_search_pl/LOG/04_ZAP/LOG_04-ZAP-34.04.txt\n",
      "运行命令：\u001b[96mzapbirds -zap -zapfile /home/pl/work/python-workspance/FAST_pulsar_search_pl/02_BIRDIES/j1631_FAST_pulsar_search_pl_DM00.00.zaplist /home/pl/work/python-workspance/FAST_pulsar_search_pl/03_barydata/j1631_FAST_pulsar_search_pl_bary_DM34.04.fft\u001b[0m\n",
      "程序运行路径为: /home/pl/work/python-workspance/FAST_pulsar_search_pl/03_barydata\n",
      "程序运行路径为: /home/pl/work/python-workspance/FAST_pulsar_search_pl/03_barydata\n",
      "程序运行路径为: /home/pl/work/python-workspance/FAST_pulsar_search_pl/03_barydata\n",
      "\u001b[94m运行时间： 0.0秒\u001b[0m\n",
      "日志文件为：/home/pl/work/python-workspance/FAST_pulsar_search_pl/LOG/04_ZAP/LOG_04-ZAP-34.06.txt\n",
      "日志文件为：/home/pl/work/python-workspance/FAST_pulsar_search_pl/LOG/04_ZAP/LOG_04-ZAP-34.05.txt\n",
      "日志文件为：/home/pl/work/python-workspance/FAST_pulsar_search_pl/LOG/04_ZAP/LOG_04-ZAP-34.07.txt\n",
      "运行命令：\u001b[96mzapbirds -zap -zapfile /home/pl/work/python-workspance/FAST_pulsar_search_pl/02_BIRDIES/j1631_FAST_pulsar_search_pl_DM00.00.zaplist /home/pl/work/python-workspance/FAST_pulsar_search_pl/03_barydata/j1631_FAST_pulsar_search_pl_bary_DM34.05.fft\u001b[0m\n",
      "运行命令：\u001b[96mzapbirds -zap -zapfile /home/pl/work/python-workspance/FAST_pulsar_search_pl/02_BIRDIES/j1631_FAST_pulsar_search_pl_DM00.00.zaplist /home/pl/work/python-workspance/FAST_pulsar_search_pl/03_barydata/j1631_FAST_pulsar_search_pl_bary_DM34.07.fft\u001b[0m\n",
      "\u001b[94m运行时间： 0.0秒\u001b[0m\n",
      "\u001b[94m运行时间： 0.0秒\u001b[0m\n",
      "运行命令：\u001b[96mzapbirds -zap -zapfile /home/pl/work/python-workspance/FAST_pulsar_search_pl/02_BIRDIES/j1631_FAST_pulsar_search_pl_DM00.00.zaplist /home/pl/work/python-workspance/FAST_pulsar_search_pl/03_barydata/j1631_FAST_pulsar_search_pl_bary_DM34.06.fft\u001b[0m\n",
      "\u001b[94m运行时间： 0.0秒\u001b[0m\n"
     ]
    },
    {
     "name": "stderr",
     "output_type": "stream",
     "text": [
      "zap-8核:  67%|██████▋   | 201/300 [00:52<00:28,  3.43cmd/s]"
     ]
    },
    {
     "name": "stdout",
     "output_type": "stream",
     "text": [
      "程序运行路径为: /home/pl/work/python-workspance/FAST_pulsar_search_pl/03_barydata\n",
      "日志文件为：/home/pl/work/python-workspance/FAST_pulsar_search_pl/LOG/04_ZAP/LOG_04-ZAP-34.08.txt\n",
      "程序运行路径为: /home/pl/work/python-workspance/FAST_pulsar_search_pl/03_barydata\n",
      "日志文件为：/home/pl/work/python-workspance/FAST_pulsar_search_pl/LOG/04_ZAP/LOG_04-ZAP-34.09.txt\n",
      "运行命令：\u001b[96mzapbirds -zap -zapfile /home/pl/work/python-workspance/FAST_pulsar_search_pl/02_BIRDIES/j1631_FAST_pulsar_search_pl_DM00.00.zaplist /home/pl/work/python-workspance/FAST_pulsar_search_pl/03_barydata/j1631_FAST_pulsar_search_pl_bary_DM34.08.fft\u001b[0m\n",
      "\u001b[94m运行时间： 0.0秒\u001b[0m\n",
      "运行命令：\u001b[96mzapbirds -zap -zapfile /home/pl/work/python-workspance/FAST_pulsar_search_pl/02_BIRDIES/j1631_FAST_pulsar_search_pl_DM00.00.zaplist /home/pl/work/python-workspance/FAST_pulsar_search_pl/03_barydata/j1631_FAST_pulsar_search_pl_bary_DM34.09.fft\u001b[0m\n",
      "\u001b[94m运行时间： 0.0秒\u001b[0m\n",
      "程序运行路径为: /home/pl/work/python-workspance/FAST_pulsar_search_pl/03_barydata\n",
      "日志文件为：/home/pl/work/python-workspance/FAST_pulsar_search_pl/LOG/04_ZAP/LOG_04-ZAP-34.10.txt\n",
      "运行命令：\u001b[96mzapbirds -zap -zapfile /home/pl/work/python-workspance/FAST_pulsar_search_pl/02_BIRDIES/j1631_FAST_pulsar_search_pl_DM00.00.zaplist /home/pl/work/python-workspance/FAST_pulsar_search_pl/03_barydata/j1631_FAST_pulsar_search_pl_bary_DM34.10.fft\u001b[0m\n",
      "\u001b[94m运行时间： 0.0秒\u001b[0m\n",
      "程序运行路径为: /home/pl/work/python-workspance/FAST_pulsar_search_pl/03_barydata\n",
      "日志文件为：/home/pl/work/python-workspance/FAST_pulsar_search_pl/LOG/04_ZAP/LOG_04-ZAP-34.11.txt\n",
      "运行命令：\u001b[96mzapbirds -zap -zapfile /home/pl/work/python-workspance/FAST_pulsar_search_pl/02_BIRDIES/j1631_FAST_pulsar_search_pl_DM00.00.zaplist /home/pl/work/python-workspance/FAST_pulsar_search_pl/03_barydata/j1631_FAST_pulsar_search_pl_bary_DM34.11.fft\u001b[0m\n",
      "\u001b[94m运行时间： 0.0秒\u001b[0m\n"
     ]
    },
    {
     "name": "stderr",
     "output_type": "stream",
     "text": [
      "zap-8核:  68%|██████▊   | 205/300 [00:52<00:20,  4.71cmd/s]"
     ]
    },
    {
     "name": "stdout",
     "output_type": "stream",
     "text": [
      "程序运行路径为: /home/pl/work/python-workspance/FAST_pulsar_search_pl/03_barydata\n",
      "日志文件为：/home/pl/work/python-workspance/FAST_pulsar_search_pl/LOG/04_ZAP/LOG_04-ZAP-34.12.txt\n",
      "运行命令：\u001b[96mzapbirds -zap -zapfile /home/pl/work/python-workspance/FAST_pulsar_search_pl/02_BIRDIES/j1631_FAST_pulsar_search_pl_DM00.00.zaplist /home/pl/work/python-workspance/FAST_pulsar_search_pl/03_barydata/j1631_FAST_pulsar_search_pl_bary_DM34.12.fft\u001b[0m\n",
      "\u001b[94m运行时间： 0.0秒\u001b[0m\n",
      "程序运行路径为: /home/pl/work/python-workspance/FAST_pulsar_search_pl/03_barydata\n",
      "程序运行路径为: /home/pl/work/python-workspance/FAST_pulsar_search_pl/03_barydata\n",
      "程序运行路径为: /home/pl/work/python-workspance/FAST_pulsar_search_pl/03_barydata\n",
      "日志文件为：/home/pl/work/python-workspance/FAST_pulsar_search_pl/LOG/04_ZAP/LOG_04-ZAP-34.13.txt\n",
      "日志文件为：/home/pl/work/python-workspance/FAST_pulsar_search_pl/LOG/04_ZAP/LOG_04-ZAP-34.14.txt\n",
      "日志文件为：/home/pl/work/python-workspance/FAST_pulsar_search_pl/LOG/04_ZAP/LOG_04-ZAP-34.15.txt\n",
      "运行命令：\u001b[96mzapbirds -zap -zapfile /home/pl/work/python-workspance/FAST_pulsar_search_pl/02_BIRDIES/j1631_FAST_pulsar_search_pl_DM00.00.zaplist /home/pl/work/python-workspance/FAST_pulsar_search_pl/03_barydata/j1631_FAST_pulsar_search_pl_bary_DM34.13.fft\u001b[0m\n",
      "运行命令：\u001b[96mzapbirds -zap -zapfile /home/pl/work/python-workspance/FAST_pulsar_search_pl/02_BIRDIES/j1631_FAST_pulsar_search_pl_DM00.00.zaplist /home/pl/work/python-workspance/FAST_pulsar_search_pl/03_barydata/j1631_FAST_pulsar_search_pl_bary_DM34.15.fft\u001b[0m\n",
      "\u001b[94m运行时间： 0.0秒\u001b[0m\n",
      "\u001b[94m运行时间： 0.0秒\u001b[0m\n",
      "运行命令：\u001b[96mzapbirds -zap -zapfile /home/pl/work/python-workspance/FAST_pulsar_search_pl/02_BIRDIES/j1631_FAST_pulsar_search_pl_DM00.00.zaplist /home/pl/work/python-workspance/FAST_pulsar_search_pl/03_barydata/j1631_FAST_pulsar_search_pl_bary_DM34.14.fft\u001b[0m\n",
      "\u001b[94m运行时间： 0.0秒\u001b[0m\n"
     ]
    },
    {
     "name": "stderr",
     "output_type": "stream",
     "text": [
      "zap-8核:  70%|██████▉   | 209/300 [00:54<00:26,  3.44cmd/s]"
     ]
    },
    {
     "name": "stdout",
     "output_type": "stream",
     "text": [
      "程序运行路径为: /home/pl/work/python-workspance/FAST_pulsar_search_pl/03_barydata\n",
      "日志文件为：/home/pl/work/python-workspance/FAST_pulsar_search_pl/LOG/04_ZAP/LOG_04-ZAP-34.16.txt\n",
      "运行命令：\u001b[96mzapbirds -zap -zapfile /home/pl/work/python-workspance/FAST_pulsar_search_pl/02_BIRDIES/j1631_FAST_pulsar_search_pl_DM00.00.zaplist /home/pl/work/python-workspance/FAST_pulsar_search_pl/03_barydata/j1631_FAST_pulsar_search_pl_bary_DM34.16.fft\u001b[0m\n",
      "\u001b[94m运行时间： 0.0秒\u001b[0m\n",
      "程序运行路径为: /home/pl/work/python-workspance/FAST_pulsar_search_pl/03_barydata\n",
      "日志文件为：/home/pl/work/python-workspance/FAST_pulsar_search_pl/LOG/04_ZAP/LOG_04-ZAP-34.17.txt\n",
      "运行命令：\u001b[96mzapbirds -zap -zapfile /home/pl/work/python-workspance/FAST_pulsar_search_pl/02_BIRDIES/j1631_FAST_pulsar_search_pl_DM00.00.zaplist /home/pl/work/python-workspance/FAST_pulsar_search_pl/03_barydata/j1631_FAST_pulsar_search_pl_bary_DM34.17.fft\u001b[0m\n",
      "\u001b[94m运行时间： 0.0秒\u001b[0m\n",
      "程序运行路径为: /home/pl/work/python-workspance/FAST_pulsar_search_pl/03_barydata\n",
      "日志文件为：/home/pl/work/python-workspance/FAST_pulsar_search_pl/LOG/04_ZAP/LOG_04-ZAP-34.18.txt\n",
      "运行命令：\u001b[96mzapbirds -zap -zapfile /home/pl/work/python-workspance/FAST_pulsar_search_pl/02_BIRDIES/j1631_FAST_pulsar_search_pl_DM00.00.zaplist /home/pl/work/python-workspance/FAST_pulsar_search_pl/03_barydata/j1631_FAST_pulsar_search_pl_bary_DM34.18.fft\u001b[0m\n",
      "\u001b[94m运行时间： 0.0秒\u001b[0m\n",
      "程序运行路径为: /home/pl/work/python-workspance/FAST_pulsar_search_pl/03_barydata\n",
      "日志文件为：/home/pl/work/python-workspance/FAST_pulsar_search_pl/LOG/04_ZAP/LOG_04-ZAP-34.19.txt\n",
      "运行命令：\u001b[96mzapbirds -zap -zapfile /home/pl/work/python-workspance/FAST_pulsar_search_pl/02_BIRDIES/j1631_FAST_pulsar_search_pl_DM00.00.zaplist /home/pl/work/python-workspance/FAST_pulsar_search_pl/03_barydata/j1631_FAST_pulsar_search_pl_bary_DM34.19.fft\u001b[0m\n",
      "\u001b[94m运行时间： 0.0秒\u001b[0m\n"
     ]
    },
    {
     "name": "stderr",
     "output_type": "stream",
     "text": [
      "zap-8核:  71%|███████   | 213/300 [00:54<00:18,  4.71cmd/s]"
     ]
    },
    {
     "name": "stdout",
     "output_type": "stream",
     "text": [
      "程序运行路径为: /home/pl/work/python-workspance/FAST_pulsar_search_pl/03_barydata\n",
      "日志文件为：/home/pl/work/python-workspance/FAST_pulsar_search_pl/LOG/04_ZAP/LOG_04-ZAP-34.20.txt\n",
      "运行命令：\u001b[96mzapbirds -zap -zapfile /home/pl/work/python-workspance/FAST_pulsar_search_pl/02_BIRDIES/j1631_FAST_pulsar_search_pl_DM00.00.zaplist /home/pl/work/python-workspance/FAST_pulsar_search_pl/03_barydata/j1631_FAST_pulsar_search_pl_bary_DM34.20.fft\u001b[0m\n",
      "\u001b[94m运行时间： 0.0秒\u001b[0m\n",
      "程序运行路径为: /home/pl/work/python-workspance/FAST_pulsar_search_pl/03_barydata\n",
      "程序运行路径为: /home/pl/work/python-workspance/FAST_pulsar_search_pl/03_barydata\n",
      "日志文件为：/home/pl/work/python-workspance/FAST_pulsar_search_pl/LOG/04_ZAP/LOG_04-ZAP-34.21.txt\n",
      "日志文件为：/home/pl/work/python-workspance/FAST_pulsar_search_pl/LOG/04_ZAP/LOG_04-ZAP-34.22.txt\n",
      "程序运行路径为: /home/pl/work/python-workspance/FAST_pulsar_search_pl/03_barydata\n",
      "日志文件为：/home/pl/work/python-workspance/FAST_pulsar_search_pl/LOG/04_ZAP/LOG_04-ZAP-34.23.txt\n",
      "运行命令：\u001b[96mzapbirds -zap -zapfile /home/pl/work/python-workspance/FAST_pulsar_search_pl/02_BIRDIES/j1631_FAST_pulsar_search_pl_DM00.00.zaplist /home/pl/work/python-workspance/FAST_pulsar_search_pl/03_barydata/j1631_FAST_pulsar_search_pl_bary_DM34.22.fft\u001b[0m\n",
      "运行命令：\u001b[96mzapbirds -zap -zapfile /home/pl/work/python-workspance/FAST_pulsar_search_pl/02_BIRDIES/j1631_FAST_pulsar_search_pl_DM00.00.zaplist /home/pl/work/python-workspance/FAST_pulsar_search_pl/03_barydata/j1631_FAST_pulsar_search_pl_bary_DM34.21.fft\u001b[0m\n",
      "\u001b[94m运行时间： 0.0秒\u001b[0m\n",
      "\u001b[94m运行时间： 0.0秒\u001b[0m\n",
      "运行命令：\u001b[96mzapbirds -zap -zapfile /home/pl/work/python-workspance/FAST_pulsar_search_pl/02_BIRDIES/j1631_FAST_pulsar_search_pl_DM00.00.zaplist /home/pl/work/python-workspance/FAST_pulsar_search_pl/03_barydata/j1631_FAST_pulsar_search_pl_bary_DM34.23.fft\u001b[0m\n",
      "\u001b[94m运行时间： 0.0秒\u001b[0m\n"
     ]
    },
    {
     "name": "stderr",
     "output_type": "stream",
     "text": [
      "zap-8核:  72%|███████▏  | 217/300 [00:56<00:24,  3.43cmd/s]"
     ]
    },
    {
     "name": "stdout",
     "output_type": "stream",
     "text": [
      "程序运行路径为: /home/pl/work/python-workspance/FAST_pulsar_search_pl/03_barydata\n",
      "日志文件为：/home/pl/work/python-workspance/FAST_pulsar_search_pl/LOG/04_ZAP/LOG_04-ZAP-34.24.txt\n",
      "运行命令：\u001b[96mzapbirds -zap -zapfile /home/pl/work/python-workspance/FAST_pulsar_search_pl/02_BIRDIES/j1631_FAST_pulsar_search_pl_DM00.00.zaplist /home/pl/work/python-workspance/FAST_pulsar_search_pl/03_barydata/j1631_FAST_pulsar_search_pl_bary_DM34.24.fft\u001b[0m\n",
      "\u001b[94m运行时间： 0.0秒\u001b[0m\n",
      "程序运行路径为: /home/pl/work/python-workspance/FAST_pulsar_search_pl/03_barydata\n",
      "日志文件为：/home/pl/work/python-workspance/FAST_pulsar_search_pl/LOG/04_ZAP/LOG_04-ZAP-34.25.txt\n",
      "程序运行路径为: /home/pl/work/python-workspance/FAST_pulsar_search_pl/03_barydata\n",
      "日志文件为：/home/pl/work/python-workspance/FAST_pulsar_search_pl/LOG/04_ZAP/LOG_04-ZAP-34.26.txt\n",
      "运行命令：\u001b[96mzapbirds -zap -zapfile /home/pl/work/python-workspance/FAST_pulsar_search_pl/02_BIRDIES/j1631_FAST_pulsar_search_pl_DM00.00.zaplist /home/pl/work/python-workspance/FAST_pulsar_search_pl/03_barydata/j1631_FAST_pulsar_search_pl_bary_DM34.26.fft\u001b[0m\n",
      "运行命令：\u001b[96mzapbirds -zap -zapfile /home/pl/work/python-workspance/FAST_pulsar_search_pl/02_BIRDIES/j1631_FAST_pulsar_search_pl_DM00.00.zaplist /home/pl/work/python-workspance/FAST_pulsar_search_pl/03_barydata/j1631_FAST_pulsar_search_pl_bary_DM34.25.fft\u001b[0m\n",
      "\u001b[94m运行时间： 0.0秒\u001b[0m\n",
      "\u001b[94m运行时间： 0.0秒\u001b[0m\n",
      "程序运行路径为: /home/pl/work/python-workspance/FAST_pulsar_search_pl/03_barydata\n",
      "日志文件为：/home/pl/work/python-workspance/FAST_pulsar_search_pl/LOG/04_ZAP/LOG_04-ZAP-34.27.txt\n",
      "运行命令：\u001b[96mzapbirds -zap -zapfile /home/pl/work/python-workspance/FAST_pulsar_search_pl/02_BIRDIES/j1631_FAST_pulsar_search_pl_DM00.00.zaplist /home/pl/work/python-workspance/FAST_pulsar_search_pl/03_barydata/j1631_FAST_pulsar_search_pl_bary_DM34.27.fft\u001b[0m\n",
      "\u001b[94m运行时间： 0.0秒\u001b[0m\n"
     ]
    },
    {
     "name": "stderr",
     "output_type": "stream",
     "text": [
      "zap-8核:  74%|███████▎  | 221/300 [00:56<00:16,  4.72cmd/s]"
     ]
    },
    {
     "name": "stdout",
     "output_type": "stream",
     "text": [
      "程序运行路径为: /home/pl/work/python-workspance/FAST_pulsar_search_pl/03_barydata\n",
      "日志文件为：/home/pl/work/python-workspance/FAST_pulsar_search_pl/LOG/04_ZAP/LOG_04-ZAP-34.28.txt\n",
      "运行命令：\u001b[96mzapbirds -zap -zapfile /home/pl/work/python-workspance/FAST_pulsar_search_pl/02_BIRDIES/j1631_FAST_pulsar_search_pl_DM00.00.zaplist /home/pl/work/python-workspance/FAST_pulsar_search_pl/03_barydata/j1631_FAST_pulsar_search_pl_bary_DM34.28.fft\u001b[0m\n",
      "\u001b[94m运行时间： 0.0秒\u001b[0m\n",
      "程序运行路径为: /home/pl/work/python-workspance/FAST_pulsar_search_pl/03_barydata\n",
      "程序运行路径为: /home/pl/work/python-workspance/FAST_pulsar_search_pl/03_barydata\n",
      "日志文件为：/home/pl/work/python-workspance/FAST_pulsar_search_pl/LOG/04_ZAP/LOG_04-ZAP-34.30.txt\n",
      "日志文件为：/home/pl/work/python-workspance/FAST_pulsar_search_pl/LOG/04_ZAP/LOG_04-ZAP-34.29.txt\n",
      "程序运行路径为: /home/pl/work/python-workspance/FAST_pulsar_search_pl/03_barydata\n",
      "运行命令：\u001b[96mzapbirds -zap -zapfile /home/pl/work/python-workspance/FAST_pulsar_search_pl/02_BIRDIES/j1631_FAST_pulsar_search_pl_DM00.00.zaplist /home/pl/work/python-workspance/FAST_pulsar_search_pl/03_barydata/j1631_FAST_pulsar_search_pl_bary_DM34.29.fft\u001b[0m\n",
      "日志文件为：/home/pl/work/python-workspance/FAST_pulsar_search_pl/LOG/04_ZAP/LOG_04-ZAP-34.31.txt\n",
      "\u001b[94m运行时间： 0.0秒\u001b[0m\n",
      "运行命令：\u001b[96mzapbirds -zap -zapfile /home/pl/work/python-workspance/FAST_pulsar_search_pl/02_BIRDIES/j1631_FAST_pulsar_search_pl_DM00.00.zaplist /home/pl/work/python-workspance/FAST_pulsar_search_pl/03_barydata/j1631_FAST_pulsar_search_pl_bary_DM34.30.fft\u001b[0m\n",
      "\u001b[94m运行时间： 0.0秒\u001b[0m\n",
      "运行命令：\u001b[96mzapbirds -zap -zapfile /home/pl/work/python-workspance/FAST_pulsar_search_pl/02_BIRDIES/j1631_FAST_pulsar_search_pl_DM00.00.zaplist /home/pl/work/python-workspance/FAST_pulsar_search_pl/03_barydata/j1631_FAST_pulsar_search_pl_bary_DM34.31.fft\u001b[0m\n",
      "\u001b[94m运行时间： 0.0秒\u001b[0m\n"
     ]
    },
    {
     "name": "stderr",
     "output_type": "stream",
     "text": [
      "zap-8核:  75%|███████▌  | 225/300 [00:58<00:21,  3.43cmd/s]"
     ]
    },
    {
     "name": "stdout",
     "output_type": "stream",
     "text": [
      "程序运行路径为: /home/pl/work/python-workspance/FAST_pulsar_search_pl/03_barydata\n",
      "日志文件为：/home/pl/work/python-workspance/FAST_pulsar_search_pl/LOG/04_ZAP/LOG_04-ZAP-34.32.txt\n",
      "程序运行路径为: /home/pl/work/python-workspance/FAST_pulsar_search_pl/03_barydata\n",
      "程序运行路径为: /home/pl/work/python-workspance/FAST_pulsar_search_pl/03_barydata\n",
      "日志文件为：/home/pl/work/python-workspance/FAST_pulsar_search_pl/LOG/04_ZAP/LOG_04-ZAP-34.33.txt\n",
      "日志文件为：/home/pl/work/python-workspance/FAST_pulsar_search_pl/LOG/04_ZAP/LOG_04-ZAP-34.34.txt\n",
      "运行命令：\u001b[96mzapbirds -zap -zapfile /home/pl/work/python-workspance/FAST_pulsar_search_pl/02_BIRDIES/j1631_FAST_pulsar_search_pl_DM00.00.zaplist /home/pl/work/python-workspance/FAST_pulsar_search_pl/03_barydata/j1631_FAST_pulsar_search_pl_bary_DM34.32.fft\u001b[0m\n",
      "\u001b[94m运行时间： 0.0秒\u001b[0m\n",
      "运行命令：\u001b[96mzapbirds -zap -zapfile /home/pl/work/python-workspance/FAST_pulsar_search_pl/02_BIRDIES/j1631_FAST_pulsar_search_pl_DM00.00.zaplist /home/pl/work/python-workspance/FAST_pulsar_search_pl/03_barydata/j1631_FAST_pulsar_search_pl_bary_DM34.33.fft\u001b[0m\n",
      "\u001b[94m运行时间： 0.0秒\u001b[0m\n",
      "运行命令：\u001b[96mzapbirds -zap -zapfile /home/pl/work/python-workspance/FAST_pulsar_search_pl/02_BIRDIES/j1631_FAST_pulsar_search_pl_DM00.00.zaplist /home/pl/work/python-workspance/FAST_pulsar_search_pl/03_barydata/j1631_FAST_pulsar_search_pl_bary_DM34.34.fft\u001b[0m\n",
      "\u001b[94m运行时间： 0.0秒\u001b[0m\n",
      "程序运行路径为: /home/pl/work/python-workspance/FAST_pulsar_search_pl/03_barydata\n",
      "日志文件为：/home/pl/work/python-workspance/FAST_pulsar_search_pl/LOG/04_ZAP/LOG_04-ZAP-34.35.txt\n",
      "运行命令：\u001b[96mzapbirds -zap -zapfile /home/pl/work/python-workspance/FAST_pulsar_search_pl/02_BIRDIES/j1631_FAST_pulsar_search_pl_DM00.00.zaplist /home/pl/work/python-workspance/FAST_pulsar_search_pl/03_barydata/j1631_FAST_pulsar_search_pl_bary_DM34.35.fft\u001b[0m\n",
      "\u001b[94m运行时间： 0.0秒\u001b[0m\n"
     ]
    },
    {
     "name": "stderr",
     "output_type": "stream",
     "text": [
      "zap-8核:  76%|███████▋  | 229/300 [00:58<00:15,  4.72cmd/s]"
     ]
    },
    {
     "name": "stdout",
     "output_type": "stream",
     "text": [
      "程序运行路径为: /home/pl/work/python-workspance/FAST_pulsar_search_pl/03_barydata\n",
      "日志文件为：/home/pl/work/python-workspance/FAST_pulsar_search_pl/LOG/04_ZAP/LOG_04-ZAP-34.36.txt\n",
      "运行命令：\u001b[96mzapbirds -zap -zapfile /home/pl/work/python-workspance/FAST_pulsar_search_pl/02_BIRDIES/j1631_FAST_pulsar_search_pl_DM00.00.zaplist /home/pl/work/python-workspance/FAST_pulsar_search_pl/03_barydata/j1631_FAST_pulsar_search_pl_bary_DM34.36.fft\u001b[0m\n",
      "\u001b[94m运行时间： 0.0秒\u001b[0m\n",
      "程序运行路径为: /home/pl/work/python-workspance/FAST_pulsar_search_pl/03_barydata\n",
      "日志文件为：/home/pl/work/python-workspance/FAST_pulsar_search_pl/LOG/04_ZAP/LOG_04-ZAP-34.37.txt\n",
      "程序运行路径为: /home/pl/work/python-workspance/FAST_pulsar_search_pl/03_barydata\n",
      "日志文件为：/home/pl/work/python-workspance/FAST_pulsar_search_pl/LOG/04_ZAP/LOG_04-ZAP-34.38.txt\n",
      "程序运行路径为: /home/pl/work/python-workspance/FAST_pulsar_search_pl/03_barydata\n",
      "运行命令：\u001b[96mzapbirds -zap -zapfile /home/pl/work/python-workspance/FAST_pulsar_search_pl/02_BIRDIES/j1631_FAST_pulsar_search_pl_DM00.00.zaplist /home/pl/work/python-workspance/FAST_pulsar_search_pl/03_barydata/j1631_FAST_pulsar_search_pl_bary_DM34.37.fft\u001b[0m\n",
      "日志文件为：/home/pl/work/python-workspance/FAST_pulsar_search_pl/LOG/04_ZAP/LOG_04-ZAP-34.39.txt\n",
      "\u001b[94m运行时间： 0.0秒\u001b[0m\n",
      "运行命令：\u001b[96mzapbirds -zap -zapfile /home/pl/work/python-workspance/FAST_pulsar_search_pl/02_BIRDIES/j1631_FAST_pulsar_search_pl_DM00.00.zaplist /home/pl/work/python-workspance/FAST_pulsar_search_pl/03_barydata/j1631_FAST_pulsar_search_pl_bary_DM34.38.fft\u001b[0m\n",
      "\u001b[94m运行时间： 0.0秒\u001b[0m\n",
      "运行命令：\u001b[96mzapbirds -zap -zapfile /home/pl/work/python-workspance/FAST_pulsar_search_pl/02_BIRDIES/j1631_FAST_pulsar_search_pl_DM00.00.zaplist /home/pl/work/python-workspance/FAST_pulsar_search_pl/03_barydata/j1631_FAST_pulsar_search_pl_bary_DM34.39.fft\u001b[0m\n",
      "\u001b[94m运行时间： 0.0秒\u001b[0m\n"
     ]
    },
    {
     "name": "stderr",
     "output_type": "stream",
     "text": [
      "zap-8核:  78%|███████▊  | 233/300 [01:00<00:19,  3.40cmd/s]"
     ]
    },
    {
     "name": "stdout",
     "output_type": "stream",
     "text": [
      "程序运行路径为: /home/pl/work/python-workspance/FAST_pulsar_search_pl/03_barydata\n",
      "日志文件为：/home/pl/work/python-workspance/FAST_pulsar_search_pl/LOG/04_ZAP/LOG_04-ZAP-34.40.txt\n",
      "程序运行路径为: /home/pl/work/python-workspance/FAST_pulsar_search_pl/03_barydata\n",
      "日志文件为：/home/pl/work/python-workspance/FAST_pulsar_search_pl/LOG/04_ZAP/LOG_04-ZAP-34.41.txt\n",
      "运行命令：\u001b[96mzapbirds -zap -zapfile /home/pl/work/python-workspance/FAST_pulsar_search_pl/02_BIRDIES/j1631_FAST_pulsar_search_pl_DM00.00.zaplist /home/pl/work/python-workspance/FAST_pulsar_search_pl/03_barydata/j1631_FAST_pulsar_search_pl_bary_DM34.40.fft\u001b[0m\n",
      "\u001b[94m运行时间： 0.0秒\u001b[0m\n",
      "程序运行路径为: /home/pl/work/python-workspance/FAST_pulsar_search_pl/03_barydata\n",
      "日志文件为：/home/pl/work/python-workspance/FAST_pulsar_search_pl/LOG/04_ZAP/LOG_04-ZAP-34.42.txt\n",
      "运行命令：\u001b[96mzapbirds -zap -zapfile /home/pl/work/python-workspance/FAST_pulsar_search_pl/02_BIRDIES/j1631_FAST_pulsar_search_pl_DM00.00.zaplist /home/pl/work/python-workspance/FAST_pulsar_search_pl/03_barydata/j1631_FAST_pulsar_search_pl_bary_DM34.41.fft\u001b[0m\n",
      "\u001b[94m运行时间： 0.0秒\u001b[0m\n",
      "运行命令：\u001b[96mzapbirds -zap -zapfile /home/pl/work/python-workspance/FAST_pulsar_search_pl/02_BIRDIES/j1631_FAST_pulsar_search_pl_DM00.00.zaplist /home/pl/work/python-workspance/FAST_pulsar_search_pl/03_barydata/j1631_FAST_pulsar_search_pl_bary_DM34.42.fft\u001b[0m\n",
      "\u001b[94m运行时间： 0.0秒\u001b[0m\n",
      "程序运行路径为: /home/pl/work/python-workspance/FAST_pulsar_search_pl/03_barydata\n",
      "日志文件为：/home/pl/work/python-workspance/FAST_pulsar_search_pl/LOG/04_ZAP/LOG_04-ZAP-34.43.txt\n",
      "运行命令：\u001b[96mzapbirds -zap -zapfile /home/pl/work/python-workspance/FAST_pulsar_search_pl/02_BIRDIES/j1631_FAST_pulsar_search_pl_DM00.00.zaplist /home/pl/work/python-workspance/FAST_pulsar_search_pl/03_barydata/j1631_FAST_pulsar_search_pl_bary_DM34.43.fft\u001b[0m\n",
      "\u001b[94m运行时间： 0.0秒\u001b[0m\n",
      "程序运行路径为: /home/pl/work/python-workspance/FAST_pulsar_search_pl/03_barydata\n",
      "日志文件为：/home/pl/work/python-workspance/FAST_pulsar_search_pl/LOG/04_ZAP/LOG_04-ZAP-34.44.txt\n",
      "运行命令：\u001b[96mzapbirds -zap -zapfile /home/pl/work/python-workspance/FAST_pulsar_search_pl/02_BIRDIES/j1631_FAST_pulsar_search_pl_DM00.00.zaplist /home/pl/work/python-workspance/FAST_pulsar_search_pl/03_barydata/j1631_FAST_pulsar_search_pl_bary_DM34.44.fft\u001b[0m\n",
      "\u001b[94m运行时间： 0.0秒\u001b[0m\n",
      "程序运行路径为: /home/pl/work/python-workspance/FAST_pulsar_search_pl/03_barydata\n",
      "日志文件为：/home/pl/work/python-workspance/FAST_pulsar_search_pl/LOG/04_ZAP/LOG_04-ZAP-34.45.txt\n",
      "程序运行路径为: /home/pl/work/python-workspance/FAST_pulsar_search_pl/03_barydata\n",
      "日志文件为：/home/pl/work/python-workspance/FAST_pulsar_search_pl/LOG/04_ZAP/LOG_04-ZAP-34.46.txt\n",
      "程序运行路径为: /home/pl/work/python-workspance/FAST_pulsar_search_pl/03_barydata\n",
      "运行命令：\u001b[96mzapbirds -zap -zapfile /home/pl/work/python-workspance/FAST_pulsar_search_pl/02_BIRDIES/j1631_FAST_pulsar_search_pl_DM00.00.zaplist /home/pl/work/python-workspance/FAST_pulsar_search_pl/03_barydata/j1631_FAST_pulsar_search_pl_bary_DM34.45.fft\u001b[0m\n",
      "日志文件为：/home/pl/work/python-workspance/FAST_pulsar_search_pl/LOG/04_ZAP/LOG_04-ZAP-34.47.txt\n",
      "\u001b[94m运行时间： 0.0秒\u001b[0m\n",
      "运行命令：\u001b[96mzapbirds -zap -zapfile /home/pl/work/python-workspance/FAST_pulsar_search_pl/02_BIRDIES/j1631_FAST_pulsar_search_pl_DM00.00.zaplist /home/pl/work/python-workspance/FAST_pulsar_search_pl/03_barydata/j1631_FAST_pulsar_search_pl_bary_DM34.46.fft\u001b[0m\n",
      "\u001b[94m运行时间： 0.0秒\u001b[0m\n",
      "运行命令：\u001b[96mzapbirds -zap -zapfile /home/pl/work/python-workspance/FAST_pulsar_search_pl/02_BIRDIES/j1631_FAST_pulsar_search_pl_DM00.00.zaplist /home/pl/work/python-workspance/FAST_pulsar_search_pl/03_barydata/j1631_FAST_pulsar_search_pl_bary_DM34.47.fft\u001b[0m\n",
      "\u001b[94m运行时间： 0.0秒\u001b[0m\n"
     ]
    },
    {
     "name": "stderr",
     "output_type": "stream",
     "text": [
      "zap-8核:  80%|████████  | 241/300 [01:02<00:16,  3.65cmd/s]"
     ]
    },
    {
     "name": "stdout",
     "output_type": "stream",
     "text": [
      "程序运行路径为: /home/pl/work/python-workspance/FAST_pulsar_search_pl/03_barydata\n",
      "日志文件为：/home/pl/work/python-workspance/FAST_pulsar_search_pl/LOG/04_ZAP/LOG_04-ZAP-34.48.txt\n",
      "程序运行路径为: /home/pl/work/python-workspance/FAST_pulsar_search_pl/03_barydata\n",
      "日志文件为：/home/pl/work/python-workspance/FAST_pulsar_search_pl/LOG/04_ZAP/LOG_04-ZAP-34.49.txt\n",
      "程序运行路径为: /home/pl/work/python-workspance/FAST_pulsar_search_pl/03_barydata\n",
      "日志文件为：/home/pl/work/python-workspance/FAST_pulsar_search_pl/LOG/04_ZAP/LOG_04-ZAP-34.50.txt\n",
      "运行命令：\u001b[96mzapbirds -zap -zapfile /home/pl/work/python-workspance/FAST_pulsar_search_pl/02_BIRDIES/j1631_FAST_pulsar_search_pl_DM00.00.zaplist /home/pl/work/python-workspance/FAST_pulsar_search_pl/03_barydata/j1631_FAST_pulsar_search_pl_bary_DM34.48.fft\u001b[0m\n",
      "\u001b[94m运行时间： 0.0秒\u001b[0m\n",
      "运行命令：\u001b[96mzapbirds -zap -zapfile /home/pl/work/python-workspance/FAST_pulsar_search_pl/02_BIRDIES/j1631_FAST_pulsar_search_pl_DM00.00.zaplist /home/pl/work/python-workspance/FAST_pulsar_search_pl/03_barydata/j1631_FAST_pulsar_search_pl_bary_DM34.49.fft\u001b[0m\n",
      "\u001b[94m运行时间： 0.0秒\u001b[0m\n",
      "运行命令：\u001b[96mzapbirds -zap -zapfile /home/pl/work/python-workspance/FAST_pulsar_search_pl/02_BIRDIES/j1631_FAST_pulsar_search_pl_DM00.00.zaplist /home/pl/work/python-workspance/FAST_pulsar_search_pl/03_barydata/j1631_FAST_pulsar_search_pl_bary_DM34.50.fft\u001b[0m\n",
      "\u001b[94m运行时间： 0.0秒\u001b[0m\n",
      "程序运行路径为: /home/pl/work/python-workspance/FAST_pulsar_search_pl/03_barydata\n",
      "日志文件为：/home/pl/work/python-workspance/FAST_pulsar_search_pl/LOG/04_ZAP/LOG_04-ZAP-34.51.txt\n",
      "运行命令：\u001b[96mzapbirds -zap -zapfile /home/pl/work/python-workspance/FAST_pulsar_search_pl/02_BIRDIES/j1631_FAST_pulsar_search_pl_DM00.00.zaplist /home/pl/work/python-workspance/FAST_pulsar_search_pl/03_barydata/j1631_FAST_pulsar_search_pl_bary_DM34.51.fft\u001b[0m\n",
      "\u001b[94m运行时间： 0.0秒\u001b[0m\n",
      "程序运行路径为: /home/pl/work/python-workspance/FAST_pulsar_search_pl/03_barydata\n",
      "日志文件为：/home/pl/work/python-workspance/FAST_pulsar_search_pl/LOG/04_ZAP/LOG_04-ZAP-34.52.txt\n",
      "运行命令：\u001b[96mzapbirds -zap -zapfile /home/pl/work/python-workspance/FAST_pulsar_search_pl/02_BIRDIES/j1631_FAST_pulsar_search_pl_DM00.00.zaplist /home/pl/work/python-workspance/FAST_pulsar_search_pl/03_barydata/j1631_FAST_pulsar_search_pl_bary_DM34.52.fft\u001b[0m\n",
      "\u001b[94m运行时间： 0.0秒\u001b[0m\n",
      "程序运行路径为: /home/pl/work/python-workspance/FAST_pulsar_search_pl/03_barydata\n",
      "日志文件为：/home/pl/work/python-workspance/FAST_pulsar_search_pl/LOG/04_ZAP/LOG_04-ZAP-34.53.txt\n",
      "程序运行路径为: /home/pl/work/python-workspance/FAST_pulsar_search_pl/03_barydata\n",
      "日志文件为：/home/pl/work/python-workspance/FAST_pulsar_search_pl/LOG/04_ZAP/LOG_04-ZAP-34.54.txt\n",
      "运行命令：\u001b[96mzapbirds -zap -zapfile /home/pl/work/python-workspance/FAST_pulsar_search_pl/02_BIRDIES/j1631_FAST_pulsar_search_pl_DM00.00.zaplist /home/pl/work/python-workspance/FAST_pulsar_search_pl/03_barydata/j1631_FAST_pulsar_search_pl_bary_DM34.53.fft\u001b[0m\n",
      "程序运行路径为: /home/pl/work/python-workspance/FAST_pulsar_search_pl/03_barydata\n",
      "\u001b[94m运行时间： 0.0秒\u001b[0m\n",
      "日志文件为：/home/pl/work/python-workspance/FAST_pulsar_search_pl/LOG/04_ZAP/LOG_04-ZAP-34.55.txt\n",
      "运行命令：\u001b[96mzapbirds -zap -zapfile /home/pl/work/python-workspance/FAST_pulsar_search_pl/02_BIRDIES/j1631_FAST_pulsar_search_pl_DM00.00.zaplist /home/pl/work/python-workspance/FAST_pulsar_search_pl/03_barydata/j1631_FAST_pulsar_search_pl_bary_DM34.54.fft\u001b[0m\n",
      "\u001b[94m运行时间： 0.0秒\u001b[0m\n",
      "运行命令：\u001b[96mzapbirds -zap -zapfile /home/pl/work/python-workspance/FAST_pulsar_search_pl/02_BIRDIES/j1631_FAST_pulsar_search_pl_DM00.00.zaplist /home/pl/work/python-workspance/FAST_pulsar_search_pl/03_barydata/j1631_FAST_pulsar_search_pl_bary_DM34.55.fft\u001b[0m\n",
      "\u001b[94m运行时间： 0.0秒\u001b[0m\n"
     ]
    },
    {
     "name": "stderr",
     "output_type": "stream",
     "text": [
      "zap-8核:  83%|████████▎ | 249/300 [01:04<00:13,  3.77cmd/s]"
     ]
    },
    {
     "name": "stdout",
     "output_type": "stream",
     "text": [
      "程序运行路径为: /home/pl/work/python-workspance/FAST_pulsar_search_pl/03_barydata\n",
      "日志文件为：/home/pl/work/python-workspance/FAST_pulsar_search_pl/LOG/04_ZAP/LOG_04-ZAP-34.56.txt\n",
      "程序运行路径为: /home/pl/work/python-workspance/FAST_pulsar_search_pl/03_barydata\n",
      "日志文件为：/home/pl/work/python-workspance/FAST_pulsar_search_pl/LOG/04_ZAP/LOG_04-ZAP-34.57.txt\n",
      "程序运行路径为: /home/pl/work/python-workspance/FAST_pulsar_search_pl/03_barydata\n",
      "运行命令：\u001b[96mzapbirds -zap -zapfile /home/pl/work/python-workspance/FAST_pulsar_search_pl/02_BIRDIES/j1631_FAST_pulsar_search_pl_DM00.00.zaplist /home/pl/work/python-workspance/FAST_pulsar_search_pl/03_barydata/j1631_FAST_pulsar_search_pl_bary_DM34.57.fft\u001b[0m\n",
      "日志文件为：/home/pl/work/python-workspance/FAST_pulsar_search_pl/LOG/04_ZAP/LOG_04-ZAP-34.58.txt\n",
      "\u001b[94m运行时间： 0.0秒\u001b[0m\n",
      "程序运行路径为: /home/pl/work/python-workspance/FAST_pulsar_search_pl/03_barydata\n",
      "日志文件为：/home/pl/work/python-workspance/FAST_pulsar_search_pl/LOG/04_ZAP/LOG_04-ZAP-34.59.txt\n",
      "运行命令：\u001b[96mzapbirds -zap -zapfile /home/pl/work/python-workspance/FAST_pulsar_search_pl/02_BIRDIES/j1631_FAST_pulsar_search_pl_DM00.00.zaplist /home/pl/work/python-workspance/FAST_pulsar_search_pl/03_barydata/j1631_FAST_pulsar_search_pl_bary_DM34.58.fft\u001b[0m\n",
      "运行命令：\u001b[96mzapbirds -zap -zapfile /home/pl/work/python-workspance/FAST_pulsar_search_pl/02_BIRDIES/j1631_FAST_pulsar_search_pl_DM00.00.zaplist /home/pl/work/python-workspance/FAST_pulsar_search_pl/03_barydata/j1631_FAST_pulsar_search_pl_bary_DM34.56.fft\u001b[0m\n",
      "\u001b[94m运行时间： 0.0秒\u001b[0m\n",
      "\u001b[94m运行时间： 0.0秒\u001b[0m\n",
      "运行命令：\u001b[96mzapbirds -zap -zapfile /home/pl/work/python-workspance/FAST_pulsar_search_pl/02_BIRDIES/j1631_FAST_pulsar_search_pl_DM00.00.zaplist /home/pl/work/python-workspance/FAST_pulsar_search_pl/03_barydata/j1631_FAST_pulsar_search_pl_bary_DM34.59.fft\u001b[0m\n",
      "\u001b[94m运行时间： 0.0秒\u001b[0m\n",
      "程序运行路径为: /home/pl/work/python-workspance/FAST_pulsar_search_pl/03_barydata\n",
      "日志文件为：/home/pl/work/python-workspance/FAST_pulsar_search_pl/LOG/04_ZAP/LOG_04-ZAP-34.60.txt\n",
      "运行命令：\u001b[96mzapbirds -zap -zapfile /home/pl/work/python-workspance/FAST_pulsar_search_pl/02_BIRDIES/j1631_FAST_pulsar_search_pl_DM00.00.zaplist /home/pl/work/python-workspance/FAST_pulsar_search_pl/03_barydata/j1631_FAST_pulsar_search_pl_bary_DM34.60.fft\u001b[0m\n",
      "\u001b[94m运行时间： 0.0秒\u001b[0m\n",
      "程序运行路径为: /home/pl/work/python-workspance/FAST_pulsar_search_pl/03_barydata\n",
      "日志文件为：/home/pl/work/python-workspance/FAST_pulsar_search_pl/LOG/04_ZAP/LOG_04-ZAP-34.61.txt\n",
      "程序运行路径为: /home/pl/work/python-workspance/FAST_pulsar_search_pl/03_barydata\n",
      "日志文件为：/home/pl/work/python-workspance/FAST_pulsar_search_pl/LOG/04_ZAP/LOG_04-ZAP-34.62.txt\n",
      "运行命令：\u001b[96mzapbirds -zap -zapfile /home/pl/work/python-workspance/FAST_pulsar_search_pl/02_BIRDIES/j1631_FAST_pulsar_search_pl_DM00.00.zaplist /home/pl/work/python-workspance/FAST_pulsar_search_pl/03_barydata/j1631_FAST_pulsar_search_pl_bary_DM34.61.fft\u001b[0m\n",
      "\u001b[94m运行时间： 0.0秒\u001b[0m\n",
      "程序运行路径为: /home/pl/work/python-workspance/FAST_pulsar_search_pl/03_barydata\n",
      "日志文件为：/home/pl/work/python-workspance/FAST_pulsar_search_pl/LOG/04_ZAP/LOG_04-ZAP-34.63.txt\n",
      "运行命令：\u001b[96mzapbirds -zap -zapfile /home/pl/work/python-workspance/FAST_pulsar_search_pl/02_BIRDIES/j1631_FAST_pulsar_search_pl_DM00.00.zaplist /home/pl/work/python-workspance/FAST_pulsar_search_pl/03_barydata/j1631_FAST_pulsar_search_pl_bary_DM34.62.fft\u001b[0m\n",
      "\u001b[94m运行时间： 0.0秒\u001b[0m\n",
      "运行命令：\u001b[96mzapbirds -zap -zapfile /home/pl/work/python-workspance/FAST_pulsar_search_pl/02_BIRDIES/j1631_FAST_pulsar_search_pl_DM00.00.zaplist /home/pl/work/python-workspance/FAST_pulsar_search_pl/03_barydata/j1631_FAST_pulsar_search_pl_bary_DM34.63.fft\u001b[0m\n",
      "\u001b[94m运行时间： 0.0秒\u001b[0m\n"
     ]
    },
    {
     "name": "stderr",
     "output_type": "stream",
     "text": [
      "zap-8核:  86%|████████▌ | 257/300 [01:06<00:11,  3.84cmd/s]"
     ]
    },
    {
     "name": "stdout",
     "output_type": "stream",
     "text": [
      "程序运行路径为: /home/pl/work/python-workspance/FAST_pulsar_search_pl/03_barydata\n",
      "日志文件为：/home/pl/work/python-workspance/FAST_pulsar_search_pl/LOG/04_ZAP/LOG_04-ZAP-34.64.txt\n",
      "运行命令：\u001b[96mzapbirds -zap -zapfile /home/pl/work/python-workspance/FAST_pulsar_search_pl/02_BIRDIES/j1631_FAST_pulsar_search_pl_DM00.00.zaplist /home/pl/work/python-workspance/FAST_pulsar_search_pl/03_barydata/j1631_FAST_pulsar_search_pl_bary_DM34.64.fft\u001b[0m\n",
      "\u001b[94m运行时间： 0.0秒\u001b[0m\n",
      "程序运行路径为: /home/pl/work/python-workspance/FAST_pulsar_search_pl/03_barydata\n",
      "程序运行路径为: /home/pl/work/python-workspance/FAST_pulsar_search_pl/03_barydata\n",
      "程序运行路径为: /home/pl/work/python-workspance/FAST_pulsar_search_pl/03_barydata\n",
      "日志文件为：/home/pl/work/python-workspance/FAST_pulsar_search_pl/LOG/04_ZAP/LOG_04-ZAP-34.66.txt\n",
      "日志文件为：/home/pl/work/python-workspance/FAST_pulsar_search_pl/LOG/04_ZAP/LOG_04-ZAP-34.65.txt\n",
      "日志文件为：/home/pl/work/python-workspance/FAST_pulsar_search_pl/LOG/04_ZAP/LOG_04-ZAP-34.67.txt\n",
      "运行命令：\u001b[96mzapbirds -zap -zapfile /home/pl/work/python-workspance/FAST_pulsar_search_pl/02_BIRDIES/j1631_FAST_pulsar_search_pl_DM00.00.zaplist /home/pl/work/python-workspance/FAST_pulsar_search_pl/03_barydata/j1631_FAST_pulsar_search_pl_bary_DM34.66.fft\u001b[0m\n",
      "运行命令：\u001b[96mzapbirds -zap -zapfile /home/pl/work/python-workspance/FAST_pulsar_search_pl/02_BIRDIES/j1631_FAST_pulsar_search_pl_DM00.00.zaplist /home/pl/work/python-workspance/FAST_pulsar_search_pl/03_barydata/j1631_FAST_pulsar_search_pl_bary_DM34.67.fft\u001b[0m\n",
      "运行命令：\u001b[96mzapbirds -zap -zapfile /home/pl/work/python-workspance/FAST_pulsar_search_pl/02_BIRDIES/j1631_FAST_pulsar_search_pl_DM00.00.zaplist /home/pl/work/python-workspance/FAST_pulsar_search_pl/03_barydata/j1631_FAST_pulsar_search_pl_bary_DM34.65.fft\u001b[0m\n",
      "\u001b[94m运行时间： 0.0秒\u001b[0m\n",
      "\u001b[94m运行时间： 0.0秒\u001b[0m\n",
      "\u001b[94m运行时间： 0.0秒\u001b[0m\n",
      "程序运行路径为: /home/pl/work/python-workspance/FAST_pulsar_search_pl/03_barydata\n",
      "日志文件为：/home/pl/work/python-workspance/FAST_pulsar_search_pl/LOG/04_ZAP/LOG_04-ZAP-34.68.txt\n",
      "程序运行路径为: /home/pl/work/python-workspance/FAST_pulsar_search_pl/03_barydata\n",
      "运行命令：\u001b[96mzapbirds -zap -zapfile /home/pl/work/python-workspance/FAST_pulsar_search_pl/02_BIRDIES/j1631_FAST_pulsar_search_pl_DM00.00.zaplist /home/pl/work/python-workspance/FAST_pulsar_search_pl/03_barydata/j1631_FAST_pulsar_search_pl_bary_DM34.68.fft\u001b[0m\n",
      "日志文件为：/home/pl/work/python-workspance/FAST_pulsar_search_pl/LOG/04_ZAP/LOG_04-ZAP-34.69.txt\n",
      "\u001b[94m运行时间： 0.0秒\u001b[0m\n",
      "程序运行路径为: /home/pl/work/python-workspance/FAST_pulsar_search_pl/03_barydata\n",
      "运行命令：\u001b[96mzapbirds -zap -zapfile /home/pl/work/python-workspance/FAST_pulsar_search_pl/02_BIRDIES/j1631_FAST_pulsar_search_pl_DM00.00.zaplist /home/pl/work/python-workspance/FAST_pulsar_search_pl/03_barydata/j1631_FAST_pulsar_search_pl_bary_DM34.69.fft\u001b[0m\n",
      "\u001b[94m运行时间： 0.0秒\u001b[0m\n",
      "日志文件为：/home/pl/work/python-workspance/FAST_pulsar_search_pl/LOG/04_ZAP/LOG_04-ZAP-34.70.txt\n",
      "程序运行路径为: /home/pl/work/python-workspance/FAST_pulsar_search_pl/03_barydata\n",
      "日志文件为：/home/pl/work/python-workspance/FAST_pulsar_search_pl/LOG/04_ZAP/LOG_04-ZAP-34.71.txt\n",
      "运行命令：\u001b[96mzapbirds -zap -zapfile /home/pl/work/python-workspance/FAST_pulsar_search_pl/02_BIRDIES/j1631_FAST_pulsar_search_pl_DM00.00.zaplist /home/pl/work/python-workspance/FAST_pulsar_search_pl/03_barydata/j1631_FAST_pulsar_search_pl_bary_DM34.70.fft\u001b[0m\n",
      "\u001b[94m运行时间： 0.0秒\u001b[0m\n",
      "运行命令：\u001b[96mzapbirds -zap -zapfile /home/pl/work/python-workspance/FAST_pulsar_search_pl/02_BIRDIES/j1631_FAST_pulsar_search_pl_DM00.00.zaplist /home/pl/work/python-workspance/FAST_pulsar_search_pl/03_barydata/j1631_FAST_pulsar_search_pl_bary_DM34.71.fft\u001b[0m\n",
      "\u001b[94m运行时间： 0.0秒\u001b[0m\n"
     ]
    },
    {
     "name": "stderr",
     "output_type": "stream",
     "text": [
      "zap-8核:  88%|████████▊ | 265/300 [01:08<00:09,  3.88cmd/s]"
     ]
    },
    {
     "name": "stdout",
     "output_type": "stream",
     "text": [
      "程序运行路径为: /home/pl/work/python-workspance/FAST_pulsar_search_pl/03_barydata\n",
      "日志文件为：/home/pl/work/python-workspance/FAST_pulsar_search_pl/LOG/04_ZAP/LOG_04-ZAP-34.72.txt\n",
      "运行命令：\u001b[96mzapbirds -zap -zapfile /home/pl/work/python-workspance/FAST_pulsar_search_pl/02_BIRDIES/j1631_FAST_pulsar_search_pl_DM00.00.zaplist /home/pl/work/python-workspance/FAST_pulsar_search_pl/03_barydata/j1631_FAST_pulsar_search_pl_bary_DM34.72.fft\u001b[0m\n",
      "\u001b[94m运行时间： 0.0秒\u001b[0m\n",
      "程序运行路径为: /home/pl/work/python-workspance/FAST_pulsar_search_pl/03_barydata\n",
      "程序运行路径为: /home/pl/work/python-workspance/FAST_pulsar_search_pl/03_barydata\n",
      "程序运行路径为: /home/pl/work/python-workspance/FAST_pulsar_search_pl/03_barydata\n",
      "日志文件为：/home/pl/work/python-workspance/FAST_pulsar_search_pl/LOG/04_ZAP/LOG_04-ZAP-34.74.txt\n",
      "日志文件为：/home/pl/work/python-workspance/FAST_pulsar_search_pl/LOG/04_ZAP/LOG_04-ZAP-34.73.txt\n",
      "日志文件为：/home/pl/work/python-workspance/FAST_pulsar_search_pl/LOG/04_ZAP/LOG_04-ZAP-34.75.txt\n",
      "运行命令：\u001b[96mzapbirds -zap -zapfile /home/pl/work/python-workspance/FAST_pulsar_search_pl/02_BIRDIES/j1631_FAST_pulsar_search_pl_DM00.00.zaplist /home/pl/work/python-workspance/FAST_pulsar_search_pl/03_barydata/j1631_FAST_pulsar_search_pl_bary_DM34.74.fft\u001b[0m\n",
      "运行命令：\u001b[96mzapbirds -zap -zapfile /home/pl/work/python-workspance/FAST_pulsar_search_pl/02_BIRDIES/j1631_FAST_pulsar_search_pl_DM00.00.zaplist /home/pl/work/python-workspance/FAST_pulsar_search_pl/03_barydata/j1631_FAST_pulsar_search_pl_bary_DM34.75.fft\u001b[0m\n",
      "运行命令：\u001b[96mzapbirds -zap -zapfile /home/pl/work/python-workspance/FAST_pulsar_search_pl/02_BIRDIES/j1631_FAST_pulsar_search_pl_DM00.00.zaplist /home/pl/work/python-workspance/FAST_pulsar_search_pl/03_barydata/j1631_FAST_pulsar_search_pl_bary_DM34.73.fft\u001b[0m\n",
      "\u001b[94m运行时间： 0.0秒\u001b[0m\n",
      "\u001b[94m运行时间： 0.0秒\u001b[0m\n",
      "\u001b[94m运行时间： 0.0秒\u001b[0m\n",
      "程序运行路径为: /home/pl/work/python-workspance/FAST_pulsar_search_pl/03_barydata\n",
      "日志文件为：/home/pl/work/python-workspance/FAST_pulsar_search_pl/LOG/04_ZAP/LOG_04-ZAP-34.76.txt\n",
      "程序运行路径为: /home/pl/work/python-workspance/FAST_pulsar_search_pl/03_barydata\n",
      "日志文件为：/home/pl/work/python-workspance/FAST_pulsar_search_pl/LOG/04_ZAP/LOG_04-ZAP-34.77.txt\n",
      "程序运行路径为: /home/pl/work/python-workspance/FAST_pulsar_search_pl/03_barydata\n",
      "日志文件为：/home/pl/work/python-workspance/FAST_pulsar_search_pl/LOG/04_ZAP/LOG_04-ZAP-34.78.txt\n",
      "运行命令：\u001b[96mzapbirds -zap -zapfile /home/pl/work/python-workspance/FAST_pulsar_search_pl/02_BIRDIES/j1631_FAST_pulsar_search_pl_DM00.00.zaplist /home/pl/work/python-workspance/FAST_pulsar_search_pl/03_barydata/j1631_FAST_pulsar_search_pl_bary_DM34.77.fft\u001b[0m\n",
      "\u001b[94m运行时间： 0.0秒\u001b[0m\n",
      "程序运行路径为: /home/pl/work/python-workspance/FAST_pulsar_search_pl/03_barydata\n",
      "日志文件为：/home/pl/work/python-workspance/FAST_pulsar_search_pl/LOG/04_ZAP/LOG_04-ZAP-34.79.txt\n"
     ]
    },
    {
     "name": "stderr",
     "output_type": "stream",
     "text": [
      "zap-8核:  90%|█████████ | 270/300 [01:08<00:06,  4.94cmd/s]"
     ]
    },
    {
     "name": "stdout",
     "output_type": "stream",
     "text": [
      "运行命令：\u001b[96mzapbirds -zap -zapfile /home/pl/work/python-workspance/FAST_pulsar_search_pl/02_BIRDIES/j1631_FAST_pulsar_search_pl_DM00.00.zaplist /home/pl/work/python-workspance/FAST_pulsar_search_pl/03_barydata/j1631_FAST_pulsar_search_pl_bary_DM34.78.fft\u001b[0m\n",
      "\u001b[94m运行时间： 0.0秒\u001b[0m\n",
      "运行命令：\u001b[96mzapbirds -zap -zapfile /home/pl/work/python-workspance/FAST_pulsar_search_pl/02_BIRDIES/j1631_FAST_pulsar_search_pl_DM00.00.zaplist /home/pl/work/python-workspance/FAST_pulsar_search_pl/03_barydata/j1631_FAST_pulsar_search_pl_bary_DM34.79.fft\u001b[0m\n",
      "运行命令：\u001b[96mzapbirds -zap -zapfile /home/pl/work/python-workspance/FAST_pulsar_search_pl/02_BIRDIES/j1631_FAST_pulsar_search_pl_DM00.00.zaplist /home/pl/work/python-workspance/FAST_pulsar_search_pl/03_barydata/j1631_FAST_pulsar_search_pl_bary_DM34.76.fft\u001b[0m\n",
      "\u001b[94m运行时间： 0.0秒\u001b[0m\n",
      "\u001b[94m运行时间： 0.0秒\u001b[0m\n"
     ]
    },
    {
     "name": "stderr",
     "output_type": "stream",
     "text": [
      "zap-8核:  91%|█████████ | 273/300 [01:10<00:07,  3.64cmd/s]"
     ]
    },
    {
     "name": "stdout",
     "output_type": "stream",
     "text": [
      "程序运行路径为: /home/pl/work/python-workspance/FAST_pulsar_search_pl/03_barydata\n",
      "日志文件为：/home/pl/work/python-workspance/FAST_pulsar_search_pl/LOG/04_ZAP/LOG_04-ZAP-34.80.txt\n",
      "运行命令：\u001b[96mzapbirds -zap -zapfile /home/pl/work/python-workspance/FAST_pulsar_search_pl/02_BIRDIES/j1631_FAST_pulsar_search_pl_DM00.00.zaplist /home/pl/work/python-workspance/FAST_pulsar_search_pl/03_barydata/j1631_FAST_pulsar_search_pl_bary_DM34.80.fft\u001b[0m\n",
      "\u001b[94m运行时间： 0.0秒\u001b[0m\n",
      "程序运行路径为: /home/pl/work/python-workspance/FAST_pulsar_search_pl/03_barydata\n",
      "程序运行路径为: /home/pl/work/python-workspance/FAST_pulsar_search_pl/03_barydata\n",
      "程序运行路径为: /home/pl/work/python-workspance/FAST_pulsar_search_pl/03_barydata\n",
      "日志文件为：/home/pl/work/python-workspance/FAST_pulsar_search_pl/LOG/04_ZAP/LOG_04-ZAP-34.83.txt\n",
      "日志文件为：/home/pl/work/python-workspance/FAST_pulsar_search_pl/LOG/04_ZAP/LOG_04-ZAP-34.81.txt\n",
      "日志文件为：/home/pl/work/python-workspance/FAST_pulsar_search_pl/LOG/04_ZAP/LOG_04-ZAP-34.82.txt\n",
      "运行命令：\u001b[96mzapbirds -zap -zapfile /home/pl/work/python-workspance/FAST_pulsar_search_pl/02_BIRDIES/j1631_FAST_pulsar_search_pl_DM00.00.zaplist /home/pl/work/python-workspance/FAST_pulsar_search_pl/03_barydata/j1631_FAST_pulsar_search_pl_bary_DM34.82.fft\u001b[0m\n",
      "运行命令：\u001b[96mzapbirds -zap -zapfile /home/pl/work/python-workspance/FAST_pulsar_search_pl/02_BIRDIES/j1631_FAST_pulsar_search_pl_DM00.00.zaplist /home/pl/work/python-workspance/FAST_pulsar_search_pl/03_barydata/j1631_FAST_pulsar_search_pl_bary_DM34.81.fft\u001b[0m\n",
      "运行命令：\u001b[96mzapbirds -zap -zapfile /home/pl/work/python-workspance/FAST_pulsar_search_pl/02_BIRDIES/j1631_FAST_pulsar_search_pl_DM00.00.zaplist /home/pl/work/python-workspance/FAST_pulsar_search_pl/03_barydata/j1631_FAST_pulsar_search_pl_bary_DM34.83.fft\u001b[0m\n",
      "\u001b[94m运行时间： 0.0秒\u001b[0m\n",
      "\u001b[94m运行时间： 0.0秒\u001b[0m\n",
      "\u001b[94m运行时间： 0.0秒\u001b[0m\n",
      "程序运行路径为: /home/pl/work/python-workspance/FAST_pulsar_search_pl/03_barydata\n",
      "日志文件为：/home/pl/work/python-workspance/FAST_pulsar_search_pl/LOG/04_ZAP/LOG_04-ZAP-34.84.txt\n"
     ]
    },
    {
     "name": "stderr",
     "output_type": "stream",
     "text": [
      "zap-8核:  93%|█████████▎| 278/300 [01:10<00:04,  4.94cmd/s]"
     ]
    },
    {
     "name": "stdout",
     "output_type": "stream",
     "text": [
      "程序运行路径为: /home/pl/work/python-workspance/FAST_pulsar_search_pl/03_barydata\n",
      "日志文件为：/home/pl/work/python-workspance/FAST_pulsar_search_pl/LOG/04_ZAP/LOG_04-ZAP-34.85.txt\n",
      "程序运行路径为: /home/pl/work/python-workspance/FAST_pulsar_search_pl/03_barydata\n",
      "程序运行路径为: /home/pl/work/python-workspance/FAST_pulsar_search_pl/03_barydata\n",
      "运行命令：\u001b[96mzapbirds -zap -zapfile /home/pl/work/python-workspance/FAST_pulsar_search_pl/02_BIRDIES/j1631_FAST_pulsar_search_pl_DM00.00.zaplist /home/pl/work/python-workspance/FAST_pulsar_search_pl/03_barydata/j1631_FAST_pulsar_search_pl_bary_DM34.84.fft\u001b[0m\n",
      "日志文件为：/home/pl/work/python-workspance/FAST_pulsar_search_pl/LOG/04_ZAP/LOG_04-ZAP-34.87.txt\n",
      "\u001b[94m运行时间： 0.0秒\u001b[0m\n",
      "日志文件为：/home/pl/work/python-workspance/FAST_pulsar_search_pl/LOG/04_ZAP/LOG_04-ZAP-34.86.txt\n",
      "运行命令：\u001b[96mzapbirds -zap -zapfile /home/pl/work/python-workspance/FAST_pulsar_search_pl/02_BIRDIES/j1631_FAST_pulsar_search_pl_DM00.00.zaplist /home/pl/work/python-workspance/FAST_pulsar_search_pl/03_barydata/j1631_FAST_pulsar_search_pl_bary_DM34.85.fft\u001b[0m\n",
      "运行命令：\u001b[96mzapbirds -zap -zapfile /home/pl/work/python-workspance/FAST_pulsar_search_pl/02_BIRDIES/j1631_FAST_pulsar_search_pl_DM00.00.zaplist /home/pl/work/python-workspance/FAST_pulsar_search_pl/03_barydata/j1631_FAST_pulsar_search_pl_bary_DM34.87.fft\u001b[0m\n",
      "\u001b[94m运行时间： 0.0秒\u001b[0m\n",
      "\u001b[94m运行时间： 0.0秒\u001b[0m\n",
      "运行命令：\u001b[96mzapbirds -zap -zapfile /home/pl/work/python-workspance/FAST_pulsar_search_pl/02_BIRDIES/j1631_FAST_pulsar_search_pl_DM00.00.zaplist /home/pl/work/python-workspance/FAST_pulsar_search_pl/03_barydata/j1631_FAST_pulsar_search_pl_bary_DM34.86.fft\u001b[0m\n",
      "\u001b[94m运行时间： 0.0秒\u001b[0m\n"
     ]
    },
    {
     "name": "stderr",
     "output_type": "stream",
     "text": [
      "zap-8核:  94%|█████████▎| 281/300 [01:12<00:05,  3.48cmd/s]"
     ]
    },
    {
     "name": "stdout",
     "output_type": "stream",
     "text": [
      "程序运行路径为: /home/pl/work/python-workspance/FAST_pulsar_search_pl/03_barydata\n",
      "日志文件为：/home/pl/work/python-workspance/FAST_pulsar_search_pl/LOG/04_ZAP/LOG_04-ZAP-34.88.txt\n",
      "运行命令：\u001b[96mzapbirds -zap -zapfile /home/pl/work/python-workspance/FAST_pulsar_search_pl/02_BIRDIES/j1631_FAST_pulsar_search_pl_DM00.00.zaplist /home/pl/work/python-workspance/FAST_pulsar_search_pl/03_barydata/j1631_FAST_pulsar_search_pl_bary_DM34.88.fft\u001b[0m\n",
      "\u001b[94m运行时间： 0.0秒\u001b[0m\n",
      "程序运行路径为: /home/pl/work/python-workspance/FAST_pulsar_search_pl/03_barydata\n",
      "日志文件为：/home/pl/work/python-workspance/FAST_pulsar_search_pl/LOG/04_ZAP/LOG_04-ZAP-34.89.txt\n",
      "程序运行路径为: /home/pl/work/python-workspance/FAST_pulsar_search_pl/03_barydata\n",
      "日志文件为：/home/pl/work/python-workspance/FAST_pulsar_search_pl/LOG/04_ZAP/LOG_04-ZAP-34.90.txt\n",
      "程序运行路径为: /home/pl/work/python-workspance/FAST_pulsar_search_pl/03_barydata\n",
      "日志文件为：/home/pl/work/python-workspance/FAST_pulsar_search_pl/LOG/04_ZAP/LOG_04-ZAP-34.91.txt\n",
      "运行命令：\u001b[96mzapbirds -zap -zapfile /home/pl/work/python-workspance/FAST_pulsar_search_pl/02_BIRDIES/j1631_FAST_pulsar_search_pl_DM00.00.zaplist /home/pl/work/python-workspance/FAST_pulsar_search_pl/03_barydata/j1631_FAST_pulsar_search_pl_bary_DM34.89.fft\u001b[0m\n",
      "\u001b[94m运行时间： 0.0秒\u001b[0m\n",
      "运行命令：\u001b[96mzapbirds -zap -zapfile /home/pl/work/python-workspance/FAST_pulsar_search_pl/02_BIRDIES/j1631_FAST_pulsar_search_pl_DM00.00.zaplist /home/pl/work/python-workspance/FAST_pulsar_search_pl/03_barydata/j1631_FAST_pulsar_search_pl_bary_DM34.90.fft\u001b[0m\n",
      "\u001b[94m运行时间： 0.0秒\u001b[0m\n",
      "运行命令：\u001b[96mzapbirds -zap -zapfile /home/pl/work/python-workspance/FAST_pulsar_search_pl/02_BIRDIES/j1631_FAST_pulsar_search_pl_DM00.00.zaplist /home/pl/work/python-workspance/FAST_pulsar_search_pl/03_barydata/j1631_FAST_pulsar_search_pl_bary_DM34.91.fft\u001b[0m\n",
      "\u001b[94m运行时间： 0.0秒\u001b[0m\n"
     ]
    },
    {
     "name": "stderr",
     "output_type": "stream",
     "text": [
      "zap-8核:  95%|█████████▌| 285/300 [01:12<00:03,  4.63cmd/s]"
     ]
    },
    {
     "name": "stdout",
     "output_type": "stream",
     "text": [
      "程序运行路径为: /home/pl/work/python-workspance/FAST_pulsar_search_pl/03_barydata\n",
      "日志文件为：/home/pl/work/python-workspance/FAST_pulsar_search_pl/LOG/04_ZAP/LOG_04-ZAP-34.92.txt\n",
      "运行命令：\u001b[96mzapbirds -zap -zapfile /home/pl/work/python-workspance/FAST_pulsar_search_pl/02_BIRDIES/j1631_FAST_pulsar_search_pl_DM00.00.zaplist /home/pl/work/python-workspance/FAST_pulsar_search_pl/03_barydata/j1631_FAST_pulsar_search_pl_bary_DM34.92.fft\u001b[0m\n",
      "\u001b[94m运行时间： 0.0秒\u001b[0m\n",
      "程序运行路径为: /home/pl/work/python-workspance/FAST_pulsar_search_pl/03_barydata\n",
      "程序运行路径为: /home/pl/work/python-workspance/FAST_pulsar_search_pl/03_barydata\n",
      "日志文件为：/home/pl/work/python-workspance/FAST_pulsar_search_pl/LOG/04_ZAP/LOG_04-ZAP-34.94.txt\n",
      "程序运行路径为: /home/pl/work/python-workspance/FAST_pulsar_search_pl/03_barydata\n",
      "日志文件为：/home/pl/work/python-workspance/FAST_pulsar_search_pl/LOG/04_ZAP/LOG_04-ZAP-34.93.txt\n",
      "日志文件为：/home/pl/work/python-workspance/FAST_pulsar_search_pl/LOG/04_ZAP/LOG_04-ZAP-34.95.txt\n",
      "运行命令：\u001b[96mzapbirds -zap -zapfile /home/pl/work/python-workspance/FAST_pulsar_search_pl/02_BIRDIES/j1631_FAST_pulsar_search_pl_DM00.00.zaplist /home/pl/work/python-workspance/FAST_pulsar_search_pl/03_barydata/j1631_FAST_pulsar_search_pl_bary_DM34.95.fft\u001b[0m\n",
      "运行命令：\u001b[96mzapbirds -zap -zapfile /home/pl/work/python-workspance/FAST_pulsar_search_pl/02_BIRDIES/j1631_FAST_pulsar_search_pl_DM00.00.zaplist /home/pl/work/python-workspance/FAST_pulsar_search_pl/03_barydata/j1631_FAST_pulsar_search_pl_bary_DM34.94.fft\u001b[0m\n",
      "运行命令：\u001b[96mzapbirds -zap -zapfile /home/pl/work/python-workspance/FAST_pulsar_search_pl/02_BIRDIES/j1631_FAST_pulsar_search_pl_DM00.00.zaplist /home/pl/work/python-workspance/FAST_pulsar_search_pl/03_barydata/j1631_FAST_pulsar_search_pl_bary_DM34.93.fft\u001b[0m\n",
      "\u001b[94m运行时间： 0.0秒\u001b[0m\n",
      "\u001b[94m运行时间： 0.0秒\u001b[0m\n",
      "\u001b[94m运行时间： 0.0秒\u001b[0m\n"
     ]
    },
    {
     "name": "stderr",
     "output_type": "stream",
     "text": [
      "zap-8核:  96%|█████████▋| 289/300 [01:14<00:03,  3.46cmd/s]"
     ]
    },
    {
     "name": "stdout",
     "output_type": "stream",
     "text": [
      "程序运行路径为: /home/pl/work/python-workspance/FAST_pulsar_search_pl/03_barydata\n",
      "日志文件为：/home/pl/work/python-workspance/FAST_pulsar_search_pl/LOG/04_ZAP/LOG_04-ZAP-34.96.txt\n",
      "运行命令：\u001b[96mzapbirds -zap -zapfile /home/pl/work/python-workspance/FAST_pulsar_search_pl/02_BIRDIES/j1631_FAST_pulsar_search_pl_DM00.00.zaplist /home/pl/work/python-workspance/FAST_pulsar_search_pl/03_barydata/j1631_FAST_pulsar_search_pl_bary_DM34.96.fft\u001b[0m\n",
      "\u001b[94m运行时间： 0.0秒\u001b[0m\n",
      "程序运行路径为: /home/pl/work/python-workspance/FAST_pulsar_search_pl/03_barydata\n",
      "日志文件为：/home/pl/work/python-workspance/FAST_pulsar_search_pl/LOG/04_ZAP/LOG_04-ZAP-34.97.txt\n",
      "程序运行路径为: /home/pl/work/python-workspance/FAST_pulsar_search_pl/03_barydata\n",
      "日志文件为：/home/pl/work/python-workspance/FAST_pulsar_search_pl/LOG/04_ZAP/LOG_04-ZAP-34.98.txt\n",
      "运行命令：\u001b[96mzapbirds -zap -zapfile /home/pl/work/python-workspance/FAST_pulsar_search_pl/02_BIRDIES/j1631_FAST_pulsar_search_pl_DM00.00.zaplist /home/pl/work/python-workspance/FAST_pulsar_search_pl/03_barydata/j1631_FAST_pulsar_search_pl_bary_DM34.97.fft\u001b[0m\n",
      "程序运行路径为: /home/pl/work/python-workspance/FAST_pulsar_search_pl/03_barydata\n",
      "日志文件为：/home/pl/work/python-workspance/FAST_pulsar_search_pl/LOG/04_ZAP/LOG_04-ZAP-34.99.txt\n",
      "\u001b[94m运行时间： 0.0秒\u001b[0m\n",
      "运行命令：\u001b[96mzapbirds -zap -zapfile /home/pl/work/python-workspance/FAST_pulsar_search_pl/02_BIRDIES/j1631_FAST_pulsar_search_pl_DM00.00.zaplist /home/pl/work/python-workspance/FAST_pulsar_search_pl/03_barydata/j1631_FAST_pulsar_search_pl_bary_DM34.98.fft\u001b[0m\n",
      "\u001b[94m运行时间： 0.0秒\u001b[0m\n",
      "运行命令：\u001b[96mzapbirds -zap -zapfile /home/pl/work/python-workspance/FAST_pulsar_search_pl/02_BIRDIES/j1631_FAST_pulsar_search_pl_DM00.00.zaplist /home/pl/work/python-workspance/FAST_pulsar_search_pl/03_barydata/j1631_FAST_pulsar_search_pl_bary_DM34.99.fft\u001b[0m\n",
      "\u001b[94m运行时间： 0.0秒\u001b[0m\n"
     ]
    },
    {
     "name": "stderr",
     "output_type": "stream",
     "text": [
      "zap-8核: 100%|██████████| 300/300 [01:16<00:00,  3.91cmd/s]\n"
     ]
    }
   ],
   "source": [
    "list_zmax = config.accelsearch_list_zmax\n",
    "numharm = config.accelsearch_numharm\n",
    "\n",
    "flag_jerk_search = config.flag_jerk_search\n",
    "jerksearch_zmax = config.jerksearch_zmax\n",
    "jerksearch_wmax = config.jerksearch_wmax\n",
    "jerksearch_numharm = config.jerksearch_numharm\n",
    "\n",
    "if dict_flag_steps['flag_step_realfft'] == 1:\n",
    "\n",
    "    print_log('''\\n ==================== 傅里叶变换  ====================== \\n''',color=colors.HEADER) \n",
    "\n",
    "\n",
    "    # print(\"\\033[1m >> 提示：\\033[0m 可以通过以下命令实时查看周期性搜索的日志：\\033[1mtail -f %s\\033[0m\" % (log_abspath))\n",
    "\n",
    "    dat_names = sorted([os.path.abspath(os.path.join(dir_dedispersion, file)) for file in os.listdir(dir_dedispersion) if file.endswith('.dat')])\n",
    "    fft_files = [file.replace(\".dat\", \".fft\") for file in dat_names]\n",
    "\n",
    "    # DM_trial_was_searched = check_if_DM_trial_was_searched(dat_names, list_zmax, flag_jerk_search, jerksearch_zmax, jerksearch_wmax)\n",
    "\n",
    "\n",
    "    ifok_dir04 = os.path.join(ifok_dir,'04_FFT')\n",
    "    makedir(ifok_dir04)\n",
    "    LOG_dir04 = os.path.join(LOG_dir,'04_FFT')\n",
    "    makedir(LOG_dir04)\n",
    "    realfft_cmd_list,ifok_list,log_list = realfft2cmd(dat_names,sourcename_mask, dir_dedispersion,ifok_dir04, LOG_dir04, other_flags=config.realfft_flags,presto_env=os.environ['PRESTO'])\n",
    "    \n",
    "    print_log(f'并行质心修正:核数{n_pool}/{cpu_count()}',masks=str(n_pool),color=colors.HEADER)\n",
    "    pool(n_pool,'realfft',realfft_cmd_list,ifok_list,log_list,work_dir = dir_dedispersion)\n",
    "    \n",
    "    print_log('''\\n ==================== 去除红噪声  ====================== \\n''',color=colors.HEADER) \n",
    "\n",
    "    fft_names = sorted([os.path.abspath(os.path.join(dir_dedispersion, file)) for file in os.listdir(dir_dedispersion) if file.endswith('.fft') and not file.endswith('_red.fft')])\n",
    "    inf_files = [file.replace(\".fft\", \".inf\") for file in fft_names]\n",
    "\n",
    "    ifok_dir04 = os.path.join(ifok_dir,'04_RED')\n",
    "    makedir(ifok_dir04)\n",
    "    LOG_dir04 = os.path.join(LOG_dir,'04_RED')\n",
    "    makedir(LOG_dir04)\n",
    "    red_cmd_list,ifok_list,log_list = rednoise2cmd(fft_names,sourcename_mask, dir_dedispersion,ifok_dir04, LOG_dir04, other_flags='',presto_env=os.environ['PRESTO'])\n",
    "\n",
    "    print_log(f'并行质心修正:核数{n_pool}/{cpu_count()}',masks=str(n_pool),color=colors.HEADER)\n",
    "    pool(n_pool,'rednoise',red_cmd_list,ifok_list,log_list,work_dir = dir_dedispersion)\n",
    "\n",
    "    fft_red_names = sorted([os.path.abspath(os.path.join(dir_dedispersion, file)) for file in os.listdir(dir_dedispersion) if file.endswith('_red.fft')])\n",
    "    inf_files = [file.replace(\"_red.fft\", \"_red.inf\") for file in fft_red_names]\n",
    "    for fftfile_rednoise_abspath in fft_red_names:\n",
    "        os.rename(fftfile_rednoise_abspath, fftfile_rednoise_abspath.replace(\"_red.\", \".\"))\n",
    "    for inf_rednoise_abspath in inf_files:\n",
    "        os.rename(inf_rednoise_abspath, inf_rednoise_abspath.replace(\"_red.\", \".\"))\n",
    "\n",
    "    fft_red_names = sorted([os.path.abspath(os.path.join(dir_dedispersion, file)) for file in os.listdir(dir_dedispersion) if file.endswith('_red.fft')])\n",
    "    if len(fft_red_names) == 0:\n",
    "        print_log(f'红噪声文件重命名成功',color=colors.OKGREEN)\n",
    "    else:\n",
    "        print_log(f'红噪声文件重命名失败,请检查数据',color=colors.ERROR)\n",
    "\n",
    "    print_log('''\\n ==================== 正在将消噪文件应用到FFT  ====================== \\n''',color=colors.HEADER) \n",
    "\n",
    "    fft_names = sorted([os.path.abspath(os.path.join(dir_dedispersion, file)) for file in os.listdir(dir_dedispersion) if file.endswith('.fft') and not file.endswith('_red.fft')])\n",
    "\n",
    "    ifok_dir04 = os.path.join(ifok_dir,'04_ZAP')\n",
    "    makedir(ifok_dir04)\n",
    "    LOG_dir04 = os.path.join(LOG_dir,'04_ZAP')\n",
    "    makedir(LOG_dir04)\n",
    "    zap_cmd_list,ifok_list,log_list = zapbirds2cmd(fft_names, zapfile,ifok_dir04, LOG_dir04)\n",
    "    \n",
    "    print_log(f'并行消除ODM噪声:核数{n_pool}/{cpu_count()}',masks=str(n_pool),color=colors.HEADER)\n",
    "    pool(n_pool,'zap',zap_cmd_list,ifok_list,log_list,work_dir = dir_dedispersion)\n",
    "\n",
    "else:\n",
    "    print_log('''\\n =============STEP_REALFFT = 0，跳过 realfft、rednoise、zapbirds... ================ \\n''',color=colors.HEADER) \n"
   ]
  },
  {
   "cell_type": "code",
   "execution_count": 17,
   "metadata": {},
   "outputs": [
    {
     "name": "stdout",
     "output_type": "stream",
     "text": [
      "\u001b[95m\n",
      " ==================== 加速搜寻：zmax = [0]  ====================== \n",
      "\n",
      "\u001b[0mf检验zmax={zmax}\n",
      "并行周期搜寻:核数\u001b[95m8\u001b[0m/16\n"
     ]
    },
    {
     "name": "stderr",
     "output_type": "stream",
     "text": [
      "zap-8核:   0%|          | 0/300 [00:00<?, ?cmd/s]"
     ]
    },
    {
     "name": "stdout",
     "output_type": "stream",
     "text": [
      "程序运行路径为: /home/pl/work/python-workspance/FAST_pulsar_search_pl/03_barydata\n",
      "程序运行路径为: /home/pl/work/python-workspance/FAST_pulsar_search_pl/03_barydata\n",
      "程序运行路径为: /home/pl/work/python-workspance/FAST_pulsar_search_pl/03_barydata\n",
      "程序运行路径为: /home/pl/work/python-workspance/FAST_pulsar_search_pl/03_barydata\n",
      "程序运行路径为: /home/pl/work/python-workspance/FAST_pulsar_search_pl/03_barydata\n",
      "程序运行路径为: /home/pl/work/python-workspance/FAST_pulsar_search_pl/03_barydata\n",
      "程序运行路径为: /home/pl/work/python-workspance/FAST_pulsar_search_pl/03_barydata\n",
      "程序运行路径为: /home/pl/work/python-workspance/FAST_pulsar_search_pl/03_barydata\n",
      "日志文件为：/home/pl/work/python-workspance/FAST_pulsar_search_pl/LOG/05_search/LOG_05-SEARCH-32.00.txt\n",
      "日志文件为：/home/pl/work/python-workspance/FAST_pulsar_search_pl/LOG/05_search/LOG_05-SEARCH-32.03.txt\n",
      "日志文件为：/home/pl/work/python-workspance/FAST_pulsar_search_pl/LOG/05_search/LOG_05-SEARCH-32.02.txt\n",
      "日志文件为：/home/pl/work/python-workspance/FAST_pulsar_search_pl/LOG/05_search/LOG_05-SEARCH-32.05.txt\n",
      "日志文件为：/home/pl/work/python-workspance/FAST_pulsar_search_pl/LOG/05_search/LOG_05-SEARCH-32.01.txt\n",
      "日志文件为：/home/pl/work/python-workspance/FAST_pulsar_search_pl/LOG/05_search/LOG_05-SEARCH-32.04.txt\n",
      "日志文件为：/home/pl/work/python-workspance/FAST_pulsar_search_pl/LOG/05_search/LOG_05-SEARCH-32.06.txt\n",
      "日志文件为：/home/pl/work/python-workspance/FAST_pulsar_search_pl/LOG/05_search/LOG_05-SEARCH-32.07.txt\n",
      "运行命令：\u001b[96maccelsearch  -zmax 0 -numharm 8 /home/pl/work/python-workspance/FAST_pulsar_search_pl/03_barydata/j1631_FAST_pulsar_search_pl_bary_DM32.03.fft\u001b[0m\n",
      "运行命令：\u001b[96maccelsearch  -zmax 0 -numharm 8 /home/pl/work/python-workspance/FAST_pulsar_search_pl/03_barydata/j1631_FAST_pulsar_search_pl_bary_DM32.05.fft\u001b[0m\n",
      "\u001b[94m运行时间： 0.0秒\u001b[0m\n",
      "\u001b[94m运行时间： 0.0秒\u001b[0m\n",
      "运行命令：\u001b[96maccelsearch  -zmax 0 -numharm 8 /home/pl/work/python-workspance/FAST_pulsar_search_pl/03_barydata/j1631_FAST_pulsar_search_pl_bary_DM32.04.fft\u001b[0m\n",
      "运行命令：\u001b[96maccelsearch  -zmax 0 -numharm 8 /home/pl/work/python-workspance/FAST_pulsar_search_pl/03_barydata/j1631_FAST_pulsar_search_pl_bary_DM32.06.fft\u001b[0m\n",
      "\u001b[94m运行时间： 0.0秒\u001b[0m\n",
      "\u001b[94m运行时间： 0.0秒\u001b[0m\n",
      "运行命令：\u001b[96maccelsearch  -zmax 0 -numharm 8 /home/pl/work/python-workspance/FAST_pulsar_search_pl/03_barydata/j1631_FAST_pulsar_search_pl_bary_DM32.02.fft\u001b[0m\n",
      "\u001b[94m运行时间： 0.0秒\u001b[0m\n",
      "运行命令：\u001b[96maccelsearch  -zmax 0 -numharm 8 /home/pl/work/python-workspance/FAST_pulsar_search_pl/03_barydata/j1631_FAST_pulsar_search_pl_bary_DM32.01.fft\u001b[0m\n",
      "\u001b[94m运行时间： 0.0秒\u001b[0m\n",
      "运行命令：\u001b[96maccelsearch  -zmax 0 -numharm 8 /home/pl/work/python-workspance/FAST_pulsar_search_pl/03_barydata/j1631_FAST_pulsar_search_pl_bary_DM32.00.fft\u001b[0m\n",
      "\u001b[94m运行时间： 0.0秒\u001b[0m\n",
      "运行命令：\u001b[96maccelsearch  -zmax 0 -numharm 8 /home/pl/work/python-workspance/FAST_pulsar_search_pl/03_barydata/j1631_FAST_pulsar_search_pl_bary_DM32.07.fft\u001b[0m\n",
      "\u001b[94m运行时间： 0.0秒\u001b[0m\n"
     ]
    },
    {
     "name": "stderr",
     "output_type": "stream",
     "text": [
      "zap-8核:   0%|          | 1/300 [00:02<12:52,  2.58s/cmd]"
     ]
    },
    {
     "name": "stdout",
     "output_type": "stream",
     "text": [
      "程序运行路径为: /home/pl/work/python-workspance/FAST_pulsar_search_pl/03_barydata\n",
      "日志文件为：/home/pl/work/python-workspance/FAST_pulsar_search_pl/LOG/05_search/LOG_05-SEARCH-32.08.txt\n",
      "程序运行路径为: /home/pl/work/python-workspance/FAST_pulsar_search_pl/03_barydata\n",
      "日志文件为：/home/pl/work/python-workspance/FAST_pulsar_search_pl/LOG/05_search/LOG_05-SEARCH-32.09.txt\n",
      "程序运行路径为: /home/pl/work/python-workspance/FAST_pulsar_search_pl/03_barydata\n",
      "日志文件为：/home/pl/work/python-workspance/FAST_pulsar_search_pl/LOG/05_search/LOG_05-SEARCH-32.10.txt\n",
      "程序运行路径为: /home/pl/work/python-workspance/FAST_pulsar_search_pl/03_barydata\n",
      "日志文件为：/home/pl/work/python-workspance/FAST_pulsar_search_pl/LOG/05_search/LOG_05-SEARCH-32.11.txt\n",
      "程序运行路径为: /home/pl/work/python-workspance/FAST_pulsar_search_pl/03_barydata\n",
      "日志文件为：/home/pl/work/python-workspance/FAST_pulsar_search_pl/LOG/05_search/LOG_05-SEARCH-32.12.txt\n",
      "程序运行路径为: /home/pl/work/python-workspance/FAST_pulsar_search_pl/03_barydata\n",
      "日志文件为：/home/pl/work/python-workspance/FAST_pulsar_search_pl/LOG/05_search/LOG_05-SEARCH-32.13.txt\n",
      "程序运行路径为: /home/pl/work/python-workspance/FAST_pulsar_search_pl/03_barydata\n",
      "日志文件为：/home/pl/work/python-workspance/FAST_pulsar_search_pl/LOG/05_search/LOG_05-SEARCH-32.14.txt\n",
      "程序运行路径为: /home/pl/work/python-workspance/FAST_pulsar_search_pl/03_barydata\n",
      "日志文件为：/home/pl/work/python-workspance/FAST_pulsar_search_pl/LOG/05_search/LOG_05-SEARCH-32.15.txt\n",
      "运行命令：\u001b[96maccelsearch  -zmax 0 -numharm 8 /home/pl/work/python-workspance/FAST_pulsar_search_pl/03_barydata/j1631_FAST_pulsar_search_pl_bary_DM32.12.fft\u001b[0m\n",
      "\u001b[94m运行时间： 0.0秒\u001b[0m\n",
      "运行命令：\u001b[96maccelsearch  -zmax 0 -numharm 8 /home/pl/work/python-workspance/FAST_pulsar_search_pl/03_barydata/j1631_FAST_pulsar_search_pl_bary_DM32.09.fft\u001b[0m\n",
      "\u001b[94m运行时间： 0.0秒\u001b[0m\n",
      "运行命令：\u001b[96maccelsearch  -zmax 0 -numharm 8 /home/pl/work/python-workspance/FAST_pulsar_search_pl/03_barydata/j1631_FAST_pulsar_search_pl_bary_DM32.08.fft\u001b[0m\n",
      "\u001b[94m运行时间： 0.0秒\u001b[0m\n",
      "运行命令：\u001b[96maccelsearch  -zmax 0 -numharm 8 /home/pl/work/python-workspance/FAST_pulsar_search_pl/03_barydata/j1631_FAST_pulsar_search_pl_bary_DM32.14.fft\u001b[0m\n",
      "\u001b[94m运行时间： 0.0秒\u001b[0m\n",
      "运行命令：\u001b[96maccelsearch  -zmax 0 -numharm 8 /home/pl/work/python-workspance/FAST_pulsar_search_pl/03_barydata/j1631_FAST_pulsar_search_pl_bary_DM32.10.fft\u001b[0m\n",
      "\u001b[94m运行时间： 0.0秒\u001b[0m\n",
      "运行命令：\u001b[96maccelsearch  -zmax 0 -numharm 8 /home/pl/work/python-workspance/FAST_pulsar_search_pl/03_barydata/j1631_FAST_pulsar_search_pl_bary_DM32.11.fft\u001b[0m\n",
      "\u001b[94m运行时间： 0.0秒\u001b[0m\n",
      "运行命令：\u001b[96maccelsearch  -zmax 0 -numharm 8 /home/pl/work/python-workspance/FAST_pulsar_search_pl/03_barydata/j1631_FAST_pulsar_search_pl_bary_DM32.13.fft\u001b[0m\n",
      "\u001b[94m运行时间： 0.0秒\u001b[0m\n",
      "运行命令：\u001b[96maccelsearch  -zmax 0 -numharm 8 /home/pl/work/python-workspance/FAST_pulsar_search_pl/03_barydata/j1631_FAST_pulsar_search_pl_bary_DM32.15.fft\u001b[0m\n",
      "\u001b[94m运行时间： 0.0秒\u001b[0m\n"
     ]
    },
    {
     "name": "stderr",
     "output_type": "stream",
     "text": [
      "zap-8核:   3%|▎         | 9/300 [00:05<02:24,  2.02cmd/s]"
     ]
    },
    {
     "name": "stdout",
     "output_type": "stream",
     "text": [
      "程序运行路径为: /home/pl/work/python-workspance/FAST_pulsar_search_pl/03_barydata\n",
      "日志文件为：/home/pl/work/python-workspance/FAST_pulsar_search_pl/LOG/05_search/LOG_05-SEARCH-32.16.txt\n",
      "程序运行路径为: /home/pl/work/python-workspance/FAST_pulsar_search_pl/03_barydata\n",
      "日志文件为：/home/pl/work/python-workspance/FAST_pulsar_search_pl/LOG/05_search/LOG_05-SEARCH-32.17.txt\n",
      "程序运行路径为: /home/pl/work/python-workspance/FAST_pulsar_search_pl/03_barydata\n",
      "日志文件为：/home/pl/work/python-workspance/FAST_pulsar_search_pl/LOG/05_search/LOG_05-SEARCH-32.18.txt\n",
      "程序运行路径为: /home/pl/work/python-workspance/FAST_pulsar_search_pl/03_barydata\n",
      "日志文件为：/home/pl/work/python-workspance/FAST_pulsar_search_pl/LOG/05_search/LOG_05-SEARCH-32.19.txt\n",
      "程序运行路径为: /home/pl/work/python-workspance/FAST_pulsar_search_pl/03_barydata\n",
      "日志文件为：/home/pl/work/python-workspance/FAST_pulsar_search_pl/LOG/05_search/LOG_05-SEARCH-32.20.txt\n",
      "程序运行路径为: /home/pl/work/python-workspance/FAST_pulsar_search_pl/03_barydata\n",
      "日志文件为：/home/pl/work/python-workspance/FAST_pulsar_search_pl/LOG/05_search/LOG_05-SEARCH-32.21.txt\n"
     ]
    },
    {
     "name": "stderr",
     "output_type": "stream",
     "text": [
      "zap-8核:   5%|▌         | 15/300 [00:05<01:13,  3.86cmd/s]"
     ]
    },
    {
     "name": "stdout",
     "output_type": "stream",
     "text": [
      "程序运行路径为: /home/pl/work/python-workspance/FAST_pulsar_search_pl/03_barydata\n",
      "日志文件为：/home/pl/work/python-workspance/FAST_pulsar_search_pl/LOG/05_search/LOG_05-SEARCH-32.22.txt\n",
      "程序运行路径为: /home/pl/work/python-workspance/FAST_pulsar_search_pl/03_barydata\n",
      "日志文件为：/home/pl/work/python-workspance/FAST_pulsar_search_pl/LOG/05_search/LOG_05-SEARCH-32.23.txt\n",
      "运行命令：\u001b[96maccelsearch  -zmax 0 -numharm 8 /home/pl/work/python-workspance/FAST_pulsar_search_pl/03_barydata/j1631_FAST_pulsar_search_pl_bary_DM32.18.fft\u001b[0m\n",
      "\u001b[94m运行时间： 0.0秒\u001b[0m\n",
      "运行命令：\u001b[96maccelsearch  -zmax 0 -numharm 8 /home/pl/work/python-workspance/FAST_pulsar_search_pl/03_barydata/j1631_FAST_pulsar_search_pl_bary_DM32.16.fft\u001b[0m\n",
      "\u001b[94m运行时间： 0.0秒\u001b[0m\n",
      "运行命令：\u001b[96maccelsearch  -zmax 0 -numharm 8 /home/pl/work/python-workspance/FAST_pulsar_search_pl/03_barydata/j1631_FAST_pulsar_search_pl_bary_DM32.17.fft\u001b[0m\n",
      "\u001b[94m运行时间： 0.0秒\u001b[0m\n",
      "运行命令：\u001b[96maccelsearch  -zmax 0 -numharm 8 /home/pl/work/python-workspance/FAST_pulsar_search_pl/03_barydata/j1631_FAST_pulsar_search_pl_bary_DM32.19.fft\u001b[0m\n",
      "\u001b[94m运行时间： 0.0秒\u001b[0m\n",
      "运行命令：\u001b[96maccelsearch  -zmax 0 -numharm 8 /home/pl/work/python-workspance/FAST_pulsar_search_pl/03_barydata/j1631_FAST_pulsar_search_pl_bary_DM32.20.fft\u001b[0m\n",
      "\u001b[94m运行时间： 0.0秒\u001b[0m\n",
      "运行命令：\u001b[96maccelsearch  -zmax 0 -numharm 8 /home/pl/work/python-workspance/FAST_pulsar_search_pl/03_barydata/j1631_FAST_pulsar_search_pl_bary_DM32.22.fft\u001b[0m\n",
      "\u001b[94m运行时间： 0.0秒\u001b[0m\n",
      "运行命令：\u001b[96maccelsearch  -zmax 0 -numharm 8 /home/pl/work/python-workspance/FAST_pulsar_search_pl/03_barydata/j1631_FAST_pulsar_search_pl_bary_DM32.23.fft\u001b[0m\n",
      "\u001b[94m运行时间： 0.0秒\u001b[0m\n",
      "运行命令：\u001b[96maccelsearch  -zmax 0 -numharm 8 /home/pl/work/python-workspance/FAST_pulsar_search_pl/03_barydata/j1631_FAST_pulsar_search_pl_bary_DM32.21.fft\u001b[0m\n",
      "\u001b[94m运行时间： 0.0秒\u001b[0m\n",
      "程序运行路径为: /home/pl/work/python-workspance/FAST_pulsar_search_pl/03_barydata\n",
      "日志文件为：/home/pl/work/python-workspance/FAST_pulsar_search_pl/LOG/05_search/LOG_05-SEARCH-32.24.txt\n"
     ]
    },
    {
     "name": "stderr",
     "output_type": "stream",
     "text": [
      "zap-8核:   6%|▌         | 18/300 [00:07<01:55,  2.44cmd/s]"
     ]
    },
    {
     "name": "stdout",
     "output_type": "stream",
     "text": [
      "程序运行路径为: /home/pl/work/python-workspance/FAST_pulsar_search_pl/03_barydata\n",
      "日志文件为：/home/pl/work/python-workspance/FAST_pulsar_search_pl/LOG/05_search/LOG_05-SEARCH-32.25.txt\n",
      "程序运行路径为: /home/pl/work/python-workspance/FAST_pulsar_search_pl/03_barydata\n",
      "日志文件为：/home/pl/work/python-workspance/FAST_pulsar_search_pl/LOG/05_search/LOG_05-SEARCH-32.26.txt\n",
      "程序运行路径为: /home/pl/work/python-workspance/FAST_pulsar_search_pl/03_barydata\n",
      "日志文件为：/home/pl/work/python-workspance/FAST_pulsar_search_pl/LOG/05_search/LOG_05-SEARCH-32.27.txt\n",
      "程序运行路径为: /home/pl/work/python-workspance/FAST_pulsar_search_pl/03_barydata\n",
      "日志文件为：/home/pl/work/python-workspance/FAST_pulsar_search_pl/LOG/05_search/LOG_05-SEARCH-32.28.txt\n",
      "程序运行路径为: /home/pl/work/python-workspance/FAST_pulsar_search_pl/03_barydata\n",
      "日志文件为：/home/pl/work/python-workspance/FAST_pulsar_search_pl/LOG/05_search/LOG_05-SEARCH-32.29.txt\n"
     ]
    },
    {
     "name": "stderr",
     "output_type": "stream",
     "text": [
      "zap-8核:   8%|▊         | 23/300 [00:07<01:12,  3.84cmd/s]"
     ]
    },
    {
     "name": "stdout",
     "output_type": "stream",
     "text": [
      "程序运行路径为: /home/pl/work/python-workspance/FAST_pulsar_search_pl/03_barydata\n",
      "日志文件为：/home/pl/work/python-workspance/FAST_pulsar_search_pl/LOG/05_search/LOG_05-SEARCH-32.30.txt\n",
      "程序运行路径为: /home/pl/work/python-workspance/FAST_pulsar_search_pl/03_barydata\n",
      "日志文件为：/home/pl/work/python-workspance/FAST_pulsar_search_pl/LOG/05_search/LOG_05-SEARCH-32.31.txt\n",
      "运行命令：\u001b[96maccelsearch  -zmax 0 -numharm 8 /home/pl/work/python-workspance/FAST_pulsar_search_pl/03_barydata/j1631_FAST_pulsar_search_pl_bary_DM32.25.fft\u001b[0m\n",
      "\u001b[94m运行时间： 0.0秒\u001b[0m\n",
      "运行命令：\u001b[96maccelsearch  -zmax 0 -numharm 8 /home/pl/work/python-workspance/FAST_pulsar_search_pl/03_barydata/j1631_FAST_pulsar_search_pl_bary_DM32.24.fft\u001b[0m\n",
      "\u001b[94m运行时间： 0.0秒\u001b[0m\n",
      "运行命令：\u001b[96maccelsearch  -zmax 0 -numharm 8 /home/pl/work/python-workspance/FAST_pulsar_search_pl/03_barydata/j1631_FAST_pulsar_search_pl_bary_DM32.26.fft\u001b[0m\n",
      "运行命令：\u001b[96maccelsearch  -zmax 0 -numharm 8 /home/pl/work/python-workspance/FAST_pulsar_search_pl/03_barydata/j1631_FAST_pulsar_search_pl_bary_DM32.27.fft\u001b[0m\n",
      "\u001b[94m运行时间： 0.0秒\u001b[0m\n",
      "\u001b[94m运行时间： 0.0秒\u001b[0m\n",
      "运行命令：\u001b[96maccelsearch  -zmax 0 -numharm 8 /home/pl/work/python-workspance/FAST_pulsar_search_pl/03_barydata/j1631_FAST_pulsar_search_pl_bary_DM32.29.fft\u001b[0m\n",
      "\u001b[94m运行时间： 0.0秒\u001b[0m\n",
      "运行命令：\u001b[96maccelsearch  -zmax 0 -numharm 8 /home/pl/work/python-workspance/FAST_pulsar_search_pl/03_barydata/j1631_FAST_pulsar_search_pl_bary_DM32.30.fft\u001b[0m\n",
      "\u001b[94m运行时间： 0.0秒\u001b[0m\n",
      "运行命令：\u001b[96maccelsearch  -zmax 0 -numharm 8 /home/pl/work/python-workspance/FAST_pulsar_search_pl/03_barydata/j1631_FAST_pulsar_search_pl_bary_DM32.31.fft\u001b[0m\n",
      "\u001b[94m运行时间： 0.0秒\u001b[0m\n",
      "运行命令：\u001b[96maccelsearch  -zmax 0 -numharm 8 /home/pl/work/python-workspance/FAST_pulsar_search_pl/03_barydata/j1631_FAST_pulsar_search_pl_bary_DM32.28.fft\u001b[0m\n",
      "\u001b[94m运行时间： 0.0秒\u001b[0m\n",
      "程序运行路径为: /home/pl/work/python-workspance/FAST_pulsar_search_pl/03_barydata\n",
      "日志文件为：/home/pl/work/python-workspance/FAST_pulsar_search_pl/LOG/05_search/LOG_05-SEARCH-32.32.txt\n"
     ]
    },
    {
     "name": "stderr",
     "output_type": "stream",
     "text": [
      "zap-8核:   9%|▊         | 26/300 [00:10<01:50,  2.48cmd/s]"
     ]
    },
    {
     "name": "stdout",
     "output_type": "stream",
     "text": [
      "程序运行路径为: /home/pl/work/python-workspance/FAST_pulsar_search_pl/03_barydata\n",
      "日志文件为：/home/pl/work/python-workspance/FAST_pulsar_search_pl/LOG/05_search/LOG_05-SEARCH-32.33.txt\n",
      "程序运行路径为: /home/pl/work/python-workspance/FAST_pulsar_search_pl/03_barydata\n",
      "程序运行路径为: /home/pl/work/python-workspance/FAST_pulsar_search_pl/03_barydata\n",
      "日志文件为：/home/pl/work/python-workspance/FAST_pulsar_search_pl/LOG/05_search/LOG_05-SEARCH-32.34.txt\n",
      "日志文件为：/home/pl/work/python-workspance/FAST_pulsar_search_pl/LOG/05_search/LOG_05-SEARCH-32.35.txt\n",
      "程序运行路径为: /home/pl/work/python-workspance/FAST_pulsar_search_pl/03_barydata\n",
      "日志文件为：/home/pl/work/python-workspance/FAST_pulsar_search_pl/LOG/05_search/LOG_05-SEARCH-32.36.txt\n",
      "程序运行路径为: /home/pl/work/python-workspance/FAST_pulsar_search_pl/03_barydata\n",
      "日志文件为：/home/pl/work/python-workspance/FAST_pulsar_search_pl/LOG/05_search/LOG_05-SEARCH-32.37.txt\n",
      "程序运行路径为: /home/pl/work/python-workspance/FAST_pulsar_search_pl/03_barydata\n",
      "日志文件为：/home/pl/work/python-workspance/FAST_pulsar_search_pl/LOG/05_search/LOG_05-SEARCH-32.38.txt\n",
      "程序运行路径为: /home/pl/work/python-workspance/FAST_pulsar_search_pl/03_barydata\n",
      "日志文件为：/home/pl/work/python-workspance/FAST_pulsar_search_pl/LOG/05_search/LOG_05-SEARCH-32.39.txt\n",
      "运行命令：\u001b[96maccelsearch  -zmax 0 -numharm 8 /home/pl/work/python-workspance/FAST_pulsar_search_pl/03_barydata/j1631_FAST_pulsar_search_pl_bary_DM32.32.fft\u001b[0m\n",
      "\u001b[94m运行时间： 0.0秒\u001b[0m\n",
      "运行命令：\u001b[96maccelsearch  -zmax 0 -numharm 8 /home/pl/work/python-workspance/FAST_pulsar_search_pl/03_barydata/j1631_FAST_pulsar_search_pl_bary_DM32.33.fft\u001b[0m\n",
      "\u001b[94m运行时间： 0.0秒\u001b[0m\n",
      "运行命令：\u001b[96maccelsearch  -zmax 0 -numharm 8 /home/pl/work/python-workspance/FAST_pulsar_search_pl/03_barydata/j1631_FAST_pulsar_search_pl_bary_DM32.34.fft\u001b[0m\n",
      "\u001b[94m运行时间： 0.0秒\u001b[0m\n",
      "运行命令：\u001b[96maccelsearch  -zmax 0 -numharm 8 /home/pl/work/python-workspance/FAST_pulsar_search_pl/03_barydata/j1631_FAST_pulsar_search_pl_bary_DM32.38.fft\u001b[0m\n",
      "\u001b[94m运行时间： 0.0秒\u001b[0m\n",
      "运行命令：\u001b[96maccelsearch  -zmax 0 -numharm 8 /home/pl/work/python-workspance/FAST_pulsar_search_pl/03_barydata/j1631_FAST_pulsar_search_pl_bary_DM32.37.fft\u001b[0m\n",
      "运行命令：\u001b[96maccelsearch  -zmax 0 -numharm 8 /home/pl/work/python-workspance/FAST_pulsar_search_pl/03_barydata/j1631_FAST_pulsar_search_pl_bary_DM32.39.fft\u001b[0m\n",
      "\u001b[94m运行时间： 0.0秒\u001b[0m\n",
      "\u001b[94m运行时间： 0.0秒\u001b[0m\n",
      "运行命令：\u001b[96maccelsearch  -zmax 0 -numharm 8 /home/pl/work/python-workspance/FAST_pulsar_search_pl/03_barydata/j1631_FAST_pulsar_search_pl_bary_DM32.36.fft\u001b[0m\n",
      "\u001b[94m运行时间： 0.0秒\u001b[0m\n",
      "运行命令：\u001b[96maccelsearch  -zmax 0 -numharm 8 /home/pl/work/python-workspance/FAST_pulsar_search_pl/03_barydata/j1631_FAST_pulsar_search_pl_bary_DM32.35.fft\u001b[0m\n",
      "\u001b[94m运行时间： 0.0秒\u001b[0m\n"
     ]
    },
    {
     "name": "stderr",
     "output_type": "stream",
     "text": [
      "zap-8核:  11%|█         | 33/300 [00:12<01:43,  2.58cmd/s]"
     ]
    },
    {
     "name": "stdout",
     "output_type": "stream",
     "text": [
      "程序运行路径为: /home/pl/work/python-workspance/FAST_pulsar_search_pl/03_barydata\n",
      "日志文件为：/home/pl/work/python-workspance/FAST_pulsar_search_pl/LOG/05_search/LOG_05-SEARCH-32.40.txt\n",
      "程序运行路径为: /home/pl/work/python-workspance/FAST_pulsar_search_pl/03_barydata\n",
      "日志文件为：/home/pl/work/python-workspance/FAST_pulsar_search_pl/LOG/05_search/LOG_05-SEARCH-32.41.txt\n",
      "程序运行路径为: /home/pl/work/python-workspance/FAST_pulsar_search_pl/03_barydata\n",
      "日志文件为：/home/pl/work/python-workspance/FAST_pulsar_search_pl/LOG/05_search/LOG_05-SEARCH-32.42.txt\n",
      "程序运行路径为: /home/pl/work/python-workspance/FAST_pulsar_search_pl/03_barydata\n",
      "程序运行路径为: /home/pl/work/python-workspance/FAST_pulsar_search_pl/03_barydata\n",
      "程序运行路径为: /home/pl/work/python-workspance/FAST_pulsar_search_pl/03_barydata\n"
     ]
    },
    {
     "name": "stderr",
     "output_type": "stream",
     "text": [
      "zap-8核:  12%|█▏        | 36/300 [00:13<01:22,  3.20cmd/s]"
     ]
    },
    {
     "name": "stdout",
     "output_type": "stream",
     "text": [
      "程序运行路径为: /home/pl/work/python-workspance/FAST_pulsar_search_pl/03_barydata\n",
      "日志文件为：/home/pl/work/python-workspance/FAST_pulsar_search_pl/LOG/05_search/LOG_05-SEARCH-32.45.txt\n",
      "日志文件为：/home/pl/work/python-workspance/FAST_pulsar_search_pl/LOG/05_search/LOG_05-SEARCH-32.46.txt\n",
      "日志文件为：/home/pl/work/python-workspance/FAST_pulsar_search_pl/LOG/05_search/LOG_05-SEARCH-32.43.txt\n",
      "日志文件为：/home/pl/work/python-workspance/FAST_pulsar_search_pl/LOG/05_search/LOG_05-SEARCH-32.44.txt\n",
      "程序运行路径为: /home/pl/work/python-workspance/FAST_pulsar_search_pl/03_barydata\n",
      "日志文件为：/home/pl/work/python-workspance/FAST_pulsar_search_pl/LOG/05_search/LOG_05-SEARCH-32.47.txt\n",
      "运行命令：\u001b[96maccelsearch  -zmax 0 -numharm 8 /home/pl/work/python-workspance/FAST_pulsar_search_pl/03_barydata/j1631_FAST_pulsar_search_pl_bary_DM32.40.fft\u001b[0m\n",
      "\u001b[94m运行时间： 0.0秒\u001b[0m\n",
      "运行命令：\u001b[96maccelsearch  -zmax 0 -numharm 8 /home/pl/work/python-workspance/FAST_pulsar_search_pl/03_barydata/j1631_FAST_pulsar_search_pl_bary_DM32.42.fft\u001b[0m\n",
      "\u001b[94m运行时间： 0.0秒\u001b[0m\n",
      "运行命令：\u001b[96maccelsearch  -zmax 0 -numharm 8 /home/pl/work/python-workspance/FAST_pulsar_search_pl/03_barydata/j1631_FAST_pulsar_search_pl_bary_DM32.43.fft\u001b[0m\n",
      "\u001b[94m运行时间： 0.0秒\u001b[0m\n",
      "运行命令：\u001b[96maccelsearch  -zmax 0 -numharm 8 /home/pl/work/python-workspance/FAST_pulsar_search_pl/03_barydata/j1631_FAST_pulsar_search_pl_bary_DM32.46.fft\u001b[0m\n",
      "\u001b[94m运行时间： 0.0秒\u001b[0m\n",
      "运行命令：\u001b[96maccelsearch  -zmax 0 -numharm 8 /home/pl/work/python-workspance/FAST_pulsar_search_pl/03_barydata/j1631_FAST_pulsar_search_pl_bary_DM32.45.fft\u001b[0m\n",
      "\u001b[94m运行时间： 0.0秒\u001b[0m\n",
      "运行命令：\u001b[96maccelsearch  -zmax 0 -numharm 8 /home/pl/work/python-workspance/FAST_pulsar_search_pl/03_barydata/j1631_FAST_pulsar_search_pl_bary_DM32.47.fft\u001b[0m\n",
      "运行命令：\u001b[96maccelsearch  -zmax 0 -numharm 8 /home/pl/work/python-workspance/FAST_pulsar_search_pl/03_barydata/j1631_FAST_pulsar_search_pl_bary_DM32.41.fft\u001b[0m\n",
      "\u001b[94m运行时间： 0.0秒\u001b[0m\n",
      "\u001b[94m运行时间： 0.0秒\u001b[0m\n",
      "运行命令：\u001b[96maccelsearch  -zmax 0 -numharm 8 /home/pl/work/python-workspance/FAST_pulsar_search_pl/03_barydata/j1631_FAST_pulsar_search_pl_bary_DM32.44.fft\u001b[0m\n",
      "\u001b[94m运行时间： 0.0秒\u001b[0m\n"
     ]
    },
    {
     "name": "stderr",
     "output_type": "stream",
     "text": [
      "zap-8核:  14%|█▎        | 41/300 [00:15<01:38,  2.64cmd/s]"
     ]
    },
    {
     "name": "stdout",
     "output_type": "stream",
     "text": [
      "程序运行路径为: /home/pl/work/python-workspance/FAST_pulsar_search_pl/03_barydata\n",
      "日志文件为：/home/pl/work/python-workspance/FAST_pulsar_search_pl/LOG/05_search/LOG_05-SEARCH-32.48.txt\n",
      "程序运行路径为: /home/pl/work/python-workspance/FAST_pulsar_search_pl/03_barydata\n",
      "日志文件为：/home/pl/work/python-workspance/FAST_pulsar_search_pl/LOG/05_search/LOG_05-SEARCH-32.49.txt\n",
      "程序运行路径为: /home/pl/work/python-workspance/FAST_pulsar_search_pl/03_barydata\n",
      "日志文件为：/home/pl/work/python-workspance/FAST_pulsar_search_pl/LOG/05_search/LOG_05-SEARCH-32.50.txt\n",
      "程序运行路径为: /home/pl/work/python-workspance/FAST_pulsar_search_pl/03_barydata\n",
      "日志文件为：/home/pl/work/python-workspance/FAST_pulsar_search_pl/LOG/05_search/LOG_05-SEARCH-32.51.txt\n"
     ]
    },
    {
     "name": "stderr",
     "output_type": "stream",
     "text": [
      "zap-8核:  15%|█▌        | 45/300 [00:15<01:11,  3.56cmd/s]"
     ]
    },
    {
     "name": "stdout",
     "output_type": "stream",
     "text": [
      "程序运行路径为: /home/pl/work/python-workspance/FAST_pulsar_search_pl/03_barydata\n",
      "日志文件为：/home/pl/work/python-workspance/FAST_pulsar_search_pl/LOG/05_search/LOG_05-SEARCH-32.52.txt\n",
      "程序运行路径为: /home/pl/work/python-workspance/FAST_pulsar_search_pl/03_barydata\n",
      "程序运行路径为: /home/pl/work/python-workspance/FAST_pulsar_search_pl/03_barydata\n",
      "日志文件为：/home/pl/work/python-workspance/FAST_pulsar_search_pl/LOG/05_search/LOG_05-SEARCH-32.54.txt\n",
      "日志文件为：/home/pl/work/python-workspance/FAST_pulsar_search_pl/LOG/05_search/LOG_05-SEARCH-32.53.txt\n",
      "程序运行路径为: /home/pl/work/python-workspance/FAST_pulsar_search_pl/03_barydata\n",
      "日志文件为：/home/pl/work/python-workspance/FAST_pulsar_search_pl/LOG/05_search/LOG_05-SEARCH-32.55.txt\n",
      "运行命令：\u001b[96maccelsearch  -zmax 0 -numharm 8 /home/pl/work/python-workspance/FAST_pulsar_search_pl/03_barydata/j1631_FAST_pulsar_search_pl_bary_DM32.48.fft\u001b[0m\n",
      "\u001b[94m运行时间： 0.0秒\u001b[0m\n",
      "运行命令：\u001b[96maccelsearch  -zmax 0 -numharm 8 /home/pl/work/python-workspance/FAST_pulsar_search_pl/03_barydata/j1631_FAST_pulsar_search_pl_bary_DM32.51.fft\u001b[0m\n",
      "\u001b[94m运行时间： 0.0秒\u001b[0m\n",
      "运行命令：\u001b[96maccelsearch  -zmax 0 -numharm 8 /home/pl/work/python-workspance/FAST_pulsar_search_pl/03_barydata/j1631_FAST_pulsar_search_pl_bary_DM32.53.fft\u001b[0m\n",
      "\u001b[94m运行时间： 0.0秒\u001b[0m\n",
      "运行命令：\u001b[96maccelsearch  -zmax 0 -numharm 8 /home/pl/work/python-workspance/FAST_pulsar_search_pl/03_barydata/j1631_FAST_pulsar_search_pl_bary_DM32.50.fft\u001b[0m\n",
      "\u001b[94m运行时间： 0.0秒\u001b[0m\n",
      "运行命令：\u001b[96maccelsearch  -zmax 0 -numharm 8 /home/pl/work/python-workspance/FAST_pulsar_search_pl/03_barydata/j1631_FAST_pulsar_search_pl_bary_DM32.49.fft\u001b[0m\n",
      "\u001b[94m运行时间： 0.0秒\u001b[0m\n",
      "运行命令：\u001b[96maccelsearch  -zmax 0 -numharm 8 /home/pl/work/python-workspance/FAST_pulsar_search_pl/03_barydata/j1631_FAST_pulsar_search_pl_bary_DM32.52.fft\u001b[0m\n",
      "\u001b[94m运行时间： 0.0秒\u001b[0m\n",
      "运行命令：\u001b[96maccelsearch  -zmax 0 -numharm 8 /home/pl/work/python-workspance/FAST_pulsar_search_pl/03_barydata/j1631_FAST_pulsar_search_pl_bary_DM32.55.fft\u001b[0m\n",
      "\u001b[94m运行时间： 0.0秒\u001b[0m\n",
      "运行命令：\u001b[96maccelsearch  -zmax 0 -numharm 8 /home/pl/work/python-workspance/FAST_pulsar_search_pl/03_barydata/j1631_FAST_pulsar_search_pl_bary_DM32.54.fft\u001b[0m\n",
      "\u001b[94m运行时间： 0.0秒\u001b[0m\n"
     ]
    },
    {
     "name": "stderr",
     "output_type": "stream",
     "text": [
      "zap-8核:  16%|█▋        | 49/300 [00:18<01:36,  2.59cmd/s]"
     ]
    },
    {
     "name": "stdout",
     "output_type": "stream",
     "text": [
      "程序运行路径为: /home/pl/work/python-workspance/FAST_pulsar_search_pl/03_barydata\n",
      "日志文件为：/home/pl/work/python-workspance/FAST_pulsar_search_pl/LOG/05_search/LOG_05-SEARCH-32.56.txt\n",
      "程序运行路径为: /home/pl/work/python-workspance/FAST_pulsar_search_pl/03_barydata\n",
      "日志文件为：/home/pl/work/python-workspance/FAST_pulsar_search_pl/LOG/05_search/LOG_05-SEARCH-32.57.txt\n",
      "程序运行路径为: /home/pl/work/python-workspance/FAST_pulsar_search_pl/03_barydata\n",
      "日志文件为：/home/pl/work/python-workspance/FAST_pulsar_search_pl/LOG/05_search/LOG_05-SEARCH-32.58.txt\n",
      "程序运行路径为: /home/pl/work/python-workspance/FAST_pulsar_search_pl/03_barydata\n",
      "日志文件为：/home/pl/work/python-workspance/FAST_pulsar_search_pl/LOG/05_search/LOG_05-SEARCH-32.59.txt\n",
      "程序运行路径为: /home/pl/work/python-workspance/FAST_pulsar_search_pl/03_barydata\n",
      "日志文件为：/home/pl/work/python-workspance/FAST_pulsar_search_pl/LOG/05_search/LOG_05-SEARCH-32.60.txt\n",
      "程序运行路径为: /home/pl/work/python-workspance/FAST_pulsar_search_pl/03_barydata\n",
      "日志文件为：/home/pl/work/python-workspance/FAST_pulsar_search_pl/LOG/05_search/LOG_05-SEARCH-32.61.txt\n",
      "程序运行路径为: /home/pl/work/python-workspance/FAST_pulsar_search_pl/03_barydata\n",
      "日志文件为：/home/pl/work/python-workspance/FAST_pulsar_search_pl/LOG/05_search/LOG_05-SEARCH-32.62.txt\n"
     ]
    },
    {
     "name": "stderr",
     "output_type": "stream",
     "text": [
      "zap-8核:  19%|█▊        | 56/300 [00:18<00:56,  4.29cmd/s]"
     ]
    },
    {
     "name": "stdout",
     "output_type": "stream",
     "text": [
      "程序运行路径为: /home/pl/work/python-workspance/FAST_pulsar_search_pl/03_barydata\n",
      "日志文件为：/home/pl/work/python-workspance/FAST_pulsar_search_pl/LOG/05_search/LOG_05-SEARCH-32.63.txt\n",
      "运行命令：\u001b[96maccelsearch  -zmax 0 -numharm 8 /home/pl/work/python-workspance/FAST_pulsar_search_pl/03_barydata/j1631_FAST_pulsar_search_pl_bary_DM32.57.fft\u001b[0m\n",
      "\u001b[94m运行时间： 0.0秒\u001b[0m\n",
      "运行命令：\u001b[96maccelsearch  -zmax 0 -numharm 8 /home/pl/work/python-workspance/FAST_pulsar_search_pl/03_barydata/j1631_FAST_pulsar_search_pl_bary_DM32.60.fft\u001b[0m\n",
      "\u001b[94m运行时间： 0.0秒\u001b[0m\n",
      "运行命令：\u001b[96maccelsearch  -zmax 0 -numharm 8 /home/pl/work/python-workspance/FAST_pulsar_search_pl/03_barydata/j1631_FAST_pulsar_search_pl_bary_DM32.61.fft\u001b[0m\n",
      "\u001b[94m运行时间： 0.0秒\u001b[0m\n",
      "运行命令：\u001b[96maccelsearch  -zmax 0 -numharm 8 /home/pl/work/python-workspance/FAST_pulsar_search_pl/03_barydata/j1631_FAST_pulsar_search_pl_bary_DM32.59.fft\u001b[0m\n",
      "\u001b[94m运行时间： 0.0秒\u001b[0m\n",
      "运行命令：\u001b[96maccelsearch  -zmax 0 -numharm 8 /home/pl/work/python-workspance/FAST_pulsar_search_pl/03_barydata/j1631_FAST_pulsar_search_pl_bary_DM32.56.fft\u001b[0m\n",
      "运行命令：\u001b[96maccelsearch  -zmax 0 -numharm 8 /home/pl/work/python-workspance/FAST_pulsar_search_pl/03_barydata/j1631_FAST_pulsar_search_pl_bary_DM32.58.fft\u001b[0m\n",
      "\u001b[94m运行时间： 0.0秒\u001b[0m\n",
      "\u001b[94m运行时间： 0.0秒\u001b[0m\n",
      "运行命令：\u001b[96maccelsearch  -zmax 0 -numharm 8 /home/pl/work/python-workspance/FAST_pulsar_search_pl/03_barydata/j1631_FAST_pulsar_search_pl_bary_DM32.62.fft\u001b[0m\n",
      "\u001b[94m运行时间： 0.0秒\u001b[0m\n",
      "运行命令：\u001b[96maccelsearch  -zmax 0 -numharm 8 /home/pl/work/python-workspance/FAST_pulsar_search_pl/03_barydata/j1631_FAST_pulsar_search_pl_bary_DM32.63.fft\u001b[0m\n",
      "\u001b[94m运行时间： 0.0秒\u001b[0m\n",
      "程序运行路径为: /home/pl/work/python-workspance/FAST_pulsar_search_pl/03_barydata\n",
      "程序运行路径为: /home/pl/work/python-workspance/FAST_pulsar_search_pl/03_barydata\n",
      "日志文件为：/home/pl/work/python-workspance/FAST_pulsar_search_pl/LOG/05_search/LOG_05-SEARCH-32.64.txt\n",
      "日志文件为：/home/pl/work/python-workspance/FAST_pulsar_search_pl/LOG/05_search/LOG_05-SEARCH-32.65.txt\n"
     ]
    },
    {
     "name": "stderr",
     "output_type": "stream",
     "text": [
      "zap-8核:  20%|█▉        | 59/300 [00:20<01:26,  2.78cmd/s]"
     ]
    },
    {
     "name": "stdout",
     "output_type": "stream",
     "text": [
      "程序运行路径为: /home/pl/work/python-workspance/FAST_pulsar_search_pl/03_barydata\n",
      "日志文件为：/home/pl/work/python-workspance/FAST_pulsar_search_pl/LOG/05_search/LOG_05-SEARCH-32.66.txt\n",
      "程序运行路径为: /home/pl/work/python-workspance/FAST_pulsar_search_pl/03_barydata\n",
      "日志文件为：/home/pl/work/python-workspance/FAST_pulsar_search_pl/LOG/05_search/LOG_05-SEARCH-32.67.txt\n",
      "程序运行路径为: /home/pl/work/python-workspance/FAST_pulsar_search_pl/03_barydata\n",
      "程序运行路径为: /home/pl/work/python-workspance/FAST_pulsar_search_pl/03_barydata\n",
      "日志文件为：/home/pl/work/python-workspance/FAST_pulsar_search_pl/LOG/05_search/LOG_05-SEARCH-32.68.txt\n",
      "日志文件为：/home/pl/work/python-workspance/FAST_pulsar_search_pl/LOG/05_search/LOG_05-SEARCH-32.69.txt\n",
      "程序运行路径为: /home/pl/work/python-workspance/FAST_pulsar_search_pl/03_barydata\n",
      "日志文件为：/home/pl/work/python-workspance/FAST_pulsar_search_pl/LOG/05_search/LOG_05-SEARCH-32.70.txt\n"
     ]
    },
    {
     "name": "stderr",
     "output_type": "stream",
     "text": [
      "zap-8核:  21%|██▏       | 64/300 [00:21<00:59,  3.98cmd/s]"
     ]
    },
    {
     "name": "stdout",
     "output_type": "stream",
     "text": [
      "程序运行路径为: /home/pl/work/python-workspance/FAST_pulsar_search_pl/03_barydata\n",
      "日志文件为：/home/pl/work/python-workspance/FAST_pulsar_search_pl/LOG/05_search/LOG_05-SEARCH-32.71.txt\n",
      "运行命令：\u001b[96maccelsearch  -zmax 0 -numharm 8 /home/pl/work/python-workspance/FAST_pulsar_search_pl/03_barydata/j1631_FAST_pulsar_search_pl_bary_DM32.65.fft\u001b[0m\n",
      "\u001b[94m运行时间： 0.0秒\u001b[0m\n",
      "运行命令：\u001b[96maccelsearch  -zmax 0 -numharm 8 /home/pl/work/python-workspance/FAST_pulsar_search_pl/03_barydata/j1631_FAST_pulsar_search_pl_bary_DM32.66.fft\u001b[0m\n",
      "\u001b[94m运行时间： 0.0秒\u001b[0m\n",
      "运行命令：\u001b[96maccelsearch  -zmax 0 -numharm 8 /home/pl/work/python-workspance/FAST_pulsar_search_pl/03_barydata/j1631_FAST_pulsar_search_pl_bary_DM32.64.fft\u001b[0m\n",
      "\u001b[94m运行时间： 0.0秒\u001b[0m\n",
      "运行命令：\u001b[96maccelsearch  -zmax 0 -numharm 8 /home/pl/work/python-workspance/FAST_pulsar_search_pl/03_barydata/j1631_FAST_pulsar_search_pl_bary_DM32.70.fft\u001b[0m\n",
      "\u001b[94m运行时间： 0.0秒\u001b[0m\n",
      "运行命令：\u001b[96maccelsearch  -zmax 0 -numharm 8 /home/pl/work/python-workspance/FAST_pulsar_search_pl/03_barydata/j1631_FAST_pulsar_search_pl_bary_DM32.67.fft\u001b[0m\n",
      "\u001b[94m运行时间： 0.0秒\u001b[0m\n",
      "运行命令：\u001b[96maccelsearch  -zmax 0 -numharm 8 /home/pl/work/python-workspance/FAST_pulsar_search_pl/03_barydata/j1631_FAST_pulsar_search_pl_bary_DM32.69.fft\u001b[0m\n",
      "\u001b[94m运行时间： 0.0秒\u001b[0m\n",
      "运行命令：\u001b[96maccelsearch  -zmax 0 -numharm 8 /home/pl/work/python-workspance/FAST_pulsar_search_pl/03_barydata/j1631_FAST_pulsar_search_pl_bary_DM32.68.fft\u001b[0m\n",
      "\u001b[94m运行时间： 0.0秒\u001b[0m\n",
      "运行命令：\u001b[96maccelsearch  -zmax 0 -numharm 8 /home/pl/work/python-workspance/FAST_pulsar_search_pl/03_barydata/j1631_FAST_pulsar_search_pl_bary_DM32.71.fft\u001b[0m\n",
      "\u001b[94m运行时间： 0.0秒\u001b[0m\n",
      "程序运行路径为: /home/pl/work/python-workspance/FAST_pulsar_search_pl/03_barydata\n",
      "日志文件为：/home/pl/work/python-workspance/FAST_pulsar_search_pl/LOG/05_search/LOG_05-SEARCH-32.72.txt\n"
     ]
    },
    {
     "name": "stderr",
     "output_type": "stream",
     "text": [
      "zap-8核:  22%|██▏       | 67/300 [00:23<01:29,  2.61cmd/s]"
     ]
    },
    {
     "name": "stdout",
     "output_type": "stream",
     "text": [
      "程序运行路径为: /home/pl/work/python-workspance/FAST_pulsar_search_pl/03_barydata\n",
      "程序运行路径为: /home/pl/work/python-workspance/FAST_pulsar_search_pl/03_barydata\n",
      "日志文件为：/home/pl/work/python-workspance/FAST_pulsar_search_pl/LOG/05_search/LOG_05-SEARCH-32.73.txt\n",
      "日志文件为：/home/pl/work/python-workspance/FAST_pulsar_search_pl/LOG/05_search/LOG_05-SEARCH-32.74.txt\n",
      "程序运行路径为: /home/pl/work/python-workspance/FAST_pulsar_search_pl/03_barydata\n",
      "日志文件为：/home/pl/work/python-workspance/FAST_pulsar_search_pl/LOG/05_search/LOG_05-SEARCH-32.75.txt\n",
      "程序运行路径为: /home/pl/work/python-workspance/FAST_pulsar_search_pl/03_barydata\n",
      "日志文件为：/home/pl/work/python-workspance/FAST_pulsar_search_pl/LOG/05_search/LOG_05-SEARCH-32.76.txt\n",
      "程序运行路径为: /home/pl/work/python-workspance/FAST_pulsar_search_pl/03_barydata\n",
      "日志文件为：/home/pl/work/python-workspance/FAST_pulsar_search_pl/LOG/05_search/LOG_05-SEARCH-32.77.txt\n",
      "程序运行路径为: /home/pl/work/python-workspance/FAST_pulsar_search_pl/03_barydata\n",
      "日志文件为：/home/pl/work/python-workspance/FAST_pulsar_search_pl/LOG/05_search/LOG_05-SEARCH-32.78.txt\n"
     ]
    },
    {
     "name": "stderr",
     "output_type": "stream",
     "text": [
      "zap-8核:  24%|██▍       | 72/300 [00:23<00:59,  3.81cmd/s]"
     ]
    },
    {
     "name": "stdout",
     "output_type": "stream",
     "text": [
      "程序运行路径为: /home/pl/work/python-workspance/FAST_pulsar_search_pl/03_barydata\n",
      "日志文件为：/home/pl/work/python-workspance/FAST_pulsar_search_pl/LOG/05_search/LOG_05-SEARCH-32.79.txt\n",
      "运行命令：\u001b[96maccelsearch  -zmax 0 -numharm 8 /home/pl/work/python-workspance/FAST_pulsar_search_pl/03_barydata/j1631_FAST_pulsar_search_pl_bary_DM32.75.fft\u001b[0m\n",
      "\u001b[94m运行时间： 0.0秒\u001b[0m\n",
      "运行命令：\u001b[96maccelsearch  -zmax 0 -numharm 8 /home/pl/work/python-workspance/FAST_pulsar_search_pl/03_barydata/j1631_FAST_pulsar_search_pl_bary_DM32.76.fft\u001b[0m\n",
      "\u001b[94m运行时间： 0.0秒\u001b[0m\n",
      "运行命令：\u001b[96maccelsearch  -zmax 0 -numharm 8 /home/pl/work/python-workspance/FAST_pulsar_search_pl/03_barydata/j1631_FAST_pulsar_search_pl_bary_DM32.74.fft\u001b[0m\n",
      "\u001b[94m运行时间： 0.0秒\u001b[0m\n",
      "运行命令：\u001b[96maccelsearch  -zmax 0 -numharm 8 /home/pl/work/python-workspance/FAST_pulsar_search_pl/03_barydata/j1631_FAST_pulsar_search_pl_bary_DM32.78.fft\u001b[0m\n",
      "\u001b[94m运行时间： 0.0秒\u001b[0m\n",
      "运行命令：\u001b[96maccelsearch  -zmax 0 -numharm 8 /home/pl/work/python-workspance/FAST_pulsar_search_pl/03_barydata/j1631_FAST_pulsar_search_pl_bary_DM32.73.fft\u001b[0m\n",
      "\u001b[94m运行时间： 0.0秒\u001b[0m\n",
      "运行命令：\u001b[96maccelsearch  -zmax 0 -numharm 8 /home/pl/work/python-workspance/FAST_pulsar_search_pl/03_barydata/j1631_FAST_pulsar_search_pl_bary_DM32.77.fft\u001b[0m\n",
      "\u001b[94m运行时间： 0.0秒\u001b[0m\n",
      "运行命令：\u001b[96maccelsearch  -zmax 0 -numharm 8 /home/pl/work/python-workspance/FAST_pulsar_search_pl/03_barydata/j1631_FAST_pulsar_search_pl_bary_DM32.72.fft\u001b[0m\n",
      "\u001b[94m运行时间： 0.0秒\u001b[0m\n",
      "运行命令：\u001b[96maccelsearch  -zmax 0 -numharm 8 /home/pl/work/python-workspance/FAST_pulsar_search_pl/03_barydata/j1631_FAST_pulsar_search_pl_bary_DM32.79.fft\u001b[0m\n",
      "\u001b[94m运行时间： 0.0秒\u001b[0m\n",
      "程序运行路径为: /home/pl/work/python-workspance/FAST_pulsar_search_pl/03_barydata\n",
      "日志文件为：/home/pl/work/python-workspance/FAST_pulsar_search_pl/LOG/05_search/LOG_05-SEARCH-32.80.txt\n",
      "程序运行路径为: /home/pl/work/python-workspance/FAST_pulsar_search_pl/03_barydata\n"
     ]
    },
    {
     "name": "stderr",
     "output_type": "stream",
     "text": [
      "zap-8核:  25%|██▌       | 75/300 [00:26<01:29,  2.53cmd/s]"
     ]
    },
    {
     "name": "stdout",
     "output_type": "stream",
     "text": [
      "程序运行路径为: /home/pl/work/python-workspance/FAST_pulsar_search_pl/03_barydata\n",
      "日志文件为：/home/pl/work/python-workspance/FAST_pulsar_search_pl/LOG/05_search/LOG_05-SEARCH-32.82.txt\n",
      "日志文件为：/home/pl/work/python-workspance/FAST_pulsar_search_pl/LOG/05_search/LOG_05-SEARCH-32.81.txt\n",
      "程序运行路径为: /home/pl/work/python-workspance/FAST_pulsar_search_pl/03_barydata\n",
      "日志文件为：/home/pl/work/python-workspance/FAST_pulsar_search_pl/LOG/05_search/LOG_05-SEARCH-32.83.txt\n",
      "程序运行路径为: /home/pl/work/python-workspance/FAST_pulsar_search_pl/03_barydata\n",
      "日志文件为：/home/pl/work/python-workspance/FAST_pulsar_search_pl/LOG/05_search/LOG_05-SEARCH-32.84.txt\n",
      "程序运行路径为: /home/pl/work/python-workspance/FAST_pulsar_search_pl/03_barydata\n",
      "日志文件为：/home/pl/work/python-workspance/FAST_pulsar_search_pl/LOG/05_search/LOG_05-SEARCH-32.85.txt\n",
      "程序运行路径为: /home/pl/work/python-workspance/FAST_pulsar_search_pl/03_barydata\n",
      "日志文件为：/home/pl/work/python-workspance/FAST_pulsar_search_pl/LOG/05_search/LOG_05-SEARCH-32.86.txt\n",
      "程序运行路径为: /home/pl/work/python-workspance/FAST_pulsar_search_pl/03_barydata\n"
     ]
    },
    {
     "name": "stderr",
     "output_type": "stream",
     "text": [
      "zap-8核:  27%|██▋       | 80/300 [00:26<00:58,  3.77cmd/s]"
     ]
    },
    {
     "name": "stdout",
     "output_type": "stream",
     "text": [
      "日志文件为：/home/pl/work/python-workspance/FAST_pulsar_search_pl/LOG/05_search/LOG_05-SEARCH-32.87.txt\n",
      "运行命令：\u001b[96maccelsearch  -zmax 0 -numharm 8 /home/pl/work/python-workspance/FAST_pulsar_search_pl/03_barydata/j1631_FAST_pulsar_search_pl_bary_DM32.83.fft\u001b[0m\n",
      "\u001b[94m运行时间： 0.0秒\u001b[0m\n",
      "运行命令：\u001b[96maccelsearch  -zmax 0 -numharm 8 /home/pl/work/python-workspance/FAST_pulsar_search_pl/03_barydata/j1631_FAST_pulsar_search_pl_bary_DM32.81.fft\u001b[0m\n",
      "\u001b[94m运行时间： 0.0秒\u001b[0m\n",
      "运行命令：\u001b[96maccelsearch  -zmax 0 -numharm 8 /home/pl/work/python-workspance/FAST_pulsar_search_pl/03_barydata/j1631_FAST_pulsar_search_pl_bary_DM32.82.fft\u001b[0m\n",
      "\u001b[94m运行时间： 0.0秒\u001b[0m\n",
      "运行命令：\u001b[96maccelsearch  -zmax 0 -numharm 8 /home/pl/work/python-workspance/FAST_pulsar_search_pl/03_barydata/j1631_FAST_pulsar_search_pl_bary_DM32.80.fft\u001b[0m\n",
      "运行命令：\u001b[96maccelsearch  -zmax 0 -numharm 8 /home/pl/work/python-workspance/FAST_pulsar_search_pl/03_barydata/j1631_FAST_pulsar_search_pl_bary_DM32.84.fft\u001b[0m\n",
      "\u001b[94m运行时间： 0.0秒\u001b[0m\n",
      "\u001b[94m运行时间： 0.0秒\u001b[0m\n",
      "运行命令：\u001b[96maccelsearch  -zmax 0 -numharm 8 /home/pl/work/python-workspance/FAST_pulsar_search_pl/03_barydata/j1631_FAST_pulsar_search_pl_bary_DM32.85.fft\u001b[0m\n",
      "\u001b[94m运行时间： 0.0秒\u001b[0m\n",
      "运行命令：\u001b[96maccelsearch  -zmax 0 -numharm 8 /home/pl/work/python-workspance/FAST_pulsar_search_pl/03_barydata/j1631_FAST_pulsar_search_pl_bary_DM32.87.fft\u001b[0m\n",
      "\u001b[94m运行时间： 0.0秒\u001b[0m\n",
      "运行命令：\u001b[96maccelsearch  -zmax 0 -numharm 8 /home/pl/work/python-workspance/FAST_pulsar_search_pl/03_barydata/j1631_FAST_pulsar_search_pl_bary_DM32.86.fft\u001b[0m\n",
      "\u001b[94m运行时间： 0.0秒\u001b[0m\n",
      "程序运行路径为: /home/pl/work/python-workspance/FAST_pulsar_search_pl/03_barydata\n",
      "日志文件为：/home/pl/work/python-workspance/FAST_pulsar_search_pl/LOG/05_search/LOG_05-SEARCH-32.88.txt\n",
      "程序运行路径为: /home/pl/work/python-workspance/FAST_pulsar_search_pl/03_barydata\n",
      "日志文件为：/home/pl/work/python-workspance/FAST_pulsar_search_pl/LOG/05_search/LOG_05-SEARCH-32.89.txt\n"
     ]
    },
    {
     "name": "stderr",
     "output_type": "stream",
     "text": [
      "zap-8核:  28%|██▊       | 83/300 [00:29<01:27,  2.48cmd/s]"
     ]
    },
    {
     "name": "stdout",
     "output_type": "stream",
     "text": [
      "程序运行路径为: /home/pl/work/python-workspance/FAST_pulsar_search_pl/03_barydata\n",
      "日志文件为：/home/pl/work/python-workspance/FAST_pulsar_search_pl/LOG/05_search/LOG_05-SEARCH-32.90.txt\n",
      "程序运行路径为: /home/pl/work/python-workspance/FAST_pulsar_search_pl/03_barydata\n",
      "程序运行路径为: /home/pl/work/python-workspance/FAST_pulsar_search_pl/03_barydata\n",
      "日志文件为：/home/pl/work/python-workspance/FAST_pulsar_search_pl/LOG/05_search/LOG_05-SEARCH-32.91.txt\n",
      "日志文件为：/home/pl/work/python-workspance/FAST_pulsar_search_pl/LOG/05_search/LOG_05-SEARCH-32.92.txt\n",
      "程序运行路径为: /home/pl/work/python-workspance/FAST_pulsar_search_pl/03_barydata\n",
      "日志文件为：/home/pl/work/python-workspance/FAST_pulsar_search_pl/LOG/05_search/LOG_05-SEARCH-32.93.txt\n",
      "程序运行路径为: /home/pl/work/python-workspance/FAST_pulsar_search_pl/03_barydata\n",
      "日志文件为：/home/pl/work/python-workspance/FAST_pulsar_search_pl/LOG/05_search/LOG_05-SEARCH-32.94.txt\n"
     ]
    },
    {
     "name": "stderr",
     "output_type": "stream",
     "text": [
      "zap-8核:  29%|██▉       | 88/300 [00:29<00:56,  3.74cmd/s]"
     ]
    },
    {
     "name": "stdout",
     "output_type": "stream",
     "text": [
      "程序运行路径为: /home/pl/work/python-workspance/FAST_pulsar_search_pl/03_barydata\n",
      "日志文件为：/home/pl/work/python-workspance/FAST_pulsar_search_pl/LOG/05_search/LOG_05-SEARCH-32.95.txt\n",
      "运行命令：\u001b[96maccelsearch  -zmax 0 -numharm 8 /home/pl/work/python-workspance/FAST_pulsar_search_pl/03_barydata/j1631_FAST_pulsar_search_pl_bary_DM32.91.fft\u001b[0m\n",
      "\u001b[94m运行时间： 0.0秒\u001b[0m\n",
      "运行命令：\u001b[96maccelsearch  -zmax 0 -numharm 8 /home/pl/work/python-workspance/FAST_pulsar_search_pl/03_barydata/j1631_FAST_pulsar_search_pl_bary_DM32.89.fft\u001b[0m\n",
      "\u001b[94m运行时间： 0.0秒\u001b[0m\n",
      "运行命令：\u001b[96maccelsearch  -zmax 0 -numharm 8 /home/pl/work/python-workspance/FAST_pulsar_search_pl/03_barydata/j1631_FAST_pulsar_search_pl_bary_DM32.90.fft\u001b[0m\n",
      "运行命令：\u001b[96maccelsearch  -zmax 0 -numharm 8 /home/pl/work/python-workspance/FAST_pulsar_search_pl/03_barydata/j1631_FAST_pulsar_search_pl_bary_DM32.88.fft\u001b[0m\n",
      "\u001b[94m运行时间： 0.0秒\u001b[0m\n",
      "\u001b[94m运行时间： 0.0秒\u001b[0m\n",
      "运行命令：\u001b[96maccelsearch  -zmax 0 -numharm 8 /home/pl/work/python-workspance/FAST_pulsar_search_pl/03_barydata/j1631_FAST_pulsar_search_pl_bary_DM32.93.fft\u001b[0m\n",
      "\u001b[94m运行时间： 0.0秒\u001b[0m\n",
      "运行命令：\u001b[96maccelsearch  -zmax 0 -numharm 8 /home/pl/work/python-workspance/FAST_pulsar_search_pl/03_barydata/j1631_FAST_pulsar_search_pl_bary_DM32.92.fft\u001b[0m\n",
      "\u001b[94m运行时间： 0.0秒\u001b[0m\n",
      "运行命令：\u001b[96maccelsearch  -zmax 0 -numharm 8 /home/pl/work/python-workspance/FAST_pulsar_search_pl/03_barydata/j1631_FAST_pulsar_search_pl_bary_DM32.95.fft\u001b[0m\n",
      "\u001b[94m运行时间： 0.0秒\u001b[0m\n",
      "运行命令：\u001b[96maccelsearch  -zmax 0 -numharm 8 /home/pl/work/python-workspance/FAST_pulsar_search_pl/03_barydata/j1631_FAST_pulsar_search_pl_bary_DM32.94.fft\u001b[0m\n",
      "\u001b[94m运行时间： 0.0秒\u001b[0m\n",
      "程序运行路径为: /home/pl/work/python-workspance/FAST_pulsar_search_pl/03_barydata\n",
      "日志文件为：/home/pl/work/python-workspance/FAST_pulsar_search_pl/LOG/05_search/LOG_05-SEARCH-32.96.txt\n",
      "程序运行路径为: /home/pl/work/python-workspance/FAST_pulsar_search_pl/03_barydata\n",
      "日志文件为：/home/pl/work/python-workspance/FAST_pulsar_search_pl/LOG/05_search/LOG_05-SEARCH-32.97.txt\n"
     ]
    },
    {
     "name": "stderr",
     "output_type": "stream",
     "text": [
      "zap-8核:  30%|███       | 91/300 [00:31<01:24,  2.47cmd/s]"
     ]
    },
    {
     "name": "stdout",
     "output_type": "stream",
     "text": [
      "程序运行路径为: /home/pl/work/python-workspance/FAST_pulsar_search_pl/03_barydata\n",
      "日志文件为：/home/pl/work/python-workspance/FAST_pulsar_search_pl/LOG/05_search/LOG_05-SEARCH-32.98.txt\n",
      "程序运行路径为: /home/pl/work/python-workspance/FAST_pulsar_search_pl/03_barydata\n",
      "日志文件为：/home/pl/work/python-workspance/FAST_pulsar_search_pl/LOG/05_search/LOG_05-SEARCH-32.99.txt\n",
      "程序运行路径为: /home/pl/work/python-workspance/FAST_pulsar_search_pl/03_barydata\n",
      "日志文件为：/home/pl/work/python-workspance/FAST_pulsar_search_pl/LOG/05_search/LOG_05-SEARCH-33.00.txt\n",
      "程序运行路径为: /home/pl/work/python-workspance/FAST_pulsar_search_pl/03_barydata\n",
      "日志文件为：/home/pl/work/python-workspance/FAST_pulsar_search_pl/LOG/05_search/LOG_05-SEARCH-33.01.txt\n",
      "程序运行路径为: /home/pl/work/python-workspance/FAST_pulsar_search_pl/03_barydata\n",
      "日志文件为：/home/pl/work/python-workspance/FAST_pulsar_search_pl/LOG/05_search/LOG_05-SEARCH-33.02.txt\n"
     ]
    },
    {
     "name": "stderr",
     "output_type": "stream",
     "text": [
      "zap-8核:  32%|███▏      | 96/300 [00:31<00:54,  3.73cmd/s]"
     ]
    },
    {
     "name": "stdout",
     "output_type": "stream",
     "text": [
      "程序运行路径为: /home/pl/work/python-workspance/FAST_pulsar_search_pl/03_barydata\n",
      "日志文件为：/home/pl/work/python-workspance/FAST_pulsar_search_pl/LOG/05_search/LOG_05-SEARCH-33.03.txt\n",
      "运行命令：\u001b[96maccelsearch  -zmax 0 -numharm 8 /home/pl/work/python-workspance/FAST_pulsar_search_pl/03_barydata/j1631_FAST_pulsar_search_pl_bary_DM32.99.fft\u001b[0m\n",
      "\u001b[94m运行时间： 0.0秒\u001b[0m\n",
      "运行命令：\u001b[96maccelsearch  -zmax 0 -numharm 8 /home/pl/work/python-workspance/FAST_pulsar_search_pl/03_barydata/j1631_FAST_pulsar_search_pl_bary_DM32.97.fft\u001b[0m\n",
      "\u001b[94m运行时间： 0.0秒\u001b[0m\n",
      "运行命令：\u001b[96maccelsearch  -zmax 0 -numharm 8 /home/pl/work/python-workspance/FAST_pulsar_search_pl/03_barydata/j1631_FAST_pulsar_search_pl_bary_DM32.96.fft\u001b[0m\n",
      "\u001b[94m运行时间： 0.0秒\u001b[0m\n",
      "运行命令：\u001b[96maccelsearch  -zmax 0 -numharm 8 /home/pl/work/python-workspance/FAST_pulsar_search_pl/03_barydata/j1631_FAST_pulsar_search_pl_bary_DM32.98.fft\u001b[0m\n",
      "\u001b[94m运行时间： 0.0秒\u001b[0m\n",
      "运行命令：\u001b[96maccelsearch  -zmax 0 -numharm 8 /home/pl/work/python-workspance/FAST_pulsar_search_pl/03_barydata/j1631_FAST_pulsar_search_pl_bary_DM33.00.fft\u001b[0m\n",
      "\u001b[94m运行时间： 0.0秒\u001b[0m\n",
      "运行命令：\u001b[96maccelsearch  -zmax 0 -numharm 8 /home/pl/work/python-workspance/FAST_pulsar_search_pl/03_barydata/j1631_FAST_pulsar_search_pl_bary_DM33.03.fft\u001b[0m\n",
      "\u001b[94m运行时间： 0.0秒\u001b[0m\n",
      "运行命令：\u001b[96maccelsearch  -zmax 0 -numharm 8 /home/pl/work/python-workspance/FAST_pulsar_search_pl/03_barydata/j1631_FAST_pulsar_search_pl_bary_DM33.01.fft\u001b[0m\n",
      "\u001b[94m运行时间： 0.0秒\u001b[0m\n",
      "运行命令：\u001b[96maccelsearch  -zmax 0 -numharm 8 /home/pl/work/python-workspance/FAST_pulsar_search_pl/03_barydata/j1631_FAST_pulsar_search_pl_bary_DM33.02.fft\u001b[0m\n",
      "\u001b[94m运行时间： 0.0秒\u001b[0m\n",
      "程序运行路径为: /home/pl/work/python-workspance/FAST_pulsar_search_pl/03_barydata\n",
      "日志文件为：/home/pl/work/python-workspance/FAST_pulsar_search_pl/LOG/05_search/LOG_05-SEARCH-33.04.txt\n",
      "程序运行路径为: /home/pl/work/python-workspance/FAST_pulsar_search_pl/03_barydata\n",
      "日志文件为：/home/pl/work/python-workspance/FAST_pulsar_search_pl/LOG/05_search/LOG_05-SEARCH-33.05.txt\n"
     ]
    },
    {
     "name": "stderr",
     "output_type": "stream",
     "text": [
      "zap-8核:  33%|███▎      | 99/300 [00:34<01:22,  2.44cmd/s]"
     ]
    },
    {
     "name": "stdout",
     "output_type": "stream",
     "text": [
      "程序运行路径为: /home/pl/work/python-workspance/FAST_pulsar_search_pl/03_barydata\n",
      "日志文件为：/home/pl/work/python-workspance/FAST_pulsar_search_pl/LOG/05_search/LOG_05-SEARCH-33.06.txt\n",
      "程序运行路径为: /home/pl/work/python-workspance/FAST_pulsar_search_pl/03_barydata\n",
      "程序运行路径为: /home/pl/work/python-workspance/FAST_pulsar_search_pl/03_barydata\n",
      "日志文件为：/home/pl/work/python-workspance/FAST_pulsar_search_pl/LOG/05_search/LOG_05-SEARCH-33.07.txt\n",
      "日志文件为：/home/pl/work/python-workspance/FAST_pulsar_search_pl/LOG/05_search/LOG_05-SEARCH-33.08.txt\n",
      "程序运行路径为: /home/pl/work/python-workspance/FAST_pulsar_search_pl/03_barydata\n",
      "日志文件为：/home/pl/work/python-workspance/FAST_pulsar_search_pl/LOG/05_search/LOG_05-SEARCH-33.09.txt\n",
      "程序运行路径为: /home/pl/work/python-workspance/FAST_pulsar_search_pl/03_barydata\n",
      "日志文件为：/home/pl/work/python-workspance/FAST_pulsar_search_pl/LOG/05_search/LOG_05-SEARCH-33.10.txt\n"
     ]
    },
    {
     "name": "stderr",
     "output_type": "stream",
     "text": [
      "zap-8核:  35%|███▍      | 104/300 [00:34<00:53,  3.70cmd/s]"
     ]
    },
    {
     "name": "stdout",
     "output_type": "stream",
     "text": [
      "程序运行路径为: /home/pl/work/python-workspance/FAST_pulsar_search_pl/03_barydata\n",
      "日志文件为：/home/pl/work/python-workspance/FAST_pulsar_search_pl/LOG/05_search/LOG_05-SEARCH-33.11.txt\n",
      "运行命令：\u001b[96maccelsearch  -zmax 0 -numharm 8 /home/pl/work/python-workspance/FAST_pulsar_search_pl/03_barydata/j1631_FAST_pulsar_search_pl_bary_DM33.04.fft\u001b[0m\n",
      "\u001b[94m运行时间： 0.0秒\u001b[0m\n",
      "运行命令：\u001b[96maccelsearch  -zmax 0 -numharm 8 /home/pl/work/python-workspance/FAST_pulsar_search_pl/03_barydata/j1631_FAST_pulsar_search_pl_bary_DM33.06.fft\u001b[0m\n",
      "\u001b[94m运行时间： 0.0秒\u001b[0m\n",
      "运行命令：\u001b[96maccelsearch  -zmax 0 -numharm 8 /home/pl/work/python-workspance/FAST_pulsar_search_pl/03_barydata/j1631_FAST_pulsar_search_pl_bary_DM33.05.fft\u001b[0m\n",
      "\u001b[94m运行时间： 0.0秒\u001b[0m\n",
      "运行命令：\u001b[96maccelsearch  -zmax 0 -numharm 8 /home/pl/work/python-workspance/FAST_pulsar_search_pl/03_barydata/j1631_FAST_pulsar_search_pl_bary_DM33.10.fft\u001b[0m\n",
      "\u001b[94m运行时间： 0.0秒\u001b[0m\n",
      "运行命令：\u001b[96maccelsearch  -zmax 0 -numharm 8 /home/pl/work/python-workspance/FAST_pulsar_search_pl/03_barydata/j1631_FAST_pulsar_search_pl_bary_DM33.07.fft\u001b[0m\n",
      "\u001b[94m运行时间： 0.0秒\u001b[0m\n",
      "运行命令：\u001b[96maccelsearch  -zmax 0 -numharm 8 /home/pl/work/python-workspance/FAST_pulsar_search_pl/03_barydata/j1631_FAST_pulsar_search_pl_bary_DM33.09.fft\u001b[0m\n",
      "\u001b[94m运行时间： 0.0秒\u001b[0m\n",
      "运行命令：\u001b[96maccelsearch  -zmax 0 -numharm 8 /home/pl/work/python-workspance/FAST_pulsar_search_pl/03_barydata/j1631_FAST_pulsar_search_pl_bary_DM33.08.fft\u001b[0m\n",
      "\u001b[94m运行时间： 0.0秒\u001b[0m\n",
      "运行命令：\u001b[96maccelsearch  -zmax 0 -numharm 8 /home/pl/work/python-workspance/FAST_pulsar_search_pl/03_barydata/j1631_FAST_pulsar_search_pl_bary_DM33.11.fft\u001b[0m\n",
      "\u001b[94m运行时间： 0.0秒\u001b[0m\n",
      "程序运行路径为: /home/pl/work/python-workspance/FAST_pulsar_search_pl/03_barydata\n",
      "日志文件为：/home/pl/work/python-workspance/FAST_pulsar_search_pl/LOG/05_search/LOG_05-SEARCH-33.12.txt\n",
      "程序运行路径为: /home/pl/work/python-workspance/FAST_pulsar_search_pl/03_barydata\n",
      "日志文件为：/home/pl/work/python-workspance/FAST_pulsar_search_pl/LOG/05_search/LOG_05-SEARCH-33.13.txt\n"
     ]
    },
    {
     "name": "stderr",
     "output_type": "stream",
     "text": [
      "zap-8核:  36%|███▌      | 107/300 [00:37<01:18,  2.45cmd/s]"
     ]
    },
    {
     "name": "stdout",
     "output_type": "stream",
     "text": [
      "程序运行路径为: /home/pl/work/python-workspance/FAST_pulsar_search_pl/03_barydata\n",
      "日志文件为：/home/pl/work/python-workspance/FAST_pulsar_search_pl/LOG/05_search/LOG_05-SEARCH-33.14.txt\n",
      "程序运行路径为: /home/pl/work/python-workspance/FAST_pulsar_search_pl/03_barydata\n",
      "日志文件为：/home/pl/work/python-workspance/FAST_pulsar_search_pl/LOG/05_search/LOG_05-SEARCH-33.15.txt\n",
      "程序运行路径为: /home/pl/work/python-workspance/FAST_pulsar_search_pl/03_barydata\n",
      "日志文件为：/home/pl/work/python-workspance/FAST_pulsar_search_pl/LOG/05_search/LOG_05-SEARCH-33.16.txt\n",
      "程序运行路径为: /home/pl/work/python-workspance/FAST_pulsar_search_pl/03_barydata\n",
      "日志文件为：/home/pl/work/python-workspance/FAST_pulsar_search_pl/LOG/05_search/LOG_05-SEARCH-33.17.txt\n",
      "程序运行路径为: /home/pl/work/python-workspance/FAST_pulsar_search_pl/03_barydata\n",
      "日志文件为：/home/pl/work/python-workspance/FAST_pulsar_search_pl/LOG/05_search/LOG_05-SEARCH-33.18.txt\n"
     ]
    },
    {
     "name": "stderr",
     "output_type": "stream",
     "text": [
      "zap-8核:  37%|███▋      | 112/300 [00:37<00:51,  3.65cmd/s]"
     ]
    },
    {
     "name": "stdout",
     "output_type": "stream",
     "text": [
      "程序运行路径为: /home/pl/work/python-workspance/FAST_pulsar_search_pl/03_barydata\n",
      "日志文件为：/home/pl/work/python-workspance/FAST_pulsar_search_pl/LOG/05_search/LOG_05-SEARCH-33.19.txt\n",
      "运行命令：\u001b[96maccelsearch  -zmax 0 -numharm 8 /home/pl/work/python-workspance/FAST_pulsar_search_pl/03_barydata/j1631_FAST_pulsar_search_pl_bary_DM33.14.fft\u001b[0m\n",
      "\u001b[94m运行时间： 0.0秒\u001b[0m\n",
      "运行命令：\u001b[96maccelsearch  -zmax 0 -numharm 8 /home/pl/work/python-workspance/FAST_pulsar_search_pl/03_barydata/j1631_FAST_pulsar_search_pl_bary_DM33.12.fft\u001b[0m\n",
      "\u001b[94m运行时间： 0.0秒\u001b[0m\n",
      "运行命令：\u001b[96maccelsearch  -zmax 0 -numharm 8 /home/pl/work/python-workspance/FAST_pulsar_search_pl/03_barydata/j1631_FAST_pulsar_search_pl_bary_DM33.17.fft\u001b[0m\n",
      "\u001b[94m运行时间： 0.0秒\u001b[0m\n",
      "运行命令：\u001b[96maccelsearch  -zmax 0 -numharm 8 /home/pl/work/python-workspance/FAST_pulsar_search_pl/03_barydata/j1631_FAST_pulsar_search_pl_bary_DM33.13.fft\u001b[0m\n",
      "\u001b[94m运行时间： 0.0秒\u001b[0m\n",
      "运行命令：\u001b[96maccelsearch  -zmax 0 -numharm 8 /home/pl/work/python-workspance/FAST_pulsar_search_pl/03_barydata/j1631_FAST_pulsar_search_pl_bary_DM33.16.fft\u001b[0m\n",
      "\u001b[94m运行时间： 0.0秒\u001b[0m\n",
      "运行命令：\u001b[96maccelsearch  -zmax 0 -numharm 8 /home/pl/work/python-workspance/FAST_pulsar_search_pl/03_barydata/j1631_FAST_pulsar_search_pl_bary_DM33.18.fft\u001b[0m\n",
      "\u001b[94m运行时间： 0.0秒\u001b[0m\n",
      "运行命令：\u001b[96maccelsearch  -zmax 0 -numharm 8 /home/pl/work/python-workspance/FAST_pulsar_search_pl/03_barydata/j1631_FAST_pulsar_search_pl_bary_DM33.19.fft\u001b[0m\n",
      "\u001b[94m运行时间： 0.0秒\u001b[0m\n",
      "运行命令：\u001b[96maccelsearch  -zmax 0 -numharm 8 /home/pl/work/python-workspance/FAST_pulsar_search_pl/03_barydata/j1631_FAST_pulsar_search_pl_bary_DM33.15.fft\u001b[0m\n",
      "\u001b[94m运行时间： 0.0秒\u001b[0m\n",
      "程序运行路径为: /home/pl/work/python-workspance/FAST_pulsar_search_pl/03_barydata\n",
      "日志文件为：/home/pl/work/python-workspance/FAST_pulsar_search_pl/LOG/05_search/LOG_05-SEARCH-33.20.txt\n",
      "程序运行路径为: /home/pl/work/python-workspance/FAST_pulsar_search_pl/03_barydata\n",
      "日志文件为：/home/pl/work/python-workspance/FAST_pulsar_search_pl/LOG/05_search/LOG_05-SEARCH-33.21.txt\n"
     ]
    },
    {
     "name": "stderr",
     "output_type": "stream",
     "text": [
      "zap-8核:  38%|███▊      | 115/300 [00:39<01:14,  2.47cmd/s]"
     ]
    },
    {
     "name": "stdout",
     "output_type": "stream",
     "text": [
      "程序运行路径为: /home/pl/work/python-workspance/FAST_pulsar_search_pl/03_barydata\n",
      "日志文件为：/home/pl/work/python-workspance/FAST_pulsar_search_pl/LOG/05_search/LOG_05-SEARCH-33.22.txt\n",
      "程序运行路径为: /home/pl/work/python-workspance/FAST_pulsar_search_pl/03_barydata\n",
      "日志文件为：/home/pl/work/python-workspance/FAST_pulsar_search_pl/LOG/05_search/LOG_05-SEARCH-33.23.txt\n",
      "程序运行路径为: /home/pl/work/python-workspance/FAST_pulsar_search_pl/03_barydata\n",
      "日志文件为：/home/pl/work/python-workspance/FAST_pulsar_search_pl/LOG/05_search/LOG_05-SEARCH-33.24.txt\n",
      "程序运行路径为: /home/pl/work/python-workspance/FAST_pulsar_search_pl/03_barydata\n",
      "日志文件为：/home/pl/work/python-workspance/FAST_pulsar_search_pl/LOG/05_search/LOG_05-SEARCH-33.25.txt\n",
      "程序运行路径为: /home/pl/work/python-workspance/FAST_pulsar_search_pl/03_barydata\n",
      "日志文件为：/home/pl/work/python-workspance/FAST_pulsar_search_pl/LOG/05_search/LOG_05-SEARCH-33.26.txt\n",
      "程序运行路径为: /home/pl/work/python-workspance/FAST_pulsar_search_pl/03_barydata\n",
      "日志文件为：/home/pl/work/python-workspance/FAST_pulsar_search_pl/LOG/05_search/LOG_05-SEARCH-33.27.txt\n",
      "运行命令：\u001b[96maccelsearch  -zmax 0 -numharm 8 /home/pl/work/python-workspance/FAST_pulsar_search_pl/03_barydata/j1631_FAST_pulsar_search_pl_bary_DM33.21.fft\u001b[0m\n",
      "\u001b[94m运行时间： 0.0秒\u001b[0m\n",
      "运行命令：\u001b[96maccelsearch  -zmax 0 -numharm 8 /home/pl/work/python-workspance/FAST_pulsar_search_pl/03_barydata/j1631_FAST_pulsar_search_pl_bary_DM33.24.fft\u001b[0m\n",
      "\u001b[94m运行时间： 0.0秒\u001b[0m\n",
      "运行命令：\u001b[96maccelsearch  -zmax 0 -numharm 8 /home/pl/work/python-workspance/FAST_pulsar_search_pl/03_barydata/j1631_FAST_pulsar_search_pl_bary_DM33.26.fft\u001b[0m\n",
      "\u001b[94m运行时间： 0.0秒\u001b[0m\n",
      "运行命令：\u001b[96maccelsearch  -zmax 0 -numharm 8 /home/pl/work/python-workspance/FAST_pulsar_search_pl/03_barydata/j1631_FAST_pulsar_search_pl_bary_DM33.23.fft\u001b[0m\n",
      "\u001b[94m运行时间： 0.0秒\u001b[0m\n",
      "运行命令：\u001b[96maccelsearch  -zmax 0 -numharm 8 /home/pl/work/python-workspance/FAST_pulsar_search_pl/03_barydata/j1631_FAST_pulsar_search_pl_bary_DM33.25.fft\u001b[0m\n",
      "\u001b[94m运行时间： 0.0秒\u001b[0m\n",
      "运行命令：\u001b[96maccelsearch  -zmax 0 -numharm 8 /home/pl/work/python-workspance/FAST_pulsar_search_pl/03_barydata/j1631_FAST_pulsar_search_pl_bary_DM33.20.fft\u001b[0m\n",
      "\u001b[94m运行时间： 0.0秒\u001b[0m\n",
      "运行命令：\u001b[96maccelsearch  -zmax 0 -numharm 8 /home/pl/work/python-workspance/FAST_pulsar_search_pl/03_barydata/j1631_FAST_pulsar_search_pl_bary_DM33.22.fft\u001b[0m\n",
      "\u001b[94m运行时间： 0.0秒\u001b[0m\n",
      "运行命令：\u001b[96maccelsearch  -zmax 0 -numharm 8 /home/pl/work/python-workspance/FAST_pulsar_search_pl/03_barydata/j1631_FAST_pulsar_search_pl_bary_DM33.27.fft\u001b[0m\n",
      "\u001b[94m运行时间： 0.0秒\u001b[0m\n"
     ]
    },
    {
     "name": "stderr",
     "output_type": "stream",
     "text": [
      "zap-8核:  40%|████      | 121/300 [00:42<01:14,  2.41cmd/s]"
     ]
    },
    {
     "name": "stdout",
     "output_type": "stream",
     "text": [
      "程序运行路径为: /home/pl/work/python-workspance/FAST_pulsar_search_pl/03_barydata\n",
      "日志文件为：/home/pl/work/python-workspance/FAST_pulsar_search_pl/LOG/05_search/LOG_05-SEARCH-33.28.txt\n",
      "程序运行路径为: /home/pl/work/python-workspance/FAST_pulsar_search_pl/03_barydata\n",
      "日志文件为：/home/pl/work/python-workspance/FAST_pulsar_search_pl/LOG/05_search/LOG_05-SEARCH-33.29.txt\n",
      "程序运行路径为: /home/pl/work/python-workspance/FAST_pulsar_search_pl/03_barydata\n",
      "日志文件为：/home/pl/work/python-workspance/FAST_pulsar_search_pl/LOG/05_search/LOG_05-SEARCH-33.30.txt\n",
      "程序运行路径为: /home/pl/work/python-workspance/FAST_pulsar_search_pl/03_barydata\n",
      "日志文件为：/home/pl/work/python-workspance/FAST_pulsar_search_pl/LOG/05_search/LOG_05-SEARCH-33.31.txt\n",
      "程序运行路径为: /home/pl/work/python-workspance/FAST_pulsar_search_pl/03_barydata\n",
      "日志文件为：/home/pl/work/python-workspance/FAST_pulsar_search_pl/LOG/05_search/LOG_05-SEARCH-33.32.txt\n",
      "程序运行路径为: /home/pl/work/python-workspance/FAST_pulsar_search_pl/03_barydata\n",
      "日志文件为：/home/pl/work/python-workspance/FAST_pulsar_search_pl/LOG/05_search/LOG_05-SEARCH-33.33.txt\n",
      "程序运行路径为: /home/pl/work/python-workspance/FAST_pulsar_search_pl/03_barydata\n",
      "日志文件为：/home/pl/work/python-workspance/FAST_pulsar_search_pl/LOG/05_search/LOG_05-SEARCH-33.34.txt\n",
      "程序运行路径为: /home/pl/work/python-workspance/FAST_pulsar_search_pl/03_barydata\n"
     ]
    },
    {
     "name": "stderr",
     "output_type": "stream",
     "text": [
      "zap-8核:  43%|████▎     | 128/300 [00:42<00:43,  3.92cmd/s]"
     ]
    },
    {
     "name": "stdout",
     "output_type": "stream",
     "text": [
      "日志文件为：/home/pl/work/python-workspance/FAST_pulsar_search_pl/LOG/05_search/LOG_05-SEARCH-33.35.txt\n",
      "运行命令：\u001b[96maccelsearch  -zmax 0 -numharm 8 /home/pl/work/python-workspance/FAST_pulsar_search_pl/03_barydata/j1631_FAST_pulsar_search_pl_bary_DM33.29.fft\u001b[0m\n",
      "\u001b[94m运行时间： 0.0秒\u001b[0m\n",
      "运行命令：\u001b[96maccelsearch  -zmax 0 -numharm 8 /home/pl/work/python-workspance/FAST_pulsar_search_pl/03_barydata/j1631_FAST_pulsar_search_pl_bary_DM33.28.fft\u001b[0m\n",
      "\u001b[94m运行时间： 0.0秒\u001b[0m\n",
      "运行命令：\u001b[96maccelsearch  -zmax 0 -numharm 8 /home/pl/work/python-workspance/FAST_pulsar_search_pl/03_barydata/j1631_FAST_pulsar_search_pl_bary_DM33.30.fft\u001b[0m\n",
      "\u001b[94m运行时间： 0.0秒\u001b[0m\n",
      "运行命令：\u001b[96maccelsearch  -zmax 0 -numharm 8 /home/pl/work/python-workspance/FAST_pulsar_search_pl/03_barydata/j1631_FAST_pulsar_search_pl_bary_DM33.34.fft\u001b[0m\n",
      "\u001b[94m运行时间： 0.0秒\u001b[0m\n",
      "运行命令：\u001b[96maccelsearch  -zmax 0 -numharm 8 /home/pl/work/python-workspance/FAST_pulsar_search_pl/03_barydata/j1631_FAST_pulsar_search_pl_bary_DM33.31.fft\u001b[0m\n",
      "\u001b[94m运行时间： 0.0秒\u001b[0m\n",
      "运行命令：\u001b[96maccelsearch  -zmax 0 -numharm 8 /home/pl/work/python-workspance/FAST_pulsar_search_pl/03_barydata/j1631_FAST_pulsar_search_pl_bary_DM33.32.fft\u001b[0m\n",
      "\u001b[94m运行时间： 0.0秒\u001b[0m\n",
      "运行命令：\u001b[96maccelsearch  -zmax 0 -numharm 8 /home/pl/work/python-workspance/FAST_pulsar_search_pl/03_barydata/j1631_FAST_pulsar_search_pl_bary_DM33.35.fft\u001b[0m\n",
      "\u001b[94m运行时间： 0.0秒\u001b[0m\n",
      "运行命令：\u001b[96maccelsearch  -zmax 0 -numharm 8 /home/pl/work/python-workspance/FAST_pulsar_search_pl/03_barydata/j1631_FAST_pulsar_search_pl_bary_DM33.33.fft\u001b[0m\n",
      "\u001b[94m运行时间： 0.0秒\u001b[0m\n",
      "程序运行路径为: /home/pl/work/python-workspance/FAST_pulsar_search_pl/03_barydata\n",
      "日志文件为：/home/pl/work/python-workspance/FAST_pulsar_search_pl/LOG/05_search/LOG_05-SEARCH-33.36.txt\n",
      "程序运行路径为: /home/pl/work/python-workspance/FAST_pulsar_search_pl/03_barydata\n",
      "日志文件为：/home/pl/work/python-workspance/FAST_pulsar_search_pl/LOG/05_search/LOG_05-SEARCH-33.37.txt\n"
     ]
    },
    {
     "name": "stderr",
     "output_type": "stream",
     "text": [
      "zap-8核:  44%|████▎     | 131/300 [00:45<01:03,  2.68cmd/s]"
     ]
    },
    {
     "name": "stdout",
     "output_type": "stream",
     "text": [
      "程序运行路径为: /home/pl/work/python-workspance/FAST_pulsar_search_pl/03_barydata\n",
      "日志文件为：/home/pl/work/python-workspance/FAST_pulsar_search_pl/LOG/05_search/LOG_05-SEARCH-33.38.txt\n",
      "程序运行路径为: /home/pl/work/python-workspance/FAST_pulsar_search_pl/03_barydata\n",
      "日志文件为：/home/pl/work/python-workspance/FAST_pulsar_search_pl/LOG/05_search/LOG_05-SEARCH-33.39.txt\n",
      "程序运行路径为: /home/pl/work/python-workspance/FAST_pulsar_search_pl/03_barydata\n",
      "日志文件为：/home/pl/work/python-workspance/FAST_pulsar_search_pl/LOG/05_search/LOG_05-SEARCH-33.40.txt\n",
      "程序运行路径为: /home/pl/work/python-workspance/FAST_pulsar_search_pl/03_barydata\n",
      "日志文件为：/home/pl/work/python-workspance/FAST_pulsar_search_pl/LOG/05_search/LOG_05-SEARCH-33.41.txt\n",
      "程序运行路径为: /home/pl/work/python-workspance/FAST_pulsar_search_pl/03_barydata\n",
      "程序运行路径为: /home/pl/work/python-workspance/FAST_pulsar_search_pl/03_barydata\n",
      "日志文件为：/home/pl/work/python-workspance/FAST_pulsar_search_pl/LOG/05_search/LOG_05-SEARCH-33.42.txt\n",
      "日志文件为：/home/pl/work/python-workspance/FAST_pulsar_search_pl/LOG/05_search/LOG_05-SEARCH-33.43.txt\n",
      "运行命令：\u001b[96maccelsearch  -zmax 0 -numharm 8 /home/pl/work/python-workspance/FAST_pulsar_search_pl/03_barydata/j1631_FAST_pulsar_search_pl_bary_DM33.37.fft\u001b[0m\n",
      "\u001b[94m运行时间： 0.0秒\u001b[0m\n",
      "运行命令：\u001b[96maccelsearch  -zmax 0 -numharm 8 /home/pl/work/python-workspance/FAST_pulsar_search_pl/03_barydata/j1631_FAST_pulsar_search_pl_bary_DM33.36.fft\u001b[0m\n",
      "\u001b[94m运行时间： 0.0秒\u001b[0m\n",
      "运行命令：\u001b[96maccelsearch  -zmax 0 -numharm 8 /home/pl/work/python-workspance/FAST_pulsar_search_pl/03_barydata/j1631_FAST_pulsar_search_pl_bary_DM33.41.fft\u001b[0m\n",
      "\u001b[94m运行时间： 0.0秒\u001b[0m\n",
      "运行命令：\u001b[96maccelsearch  -zmax 0 -numharm 8 /home/pl/work/python-workspance/FAST_pulsar_search_pl/03_barydata/j1631_FAST_pulsar_search_pl_bary_DM33.42.fft\u001b[0m\n",
      "\u001b[94m运行时间： 0.0秒\u001b[0m\n",
      "运行命令：\u001b[96maccelsearch  -zmax 0 -numharm 8 /home/pl/work/python-workspance/FAST_pulsar_search_pl/03_barydata/j1631_FAST_pulsar_search_pl_bary_DM33.38.fft\u001b[0m\n",
      "\u001b[94m运行时间： 0.0秒\u001b[0m\n",
      "运行命令：\u001b[96maccelsearch  -zmax 0 -numharm 8 /home/pl/work/python-workspance/FAST_pulsar_search_pl/03_barydata/j1631_FAST_pulsar_search_pl_bary_DM33.43.fft\u001b[0m\n",
      "\u001b[94m运行时间： 0.0秒\u001b[0m\n",
      "运行命令：\u001b[96maccelsearch  -zmax 0 -numharm 8 /home/pl/work/python-workspance/FAST_pulsar_search_pl/03_barydata/j1631_FAST_pulsar_search_pl_bary_DM33.39.fft\u001b[0m\n",
      "\u001b[94m运行时间： 0.0秒\u001b[0m\n",
      "运行命令：\u001b[96maccelsearch  -zmax 0 -numharm 8 /home/pl/work/python-workspance/FAST_pulsar_search_pl/03_barydata/j1631_FAST_pulsar_search_pl_bary_DM33.40.fft\u001b[0m\n",
      "\u001b[94m运行时间： 0.0秒\u001b[0m\n"
     ]
    },
    {
     "name": "stderr",
     "output_type": "stream",
     "text": [
      "zap-8核:  46%|████▌     | 137/300 [00:47<01:03,  2.58cmd/s]"
     ]
    },
    {
     "name": "stdout",
     "output_type": "stream",
     "text": [
      "程序运行路径为: /home/pl/work/python-workspance/FAST_pulsar_search_pl/03_barydata\n",
      "日志文件为：/home/pl/work/python-workspance/FAST_pulsar_search_pl/LOG/05_search/LOG_05-SEARCH-33.44.txt\n",
      "程序运行路径为: /home/pl/work/python-workspance/FAST_pulsar_search_pl/03_barydata\n",
      "日志文件为：/home/pl/work/python-workspance/FAST_pulsar_search_pl/LOG/05_search/LOG_05-SEARCH-33.45.txt\n",
      "程序运行路径为: /home/pl/work/python-workspance/FAST_pulsar_search_pl/03_barydata\n",
      "日志文件为：/home/pl/work/python-workspance/FAST_pulsar_search_pl/LOG/05_search/LOG_05-SEARCH-33.46.txt\n"
     ]
    },
    {
     "name": "stderr",
     "output_type": "stream",
     "text": [
      "zap-8核:  47%|████▋     | 140/300 [00:47<00:50,  3.17cmd/s]"
     ]
    },
    {
     "name": "stdout",
     "output_type": "stream",
     "text": [
      "程序运行路径为: /home/pl/work/python-workspance/FAST_pulsar_search_pl/03_barydata\n",
      "日志文件为：/home/pl/work/python-workspance/FAST_pulsar_search_pl/LOG/05_search/LOG_05-SEARCH-33.47.txt\n",
      "程序运行路径为: /home/pl/work/python-workspance/FAST_pulsar_search_pl/03_barydata\n",
      "日志文件为：/home/pl/work/python-workspance/FAST_pulsar_search_pl/LOG/05_search/LOG_05-SEARCH-33.48.txt\n",
      "程序运行路径为: /home/pl/work/python-workspance/FAST_pulsar_search_pl/03_barydata\n",
      "日志文件为：/home/pl/work/python-workspance/FAST_pulsar_search_pl/LOG/05_search/LOG_05-SEARCH-33.49.txt\n",
      "程序运行路径为: /home/pl/work/python-workspance/FAST_pulsar_search_pl/03_barydata\n",
      "日志文件为：/home/pl/work/python-workspance/FAST_pulsar_search_pl/LOG/05_search/LOG_05-SEARCH-33.50.txt\n",
      "程序运行路径为: /home/pl/work/python-workspance/FAST_pulsar_search_pl/03_barydata\n",
      "日志文件为：/home/pl/work/python-workspance/FAST_pulsar_search_pl/LOG/05_search/LOG_05-SEARCH-33.51.txt\n",
      "运行命令：\u001b[96maccelsearch  -zmax 0 -numharm 8 /home/pl/work/python-workspance/FAST_pulsar_search_pl/03_barydata/j1631_FAST_pulsar_search_pl_bary_DM33.44.fft\u001b[0m\n",
      "\u001b[94m运行时间： 0.0秒\u001b[0m\n",
      "运行命令：\u001b[96maccelsearch  -zmax 0 -numharm 8 /home/pl/work/python-workspance/FAST_pulsar_search_pl/03_barydata/j1631_FAST_pulsar_search_pl_bary_DM33.45.fft\u001b[0m\n",
      "\u001b[94m运行时间： 0.0秒\u001b[0m\n",
      "运行命令：\u001b[96maccelsearch  -zmax 0 -numharm 8 /home/pl/work/python-workspance/FAST_pulsar_search_pl/03_barydata/j1631_FAST_pulsar_search_pl_bary_DM33.47.fft\u001b[0m\n",
      "\u001b[94m运行时间： 0.0秒\u001b[0m\n",
      "运行命令：\u001b[96maccelsearch  -zmax 0 -numharm 8 /home/pl/work/python-workspance/FAST_pulsar_search_pl/03_barydata/j1631_FAST_pulsar_search_pl_bary_DM33.46.fft\u001b[0m\n",
      "\u001b[94m运行时间： 0.0秒\u001b[0m\n",
      "运行命令：\u001b[96maccelsearch  -zmax 0 -numharm 8 /home/pl/work/python-workspance/FAST_pulsar_search_pl/03_barydata/j1631_FAST_pulsar_search_pl_bary_DM33.48.fft\u001b[0m\n",
      "\u001b[94m运行时间： 0.0秒\u001b[0m\n",
      "运行命令：\u001b[96maccelsearch  -zmax 0 -numharm 8 /home/pl/work/python-workspance/FAST_pulsar_search_pl/03_barydata/j1631_FAST_pulsar_search_pl_bary_DM33.51.fft\u001b[0m\n",
      "\u001b[94m运行时间： 0.0秒\u001b[0m\n",
      "运行命令：\u001b[96maccelsearch  -zmax 0 -numharm 8 /home/pl/work/python-workspance/FAST_pulsar_search_pl/03_barydata/j1631_FAST_pulsar_search_pl_bary_DM33.49.fft\u001b[0m\n",
      "\u001b[94m运行时间： 0.0秒\u001b[0m\n",
      "运行命令：\u001b[96maccelsearch  -zmax 0 -numharm 8 /home/pl/work/python-workspance/FAST_pulsar_search_pl/03_barydata/j1631_FAST_pulsar_search_pl_bary_DM33.50.fft\u001b[0m\n",
      "\u001b[94m运行时间： 0.0秒\u001b[0m\n"
     ]
    },
    {
     "name": "stderr",
     "output_type": "stream",
     "text": [
      "zap-8核:  48%|████▊     | 145/300 [00:50<00:58,  2.66cmd/s]"
     ]
    },
    {
     "name": "stdout",
     "output_type": "stream",
     "text": [
      "程序运行路径为: /home/pl/work/python-workspance/FAST_pulsar_search_pl/03_barydata\n",
      "日志文件为：/home/pl/work/python-workspance/FAST_pulsar_search_pl/LOG/05_search/LOG_05-SEARCH-33.52.txt\n",
      "程序运行路径为: /home/pl/work/python-workspance/FAST_pulsar_search_pl/03_barydata\n",
      "日志文件为：/home/pl/work/python-workspance/FAST_pulsar_search_pl/LOG/05_search/LOG_05-SEARCH-33.53.txt\n",
      "程序运行路径为: /home/pl/work/python-workspance/FAST_pulsar_search_pl/03_barydata\n",
      "日志文件为：/home/pl/work/python-workspance/FAST_pulsar_search_pl/LOG/05_search/LOG_05-SEARCH-33.54.txt\n",
      "程序运行路径为: /home/pl/work/python-workspance/FAST_pulsar_search_pl/03_barydata\n",
      "日志文件为：/home/pl/work/python-workspance/FAST_pulsar_search_pl/LOG/05_search/LOG_05-SEARCH-33.55.txt\n"
     ]
    },
    {
     "name": "stderr",
     "output_type": "stream",
     "text": [
      "zap-8核:  50%|████▉     | 149/300 [00:50<00:42,  3.57cmd/s]"
     ]
    },
    {
     "name": "stdout",
     "output_type": "stream",
     "text": [
      "程序运行路径为: /home/pl/work/python-workspance/FAST_pulsar_search_pl/03_barydata\n",
      "日志文件为：/home/pl/work/python-workspance/FAST_pulsar_search_pl/LOG/05_search/LOG_05-SEARCH-33.56.txt\n",
      "程序运行路径为: /home/pl/work/python-workspance/FAST_pulsar_search_pl/03_barydata\n",
      "日志文件为：/home/pl/work/python-workspance/FAST_pulsar_search_pl/LOG/05_search/LOG_05-SEARCH-33.57.txt\n",
      "程序运行路径为: /home/pl/work/python-workspance/FAST_pulsar_search_pl/03_barydata\n",
      "日志文件为：/home/pl/work/python-workspance/FAST_pulsar_search_pl/LOG/05_search/LOG_05-SEARCH-33.58.txt\n",
      "程序运行路径为: /home/pl/work/python-workspance/FAST_pulsar_search_pl/03_barydata\n",
      "日志文件为：/home/pl/work/python-workspance/FAST_pulsar_search_pl/LOG/05_search/LOG_05-SEARCH-33.59.txt\n",
      "运行命令：\u001b[96maccelsearch  -zmax 0 -numharm 8 /home/pl/work/python-workspance/FAST_pulsar_search_pl/03_barydata/j1631_FAST_pulsar_search_pl_bary_DM33.52.fft\u001b[0m\n",
      "\u001b[94m运行时间： 0.0秒\u001b[0m\n",
      "运行命令：\u001b[96maccelsearch  -zmax 0 -numharm 8 /home/pl/work/python-workspance/FAST_pulsar_search_pl/03_barydata/j1631_FAST_pulsar_search_pl_bary_DM33.55.fft\u001b[0m\n",
      "\u001b[94m运行时间： 0.0秒\u001b[0m\n",
      "运行命令：\u001b[96maccelsearch  -zmax 0 -numharm 8 /home/pl/work/python-workspance/FAST_pulsar_search_pl/03_barydata/j1631_FAST_pulsar_search_pl_bary_DM33.53.fft\u001b[0m\n",
      "\u001b[94m运行时间： 0.0秒\u001b[0m\n",
      "运行命令：\u001b[96maccelsearch  -zmax 0 -numharm 8 /home/pl/work/python-workspance/FAST_pulsar_search_pl/03_barydata/j1631_FAST_pulsar_search_pl_bary_DM33.58.fft\u001b[0m\n",
      "\u001b[94m运行时间： 0.0秒\u001b[0m\n",
      "运行命令：\u001b[96maccelsearch  -zmax 0 -numharm 8 /home/pl/work/python-workspance/FAST_pulsar_search_pl/03_barydata/j1631_FAST_pulsar_search_pl_bary_DM33.56.fft\u001b[0m\n",
      "\u001b[94m运行时间： 0.0秒\u001b[0m\n",
      "运行命令：\u001b[96maccelsearch  -zmax 0 -numharm 8 /home/pl/work/python-workspance/FAST_pulsar_search_pl/03_barydata/j1631_FAST_pulsar_search_pl_bary_DM33.54.fft\u001b[0m\n",
      "运行命令：\u001b[96maccelsearch  -zmax 0 -numharm 8 /home/pl/work/python-workspance/FAST_pulsar_search_pl/03_barydata/j1631_FAST_pulsar_search_pl_bary_DM33.59.fft\u001b[0m\n",
      "\u001b[94m运行时间： 0.0秒\u001b[0m\n",
      "\u001b[94m运行时间： 0.0秒\u001b[0m\n",
      "运行命令：\u001b[96maccelsearch  -zmax 0 -numharm 8 /home/pl/work/python-workspance/FAST_pulsar_search_pl/03_barydata/j1631_FAST_pulsar_search_pl_bary_DM33.57.fft\u001b[0m\n",
      "\u001b[94m运行时间： 0.0秒\u001b[0m\n"
     ]
    },
    {
     "name": "stderr",
     "output_type": "stream",
     "text": [
      "zap-8核:  51%|█████     | 153/300 [00:52<00:55,  2.67cmd/s]"
     ]
    },
    {
     "name": "stdout",
     "output_type": "stream",
     "text": [
      "程序运行路径为: /home/pl/work/python-workspance/FAST_pulsar_search_pl/03_barydata\n",
      "日志文件为：/home/pl/work/python-workspance/FAST_pulsar_search_pl/LOG/05_search/LOG_05-SEARCH-33.60.txt\n",
      "程序运行路径为: /home/pl/work/python-workspance/FAST_pulsar_search_pl/03_barydata\n",
      "日志文件为：/home/pl/work/python-workspance/FAST_pulsar_search_pl/LOG/05_search/LOG_05-SEARCH-33.61.txt\n",
      "程序运行路径为: /home/pl/work/python-workspance/FAST_pulsar_search_pl/03_barydata\n",
      "日志文件为：/home/pl/work/python-workspance/FAST_pulsar_search_pl/LOG/05_search/LOG_05-SEARCH-33.62.txt\n",
      "程序运行路径为: /home/pl/work/python-workspance/FAST_pulsar_search_pl/03_barydata\n",
      "日志文件为：/home/pl/work/python-workspance/FAST_pulsar_search_pl/LOG/05_search/LOG_05-SEARCH-33.63.txt\n"
     ]
    },
    {
     "name": "stderr",
     "output_type": "stream",
     "text": [
      "zap-8核:  52%|█████▏    | 157/300 [00:52<00:39,  3.64cmd/s]"
     ]
    },
    {
     "name": "stdout",
     "output_type": "stream",
     "text": [
      "程序运行路径为: /home/pl/work/python-workspance/FAST_pulsar_search_pl/03_barydata\n",
      "程序运行路径为: /home/pl/work/python-workspance/FAST_pulsar_search_pl/03_barydata\n",
      "程序运行路径为: /home/pl/work/python-workspance/FAST_pulsar_search_pl/03_barydata\n",
      "日志文件为：/home/pl/work/python-workspance/FAST_pulsar_search_pl/LOG/05_search/LOG_05-SEARCH-33.65.txt\n",
      "日志文件为：/home/pl/work/python-workspance/FAST_pulsar_search_pl/LOG/05_search/LOG_05-SEARCH-33.64.txt\n",
      "日志文件为：/home/pl/work/python-workspance/FAST_pulsar_search_pl/LOG/05_search/LOG_05-SEARCH-33.66.txt\n",
      "程序运行路径为: /home/pl/work/python-workspance/FAST_pulsar_search_pl/03_barydata\n",
      "日志文件为：/home/pl/work/python-workspance/FAST_pulsar_search_pl/LOG/05_search/LOG_05-SEARCH-33.67.txt\n",
      "运行命令：\u001b[96maccelsearch  -zmax 0 -numharm 8 /home/pl/work/python-workspance/FAST_pulsar_search_pl/03_barydata/j1631_FAST_pulsar_search_pl_bary_DM33.60.fft\u001b[0m\n",
      "\u001b[94m运行时间： 0.0秒\u001b[0m\n",
      "运行命令：\u001b[96maccelsearch  -zmax 0 -numharm 8 /home/pl/work/python-workspance/FAST_pulsar_search_pl/03_barydata/j1631_FAST_pulsar_search_pl_bary_DM33.62.fft\u001b[0m\n",
      "\u001b[94m运行时间： 0.0秒\u001b[0m\n",
      "运行命令：\u001b[96maccelsearch  -zmax 0 -numharm 8 /home/pl/work/python-workspance/FAST_pulsar_search_pl/03_barydata/j1631_FAST_pulsar_search_pl_bary_DM33.63.fft\u001b[0m\n",
      "\u001b[94m运行时间： 0.0秒\u001b[0m\n",
      "运行命令：\u001b[96maccelsearch  -zmax 0 -numharm 8 /home/pl/work/python-workspance/FAST_pulsar_search_pl/03_barydata/j1631_FAST_pulsar_search_pl_bary_DM33.64.fft\u001b[0m\n",
      "运行命令：\u001b[96maccelsearch  -zmax 0 -numharm 8 /home/pl/work/python-workspance/FAST_pulsar_search_pl/03_barydata/j1631_FAST_pulsar_search_pl_bary_DM33.65.fft\u001b[0m\n",
      "运行命令：\u001b[96maccelsearch  -zmax 0 -numharm 8 /home/pl/work/python-workspance/FAST_pulsar_search_pl/03_barydata/j1631_FAST_pulsar_search_pl_bary_DM33.66.fft\u001b[0m\n",
      "\u001b[94m运行时间： 0.0秒\u001b[0m\n",
      "\u001b[94m运行时间： 0.0秒\u001b[0m\n",
      "\u001b[94m运行时间： 0.0秒\u001b[0m\n",
      "运行命令：\u001b[96maccelsearch  -zmax 0 -numharm 8 /home/pl/work/python-workspance/FAST_pulsar_search_pl/03_barydata/j1631_FAST_pulsar_search_pl_bary_DM33.61.fft\u001b[0m\n",
      "\u001b[94m运行时间： 0.0秒\u001b[0m\n",
      "运行命令：\u001b[96maccelsearch  -zmax 0 -numharm 8 /home/pl/work/python-workspance/FAST_pulsar_search_pl/03_barydata/j1631_FAST_pulsar_search_pl_bary_DM33.67.fft\u001b[0m\n",
      "\u001b[94m运行时间： 0.0秒\u001b[0m\n"
     ]
    },
    {
     "name": "stderr",
     "output_type": "stream",
     "text": [
      "zap-8核:  54%|█████▎    | 161/300 [00:55<00:51,  2.70cmd/s]"
     ]
    },
    {
     "name": "stdout",
     "output_type": "stream",
     "text": [
      "程序运行路径为: /home/pl/work/python-workspance/FAST_pulsar_search_pl/03_barydata\n",
      "日志文件为：/home/pl/work/python-workspance/FAST_pulsar_search_pl/LOG/05_search/LOG_05-SEARCH-33.68.txt\n",
      "程序运行路径为: /home/pl/work/python-workspance/FAST_pulsar_search_pl/03_barydata\n",
      "日志文件为：/home/pl/work/python-workspance/FAST_pulsar_search_pl/LOG/05_search/LOG_05-SEARCH-33.69.txt\n",
      "程序运行路径为: /home/pl/work/python-workspance/FAST_pulsar_search_pl/03_barydata\n",
      "日志文件为：/home/pl/work/python-workspance/FAST_pulsar_search_pl/LOG/05_search/LOG_05-SEARCH-33.70.txt\n",
      "程序运行路径为: /home/pl/work/python-workspance/FAST_pulsar_search_pl/03_barydata\n",
      "程序运行路径为: /home/pl/work/python-workspance/FAST_pulsar_search_pl/03_barydata\n",
      "日志文件为：/home/pl/work/python-workspance/FAST_pulsar_search_pl/LOG/05_search/LOG_05-SEARCH-33.71.txt\n",
      "程序运行路径为: /home/pl/work/python-workspance/FAST_pulsar_search_pl/03_barydata\n",
      "日志文件为：/home/pl/work/python-workspance/FAST_pulsar_search_pl/LOG/05_search/LOG_05-SEARCH-33.72.txt\n",
      "日志文件为：/home/pl/work/python-workspance/FAST_pulsar_search_pl/LOG/05_search/LOG_05-SEARCH-33.73.txt\n"
     ]
    },
    {
     "name": "stderr",
     "output_type": "stream",
     "text": [
      "zap-8核:  56%|█████▌    | 167/300 [00:55<00:31,  4.26cmd/s]"
     ]
    },
    {
     "name": "stdout",
     "output_type": "stream",
     "text": [
      "程序运行路径为: /home/pl/work/python-workspance/FAST_pulsar_search_pl/03_barydata\n",
      "日志文件为：/home/pl/work/python-workspance/FAST_pulsar_search_pl/LOG/05_search/LOG_05-SEARCH-33.74.txt\n",
      "程序运行路径为: /home/pl/work/python-workspance/FAST_pulsar_search_pl/03_barydata\n",
      "日志文件为：/home/pl/work/python-workspance/FAST_pulsar_search_pl/LOG/05_search/LOG_05-SEARCH-33.75.txt\n",
      "运行命令：\u001b[96maccelsearch  -zmax 0 -numharm 8 /home/pl/work/python-workspance/FAST_pulsar_search_pl/03_barydata/j1631_FAST_pulsar_search_pl_bary_DM33.68.fft\u001b[0m\n",
      "\u001b[94m运行时间： 0.0秒\u001b[0m\n",
      "运行命令：\u001b[96maccelsearch  -zmax 0 -numharm 8 /home/pl/work/python-workspance/FAST_pulsar_search_pl/03_barydata/j1631_FAST_pulsar_search_pl_bary_DM33.72.fft\u001b[0m\n",
      "\u001b[94m运行时间： 0.0秒\u001b[0m\n",
      "运行命令：\u001b[96maccelsearch  -zmax 0 -numharm 8 /home/pl/work/python-workspance/FAST_pulsar_search_pl/03_barydata/j1631_FAST_pulsar_search_pl_bary_DM33.71.fft\u001b[0m\n",
      "\u001b[94m运行时间： 0.0秒\u001b[0m\n",
      "运行命令：\u001b[96maccelsearch  -zmax 0 -numharm 8 /home/pl/work/python-workspance/FAST_pulsar_search_pl/03_barydata/j1631_FAST_pulsar_search_pl_bary_DM33.73.fft\u001b[0m\n",
      "\u001b[94m运行时间： 0.0秒\u001b[0m\n",
      "运行命令：\u001b[96maccelsearch  -zmax 0 -numharm 8 /home/pl/work/python-workspance/FAST_pulsar_search_pl/03_barydata/j1631_FAST_pulsar_search_pl_bary_DM33.74.fft\u001b[0m\n",
      "运行命令：\u001b[96maccelsearch  -zmax 0 -numharm 8 /home/pl/work/python-workspance/FAST_pulsar_search_pl/03_barydata/j1631_FAST_pulsar_search_pl_bary_DM33.75.fft\u001b[0m\n",
      "\u001b[94m运行时间： 0.0秒\u001b[0m\n",
      "\u001b[94m运行时间： 0.0秒\u001b[0m\n",
      "运行命令：\u001b[96maccelsearch  -zmax 0 -numharm 8 /home/pl/work/python-workspance/FAST_pulsar_search_pl/03_barydata/j1631_FAST_pulsar_search_pl_bary_DM33.70.fft\u001b[0m\n",
      "\u001b[94m运行时间： 0.0秒\u001b[0m\n",
      "运行命令：\u001b[96maccelsearch  -zmax 0 -numharm 8 /home/pl/work/python-workspance/FAST_pulsar_search_pl/03_barydata/j1631_FAST_pulsar_search_pl_bary_DM33.69.fft\u001b[0m\n",
      "\u001b[94m运行时间： 0.0秒\u001b[0m\n",
      "程序运行路径为: /home/pl/work/python-workspance/FAST_pulsar_search_pl/03_barydata\n",
      "日志文件为：/home/pl/work/python-workspance/FAST_pulsar_search_pl/LOG/05_search/LOG_05-SEARCH-33.76.txt\n"
     ]
    },
    {
     "name": "stderr",
     "output_type": "stream",
     "text": [
      "zap-8核:  57%|█████▋    | 170/300 [00:57<00:46,  2.79cmd/s]"
     ]
    },
    {
     "name": "stdout",
     "output_type": "stream",
     "text": [
      "程序运行路径为: /home/pl/work/python-workspance/FAST_pulsar_search_pl/03_barydata\n",
      "日志文件为：/home/pl/work/python-workspance/FAST_pulsar_search_pl/LOG/05_search/LOG_05-SEARCH-33.77.txt\n",
      "程序运行路径为: /home/pl/work/python-workspance/FAST_pulsar_search_pl/03_barydata\n",
      "日志文件为：/home/pl/work/python-workspance/FAST_pulsar_search_pl/LOG/05_search/LOG_05-SEARCH-33.78.txt\n",
      "程序运行路径为: /home/pl/work/python-workspance/FAST_pulsar_search_pl/03_barydata\n",
      "日志文件为：/home/pl/work/python-workspance/FAST_pulsar_search_pl/LOG/05_search/LOG_05-SEARCH-33.79.txt\n",
      "程序运行路径为: /home/pl/work/python-workspance/FAST_pulsar_search_pl/03_barydata\n",
      "日志文件为：/home/pl/work/python-workspance/FAST_pulsar_search_pl/LOG/05_search/LOG_05-SEARCH-33.80.txt\n",
      "程序运行路径为: /home/pl/work/python-workspance/FAST_pulsar_search_pl/03_barydata\n",
      "日志文件为：/home/pl/work/python-workspance/FAST_pulsar_search_pl/LOG/05_search/LOG_05-SEARCH-33.81.txt\n",
      "程序运行路径为: /home/pl/work/python-workspance/FAST_pulsar_search_pl/03_barydata\n",
      "日志文件为：/home/pl/work/python-workspance/FAST_pulsar_search_pl/LOG/05_search/LOG_05-SEARCH-33.82.txt\n",
      "程序运行路径为: /home/pl/work/python-workspance/FAST_pulsar_search_pl/03_barydata\n",
      "日志文件为：/home/pl/work/python-workspance/FAST_pulsar_search_pl/LOG/05_search/LOG_05-SEARCH-33.83.txt\n",
      "运行命令：\u001b[96maccelsearch  -zmax 0 -numharm 8 /home/pl/work/python-workspance/FAST_pulsar_search_pl/03_barydata/j1631_FAST_pulsar_search_pl_bary_DM33.76.fft\u001b[0m\n",
      "\u001b[94m运行时间： 0.0秒\u001b[0m\n",
      "运行命令：\u001b[96maccelsearch  -zmax 0 -numharm 8 /home/pl/work/python-workspance/FAST_pulsar_search_pl/03_barydata/j1631_FAST_pulsar_search_pl_bary_DM33.77.fft\u001b[0m\n",
      "\u001b[94m运行时间： 0.0秒\u001b[0m\n",
      "运行命令：\u001b[96maccelsearch  -zmax 0 -numharm 8 /home/pl/work/python-workspance/FAST_pulsar_search_pl/03_barydata/j1631_FAST_pulsar_search_pl_bary_DM33.78.fft\u001b[0m\n",
      "\u001b[94m运行时间： 0.0秒\u001b[0m\n",
      "运行命令：\u001b[96maccelsearch  -zmax 0 -numharm 8 /home/pl/work/python-workspance/FAST_pulsar_search_pl/03_barydata/j1631_FAST_pulsar_search_pl_bary_DM33.79.fft\u001b[0m\n",
      "\u001b[94m运行时间： 0.0秒\u001b[0m\n",
      "运行命令：\u001b[96maccelsearch  -zmax 0 -numharm 8 /home/pl/work/python-workspance/FAST_pulsar_search_pl/03_barydata/j1631_FAST_pulsar_search_pl_bary_DM33.83.fft\u001b[0m\n",
      "\u001b[94m运行时间： 0.0秒\u001b[0m\n",
      "运行命令：\u001b[96maccelsearch  -zmax 0 -numharm 8 /home/pl/work/python-workspance/FAST_pulsar_search_pl/03_barydata/j1631_FAST_pulsar_search_pl_bary_DM33.80.fft\u001b[0m\n",
      "\u001b[94m运行时间： 0.0秒\u001b[0m\n",
      "运行命令：\u001b[96maccelsearch  -zmax 0 -numharm 8 /home/pl/work/python-workspance/FAST_pulsar_search_pl/03_barydata/j1631_FAST_pulsar_search_pl_bary_DM33.82.fft\u001b[0m\n",
      "\u001b[94m运行时间： 0.0秒\u001b[0m\n",
      "运行命令：\u001b[96maccelsearch  -zmax 0 -numharm 8 /home/pl/work/python-workspance/FAST_pulsar_search_pl/03_barydata/j1631_FAST_pulsar_search_pl_bary_DM33.81.fft\u001b[0m\n",
      "\u001b[94m运行时间： 0.0秒\u001b[0m\n"
     ]
    },
    {
     "name": "stderr",
     "output_type": "stream",
     "text": [
      "zap-8核:  59%|█████▉    | 177/300 [01:00<00:43,  2.85cmd/s]"
     ]
    },
    {
     "name": "stdout",
     "output_type": "stream",
     "text": [
      "程序运行路径为: /home/pl/work/python-workspance/FAST_pulsar_search_pl/03_barydata\n",
      "日志文件为：/home/pl/work/python-workspance/FAST_pulsar_search_pl/LOG/05_search/LOG_05-SEARCH-33.84.txt\n"
     ]
    },
    {
     "name": "stderr",
     "output_type": "stream",
     "text": [
      "zap-8核:  60%|█████▉    | 179/300 [01:00<00:37,  3.25cmd/s]"
     ]
    },
    {
     "name": "stdout",
     "output_type": "stream",
     "text": [
      "程序运行路径为: /home/pl/work/python-workspance/FAST_pulsar_search_pl/03_barydata\n",
      "程序运行路径为: /home/pl/work/python-workspance/FAST_pulsar_search_pl/03_barydata\n",
      "日志文件为：/home/pl/work/python-workspance/FAST_pulsar_search_pl/LOG/05_search/LOG_05-SEARCH-33.85.txt\n",
      "日志文件为：/home/pl/work/python-workspance/FAST_pulsar_search_pl/LOG/05_search/LOG_05-SEARCH-33.86.txt\n",
      "程序运行路径为: /home/pl/work/python-workspance/FAST_pulsar_search_pl/03_barydata\n",
      "日志文件为：/home/pl/work/python-workspance/FAST_pulsar_search_pl/LOG/05_search/LOG_05-SEARCH-33.87.txt\n",
      "程序运行路径为: /home/pl/work/python-workspance/FAST_pulsar_search_pl/03_barydata\n",
      "日志文件为：/home/pl/work/python-workspance/FAST_pulsar_search_pl/LOG/05_search/LOG_05-SEARCH-33.88.txt\n",
      "程序运行路径为: /home/pl/work/python-workspance/FAST_pulsar_search_pl/03_barydata\n",
      "日志文件为：/home/pl/work/python-workspance/FAST_pulsar_search_pl/LOG/05_search/LOG_05-SEARCH-33.89.txt\n",
      "程序运行路径为: /home/pl/work/python-workspance/FAST_pulsar_search_pl/03_barydata\n",
      "日志文件为：/home/pl/work/python-workspance/FAST_pulsar_search_pl/LOG/05_search/LOG_05-SEARCH-33.90.txt\n",
      "程序运行路径为: /home/pl/work/python-workspance/FAST_pulsar_search_pl/03_barydata\n",
      "日志文件为：/home/pl/work/python-workspance/FAST_pulsar_search_pl/LOG/05_search/LOG_05-SEARCH-33.91.txt\n",
      "运行命令：\u001b[96maccelsearch  -zmax 0 -numharm 8 /home/pl/work/python-workspance/FAST_pulsar_search_pl/03_barydata/j1631_FAST_pulsar_search_pl_bary_DM33.84.fft\u001b[0m\n",
      "\u001b[94m运行时间： 0.0秒\u001b[0m\n",
      "运行命令：\u001b[96maccelsearch  -zmax 0 -numharm 8 /home/pl/work/python-workspance/FAST_pulsar_search_pl/03_barydata/j1631_FAST_pulsar_search_pl_bary_DM33.85.fft\u001b[0m\n",
      "\u001b[94m运行时间： 0.0秒\u001b[0m\n",
      "运行命令：\u001b[96maccelsearch  -zmax 0 -numharm 8 /home/pl/work/python-workspance/FAST_pulsar_search_pl/03_barydata/j1631_FAST_pulsar_search_pl_bary_DM33.87.fft\u001b[0m\n",
      "\u001b[94m运行时间： 0.0秒\u001b[0m\n",
      "运行命令：\u001b[96maccelsearch  -zmax 0 -numharm 8 /home/pl/work/python-workspance/FAST_pulsar_search_pl/03_barydata/j1631_FAST_pulsar_search_pl_bary_DM33.88.fft\u001b[0m\n",
      "运行命令：\u001b[96maccelsearch  -zmax 0 -numharm 8 /home/pl/work/python-workspance/FAST_pulsar_search_pl/03_barydata/j1631_FAST_pulsar_search_pl_bary_DM33.86.fft\u001b[0m\n",
      "\u001b[94m运行时间： 0.0秒\u001b[0m\n",
      "\u001b[94m运行时间： 0.0秒\u001b[0m\n",
      "运行命令：\u001b[96maccelsearch  -zmax 0 -numharm 8 /home/pl/work/python-workspance/FAST_pulsar_search_pl/03_barydata/j1631_FAST_pulsar_search_pl_bary_DM33.91.fft\u001b[0m\n",
      "\u001b[94m运行时间： 0.0秒\u001b[0m\n",
      "运行命令：\u001b[96maccelsearch  -zmax 0 -numharm 8 /home/pl/work/python-workspance/FAST_pulsar_search_pl/03_barydata/j1631_FAST_pulsar_search_pl_bary_DM33.89.fft\u001b[0m\n",
      "\u001b[94m运行时间： 0.0秒\u001b[0m\n",
      "运行命令：\u001b[96maccelsearch  -zmax 0 -numharm 8 /home/pl/work/python-workspance/FAST_pulsar_search_pl/03_barydata/j1631_FAST_pulsar_search_pl_bary_DM33.90.fft\u001b[0m\n",
      "\u001b[94m运行时间： 0.0秒\u001b[0m\n"
     ]
    },
    {
     "name": "stderr",
     "output_type": "stream",
     "text": [
      "zap-8核:  62%|██████▏   | 185/300 [01:02<00:39,  2.94cmd/s]"
     ]
    },
    {
     "name": "stdout",
     "output_type": "stream",
     "text": [
      "程序运行路径为: /home/pl/work/python-workspance/FAST_pulsar_search_pl/03_barydata\n",
      "日志文件为：/home/pl/work/python-workspance/FAST_pulsar_search_pl/LOG/05_search/LOG_05-SEARCH-33.92.txt\n",
      "程序运行路径为: /home/pl/work/python-workspance/FAST_pulsar_search_pl/03_barydata\n",
      "日志文件为：/home/pl/work/python-workspance/FAST_pulsar_search_pl/LOG/05_search/LOG_05-SEARCH-33.93.txt\n"
     ]
    },
    {
     "name": "stderr",
     "output_type": "stream",
     "text": [
      "zap-8核:  62%|██████▏   | 187/300 [01:02<00:33,  3.38cmd/s]"
     ]
    },
    {
     "name": "stdout",
     "output_type": "stream",
     "text": [
      "程序运行路径为: /home/pl/work/python-workspance/FAST_pulsar_search_pl/03_barydata\n",
      "日志文件为：/home/pl/work/python-workspance/FAST_pulsar_search_pl/LOG/05_search/LOG_05-SEARCH-33.94.txt\n",
      "程序运行路径为: /home/pl/work/python-workspance/FAST_pulsar_search_pl/03_barydata\n",
      "程序运行路径为: /home/pl/work/python-workspance/FAST_pulsar_search_pl/03_barydata\n",
      "日志文件为：/home/pl/work/python-workspance/FAST_pulsar_search_pl/LOG/05_search/LOG_05-SEARCH-33.95.txt\n",
      "日志文件为：/home/pl/work/python-workspance/FAST_pulsar_search_pl/LOG/05_search/LOG_05-SEARCH-33.96.txt\n",
      "程序运行路径为: /home/pl/work/python-workspance/FAST_pulsar_search_pl/03_barydata\n",
      "日志文件为：/home/pl/work/python-workspance/FAST_pulsar_search_pl/LOG/05_search/LOG_05-SEARCH-33.97.txt\n",
      "程序运行路径为: /home/pl/work/python-workspance/FAST_pulsar_search_pl/03_barydata\n",
      "日志文件为：/home/pl/work/python-workspance/FAST_pulsar_search_pl/LOG/05_search/LOG_05-SEARCH-33.98.txt\n",
      "程序运行路径为: /home/pl/work/python-workspance/FAST_pulsar_search_pl/03_barydata\n",
      "日志文件为：/home/pl/work/python-workspance/FAST_pulsar_search_pl/LOG/05_search/LOG_05-SEARCH-33.99.txt\n",
      "运行命令：\u001b[96maccelsearch  -zmax 0 -numharm 8 /home/pl/work/python-workspance/FAST_pulsar_search_pl/03_barydata/j1631_FAST_pulsar_search_pl_bary_DM33.92.fft\u001b[0m\n",
      "\u001b[94m运行时间： 0.0秒\u001b[0m\n",
      "运行命令：\u001b[96maccelsearch  -zmax 0 -numharm 8 /home/pl/work/python-workspance/FAST_pulsar_search_pl/03_barydata/j1631_FAST_pulsar_search_pl_bary_DM33.95.fft\u001b[0m\n",
      "\u001b[94m运行时间： 0.0秒\u001b[0m\n",
      "运行命令：\u001b[96maccelsearch  -zmax 0 -numharm 8 /home/pl/work/python-workspance/FAST_pulsar_search_pl/03_barydata/j1631_FAST_pulsar_search_pl_bary_DM33.99.fft\u001b[0m\n",
      "运行命令：\u001b[96maccelsearch  -zmax 0 -numharm 8 /home/pl/work/python-workspance/FAST_pulsar_search_pl/03_barydata/j1631_FAST_pulsar_search_pl_bary_DM33.93.fft\u001b[0m\n",
      "\u001b[94m运行时间： 0.0秒\u001b[0m\n",
      "\u001b[94m运行时间： 0.0秒\u001b[0m\n",
      "运行命令：\u001b[96maccelsearch  -zmax 0 -numharm 8 /home/pl/work/python-workspance/FAST_pulsar_search_pl/03_barydata/j1631_FAST_pulsar_search_pl_bary_DM33.96.fft\u001b[0m\n",
      "\u001b[94m运行时间： 0.0秒\u001b[0m\n",
      "运行命令：\u001b[96maccelsearch  -zmax 0 -numharm 8 /home/pl/work/python-workspance/FAST_pulsar_search_pl/03_barydata/j1631_FAST_pulsar_search_pl_bary_DM33.94.fft\u001b[0m\n",
      "\u001b[94m运行时间： 0.0秒\u001b[0m\n",
      "运行命令：\u001b[96maccelsearch  -zmax 0 -numharm 8 /home/pl/work/python-workspance/FAST_pulsar_search_pl/03_barydata/j1631_FAST_pulsar_search_pl_bary_DM33.98.fft\u001b[0m\n",
      "\u001b[94m运行时间： 0.0秒\u001b[0m\n",
      "运行命令：\u001b[96maccelsearch  -zmax 0 -numharm 8 /home/pl/work/python-workspance/FAST_pulsar_search_pl/03_barydata/j1631_FAST_pulsar_search_pl_bary_DM33.97.fft\u001b[0m\n",
      "\u001b[94m运行时间： 0.0秒\u001b[0m\n"
     ]
    },
    {
     "name": "stderr",
     "output_type": "stream",
     "text": [
      "zap-8核:  64%|██████▍   | 193/300 [01:05<00:35,  3.02cmd/s]"
     ]
    },
    {
     "name": "stdout",
     "output_type": "stream",
     "text": [
      "程序运行路径为: /home/pl/work/python-workspance/FAST_pulsar_search_pl/03_barydata\n",
      "日志文件为：/home/pl/work/python-workspance/FAST_pulsar_search_pl/LOG/05_search/LOG_05-SEARCH-34.00.txt\n",
      "程序运行路径为: /home/pl/work/python-workspance/FAST_pulsar_search_pl/03_barydata\n",
      "日志文件为：/home/pl/work/python-workspance/FAST_pulsar_search_pl/LOG/05_search/LOG_05-SEARCH-34.01.txt\n"
     ]
    },
    {
     "name": "stderr",
     "output_type": "stream",
     "text": [
      "zap-8核:  65%|██████▌   | 195/300 [01:05<00:30,  3.47cmd/s]"
     ]
    },
    {
     "name": "stdout",
     "output_type": "stream",
     "text": [
      "程序运行路径为: /home/pl/work/python-workspance/FAST_pulsar_search_pl/03_barydata\n",
      "日志文件为：/home/pl/work/python-workspance/FAST_pulsar_search_pl/LOG/05_search/LOG_05-SEARCH-34.02.txt\n",
      "程序运行路径为: /home/pl/work/python-workspance/FAST_pulsar_search_pl/03_barydata\n",
      "日志文件为：/home/pl/work/python-workspance/FAST_pulsar_search_pl/LOG/05_search/LOG_05-SEARCH-34.03.txt\n",
      "程序运行路径为: /home/pl/work/python-workspance/FAST_pulsar_search_pl/03_barydata\n",
      "日志文件为：/home/pl/work/python-workspance/FAST_pulsar_search_pl/LOG/05_search/LOG_05-SEARCH-34.04.txt\n",
      "程序运行路径为: /home/pl/work/python-workspance/FAST_pulsar_search_pl/03_barydata\n",
      "日志文件为：/home/pl/work/python-workspance/FAST_pulsar_search_pl/LOG/05_search/LOG_05-SEARCH-34.05.txt\n",
      "程序运行路径为: /home/pl/work/python-workspance/FAST_pulsar_search_pl/03_barydata\n",
      "日志文件为：/home/pl/work/python-workspance/FAST_pulsar_search_pl/LOG/05_search/LOG_05-SEARCH-34.06.txt\n",
      "程序运行路径为: /home/pl/work/python-workspance/FAST_pulsar_search_pl/03_barydata\n",
      "日志文件为：/home/pl/work/python-workspance/FAST_pulsar_search_pl/LOG/05_search/LOG_05-SEARCH-34.07.txt\n",
      "运行命令：\u001b[96maccelsearch  -zmax 0 -numharm 8 /home/pl/work/python-workspance/FAST_pulsar_search_pl/03_barydata/j1631_FAST_pulsar_search_pl_bary_DM34.00.fft\u001b[0m\n",
      "\u001b[94m运行时间： 0.0秒\u001b[0m\n",
      "运行命令：\u001b[96maccelsearch  -zmax 0 -numharm 8 /home/pl/work/python-workspance/FAST_pulsar_search_pl/03_barydata/j1631_FAST_pulsar_search_pl_bary_DM34.01.fft\u001b[0m\n",
      "\u001b[94m运行时间： 0.0秒\u001b[0m\n",
      "运行命令：\u001b[96maccelsearch  -zmax 0 -numharm 8 /home/pl/work/python-workspance/FAST_pulsar_search_pl/03_barydata/j1631_FAST_pulsar_search_pl_bary_DM34.03.fft\u001b[0m\n",
      "\u001b[94m运行时间： 0.0秒\u001b[0m\n",
      "运行命令：\u001b[96maccelsearch  -zmax 0 -numharm 8 /home/pl/work/python-workspance/FAST_pulsar_search_pl/03_barydata/j1631_FAST_pulsar_search_pl_bary_DM34.02.fft\u001b[0m\n",
      "\u001b[94m运行时间： 0.0秒\u001b[0m\n",
      "运行命令：\u001b[96maccelsearch  -zmax 0 -numharm 8 /home/pl/work/python-workspance/FAST_pulsar_search_pl/03_barydata/j1631_FAST_pulsar_search_pl_bary_DM34.04.fft\u001b[0m\n",
      "\u001b[94m运行时间： 0.0秒\u001b[0m\n",
      "运行命令：\u001b[96maccelsearch  -zmax 0 -numharm 8 /home/pl/work/python-workspance/FAST_pulsar_search_pl/03_barydata/j1631_FAST_pulsar_search_pl_bary_DM34.05.fft\u001b[0m\n",
      "\u001b[94m运行时间： 0.0秒\u001b[0m\n",
      "运行命令：\u001b[96maccelsearch  -zmax 0 -numharm 8 /home/pl/work/python-workspance/FAST_pulsar_search_pl/03_barydata/j1631_FAST_pulsar_search_pl_bary_DM34.06.fft\u001b[0m\n",
      "\u001b[94m运行时间： 0.0秒\u001b[0m\n",
      "运行命令：\u001b[96maccelsearch  -zmax 0 -numharm 8 /home/pl/work/python-workspance/FAST_pulsar_search_pl/03_barydata/j1631_FAST_pulsar_search_pl_bary_DM34.07.fft\u001b[0m\n",
      "\u001b[94m运行时间： 0.0秒\u001b[0m\n"
     ]
    },
    {
     "name": "stderr",
     "output_type": "stream",
     "text": [
      "zap-8核:  67%|██████▋   | 201/300 [01:07<00:32,  3.06cmd/s]"
     ]
    },
    {
     "name": "stdout",
     "output_type": "stream",
     "text": [
      "程序运行路径为: /home/pl/work/python-workspance/FAST_pulsar_search_pl/03_barydata\n",
      "日志文件为：/home/pl/work/python-workspance/FAST_pulsar_search_pl/LOG/05_search/LOG_05-SEARCH-34.08.txt\n",
      "程序运行路径为: /home/pl/work/python-workspance/FAST_pulsar_search_pl/03_barydata\n",
      "日志文件为：/home/pl/work/python-workspance/FAST_pulsar_search_pl/LOG/05_search/LOG_05-SEARCH-34.09.txt\n"
     ]
    },
    {
     "name": "stderr",
     "output_type": "stream",
     "text": [
      "zap-8核:  68%|██████▊   | 203/300 [01:07<00:27,  3.53cmd/s]"
     ]
    },
    {
     "name": "stdout",
     "output_type": "stream",
     "text": [
      "程序运行路径为: /home/pl/work/python-workspance/FAST_pulsar_search_pl/03_barydata\n",
      "日志文件为：/home/pl/work/python-workspance/FAST_pulsar_search_pl/LOG/05_search/LOG_05-SEARCH-34.10.txt\n",
      "程序运行路径为: /home/pl/work/python-workspance/FAST_pulsar_search_pl/03_barydata\n",
      "日志文件为：/home/pl/work/python-workspance/FAST_pulsar_search_pl/LOG/05_search/LOG_05-SEARCH-34.11.txt\n",
      "程序运行路径为: /home/pl/work/python-workspance/FAST_pulsar_search_pl/03_barydata\n",
      "日志文件为：/home/pl/work/python-workspance/FAST_pulsar_search_pl/LOG/05_search/LOG_05-SEARCH-34.12.txt\n",
      "程序运行路径为: /home/pl/work/python-workspance/FAST_pulsar_search_pl/03_barydata\n",
      "日志文件为：/home/pl/work/python-workspance/FAST_pulsar_search_pl/LOG/05_search/LOG_05-SEARCH-34.13.txt\n",
      "程序运行路径为: /home/pl/work/python-workspance/FAST_pulsar_search_pl/03_barydata\n",
      "日志文件为：/home/pl/work/python-workspance/FAST_pulsar_search_pl/LOG/05_search/LOG_05-SEARCH-34.14.txt\n"
     ]
    },
    {
     "name": "stderr",
     "output_type": "stream",
     "text": [
      "zap-8核:  69%|██████▉   | 208/300 [01:07<00:17,  5.34cmd/s]"
     ]
    },
    {
     "name": "stdout",
     "output_type": "stream",
     "text": [
      "程序运行路径为: /home/pl/work/python-workspance/FAST_pulsar_search_pl/03_barydata\n",
      "日志文件为：/home/pl/work/python-workspance/FAST_pulsar_search_pl/LOG/05_search/LOG_05-SEARCH-34.15.txt\n",
      "运行命令：\u001b[96maccelsearch  -zmax 0 -numharm 8 /home/pl/work/python-workspance/FAST_pulsar_search_pl/03_barydata/j1631_FAST_pulsar_search_pl_bary_DM34.08.fft\u001b[0m\n",
      "\u001b[94m运行时间： 0.0秒\u001b[0m\n",
      "运行命令：\u001b[96maccelsearch  -zmax 0 -numharm 8 /home/pl/work/python-workspance/FAST_pulsar_search_pl/03_barydata/j1631_FAST_pulsar_search_pl_bary_DM34.09.fft\u001b[0m\n",
      "\u001b[94m运行时间： 0.0秒\u001b[0m\n",
      "运行命令：\u001b[96maccelsearch  -zmax 0 -numharm 8 /home/pl/work/python-workspance/FAST_pulsar_search_pl/03_barydata/j1631_FAST_pulsar_search_pl_bary_DM34.11.fft\u001b[0m\n",
      "\u001b[94m运行时间： 0.0秒\u001b[0m\n",
      "运行命令：\u001b[96maccelsearch  -zmax 0 -numharm 8 /home/pl/work/python-workspance/FAST_pulsar_search_pl/03_barydata/j1631_FAST_pulsar_search_pl_bary_DM34.10.fft\u001b[0m\n",
      "\u001b[94m运行时间： 0.0秒\u001b[0m\n",
      "运行命令：\u001b[96maccelsearch  -zmax 0 -numharm 8 /home/pl/work/python-workspance/FAST_pulsar_search_pl/03_barydata/j1631_FAST_pulsar_search_pl_bary_DM34.13.fft\u001b[0m\n",
      "\u001b[94m运行时间： 0.0秒\u001b[0m\n",
      "运行命令：\u001b[96maccelsearch  -zmax 0 -numharm 8 /home/pl/work/python-workspance/FAST_pulsar_search_pl/03_barydata/j1631_FAST_pulsar_search_pl_bary_DM34.15.fft\u001b[0m\n",
      "\u001b[94m运行时间： 0.0秒\u001b[0m\n",
      "运行命令：\u001b[96maccelsearch  -zmax 0 -numharm 8 /home/pl/work/python-workspance/FAST_pulsar_search_pl/03_barydata/j1631_FAST_pulsar_search_pl_bary_DM34.12.fft\u001b[0m\n",
      "\u001b[94m运行时间： 0.0秒\u001b[0m\n",
      "运行命令：\u001b[96maccelsearch  -zmax 0 -numharm 8 /home/pl/work/python-workspance/FAST_pulsar_search_pl/03_barydata/j1631_FAST_pulsar_search_pl_bary_DM34.14.fft\u001b[0m\n",
      "\u001b[94m运行时间： 0.0秒\u001b[0m\n",
      "程序运行路径为: /home/pl/work/python-workspance/FAST_pulsar_search_pl/03_barydata\n",
      "日志文件为：/home/pl/work/python-workspance/FAST_pulsar_search_pl/LOG/05_search/LOG_05-SEARCH-34.16.txt\n",
      "程序运行路径为: /home/pl/work/python-workspance/FAST_pulsar_search_pl/03_barydata\n",
      "日志文件为：/home/pl/work/python-workspance/FAST_pulsar_search_pl/LOG/05_search/LOG_05-SEARCH-34.17.txt\n"
     ]
    },
    {
     "name": "stderr",
     "output_type": "stream",
     "text": [
      "zap-8核:  70%|███████   | 211/300 [01:09<00:29,  3.06cmd/s]"
     ]
    },
    {
     "name": "stdout",
     "output_type": "stream",
     "text": [
      "程序运行路径为: /home/pl/work/python-workspance/FAST_pulsar_search_pl/03_barydata\n",
      "日志文件为：/home/pl/work/python-workspance/FAST_pulsar_search_pl/LOG/05_search/LOG_05-SEARCH-34.18.txt\n",
      "程序运行路径为: /home/pl/work/python-workspance/FAST_pulsar_search_pl/03_barydata\n",
      "日志文件为：/home/pl/work/python-workspance/FAST_pulsar_search_pl/LOG/05_search/LOG_05-SEARCH-34.19.txt\n",
      "程序运行路径为: /home/pl/work/python-workspance/FAST_pulsar_search_pl/03_barydata\n",
      "日志文件为：/home/pl/work/python-workspance/FAST_pulsar_search_pl/LOG/05_search/LOG_05-SEARCH-34.20.txt\n",
      "程序运行路径为: /home/pl/work/python-workspance/FAST_pulsar_search_pl/03_barydata\n",
      "日志文件为：/home/pl/work/python-workspance/FAST_pulsar_search_pl/LOG/05_search/LOG_05-SEARCH-34.21.txt\n"
     ]
    },
    {
     "name": "stderr",
     "output_type": "stream",
     "text": [
      "zap-8核:  72%|███████▏  | 215/300 [01:10<00:19,  4.30cmd/s]"
     ]
    },
    {
     "name": "stdout",
     "output_type": "stream",
     "text": [
      "程序运行路径为: /home/pl/work/python-workspance/FAST_pulsar_search_pl/03_barydata\n",
      "日志文件为：/home/pl/work/python-workspance/FAST_pulsar_search_pl/LOG/05_search/LOG_05-SEARCH-34.22.txt\n",
      "程序运行路径为: /home/pl/work/python-workspance/FAST_pulsar_search_pl/03_barydata\n",
      "日志文件为：/home/pl/work/python-workspance/FAST_pulsar_search_pl/LOG/05_search/LOG_05-SEARCH-34.23.txt\n",
      "运行命令：\u001b[96maccelsearch  -zmax 0 -numharm 8 /home/pl/work/python-workspance/FAST_pulsar_search_pl/03_barydata/j1631_FAST_pulsar_search_pl_bary_DM34.16.fft\u001b[0m\n",
      "\u001b[94m运行时间： 0.0秒\u001b[0m\n",
      "运行命令：\u001b[96maccelsearch  -zmax 0 -numharm 8 /home/pl/work/python-workspance/FAST_pulsar_search_pl/03_barydata/j1631_FAST_pulsar_search_pl_bary_DM34.17.fft\u001b[0m\n",
      "\u001b[94m运行时间： 0.0秒\u001b[0m\n",
      "运行命令：\u001b[96maccelsearch  -zmax 0 -numharm 8 /home/pl/work/python-workspance/FAST_pulsar_search_pl/03_barydata/j1631_FAST_pulsar_search_pl_bary_DM34.18.fft\u001b[0m\n",
      "运行命令：\u001b[96maccelsearch  -zmax 0 -numharm 8 /home/pl/work/python-workspance/FAST_pulsar_search_pl/03_barydata/j1631_FAST_pulsar_search_pl_bary_DM34.19.fft\u001b[0m\n",
      "\u001b[94m运行时间： 0.0秒\u001b[0m\n",
      "\u001b[94m运行时间： 0.0秒\u001b[0m\n",
      "运行命令：\u001b[96maccelsearch  -zmax 0 -numharm 8 /home/pl/work/python-workspance/FAST_pulsar_search_pl/03_barydata/j1631_FAST_pulsar_search_pl_bary_DM34.21.fft\u001b[0m\n",
      "\u001b[94m运行时间： 0.0秒\u001b[0m\n",
      "运行命令：\u001b[96maccelsearch  -zmax 0 -numharm 8 /home/pl/work/python-workspance/FAST_pulsar_search_pl/03_barydata/j1631_FAST_pulsar_search_pl_bary_DM34.20.fft\u001b[0m\n",
      "\u001b[94m运行时间： 0.0秒\u001b[0m\n",
      "运行命令：\u001b[96maccelsearch  -zmax 0 -numharm 8 /home/pl/work/python-workspance/FAST_pulsar_search_pl/03_barydata/j1631_FAST_pulsar_search_pl_bary_DM34.23.fft\u001b[0m\n",
      "\u001b[94m运行时间： 0.0秒\u001b[0m\n",
      "运行命令：\u001b[96maccelsearch  -zmax 0 -numharm 8 /home/pl/work/python-workspance/FAST_pulsar_search_pl/03_barydata/j1631_FAST_pulsar_search_pl_bary_DM34.22.fft\u001b[0m\n",
      "\u001b[94m运行时间： 0.0秒\u001b[0m\n",
      "程序运行路径为: /home/pl/work/python-workspance/FAST_pulsar_search_pl/03_barydata\n",
      "日志文件为：/home/pl/work/python-workspance/FAST_pulsar_search_pl/LOG/05_search/LOG_05-SEARCH-34.24.txt\n"
     ]
    },
    {
     "name": "stderr",
     "output_type": "stream",
     "text": [
      "zap-8核:  73%|███████▎  | 218/300 [01:12<00:29,  2.77cmd/s]"
     ]
    },
    {
     "name": "stdout",
     "output_type": "stream",
     "text": [
      "程序运行路径为: /home/pl/work/python-workspance/FAST_pulsar_search_pl/03_barydata\n",
      "日志文件为：/home/pl/work/python-workspance/FAST_pulsar_search_pl/LOG/05_search/LOG_05-SEARCH-34.25.txt\n",
      "程序运行路径为: /home/pl/work/python-workspance/FAST_pulsar_search_pl/03_barydata\n",
      "程序运行路径为: /home/pl/work/python-workspance/FAST_pulsar_search_pl/03_barydata\n",
      "日志文件为：/home/pl/work/python-workspance/FAST_pulsar_search_pl/LOG/05_search/LOG_05-SEARCH-34.27.txt\n",
      "日志文件为：/home/pl/work/python-workspance/FAST_pulsar_search_pl/LOG/05_search/LOG_05-SEARCH-34.26.txt\n",
      "程序运行路径为: /home/pl/work/python-workspance/FAST_pulsar_search_pl/03_barydata\n",
      "日志文件为：/home/pl/work/python-workspance/FAST_pulsar_search_pl/LOG/05_search/LOG_05-SEARCH-34.28.txt\n",
      "程序运行路径为: /home/pl/work/python-workspance/FAST_pulsar_search_pl/03_barydata\n",
      "日志文件为：/home/pl/work/python-workspance/FAST_pulsar_search_pl/LOG/05_search/LOG_05-SEARCH-34.29.txt\n"
     ]
    },
    {
     "name": "stderr",
     "output_type": "stream",
     "text": [
      "zap-8核:  74%|███████▍  | 222/300 [01:12<00:19,  3.94cmd/s]"
     ]
    },
    {
     "name": "stdout",
     "output_type": "stream",
     "text": [
      "程序运行路径为: /home/pl/work/python-workspance/FAST_pulsar_search_pl/03_barydata\n",
      "日志文件为：/home/pl/work/python-workspance/FAST_pulsar_search_pl/LOG/05_search/LOG_05-SEARCH-34.30.txt\n",
      "程序运行路径为: /home/pl/work/python-workspance/FAST_pulsar_search_pl/03_barydata\n",
      "日志文件为：/home/pl/work/python-workspance/FAST_pulsar_search_pl/LOG/05_search/LOG_05-SEARCH-34.31.txt\n",
      "运行命令：\u001b[96maccelsearch  -zmax 0 -numharm 8 /home/pl/work/python-workspance/FAST_pulsar_search_pl/03_barydata/j1631_FAST_pulsar_search_pl_bary_DM34.24.fft\u001b[0m\n",
      "\u001b[94m运行时间： 0.0秒\u001b[0m\n",
      "运行命令：\u001b[96maccelsearch  -zmax 0 -numharm 8 /home/pl/work/python-workspance/FAST_pulsar_search_pl/03_barydata/j1631_FAST_pulsar_search_pl_bary_DM34.25.fft\u001b[0m\n",
      "\u001b[94m运行时间： 0.0秒\u001b[0m\n",
      "运行命令：\u001b[96maccelsearch  -zmax 0 -numharm 8 /home/pl/work/python-workspance/FAST_pulsar_search_pl/03_barydata/j1631_FAST_pulsar_search_pl_bary_DM34.28.fft\u001b[0m\n",
      "\u001b[94m运行时间： 0.0秒\u001b[0m\n",
      "运行命令：\u001b[96maccelsearch  -zmax 0 -numharm 8 /home/pl/work/python-workspance/FAST_pulsar_search_pl/03_barydata/j1631_FAST_pulsar_search_pl_bary_DM34.27.fft\u001b[0m\n",
      "\u001b[94m运行时间： 0.0秒\u001b[0m\n",
      "运行命令：\u001b[96maccelsearch  -zmax 0 -numharm 8 /home/pl/work/python-workspance/FAST_pulsar_search_pl/03_barydata/j1631_FAST_pulsar_search_pl_bary_DM34.26.fft\u001b[0m\n",
      "\u001b[94m运行时间： 0.0秒\u001b[0m\n",
      "运行命令：\u001b[96maccelsearch  -zmax 0 -numharm 8 /home/pl/work/python-workspance/FAST_pulsar_search_pl/03_barydata/j1631_FAST_pulsar_search_pl_bary_DM34.29.fft\u001b[0m\n",
      "运行命令：\u001b[96maccelsearch  -zmax 0 -numharm 8 /home/pl/work/python-workspance/FAST_pulsar_search_pl/03_barydata/j1631_FAST_pulsar_search_pl_bary_DM34.30.fft\u001b[0m\n",
      "\u001b[94m运行时间： 0.0秒\u001b[0m\n",
      "\u001b[94m运行时间： 0.0秒\u001b[0m\n",
      "运行命令：\u001b[96maccelsearch  -zmax 0 -numharm 8 /home/pl/work/python-workspance/FAST_pulsar_search_pl/03_barydata/j1631_FAST_pulsar_search_pl_bary_DM34.31.fft\u001b[0m\n",
      "\u001b[94m运行时间： 0.0秒\u001b[0m\n"
     ]
    },
    {
     "name": "stderr",
     "output_type": "stream",
     "text": [
      "zap-8核:  75%|███████▌  | 225/300 [01:14<00:28,  2.66cmd/s]"
     ]
    },
    {
     "name": "stdout",
     "output_type": "stream",
     "text": [
      "程序运行路径为: /home/pl/work/python-workspance/FAST_pulsar_search_pl/03_barydata\n",
      "日志文件为：/home/pl/work/python-workspance/FAST_pulsar_search_pl/LOG/05_search/LOG_05-SEARCH-34.32.txt\n",
      "程序运行路径为: /home/pl/work/python-workspance/FAST_pulsar_search_pl/03_barydata\n",
      "日志文件为：/home/pl/work/python-workspance/FAST_pulsar_search_pl/LOG/05_search/LOG_05-SEARCH-34.33.txt\n"
     ]
    },
    {
     "name": "stderr",
     "output_type": "stream",
     "text": [
      "zap-8核:  76%|███████▌  | 227/300 [01:14<00:22,  3.19cmd/s]"
     ]
    },
    {
     "name": "stdout",
     "output_type": "stream",
     "text": [
      "程序运行路径为: /home/pl/work/python-workspance/FAST_pulsar_search_pl/03_barydata\n",
      "日志文件为：/home/pl/work/python-workspance/FAST_pulsar_search_pl/LOG/05_search/LOG_05-SEARCH-34.34.txt\n",
      "程序运行路径为: /home/pl/work/python-workspance/FAST_pulsar_search_pl/03_barydata\n",
      "日志文件为：/home/pl/work/python-workspance/FAST_pulsar_search_pl/LOG/05_search/LOG_05-SEARCH-34.35.txt\n",
      "程序运行路径为: /home/pl/work/python-workspance/FAST_pulsar_search_pl/03_barydata\n",
      "日志文件为：/home/pl/work/python-workspance/FAST_pulsar_search_pl/LOG/05_search/LOG_05-SEARCH-34.36.txt\n",
      "程序运行路径为: /home/pl/work/python-workspance/FAST_pulsar_search_pl/03_barydata\n",
      "日志文件为：/home/pl/work/python-workspance/FAST_pulsar_search_pl/LOG/05_search/LOG_05-SEARCH-34.37.txt\n",
      "程序运行路径为: /home/pl/work/python-workspance/FAST_pulsar_search_pl/03_barydata\n",
      "日志文件为：/home/pl/work/python-workspance/FAST_pulsar_search_pl/LOG/05_search/LOG_05-SEARCH-34.38.txt\n"
     ]
    },
    {
     "name": "stderr",
     "output_type": "stream",
     "text": [
      "zap-8核:  77%|███████▋  | 232/300 [01:14<00:13,  5.17cmd/s]"
     ]
    },
    {
     "name": "stdout",
     "output_type": "stream",
     "text": [
      "程序运行路径为: /home/pl/work/python-workspance/FAST_pulsar_search_pl/03_barydata\n",
      "日志文件为：/home/pl/work/python-workspance/FAST_pulsar_search_pl/LOG/05_search/LOG_05-SEARCH-34.39.txt\n",
      "运行命令：\u001b[96maccelsearch  -zmax 0 -numharm 8 /home/pl/work/python-workspance/FAST_pulsar_search_pl/03_barydata/j1631_FAST_pulsar_search_pl_bary_DM34.32.fft\u001b[0m\n",
      "\u001b[94m运行时间： 0.0秒\u001b[0m\n",
      "运行命令：\u001b[96maccelsearch  -zmax 0 -numharm 8 /home/pl/work/python-workspance/FAST_pulsar_search_pl/03_barydata/j1631_FAST_pulsar_search_pl_bary_DM34.34.fft\u001b[0m\n",
      "\u001b[94m运行时间： 0.0秒\u001b[0m\n",
      "运行命令：\u001b[96maccelsearch  -zmax 0 -numharm 8 /home/pl/work/python-workspance/FAST_pulsar_search_pl/03_barydata/j1631_FAST_pulsar_search_pl_bary_DM34.33.fft\u001b[0m\n",
      "\u001b[94m运行时间： 0.0秒\u001b[0m\n",
      "运行命令：\u001b[96maccelsearch  -zmax 0 -numharm 8 /home/pl/work/python-workspance/FAST_pulsar_search_pl/03_barydata/j1631_FAST_pulsar_search_pl_bary_DM34.35.fft\u001b[0m\n",
      "\u001b[94m运行时间： 0.0秒\u001b[0m\n",
      "运行命令：\u001b[96maccelsearch  -zmax 0 -numharm 8 /home/pl/work/python-workspance/FAST_pulsar_search_pl/03_barydata/j1631_FAST_pulsar_search_pl_bary_DM34.36.fft\u001b[0m\n",
      "\u001b[94m运行时间： 0.0秒\u001b[0m\n",
      "运行命令：\u001b[96maccelsearch  -zmax 0 -numharm 8 /home/pl/work/python-workspance/FAST_pulsar_search_pl/03_barydata/j1631_FAST_pulsar_search_pl_bary_DM34.38.fft\u001b[0m\n",
      "\u001b[94m运行时间： 0.0秒\u001b[0m\n",
      "运行命令：\u001b[96maccelsearch  -zmax 0 -numharm 8 /home/pl/work/python-workspance/FAST_pulsar_search_pl/03_barydata/j1631_FAST_pulsar_search_pl_bary_DM34.39.fft\u001b[0m\n",
      "\u001b[94m运行时间： 0.0秒\u001b[0m\n",
      "运行命令：\u001b[96maccelsearch  -zmax 0 -numharm 8 /home/pl/work/python-workspance/FAST_pulsar_search_pl/03_barydata/j1631_FAST_pulsar_search_pl_bary_DM34.37.fft\u001b[0m\n",
      "\u001b[94m运行时间： 0.0秒\u001b[0m\n",
      "程序运行路径为: /home/pl/work/python-workspance/FAST_pulsar_search_pl/03_barydata\n",
      "日志文件为：/home/pl/work/python-workspance/FAST_pulsar_search_pl/LOG/05_search/LOG_05-SEARCH-34.40.txt\n",
      "程序运行路径为: /home/pl/work/python-workspance/FAST_pulsar_search_pl/03_barydata\n",
      "日志文件为：/home/pl/work/python-workspance/FAST_pulsar_search_pl/LOG/05_search/LOG_05-SEARCH-34.41.txt\n"
     ]
    },
    {
     "name": "stderr",
     "output_type": "stream",
     "text": [
      "zap-8核:  78%|███████▊  | 235/300 [01:17<00:21,  2.96cmd/s]"
     ]
    },
    {
     "name": "stdout",
     "output_type": "stream",
     "text": [
      "程序运行路径为: /home/pl/work/python-workspance/FAST_pulsar_search_pl/03_barydata\n",
      "日志文件为：/home/pl/work/python-workspance/FAST_pulsar_search_pl/LOG/05_search/LOG_05-SEARCH-34.42.txt\n",
      "程序运行路径为: /home/pl/work/python-workspance/FAST_pulsar_search_pl/03_barydata\n",
      "日志文件为：/home/pl/work/python-workspance/FAST_pulsar_search_pl/LOG/05_search/LOG_05-SEARCH-34.43.txt\n",
      "程序运行路径为: /home/pl/work/python-workspance/FAST_pulsar_search_pl/03_barydata\n",
      "日志文件为：/home/pl/work/python-workspance/FAST_pulsar_search_pl/LOG/05_search/LOG_05-SEARCH-34.44.txt\n",
      "程序运行路径为: /home/pl/work/python-workspance/FAST_pulsar_search_pl/03_barydata\n",
      "日志文件为：/home/pl/work/python-workspance/FAST_pulsar_search_pl/LOG/05_search/LOG_05-SEARCH-34.45.txt\n"
     ]
    },
    {
     "name": "stderr",
     "output_type": "stream",
     "text": [
      "zap-8核:  80%|███████▉  | 239/300 [01:17<00:14,  4.27cmd/s]"
     ]
    },
    {
     "name": "stdout",
     "output_type": "stream",
     "text": [
      "程序运行路径为: /home/pl/work/python-workspance/FAST_pulsar_search_pl/03_barydata\n",
      "日志文件为：/home/pl/work/python-workspance/FAST_pulsar_search_pl/LOG/05_search/LOG_05-SEARCH-34.46.txt\n",
      "程序运行路径为: /home/pl/work/python-workspance/FAST_pulsar_search_pl/03_barydata\n",
      "日志文件为：/home/pl/work/python-workspance/FAST_pulsar_search_pl/LOG/05_search/LOG_05-SEARCH-34.47.txt\n",
      "运行命令：\u001b[96maccelsearch  -zmax 0 -numharm 8 /home/pl/work/python-workspance/FAST_pulsar_search_pl/03_barydata/j1631_FAST_pulsar_search_pl_bary_DM34.40.fft\u001b[0m\n",
      "\u001b[94m运行时间： 0.0秒\u001b[0m\n",
      "运行命令：\u001b[96maccelsearch  -zmax 0 -numharm 8 /home/pl/work/python-workspance/FAST_pulsar_search_pl/03_barydata/j1631_FAST_pulsar_search_pl_bary_DM34.41.fft\u001b[0m\n",
      "\u001b[94m运行时间： 0.0秒\u001b[0m\n",
      "运行命令：\u001b[96maccelsearch  -zmax 0 -numharm 8 /home/pl/work/python-workspance/FAST_pulsar_search_pl/03_barydata/j1631_FAST_pulsar_search_pl_bary_DM34.42.fft\u001b[0m\n",
      "\u001b[94m运行时间： 0.0秒\u001b[0m\n",
      "运行命令：\u001b[96maccelsearch  -zmax 0 -numharm 8 /home/pl/work/python-workspance/FAST_pulsar_search_pl/03_barydata/j1631_FAST_pulsar_search_pl_bary_DM34.43.fft\u001b[0m\n",
      "\u001b[94m运行时间： 0.0秒\u001b[0m\n",
      "运行命令：\u001b[96maccelsearch  -zmax 0 -numharm 8 /home/pl/work/python-workspance/FAST_pulsar_search_pl/03_barydata/j1631_FAST_pulsar_search_pl_bary_DM34.44.fft\u001b[0m\n",
      "\u001b[94m运行时间： 0.0秒\u001b[0m\n",
      "运行命令：\u001b[96maccelsearch  -zmax 0 -numharm 8 /home/pl/work/python-workspance/FAST_pulsar_search_pl/03_barydata/j1631_FAST_pulsar_search_pl_bary_DM34.45.fft\u001b[0m\n",
      "\u001b[94m运行时间： 0.0秒\u001b[0m\n",
      "运行命令：\u001b[96maccelsearch  -zmax 0 -numharm 8 /home/pl/work/python-workspance/FAST_pulsar_search_pl/03_barydata/j1631_FAST_pulsar_search_pl_bary_DM34.47.fft\u001b[0m\n",
      "\u001b[94m运行时间： 0.0秒\u001b[0m\n",
      "运行命令：\u001b[96maccelsearch  -zmax 0 -numharm 8 /home/pl/work/python-workspance/FAST_pulsar_search_pl/03_barydata/j1631_FAST_pulsar_search_pl_bary_DM34.46.fft\u001b[0m\n",
      "\u001b[94m运行时间： 0.0秒\u001b[0m\n",
      "程序运行路径为: /home/pl/work/python-workspance/FAST_pulsar_search_pl/03_barydata\n",
      "日志文件为：/home/pl/work/python-workspance/FAST_pulsar_search_pl/LOG/05_search/LOG_05-SEARCH-34.48.txt\n"
     ]
    },
    {
     "name": "stderr",
     "output_type": "stream",
     "text": [
      "zap-8核:  81%|████████  | 242/300 [01:19<00:21,  2.72cmd/s]"
     ]
    },
    {
     "name": "stdout",
     "output_type": "stream",
     "text": [
      "程序运行路径为: /home/pl/work/python-workspance/FAST_pulsar_search_pl/03_barydata\n",
      "日志文件为：/home/pl/work/python-workspance/FAST_pulsar_search_pl/LOG/05_search/LOG_05-SEARCH-34.49.txt\n",
      "程序运行路径为: /home/pl/work/python-workspance/FAST_pulsar_search_pl/03_barydata\n",
      "日志文件为：/home/pl/work/python-workspance/FAST_pulsar_search_pl/LOG/05_search/LOG_05-SEARCH-34.50.txt\n",
      "程序运行路径为: /home/pl/work/python-workspance/FAST_pulsar_search_pl/03_barydata\n",
      "日志文件为：/home/pl/work/python-workspance/FAST_pulsar_search_pl/LOG/05_search/LOG_05-SEARCH-34.51.txt\n",
      "程序运行路径为: /home/pl/work/python-workspance/FAST_pulsar_search_pl/03_barydata\n",
      "日志文件为：/home/pl/work/python-workspance/FAST_pulsar_search_pl/LOG/05_search/LOG_05-SEARCH-34.52.txt\n",
      "程序运行路径为: /home/pl/work/python-workspance/FAST_pulsar_search_pl/03_barydata\n",
      "日志文件为：/home/pl/work/python-workspance/FAST_pulsar_search_pl/LOG/05_search/LOG_05-SEARCH-34.53.txt\n"
     ]
    },
    {
     "name": "stderr",
     "output_type": "stream",
     "text": [
      "zap-8核:  82%|████████▏ | 247/300 [01:19<00:12,  4.24cmd/s]"
     ]
    },
    {
     "name": "stdout",
     "output_type": "stream",
     "text": [
      "程序运行路径为: /home/pl/work/python-workspance/FAST_pulsar_search_pl/03_barydata\n",
      "日志文件为：/home/pl/work/python-workspance/FAST_pulsar_search_pl/LOG/05_search/LOG_05-SEARCH-34.54.txt\n",
      "程序运行路径为: /home/pl/work/python-workspance/FAST_pulsar_search_pl/03_barydata\n",
      "日志文件为：/home/pl/work/python-workspance/FAST_pulsar_search_pl/LOG/05_search/LOG_05-SEARCH-34.55.txt\n",
      "运行命令：\u001b[96maccelsearch  -zmax 0 -numharm 8 /home/pl/work/python-workspance/FAST_pulsar_search_pl/03_barydata/j1631_FAST_pulsar_search_pl_bary_DM34.48.fft\u001b[0m\n",
      "\u001b[94m运行时间： 0.0秒\u001b[0m\n",
      "运行命令：\u001b[96maccelsearch  -zmax 0 -numharm 8 /home/pl/work/python-workspance/FAST_pulsar_search_pl/03_barydata/j1631_FAST_pulsar_search_pl_bary_DM34.49.fft\u001b[0m\n",
      "运行命令：\u001b[96maccelsearch  -zmax 0 -numharm 8 /home/pl/work/python-workspance/FAST_pulsar_search_pl/03_barydata/j1631_FAST_pulsar_search_pl_bary_DM34.52.fft\u001b[0m\n",
      "运行命令：\u001b[96maccelsearch  -zmax 0 -numharm 8 /home/pl/work/python-workspance/FAST_pulsar_search_pl/03_barydata/j1631_FAST_pulsar_search_pl_bary_DM34.50.fft\u001b[0m\n",
      "\u001b[94m运行时间： 0.0秒\u001b[0m\n",
      "\u001b[94m运行时间： 0.0秒\u001b[0m\n",
      "\u001b[94m运行时间： 0.0秒\u001b[0m\n",
      "运行命令：\u001b[96maccelsearch  -zmax 0 -numharm 8 /home/pl/work/python-workspance/FAST_pulsar_search_pl/03_barydata/j1631_FAST_pulsar_search_pl_bary_DM34.51.fft\u001b[0m\n",
      "\u001b[94m运行时间： 0.0秒\u001b[0m\n",
      "运行命令：\u001b[96maccelsearch  -zmax 0 -numharm 8 /home/pl/work/python-workspance/FAST_pulsar_search_pl/03_barydata/j1631_FAST_pulsar_search_pl_bary_DM34.53.fft\u001b[0m\n",
      "\u001b[94m运行时间： 0.0秒\u001b[0m\n",
      "运行命令：\u001b[96maccelsearch  -zmax 0 -numharm 8 /home/pl/work/python-workspance/FAST_pulsar_search_pl/03_barydata/j1631_FAST_pulsar_search_pl_bary_DM34.55.fft\u001b[0m\n",
      "\u001b[94m运行时间： 0.0秒\u001b[0m\n",
      "运行命令：\u001b[96maccelsearch  -zmax 0 -numharm 8 /home/pl/work/python-workspance/FAST_pulsar_search_pl/03_barydata/j1631_FAST_pulsar_search_pl_bary_DM34.54.fft\u001b[0m\n",
      "\u001b[94m运行时间： 0.0秒\u001b[0m\n",
      "程序运行路径为: /home/pl/work/python-workspance/FAST_pulsar_search_pl/03_barydata\n",
      "日志文件为：/home/pl/work/python-workspance/FAST_pulsar_search_pl/LOG/05_search/LOG_05-SEARCH-34.56.txt\n"
     ]
    },
    {
     "name": "stderr",
     "output_type": "stream",
     "text": [
      "zap-8核:  83%|████████▎ | 250/300 [01:21<00:18,  2.74cmd/s]"
     ]
    },
    {
     "name": "stdout",
     "output_type": "stream",
     "text": [
      "程序运行路径为: /home/pl/work/python-workspance/FAST_pulsar_search_pl/03_barydata\n",
      "程序运行路径为: /home/pl/work/python-workspance/FAST_pulsar_search_pl/03_barydata\n",
      "程序运行路径为: /home/pl/work/python-workspance/FAST_pulsar_search_pl/03_barydata\n",
      "日志文件为：/home/pl/work/python-workspance/FAST_pulsar_search_pl/LOG/05_search/LOG_05-SEARCH-34.59.txt\n",
      "日志文件为：/home/pl/work/python-workspance/FAST_pulsar_search_pl/LOG/05_search/LOG_05-SEARCH-34.57.txt\n",
      "日志文件为：/home/pl/work/python-workspance/FAST_pulsar_search_pl/LOG/05_search/LOG_05-SEARCH-34.58.txt\n",
      "程序运行路径为: /home/pl/work/python-workspance/FAST_pulsar_search_pl/03_barydata\n",
      "日志文件为：/home/pl/work/python-workspance/FAST_pulsar_search_pl/LOG/05_search/LOG_05-SEARCH-34.60.txt\n",
      "程序运行路径为: /home/pl/work/python-workspance/FAST_pulsar_search_pl/03_barydata\n",
      "日志文件为：/home/pl/work/python-workspance/FAST_pulsar_search_pl/LOG/05_search/LOG_05-SEARCH-34.61.txt\n",
      "程序运行路径为: /home/pl/work/python-workspance/FAST_pulsar_search_pl/03_barydata\n",
      "日志文件为：/home/pl/work/python-workspance/FAST_pulsar_search_pl/LOG/05_search/LOG_05-SEARCH-34.62.txt\n",
      "程序运行路径为: /home/pl/work/python-workspance/FAST_pulsar_search_pl/03_barydata\n",
      "日志文件为：/home/pl/work/python-workspance/FAST_pulsar_search_pl/LOG/05_search/LOG_05-SEARCH-34.63.txt\n",
      "运行命令：\u001b[96maccelsearch  -zmax 0 -numharm 8 /home/pl/work/python-workspance/FAST_pulsar_search_pl/03_barydata/j1631_FAST_pulsar_search_pl_bary_DM34.56.fft\u001b[0m\n",
      "\u001b[94m运行时间： 0.0秒\u001b[0m\n",
      "运行命令：\u001b[96maccelsearch  -zmax 0 -numharm 8 /home/pl/work/python-workspance/FAST_pulsar_search_pl/03_barydata/j1631_FAST_pulsar_search_pl_bary_DM34.60.fft\u001b[0m\n",
      "运行命令：\u001b[96maccelsearch  -zmax 0 -numharm 8 /home/pl/work/python-workspance/FAST_pulsar_search_pl/03_barydata/j1631_FAST_pulsar_search_pl_bary_DM34.58.fft\u001b[0m\n",
      "\u001b[94m运行时间： 0.0秒\u001b[0m\n",
      "\u001b[94m运行时间： 0.0秒\u001b[0m\n",
      "运行命令：\u001b[96maccelsearch  -zmax 0 -numharm 8 /home/pl/work/python-workspance/FAST_pulsar_search_pl/03_barydata/j1631_FAST_pulsar_search_pl_bary_DM34.57.fft\u001b[0m\n",
      "\u001b[94m运行时间： 0.0秒\u001b[0m\n",
      "运行命令：\u001b[96maccelsearch  -zmax 0 -numharm 8 /home/pl/work/python-workspance/FAST_pulsar_search_pl/03_barydata/j1631_FAST_pulsar_search_pl_bary_DM34.59.fft\u001b[0m\n",
      "\u001b[94m运行时间： 0.0秒\u001b[0m\n",
      "运行命令：\u001b[96maccelsearch  -zmax 0 -numharm 8 /home/pl/work/python-workspance/FAST_pulsar_search_pl/03_barydata/j1631_FAST_pulsar_search_pl_bary_DM34.62.fft\u001b[0m\n",
      "\u001b[94m运行时间： 0.0秒\u001b[0m\n",
      "运行命令：\u001b[96maccelsearch  -zmax 0 -numharm 8 /home/pl/work/python-workspance/FAST_pulsar_search_pl/03_barydata/j1631_FAST_pulsar_search_pl_bary_DM34.61.fft\u001b[0m\n",
      "运行命令：\u001b[96maccelsearch  -zmax 0 -numharm 8 /home/pl/work/python-workspance/FAST_pulsar_search_pl/03_barydata/j1631_FAST_pulsar_search_pl_bary_DM34.63.fft\u001b[0m\n",
      "\u001b[94m运行时间： 0.0秒\u001b[0m\n",
      "\u001b[94m运行时间： 0.0秒\u001b[0m\n"
     ]
    },
    {
     "name": "stderr",
     "output_type": "stream",
     "text": [
      "zap-8核:  86%|████████▌ | 257/300 [01:24<00:14,  2.90cmd/s]"
     ]
    },
    {
     "name": "stdout",
     "output_type": "stream",
     "text": [
      "程序运行路径为: /home/pl/work/python-workspance/FAST_pulsar_search_pl/03_barydata\n",
      "日志文件为：/home/pl/work/python-workspance/FAST_pulsar_search_pl/LOG/05_search/LOG_05-SEARCH-34.64.txt\n",
      "程序运行路径为: /home/pl/work/python-workspance/FAST_pulsar_search_pl/03_barydata\n",
      "程序运行路径为: /home/pl/work/python-workspance/FAST_pulsar_search_pl/03_barydata\n",
      "日志文件为：/home/pl/work/python-workspance/FAST_pulsar_search_pl/LOG/05_search/LOG_05-SEARCH-34.65.txt\n",
      "日志文件为：/home/pl/work/python-workspance/FAST_pulsar_search_pl/LOG/05_search/LOG_05-SEARCH-34.66.txt\n"
     ]
    },
    {
     "name": "stderr",
     "output_type": "stream",
     "text": [
      "zap-8核:  87%|████████▋ | 260/300 [01:24<00:11,  3.58cmd/s]"
     ]
    },
    {
     "name": "stdout",
     "output_type": "stream",
     "text": [
      "程序运行路径为: /home/pl/work/python-workspance/FAST_pulsar_search_pl/03_barydata\n",
      "日志文件为：/home/pl/work/python-workspance/FAST_pulsar_search_pl/LOG/05_search/LOG_05-SEARCH-34.67.txt\n",
      "程序运行路径为: /home/pl/work/python-workspance/FAST_pulsar_search_pl/03_barydata\n",
      "日志文件为：/home/pl/work/python-workspance/FAST_pulsar_search_pl/LOG/05_search/LOG_05-SEARCH-34.68.txt\n",
      "程序运行路径为: /home/pl/work/python-workspance/FAST_pulsar_search_pl/03_barydata\n",
      "日志文件为：/home/pl/work/python-workspance/FAST_pulsar_search_pl/LOG/05_search/LOG_05-SEARCH-34.69.txt\n",
      "程序运行路径为: /home/pl/work/python-workspance/FAST_pulsar_search_pl/03_barydata\n",
      "程序运行路径为: /home/pl/work/python-workspance/FAST_pulsar_search_pl/03_barydata\n",
      "日志文件为：/home/pl/work/python-workspance/FAST_pulsar_search_pl/LOG/05_search/LOG_05-SEARCH-34.70.txt\n",
      "日志文件为：/home/pl/work/python-workspance/FAST_pulsar_search_pl/LOG/05_search/LOG_05-SEARCH-34.71.txt\n",
      "运行命令：\u001b[96maccelsearch  -zmax 0 -numharm 8 /home/pl/work/python-workspance/FAST_pulsar_search_pl/03_barydata/j1631_FAST_pulsar_search_pl_bary_DM34.64.fft\u001b[0m\n",
      "\u001b[94m运行时间： 0.0秒\u001b[0m\n",
      "运行命令：\u001b[96maccelsearch  -zmax 0 -numharm 8 /home/pl/work/python-workspance/FAST_pulsar_search_pl/03_barydata/j1631_FAST_pulsar_search_pl_bary_DM34.65.fft\u001b[0m\n",
      "\u001b[94m运行时间： 0.0秒\u001b[0m\n",
      "运行命令：\u001b[96maccelsearch  -zmax 0 -numharm 8 /home/pl/work/python-workspance/FAST_pulsar_search_pl/03_barydata/j1631_FAST_pulsar_search_pl_bary_DM34.66.fft\u001b[0m\n",
      "\u001b[94m运行时间： 0.0秒\u001b[0m\n",
      "运行命令：\u001b[96maccelsearch  -zmax 0 -numharm 8 /home/pl/work/python-workspance/FAST_pulsar_search_pl/03_barydata/j1631_FAST_pulsar_search_pl_bary_DM34.67.fft\u001b[0m\n",
      "\u001b[94m运行时间： 0.0秒\u001b[0m\n",
      "运行命令：\u001b[96maccelsearch  -zmax 0 -numharm 8 /home/pl/work/python-workspance/FAST_pulsar_search_pl/03_barydata/j1631_FAST_pulsar_search_pl_bary_DM34.69.fft\u001b[0m\n",
      "\u001b[94m运行时间： 0.0秒\u001b[0m\n",
      "运行命令：\u001b[96maccelsearch  -zmax 0 -numharm 8 /home/pl/work/python-workspance/FAST_pulsar_search_pl/03_barydata/j1631_FAST_pulsar_search_pl_bary_DM34.71.fft\u001b[0m\n",
      "\u001b[94m运行时间： 0.0秒\u001b[0m\n",
      "运行命令：\u001b[96maccelsearch  -zmax 0 -numharm 8 /home/pl/work/python-workspance/FAST_pulsar_search_pl/03_barydata/j1631_FAST_pulsar_search_pl_bary_DM34.68.fft\u001b[0m\n",
      "\u001b[94m运行时间： 0.0秒\u001b[0m\n",
      "运行命令：\u001b[96maccelsearch  -zmax 0 -numharm 8 /home/pl/work/python-workspance/FAST_pulsar_search_pl/03_barydata/j1631_FAST_pulsar_search_pl_bary_DM34.70.fft\u001b[0m\n",
      "\u001b[94m运行时间： 0.0秒\u001b[0m\n"
     ]
    },
    {
     "name": "stderr",
     "output_type": "stream",
     "text": [
      "zap-8核:  88%|████████▊ | 265/300 [01:26<00:11,  3.00cmd/s]"
     ]
    },
    {
     "name": "stdout",
     "output_type": "stream",
     "text": [
      "程序运行路径为: /home/pl/work/python-workspance/FAST_pulsar_search_pl/03_barydata\n",
      "日志文件为：/home/pl/work/python-workspance/FAST_pulsar_search_pl/LOG/05_search/LOG_05-SEARCH-34.72.txt\n"
     ]
    },
    {
     "name": "stderr",
     "output_type": "stream",
     "text": [
      "zap-8核:  89%|████████▉ | 267/300 [01:26<00:09,  3.45cmd/s]"
     ]
    },
    {
     "name": "stdout",
     "output_type": "stream",
     "text": [
      "程序运行路径为: /home/pl/work/python-workspance/FAST_pulsar_search_pl/03_barydata\n",
      "程序运行路径为: /home/pl/work/python-workspance/FAST_pulsar_search_pl/03_barydata\n",
      "日志文件为：/home/pl/work/python-workspance/FAST_pulsar_search_pl/LOG/05_search/LOG_05-SEARCH-34.73.txt\n",
      "日志文件为：/home/pl/work/python-workspance/FAST_pulsar_search_pl/LOG/05_search/LOG_05-SEARCH-34.74.txt\n",
      "程序运行路径为: /home/pl/work/python-workspance/FAST_pulsar_search_pl/03_barydata\n",
      "日志文件为：/home/pl/work/python-workspance/FAST_pulsar_search_pl/LOG/05_search/LOG_05-SEARCH-34.75.txt\n",
      "程序运行路径为: /home/pl/work/python-workspance/FAST_pulsar_search_pl/03_barydata\n",
      "日志文件为：/home/pl/work/python-workspance/FAST_pulsar_search_pl/LOG/05_search/LOG_05-SEARCH-34.76.txt\n",
      "程序运行路径为: /home/pl/work/python-workspance/FAST_pulsar_search_pl/03_barydata\n",
      "日志文件为：/home/pl/work/python-workspance/FAST_pulsar_search_pl/LOG/05_search/LOG_05-SEARCH-34.77.txt\n",
      "程序运行路径为: /home/pl/work/python-workspance/FAST_pulsar_search_pl/03_barydata\n",
      "日志文件为：/home/pl/work/python-workspance/FAST_pulsar_search_pl/LOG/05_search/LOG_05-SEARCH-34.78.txt\n",
      "程序运行路径为: /home/pl/work/python-workspance/FAST_pulsar_search_pl/03_barydata\n",
      "日志文件为：/home/pl/work/python-workspance/FAST_pulsar_search_pl/LOG/05_search/LOG_05-SEARCH-34.79.txt\n",
      "运行命令：\u001b[96maccelsearch  -zmax 0 -numharm 8 /home/pl/work/python-workspance/FAST_pulsar_search_pl/03_barydata/j1631_FAST_pulsar_search_pl_bary_DM34.72.fft\u001b[0m\n",
      "\u001b[94m运行时间： 0.0秒\u001b[0m\n",
      "运行命令：\u001b[96maccelsearch  -zmax 0 -numharm 8 /home/pl/work/python-workspance/FAST_pulsar_search_pl/03_barydata/j1631_FAST_pulsar_search_pl_bary_DM34.74.fft\u001b[0m\n",
      "\u001b[94m运行时间： 0.0秒\u001b[0m\n",
      "运行命令：\u001b[96maccelsearch  -zmax 0 -numharm 8 /home/pl/work/python-workspance/FAST_pulsar_search_pl/03_barydata/j1631_FAST_pulsar_search_pl_bary_DM34.76.fft\u001b[0m\n",
      "\u001b[94m运行时间： 0.0秒\u001b[0m\n",
      "运行命令：\u001b[96maccelsearch  -zmax 0 -numharm 8 /home/pl/work/python-workspance/FAST_pulsar_search_pl/03_barydata/j1631_FAST_pulsar_search_pl_bary_DM34.75.fft\u001b[0m\n",
      "\u001b[94m运行时间： 0.0秒\u001b[0m\n",
      "运行命令：\u001b[96maccelsearch  -zmax 0 -numharm 8 /home/pl/work/python-workspance/FAST_pulsar_search_pl/03_barydata/j1631_FAST_pulsar_search_pl_bary_DM34.73.fft\u001b[0m\n",
      "\u001b[94m运行时间： 0.0秒\u001b[0m\n",
      "运行命令：\u001b[96maccelsearch  -zmax 0 -numharm 8 /home/pl/work/python-workspance/FAST_pulsar_search_pl/03_barydata/j1631_FAST_pulsar_search_pl_bary_DM34.77.fft\u001b[0m\n",
      "运行命令：\u001b[96maccelsearch  -zmax 0 -numharm 8 /home/pl/work/python-workspance/FAST_pulsar_search_pl/03_barydata/j1631_FAST_pulsar_search_pl_bary_DM34.78.fft\u001b[0m\n",
      "\u001b[94m运行时间： 0.0秒\u001b[0m\n",
      "\u001b[94m运行时间： 0.0秒\u001b[0m\n",
      "运行命令：\u001b[96maccelsearch  -zmax 0 -numharm 8 /home/pl/work/python-workspance/FAST_pulsar_search_pl/03_barydata/j1631_FAST_pulsar_search_pl_bary_DM34.79.fft\u001b[0m\n",
      "\u001b[94m运行时间： 0.0秒\u001b[0m\n"
     ]
    },
    {
     "name": "stderr",
     "output_type": "stream",
     "text": [
      "zap-8核:  91%|█████████ | 273/300 [01:28<00:08,  3.09cmd/s]"
     ]
    },
    {
     "name": "stdout",
     "output_type": "stream",
     "text": [
      "程序运行路径为: /home/pl/work/python-workspance/FAST_pulsar_search_pl/03_barydata\n",
      "日志文件为：/home/pl/work/python-workspance/FAST_pulsar_search_pl/LOG/05_search/LOG_05-SEARCH-34.80.txt\n"
     ]
    },
    {
     "name": "stderr",
     "output_type": "stream",
     "text": [
      "zap-8核:  91%|█████████▏| 274/300 [01:28<00:07,  3.29cmd/s]"
     ]
    },
    {
     "name": "stdout",
     "output_type": "stream",
     "text": [
      "程序运行路径为: /home/pl/work/python-workspance/FAST_pulsar_search_pl/03_barydata\n",
      "日志文件为：/home/pl/work/python-workspance/FAST_pulsar_search_pl/LOG/05_search/LOG_05-SEARCH-34.81.txt\n",
      "程序运行路径为: /home/pl/work/python-workspance/FAST_pulsar_search_pl/03_barydata\n",
      "日志文件为：/home/pl/work/python-workspance/FAST_pulsar_search_pl/LOG/05_search/LOG_05-SEARCH-34.82.txt\n",
      "程序运行路径为: /home/pl/work/python-workspance/FAST_pulsar_search_pl/03_barydata\n",
      "日志文件为：/home/pl/work/python-workspance/FAST_pulsar_search_pl/LOG/05_search/LOG_05-SEARCH-34.83.txt\n",
      "程序运行路径为: /home/pl/work/python-workspance/FAST_pulsar_search_pl/03_barydata\n",
      "日志文件为：/home/pl/work/python-workspance/FAST_pulsar_search_pl/LOG/05_search/LOG_05-SEARCH-34.84.txt\n",
      "程序运行路径为: /home/pl/work/python-workspance/FAST_pulsar_search_pl/03_barydata\n",
      "日志文件为：/home/pl/work/python-workspance/FAST_pulsar_search_pl/LOG/05_search/LOG_05-SEARCH-34.85.txt\n",
      "程序运行路径为: /home/pl/work/python-workspance/FAST_pulsar_search_pl/03_barydata\n",
      "日志文件为：/home/pl/work/python-workspance/FAST_pulsar_search_pl/LOG/05_search/LOG_05-SEARCH-34.86.txt\n",
      "程序运行路径为: /home/pl/work/python-workspance/FAST_pulsar_search_pl/03_barydata\n",
      "日志文件为：/home/pl/work/python-workspance/FAST_pulsar_search_pl/LOG/05_search/LOG_05-SEARCH-34.87.txt\n",
      "运行命令：\u001b[96maccelsearch  -zmax 0 -numharm 8 /home/pl/work/python-workspance/FAST_pulsar_search_pl/03_barydata/j1631_FAST_pulsar_search_pl_bary_DM34.80.fft\u001b[0m\n",
      "\u001b[94m运行时间： 0.0秒\u001b[0m\n",
      "运行命令：\u001b[96maccelsearch  -zmax 0 -numharm 8 /home/pl/work/python-workspance/FAST_pulsar_search_pl/03_barydata/j1631_FAST_pulsar_search_pl_bary_DM34.82.fft\u001b[0m\n",
      "运行命令：\u001b[96maccelsearch  -zmax 0 -numharm 8 /home/pl/work/python-workspance/FAST_pulsar_search_pl/03_barydata/j1631_FAST_pulsar_search_pl_bary_DM34.84.fft\u001b[0m\n",
      "\u001b[94m运行时间： 0.0秒\u001b[0m\n",
      "\u001b[94m运行时间： 0.0秒\u001b[0m\n",
      "运行命令：\u001b[96maccelsearch  -zmax 0 -numharm 8 /home/pl/work/python-workspance/FAST_pulsar_search_pl/03_barydata/j1631_FAST_pulsar_search_pl_bary_DM34.83.fft\u001b[0m\n",
      "\u001b[94m运行时间： 0.0秒\u001b[0m\n",
      "运行命令：\u001b[96maccelsearch  -zmax 0 -numharm 8 /home/pl/work/python-workspance/FAST_pulsar_search_pl/03_barydata/j1631_FAST_pulsar_search_pl_bary_DM34.85.fft\u001b[0m\n",
      "\u001b[94m运行时间： 0.0秒\u001b[0m\n",
      "运行命令：\u001b[96maccelsearch  -zmax 0 -numharm 8 /home/pl/work/python-workspance/FAST_pulsar_search_pl/03_barydata/j1631_FAST_pulsar_search_pl_bary_DM34.81.fft\u001b[0m\n",
      "\u001b[94m运行时间： 0.0秒\u001b[0m\n",
      "运行命令：\u001b[96maccelsearch  -zmax 0 -numharm 8 /home/pl/work/python-workspance/FAST_pulsar_search_pl/03_barydata/j1631_FAST_pulsar_search_pl_bary_DM34.86.fft\u001b[0m\n",
      "\u001b[94m运行时间： 0.0秒\u001b[0m\n",
      "运行命令：\u001b[96maccelsearch  -zmax 0 -numharm 8 /home/pl/work/python-workspance/FAST_pulsar_search_pl/03_barydata/j1631_FAST_pulsar_search_pl_bary_DM34.87.fft\u001b[0m\n",
      "\u001b[94m运行时间： 0.0秒\u001b[0m\n"
     ]
    },
    {
     "name": "stderr",
     "output_type": "stream",
     "text": [
      "zap-8核:  94%|█████████▎| 281/300 [01:31<00:05,  3.26cmd/s]"
     ]
    },
    {
     "name": "stdout",
     "output_type": "stream",
     "text": [
      "程序运行路径为: /home/pl/work/python-workspance/FAST_pulsar_search_pl/03_barydata\n",
      "日志文件为：/home/pl/work/python-workspance/FAST_pulsar_search_pl/LOG/05_search/LOG_05-SEARCH-34.88.txt\n"
     ]
    },
    {
     "name": "stderr",
     "output_type": "stream",
     "text": [
      "zap-8核:  94%|█████████▍| 282/300 [01:31<00:05,  3.37cmd/s]"
     ]
    },
    {
     "name": "stdout",
     "output_type": "stream",
     "text": [
      "程序运行路径为: /home/pl/work/python-workspance/FAST_pulsar_search_pl/03_barydata\n",
      "程序运行路径为: /home/pl/work/python-workspance/FAST_pulsar_search_pl/03_barydata\n",
      "日志文件为：/home/pl/work/python-workspance/FAST_pulsar_search_pl/LOG/05_search/LOG_05-SEARCH-34.89.txt\n",
      "日志文件为：/home/pl/work/python-workspance/FAST_pulsar_search_pl/LOG/05_search/LOG_05-SEARCH-34.90.txt\n",
      "程序运行路径为: /home/pl/work/python-workspance/FAST_pulsar_search_pl/03_barydata\n",
      "程序运行路径为: /home/pl/work/python-workspance/FAST_pulsar_search_pl/03_barydata\n",
      "程序运行路径为: /home/pl/work/python-workspance/FAST_pulsar_search_pl/03_barydata\n",
      "日志文件为：/home/pl/work/python-workspance/FAST_pulsar_search_pl/LOG/05_search/LOG_05-SEARCH-34.93.txt\n",
      "日志文件为：/home/pl/work/python-workspance/FAST_pulsar_search_pl/LOG/05_search/LOG_05-SEARCH-34.91.txt\n",
      "日志文件为：/home/pl/work/python-workspance/FAST_pulsar_search_pl/LOG/05_search/LOG_05-SEARCH-34.92.txt\n",
      "程序运行路径为: /home/pl/work/python-workspance/FAST_pulsar_search_pl/03_barydata\n",
      "日志文件为：/home/pl/work/python-workspance/FAST_pulsar_search_pl/LOG/05_search/LOG_05-SEARCH-34.94.txt\n"
     ]
    },
    {
     "name": "stderr",
     "output_type": "stream",
     "text": [
      "zap-8核:  96%|█████████▌| 288/300 [01:31<00:02,  5.66cmd/s]"
     ]
    },
    {
     "name": "stdout",
     "output_type": "stream",
     "text": [
      "程序运行路径为: /home/pl/work/python-workspance/FAST_pulsar_search_pl/03_barydata\n",
      "日志文件为：/home/pl/work/python-workspance/FAST_pulsar_search_pl/LOG/05_search/LOG_05-SEARCH-34.95.txt\n",
      "运行命令：\u001b[96maccelsearch  -zmax 0 -numharm 8 /home/pl/work/python-workspance/FAST_pulsar_search_pl/03_barydata/j1631_FAST_pulsar_search_pl_bary_DM34.88.fft\u001b[0m\n",
      "\u001b[94m运行时间： 0.0秒\u001b[0m\n",
      "运行命令：\u001b[96maccelsearch  -zmax 0 -numharm 8 /home/pl/work/python-workspance/FAST_pulsar_search_pl/03_barydata/j1631_FAST_pulsar_search_pl_bary_DM34.90.fft\u001b[0m\n",
      "\u001b[94m运行时间： 0.0秒\u001b[0m\n",
      "运行命令：\u001b[96maccelsearch  -zmax 0 -numharm 8 /home/pl/work/python-workspance/FAST_pulsar_search_pl/03_barydata/j1631_FAST_pulsar_search_pl_bary_DM34.89.fft\u001b[0m\n",
      "\u001b[94m运行时间： 0.0秒\u001b[0m\n",
      "运行命令：\u001b[96maccelsearch  -zmax 0 -numharm 8 /home/pl/work/python-workspance/FAST_pulsar_search_pl/03_barydata/j1631_FAST_pulsar_search_pl_bary_DM34.92.fft\u001b[0m\n",
      "\u001b[94m运行时间： 0.0秒\u001b[0m\n",
      "运行命令：\u001b[96maccelsearch  -zmax 0 -numharm 8 /home/pl/work/python-workspance/FAST_pulsar_search_pl/03_barydata/j1631_FAST_pulsar_search_pl_bary_DM34.93.fft\u001b[0m\n",
      "\u001b[94m运行时间： 0.0秒\u001b[0m\n",
      "运行命令：\u001b[96maccelsearch  -zmax 0 -numharm 8 /home/pl/work/python-workspance/FAST_pulsar_search_pl/03_barydata/j1631_FAST_pulsar_search_pl_bary_DM34.91.fft\u001b[0m\n",
      "\u001b[94m运行时间： 0.0秒\u001b[0m\n",
      "运行命令：\u001b[96maccelsearch  -zmax 0 -numharm 8 /home/pl/work/python-workspance/FAST_pulsar_search_pl/03_barydata/j1631_FAST_pulsar_search_pl_bary_DM34.94.fft\u001b[0m\n",
      "\u001b[94m运行时间： 0.0秒\u001b[0m\n",
      "运行命令：\u001b[96maccelsearch  -zmax 0 -numharm 8 /home/pl/work/python-workspance/FAST_pulsar_search_pl/03_barydata/j1631_FAST_pulsar_search_pl_bary_DM34.95.fft\u001b[0m\n",
      "\u001b[94m运行时间： 0.0秒\u001b[0m\n",
      "程序运行路径为: /home/pl/work/python-workspance/FAST_pulsar_search_pl/03_barydata\n",
      "日志文件为：/home/pl/work/python-workspance/FAST_pulsar_search_pl/LOG/05_search/LOG_05-SEARCH-34.96.txt\n",
      "程序运行路径为: /home/pl/work/python-workspance/FAST_pulsar_search_pl/03_barydata\n",
      "日志文件为：/home/pl/work/python-workspance/FAST_pulsar_search_pl/LOG/05_search/LOG_05-SEARCH-34.97.txt\n"
     ]
    },
    {
     "name": "stderr",
     "output_type": "stream",
     "text": [
      "zap-8核:  97%|█████████▋| 291/300 [01:33<00:02,  3.21cmd/s]"
     ]
    },
    {
     "name": "stdout",
     "output_type": "stream",
     "text": [
      "程序运行路径为: /home/pl/work/python-workspance/FAST_pulsar_search_pl/03_barydata\n",
      "日志文件为：/home/pl/work/python-workspance/FAST_pulsar_search_pl/LOG/05_search/LOG_05-SEARCH-34.98.txt\n",
      "程序运行路径为: /home/pl/work/python-workspance/FAST_pulsar_search_pl/03_barydata\n",
      "日志文件为：/home/pl/work/python-workspance/FAST_pulsar_search_pl/LOG/05_search/LOG_05-SEARCH-34.99.txt\n",
      "运行命令：\u001b[96maccelsearch  -zmax 0 -numharm 8 /home/pl/work/python-workspance/FAST_pulsar_search_pl/03_barydata/j1631_FAST_pulsar_search_pl_bary_DM34.96.fft\u001b[0m\n",
      "\u001b[94m运行时间： 0.0秒\u001b[0m\n",
      "运行命令：\u001b[96maccelsearch  -zmax 0 -numharm 8 /home/pl/work/python-workspance/FAST_pulsar_search_pl/03_barydata/j1631_FAST_pulsar_search_pl_bary_DM34.97.fft\u001b[0m\n",
      "\u001b[94m运行时间： 0.0秒\u001b[0m\n",
      "运行命令：\u001b[96maccelsearch  -zmax 0 -numharm 8 /home/pl/work/python-workspance/FAST_pulsar_search_pl/03_barydata/j1631_FAST_pulsar_search_pl_bary_DM34.98.fft\u001b[0m\n",
      "\u001b[94m运行时间： 0.0秒\u001b[0m\n",
      "运行命令：\u001b[96maccelsearch  -zmax 0 -numharm 8 /home/pl/work/python-workspance/FAST_pulsar_search_pl/03_barydata/j1631_FAST_pulsar_search_pl_bary_DM34.99.fft\u001b[0m\n",
      "\u001b[94m运行时间： 0.0秒\u001b[0m\n"
     ]
    },
    {
     "name": "stderr",
     "output_type": "stream",
     "text": [
      "zap-8核: 100%|██████████| 300/300 [01:35<00:00,  3.13cmd/s]\n"
     ]
    }
   ],
   "source": [
    "#周期搜寻(耗时最久的部分)\n",
    "flag_use_cuda = config.flag_use_cuda\n",
    "list_cuda_ids = config.list_cuda_ids\n",
    "other_flags_accelsearch = config.accelsearch_flags\n",
    "\n",
    "presto_env_accelsearch_zmax_0 = os.environ['PRESTO']\n",
    "presto_env_accelsearch_zmax_any = os.environ['PRESTO']\n",
    "\n",
    "dict_env_zmax_0 = {'PRESTO': presto_env_accelsearch_zmax_0, 'PATH': f\"{presto_env_accelsearch_zmax_0}/bin:{os.environ['PATH']}\", 'LD_LIBRARY_PATH': f\"{presto_env_accelsearch_zmax_0}/lib:{os.environ['LD_LIBRARY_PATH']}\"}\n",
    "dict_env_zmax_any = {'PRESTO': presto_env_accelsearch_zmax_any, 'PATH': f\"{presto_env_accelsearch_zmax_any}/bin:{os.environ['PATH']}\", 'LD_LIBRARY_PATH': f\"{presto_env_accelsearch_zmax_any}/lib:{os.environ['LD_LIBRARY_PATH']}\"}\n",
    "\n",
    "if dict_flag_steps['flag_step_periodicity_search'] == 1:  \n",
    "\n",
    "    ifok_dir05 = os.path.join(ifok_dir,'05_search')\n",
    "    makedir(ifok_dir05)\n",
    "    LOG_dir05 = os.path.join(LOG_dir,'05_search')\n",
    "    makedir(LOG_dir05)\n",
    "    print_log(f'''\\n ==================== 加速搜寻：zmax = {list_zmax}  ====================== \\n''',color=colors.HEADER)                                                     \n",
    "\n",
    "    dat_names = sorted([os.path.abspath(os.path.join(dir_dedispersion, file)) for file in os.listdir(dir_dedispersion) if file.endswith('.dat')])\n",
    "    fft_files = [file.replace(\".dat\", \".fft\") for file in dat_names]\n",
    " \n",
    "    for z in list_zmax:\n",
    "            if int(z) == 0:\n",
    "                    dict_env = copy.deepcopy(dict_env_zmax_0)\n",
    "                    flag_cuda = \"\"\n",
    "            else:\n",
    "                    if flag_use_cuda == 1:\n",
    "                            dict_env = copy.deepcopy(dict_env_zmax_any)\n",
    "                            gpu_id = random.choice(list_cuda_ids)\n",
    "                            flag_cuda = \" -cuda %d \" % (gpu_id)\n",
    "                    else:\n",
    "                            dict_env = copy.deepcopy(dict_env_zmax_0)\n",
    "                            flag_cuda = \"\"\n",
    "            \n",
    "            accelsearch_flags = other_flags_accelsearch + flag_cuda  # + \" -flo %s -fhi %s\" % (frequency_to_search_min, frequency_to_search_max) \n",
    "            search_cmd_list,ifok_list,log_list = accelsearch2cmd(fft_files,ifok_dir05, LOG_dir05, numharm=numharm, zmax=z, other_flags=accelsearch_flags)\n",
    "\n",
    "            print_log(f'并行周期搜寻:核数{n_pool}/{cpu_count()}',masks=str(n_pool),color=colors.HEADER)\n",
    "            pool(n_pool,'zap',search_cmd_list,ifok_list,log_list,work_dir = dir_dedispersion)\n",
    "\n",
    "            for fft_path in fft_files:\n",
    "                if not check_accelsearch_result(fft_path, int(z),verbosity_level=0):  #打印详细信息verbosity_level=2\n",
    "                    inffile_empty = fft_path.replace(\".fft\", \"_ACCEL_%d_empty\" % (z))\n",
    "                    with open(inffile_empty, \"w\") as file_empty:\n",
    "                        print_log(\"警告：accelsearch 没有产生任何候选结果！写入文件 %s 以标记此情况...\" % (inffile_empty),color=colors.WARNING,mode='p')\n",
    "                        file_empty.write(\"ACCELSEARCH DID NOT PRODUCE ANY CANDIDATES!\")\n",
    "\n",
    "\n"
   ]
  },
  {
   "cell_type": "code",
   "execution_count": 18,
   "metadata": {},
   "outputs": [
    {
     "name": "stdout",
     "output_type": "stream",
     "text": [
      "\u001b[95m\n",
      " ==================== Setp5:ddsifting candidates ====================== \n",
      "\n",
      "\u001b[0mReading files '/home/pl/work/python-workspance/FAST_pulsar_search_pl/03_barydata/*ACCEL_0'... done!\n",
      "\u001b[1m >> TIP:\u001b[0m Check sifting output with '\u001b[1mcat /home/pl/work/python-workspance/FAST_pulsar_search_pl/LOG/LOG_SIFTING.txt\u001b[0m'\n",
      "\n",
      "Reading candidates from 300 files....\n",
      " Read 1 of 300 files (31 cands)\r"
     ]
    },
    {
     "name": "stdout",
     "output_type": "stream",
     "text": [
      " Read 300 of 300 files (10179 cands)\n",
      "Done\n",
      "sift_candidates:: z = 0\n",
      "sift_candidates:: /home/pl/work/python-workspance/FAST_pulsar_search_pl/03_barydata/*ACCEL_0\n",
      "sift_candidates:: Original N_cands =  10179\n",
      "sift_candidates:: sifting.sigma_threshold =  4.0\n",
      "\n",
      "Selecting candidates with periods 0.0010 < P < 20.0000 seconds... done!\n",
      "  Sorting the 9868 candidates by frequency...\n",
      "  Searching for dupes...\n",
      "Found 111 candidates.\n",
      "\n",
      "sift_candidates:: 已去除重复项。候选者数量 =  111\n",
      "Removed 23 candidates with DM problems.\n",
      "\n",
      "sift_candidates:: 已去除 DM 问题。候选者数量 =  88\n",
      "\n",
      "Searching for duplicate harmonics...\n",
      "Removed a total of 25 harmonics.\n",
      "\n",
      "sift_candidates:: 已去除谐波。候选者数量 =  63\n",
      "sift_candidates:: 正在按 sigma 排序候选者... 完成！\n",
      "sift_candidates:: 正在将最佳候选者写入文件 '/home/pl/work/python-workspance/FAST_pulsar_search_pl/04_SIFTING/best_candidates_j1631_FAST_pulsar_search_pl.siftedcands'... 完成！\n",
      "sift_candidates:: 正在将报告写入文件 '/home/pl/work/python-workspance/FAST_pulsar_search_pl/LOG/LOG_SIFTING.txt'... 完成！\n",
      "待折叠候选体个数为： 63\n",
      "#                           file:candnum                               DM     SNR    sigma   numharm    ipow     cpow      P(ms)          r         z     numhits \n",
      "\n",
      "j1631_FAST_pulsar_search_pl_bary_DM34.05_ACCEL_0:1                    34.05  142.19   71.91     8      2637.0  19932.0    310.244077       83.06      0.00  (110)\n",
      "\n",
      "j1631_FAST_pulsar_search_pl_bary_DM33.91_ACCEL_0:2                    33.91   67.10   46.51     8      1127.2   1850.5     88.632171      290.75      0.00  (110)\n",
      "\n",
      "j1631_FAST_pulsar_search_pl_bary_DM33.90_ACCEL_0:3                    33.90   57.93   41.22     8       893.2   1365.3     68.937687      373.81      0.00  (110)\n",
      "\n",
      "j1631_FAST_pulsar_search_pl_bary_DM33.90_ACCEL_0:5                    33.90   54.77   39.87     8       837.9   2066.6     56.404495      456.88      0.00  (110)\n",
      "\n",
      "j1631_FAST_pulsar_search_pl_bary_DM32.72_ACCEL_0:6                    32.72   67.22   36.13     8       694.3    944.2     18.246525     1412.31      0.00  (300)\n",
      "\n",
      "j1631_FAST_pulsar_search_pl_bary_DM33.92_ACCEL_0:6                    33.92   39.48   35.39     8       667.9   1443.0    116.342229      221.50      0.00  (110)\n",
      "\n",
      "j1631_FAST_pulsar_search_pl_bary_DM33.92_ACCEL_0:4                    33.92   45.45   33.33     8       596.0   2320.8     47.721859      540.00      0.00  (110)\n",
      "\n",
      "j1631_FAST_pulsar_search_pl_bary_DM32.59_ACCEL_0:8                    32.59   53.03   30.67     8       509.7    534.0     12.407224     2077.00      0.00  (221)\n",
      "\n",
      "j1631_FAST_pulsar_search_pl_bary_DM32.75_ACCEL_0:9                    32.75   52.56   29.87     8       485.3    403.6     13.486303     1910.81      0.00  (300)\n",
      "\n",
      "j1631_FAST_pulsar_search_pl_bary_DM32.66_ACCEL_0:7                    32.66   57.10   29.25     8       466.7    580.6     16.325501     1578.50      0.00  (300)\n",
      "\n",
      "j1631_FAST_pulsar_search_pl_bary_DM32.75_ACCEL_0:11                   32.75   39.59   24.25     8       330.3    214.6     10.696193     2409.25      0.00  (300)\n",
      "\n",
      "j1631_FAST_pulsar_search_pl_bary_DM33.92_ACCEL_0:11                   33.92   22.82   19.82     4       214.7    218.3     10.339975     2492.25      0.00  (31)\n",
      "\n",
      "j1631_FAST_pulsar_search_pl_bary_DM32.93_ACCEL_0:14                   32.93   26.35   18.56     4       190.0    218.1      8.383477     3073.88      0.00  (300)\n",
      "\n",
      "j1631_FAST_pulsar_search_pl_bary_DM32.79_ACCEL_0:12                   32.79   26.45   18.38     4       186.7    261.4      7.565714     3406.13      0.00  (300)\n",
      "\n",
      "j1631_FAST_pulsar_search_pl_bary_DM32.74_ACCEL_0:18                   32.74   24.94   17.85     4       176.9    312.0      7.213623     3572.38      0.00  (300)\n",
      "\n",
      "j1631_FAST_pulsar_search_pl_bary_DM32.30_ACCEL_0:15                   32.30   19.69   16.35     4       150.7    301.1      6.462436     3987.63      0.00  (300)\n",
      "\n",
      "j1631_FAST_pulsar_search_pl_bary_DM32.82_ACCEL_0:17                   32.82   20.58   14.85     4       126.6    287.3      5.852610     4403.13      0.00  (289)\n",
      "\n",
      "j1631_FAST_pulsar_search_pl_bary_DM33.90_ACCEL_0:14                   33.90   18.15   14.72     8       138.0     53.4     26.590795      969.12      0.00  (67)\n",
      "\n",
      "j1631_FAST_pulsar_search_pl_bary_DM32.72_ACCEL_0:16                   32.72   19.95   14.66     4       123.7    314.8      6.599807     3904.63      0.00  (267)\n",
      "\n",
      "j1631_FAST_pulsar_search_pl_bary_DM32.79_ACCEL_0:20                   32.79   24.61   14.08     8       128.2     93.1     10.005989     2575.44      0.00  (223)\n",
      "\n",
      "j1631_FAST_pulsar_search_pl_bary_DM32.91_ACCEL_0:26                   32.91   13.80   13.36     2        97.3    148.6      5.257534     4901.50      0.00  (208)\n",
      "\n",
      "j1631_FAST_pulsar_search_pl_bary_DM33.00_ACCEL_0:23                   33.00   16.77   12.45     4        92.8    215.6      4.249196     6064.63      0.00  (150)\n",
      "\n",
      "j1631_FAST_pulsar_search_pl_bary_DM32.79_ACCEL_0:25                   32.79   15.91   12.22     4        89.8    249.8      5.085179     5067.63      0.00  (264)\n",
      "\n",
      "j1631_FAST_pulsar_search_pl_bary_DM33.23_ACCEL_0:19                   33.23   22.40   11.55     8        93.4     76.9      1.999907    12885.50      0.00  (51)\n",
      "\n",
      "j1631_FAST_pulsar_search_pl_bary_DM32.93_ACCEL_0:23                   32.93   15.00   10.74     4        72.1    228.2      4.368874     5898.50      0.00  (156)\n",
      "\n",
      "j1631_FAST_pulsar_search_pl_bary_DM32.80_ACCEL_0:21                   32.80   15.31   10.72     4        71.8    187.2      4.629752     5566.13      0.00  (150)\n",
      "\n",
      "j1631_FAST_pulsar_search_pl_bary_DM32.89_ACCEL_0:29                   32.89    9.08   10.16     2        59.0     87.4      3.011547     8557.00      0.00  (172)\n",
      "\n",
      "j1631_FAST_pulsar_search_pl_bary_DM32.86_ACCEL_0:34                   32.86   10.39   10.00     2        57.3    110.3      3.926379     6563.25      0.00  (198)\n",
      "\n",
      "j1631_FAST_pulsar_search_pl_bary_DM32.73_ACCEL_0:34                   32.73    9.31    9.57     2        53.0     88.3      2.898985     8889.25      0.00  (137)\n",
      "\n",
      "j1631_FAST_pulsar_search_pl_bary_DM32.61_ACCEL_0:29                   32.61    8.97    9.36     2        50.9     81.1      3.485232     7394.00      0.00  (148)\n",
      "\n",
      "j1631_FAST_pulsar_search_pl_bary_DM32.92_ACCEL_0:38                   32.92    6.75    9.32     1        46.6     46.6      2.744973     9388.00      0.00  (121)\n",
      "\n",
      "j1631_FAST_pulsar_search_pl_bary_DM32.83_ACCEL_0:38                   32.83    6.72    9.28     1        46.2     46.2      2.442404    10551.00      0.00  (85)\n",
      "\n",
      "j1631_FAST_pulsar_search_pl_bary_DM32.43_ACCEL_0:35                   32.43    8.35    9.05     2        48.0     74.3      3.737191     6895.50      0.00  (178)\n",
      "\n",
      "j1631_FAST_pulsar_search_pl_bary_DM32.79_ACCEL_0:43                   32.79    9.04    8.90     2        46.6     85.7      3.197742     8058.75      0.00  (129)\n",
      "\n",
      "j1631_FAST_pulsar_search_pl_bary_DM32.50_ACCEL_0:38                   32.50    6.26    8.62     1        40.2     40.2      2.845763     9055.50      0.00  (136)\n",
      "\n",
      "j1631_FAST_pulsar_search_pl_bary_DM32.51_ACCEL_0:35                   32.51   10.08    8.52     4        49.3    104.8      5.213256     4943.13      0.00  (149)\n",
      "\n",
      "j1631_FAST_pulsar_search_pl_bary_DM33.03_ACCEL_0:30                   33.03    5.91    8.11     1        35.9     35.9      3.071124     8391.00      0.00  (185)\n",
      "\n",
      "j1631_FAST_pulsar_search_pl_bary_DM32.90_ACCEL_0:42                   32.90    9.30    8.04     4        45.0      8.3      2.367813    10883.38      0.00  (54)\n",
      "\n",
      "j1631_FAST_pulsar_search_pl_bary_DM32.21_ACCEL_0:47                   32.21   16.50    7.42     8        49.4     69.1      1.510473    17060.75      0.00  (4)\n",
      "\n",
      "j1631_FAST_pulsar_search_pl_bary_DM33.01_ACCEL_0:44                   33.01   11.40    7.08     8        46.5     28.8      1.142807    22549.56      0.00  (8)\n",
      "\n",
      "j1631_FAST_pulsar_search_pl_bary_DM32.85_ACCEL_0:48                   32.85    6.51    7.03     2        31.1     36.6      2.264134    11381.75      0.00  (30)\n",
      "\n",
      "j1631_FAST_pulsar_search_pl_bary_DM32.62_ACCEL_0:51                   32.62    6.51    6.91     2        30.2     41.8      4.163639     6189.25      0.00  (5)\n",
      "\n",
      "j1631_FAST_pulsar_search_pl_bary_DM34.56_ACCEL_0:24                   34.56   10.21    6.56     8        42.2     12.1      7.692766     3349.88      0.00  (10)\n",
      "\n",
      "j1631_FAST_pulsar_search_pl_bary_DM33.02_ACCEL_0:44                   33.02   12.38    6.50     8        41.7    141.8      1.295437    19892.75      0.00  (2)\n",
      "\n",
      "j1631_FAST_pulsar_search_pl_bary_DM34.66_ACCEL_0:21                   34.66   14.25    6.33     8        40.4     68.0      2.806595     9181.88      0.00  (12)\n",
      "\n",
      "j1631_FAST_pulsar_search_pl_bary_DM32.01_ACCEL_0:36                   32.01   13.32    6.25     8        39.7     12.2      3.766448     6841.94      0.00  (17)\n",
      "\n",
      "j1631_FAST_pulsar_search_pl_bary_DM34.06_ACCEL_0:25                   34.06   13.98    6.15     8        39.0     59.0      2.556433    10080.38      0.00  (6)\n",
      "\n",
      "j1631_FAST_pulsar_search_pl_bary_DM33.10_ACCEL_0:43                   33.10   13.59    6.06     8        38.3     83.1      1.223017    21070.69      0.00  (2)\n",
      "\n",
      "j1631_FAST_pulsar_search_pl_bary_DM33.24_ACCEL_0:44                   33.24   12.12    5.87     8        36.9     44.4      1.384571    18612.12      0.00  (2)\n",
      "\n",
      "j1631_FAST_pulsar_search_pl_bary_DM33.98_ACCEL_0:26                   33.98   13.13    5.79     8        36.3     52.6      1.203532    21411.81      0.00  (3)\n",
      "\n",
      "j1631_FAST_pulsar_search_pl_bary_DM32.32_ACCEL_0:45                   32.32   12.56    5.64     8        35.2     46.2      2.352467    10954.38      0.00  (4)\n",
      "\n",
      "j1631_FAST_pulsar_search_pl_bary_DM32.55_ACCEL_0:50                   32.55   10.13    5.64     8        35.2      8.4      1.571743    16395.69      0.00  (2)\n",
      "\n",
      "j1631_FAST_pulsar_search_pl_bary_DM32.95_ACCEL_0:49                   32.95    5.02    5.54     2        21.1     27.4      3.951515     6521.50      0.00  (4)\n",
      "\n",
      "j1631_FAST_pulsar_search_pl_bary_DM34.22_ACCEL_0:23                   34.22   10.83    5.44     8        33.8     16.3      1.635789    15753.75      0.00  (2)\n",
      "\n",
      "j1631_FAST_pulsar_search_pl_bary_DM32.86_ACCEL_0:47                   32.86    4.34    5.37     2        20.1     25.0      4.664429     5524.75      0.00  (63)\n",
      "\n",
      "j1631_FAST_pulsar_search_pl_bary_DM32.86_ACCEL_0:53                   32.86   11.29    5.23     8        32.3     16.6      2.736174     9418.19      0.00  (2)\n",
      "\n",
      "j1631_FAST_pulsar_search_pl_bary_DM33.65_ACCEL_0:36                   33.65    8.66    5.22     4        24.1      1.2      1.316070    19580.88      0.00  (5)\n",
      "\n",
      "j1631_FAST_pulsar_search_pl_bary_DM33.98_ACCEL_0:27                   33.98    7.34    5.21     4        24.1      3.5      1.961339    13138.88      0.00  (7)\n",
      "\n",
      "j1631_FAST_pulsar_search_pl_bary_DM33.57_ACCEL_0:36                   33.57    8.56    4.96     8        30.5     44.4      3.615229     7128.12      0.00  (7)\n",
      "\n",
      "j1631_FAST_pulsar_search_pl_bary_DM33.07_ACCEL_0:48                   33.07   11.16    4.81     8        29.5      6.5      3.853357     6687.62      0.00  (5)\n",
      "\n",
      "j1631_FAST_pulsar_search_pl_bary_DM33.31_ACCEL_0:40                   33.31    7.08    4.67     4        20.9     52.4      6.842516     3766.13      0.00  (24)\n",
      "\n",
      "j1631_FAST_pulsar_search_pl_bary_DM32.86_ACCEL_0:45                   32.86    7.39    4.55     4        20.2     31.0      7.158279     3600.00      0.00  (19)\n",
      "\n",
      "j1631_FAST_pulsar_search_pl_bary_DM34.94_ACCEL_0:19                   34.94    9.72    4.55     8        27.9     31.7      4.666487     5522.31      0.00  (2)\n",
      "\n",
      "#待折叠候选体个数为:\u001b[94m65\u001b[0m\n",
      "排序后的数据已保存到 /home/pl/work/python-workspance/FAST_pulsar_search_pl/04_SIFTING/cand_sift_SNR.txt\n"
     ]
    }
   ],
   "source": [
    "oksift = os.path.join(workdir,'ok-sifting')\n",
    "if config.flag_step_sifting == 1 :\n",
    "    print_log('''\\n ==================== Setp5:ddsifting candidates ====================== \\n''',color=colors.HEADER) \n",
    "    dir_sifting = os.path.join(config.root_workdir, \"04_SIFTING\")\n",
    "    makedir(dir_sifting)\n",
    "\n",
    "    flag_remove_duplicates = config.sifting_flag_remove_duplicates\n",
    "    flag_DM_problems =config.sifting_flag_remove_dm_problems\n",
    "    flag_remove_harmonics = config.sifting_flag_remove_harmonics\n",
    "    minimum_numDMs_where_detected = config.sifting_minimum_DM\n",
    "    period_to_search_min_s = config.period_to_search_min\n",
    "    period_to_search_max_s = config.period_to_search_max\n",
    "\n",
    "    if not os.path.isfile(oksift):\n",
    "        # 调用 sift_candidates 函数\n",
    "        cands = sift_candidates(\n",
    "                    work_dir=dir_sifting,\n",
    "                    sourcename=sourcename_mask,\n",
    "                    log_dir=LOG_dir,\n",
    "                    dedispersion_dir=dir_dedispersion,\n",
    "                    list_zmax=list_zmax,\n",
    "                    jerksearch_zmax=jerksearch_zmax,\n",
    "                    jerksearch_wmax=jerksearch_wmax,\n",
    "                    flag_remove_duplicates=flag_remove_duplicates,\n",
    "                    flag_DM_problems=flag_DM_problems,\n",
    "                    flag_remove_harmonics=flag_remove_harmonics,\n",
    "                    minimum_numDMs_where_detected=minimum_numDMs_where_detected,\n",
    "                    minimum_acceptable_DM=2.0,  # 保持默认值 2.0\n",
    "                    period_to_search_min_s=period_to_search_min_s,\n",
    "                    period_to_search_max_s=period_to_search_max_s\n",
    "        )\n",
    "\n",
    "        candnumber = len(cands)\n",
    "        print_log('待折叠候选体个数为：',len(cands))\n",
    "\n",
    "        best_cands_filename = \"%s/best_candidates_%s.siftedcands\" % (dir_sifting, sourcename_mask)\n",
    "        with open(best_cands_filename, \"r\") as f:\n",
    "            lines = f.readlines()\n",
    "            sifting = []\n",
    "            for line in lines:\n",
    "                if line.startswith(\"#\"):\n",
    "                    print_log(line)\n",
    "                    sifting.append(line)\n",
    "                if line.startswith(sourcename) or line.startswith('bary'):\n",
    "                    print_log(line)\n",
    "                    sifting.append(line) \n",
    "        with open(dir_sifting+'/cand_sifting.txt', \"w\") as f:\n",
    "            f.write('#待折叠候选体个数为：'+str(candnumber)+'\\n')\n",
    "            for line in sifting:\n",
    "                f.write(line)\n",
    "        os.system('touch '+oksift) \n",
    "    else:\n",
    "        print_log(f'请注意!将跳过sifting candidates，如果想重新生成候选，请移除ok-sifting',color=colors.WARNING)\n",
    "\n",
    "\n",
    "#按信噪比进行排序\n",
    "input_file_path = os.path.join(dir_sifting,'cand_sifting.txt')  # 请替换为实际的输入文件路径\n",
    "SNR_file = os.path.join(dir_sifting,'cand_sift_SNR.txt') \n",
    "\n",
    "with open(input_file_path, 'r') as infile:\n",
    "    # 读取所有行\n",
    "    lines = infile.readlines()\n",
    "    cand_n = len(lines)\n",
    "    print_log(f'#待折叠候选体个数为:{cand_n}',masks=str(cand_n),color=colors.OKBLUE)\n",
    "    # 解析数据，并跳过注释行\n",
    "    header = lines[1].split()  # 获取列名\n",
    "    header_str = \"{:<2}{:<38} {:<10} {:<10} {:<10} {:<5} {:<10} {:<10} {:<10} {:<15} {:<10} {:<10}\".format(*lines[1].split())   # 获取列名\n",
    "    #print(header_str)\n",
    "    data = [line.split() for line in lines[2:] if not line.startswith('#')]\n",
    "\n",
    "    # 将SNR作为浮点数添加到数据中(由于#存在，使用DM代码SNR)\n",
    "    for entry in data:\n",
    "        entry[header.index('DM')] = float(entry[header.index('DM')])\n",
    "\n",
    "    # 按SNR列排序数据\n",
    "    sorted_data = sorted(data, key=lambda x: x[header.index('DM')], reverse=True)\n",
    "\n",
    "# 将排序后的数据写入新文件\n",
    "with open(SNR_file, 'w') as outfile:\n",
    "    # 写入列名\n",
    "    outfile.write((header_str) + '\\n')\n",
    "    # 写入数据\n",
    "    for entry in sorted_data:\n",
    "        # 将浮点数转换为字符串\n",
    "        formatted_line = \"{:<40} {:<10} {:<10} {:<10} {:<5} {:<10} {:<10} {:<10} {:<15} {:<10} {:<10}\".format(*entry)\n",
    "        #entry_as_str = [str(item) for item in entry]\n",
    "        #outfile.write('\\t'.join(entry_as_str) + '\\n')\n",
    "        outfile.write(formatted_line + '\\n')\n",
    "print_log(\"排序后的数据已保存到\", SNR_file)\n",
    "\n",
    "   "
   ]
  },
  {
   "cell_type": "markdown",
   "metadata": {},
   "source": []
  },
  {
   "cell_type": "code",
   "execution_count": 20,
   "metadata": {},
   "outputs": [
    {
     "name": "stdout",
     "output_type": "stream",
     "text": [
      "\u001b[95m\n",
      " ==================== Setp6:folding candidates=  ====================== \n",
      "\n",
      "\u001b[0m"
     ]
    }
   ],
   "source": [
    "print_log('''\\n ==================== Setp6:folding candidates=  ====================== \\n''',color=colors.HEADER) \n",
    "\n",
    "# print(\"\\033[1m >> 提示:\\033[0m 使用 '\\033[1mtail -f %s/LOG_%s.txt\\033[0m' 查看折叠进度\" % (LOG_dir, LOG_basename))\n",
    "dir_folding = os.path.join(config.root_workdir, \"05_FOLDING\")\n",
    "makedir(dir_folding)\n",
    "LOG_dir06 = os.path.join(LOG_dir,'06_fold')\n",
    "makedir(LOG_dir06)\n",
    "\n",
    "cmd_prepfold_list = []\n",
    "c1 =[]\n",
    "c2 =[]\n",
    "ifok_prepfold_list = []\n",
    "p1 = []\n",
    "p2 =[]\n",
    "log_prepfold_list = []\n",
    "l1 = []\n",
    "l2 = []\n",
    "with open(SNR_file, \"r\") as f:\n",
    "    lines = f.readlines()\n",
    "    n = 0\n",
    "    for line in lines:\n",
    "        if line.startswith(sourcename) or line.startswith('bary'):\n",
    "            parts = line.split()\n",
    "            candfile = parts[0]\n",
    "            cand_file = candfile.split(\":\")[0]\n",
    "            candnum = int(candfile.split(\":\")[-1])\n",
    "            dm = float(parts[1])\n",
    "            dm =\"{:.2f}\".format(dm)\n",
    "            snr = float(parts[2])\n",
    "            sigma = float(parts[3])\n",
    "            num_harm = int(parts[4])\n",
    "            ipow = float(parts[5])\n",
    "            cpow = float(parts[6])\n",
    "            p_ms = float(parts[7])\n",
    "            r = float(parts[8])\n",
    "            z = float(parts[9])\n",
    "            num_hits = int(parts[10][1:-1])\n",
    "            n += 1\n",
    "            outname ='A'+str(n)+'_'+sourcename_mask\n",
    "            # print(f'读取第{i+1}个数据')\n",
    "\n",
    "            cand_zmax = cand_file.split(\"ACCEL_\")[-1].split(\"_JERK\")[0]\n",
    "            if \"JERK_\" in os.path.basename(cand_file):\n",
    "                cand_wmax = cand_file.split(\"JERK_\")[-1]\n",
    "                str_zmax_wmax = f\"z{cand_zmax}_w{cand_wmax}\"\n",
    "            else:\n",
    "                str_zmax_wmax = f\"z{cand_zmax}\"\n",
    "            str_zmax_wmax=str_zmax_wmax+f'{p_ms:.6f}'\n",
    "\n",
    "            if ignorechan_list != \"\":\n",
    "                flag_ignorechan = f\"-ignorechan {ignorechan_list} \"\n",
    "            else:\n",
    "                flag_ignorechan = \"\"\n",
    "\n",
    "            other_flags_prepfold = config.prepfold_flags\n",
    "            if '-nsub' not in other_flags_prepfold:\n",
    "                other_flags_prepfold = f\"{other_flags_prepfold} -nsub {nchan}\"\n",
    "\n",
    "            if config.flag_fold_timeseries == 1:\n",
    "                file_script_fold_name = \"script_fold_ts.txt\"\n",
    "                file_script_fold_abspath = f\"{dir_folding}/{file_script_fold_name}\"\n",
    "                \n",
    "                file_to_fold = os.path.join(dir_dedispersion, cand_file.split(\"_ACCEL\")[0] + \".dat\")\n",
    "                cmd_prepfold1 = f\"prepfold {other_flags_prepfold} -noxwin -dm {dm} -accelcand {candnum} -accelfile {dir_dedispersion}/{cand_file}.cand -o {outname}_ts_DM{dm}_{str_zmax_wmax}  {file_to_fold}\" #没有添加mask\n",
    "                #A9_AQLX-1_raw_DM11.50_z0_ACCEL_Cand_4.pfd.png\n",
    "                png1 = os.path.join(png_dir,f\"{outname}_ts_DM{dm}_{str_zmax_wmax}_ACCEL_Cand_{candnum}.pfd.png\")\n",
    "                log1 = os.path.join(LOG_dir06,f'fold_ts-{dm}.ifok')\n",
    "\n",
    "                c1.append(cmd_prepfold1)\n",
    "                write2file(cmd_prepfold1,file_script_fold_abspath)\n",
    "                p1.append(png1)\n",
    "                l1.append(log1)\n",
    "\n",
    "            if config.flag_fold_rawdata == 1:\n",
    "                file_script_fold_name = \"script_fold_raw.txt\"\n",
    "                file_script_fold_abspath = f\"{png_dir}/{file_script_fold_name}\"\n",
    "\n",
    "                file_to_fold = data_path\n",
    "                cmd_prepfold2 = f\"prepfold {other_flags_prepfold} -noxwin -dm {dm} -accelcand {candnum} -accelfile {dir_dedispersion}/{cand_file}.cand  {flag_ignorechan} -mask {mask_file_path} -o {outname}_raw_DM{dm}_{str_zmax_wmax}    {file_to_fold}\"\n",
    "  \n",
    "                png2 = os.path.join(png_dir,f\"{outname}_raw_DM{dm}_{str_zmax_wmax}_ACCEL_Cand_{candnum}.pfd.png\")\n",
    "                log2 = os.path.join(LOG_dir06,f'fold_raw-{dm}.ifok')\n",
    "                \n",
    "                c2.append(cmd_prepfold2) \n",
    "                file_script_fold_abspath = f\"{png_dir}/{file_script_fold_name}\"\n",
    "                write2file(cmd_prepfold2,file_script_fold_abspath)\n",
    "                p2.append(png2)\n",
    "                l2.append(log2)               \n",
    "            \n",
    "        cmd_prepfold_list = c1 + c2\n",
    "        ifok_prepfold_list = p1+p2\n",
    "        log_prepfold_list = l1+l2\n",
    "\n",
    "\n"
   ]
  },
  {
   "cell_type": "code",
   "execution_count": null,
   "metadata": {},
   "outputs": [],
   "source": [
    "def fold_task(cmd, ifok,logfile, work_dir,png_dir):\n",
    "    whitelist = []\n",
    "    filename = os.path.basename(ifok)\n",
    "    ps_path = os.path.join(work_dir,f'{filename[:-4]}.ps')\n",
    "    \"\"\"子任务执行函数\"\"\"\n",
    "    run_cmd(cmd, ifok = ifok, work_dir=work_dir,log_file=logfile,mode='both')  #根据ifok判断是否运行cmd\n",
    "    ps2png(ps_path)\n",
    "    handle_files(work_dir, png_dir, 'copy',ps_path )\n",
    "\n",
    "def pool_fold(num_processes, task_name, cmd_list, ifok_list,log_list, work_dir=os.getcwd(),png_dir = None):\n",
    "    \"\"\"\n",
    "    改进的多进程任务调度函数\n",
    "    \n",
    "    Args:\n",
    "        num_processes (int): 并行进程数\n",
    "        task_name (str): 任务名称（用于进度条显示）\n",
    "        cmd_list (list): 要执行的命令列表\n",
    "        ifok_list (list): 布尔值列表，控制是否执行对应命令\n",
    "        work_dir (str): 工作目录路径\n",
    "    \"\"\"\n",
    "    # 参数合法性校验\n",
    "    if len(cmd_list) != len(ifok_list):\n",
    "        raise ValueError(\"cmd_list和ifok_list长度必须一致\")\n",
    "\n",
    "    # 初始化进度条和线程锁\n",
    "    progress_bar = tqdm(\n",
    "        total=len(cmd_list),\n",
    "        desc=f\"{task_name}-{num_processes}核\",\n",
    "        unit=\"cmd\",\n",
    "        dynamic_ncols=True,\n",
    "        # position=0\n",
    "    )\n",
    "    # lock = Lock()\n",
    "\n",
    "    def update(*args):\n",
    "        progress_bar.update()\n",
    "    \n",
    "    def handle_error(error):\n",
    "        \"\"\"统一错误处理函数\"\"\"\n",
    "        progress_bar.write(f\"任务执行错误: {error}\")\n",
    "\n",
    "    # 创建进程池并提交任务\n",
    "    process_pool = Pool(num_processes)\n",
    "    try:\n",
    "        results = [\n",
    "            process_pool.apply_async(\n",
    "                fold_task,\n",
    "                args=(cmd, ifok, log_file,work_dir,png_dir),\n",
    "                callback=update,\n",
    "                error_callback=handle_error\n",
    "            )\n",
    "            for cmd, ifok,log_file in zip(cmd_list, ifok_list,log_list)\n",
    "        ]\n",
    "        process_pool.close()\n",
    "        process_pool.join()\n",
    "    except Exception as e:\n",
    "        process_pool.terminate()\n",
    "        raise e\n",
    "    finally:\n",
    "        progress_bar.close()"
   ]
  },
  {
   "cell_type": "code",
   "execution_count": null,
   "metadata": {},
   "outputs": [
    {
     "name": "stderr",
     "output_type": "stream",
     "text": [
      "fold-8核:   0%|          | 0/9 [00:00<?, ?cmd/s]"
     ]
    },
    {
     "name": "stdout",
     "output_type": "stream",
     "text": [
      "File /home/pl/work/python-workspance/FAST_pulsar_search_pl/06_PNG/AQLX-1_test_dd_fits__bary/A2_AQLX-1_test_raw_DM29.00_z0_ACCEL_Cand_3.pfd.png exists. Skipping command: prepfold -nosearch -ncpus 4   -n 64 -nsub 96 -noxwin -dm 29.00 -accelcand 3 -accelfile /home/pl/work/python-workspance/FAST_pulsar_search_pl/03_barydata/AQLX-1_test_bary_DM29.00_ACCEL_0.cand   -mask /home/pl/work/python-workspance/FAST_pulsar_search_pl/01_RFIFIND/rfi0.1s_rfifind.mask -o A2_AQLX-1_test_raw_DM29.00_z0    /home/pl/work/python-workspance/FAST_pulsar_search_pl/*fil /home/pl/work/python-workspance/FAST_pulsar_search_pl/LOG/06_fold/fold_raw-29.00.ifok\n",
      "File /home/pl/work/python-workspance/FAST_pulsar_search_pl/06_PNG/AQLX-1_test_dd_fits__bary/A1_AQLX-1_test_raw_DM62.00_z0_ACCEL_Cand_2.pfd.png exists. Skipping command: prepfold -nosearch -ncpus 4   -n 64 -nsub 96 -noxwin -dm 62.00 -accelcand 2 -accelfile /home/pl/work/python-workspance/FAST_pulsar_search_pl/03_barydata/AQLX-1_test_bary_DM62.00_ACCEL_0.cand   -mask /home/pl/work/python-workspance/FAST_pulsar_search_pl/01_RFIFIND/rfi0.1s_rfifind.mask -o A1_AQLX-1_test_raw_DM62.00_z0    /home/pl/work/python-workspance/FAST_pulsar_search_pl/*fil /home/pl/work/python-workspance/FAST_pulsar_search_pl/LOG/06_fold/fold_raw-62.00.ifok\n",
      "File /home/pl/work/python-workspance/FAST_pulsar_search_pl/06_PNG/AQLX-1_test_dd_fits__bary/A5_AQLX-1_test_raw_DM3.00_z0_ACCEL_Cand_4.pfd.png exists. Skipping command: prepfold -nosearch -ncpus 4   -n 64 -nsub 96 -noxwin -dm 3.00 -accelcand 4 -accelfile /home/pl/work/python-workspance/FAST_pulsar_search_pl/03_barydata/AQLX-1_test_bary_DM03.00_ACCEL_0.cand   -mask /home/pl/work/python-workspance/FAST_pulsar_search_pl/01_RFIFIND/rfi0.1s_rfifind.mask -o A5_AQLX-1_test_raw_DM3.00_z0    /home/pl/work/python-workspance/FAST_pulsar_search_pl/*fil /home/pl/work/python-workspance/FAST_pulsar_search_pl/LOG/06_fold/fold_raw-3.00.ifok\n",
      "File /home/pl/work/python-workspance/FAST_pulsar_search_pl/06_PNG/AQLX-1_test_dd_fits__bary/A7_AQLX-1_test_raw_DM74.50_z0_ACCEL_Cand_3.pfd.png exists. Skipping command: prepfold -nosearch -ncpus 4   -n 64 -nsub 96 -noxwin -dm 74.50 -accelcand 3 -accelfile /home/pl/work/python-workspance/FAST_pulsar_search_pl/03_barydata/AQLX-1_test_bary_DM74.50_ACCEL_0.cand   -mask /home/pl/work/python-workspance/FAST_pulsar_search_pl/01_RFIFIND/rfi0.1s_rfifind.mask -o A7_AQLX-1_test_raw_DM74.50_z0    /home/pl/work/python-workspance/FAST_pulsar_search_pl/*fil /home/pl/work/python-workspance/FAST_pulsar_search_pl/LOG/06_fold/fold_raw-74.50.ifok\n",
      "File /home/pl/work/python-workspance/FAST_pulsar_search_pl/06_PNG/AQLX-1_test_dd_fits__bary/A3_AQLX-1_test_raw_DM4.50_z0_ACCEL_Cand_2.pfd.png exists. Skipping command: prepfold -nosearch -ncpus 4   -n 64 -nsub 96 -noxwin -dm 4.50 -accelcand 2 -accelfile /home/pl/work/python-workspance/FAST_pulsar_search_pl/03_barydata/AQLX-1_test_bary_DM04.50_ACCEL_0.cand   -mask /home/pl/work/python-workspance/FAST_pulsar_search_pl/01_RFIFIND/rfi0.1s_rfifind.mask -o A3_AQLX-1_test_raw_DM4.50_z0    /home/pl/work/python-workspance/FAST_pulsar_search_pl/*fil /home/pl/work/python-workspance/FAST_pulsar_search_pl/LOG/06_fold/fold_raw-4.50.ifok\n",
      "File /home/pl/work/python-workspance/FAST_pulsar_search_pl/06_PNG/AQLX-1_test_dd_fits__bary/A4_AQLX-1_test_raw_DM82.50_z0_ACCEL_Cand_3.pfd.png exists. Skipping command: prepfold -nosearch -ncpus 4   -n 64 -nsub 96 -noxwin -dm 82.50 -accelcand 3 -accelfile /home/pl/work/python-workspance/FAST_pulsar_search_pl/03_barydata/AQLX-1_test_bary_DM82.50_ACCEL_0.cand   -mask /home/pl/work/python-workspance/FAST_pulsar_search_pl/01_RFIFIND/rfi0.1s_rfifind.mask -o A4_AQLX-1_test_raw_DM82.50_z0    /home/pl/work/python-workspance/FAST_pulsar_search_pl/*fil /home/pl/work/python-workspance/FAST_pulsar_search_pl/LOG/06_fold/fold_raw-82.50.ifok\n",
      "File /home/pl/work/python-workspance/FAST_pulsar_search_pl/06_PNG/AQLX-1_test_dd_fits__bary/A6_AQLX-1_test_raw_DM2.50_z0_ACCEL_Cand_5.pfd.png exists. Skipping command: prepfold -nosearch -ncpus 4   -n 64 -nsub 96 -noxwin -dm 2.50 -accelcand 5 -accelfile /home/pl/work/python-workspance/FAST_pulsar_search_pl/03_barydata/AQLX-1_test_bary_DM02.50_ACCEL_0.cand   -mask /home/pl/work/python-workspance/FAST_pulsar_search_pl/01_RFIFIND/rfi0.1s_rfifind.mask -o A6_AQLX-1_test_raw_DM2.50_z0    /home/pl/work/python-workspance/FAST_pulsar_search_pl/*fil /home/pl/work/python-workspance/FAST_pulsar_search_pl/LOG/06_fold/fold_raw-2.50.ifok\n",
      "File /home/pl/work/python-workspance/FAST_pulsar_search_pl/06_PNG/AQLX-1_test_dd_fits__bary/A8_AQLX-1_test_raw_DM22.00_z0_ACCEL_Cand_3.pfd.png exists. Skipping command: prepfold -nosearch -ncpus 4   -n 64 -nsub 96 -noxwin -dm 22.00 -accelcand 3 -accelfile /home/pl/work/python-workspance/FAST_pulsar_search_pl/03_barydata/AQLX-1_test_bary_DM22.00_ACCEL_0.cand   -mask /home/pl/work/python-workspance/FAST_pulsar_search_pl/01_RFIFIND/rfi0.1s_rfifind.mask -o A8_AQLX-1_test_raw_DM22.00_z0    /home/pl/work/python-workspance/FAST_pulsar_search_pl/*fil /home/pl/work/python-workspance/FAST_pulsar_search_pl/LOG/06_fold/fold_raw-22.00.ifok\n",
      "文件 copy 操作成功\n",
      "File /home/pl/work/python-workspance/FAST_pulsar_search_pl/06_PNG/AQLX-1_test_dd_fits__bary/A9_AQLX-1_test_raw_DM11.50_z0_ACCEL_Cand_4.pfd.png exists. Skipping command: prepfold -nosearch -ncpus 4   -n 64 -nsub 96 -noxwin -dm 11.50 -accelcand 4 -accelfile /home/pl/work/python-workspance/FAST_pulsar_search_pl/03_barydata/AQLX-1_test_bary_DM11.50_ACCEL_0.cand   -mask /home/pl/work/python-workspance/FAST_pulsar_search_pl/01_RFIFIND/rfi0.1s_rfifind.mask -o A9_AQLX-1_test_raw_DM11.50_z0    /home/pl/work/python-workspance/FAST_pulsar_search_pl/*fil /home/pl/work/python-workspance/FAST_pulsar_search_pl/LOG/06_fold/fold_raw-11.50.ifok\n"
     ]
    },
    {
     "name": "stderr",
     "output_type": "stream",
     "text": [
      "fold-8核:  11%|█         | 1/9 [00:00<00:04,  1.93cmd/s]"
     ]
    },
    {
     "name": "stdout",
     "output_type": "stream",
     "text": [
      "文件 copy 操作成功\n",
      "文件 copy 操作成功\n",
      "文件 copy 操作成功文件 copy 操作成功\n",
      "\n",
      "文件 copy 操作成功\n",
      "文件 copy 操作成功\n",
      "文件 copy 操作成功\n",
      "文件 copy 操作成功\n"
     ]
    },
    {
     "name": "stderr",
     "output_type": "stream",
     "text": [
      "fold-8核: 100%|██████████| 9/9 [00:00<00:00, 10.21cmd/s]\n"
     ]
    },
    {
     "name": "stdout",
     "output_type": "stream",
     "text": [
      "全部折叠运行时间为： 0.0秒\n",
      "\n"
     ]
    }
   ],
   "source": [
    "\n",
    "if config.flag_step_folding == 1:\n",
    "    fold_num_pl = min(len(cmd_prepfold_list),fold_num)\n",
    "    # False_list = [False] * fold_num_pl\n",
    "    # cmd_prepfold_list1 = cmd_prepfold_list[:fold_num_pl]\n",
    "    start_time = time.time()\n",
    "    pool_fold(n_pool,'fold',cmd_prepfold_list,ifok_prepfold_list,log_prepfold_list,work_dir = dir_folding,png_dir=png_dir)\n",
    "\n",
    "    end_time = time.time()\n",
    "    execution_time = end_time - start_time\n",
    "    execution_time_str = format_execution_time(execution_time)\n",
    "    print_log( \"全部折叠运行时间为： \" + execution_time_str + \"\\n\")\n",
    "    time.sleep(2)   "
   ]
  },
  {
   "cell_type": "code",
   "execution_count": null,
   "metadata": {},
   "outputs": [
    {
     "name": "stdout",
     "output_type": "stream",
     "text": [
      "程序完整运行运行时间为： 18.0秒\n",
      "\n",
      "\u001b[95m尝试打包文件\n",
      "\u001b[0m"
     ]
    },
    {
     "ename": "OSError",
     "evalue": "[Errno 101] Network is unreachable",
     "output_type": "error",
     "traceback": [
      "\u001b[0;31m---------------------------------------------------------------------------\u001b[0m",
      "\u001b[0;31mOSError\u001b[0m                                   Traceback (most recent call last)",
      "Cell \u001b[0;32mIn[22], line 25\u001b[0m\n\u001b[1;32m     22\u001b[0m email_content \u001b[38;5;241m+\u001b[39m\u001b[38;5;241m=\u001b[39m \u001b[38;5;124mf\u001b[39m\u001b[38;5;124m'\u001b[39m\u001b[38;5;124mpng文件路径：\u001b[39m\u001b[38;5;132;01m{\u001b[39;00mpng_dir\u001b[38;5;132;01m}\u001b[39;00m\u001b[38;5;130;01m\\n\u001b[39;00m\u001b[38;5;124m'\u001b[39m\n\u001b[1;32m     24\u001b[0m \u001b[38;5;66;03m# 发送邮件\u001b[39;00m\n\u001b[0;32m---> 25\u001b[0m send_email(email_content, file_paths)\n\u001b[1;32m     27\u001b[0m print_program_message(\u001b[38;5;124m'\u001b[39m\u001b[38;5;124mend\u001b[39m\u001b[38;5;124m'\u001b[39m)\n",
      "File \u001b[0;32m~/work/python-workspance/FAST_pulsar_search_pl/psr_fuc.py:1257\u001b[0m, in \u001b[0;36msend_email\u001b[0;34m(content, file_paths)\u001b[0m\n\u001b[1;32m   1253\u001b[0m             \u001b[38;5;28mprint\u001b[39m(\u001b[38;5;124mf\u001b[39m\u001b[38;5;124m\"\u001b[39m\u001b[38;5;124m附件 \u001b[39m\u001b[38;5;132;01m{\u001b[39;00mfile_path\u001b[38;5;132;01m}\u001b[39;00m\u001b[38;5;124m 添加失败: \u001b[39m\u001b[38;5;132;01m{\u001b[39;00me\u001b[38;5;132;01m}\u001b[39;00m\u001b[38;5;124m\"\u001b[39m)\n\u001b[1;32m   1255\u001b[0m \u001b[38;5;28;01mtry\u001b[39;00m:\n\u001b[1;32m   1256\u001b[0m     \u001b[38;5;66;03m# Connect to SMTP server\u001b[39;00m\n\u001b[0;32m-> 1257\u001b[0m     smtpObj \u001b[38;5;241m=\u001b[39m smtplib\u001b[38;5;241m.\u001b[39mSMTP_SSL(mail_host, \u001b[38;5;241m465\u001b[39m)  \u001b[38;5;66;03m# 使用SSL连接\u001b[39;00m\n\u001b[1;32m   1258\u001b[0m     smtpObj\u001b[38;5;241m.\u001b[39mlogin(sender, mail_pass)  \n\u001b[1;32m   1259\u001b[0m     smtpObj\u001b[38;5;241m.\u001b[39msendmail(sender, receivers, message\u001b[38;5;241m.\u001b[39mas_string())  \n",
      "File \u001b[0;32m~/anaconda3/lib/python3.11/smtplib.py:1050\u001b[0m, in \u001b[0;36mSMTP_SSL.__init__\u001b[0;34m(self, host, port, local_hostname, keyfile, certfile, timeout, source_address, context)\u001b[0m\n\u001b[1;32m   1047\u001b[0m     context \u001b[38;5;241m=\u001b[39m ssl\u001b[38;5;241m.\u001b[39m_create_stdlib_context(certfile\u001b[38;5;241m=\u001b[39mcertfile,\n\u001b[1;32m   1048\u001b[0m                                          keyfile\u001b[38;5;241m=\u001b[39mkeyfile)\n\u001b[1;32m   1049\u001b[0m \u001b[38;5;28mself\u001b[39m\u001b[38;5;241m.\u001b[39mcontext \u001b[38;5;241m=\u001b[39m context\n\u001b[0;32m-> 1050\u001b[0m SMTP\u001b[38;5;241m.\u001b[39m\u001b[38;5;21m__init__\u001b[39m(\u001b[38;5;28mself\u001b[39m, host, port, local_hostname, timeout,\n\u001b[1;32m   1051\u001b[0m               source_address)\n",
      "File \u001b[0;32m~/anaconda3/lib/python3.11/smtplib.py:255\u001b[0m, in \u001b[0;36mSMTP.__init__\u001b[0;34m(self, host, port, local_hostname, timeout, source_address)\u001b[0m\n\u001b[1;32m    252\u001b[0m \u001b[38;5;28mself\u001b[39m\u001b[38;5;241m.\u001b[39m_auth_challenge_count \u001b[38;5;241m=\u001b[39m \u001b[38;5;241m0\u001b[39m\n\u001b[1;32m    254\u001b[0m \u001b[38;5;28;01mif\u001b[39;00m host:\n\u001b[0;32m--> 255\u001b[0m     (code, msg) \u001b[38;5;241m=\u001b[39m \u001b[38;5;28mself\u001b[39m\u001b[38;5;241m.\u001b[39mconnect(host, port)\n\u001b[1;32m    256\u001b[0m     \u001b[38;5;28;01mif\u001b[39;00m code \u001b[38;5;241m!=\u001b[39m \u001b[38;5;241m220\u001b[39m:\n\u001b[1;32m    257\u001b[0m         \u001b[38;5;28mself\u001b[39m\u001b[38;5;241m.\u001b[39mclose()\n",
      "File \u001b[0;32m~/anaconda3/lib/python3.11/smtplib.py:341\u001b[0m, in \u001b[0;36mSMTP.connect\u001b[0;34m(self, host, port, source_address)\u001b[0m\n\u001b[1;32m    339\u001b[0m     port \u001b[38;5;241m=\u001b[39m \u001b[38;5;28mself\u001b[39m\u001b[38;5;241m.\u001b[39mdefault_port\n\u001b[1;32m    340\u001b[0m sys\u001b[38;5;241m.\u001b[39maudit(\u001b[38;5;124m\"\u001b[39m\u001b[38;5;124msmtplib.connect\u001b[39m\u001b[38;5;124m\"\u001b[39m, \u001b[38;5;28mself\u001b[39m, host, port)\n\u001b[0;32m--> 341\u001b[0m \u001b[38;5;28mself\u001b[39m\u001b[38;5;241m.\u001b[39msock \u001b[38;5;241m=\u001b[39m \u001b[38;5;28mself\u001b[39m\u001b[38;5;241m.\u001b[39m_get_socket(host, port, \u001b[38;5;28mself\u001b[39m\u001b[38;5;241m.\u001b[39mtimeout)\n\u001b[1;32m    342\u001b[0m \u001b[38;5;28mself\u001b[39m\u001b[38;5;241m.\u001b[39mfile \u001b[38;5;241m=\u001b[39m \u001b[38;5;28;01mNone\u001b[39;00m\n\u001b[1;32m    343\u001b[0m (code, msg) \u001b[38;5;241m=\u001b[39m \u001b[38;5;28mself\u001b[39m\u001b[38;5;241m.\u001b[39mgetreply()\n",
      "File \u001b[0;32m~/anaconda3/lib/python3.11/smtplib.py:1056\u001b[0m, in \u001b[0;36mSMTP_SSL._get_socket\u001b[0;34m(self, host, port, timeout)\u001b[0m\n\u001b[1;32m   1054\u001b[0m \u001b[38;5;28;01mif\u001b[39;00m \u001b[38;5;28mself\u001b[39m\u001b[38;5;241m.\u001b[39mdebuglevel \u001b[38;5;241m>\u001b[39m \u001b[38;5;241m0\u001b[39m:\n\u001b[1;32m   1055\u001b[0m     \u001b[38;5;28mself\u001b[39m\u001b[38;5;241m.\u001b[39m_print_debug(\u001b[38;5;124m'\u001b[39m\u001b[38;5;124mconnect:\u001b[39m\u001b[38;5;124m'\u001b[39m, (host, port))\n\u001b[0;32m-> 1056\u001b[0m new_socket \u001b[38;5;241m=\u001b[39m \u001b[38;5;28msuper\u001b[39m()\u001b[38;5;241m.\u001b[39m_get_socket(host, port, timeout)\n\u001b[1;32m   1057\u001b[0m new_socket \u001b[38;5;241m=\u001b[39m \u001b[38;5;28mself\u001b[39m\u001b[38;5;241m.\u001b[39mcontext\u001b[38;5;241m.\u001b[39mwrap_socket(new_socket,\n\u001b[1;32m   1058\u001b[0m                                       server_hostname\u001b[38;5;241m=\u001b[39m\u001b[38;5;28mself\u001b[39m\u001b[38;5;241m.\u001b[39m_host)\n\u001b[1;32m   1059\u001b[0m \u001b[38;5;28;01mreturn\u001b[39;00m new_socket\n",
      "File \u001b[0;32m~/anaconda3/lib/python3.11/smtplib.py:312\u001b[0m, in \u001b[0;36mSMTP._get_socket\u001b[0;34m(self, host, port, timeout)\u001b[0m\n\u001b[1;32m    310\u001b[0m \u001b[38;5;28;01mif\u001b[39;00m \u001b[38;5;28mself\u001b[39m\u001b[38;5;241m.\u001b[39mdebuglevel \u001b[38;5;241m>\u001b[39m \u001b[38;5;241m0\u001b[39m:\n\u001b[1;32m    311\u001b[0m     \u001b[38;5;28mself\u001b[39m\u001b[38;5;241m.\u001b[39m_print_debug(\u001b[38;5;124m'\u001b[39m\u001b[38;5;124mconnect: to\u001b[39m\u001b[38;5;124m'\u001b[39m, (host, port), \u001b[38;5;28mself\u001b[39m\u001b[38;5;241m.\u001b[39msource_address)\n\u001b[0;32m--> 312\u001b[0m \u001b[38;5;28;01mreturn\u001b[39;00m socket\u001b[38;5;241m.\u001b[39mcreate_connection((host, port), timeout,\n\u001b[1;32m    313\u001b[0m                                 \u001b[38;5;28mself\u001b[39m\u001b[38;5;241m.\u001b[39msource_address)\n",
      "File \u001b[0;32m~/anaconda3/lib/python3.11/socket.py:851\u001b[0m, in \u001b[0;36mcreate_connection\u001b[0;34m(address, timeout, source_address, all_errors)\u001b[0m\n\u001b[1;32m    849\u001b[0m \u001b[38;5;28;01mtry\u001b[39;00m:\n\u001b[1;32m    850\u001b[0m     \u001b[38;5;28;01mif\u001b[39;00m \u001b[38;5;129;01mnot\u001b[39;00m all_errors:\n\u001b[0;32m--> 851\u001b[0m         \u001b[38;5;28;01mraise\u001b[39;00m exceptions[\u001b[38;5;241m0\u001b[39m]\n\u001b[1;32m    852\u001b[0m     \u001b[38;5;28;01mraise\u001b[39;00m ExceptionGroup(\u001b[38;5;124m\"\u001b[39m\u001b[38;5;124mcreate_connection failed\u001b[39m\u001b[38;5;124m\"\u001b[39m, exceptions)\n\u001b[1;32m    853\u001b[0m \u001b[38;5;28;01mfinally\u001b[39;00m:\n\u001b[1;32m    854\u001b[0m     \u001b[38;5;66;03m# Break explicitly a reference cycle\u001b[39;00m\n",
      "File \u001b[0;32m~/anaconda3/lib/python3.11/socket.py:836\u001b[0m, in \u001b[0;36mcreate_connection\u001b[0;34m(address, timeout, source_address, all_errors)\u001b[0m\n\u001b[1;32m    834\u001b[0m \u001b[38;5;28;01mif\u001b[39;00m source_address:\n\u001b[1;32m    835\u001b[0m     sock\u001b[38;5;241m.\u001b[39mbind(source_address)\n\u001b[0;32m--> 836\u001b[0m sock\u001b[38;5;241m.\u001b[39mconnect(sa)\n\u001b[1;32m    837\u001b[0m \u001b[38;5;66;03m# Break explicitly a reference cycle\u001b[39;00m\n\u001b[1;32m    838\u001b[0m exceptions\u001b[38;5;241m.\u001b[39mclear()\n",
      "\u001b[0;31mOSError\u001b[0m: [Errno 101] Network is unreachable"
     ]
    }
   ],
   "source": [
    "\n",
    "t_end = time.time()\n",
    "execution_time = t_end- t_start\n",
    "execution_time_str = format_execution_time(execution_time)\n",
    "print_log( \"程序完整运行运行时间为： \" + execution_time_str + \"\\n\")\n",
    "\n",
    "\n",
    "print_log('尝试打包文件',color=colors.HEADER)\n",
    "\n",
    "# 获取 A1 到 A30 开头的 png 文件（使用 glob 和列表推导）\n",
    "all_png_file = []\n",
    "for i in range(1, 31):\n",
    "    pattern = os.path.join(png_dir, f\"A{i}*.png\")\n",
    "    matched_files = glob.glob(pattern)\n",
    "    all_png_file.extend(matched_files)\n",
    "\n",
    "file_paths = all_png_file[:30]\n",
    "file_paths.append(SNR_file)\n",
    "\n",
    "# 构造邮件正文\n",
    "email_content = '该程序运行成功\\n'\n",
    "email_content += f'源名：{sourcename_mask}\\n'\n",
    "email_content += f'png文件路径：{png_dir}\\n'\n",
    "\n",
    "# 发送邮件\n",
    "send_email(email_content, file_paths)\n",
    "\n",
    "print_program_message('end')"
   ]
  }
 ],
 "metadata": {
  "kernelspec": {
   "display_name": "base",
   "language": "python",
   "name": "python3"
  },
  "language_info": {
   "codemirror_mode": {
    "name": "ipython",
    "version": 3
   },
   "file_extension": ".py",
   "mimetype": "text/x-python",
   "name": "python",
   "nbconvert_exporter": "python",
   "pygments_lexer": "ipython3",
   "version": "3.11.3"
  }
 },
 "nbformat": 4,
 "nbformat_minor": 2
}
